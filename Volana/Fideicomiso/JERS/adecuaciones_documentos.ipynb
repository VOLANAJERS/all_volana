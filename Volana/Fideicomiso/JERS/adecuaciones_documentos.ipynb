{
 "cells": [
  {
   "cell_type": "code",
   "execution_count": 2,
   "id": "85cfaadf",
   "metadata": {},
   "outputs": [],
   "source": [
    "import pandas as pd\n",
    "import numpy as np\n",
    "import warnings\n",
    "from tqdm import tqdm\n",
    "warnings.filterwarnings(\"ignore\")"
   ]
  },
  {
   "cell_type": "code",
   "execution_count": 3,
   "id": "41552d33",
   "metadata": {},
   "outputs": [],
   "source": [
    "fecha = '11_17_23'"
   ]
  },
  {
   "cell_type": "code",
   "execution_count": 30,
   "id": "0ee639e8",
   "metadata": {},
   "outputs": [
    {
     "name": "stdout",
     "output_type": "stream",
     "text": [
      "(10909, 28)\n",
      "Todo bien con DEU\n"
     ]
    },
    {
     "data": {
      "text/html": [
       "<div>\n",
       "<style scoped>\n",
       "    .dataframe tbody tr th:only-of-type {\n",
       "        vertical-align: middle;\n",
       "    }\n",
       "\n",
       "    .dataframe tbody tr th {\n",
       "        vertical-align: top;\n",
       "    }\n",
       "\n",
       "    .dataframe thead th {\n",
       "        text-align: right;\n",
       "    }\n",
       "</style>\n",
       "<table border=\"1\" class=\"dataframe\">\n",
       "  <thead>\n",
       "    <tr style=\"text-align: right;\">\n",
       "      <th></th>\n",
       "      <th>Clave Referencia</th>\n",
       "      <th>tipo distribuidor</th>\n",
       "      <th>Tipo Operación</th>\n",
       "      <th>Contratante</th>\n",
       "      <th>Paterno Deudor</th>\n",
       "      <th>Materno Contratante</th>\n",
       "      <th>Nombre Contratante</th>\n",
       "      <th>Tipo de Persona</th>\n",
       "      <th>RFC</th>\n",
       "      <th>Dirección</th>\n",
       "      <th>...</th>\n",
       "      <th>Crédito</th>\n",
       "      <th>Anexo</th>\n",
       "      <th>Monto Contrato</th>\n",
       "      <th>Frecuencia de Pago</th>\n",
       "      <th>Pago Periódico</th>\n",
       "      <th>Monto Pagare</th>\n",
       "      <th>Tasa</th>\n",
       "      <th>Fecha de nacimiento contratante</th>\n",
       "      <th>Sexo</th>\n",
       "      <th>CURP</th>\n",
       "    </tr>\n",
       "  </thead>\n",
       "  <tbody>\n",
       "    <tr>\n",
       "      <th>0</th>\n",
       "      <td>1</td>\n",
       "      <td>CLUB</td>\n",
       "      <td>6</td>\n",
       "      <td>1</td>\n",
       "      <td>DIAZ</td>\n",
       "      <td>FLORES</td>\n",
       "      <td>MARIA DE LOS ANGELES</td>\n",
       "      <td>PF</td>\n",
       "      <td>DIFA770122</td>\n",
       "      <td>SAN BERNARDINO no ext.14   Cofradia de la Luz</td>\n",
       "      <td>...</td>\n",
       "      <td>1</td>\n",
       "      <td>N</td>\n",
       "      <td>62000</td>\n",
       "      <td>Quincenal</td>\n",
       "      <td>0</td>\n",
       "      <td>62000</td>\n",
       "      <td>NaN</td>\n",
       "      <td>1977-01-22</td>\n",
       "      <td>FEMENINO</td>\n",
       "      <td>DIFA770102MJCZLN08</td>\n",
       "    </tr>\n",
       "  </tbody>\n",
       "</table>\n",
       "<p>1 rows × 28 columns</p>\n",
       "</div>"
      ],
      "text/plain": [
       "   Clave Referencia tipo distribuidor  Tipo Operación  Contratante  \\\n",
       "0                 1              CLUB               6            1   \n",
       "\n",
       "  Paterno Deudor Materno Contratante    Nombre Contratante Tipo de Persona  \\\n",
       "0           DIAZ              FLORES  MARIA DE LOS ANGELES              PF   \n",
       "\n",
       "          RFC                                      Dirección  ... Crédito  \\\n",
       "0  DIFA770122  SAN BERNARDINO no ext.14   Cofradia de la Luz  ...       1   \n",
       "\n",
       "   Anexo Monto Contrato  Frecuencia de Pago Pago Periódico Monto Pagare Tasa  \\\n",
       "0      N          62000           Quincenal              0        62000  NaN   \n",
       "\n",
       "   Fecha de nacimiento contratante      Sexo                CURP  \n",
       "0                       1977-01-22  FEMENINO  DIFA770102MJCZLN08  \n",
       "\n",
       "[1 rows x 28 columns]"
      ]
     },
     "execution_count": 30,
     "metadata": {},
     "output_type": "execute_result"
    }
   ],
   "source": [
    "DEU = pd.read_csv(f\"./data/{fecha}/DEU_{fecha}.csv\")\n",
    "DEU_id = DEU['Contratante'].unique()\n",
    "print(DEU.shape)\n",
    "for name in DEU.select_dtypes(include=['object']):\n",
    "    DEU[name] = DEU[name].str.replace(\"|\", \" \")\n",
    "print(\"Hay que revisar DEU\" if (DEU.isna().any(0).sum() > 2) else \"Todo bien con DEU\")\n",
    "DEU.head(1)"
   ]
  },
  {
   "cell_type": "code",
   "execution_count": 31,
   "id": "cdf2a1df",
   "metadata": {},
   "outputs": [
    {
     "data": {
      "text/plain": [
       "Index(['Clave Referencia', 'tipo distribuidor', 'Tipo Operación',\n",
       "       'Contratante', 'Paterno Deudor', 'Materno Contratante',\n",
       "       'Nombre Contratante', 'Tipo de Persona', 'RFC', 'Dirección', 'Ciudad',\n",
       "       'CP', 'Estado', 'Email', 'Teléfono', 'Fecha Firma Contrato',\n",
       "       'Fecha Vencimiento Contrato', 'Plazo', 'Crédito', 'Anexo',\n",
       "       'Monto Contrato', 'Frecuencia de Pago', 'Pago Periódico',\n",
       "       'Monto Pagare', 'Tasa', 'Fecha de nacimiento contratante', 'Sexo',\n",
       "       'CURP'],\n",
       "      dtype='object')"
      ]
     },
     "execution_count": 31,
     "metadata": {},
     "output_type": "execute_result"
    }
   ],
   "source": [
    "DEU.columns"
   ]
  },
  {
   "cell_type": "code",
   "execution_count": 6,
   "id": "eb87a795",
   "metadata": {},
   "outputs": [],
   "source": [
    "DEU.to_csv(f'./data/{fecha}/archivos_{fecha}/DEU_{fecha}.txt', sep ='|', index = False, header = False)"
   ]
  },
  {
   "cell_type": "markdown",
   "id": "50a11f52",
   "metadata": {},
   "source": [
    "## MOVA"
   ]
  },
  {
   "cell_type": "code",
   "execution_count": 13,
   "id": "05152af3",
   "metadata": {},
   "outputs": [
    {
     "name": "stdout",
     "output_type": "stream",
     "text": [
      "Todo bien con MOVA\n",
      "(3473, 8)\n"
     ]
    },
    {
     "data": {
      "text/html": [
       "<div>\n",
       "<style scoped>\n",
       "    .dataframe tbody tr th:only-of-type {\n",
       "        vertical-align: middle;\n",
       "    }\n",
       "\n",
       "    .dataframe tbody tr th {\n",
       "        vertical-align: top;\n",
       "    }\n",
       "\n",
       "    .dataframe thead th {\n",
       "        text-align: right;\n",
       "    }\n",
       "</style>\n",
       "<table border=\"1\" class=\"dataframe\">\n",
       "  <thead>\n",
       "    <tr style=\"text-align: right;\">\n",
       "      <th></th>\n",
       "      <th>Contrato</th>\n",
       "      <th>Anexo</th>\n",
       "      <th>Número de documento</th>\n",
       "      <th>Fecha Vencimiento</th>\n",
       "      <th>Monto Capital</th>\n",
       "      <th>Monto intérés</th>\n",
       "      <th>Monto IVA</th>\n",
       "      <th>Tipo de Movimiento</th>\n",
       "    </tr>\n",
       "  </thead>\n",
       "  <tbody>\n",
       "    <tr>\n",
       "      <th>0</th>\n",
       "      <td>81210</td>\n",
       "      <td>N</td>\n",
       "      <td>81210</td>\n",
       "      <td>2021-10-25</td>\n",
       "      <td>34000.0</td>\n",
       "      <td>8245.12</td>\n",
       "      <td>1319.22</td>\n",
       "      <td>FAC</td>\n",
       "    </tr>\n",
       "  </tbody>\n",
       "</table>\n",
       "</div>"
      ],
      "text/plain": [
       "   Contrato Anexo  Número de documento Fecha Vencimiento  Monto Capital  \\\n",
       "0     81210     N                81210        2021-10-25        34000.0   \n",
       "\n",
       "   Monto intérés  Monto IVA Tipo de Movimiento  \n",
       "0        8245.12    1319.22                FAC  "
      ]
     },
     "execution_count": 13,
     "metadata": {},
     "output_type": "execute_result"
    }
   ],
   "source": [
    "MOVA = pd.read_csv(f\"./data/{fecha}/MOVA_{fecha}.csv\")\n",
    "MOVA['Fecha Vencimiento'] = MOVA['Fecha Vencimiento'].fillna(\"'2099-12-31'\")\n",
    "print(\"Hay que revisar MOVa\" if (MOVA.isna().any(0).sum() > 0) else \"Todo bien con MOVA\")\n",
    "MOVA_id = MOVA['Contrato']\n",
    "print(MOVA.shape)\n",
    "MOVA.head(1)"
   ]
  },
  {
   "cell_type": "code",
   "execution_count": 9,
   "id": "c548e854",
   "metadata": {},
   "outputs": [],
   "source": [
    "MOVA = MOVA.loc[[mi in DEU_id for mi in MOVA_id]]"
   ]
  },
  {
   "cell_type": "code",
   "execution_count": 10,
   "id": "3c8a36bd",
   "metadata": {},
   "outputs": [],
   "source": [
    "MOVA = MOVA.drop_duplicates('Contrato')"
   ]
  },
  {
   "cell_type": "code",
   "execution_count": 11,
   "id": "57ac3bfb",
   "metadata": {},
   "outputs": [
    {
     "data": {
      "text/plain": [
       "array([], dtype=int64)"
      ]
     },
     "execution_count": 11,
     "metadata": {},
     "output_type": "execute_result"
    }
   ],
   "source": [
    "np.setdiff1d(MOVA['Contrato'], DEU_id)"
   ]
  },
  {
   "cell_type": "code",
   "execution_count": 87,
   "id": "b86eec5a",
   "metadata": {},
   "outputs": [],
   "source": [
    "#MOVA['Número de documento'] = MOVA['Número de documento'].str.replace(\"'\", \"\")"
   ]
  },
  {
   "cell_type": "code",
   "execution_count": 5,
   "id": "db2611b1",
   "metadata": {},
   "outputs": [
    {
     "data": {
      "text/plain": [
       "Index(['Contrato', 'Anexo', 'Número de documento', 'Fecha Vencimiento',\n",
       "       'Monto Capital', 'Monto intérés', 'Monto IVA', 'Tipo de Movimiento'],\n",
       "      dtype='object')"
      ]
     },
     "execution_count": 5,
     "metadata": {},
     "output_type": "execute_result"
    }
   ],
   "source": [
    "MOVA.columns"
   ]
  },
  {
   "cell_type": "code",
   "execution_count": 12,
   "id": "986cd697",
   "metadata": {},
   "outputs": [
    {
     "name": "stderr",
     "output_type": "stream",
     "text": [
      "2247it [00:02, 1037.12it/s]\n"
     ]
    }
   ],
   "source": [
    "new_mova = []\n",
    "for row in tqdm(MOVA.iterrows()):\n",
    "    #new_mova = pd.concat([new_mova, row[1]], axis = 1)\n",
    "    #new_mova.append(row[1])\n",
    "    num = 16\n",
    "    for i in range(1, num + 1):\n",
    "        new_row = row[1].copy()\n",
    "        new_row['Número de documento'] = str(new_row['Número de documento']) + \"_\"+str(i)\n",
    "        new_row['Monto Capital'] = new_row['Monto Capital'] / num\n",
    "        new_row['Monto intérés'] = new_row['Monto intérés'] / num\n",
    "        new_row['Monto IVA'] = new_row['Monto IVA'] / num\n",
    "        #new_mova = pd.concat([new_mova, new_row], axis = 1)\n",
    "        new_mova.append(new_row)"
   ]
  },
  {
   "cell_type": "code",
   "execution_count": 13,
   "id": "3ac61f95",
   "metadata": {},
   "outputs": [
    {
     "data": {
      "text/html": [
       "<div>\n",
       "<style scoped>\n",
       "    .dataframe tbody tr th:only-of-type {\n",
       "        vertical-align: middle;\n",
       "    }\n",
       "\n",
       "    .dataframe tbody tr th {\n",
       "        vertical-align: top;\n",
       "    }\n",
       "\n",
       "    .dataframe thead th {\n",
       "        text-align: right;\n",
       "    }\n",
       "</style>\n",
       "<table border=\"1\" class=\"dataframe\">\n",
       "  <thead>\n",
       "    <tr style=\"text-align: right;\">\n",
       "      <th></th>\n",
       "      <th>Contrato</th>\n",
       "      <th>Anexo</th>\n",
       "      <th>Número de documento</th>\n",
       "      <th>Fecha Vencimiento</th>\n",
       "      <th>Monto Capital</th>\n",
       "      <th>Monto intérés</th>\n",
       "      <th>Monto IVA</th>\n",
       "      <th>Tipo de Movimiento</th>\n",
       "    </tr>\n",
       "  </thead>\n",
       "  <tbody>\n",
       "    <tr>\n",
       "      <th>0</th>\n",
       "      <td>81210</td>\n",
       "      <td>N</td>\n",
       "      <td>81210_1</td>\n",
       "      <td>2021-10-25</td>\n",
       "      <td>2125.0</td>\n",
       "      <td>515.32</td>\n",
       "      <td>82.45125</td>\n",
       "      <td>FAC</td>\n",
       "    </tr>\n",
       "    <tr>\n",
       "      <th>0</th>\n",
       "      <td>81210</td>\n",
       "      <td>N</td>\n",
       "      <td>81210_2</td>\n",
       "      <td>2021-10-25</td>\n",
       "      <td>2125.0</td>\n",
       "      <td>515.32</td>\n",
       "      <td>82.45125</td>\n",
       "      <td>FAC</td>\n",
       "    </tr>\n",
       "    <tr>\n",
       "      <th>0</th>\n",
       "      <td>81210</td>\n",
       "      <td>N</td>\n",
       "      <td>81210_3</td>\n",
       "      <td>2021-10-25</td>\n",
       "      <td>2125.0</td>\n",
       "      <td>515.32</td>\n",
       "      <td>82.45125</td>\n",
       "      <td>FAC</td>\n",
       "    </tr>\n",
       "    <tr>\n",
       "      <th>0</th>\n",
       "      <td>81210</td>\n",
       "      <td>N</td>\n",
       "      <td>81210_4</td>\n",
       "      <td>2021-10-25</td>\n",
       "      <td>2125.0</td>\n",
       "      <td>515.32</td>\n",
       "      <td>82.45125</td>\n",
       "      <td>FAC</td>\n",
       "    </tr>\n",
       "    <tr>\n",
       "      <th>0</th>\n",
       "      <td>81210</td>\n",
       "      <td>N</td>\n",
       "      <td>81210_5</td>\n",
       "      <td>2021-10-25</td>\n",
       "      <td>2125.0</td>\n",
       "      <td>515.32</td>\n",
       "      <td>82.45125</td>\n",
       "      <td>FAC</td>\n",
       "    </tr>\n",
       "  </tbody>\n",
       "</table>\n",
       "</div>"
      ],
      "text/plain": [
       "   Contrato Anexo Número de documento Fecha Vencimiento  Monto Capital  \\\n",
       "0     81210     N             81210_1        2021-10-25         2125.0   \n",
       "0     81210     N             81210_2        2021-10-25         2125.0   \n",
       "0     81210     N             81210_3        2021-10-25         2125.0   \n",
       "0     81210     N             81210_4        2021-10-25         2125.0   \n",
       "0     81210     N             81210_5        2021-10-25         2125.0   \n",
       "\n",
       "   Monto intérés  Monto IVA Tipo de Movimiento  \n",
       "0         515.32   82.45125                FAC  \n",
       "0         515.32   82.45125                FAC  \n",
       "0         515.32   82.45125                FAC  \n",
       "0         515.32   82.45125                FAC  \n",
       "0         515.32   82.45125                FAC  "
      ]
     },
     "execution_count": 13,
     "metadata": {},
     "output_type": "execute_result"
    }
   ],
   "source": [
    "MOVA = pd.DataFrame(new_mova)\n",
    "MOVA.head()"
   ]
  },
  {
   "cell_type": "code",
   "execution_count": 14,
   "id": "b1d8dbab",
   "metadata": {},
   "outputs": [],
   "source": [
    "MOVA['Fecha Vencimiento'] = MOVA['Fecha Vencimiento'].str.replace(\"'\", \"\")"
   ]
  },
  {
   "cell_type": "code",
   "execution_count": 14,
   "id": "9e03ff32",
   "metadata": {},
   "outputs": [
    {
     "data": {
      "text/html": [
       "<div>\n",
       "<style scoped>\n",
       "    .dataframe tbody tr th:only-of-type {\n",
       "        vertical-align: middle;\n",
       "    }\n",
       "\n",
       "    .dataframe tbody tr th {\n",
       "        vertical-align: top;\n",
       "    }\n",
       "\n",
       "    .dataframe thead th {\n",
       "        text-align: right;\n",
       "    }\n",
       "</style>\n",
       "<table border=\"1\" class=\"dataframe\">\n",
       "  <thead>\n",
       "    <tr style=\"text-align: right;\">\n",
       "      <th></th>\n",
       "      <th>Contrato</th>\n",
       "      <th>Anexo</th>\n",
       "      <th>Número de documento</th>\n",
       "      <th>Fecha Vencimiento</th>\n",
       "      <th>Monto Capital</th>\n",
       "      <th>Monto intérés</th>\n",
       "      <th>Monto IVA</th>\n",
       "      <th>Tipo de Movimiento</th>\n",
       "    </tr>\n",
       "  </thead>\n",
       "  <tbody>\n",
       "    <tr>\n",
       "      <th>0</th>\n",
       "      <td>81210</td>\n",
       "      <td>N</td>\n",
       "      <td>81210</td>\n",
       "      <td>2021-10-25</td>\n",
       "      <td>34000.00</td>\n",
       "      <td>8245.12</td>\n",
       "      <td>1319.22</td>\n",
       "      <td>FAC</td>\n",
       "    </tr>\n",
       "    <tr>\n",
       "      <th>1</th>\n",
       "      <td>81274</td>\n",
       "      <td>N</td>\n",
       "      <td>81274</td>\n",
       "      <td>2021-10-19</td>\n",
       "      <td>54000.00</td>\n",
       "      <td>7373.32</td>\n",
       "      <td>1179.74</td>\n",
       "      <td>FAC</td>\n",
       "    </tr>\n",
       "    <tr>\n",
       "      <th>2</th>\n",
       "      <td>81352</td>\n",
       "      <td>N</td>\n",
       "      <td>81352</td>\n",
       "      <td>2021-10-27</td>\n",
       "      <td>33000.00</td>\n",
       "      <td>7867.22</td>\n",
       "      <td>1258.74</td>\n",
       "      <td>FAC</td>\n",
       "    </tr>\n",
       "    <tr>\n",
       "      <th>3</th>\n",
       "      <td>81425</td>\n",
       "      <td>N</td>\n",
       "      <td>81425</td>\n",
       "      <td>2021-11-08</td>\n",
       "      <td>32000.00</td>\n",
       "      <td>7630.24</td>\n",
       "      <td>1220.84</td>\n",
       "      <td>FAC</td>\n",
       "    </tr>\n",
       "    <tr>\n",
       "      <th>4</th>\n",
       "      <td>81466</td>\n",
       "      <td>N</td>\n",
       "      <td>81466</td>\n",
       "      <td>2021-10-21</td>\n",
       "      <td>35000.00</td>\n",
       "      <td>8341.18</td>\n",
       "      <td>1334.59</td>\n",
       "      <td>FAC</td>\n",
       "    </tr>\n",
       "    <tr>\n",
       "      <th>...</th>\n",
       "      <td>...</td>\n",
       "      <td>...</td>\n",
       "      <td>...</td>\n",
       "      <td>...</td>\n",
       "      <td>...</td>\n",
       "      <td>...</td>\n",
       "      <td>...</td>\n",
       "      <td>...</td>\n",
       "    </tr>\n",
       "    <tr>\n",
       "      <th>3468</th>\n",
       "      <td>169366</td>\n",
       "      <td>N</td>\n",
       "      <td>169366</td>\n",
       "      <td>2024-05-01</td>\n",
       "      <td>73018.84</td>\n",
       "      <td>18859.42</td>\n",
       "      <td>3017.74</td>\n",
       "      <td>FAC</td>\n",
       "    </tr>\n",
       "    <tr>\n",
       "      <th>3469</th>\n",
       "      <td>169384</td>\n",
       "      <td>N</td>\n",
       "      <td>169384</td>\n",
       "      <td>2024-03-06</td>\n",
       "      <td>16993.50</td>\n",
       "      <td>2329.80</td>\n",
       "      <td>372.70</td>\n",
       "      <td>FAC</td>\n",
       "    </tr>\n",
       "    <tr>\n",
       "      <th>3470</th>\n",
       "      <td>169388</td>\n",
       "      <td>N</td>\n",
       "      <td>169388</td>\n",
       "      <td>2023-12-27</td>\n",
       "      <td>34294.34</td>\n",
       "      <td>2111.79</td>\n",
       "      <td>337.87</td>\n",
       "      <td>FAC</td>\n",
       "    </tr>\n",
       "    <tr>\n",
       "      <th>3471</th>\n",
       "      <td>169405</td>\n",
       "      <td>N</td>\n",
       "      <td>169405</td>\n",
       "      <td>2024-03-07</td>\n",
       "      <td>43000.00</td>\n",
       "      <td>10848.10</td>\n",
       "      <td>1735.90</td>\n",
       "      <td>FAC</td>\n",
       "    </tr>\n",
       "    <tr>\n",
       "      <th>3472</th>\n",
       "      <td>169427</td>\n",
       "      <td>N</td>\n",
       "      <td>169427</td>\n",
       "      <td>2024-03-07</td>\n",
       "      <td>127000.00</td>\n",
       "      <td>16544.90</td>\n",
       "      <td>2647.10</td>\n",
       "      <td>FAC</td>\n",
       "    </tr>\n",
       "  </tbody>\n",
       "</table>\n",
       "<p>3473 rows × 8 columns</p>\n",
       "</div>"
      ],
      "text/plain": [
       "      Contrato Anexo  Número de documento Fecha Vencimiento  Monto Capital  \\\n",
       "0        81210     N                81210        2021-10-25       34000.00   \n",
       "1        81274     N                81274        2021-10-19       54000.00   \n",
       "2        81352     N                81352        2021-10-27       33000.00   \n",
       "3        81425     N                81425        2021-11-08       32000.00   \n",
       "4        81466     N                81466        2021-10-21       35000.00   \n",
       "...        ...   ...                  ...               ...            ...   \n",
       "3468    169366     N               169366        2024-05-01       73018.84   \n",
       "3469    169384     N               169384        2024-03-06       16993.50   \n",
       "3470    169388     N               169388        2023-12-27       34294.34   \n",
       "3471    169405     N               169405        2024-03-07       43000.00   \n",
       "3472    169427     N               169427        2024-03-07      127000.00   \n",
       "\n",
       "      Monto intérés  Monto IVA Tipo de Movimiento  \n",
       "0           8245.12    1319.22                FAC  \n",
       "1           7373.32    1179.74                FAC  \n",
       "2           7867.22    1258.74                FAC  \n",
       "3           7630.24    1220.84                FAC  \n",
       "4           8341.18    1334.59                FAC  \n",
       "...             ...        ...                ...  \n",
       "3468       18859.42    3017.74                FAC  \n",
       "3469        2329.80     372.70                FAC  \n",
       "3470        2111.79     337.87                FAC  \n",
       "3471       10848.10    1735.90                FAC  \n",
       "3472       16544.90    2647.10                FAC  \n",
       "\n",
       "[3473 rows x 8 columns]"
      ]
     },
     "execution_count": 14,
     "metadata": {},
     "output_type": "execute_result"
    }
   ],
   "source": [
    "MOVA"
   ]
  },
  {
   "cell_type": "code",
   "execution_count": 15,
   "id": "c66e2525",
   "metadata": {},
   "outputs": [
    {
     "data": {
      "text/plain": [
       "(35952, 8)"
      ]
     },
     "execution_count": 15,
     "metadata": {},
     "output_type": "execute_result"
    }
   ],
   "source": [
    "MOVA.shape"
   ]
  },
  {
   "cell_type": "code",
   "execution_count": 16,
   "id": "638f87c9",
   "metadata": {},
   "outputs": [
    {
     "data": {
      "text/plain": [
       "35952"
      ]
     },
     "execution_count": 16,
     "metadata": {},
     "output_type": "execute_result"
    }
   ],
   "source": [
    "MOVA['Número de documento'].nunique()"
   ]
  },
  {
   "cell_type": "code",
   "execution_count": 17,
   "id": "660a7525",
   "metadata": {},
   "outputs": [],
   "source": [
    "MOVA.to_csv(f'./data/{fecha}/archivos_{fecha}/MOVA_{fecha}.txt', sep ='|', index = False, header = False)"
   ]
  },
  {
   "cell_type": "markdown",
   "id": "265fd4f9",
   "metadata": {},
   "source": [
    "## MOVO"
   ]
  },
  {
   "cell_type": "code",
   "execution_count": 11,
   "id": "ca128445",
   "metadata": {},
   "outputs": [
    {
     "name": "stdout",
     "output_type": "stream",
     "text": [
      "Todo bien con MOVO\n",
      "(292691, 11)\n"
     ]
    },
    {
     "data": {
      "text/html": [
       "<div>\n",
       "<style scoped>\n",
       "    .dataframe tbody tr th:only-of-type {\n",
       "        vertical-align: middle;\n",
       "    }\n",
       "\n",
       "    .dataframe tbody tr th {\n",
       "        vertical-align: top;\n",
       "    }\n",
       "\n",
       "    .dataframe thead th {\n",
       "        text-align: right;\n",
       "    }\n",
       "</style>\n",
       "<table border=\"1\" class=\"dataframe\">\n",
       "  <thead>\n",
       "    <tr style=\"text-align: right;\">\n",
       "      <th></th>\n",
       "      <th>Contrato</th>\n",
       "      <th>Anexo</th>\n",
       "      <th>Número de documento</th>\n",
       "      <th>Fecha Depósito</th>\n",
       "      <th>Fecha Aplicación</th>\n",
       "      <th>Monto de Principal</th>\n",
       "      <th>Monto de interés</th>\n",
       "      <th>Monto de IVA</th>\n",
       "      <th>Tipo de Movimiento</th>\n",
       "      <th>Cuenta</th>\n",
       "      <th>paymentId</th>\n",
       "    </tr>\n",
       "  </thead>\n",
       "  <tbody>\n",
       "    <tr>\n",
       "      <th>0</th>\n",
       "      <td>80782</td>\n",
       "      <td>N</td>\n",
       "      <td>80782</td>\n",
       "      <td>2021-10-04</td>\n",
       "      <td>2021-10-04</td>\n",
       "      <td>-1199.75</td>\n",
       "      <td>-103.78</td>\n",
       "      <td>-16.6</td>\n",
       "      <td>1</td>\n",
       "      <td>BANCOMER</td>\n",
       "      <td>105234</td>\n",
       "    </tr>\n",
       "  </tbody>\n",
       "</table>\n",
       "</div>"
      ],
      "text/plain": [
       "   Contrato Anexo  Número de documento Fecha Depósito Fecha Aplicación  \\\n",
       "0     80782     N                80782     2021-10-04       2021-10-04   \n",
       "\n",
       "   Monto de Principal  Monto de interés  Monto de IVA  Tipo de Movimiento  \\\n",
       "0            -1199.75           -103.78         -16.6                   1   \n",
       "\n",
       "     Cuenta  paymentId  \n",
       "0  BANCOMER     105234  "
      ]
     },
     "execution_count": 11,
     "metadata": {},
     "output_type": "execute_result"
    }
   ],
   "source": [
    "MOVO = pd.read_csv(f\"./data/{fecha}/MOVO_{fecha}.csv\")\n",
    "print(\"Hay que revisar MOVO\" if (MOVO.isna().any(0).sum() > 0) else \"Todo bien con MOVO\")\n",
    "MOVO_id = MOVO['Contrato']\n",
    "print(MOVO.shape)\n",
    "MOVO.head(1)"
   ]
  },
  {
   "cell_type": "code",
   "execution_count": 12,
   "id": "6cd31474",
   "metadata": {},
   "outputs": [
    {
     "data": {
      "text/plain": [
       "Index(['Contrato', 'Anexo', 'Número de documento', 'Fecha Depósito',\n",
       "       'Fecha Aplicación', 'Monto de Principal', 'Monto de interés',\n",
       "       'Monto de IVA', 'Tipo de Movimiento', 'Cuenta', 'paymentId'],\n",
       "      dtype='object')"
      ]
     },
     "execution_count": 12,
     "metadata": {},
     "output_type": "execute_result"
    }
   ],
   "source": [
    "MOVO.columns"
   ]
  },
  {
   "cell_type": "code",
   "execution_count": 19,
   "id": "0cd00479",
   "metadata": {},
   "outputs": [
    {
     "data": {
      "text/plain": [
       "244162"
      ]
     },
     "execution_count": 19,
     "metadata": {},
     "output_type": "execute_result"
    }
   ],
   "source": [
    "sum([mi in DEU_id for mi in MOVO_id])"
   ]
  },
  {
   "cell_type": "code",
   "execution_count": 20,
   "id": "6598ddc3",
   "metadata": {},
   "outputs": [],
   "source": [
    "MOVO = MOVO.loc[[mi in DEU_id for mi in MOVO_id]]"
   ]
  },
  {
   "cell_type": "code",
   "execution_count": 21,
   "id": "a0df7a9a",
   "metadata": {},
   "outputs": [
    {
     "data": {
      "text/plain": [
       "array([], dtype=int64)"
      ]
     },
     "execution_count": 21,
     "metadata": {},
     "output_type": "execute_result"
    }
   ],
   "source": [
    "np.setdiff1d(MOVO['Contrato'], DEU_id)"
   ]
  },
  {
   "cell_type": "code",
   "execution_count": 22,
   "id": "60a06382",
   "metadata": {},
   "outputs": [
    {
     "data": {
      "text/html": [
       "<div>\n",
       "<style scoped>\n",
       "    .dataframe tbody tr th:only-of-type {\n",
       "        vertical-align: middle;\n",
       "    }\n",
       "\n",
       "    .dataframe tbody tr th {\n",
       "        vertical-align: top;\n",
       "    }\n",
       "\n",
       "    .dataframe thead th {\n",
       "        text-align: right;\n",
       "    }\n",
       "</style>\n",
       "<table border=\"1\" class=\"dataframe\">\n",
       "  <thead>\n",
       "    <tr style=\"text-align: right;\">\n",
       "      <th></th>\n",
       "      <th>Contrato</th>\n",
       "      <th>Anexo</th>\n",
       "      <th>Número de documento</th>\n",
       "      <th>Fecha Depósito</th>\n",
       "      <th>Fecha Aplicación</th>\n",
       "      <th>Monto de Principal</th>\n",
       "      <th>Monto de interés</th>\n",
       "      <th>Monto de IVA</th>\n",
       "      <th>Tipo de Movimiento</th>\n",
       "      <th>Cuenta</th>\n",
       "      <th>paymentId</th>\n",
       "    </tr>\n",
       "  </thead>\n",
       "  <tbody>\n",
       "    <tr>\n",
       "      <th>0</th>\n",
       "      <td>80782</td>\n",
       "      <td>N</td>\n",
       "      <td>80782</td>\n",
       "      <td>2021-10-04</td>\n",
       "      <td>2021-10-04</td>\n",
       "      <td>-1199.75</td>\n",
       "      <td>-103.78</td>\n",
       "      <td>-16.60</td>\n",
       "      <td>1</td>\n",
       "      <td>BANCOMER</td>\n",
       "      <td>105234</td>\n",
       "    </tr>\n",
       "    <tr>\n",
       "      <th>1</th>\n",
       "      <td>35680</td>\n",
       "      <td>N</td>\n",
       "      <td>35680</td>\n",
       "      <td>2021-10-04</td>\n",
       "      <td>2021-10-04</td>\n",
       "      <td>-1377.44</td>\n",
       "      <td>-278.22</td>\n",
       "      <td>-44.52</td>\n",
       "      <td>1</td>\n",
       "      <td>BANCOMER</td>\n",
       "      <td>105236</td>\n",
       "    </tr>\n",
       "    <tr>\n",
       "      <th>2</th>\n",
       "      <td>53379</td>\n",
       "      <td>N</td>\n",
       "      <td>53379</td>\n",
       "      <td>2021-10-04</td>\n",
       "      <td>2021-10-04</td>\n",
       "      <td>-2297.72</td>\n",
       "      <td>-592.16</td>\n",
       "      <td>-94.74</td>\n",
       "      <td>1</td>\n",
       "      <td>BANCOMER</td>\n",
       "      <td>105239</td>\n",
       "    </tr>\n",
       "    <tr>\n",
       "      <th>3</th>\n",
       "      <td>36018</td>\n",
       "      <td>N</td>\n",
       "      <td>36018</td>\n",
       "      <td>2021-10-04</td>\n",
       "      <td>2021-10-04</td>\n",
       "      <td>-4220.76</td>\n",
       "      <td>-1726.25</td>\n",
       "      <td>-276.20</td>\n",
       "      <td>1</td>\n",
       "      <td>BANCOMER</td>\n",
       "      <td>105243</td>\n",
       "    </tr>\n",
       "    <tr>\n",
       "      <th>4</th>\n",
       "      <td>54708</td>\n",
       "      <td>N</td>\n",
       "      <td>54708</td>\n",
       "      <td>2021-10-04</td>\n",
       "      <td>2021-10-04</td>\n",
       "      <td>-2520.98</td>\n",
       "      <td>-446.68</td>\n",
       "      <td>-71.47</td>\n",
       "      <td>1</td>\n",
       "      <td>BANCOMER</td>\n",
       "      <td>105245</td>\n",
       "    </tr>\n",
       "    <tr>\n",
       "      <th>...</th>\n",
       "      <td>...</td>\n",
       "      <td>...</td>\n",
       "      <td>...</td>\n",
       "      <td>...</td>\n",
       "      <td>...</td>\n",
       "      <td>...</td>\n",
       "      <td>...</td>\n",
       "      <td>...</td>\n",
       "      <td>...</td>\n",
       "      <td>...</td>\n",
       "      <td>...</td>\n",
       "    </tr>\n",
       "    <tr>\n",
       "      <th>292685</th>\n",
       "      <td>21882</td>\n",
       "      <td>N</td>\n",
       "      <td>21882</td>\n",
       "      <td>2023-09-30</td>\n",
       "      <td>2023-10-01</td>\n",
       "      <td>-6721.70</td>\n",
       "      <td>-2898.53</td>\n",
       "      <td>-463.77</td>\n",
       "      <td>1</td>\n",
       "      <td>BANCOMER</td>\n",
       "      <td>237303</td>\n",
       "    </tr>\n",
       "    <tr>\n",
       "      <th>292687</th>\n",
       "      <td>162872</td>\n",
       "      <td>N</td>\n",
       "      <td>143062</td>\n",
       "      <td>2023-09-30</td>\n",
       "      <td>2023-10-01</td>\n",
       "      <td>-438.00</td>\n",
       "      <td>0.00</td>\n",
       "      <td>0.00</td>\n",
       "      <td>1</td>\n",
       "      <td>BANCOMER</td>\n",
       "      <td>237301</td>\n",
       "    </tr>\n",
       "    <tr>\n",
       "      <th>292688</th>\n",
       "      <td>162872</td>\n",
       "      <td>N</td>\n",
       "      <td>114048</td>\n",
       "      <td>2023-09-30</td>\n",
       "      <td>2023-10-01</td>\n",
       "      <td>-438.00</td>\n",
       "      <td>0.00</td>\n",
       "      <td>0.00</td>\n",
       "      <td>1</td>\n",
       "      <td>BANCOMER</td>\n",
       "      <td>237301</td>\n",
       "    </tr>\n",
       "    <tr>\n",
       "      <th>292689</th>\n",
       "      <td>162872</td>\n",
       "      <td>N</td>\n",
       "      <td>162415</td>\n",
       "      <td>2023-09-30</td>\n",
       "      <td>2023-10-01</td>\n",
       "      <td>-438.00</td>\n",
       "      <td>0.00</td>\n",
       "      <td>0.00</td>\n",
       "      <td>1</td>\n",
       "      <td>BANCOMER</td>\n",
       "      <td>237301</td>\n",
       "    </tr>\n",
       "    <tr>\n",
       "      <th>292690</th>\n",
       "      <td>162872</td>\n",
       "      <td>N</td>\n",
       "      <td>110524</td>\n",
       "      <td>2023-09-30</td>\n",
       "      <td>2023-10-01</td>\n",
       "      <td>-438.00</td>\n",
       "      <td>0.00</td>\n",
       "      <td>0.00</td>\n",
       "      <td>1</td>\n",
       "      <td>BANCOMER</td>\n",
       "      <td>237301</td>\n",
       "    </tr>\n",
       "  </tbody>\n",
       "</table>\n",
       "<p>244162 rows × 11 columns</p>\n",
       "</div>"
      ],
      "text/plain": [
       "        Contrato Anexo  Número de documento Fecha Depósito Fecha Aplicación  \\\n",
       "0          80782     N                80782     2021-10-04       2021-10-04   \n",
       "1          35680     N                35680     2021-10-04       2021-10-04   \n",
       "2          53379     N                53379     2021-10-04       2021-10-04   \n",
       "3          36018     N                36018     2021-10-04       2021-10-04   \n",
       "4          54708     N                54708     2021-10-04       2021-10-04   \n",
       "...          ...   ...                  ...            ...              ...   \n",
       "292685     21882     N                21882     2023-09-30       2023-10-01   \n",
       "292687    162872     N               143062     2023-09-30       2023-10-01   \n",
       "292688    162872     N               114048     2023-09-30       2023-10-01   \n",
       "292689    162872     N               162415     2023-09-30       2023-10-01   \n",
       "292690    162872     N               110524     2023-09-30       2023-10-01   \n",
       "\n",
       "        Monto de Principal  Monto de interés  Monto de IVA  \\\n",
       "0                 -1199.75           -103.78        -16.60   \n",
       "1                 -1377.44           -278.22        -44.52   \n",
       "2                 -2297.72           -592.16        -94.74   \n",
       "3                 -4220.76          -1726.25       -276.20   \n",
       "4                 -2520.98           -446.68        -71.47   \n",
       "...                    ...               ...           ...   \n",
       "292685            -6721.70          -2898.53       -463.77   \n",
       "292687             -438.00              0.00          0.00   \n",
       "292688             -438.00              0.00          0.00   \n",
       "292689             -438.00              0.00          0.00   \n",
       "292690             -438.00              0.00          0.00   \n",
       "\n",
       "        Tipo de Movimiento    Cuenta  paymentId  \n",
       "0                        1  BANCOMER     105234  \n",
       "1                        1  BANCOMER     105236  \n",
       "2                        1  BANCOMER     105239  \n",
       "3                        1  BANCOMER     105243  \n",
       "4                        1  BANCOMER     105245  \n",
       "...                    ...       ...        ...  \n",
       "292685                   1  BANCOMER     237303  \n",
       "292687                   1  BANCOMER     237301  \n",
       "292688                   1  BANCOMER     237301  \n",
       "292689                   1  BANCOMER     237301  \n",
       "292690                   1  BANCOMER     237301  \n",
       "\n",
       "[244162 rows x 11 columns]"
      ]
     },
     "execution_count": 22,
     "metadata": {},
     "output_type": "execute_result"
    }
   ],
   "source": [
    "MOVO"
   ]
  },
  {
   "cell_type": "code",
   "execution_count": 24,
   "id": "817dda3a",
   "metadata": {},
   "outputs": [],
   "source": [
    "MOVO.to_csv(f'./data/{fecha}/archivos_{fecha}/MOVO_{fecha}.txt', sep ='|', index = False, header = False)"
   ]
  },
  {
   "cell_type": "markdown",
   "id": "2694436c",
   "metadata": {},
   "source": [
    "## MOVIC"
   ]
  },
  {
   "cell_type": "code",
   "execution_count": 7,
   "id": "bd29d151",
   "metadata": {},
   "outputs": [
    {
     "name": "stdout",
     "output_type": "stream",
     "text": [
      "Todo bien con MOVIC\n",
      "(292691, 10)\n"
     ]
    },
    {
     "data": {
      "text/html": [
       "<div>\n",
       "<style scoped>\n",
       "    .dataframe tbody tr th:only-of-type {\n",
       "        vertical-align: middle;\n",
       "    }\n",
       "\n",
       "    .dataframe tbody tr th {\n",
       "        vertical-align: top;\n",
       "    }\n",
       "\n",
       "    .dataframe thead th {\n",
       "        text-align: right;\n",
       "    }\n",
       "</style>\n",
       "<table border=\"1\" class=\"dataframe\">\n",
       "  <thead>\n",
       "    <tr style=\"text-align: right;\">\n",
       "      <th></th>\n",
       "      <th>Contrato</th>\n",
       "      <th>Anexo</th>\n",
       "      <th>Número de documento</th>\n",
       "      <th>Fecha Depósito</th>\n",
       "      <th>Fecha Aplicación</th>\n",
       "      <th>Monto de Seguro Asociado</th>\n",
       "      <th>Monto de Seguro Distribuidor</th>\n",
       "      <th>Tipo de Movimiento</th>\n",
       "      <th>Cuenta</th>\n",
       "      <th>paymentId</th>\n",
       "    </tr>\n",
       "  </thead>\n",
       "  <tbody>\n",
       "    <tr>\n",
       "      <th>0</th>\n",
       "      <td>80782</td>\n",
       "      <td>N</td>\n",
       "      <td>80782</td>\n",
       "      <td>2021-10-04</td>\n",
       "      <td>2021-10-04</td>\n",
       "      <td>-50.0</td>\n",
       "      <td>-25.0</td>\n",
       "      <td>PAG</td>\n",
       "      <td>BANCOMER</td>\n",
       "      <td>105234</td>\n",
       "    </tr>\n",
       "  </tbody>\n",
       "</table>\n",
       "</div>"
      ],
      "text/plain": [
       "   Contrato Anexo  Número de documento Fecha Depósito Fecha Aplicación  \\\n",
       "0     80782     N                80782     2021-10-04       2021-10-04   \n",
       "\n",
       "   Monto de Seguro Asociado  Monto de Seguro Distribuidor Tipo de Movimiento  \\\n",
       "0                     -50.0                         -25.0                PAG   \n",
       "\n",
       "     Cuenta  paymentId  \n",
       "0  BANCOMER     105234  "
      ]
     },
     "execution_count": 7,
     "metadata": {},
     "output_type": "execute_result"
    }
   ],
   "source": [
    "MOVIC = pd.read_csv(f\"./data/{fecha}/MOVIC_{fecha}.csv\")\n",
    "print(\"Hay que revisar MOVIC\" if (MOVIC.isna().any(0).sum() > 0) else \"Todo bien con MOVIC\")\n",
    "MOVIC_id = MOVIC['Contrato']\n",
    "print(MOVIC.shape)\n",
    "MOVIC.head(1)"
   ]
  },
  {
   "cell_type": "code",
   "execution_count": 8,
   "id": "4009772e",
   "metadata": {},
   "outputs": [
    {
     "data": {
      "text/plain": [
       "Index(['Contrato', 'Anexo', 'Número de documento', 'Fecha Depósito',\n",
       "       'Fecha Aplicación', 'Monto de Seguro Asociado',\n",
       "       'Monto de Seguro Distribuidor', 'Tipo de Movimiento', 'Cuenta',\n",
       "       'paymentId'],\n",
       "      dtype='object')"
      ]
     },
     "execution_count": 8,
     "metadata": {},
     "output_type": "execute_result"
    }
   ],
   "source": [
    "MOVIC.columns"
   ]
  },
  {
   "cell_type": "code",
   "execution_count": 26,
   "id": "c34635e7",
   "metadata": {},
   "outputs": [
    {
     "data": {
      "text/plain": [
       "244162"
      ]
     },
     "execution_count": 26,
     "metadata": {},
     "output_type": "execute_result"
    }
   ],
   "source": [
    "sum([mi in DEU_id for mi in MOVIC_id])"
   ]
  },
  {
   "cell_type": "code",
   "execution_count": 27,
   "id": "89334552",
   "metadata": {},
   "outputs": [],
   "source": [
    "MOVIC = MOVIC.loc[[mi in DEU_id for mi in MOVIC_id]]"
   ]
  },
  {
   "cell_type": "code",
   "execution_count": 28,
   "id": "1ffe6361",
   "metadata": {},
   "outputs": [
    {
     "data": {
      "text/plain": [
       "array([], dtype=int64)"
      ]
     },
     "execution_count": 28,
     "metadata": {},
     "output_type": "execute_result"
    }
   ],
   "source": [
    "np.setdiff1d(MOVIC['Contrato'], DEU_id)"
   ]
  },
  {
   "cell_type": "code",
   "execution_count": 29,
   "id": "8672f7d5",
   "metadata": {},
   "outputs": [],
   "source": [
    "MOVIC.to_csv(f'./data/{fecha}/archivos_{fecha}/MOVIC_{fecha}.txt', sep ='|', index = False, header = False)"
   ]
  },
  {
   "cell_type": "code",
   "execution_count": null,
   "id": "2c45d93c",
   "metadata": {},
   "outputs": [],
   "source": []
  }
 ],
 "metadata": {
  "kernelspec": {
   "display_name": "Python 3 (ipykernel)",
   "language": "python",
   "name": "python3"
  },
  "language_info": {
   "codemirror_mode": {
    "name": "ipython",
    "version": 3
   },
   "file_extension": ".py",
   "mimetype": "text/x-python",
   "name": "python",
   "nbconvert_exporter": "python",
   "pygments_lexer": "ipython3",
   "version": "3.11.4"
  }
 },
 "nbformat": 4,
 "nbformat_minor": 5
}
