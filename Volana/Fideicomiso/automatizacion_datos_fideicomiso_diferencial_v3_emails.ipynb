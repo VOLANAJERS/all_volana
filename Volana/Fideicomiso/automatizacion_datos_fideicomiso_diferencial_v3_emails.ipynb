{
 "cells": [
  {
   "cell_type": "code",
   "execution_count": 1,
   "id": "d7da9211",
   "metadata": {},
   "outputs": [
    {
     "data": {
      "text/plain": [
       "'2024-05-09'"
      ]
     },
     "execution_count": 1,
     "metadata": {},
     "output_type": "execute_result"
    }
   ],
   "source": [
    "from datetime import datetime, timedelta\n",
    "import pandas as pd \n",
    "import datetime as dt\n",
    "import fnmatch\n",
    "import os\n",
    "import pymysql\n",
    "from sqlalchemy import create_engine\n",
    "import sys\n",
    "import json\n",
    "import numpy as np\n",
    "import warnings\n",
    "from tqdm import tqdm\n",
    "\n",
    "warnings.filterwarnings('ignore')\n",
    "\n",
    "# Obtener la fecha de hoy\n",
    "hoy = datetime.now()\n",
    "\n",
    "# Calcular la fecha de ayer\n",
    "ayer = hoy - timedelta(days=1)\n",
    "\n",
    "# Formatear la fecha como \"aaaa-mm-dd\"\n",
    "fecha_ayer_formato = ayer.strftime(\"%Y-%m-%d\")\n",
    "\n",
    "fecha_ayer_formato"
   ]
  },
  {
   "cell_type": "code",
   "execution_count": 2,
   "id": "7c51cbd5",
   "metadata": {},
   "outputs": [],
   "source": [
    "def encontrar_registros_adicionales(df1, df2, columnas_comparar):\n",
    "    \"\"\"\n",
    "    Encuentra los registros adicionales en el segundo DataFrame en comparación con el primero.\n",
    "\n",
    "    Parameters:\n",
    "    - df1: Primer DataFrame\n",
    "    - df2: Segundo DataFrame\n",
    "    - columnas_comparar: Lista de columnas en las cuales comparar los DataFrames\n",
    "\n",
    "    Returns:\n",
    "    - DataFrame con los registros adicionales en el segundo DataFrame\n",
    "    \"\"\"\n",
    "    # Realiza un merge con indicator=True\n",
    "    merged = pd.merge(df1, df2, on=columnas_comparar, how='outer', indicator=True)\n",
    "\n",
    "    # Filtra los resultados para obtener solo los registros en el segundo DataFrame\n",
    "    adicionales_df2 = merged.loc[lambda x: x['_merge'] == 'right_only']\n",
    "\n",
    "    # Elimina la columna _merge utilizada solo para la comparación\n",
    "    adicionales_df2 = adicionales_df2.drop('_merge', axis=1)\n",
    "\n",
    "    return adicionales_df2\n"
   ]
  },
  {
   "cell_type": "code",
   "execution_count": 3,
   "id": "a5defe7a",
   "metadata": {},
   "outputs": [],
   "source": [
    "cnx = pymysql.connect(host='159.89.90.197', port=3306, user='antonio_diaz', passwd=\"4nT0ni_0.dZ\",\n",
    "                           charset='utf8',db = 'volana')"
   ]
  },
  {
   "cell_type": "code",
   "execution_count": 4,
   "id": "f0a43c01",
   "metadata": {},
   "outputs": [],
   "source": [
    "path = f'./JERS/data/'\n",
    "if not os.path.exists(path + fecha_ayer_formato): \n",
    "    os.makedirs(path+ fecha_ayer_formato) "
   ]
  },
  {
   "cell_type": "markdown",
   "id": "e3f8f55c",
   "metadata": {},
   "source": [
    "**Obtener fecha más actual**"
   ]
  },
  {
   "cell_type": "code",
   "execution_count": 5,
   "id": "77fb27b6",
   "metadata": {},
   "outputs": [],
   "source": [
    "from datetime import datetime\n",
    "\n",
    "# Convierte las fechas a objetos datetime\n",
    "fechas_dt = [datetime.strptime(fecha, '%Y-%m-%d') for fecha in os.listdir(\"./JERS/data/\") if fecha != fecha_ayer_formato]\n",
    "\n",
    "# Encuentra la fecha más reciente\n",
    "ultima_fecha = max(fechas_dt)\n",
    "\n",
    "ultima_fecha = ultima_fecha.strftime('%Y-%m-%d')"
   ]
  },
  {
   "cell_type": "code",
   "execution_count": 6,
   "id": "d3862a48",
   "metadata": {},
   "outputs": [
    {
     "data": {
      "text/plain": [
       "'2024-05-06'"
      ]
     },
     "execution_count": 6,
     "metadata": {},
     "output_type": "execute_result"
    }
   ],
   "source": [
    "ultima_fecha"
   ]
  },
  {
   "cell_type": "markdown",
   "id": "bca9c809",
   "metadata": {},
   "source": [
    "# DEU"
   ]
  },
  {
   "cell_type": "code",
   "execution_count": 7,
   "id": "864d30f6",
   "metadata": {},
   "outputs": [],
   "source": [
    "cursor = cnx.cursor()\n",
    "sql_query = f\"\"\"\n",
    "            SELECT \n",
    "ids.id_distribuidor as `Clave Referencia`,\n",
    "if(ids.tipo_prestamo = 'PRESTAMO PERSONAL RED', 'RED', cd.tipo_distribuidor) as 'tipo distribuidor',\n",
    "\"6\" as `Tipo Operación`,\n",
    "ids.id_red as `Contratante`,\n",
    "IFNULL(dd.apellido_1,\"X\") as `Paterno Deudor`,\n",
    "IFNULL(dd.apellido_2,\"X\") as `Materno Contratante`,\n",
    "CONCAT(ifnull(dd.nombre_1,\"\"),\" \",ifnull(dd.nombre_2,\"\")) as `Nombre Contratante`,\n",
    "\"PF\" as `Tipo de Persona`,\n",
    "ifnull(dd.rfc,\"X\") as `RFC`,\n",
    "CONCAT(ifnull(dd.calle_y_numero,\"\"),\" \",ifnull(dd.colonia,\"\")) as `Dirección`,\n",
    "IFNULL(dd.delegacion,\"X\") as `Ciudad`,\n",
    "IFNULL(dd.cp,\"X\") as `CP`,\n",
    "IFNULL(dd.estado,\"X\") as `Estado`,\n",
    "\"N/A\" as `Email`,\n",
    "IFNULL(dd.telefono,\"X\") as `Teléfono`,\n",
    "date(cd.fecha_aut_linea) as `Fecha Firma Contrato`,\n",
    "if(cd.tipo_distribuidor = 'RED',ids.fin_credito,'2099-12-31') as `Fecha Vencimiento Contrato`,\n",
    "if(cd.tipo_distribuidor = 'RED','16','0') as `Plazo`,\n",
    "ids.id_red as `Crédito`,\n",
    "\"N\" as `Anexo`,\n",
    "cd.linea_de_credito  as `Monto Contrato`,\n",
    "if(cd.tipo_distribuidor = 'RED','Semanal','Quincenal') as `Frecuencia de Pago`,\n",
    "cd.proximo_pago_total_pago as `Pago Periódico`,\n",
    "cd.linea_de_credito as `Monto Pagare`,\n",
    "if(cd.tipo_distribuidor = 'RED',ids.tasa,\"\") AS `Tasa`,\n",
    "dd.fecha_nacimiento as `Fecha de nacimiento contratante`,\n",
    "IFNULL(dd.sexo,\"X\") as `Sexo`,\n",
    "IFNULL(dd.curp,\"X\") as `CURP`\n",
    "FROM cartera_distribuidor cd\n",
    "LEFT JOIN (\n",
    "\t\tselect \n",
    "\t\t\tca.id_distribuidor, \n",
    "            max(ca.id_red) as 'id_red', \n",
    "            max(ca.tipo_prestamo) as 'tipo_prestamo',\n",
    "            max(tasa) as 'tasa',\n",
    "            max(fin_credito) as 'fin_credito'\n",
    "\t\t\tfrom (\n",
    "\t\t\t\tselect \n",
    "\t\t\t\tif(tipo_prestamo = 'PRESTAMO PERSONAL RED', id_distribuidor_linea_de_credito, id_distribuidor) as 'id_distribuidor', \n",
    "\t\t\t\tid_distribuidor as 'id_red',\n",
    "\t\t\t\ttipo_prestamo,\n",
    "                tasa,\n",
    "                fin_credito\n",
    "\t\t\t\tfrom colocacion_asociado\n",
    "\t\t\t) as ca \n",
    "\t\tgroup by ca.id_distribuidor\n",
    ") ids on cd.id_distribuidor = ids.id_distribuidor\n",
    "LEFT JOIN demograficos_distribuidores dd on ids.id_distribuidor = dd.id\n",
    "WHERE fecha = '{fecha_ayer_formato}' and \n",
    "ids.id_distribuidor IS NOT NULL and\n",
    "dd.nombre_1 IS NOT NULL;\n",
    "            \"\"\"\n",
    "cursor.execute(sql_query)\n",
    "DEU = cursor.fetchall()"
   ]
  },
  {
   "cell_type": "code",
   "execution_count": 8,
   "id": "70befa8b",
   "metadata": {},
   "outputs": [],
   "source": [
    "DEU = pd.DataFrame(DEU,columns = ['Clave Referencia', 'tipo distribuidor', 'Tipo Operación',\n",
    "       'Contratante', 'Paterno Deudor', 'Materno Contratante',\n",
    "       'Nombre Contratante', 'Tipo de Persona', 'RFC', 'Dirección', 'Ciudad',\n",
    "       'CP', 'Estado', 'Email', 'Teléfono', 'Fecha Firma Contrato',\n",
    "       'Fecha Vencimiento Contrato', 'Plazo', 'Crédito', 'Anexo',\n",
    "       'Monto Contrato', 'Frecuencia de Pago', 'Pago Periódico',\n",
    "       'Monto Pagare', 'Tasa', 'Fecha de nacimiento contratante', 'Sexo',\n",
    "       'CURP'])"
   ]
  },
  {
   "cell_type": "code",
   "execution_count": 9,
   "id": "65e527af",
   "metadata": {},
   "outputs": [
    {
     "data": {
      "text/html": [
       "<div>\n",
       "<style scoped>\n",
       "    .dataframe tbody tr th:only-of-type {\n",
       "        vertical-align: middle;\n",
       "    }\n",
       "\n",
       "    .dataframe tbody tr th {\n",
       "        vertical-align: top;\n",
       "    }\n",
       "\n",
       "    .dataframe thead th {\n",
       "        text-align: right;\n",
       "    }\n",
       "</style>\n",
       "<table border=\"1\" class=\"dataframe\">\n",
       "  <thead>\n",
       "    <tr style=\"text-align: right;\">\n",
       "      <th></th>\n",
       "      <th>Clave Referencia</th>\n",
       "      <th>tipo distribuidor</th>\n",
       "      <th>Tipo Operación</th>\n",
       "      <th>Contratante</th>\n",
       "      <th>Paterno Deudor</th>\n",
       "      <th>Materno Contratante</th>\n",
       "      <th>Nombre Contratante</th>\n",
       "      <th>Tipo de Persona</th>\n",
       "      <th>RFC</th>\n",
       "      <th>Dirección</th>\n",
       "      <th>...</th>\n",
       "      <th>Crédito</th>\n",
       "      <th>Anexo</th>\n",
       "      <th>Monto Contrato</th>\n",
       "      <th>Frecuencia de Pago</th>\n",
       "      <th>Pago Periódico</th>\n",
       "      <th>Monto Pagare</th>\n",
       "      <th>Tasa</th>\n",
       "      <th>Fecha de nacimiento contratante</th>\n",
       "      <th>Sexo</th>\n",
       "      <th>CURP</th>\n",
       "    </tr>\n",
       "  </thead>\n",
       "  <tbody>\n",
       "    <tr>\n",
       "      <th>0</th>\n",
       "      <td>1</td>\n",
       "      <td>CLUB</td>\n",
       "      <td>6</td>\n",
       "      <td>1</td>\n",
       "      <td>DIAZ</td>\n",
       "      <td>FLORES</td>\n",
       "      <td>MARIA DE LOS ANGELES</td>\n",
       "      <td>PF</td>\n",
       "      <td>DIFA770122</td>\n",
       "      <td>SAN BERNARDINO no ext.14   Cofradia de la Luz</td>\n",
       "      <td>...</td>\n",
       "      <td>1</td>\n",
       "      <td>N</td>\n",
       "      <td>62000</td>\n",
       "      <td>Quincenal</td>\n",
       "      <td>0.0</td>\n",
       "      <td>62000</td>\n",
       "      <td></td>\n",
       "      <td>1977-01-22</td>\n",
       "      <td>FEMENINO</td>\n",
       "      <td>DIFA770102MJCZLN08</td>\n",
       "    </tr>\n",
       "    <tr>\n",
       "      <th>1</th>\n",
       "      <td>100002</td>\n",
       "      <td>RED</td>\n",
       "      <td>6</td>\n",
       "      <td>139856</td>\n",
       "      <td>PALMA</td>\n",
       "      <td>FIGUEIRAS</td>\n",
       "      <td>EVA</td>\n",
       "      <td>PF</td>\n",
       "      <td>PAFE851219</td>\n",
       "      <td>NTE 5 A no ext. 36   Orizaba Centro</td>\n",
       "      <td>...</td>\n",
       "      <td>139856</td>\n",
       "      <td>N</td>\n",
       "      <td>10000</td>\n",
       "      <td>Semanal</td>\n",
       "      <td>0.0</td>\n",
       "      <td>10000</td>\n",
       "      <td>178.63999938964844</td>\n",
       "      <td>1985-12-19</td>\n",
       "      <td>FEMENINO</td>\n",
       "      <td>PAFE851219MVZLGV09</td>\n",
       "    </tr>\n",
       "    <tr>\n",
       "      <th>2</th>\n",
       "      <td>100011</td>\n",
       "      <td>RED</td>\n",
       "      <td>6</td>\n",
       "      <td>101435</td>\n",
       "      <td>HERNANDEZ</td>\n",
       "      <td>BOLAINA</td>\n",
       "      <td>SHEILA MARIA</td>\n",
       "      <td>PF</td>\n",
       "      <td>HEBS000728</td>\n",
       "      <td>BAJIO2A SECC no ext.SN   EL BAJIO COL</td>\n",
       "      <td>...</td>\n",
       "      <td>101435</td>\n",
       "      <td>N</td>\n",
       "      <td>5000</td>\n",
       "      <td>Semanal</td>\n",
       "      <td>0.0</td>\n",
       "      <td>5000</td>\n",
       "      <td>110</td>\n",
       "      <td>2000-07-28</td>\n",
       "      <td>FEMENINO</td>\n",
       "      <td>HRBLSH00072827M100</td>\n",
       "    </tr>\n",
       "    <tr>\n",
       "      <th>3</th>\n",
       "      <td>100016</td>\n",
       "      <td>RED</td>\n",
       "      <td>6</td>\n",
       "      <td>101435</td>\n",
       "      <td>HERNANDEZ</td>\n",
       "      <td>BOLAINA</td>\n",
       "      <td>TRINIDAD DEL CARMEN</td>\n",
       "      <td>PF</td>\n",
       "      <td>HEBT940712</td>\n",
       "      <td>CALLE 4  SN JUNTO AL KINDER no ext.SN   Bajío ...</td>\n",
       "      <td>...</td>\n",
       "      <td>101435</td>\n",
       "      <td>N</td>\n",
       "      <td>5000</td>\n",
       "      <td>Semanal</td>\n",
       "      <td>0.0</td>\n",
       "      <td>5000</td>\n",
       "      <td>110</td>\n",
       "      <td>1994-07-12</td>\n",
       "      <td>FEMENINO</td>\n",
       "      <td>HEBT940712MTCRLR01</td>\n",
       "    </tr>\n",
       "    <tr>\n",
       "      <th>4</th>\n",
       "      <td>100025</td>\n",
       "      <td>RED</td>\n",
       "      <td>6</td>\n",
       "      <td>142629</td>\n",
       "      <td>ORTEGA</td>\n",
       "      <td>GALINDO</td>\n",
       "      <td>NANCY</td>\n",
       "      <td>PF</td>\n",
       "      <td>OEGN850723</td>\n",
       "      <td>CEDROS no ext.42   San Salvador Atenco</td>\n",
       "      <td>...</td>\n",
       "      <td>142629</td>\n",
       "      <td>N</td>\n",
       "      <td>2000</td>\n",
       "      <td>Semanal</td>\n",
       "      <td>0.0</td>\n",
       "      <td>2000</td>\n",
       "      <td>140</td>\n",
       "      <td>1985-07-23</td>\n",
       "      <td>FEMENINO</td>\n",
       "      <td>OEGN850723MDFRLN00</td>\n",
       "    </tr>\n",
       "  </tbody>\n",
       "</table>\n",
       "<p>5 rows × 28 columns</p>\n",
       "</div>"
      ],
      "text/plain": [
       "  Clave Referencia tipo distribuidor Tipo Operación Contratante  \\\n",
       "0                1              CLUB              6           1   \n",
       "1           100002               RED              6      139856   \n",
       "2           100011               RED              6      101435   \n",
       "3           100016               RED              6      101435   \n",
       "4           100025               RED              6      142629   \n",
       "\n",
       "  Paterno Deudor Materno Contratante    Nombre Contratante Tipo de Persona  \\\n",
       "0           DIAZ              FLORES  MARIA DE LOS ANGELES              PF   \n",
       "1          PALMA           FIGUEIRAS                  EVA               PF   \n",
       "2      HERNANDEZ             BOLAINA          SHEILA MARIA              PF   \n",
       "3      HERNANDEZ             BOLAINA   TRINIDAD DEL CARMEN              PF   \n",
       "4         ORTEGA             GALINDO                NANCY               PF   \n",
       "\n",
       "          RFC                                          Dirección  ... Crédito  \\\n",
       "0  DIFA770122      SAN BERNARDINO no ext.14   Cofradia de la Luz  ...       1   \n",
       "1  PAFE851219                NTE 5 A no ext. 36   Orizaba Centro  ...  139856   \n",
       "2  HEBS000728              BAJIO2A SECC no ext.SN   EL BAJIO COL  ...  101435   \n",
       "3  HEBT940712  CALLE 4  SN JUNTO AL KINDER no ext.SN   Bajío ...  ...  101435   \n",
       "4  OEGN850723             CEDROS no ext.42   San Salvador Atenco  ...  142629   \n",
       "\n",
       "  Anexo Monto Contrato Frecuencia de Pago Pago Periódico Monto Pagare  \\\n",
       "0     N          62000          Quincenal            0.0        62000   \n",
       "1     N          10000            Semanal            0.0        10000   \n",
       "2     N           5000            Semanal            0.0         5000   \n",
       "3     N           5000            Semanal            0.0         5000   \n",
       "4     N           2000            Semanal            0.0         2000   \n",
       "\n",
       "                 Tasa Fecha de nacimiento contratante      Sexo  \\\n",
       "0                                          1977-01-22  FEMENINO   \n",
       "1  178.63999938964844                      1985-12-19  FEMENINO   \n",
       "2                 110                      2000-07-28  FEMENINO   \n",
       "3                 110                      1994-07-12  FEMENINO   \n",
       "4                 140                      1985-07-23  FEMENINO   \n",
       "\n",
       "                 CURP  \n",
       "0  DIFA770102MJCZLN08  \n",
       "1  PAFE851219MVZLGV09  \n",
       "2  HRBLSH00072827M100  \n",
       "3  HEBT940712MTCRLR01  \n",
       "4  OEGN850723MDFRLN00  \n",
       "\n",
       "[5 rows x 28 columns]"
      ]
     },
     "execution_count": 9,
     "metadata": {},
     "output_type": "execute_result"
    }
   ],
   "source": [
    "DEU.head()"
   ]
  },
  {
   "cell_type": "markdown",
   "id": "405ad3f9",
   "metadata": {},
   "source": [
    "## Adecuaciones"
   ]
  },
  {
   "cell_type": "code",
   "execution_count": 10,
   "id": "0747ac91",
   "metadata": {},
   "outputs": [
    {
     "name": "stdout",
     "output_type": "stream",
     "text": [
      "(10909, 28)\n",
      "Todo bien con DEU\n"
     ]
    },
    {
     "data": {
      "text/html": [
       "<div>\n",
       "<style scoped>\n",
       "    .dataframe tbody tr th:only-of-type {\n",
       "        vertical-align: middle;\n",
       "    }\n",
       "\n",
       "    .dataframe tbody tr th {\n",
       "        vertical-align: top;\n",
       "    }\n",
       "\n",
       "    .dataframe thead th {\n",
       "        text-align: right;\n",
       "    }\n",
       "</style>\n",
       "<table border=\"1\" class=\"dataframe\">\n",
       "  <thead>\n",
       "    <tr style=\"text-align: right;\">\n",
       "      <th></th>\n",
       "      <th>Clave Referencia</th>\n",
       "      <th>tipo distribuidor</th>\n",
       "      <th>Tipo Operación</th>\n",
       "      <th>Contratante</th>\n",
       "      <th>Paterno Deudor</th>\n",
       "      <th>Materno Contratante</th>\n",
       "      <th>Nombre Contratante</th>\n",
       "      <th>Tipo de Persona</th>\n",
       "      <th>RFC</th>\n",
       "      <th>Dirección</th>\n",
       "      <th>...</th>\n",
       "      <th>Crédito</th>\n",
       "      <th>Anexo</th>\n",
       "      <th>Monto Contrato</th>\n",
       "      <th>Frecuencia de Pago</th>\n",
       "      <th>Pago Periódico</th>\n",
       "      <th>Monto Pagare</th>\n",
       "      <th>Tasa</th>\n",
       "      <th>Fecha de nacimiento contratante</th>\n",
       "      <th>Sexo</th>\n",
       "      <th>CURP</th>\n",
       "    </tr>\n",
       "  </thead>\n",
       "  <tbody>\n",
       "    <tr>\n",
       "      <th>0</th>\n",
       "      <td>1</td>\n",
       "      <td>CLUB</td>\n",
       "      <td>6</td>\n",
       "      <td>1</td>\n",
       "      <td>DIAZ</td>\n",
       "      <td>FLORES</td>\n",
       "      <td>MARIA DE LOS ANGELES</td>\n",
       "      <td>PF</td>\n",
       "      <td>DIFA770122</td>\n",
       "      <td>SAN BERNARDINO no ext.14   Cofradia de la Luz</td>\n",
       "      <td>...</td>\n",
       "      <td>1</td>\n",
       "      <td>N</td>\n",
       "      <td>62000</td>\n",
       "      <td>Quincenal</td>\n",
       "      <td>0.0</td>\n",
       "      <td>62000</td>\n",
       "      <td></td>\n",
       "      <td>1977-01-22</td>\n",
       "      <td>FEMENINO</td>\n",
       "      <td>DIFA770102MJCZLN08</td>\n",
       "    </tr>\n",
       "  </tbody>\n",
       "</table>\n",
       "<p>1 rows × 28 columns</p>\n",
       "</div>"
      ],
      "text/plain": [
       "  Clave Referencia tipo distribuidor Tipo Operación Contratante  \\\n",
       "0                1              CLUB              6           1   \n",
       "\n",
       "  Paterno Deudor Materno Contratante    Nombre Contratante Tipo de Persona  \\\n",
       "0           DIAZ              FLORES  MARIA DE LOS ANGELES              PF   \n",
       "\n",
       "          RFC                                      Dirección  ... Crédito  \\\n",
       "0  DIFA770122  SAN BERNARDINO no ext.14   Cofradia de la Luz  ...       1   \n",
       "\n",
       "  Anexo Monto Contrato Frecuencia de Pago Pago Periódico Monto Pagare Tasa  \\\n",
       "0     N          62000          Quincenal            0.0        62000        \n",
       "\n",
       "  Fecha de nacimiento contratante      Sexo                CURP  \n",
       "0                      1977-01-22  FEMENINO  DIFA770102MJCZLN08  \n",
       "\n",
       "[1 rows x 28 columns]"
      ]
     },
     "execution_count": 10,
     "metadata": {},
     "output_type": "execute_result"
    }
   ],
   "source": [
    "DEU_id = np.array(DEU['Contratante'].unique(), dtype = int)\n",
    "DEU['Fecha Firma Contrato'] = pd.to_datetime(DEU['Fecha Firma Contrato'])\n",
    "print(DEU.shape)\n",
    "for name in DEU.select_dtypes(include=['object']):\n",
    "    DEU[name] = DEU[name].str.replace(\"|\", \" \")\n",
    "print(\"Hay que revisar DEU\" if (DEU.isna().any(0).sum() > 2) else \"Todo bien con DEU\")\n",
    "DEU.head(1)"
   ]
  },
  {
   "cell_type": "code",
   "execution_count": 11,
   "id": "6b861989",
   "metadata": {},
   "outputs": [],
   "source": [
    "DEU.to_csv(f'{path}{fecha_ayer_formato}/DEU_{fecha_ayer_formato}.txt', sep ='|', index = False, header = False)"
   ]
  },
  {
   "cell_type": "code",
   "execution_count": 12,
   "id": "6d023a88",
   "metadata": {},
   "outputs": [
    {
     "data": {
      "text/plain": [
       "(10909, 10909)"
      ]
     },
     "execution_count": 12,
     "metadata": {},
     "output_type": "execute_result"
    }
   ],
   "source": [
    "DEU_ant = pd.read_csv(f\"{path}{ultima_fecha}/DEU_{ultima_fecha}.txt\", sep = '|', header = None)\n",
    "DEU_ant.columns = DEU.columns\n",
    "DEU_ant.shape[0], DEU.shape[0]"
   ]
  },
  {
   "cell_type": "code",
   "execution_count": 13,
   "id": "37003283",
   "metadata": {},
   "outputs": [],
   "source": [
    "DEU = pd.read_csv(f\"{path}{fecha_ayer_formato}/DEU_{fecha_ayer_formato}.txt\", sep = '|', header = None)\n",
    "DEU.columns = DEU_ant.columns"
   ]
  },
  {
   "cell_type": "code",
   "execution_count": 14,
   "id": "b714444c",
   "metadata": {},
   "outputs": [],
   "source": [
    "DEU.Email = DEU.Email.fillna(\"\")\n",
    "DEU_ant.Email = DEU_ant.Email.fillna(\"\")"
   ]
  },
  {
   "cell_type": "code",
   "execution_count": 15,
   "id": "4343335c",
   "metadata": {},
   "outputs": [
    {
     "data": {
      "text/plain": [
       "array([185517, 186194, 186288, 186649, 187000, 187107, 187259, 187265,\n",
       "       187279, 187311, 187318, 187338], dtype=int64)"
      ]
     },
     "execution_count": 15,
     "metadata": {},
     "output_type": "execute_result"
    }
   ],
   "source": [
    "np.setdiff1d(DEU['Contratante'], DEU_ant['Contratante'])"
   ]
  },
  {
   "cell_type": "code",
   "execution_count": 16,
   "id": "8cb400f4",
   "metadata": {},
   "outputs": [],
   "source": [
    "DEU_new = DEU[DEU['Contratante'].isin(np.setdiff1d(DEU['Contratante'], DEU_ant['Contratante']))]\n",
    "\n",
    "DEU_new = DEU_new.drop_duplicates(subset = [\"Clave Referencia\"])\n",
    "\n",
    "#Los para enviarse\n",
    "DEU_new.to_csv(f'{path}/{fecha_ayer_formato}/DEU_{fecha_ayer_formato}_tesoreria.csv', index = False)\n",
    "\n",
    "DEU_new.to_csv(f'{path}{fecha_ayer_formato}/DEU_{fecha_ayer_formato}_diferencial.txt', sep ='|', index = False, header = False)"
   ]
  },
  {
   "cell_type": "code",
   "execution_count": 17,
   "id": "4cb794f1",
   "metadata": {},
   "outputs": [
    {
     "data": {
      "text/plain": [
       "(49, 28)"
      ]
     },
     "execution_count": 17,
     "metadata": {},
     "output_type": "execute_result"
    }
   ],
   "source": [
    "DEU_new.shape"
   ]
  },
  {
   "cell_type": "markdown",
   "id": "a53a4651",
   "metadata": {},
   "source": [
    "# MOVA"
   ]
  },
  {
   "cell_type": "code",
   "execution_count": 18,
   "id": "e69ab37f",
   "metadata": {},
   "outputs": [],
   "source": [
    "cursor = cnx.cursor()\n",
    "sql_query = f\"\"\"\n",
    "select \n",
    "    id_distribuidor as `Contrato`,\n",
    "    \"N\" as `Anexo`,\n",
    "    -- if(tipo_distribuidor = 'RED', id_distribuidor_linea_de_credito, id_distribuidor) as `Número de documento`,\n",
    "    id_distribuidor as `Número de documento`,\n",
    "    date(if(tipo_distribuidor = 'RED',fin_credito,'2099-12-31')) as `Fecha Vencimiento`,\n",
    "    ROUND(sum(capital), 2) as `Monto Capital`,\n",
    "    ROUND(sum(interes), 2) as `Monto intérés`,\n",
    "    ROUND(sum(iva), 2) as `Monto IVA`,\n",
    "    \"FAC\" AS `Tipo de Movimiento`\n",
    "FROM\n",
    "    (SELECT \n",
    "    cd.id_distribuidor,\n",
    "    \"N\" as `Anexo`,\n",
    "    cd.tipo_distribuidor,\n",
    "    ca.capital,\n",
    "    ca.interes,\n",
    "    ca.iva,\n",
    "    cd.fecha,\n",
    "    ca.fin_credito,\n",
    "    ca.no_pagos,\n",
    "    ca.id_distribuidor_linea_de_credito\n",
    "    FROM cartera_distribuidor cd\n",
    "    LEFT JOIN colocacion_asociado ca on cd.id_distribuidor = ca.id_distribuidor\n",
    "    WHERE fecha = '{fecha_ayer_formato}' and ca.tipo_prestamo = 'PRESTAMO PERSONAL RED') as temp\n",
    "\n",
    "GROUP BY temp.id_distribuidor, fecha, fin_credito, tipo_distribuidor-- , temp.id_distribuidor_linea_de_credito\n",
    "            \"\"\"\n",
    "cursor.execute(sql_query)\n",
    "MOVA = cursor.fetchall()"
   ]
  },
  {
   "cell_type": "code",
   "execution_count": 19,
   "id": "8ac11944",
   "metadata": {},
   "outputs": [],
   "source": [
    "MOVA = pd.DataFrame(MOVA, columns = ['Contrato', 'Anexo', 'Número de documento', 'Fecha Vencimiento',\n",
    "       'Monto Capital', 'Monto intérés', 'Monto IVA', 'Tipo de Movimiento'])"
   ]
  },
  {
   "cell_type": "code",
   "execution_count": 20,
   "id": "b3a2b951",
   "metadata": {},
   "outputs": [
    {
     "data": {
      "text/html": [
       "<div>\n",
       "<style scoped>\n",
       "    .dataframe tbody tr th:only-of-type {\n",
       "        vertical-align: middle;\n",
       "    }\n",
       "\n",
       "    .dataframe tbody tr th {\n",
       "        vertical-align: top;\n",
       "    }\n",
       "\n",
       "    .dataframe thead th {\n",
       "        text-align: right;\n",
       "    }\n",
       "</style>\n",
       "<table border=\"1\" class=\"dataframe\">\n",
       "  <thead>\n",
       "    <tr style=\"text-align: right;\">\n",
       "      <th></th>\n",
       "      <th>Contrato</th>\n",
       "      <th>Anexo</th>\n",
       "      <th>Número de documento</th>\n",
       "      <th>Fecha Vencimiento</th>\n",
       "      <th>Monto Capital</th>\n",
       "      <th>Monto intérés</th>\n",
       "      <th>Monto IVA</th>\n",
       "      <th>Tipo de Movimiento</th>\n",
       "    </tr>\n",
       "  </thead>\n",
       "  <tbody>\n",
       "    <tr>\n",
       "      <th>0</th>\n",
       "      <td>81210</td>\n",
       "      <td>N</td>\n",
       "      <td>81210</td>\n",
       "      <td>2021-10-25</td>\n",
       "      <td>34000.00</td>\n",
       "      <td>8245.12</td>\n",
       "      <td>1319.22</td>\n",
       "      <td>FAC</td>\n",
       "    </tr>\n",
       "    <tr>\n",
       "      <th>1</th>\n",
       "      <td>81274</td>\n",
       "      <td>N</td>\n",
       "      <td>81274</td>\n",
       "      <td>2021-10-19</td>\n",
       "      <td>54000.00</td>\n",
       "      <td>7373.32</td>\n",
       "      <td>1179.74</td>\n",
       "      <td>FAC</td>\n",
       "    </tr>\n",
       "    <tr>\n",
       "      <th>2</th>\n",
       "      <td>81352</td>\n",
       "      <td>N</td>\n",
       "      <td>81352</td>\n",
       "      <td>2021-10-27</td>\n",
       "      <td>33000.00</td>\n",
       "      <td>7867.22</td>\n",
       "      <td>1258.74</td>\n",
       "      <td>FAC</td>\n",
       "    </tr>\n",
       "    <tr>\n",
       "      <th>3</th>\n",
       "      <td>81425</td>\n",
       "      <td>N</td>\n",
       "      <td>81425</td>\n",
       "      <td>2021-11-08</td>\n",
       "      <td>32000.00</td>\n",
       "      <td>7630.24</td>\n",
       "      <td>1220.84</td>\n",
       "      <td>FAC</td>\n",
       "    </tr>\n",
       "    <tr>\n",
       "      <th>4</th>\n",
       "      <td>81466</td>\n",
       "      <td>N</td>\n",
       "      <td>81466</td>\n",
       "      <td>2021-10-21</td>\n",
       "      <td>35000.00</td>\n",
       "      <td>8341.18</td>\n",
       "      <td>1334.59</td>\n",
       "      <td>FAC</td>\n",
       "    </tr>\n",
       "    <tr>\n",
       "      <th>...</th>\n",
       "      <td>...</td>\n",
       "      <td>...</td>\n",
       "      <td>...</td>\n",
       "      <td>...</td>\n",
       "      <td>...</td>\n",
       "      <td>...</td>\n",
       "      <td>...</td>\n",
       "      <td>...</td>\n",
       "    </tr>\n",
       "    <tr>\n",
       "      <th>4477</th>\n",
       "      <td>187380</td>\n",
       "      <td>N</td>\n",
       "      <td>187380</td>\n",
       "      <td>2024-08-28</td>\n",
       "      <td>39999.95</td>\n",
       "      <td>9682.62</td>\n",
       "      <td>1549.43</td>\n",
       "      <td>FAC</td>\n",
       "    </tr>\n",
       "    <tr>\n",
       "      <th>4478</th>\n",
       "      <td>187458</td>\n",
       "      <td>N</td>\n",
       "      <td>187458</td>\n",
       "      <td>2024-08-29</td>\n",
       "      <td>102000.29</td>\n",
       "      <td>21227.31</td>\n",
       "      <td>3396.40</td>\n",
       "      <td>FAC</td>\n",
       "    </tr>\n",
       "    <tr>\n",
       "      <th>4479</th>\n",
       "      <td>187529</td>\n",
       "      <td>N</td>\n",
       "      <td>187529</td>\n",
       "      <td>2024-08-28</td>\n",
       "      <td>82999.94</td>\n",
       "      <td>13151.73</td>\n",
       "      <td>2104.33</td>\n",
       "      <td>FAC</td>\n",
       "    </tr>\n",
       "    <tr>\n",
       "      <th>4480</th>\n",
       "      <td>187609</td>\n",
       "      <td>N</td>\n",
       "      <td>187609</td>\n",
       "      <td>2024-08-29</td>\n",
       "      <td>87999.84</td>\n",
       "      <td>13007.02</td>\n",
       "      <td>2081.14</td>\n",
       "      <td>FAC</td>\n",
       "    </tr>\n",
       "    <tr>\n",
       "      <th>4481</th>\n",
       "      <td>187668</td>\n",
       "      <td>N</td>\n",
       "      <td>187668</td>\n",
       "      <td>2024-08-29</td>\n",
       "      <td>50000.30</td>\n",
       "      <td>6413.45</td>\n",
       "      <td>1026.25</td>\n",
       "      <td>FAC</td>\n",
       "    </tr>\n",
       "  </tbody>\n",
       "</table>\n",
       "<p>4482 rows × 8 columns</p>\n",
       "</div>"
      ],
      "text/plain": [
       "      Contrato Anexo  Número de documento Fecha Vencimiento  Monto Capital  \\\n",
       "0        81210     N                81210        2021-10-25       34000.00   \n",
       "1        81274     N                81274        2021-10-19       54000.00   \n",
       "2        81352     N                81352        2021-10-27       33000.00   \n",
       "3        81425     N                81425        2021-11-08       32000.00   \n",
       "4        81466     N                81466        2021-10-21       35000.00   \n",
       "...        ...   ...                  ...               ...            ...   \n",
       "4477    187380     N               187380        2024-08-28       39999.95   \n",
       "4478    187458     N               187458        2024-08-29      102000.29   \n",
       "4479    187529     N               187529        2024-08-28       82999.94   \n",
       "4480    187609     N               187609        2024-08-29       87999.84   \n",
       "4481    187668     N               187668        2024-08-29       50000.30   \n",
       "\n",
       "      Monto intérés  Monto IVA Tipo de Movimiento  \n",
       "0           8245.12    1319.22                FAC  \n",
       "1           7373.32    1179.74                FAC  \n",
       "2           7867.22    1258.74                FAC  \n",
       "3           7630.24    1220.84                FAC  \n",
       "4           8341.18    1334.59                FAC  \n",
       "...             ...        ...                ...  \n",
       "4477        9682.62    1549.43                FAC  \n",
       "4478       21227.31    3396.40                FAC  \n",
       "4479       13151.73    2104.33                FAC  \n",
       "4480       13007.02    2081.14                FAC  \n",
       "4481        6413.45    1026.25                FAC  \n",
       "\n",
       "[4482 rows x 8 columns]"
      ]
     },
     "execution_count": 20,
     "metadata": {},
     "output_type": "execute_result"
    }
   ],
   "source": [
    "MOVA"
   ]
  },
  {
   "cell_type": "markdown",
   "id": "a488d424",
   "metadata": {},
   "source": [
    "## Adecuaciones"
   ]
  },
  {
   "cell_type": "code",
   "execution_count": 21,
   "id": "e9792e56",
   "metadata": {},
   "outputs": [
    {
     "name": "stdout",
     "output_type": "stream",
     "text": [
      "Todo bien con MOVA\n",
      "(4482, 8)\n"
     ]
    },
    {
     "data": {
      "text/html": [
       "<div>\n",
       "<style scoped>\n",
       "    .dataframe tbody tr th:only-of-type {\n",
       "        vertical-align: middle;\n",
       "    }\n",
       "\n",
       "    .dataframe tbody tr th {\n",
       "        vertical-align: top;\n",
       "    }\n",
       "\n",
       "    .dataframe thead th {\n",
       "        text-align: right;\n",
       "    }\n",
       "</style>\n",
       "<table border=\"1\" class=\"dataframe\">\n",
       "  <thead>\n",
       "    <tr style=\"text-align: right;\">\n",
       "      <th></th>\n",
       "      <th>Contrato</th>\n",
       "      <th>Anexo</th>\n",
       "      <th>Número de documento</th>\n",
       "      <th>Fecha Vencimiento</th>\n",
       "      <th>Monto Capital</th>\n",
       "      <th>Monto intérés</th>\n",
       "      <th>Monto IVA</th>\n",
       "      <th>Tipo de Movimiento</th>\n",
       "    </tr>\n",
       "  </thead>\n",
       "  <tbody>\n",
       "    <tr>\n",
       "      <th>0</th>\n",
       "      <td>81210</td>\n",
       "      <td>N</td>\n",
       "      <td>81210</td>\n",
       "      <td>2021-10-25</td>\n",
       "      <td>34000.0</td>\n",
       "      <td>8245.12</td>\n",
       "      <td>1319.22</td>\n",
       "      <td>FAC</td>\n",
       "    </tr>\n",
       "  </tbody>\n",
       "</table>\n",
       "</div>"
      ],
      "text/plain": [
       "   Contrato Anexo  Número de documento Fecha Vencimiento  Monto Capital  \\\n",
       "0     81210     N                81210        2021-10-25        34000.0   \n",
       "\n",
       "   Monto intérés  Monto IVA Tipo de Movimiento  \n",
       "0        8245.12    1319.22                FAC  "
      ]
     },
     "execution_count": 21,
     "metadata": {},
     "output_type": "execute_result"
    }
   ],
   "source": [
    "MOVA['Fecha Vencimiento'] = MOVA['Fecha Vencimiento'].fillna(\"2099-12-31\")\n",
    "print(\"Hay que revisar MOVA\" if (MOVA.isna().any(0).sum() > 0) else \"Todo bien con MOVA\")\n",
    "MOVA['Contrato'] = MOVA['Contrato'].astype(int)\n",
    "MOVA_id = MOVA['Contrato']\n",
    "print(MOVA.shape)\n",
    "MOVA.head(1)"
   ]
  },
  {
   "cell_type": "code",
   "execution_count": 22,
   "id": "8eab29fd",
   "metadata": {},
   "outputs": [
    {
     "data": {
      "text/plain": [
       "array([], dtype=int32)"
      ]
     },
     "execution_count": 22,
     "metadata": {},
     "output_type": "execute_result"
    }
   ],
   "source": [
    "MOVA = MOVA.loc[[mi in DEU_id for mi in MOVA_id]]\n",
    "MOVA = MOVA.drop_duplicates('Contrato')\n",
    "np.setdiff1d(MOVA['Contrato'], DEU_id)"
   ]
  },
  {
   "cell_type": "code",
   "execution_count": 23,
   "id": "d68fb425",
   "metadata": {},
   "outputs": [
    {
     "name": "stderr",
     "output_type": "stream",
     "text": [
      "2439it [00:04, 495.06it/s]\n"
     ]
    }
   ],
   "source": [
    "new_mova = []\n",
    "for row in tqdm(MOVA.iterrows()):\n",
    "    #new_mova = pd.concat([new_mova, row[1]], axis = 1)\n",
    "    #new_mova.append(row[1])\n",
    "    num = 16\n",
    "    for i in range(1, num + 1):\n",
    "        new_row = row[1].copy()\n",
    "        new_row['Número de documento'] = str(new_row['Número de documento']) + \"_\"+str(i)\n",
    "        new_row['Monto Capital'] = new_row['Monto Capital'] / num\n",
    "        new_row['Monto intérés'] = new_row['Monto intérés'] / num\n",
    "        new_row['Monto IVA'] = new_row['Monto IVA'] / num\n",
    "        #new_mova = pd.concat([new_mova, new_row], axis = 1)\n",
    "        new_mova.append(new_row)"
   ]
  },
  {
   "cell_type": "code",
   "execution_count": 24,
   "id": "a5a23a64",
   "metadata": {},
   "outputs": [
    {
     "data": {
      "text/html": [
       "<div>\n",
       "<style scoped>\n",
       "    .dataframe tbody tr th:only-of-type {\n",
       "        vertical-align: middle;\n",
       "    }\n",
       "\n",
       "    .dataframe tbody tr th {\n",
       "        vertical-align: top;\n",
       "    }\n",
       "\n",
       "    .dataframe thead th {\n",
       "        text-align: right;\n",
       "    }\n",
       "</style>\n",
       "<table border=\"1\" class=\"dataframe\">\n",
       "  <thead>\n",
       "    <tr style=\"text-align: right;\">\n",
       "      <th></th>\n",
       "      <th>Contrato</th>\n",
       "      <th>Anexo</th>\n",
       "      <th>Número de documento</th>\n",
       "      <th>Fecha Vencimiento</th>\n",
       "      <th>Monto Capital</th>\n",
       "      <th>Monto intérés</th>\n",
       "      <th>Monto IVA</th>\n",
       "      <th>Tipo de Movimiento</th>\n",
       "    </tr>\n",
       "  </thead>\n",
       "  <tbody>\n",
       "    <tr>\n",
       "      <th>0</th>\n",
       "      <td>81210</td>\n",
       "      <td>N</td>\n",
       "      <td>81210_1</td>\n",
       "      <td>2021-10-25</td>\n",
       "      <td>2125.0</td>\n",
       "      <td>515.32</td>\n",
       "      <td>82.45125</td>\n",
       "      <td>FAC</td>\n",
       "    </tr>\n",
       "    <tr>\n",
       "      <th>0</th>\n",
       "      <td>81210</td>\n",
       "      <td>N</td>\n",
       "      <td>81210_2</td>\n",
       "      <td>2021-10-25</td>\n",
       "      <td>2125.0</td>\n",
       "      <td>515.32</td>\n",
       "      <td>82.45125</td>\n",
       "      <td>FAC</td>\n",
       "    </tr>\n",
       "    <tr>\n",
       "      <th>0</th>\n",
       "      <td>81210</td>\n",
       "      <td>N</td>\n",
       "      <td>81210_3</td>\n",
       "      <td>2021-10-25</td>\n",
       "      <td>2125.0</td>\n",
       "      <td>515.32</td>\n",
       "      <td>82.45125</td>\n",
       "      <td>FAC</td>\n",
       "    </tr>\n",
       "    <tr>\n",
       "      <th>0</th>\n",
       "      <td>81210</td>\n",
       "      <td>N</td>\n",
       "      <td>81210_4</td>\n",
       "      <td>2021-10-25</td>\n",
       "      <td>2125.0</td>\n",
       "      <td>515.32</td>\n",
       "      <td>82.45125</td>\n",
       "      <td>FAC</td>\n",
       "    </tr>\n",
       "    <tr>\n",
       "      <th>0</th>\n",
       "      <td>81210</td>\n",
       "      <td>N</td>\n",
       "      <td>81210_5</td>\n",
       "      <td>2021-10-25</td>\n",
       "      <td>2125.0</td>\n",
       "      <td>515.32</td>\n",
       "      <td>82.45125</td>\n",
       "      <td>FAC</td>\n",
       "    </tr>\n",
       "  </tbody>\n",
       "</table>\n",
       "</div>"
      ],
      "text/plain": [
       "   Contrato Anexo Número de documento Fecha Vencimiento  Monto Capital  \\\n",
       "0     81210     N             81210_1        2021-10-25         2125.0   \n",
       "0     81210     N             81210_2        2021-10-25         2125.0   \n",
       "0     81210     N             81210_3        2021-10-25         2125.0   \n",
       "0     81210     N             81210_4        2021-10-25         2125.0   \n",
       "0     81210     N             81210_5        2021-10-25         2125.0   \n",
       "\n",
       "   Monto intérés  Monto IVA Tipo de Movimiento  \n",
       "0         515.32   82.45125                FAC  \n",
       "0         515.32   82.45125                FAC  \n",
       "0         515.32   82.45125                FAC  \n",
       "0         515.32   82.45125                FAC  \n",
       "0         515.32   82.45125                FAC  "
      ]
     },
     "execution_count": 24,
     "metadata": {},
     "output_type": "execute_result"
    }
   ],
   "source": [
    "MOVA = pd.DataFrame(new_mova)\n",
    "MOVA.head()"
   ]
  },
  {
   "cell_type": "code",
   "execution_count": 25,
   "id": "e27308cd",
   "metadata": {},
   "outputs": [],
   "source": [
    "MOVA.to_csv(f'{path}/{fecha_ayer_formato}/MOVA_{fecha_ayer_formato}.txt', sep ='|', index = False, header = False)"
   ]
  },
  {
   "cell_type": "code",
   "execution_count": 26,
   "id": "9f8f7255",
   "metadata": {},
   "outputs": [
    {
     "data": {
      "text/plain": [
       "(38960, 39024)"
      ]
     },
     "execution_count": 26,
     "metadata": {},
     "output_type": "execute_result"
    }
   ],
   "source": [
    "MOVA_ant = pd.read_csv(f\"{path}{ultima_fecha}/MOVA_{ultima_fecha}.txt\", sep = '|', header = None)\n",
    "MOVA_ant = MOVA_ant.infer_objects()\n",
    "\n",
    "MOVA_ant.columns = MOVA.columns\n",
    "MOVA_ant.shape[0], MOVA.shape[0]"
   ]
  },
  {
   "cell_type": "code",
   "execution_count": 27,
   "id": "4b2e5d1e",
   "metadata": {},
   "outputs": [],
   "source": [
    "MOVA = pd.read_csv(f\"{path}{fecha_ayer_formato}/MOVA_{fecha_ayer_formato}.txt\", sep = '|', header = None)\n",
    "MOVA.columns = MOVA_ant.columns"
   ]
  },
  {
   "cell_type": "code",
   "execution_count": 28,
   "id": "b52499c2",
   "metadata": {},
   "outputs": [],
   "source": [
    "MOVA_new = encontrar_registros_adicionales(MOVA, MOVA_ant, list(MOVA.columns))\n",
    "\n",
    "MOVA_new.to_csv(f'{path}/{fecha_ayer_formato}/MOVA_{fecha_ayer_formato}_diferencial.txt', sep ='|', index = False, header = False)"
   ]
  },
  {
   "cell_type": "code",
   "execution_count": 29,
   "id": "77bfc70a",
   "metadata": {},
   "outputs": [
    {
     "data": {
      "text/html": [
       "<div>\n",
       "<style scoped>\n",
       "    .dataframe tbody tr th:only-of-type {\n",
       "        vertical-align: middle;\n",
       "    }\n",
       "\n",
       "    .dataframe tbody tr th {\n",
       "        vertical-align: top;\n",
       "    }\n",
       "\n",
       "    .dataframe thead th {\n",
       "        text-align: right;\n",
       "    }\n",
       "</style>\n",
       "<table border=\"1\" class=\"dataframe\">\n",
       "  <thead>\n",
       "    <tr style=\"text-align: right;\">\n",
       "      <th></th>\n",
       "      <th>Contrato</th>\n",
       "      <th>Anexo</th>\n",
       "      <th>Número de documento</th>\n",
       "      <th>Fecha Vencimiento</th>\n",
       "      <th>Monto Capital</th>\n",
       "      <th>Monto intérés</th>\n",
       "      <th>Monto IVA</th>\n",
       "      <th>Tipo de Movimiento</th>\n",
       "    </tr>\n",
       "  </thead>\n",
       "  <tbody>\n",
       "    <tr>\n",
       "      <th>0</th>\n",
       "      <td>81210</td>\n",
       "      <td>N</td>\n",
       "      <td>81210_1</td>\n",
       "      <td>2021-10-25</td>\n",
       "      <td>2125.00000</td>\n",
       "      <td>515.32000</td>\n",
       "      <td>82.45125</td>\n",
       "      <td>FAC</td>\n",
       "    </tr>\n",
       "    <tr>\n",
       "      <th>1</th>\n",
       "      <td>81210</td>\n",
       "      <td>N</td>\n",
       "      <td>81210_2</td>\n",
       "      <td>2021-10-25</td>\n",
       "      <td>2125.00000</td>\n",
       "      <td>515.32000</td>\n",
       "      <td>82.45125</td>\n",
       "      <td>FAC</td>\n",
       "    </tr>\n",
       "    <tr>\n",
       "      <th>2</th>\n",
       "      <td>81210</td>\n",
       "      <td>N</td>\n",
       "      <td>81210_3</td>\n",
       "      <td>2021-10-25</td>\n",
       "      <td>2125.00000</td>\n",
       "      <td>515.32000</td>\n",
       "      <td>82.45125</td>\n",
       "      <td>FAC</td>\n",
       "    </tr>\n",
       "    <tr>\n",
       "      <th>3</th>\n",
       "      <td>81210</td>\n",
       "      <td>N</td>\n",
       "      <td>81210_4</td>\n",
       "      <td>2021-10-25</td>\n",
       "      <td>2125.00000</td>\n",
       "      <td>515.32000</td>\n",
       "      <td>82.45125</td>\n",
       "      <td>FAC</td>\n",
       "    </tr>\n",
       "    <tr>\n",
       "      <th>4</th>\n",
       "      <td>81210</td>\n",
       "      <td>N</td>\n",
       "      <td>81210_5</td>\n",
       "      <td>2021-10-25</td>\n",
       "      <td>2125.00000</td>\n",
       "      <td>515.32000</td>\n",
       "      <td>82.45125</td>\n",
       "      <td>FAC</td>\n",
       "    </tr>\n",
       "    <tr>\n",
       "      <th>...</th>\n",
       "      <td>...</td>\n",
       "      <td>...</td>\n",
       "      <td>...</td>\n",
       "      <td>...</td>\n",
       "      <td>...</td>\n",
       "      <td>...</td>\n",
       "      <td>...</td>\n",
       "      <td>...</td>\n",
       "    </tr>\n",
       "    <tr>\n",
       "      <th>38955</th>\n",
       "      <td>187178</td>\n",
       "      <td>N</td>\n",
       "      <td>187178_12</td>\n",
       "      <td>2024-08-26</td>\n",
       "      <td>1687.50625</td>\n",
       "      <td>369.39625</td>\n",
       "      <td>59.09750</td>\n",
       "      <td>FAC</td>\n",
       "    </tr>\n",
       "    <tr>\n",
       "      <th>38956</th>\n",
       "      <td>187178</td>\n",
       "      <td>N</td>\n",
       "      <td>187178_13</td>\n",
       "      <td>2024-08-26</td>\n",
       "      <td>1687.50625</td>\n",
       "      <td>369.39625</td>\n",
       "      <td>59.09750</td>\n",
       "      <td>FAC</td>\n",
       "    </tr>\n",
       "    <tr>\n",
       "      <th>38957</th>\n",
       "      <td>187178</td>\n",
       "      <td>N</td>\n",
       "      <td>187178_14</td>\n",
       "      <td>2024-08-26</td>\n",
       "      <td>1687.50625</td>\n",
       "      <td>369.39625</td>\n",
       "      <td>59.09750</td>\n",
       "      <td>FAC</td>\n",
       "    </tr>\n",
       "    <tr>\n",
       "      <th>38958</th>\n",
       "      <td>187178</td>\n",
       "      <td>N</td>\n",
       "      <td>187178_15</td>\n",
       "      <td>2024-08-26</td>\n",
       "      <td>1687.50625</td>\n",
       "      <td>369.39625</td>\n",
       "      <td>59.09750</td>\n",
       "      <td>FAC</td>\n",
       "    </tr>\n",
       "    <tr>\n",
       "      <th>38959</th>\n",
       "      <td>187178</td>\n",
       "      <td>N</td>\n",
       "      <td>187178_16</td>\n",
       "      <td>2024-08-26</td>\n",
       "      <td>1687.50625</td>\n",
       "      <td>369.39625</td>\n",
       "      <td>59.09750</td>\n",
       "      <td>FAC</td>\n",
       "    </tr>\n",
       "  </tbody>\n",
       "</table>\n",
       "<p>38960 rows × 8 columns</p>\n",
       "</div>"
      ],
      "text/plain": [
       "       Contrato Anexo Número de documento Fecha Vencimiento  Monto Capital  \\\n",
       "0         81210     N             81210_1        2021-10-25     2125.00000   \n",
       "1         81210     N             81210_2        2021-10-25     2125.00000   \n",
       "2         81210     N             81210_3        2021-10-25     2125.00000   \n",
       "3         81210     N             81210_4        2021-10-25     2125.00000   \n",
       "4         81210     N             81210_5        2021-10-25     2125.00000   \n",
       "...         ...   ...                 ...               ...            ...   \n",
       "38955    187178     N           187178_12        2024-08-26     1687.50625   \n",
       "38956    187178     N           187178_13        2024-08-26     1687.50625   \n",
       "38957    187178     N           187178_14        2024-08-26     1687.50625   \n",
       "38958    187178     N           187178_15        2024-08-26     1687.50625   \n",
       "38959    187178     N           187178_16        2024-08-26     1687.50625   \n",
       "\n",
       "       Monto intérés  Monto IVA Tipo de Movimiento  \n",
       "0          515.32000   82.45125                FAC  \n",
       "1          515.32000   82.45125                FAC  \n",
       "2          515.32000   82.45125                FAC  \n",
       "3          515.32000   82.45125                FAC  \n",
       "4          515.32000   82.45125                FAC  \n",
       "...              ...        ...                ...  \n",
       "38955      369.39625   59.09750                FAC  \n",
       "38956      369.39625   59.09750                FAC  \n",
       "38957      369.39625   59.09750                FAC  \n",
       "38958      369.39625   59.09750                FAC  \n",
       "38959      369.39625   59.09750                FAC  \n",
       "\n",
       "[38960 rows x 8 columns]"
      ]
     },
     "execution_count": 29,
     "metadata": {},
     "output_type": "execute_result"
    }
   ],
   "source": [
    "MOVA_ant"
   ]
  },
  {
   "cell_type": "code",
   "execution_count": 30,
   "id": "193caa49",
   "metadata": {},
   "outputs": [],
   "source": [
    "MOVA_new = MOVA[MOVA['Número de documento'].isin(np.setdiff1d(MOVA['Número de documento'], MOVA_ant['Número de documento']))]\n",
    "\n",
    "MOVA_new = MOVA_new.drop_duplicates(subset = [\"Número de documento\"])\n",
    "\n",
    "#Los para enviarse\n",
    "MOVA_new.to_csv(f'{path}/{fecha_ayer_formato}/MOVA_{fecha_ayer_formato}_tesoreria.csv', index = False)\n",
    "\n",
    "MOVA_new.to_csv(f'{path}/{fecha_ayer_formato}/MOVA_{fecha_ayer_formato}_diferencial.txt', sep ='|', index = False, header = False)"
   ]
  },
  {
   "cell_type": "markdown",
   "id": "ebbaa2b4",
   "metadata": {},
   "source": [
    "# MOVIC"
   ]
  },
  {
   "cell_type": "code",
   "execution_count": 31,
   "id": "63230d6e",
   "metadata": {},
   "outputs": [],
   "source": [
    "cursor = cnx.cursor()\n",
    "sql_query = f\"\"\"\n",
    "SELECT \n",
    "coalesce(cd.id_red, pd.id_distribuidor) as `Contrato`,\n",
    "\"N\" AS `Anexo`,\n",
    "-- coalesce(if(cd.tipo_prestamo = 'PRESTAMO PERSONAL RED', cd.id_red, cd.id_distribuidor), pd.id_distribuidor) as `Número de documento`,\n",
    "coalesce(cd.id_distribuidor, pd.id_distribuidor) as `Número de documento`,\n",
    "DATE(pd.fecha_pago) as `Fecha Depósito`,\n",
    "DATE(pd.fecha_aplicacion_pago) as `Fecha Aplicación`,\n",
    "IF(pd.seguro_asociado>0,-pd.seguro_asociado,pd.seguro_asociado) as `Monto de Seguro Asociado`,\n",
    "IF(pd.seguro_distribuidor>0,-pd.seguro_distribuidor,pd.seguro_distribuidor) as `Monto de Seguro Distribuidor`,\n",
    "\"1\" AS `Tipo de Movimiento`,\n",
    "pd.procedencia as `Cuenta`,\n",
    "pd.id_pago as `paymentId`\n",
    "\n",
    "FROM pagos_desglosados pd\n",
    "\n",
    "left JOIN (\n",
    "\t\tselect \n",
    "\t\t\tca.id_distribuidor, max(ca.id_red) as 'id_red', max(ca.tipo_prestamo) as 'tipo_prestamo'\n",
    "\t\t\tfrom (\n",
    "\t\t\t\tselect \n",
    "\t\t\t\tif(tipo_prestamo = 'PRESTAMO PERSONAL RED', id_distribuidor_linea_de_credito, id_distribuidor) as 'id_distribuidor', \n",
    "\t\t\t\tid_distribuidor as 'id_red',\n",
    "\t\t\t\ttipo_prestamo\n",
    "\t\t\t\tfrom colocacion_asociado\n",
    "\t\t\t) as ca \n",
    "\t\tgroup by ca.id_distribuidor\n",
    ") cd on pd.id_distribuidor = cd.id_red\n",
    "WHERE date(pd.fecha_pago) >='2021-01-01'\n",
    "\"\"\"\n",
    "cursor.execute(sql_query)\n",
    "MOVIC = cursor.fetchall()"
   ]
  },
  {
   "cell_type": "code",
   "execution_count": 32,
   "id": "99396dd8",
   "metadata": {},
   "outputs": [],
   "source": [
    "MOVIC = pd.DataFrame(MOVIC, columns = ['Contrato', 'Anexo', 'Número de documento', 'Fecha Depósito',\n",
    "       'Fecha Aplicación', 'Monto de Seguro Asociado',\n",
    "       'Monto de Seguro Distribuidor', 'Tipo de Movimiento', 'Cuenta',\n",
    "       'paymentId'])"
   ]
  },
  {
   "cell_type": "code",
   "execution_count": 33,
   "id": "c98cf94f",
   "metadata": {},
   "outputs": [
    {
     "name": "stdout",
     "output_type": "stream",
     "text": [
      "Todo bien con MOVIC\n",
      "(334520, 10)\n"
     ]
    },
    {
     "data": {
      "text/html": [
       "<div>\n",
       "<style scoped>\n",
       "    .dataframe tbody tr th:only-of-type {\n",
       "        vertical-align: middle;\n",
       "    }\n",
       "\n",
       "    .dataframe tbody tr th {\n",
       "        vertical-align: top;\n",
       "    }\n",
       "\n",
       "    .dataframe thead th {\n",
       "        text-align: right;\n",
       "    }\n",
       "</style>\n",
       "<table border=\"1\" class=\"dataframe\">\n",
       "  <thead>\n",
       "    <tr style=\"text-align: right;\">\n",
       "      <th></th>\n",
       "      <th>Contrato</th>\n",
       "      <th>Anexo</th>\n",
       "      <th>Número de documento</th>\n",
       "      <th>Fecha Depósito</th>\n",
       "      <th>Fecha Aplicación</th>\n",
       "      <th>Monto de Seguro Asociado</th>\n",
       "      <th>Monto de Seguro Distribuidor</th>\n",
       "      <th>Tipo de Movimiento</th>\n",
       "      <th>Cuenta</th>\n",
       "      <th>paymentId</th>\n",
       "    </tr>\n",
       "  </thead>\n",
       "  <tbody>\n",
       "    <tr>\n",
       "      <th>0</th>\n",
       "      <td>80782</td>\n",
       "      <td>N</td>\n",
       "      <td>80782</td>\n",
       "      <td>2021-10-04</td>\n",
       "      <td>2021-10-04</td>\n",
       "      <td>-50</td>\n",
       "      <td>-25</td>\n",
       "      <td>1</td>\n",
       "      <td>BANCOMER</td>\n",
       "      <td>105234</td>\n",
       "    </tr>\n",
       "  </tbody>\n",
       "</table>\n",
       "</div>"
      ],
      "text/plain": [
       "   Contrato Anexo Número de documento Fecha Depósito Fecha Aplicación  \\\n",
       "0     80782     N               80782     2021-10-04       2021-10-04   \n",
       "\n",
       "  Monto de Seguro Asociado Monto de Seguro Distribuidor Tipo de Movimiento  \\\n",
       "0                      -50                          -25                  1   \n",
       "\n",
       "     Cuenta paymentId  \n",
       "0  BANCOMER    105234  "
      ]
     },
     "execution_count": 33,
     "metadata": {},
     "output_type": "execute_result"
    }
   ],
   "source": [
    "print(\"Hay que revisar MOVIC\" if (MOVIC.isna().any(0).sum() > 0) else \"Todo bien con MOVIC\")\n",
    "MOVIC.Contrato = MOVIC.Contrato.astype(int) \n",
    "\n",
    "MOVIC_id = MOVIC['Contrato']\n",
    "print(MOVIC.shape)\n",
    "MOVIC.head(1)"
   ]
  },
  {
   "cell_type": "code",
   "execution_count": 34,
   "id": "b4460e42",
   "metadata": {},
   "outputs": [
    {
     "data": {
      "text/plain": [
       "256127"
      ]
     },
     "execution_count": 34,
     "metadata": {},
     "output_type": "execute_result"
    }
   ],
   "source": [
    "sum([mi in DEU_id for mi in MOVIC_id])"
   ]
  },
  {
   "cell_type": "code",
   "execution_count": 35,
   "id": "b466e392",
   "metadata": {
    "scrolled": true
   },
   "outputs": [],
   "source": [
    "MOVIC = MOVIC.loc[[mi in DEU_id for mi in MOVIC_id]]"
   ]
  },
  {
   "cell_type": "code",
   "execution_count": 36,
   "id": "af69b39d",
   "metadata": {},
   "outputs": [
    {
     "data": {
      "text/plain": [
       "array([], dtype=int32)"
      ]
     },
     "execution_count": 36,
     "metadata": {},
     "output_type": "execute_result"
    }
   ],
   "source": [
    "np.setdiff1d(MOVIC['Contrato'], DEU_id)"
   ]
  },
  {
   "cell_type": "code",
   "execution_count": 37,
   "id": "56b21c1e",
   "metadata": {},
   "outputs": [],
   "source": [
    "MOVIC = MOVIC.drop_duplicates(subset = [\"paymentId\"])"
   ]
  },
  {
   "cell_type": "code",
   "execution_count": 38,
   "id": "41986c46",
   "metadata": {},
   "outputs": [],
   "source": [
    "MOVIC.to_csv(f'{path}/{fecha_ayer_formato}/MOVIC_{fecha_ayer_formato}.txt', sep ='|', index = False, header = False)"
   ]
  },
  {
   "cell_type": "code",
   "execution_count": 39,
   "id": "3c6a42df",
   "metadata": {},
   "outputs": [
    {
     "data": {
      "text/plain": [
       "(134702, 134768)"
      ]
     },
     "execution_count": 39,
     "metadata": {},
     "output_type": "execute_result"
    }
   ],
   "source": [
    "MOVIC_ant = pd.read_csv(f\"{path}{ultima_fecha}/MOVIC_{ultima_fecha}.txt\", sep = '|', header = None)\n",
    "MOVIC_ant = MOVIC_ant.infer_objects()\n",
    "\n",
    "MOVIC_ant.columns = MOVIC.columns\n",
    "MOVIC_ant.shape[0], MOVIC.shape[0]"
   ]
  },
  {
   "cell_type": "code",
   "execution_count": 40,
   "id": "73c07d08",
   "metadata": {},
   "outputs": [],
   "source": [
    "MOVIC = pd.read_csv(f\"{path}{fecha_ayer_formato}/MOVIC_{fecha_ayer_formato}.txt\", sep = '|', header = None)\n",
    "MOVIC.columns = MOVIC_ant.columns"
   ]
  },
  {
   "cell_type": "code",
   "execution_count": 41,
   "id": "fc40ef24",
   "metadata": {},
   "outputs": [],
   "source": [
    "MOVIC_new = MOVIC[MOVIC.paymentId.isin(np.setdiff1d(MOVIC['paymentId'], MOVIC_ant['paymentId']))]\n",
    "\n",
    "MOVIC_new = MOVIC_new.drop_duplicates(subset = [\"paymentId\"])\n",
    "\n",
    "#Los para enviarse\n",
    "MOVIC_new.to_csv(f'{path}/{fecha_ayer_formato}/MOVIC_{fecha_ayer_formato}_tesoreria.csv', index = False)\n",
    "\n",
    "MOVIC_new.to_csv(f'{path}/{fecha_ayer_formato}/MOVIC_{fecha_ayer_formato}_diferencial.txt', \n",
    "                 sep ='|', index = False, header = False)"
   ]
  },
  {
   "cell_type": "markdown",
   "id": "eeb669d8",
   "metadata": {},
   "source": [
    "# MOVO"
   ]
  },
  {
   "cell_type": "code",
   "execution_count": 42,
   "id": "1002421f",
   "metadata": {},
   "outputs": [],
   "source": [
    "cursor = cnx.cursor()\n",
    "sql_query = f\"\"\"\n",
    "select\n",
    "coalesce(cd.id_red, pd.id_distribuidor) as `Contrato`,\n",
    "\"N\" AS `Anexo`,\n",
    "-- coalesce(if(cd.tipo_prestamo = 'PRESTAMO PERSONAL RED', cd.id_red, cd.id_distribuidor), pd.id_distribuidor) as `Número de documento`,\n",
    "coalesce(cd.id_distribuidor, pd.id_distribuidor) as `Número de documento`,\n",
    "DATE(pd.fecha_pago) as `Fecha Depósito`,\n",
    "DATE(pd.fecha_aplicacion_pago) as `Fecha Aplicación`,\n",
    "IF(pd.capital>0,-pd.capital,pd.capital) as `Monto de Principal`,\n",
    "IF(pd.interes>0,-pd.interes,pd.interes) as `Monto de interés`,\n",
    "IF(pd.iva>0,-pd.iva,pd.iva) as `Monto de IVA`,\n",
    "\"PAG\" AS `Tipo de Movimiento`,\n",
    "pd.procedencia as `Cuenta`,\n",
    "pd.id_pago as `paymentId`\n",
    "FROM pagos_desglosados pd\n",
    "left JOIN (\n",
    "\t\tselect \n",
    "\t\t\tca.id_distribuidor, max(ca.id_red) as 'id_red', max(ca.tipo_prestamo) as 'tipo_prestamo'\n",
    "\t\t\tfrom (\n",
    "\t\t\t\tselect \n",
    "\t\t\t\tif(tipo_prestamo = 'PRESTAMO PERSONAL RED', id_distribuidor_linea_de_credito, id_distribuidor) as 'id_distribuidor', \n",
    "\t\t\t\tid_distribuidor as 'id_red',\n",
    "\t\t\t\ttipo_prestamo\n",
    "\t\t\t\tfrom colocacion_asociado\n",
    "\t\t\t) as ca \n",
    "\t\tgroup by ca.id_distribuidor\n",
    ") cd on pd.id_distribuidor = cd.id_red\n",
    "where date(fecha_pago) >= '2021-01-01'\n",
    "            \"\"\"\n",
    "cursor.execute(sql_query)\n",
    "MOVO = cursor.fetchall()"
   ]
  },
  {
   "cell_type": "code",
   "execution_count": 43,
   "id": "5a699e73",
   "metadata": {},
   "outputs": [],
   "source": [
    "MOVO = pd.DataFrame(MOVO, columns =  ['Contrato', 'Anexo', 'Número de documento', 'Fecha Depósito',\n",
    "       'Fecha Aplicación', 'Monto de Principal', 'Monto de interés',\n",
    "       'Monto de IVA', 'Tipo de Movimiento', 'Cuenta', 'paymentId'])"
   ]
  },
  {
   "cell_type": "code",
   "execution_count": 44,
   "id": "0a9739b1",
   "metadata": {},
   "outputs": [
    {
     "name": "stdout",
     "output_type": "stream",
     "text": [
      "Todo bien con MOVO\n",
      "(334520, 11)\n"
     ]
    },
    {
     "data": {
      "text/html": [
       "<div>\n",
       "<style scoped>\n",
       "    .dataframe tbody tr th:only-of-type {\n",
       "        vertical-align: middle;\n",
       "    }\n",
       "\n",
       "    .dataframe tbody tr th {\n",
       "        vertical-align: top;\n",
       "    }\n",
       "\n",
       "    .dataframe thead th {\n",
       "        text-align: right;\n",
       "    }\n",
       "</style>\n",
       "<table border=\"1\" class=\"dataframe\">\n",
       "  <thead>\n",
       "    <tr style=\"text-align: right;\">\n",
       "      <th></th>\n",
       "      <th>Contrato</th>\n",
       "      <th>Anexo</th>\n",
       "      <th>Número de documento</th>\n",
       "      <th>Fecha Depósito</th>\n",
       "      <th>Fecha Aplicación</th>\n",
       "      <th>Monto de Principal</th>\n",
       "      <th>Monto de interés</th>\n",
       "      <th>Monto de IVA</th>\n",
       "      <th>Tipo de Movimiento</th>\n",
       "      <th>Cuenta</th>\n",
       "      <th>paymentId</th>\n",
       "    </tr>\n",
       "  </thead>\n",
       "  <tbody>\n",
       "    <tr>\n",
       "      <th>0</th>\n",
       "      <td>80782</td>\n",
       "      <td>N</td>\n",
       "      <td>80782</td>\n",
       "      <td>2021-10-04</td>\n",
       "      <td>2021-10-04</td>\n",
       "      <td>-1199.75</td>\n",
       "      <td>-103.78</td>\n",
       "      <td>-16.6</td>\n",
       "      <td>PAG</td>\n",
       "      <td>BANCOMER</td>\n",
       "      <td>105234</td>\n",
       "    </tr>\n",
       "  </tbody>\n",
       "</table>\n",
       "</div>"
      ],
      "text/plain": [
       "   Contrato Anexo Número de documento Fecha Depósito Fecha Aplicación  \\\n",
       "0     80782     N               80782     2021-10-04       2021-10-04   \n",
       "\n",
       "  Monto de Principal Monto de interés Monto de IVA Tipo de Movimiento  \\\n",
       "0           -1199.75          -103.78        -16.6                PAG   \n",
       "\n",
       "     Cuenta paymentId  \n",
       "0  BANCOMER    105234  "
      ]
     },
     "execution_count": 44,
     "metadata": {},
     "output_type": "execute_result"
    }
   ],
   "source": [
    "print(\"Hay que revisar MOVO\" if (MOVO.isna().any(0).sum() > 0) else \"Todo bien con MOVO\")\n",
    "MOVO['Contrato'] = MOVO['Contrato'].astype(int)\n",
    "MOVO_id = MOVO['Contrato']\n",
    "print(MOVO.shape)\n",
    "MOVO.head(1)"
   ]
  },
  {
   "cell_type": "code",
   "execution_count": 45,
   "id": "b767e0aa",
   "metadata": {},
   "outputs": [
    {
     "data": {
      "text/plain": [
       "256127"
      ]
     },
     "execution_count": 45,
     "metadata": {},
     "output_type": "execute_result"
    }
   ],
   "source": [
    "sum([mi in DEU_id for mi in MOVO_id])"
   ]
  },
  {
   "cell_type": "code",
   "execution_count": 46,
   "id": "f7c56652",
   "metadata": {},
   "outputs": [],
   "source": [
    "MOVO = MOVO.loc[[mi in DEU_id for mi in MOVO_id]]"
   ]
  },
  {
   "cell_type": "code",
   "execution_count": 47,
   "id": "eec422fe",
   "metadata": {},
   "outputs": [
    {
     "data": {
      "text/plain": [
       "array([], dtype=int32)"
      ]
     },
     "execution_count": 47,
     "metadata": {},
     "output_type": "execute_result"
    }
   ],
   "source": [
    "np.setdiff1d(MOVO['Contrato'], DEU_id)"
   ]
  },
  {
   "cell_type": "code",
   "execution_count": 48,
   "id": "07fd2277",
   "metadata": {},
   "outputs": [],
   "source": [
    "MOVO = MOVO.drop_duplicates(subset = [\"paymentId\"])"
   ]
  },
  {
   "cell_type": "code",
   "execution_count": 49,
   "id": "27fb5dd1",
   "metadata": {},
   "outputs": [],
   "source": [
    "MOVO.to_csv(f'./{path}/{fecha_ayer_formato}/MOVO_{fecha_ayer_formato}.txt', sep ='|', index = False, header = False)"
   ]
  },
  {
   "cell_type": "code",
   "execution_count": 50,
   "id": "557b18d0",
   "metadata": {},
   "outputs": [
    {
     "data": {
      "text/plain": [
       "(134702, 134768)"
      ]
     },
     "execution_count": 50,
     "metadata": {},
     "output_type": "execute_result"
    }
   ],
   "source": [
    "MOVO_ant = pd.read_csv(f\"{path}{ultima_fecha}/MOVO_{ultima_fecha}.txt\", sep = '|', header = None)\n",
    "MOVO_ant = MOVO_ant.infer_objects()\n",
    "\n",
    "MOVO_ant.columns = MOVO.columns\n",
    "MOVO_ant.shape[0], MOVO.shape[0]"
   ]
  },
  {
   "cell_type": "code",
   "execution_count": 51,
   "id": "360f52d1",
   "metadata": {},
   "outputs": [],
   "source": [
    "MOVO = pd.read_csv(f\"{path}{fecha_ayer_formato}/MOVO_{fecha_ayer_formato}.txt\", sep = '|', header = None)\n",
    "MOVO.columns = MOVO_ant.columns"
   ]
  },
  {
   "cell_type": "code",
   "execution_count": 52,
   "id": "6304831e",
   "metadata": {},
   "outputs": [],
   "source": [
    "MOVO_new = MOVO[MOVO.paymentId.isin(np.setdiff1d(MOVO['paymentId'], MOVO_ant['paymentId']))]\n",
    "\n",
    "MOVO_new = MOVO_new.drop_duplicates(subset = [\"paymentId\"])\n",
    "\n",
    "#Los para enviarse\n",
    "MOVO_new.to_csv(f'{path}/{fecha_ayer_formato}/MOVO_{fecha_ayer_formato}_tesoreria.csv', index = False)\n",
    "\n",
    "MOVO_new.to_csv(f'{path}/{fecha_ayer_formato}/MOVO_{fecha_ayer_formato}_diferencial.txt', sep ='|', index = False, header = False)"
   ]
  },
  {
   "cell_type": "code",
   "execution_count": 53,
   "id": "b24756fc",
   "metadata": {},
   "outputs": [
    {
     "data": {
      "text/html": [
       "<div>\n",
       "<style scoped>\n",
       "    .dataframe tbody tr th:only-of-type {\n",
       "        vertical-align: middle;\n",
       "    }\n",
       "\n",
       "    .dataframe tbody tr th {\n",
       "        vertical-align: top;\n",
       "    }\n",
       "\n",
       "    .dataframe thead th {\n",
       "        text-align: right;\n",
       "    }\n",
       "</style>\n",
       "<table border=\"1\" class=\"dataframe\">\n",
       "  <thead>\n",
       "    <tr style=\"text-align: right;\">\n",
       "      <th></th>\n",
       "      <th>Contrato</th>\n",
       "      <th>Anexo</th>\n",
       "      <th>Número de documento</th>\n",
       "      <th>Fecha Depósito</th>\n",
       "      <th>Fecha Aplicación</th>\n",
       "      <th>Monto de Principal</th>\n",
       "      <th>Monto de interés</th>\n",
       "      <th>Monto de IVA</th>\n",
       "      <th>Tipo de Movimiento</th>\n",
       "      <th>Cuenta</th>\n",
       "      <th>paymentId</th>\n",
       "    </tr>\n",
       "  </thead>\n",
       "  <tbody>\n",
       "    <tr>\n",
       "      <th>133833</th>\n",
       "      <td>180742</td>\n",
       "      <td>N</td>\n",
       "      <td>163049</td>\n",
       "      <td>2024-04-23</td>\n",
       "      <td>2024-04-24</td>\n",
       "      <td>-1734.06</td>\n",
       "      <td>-628.40</td>\n",
       "      <td>-100.54</td>\n",
       "      <td>PAG</td>\n",
       "      <td>OXXO</td>\n",
       "      <td>271754</td>\n",
       "    </tr>\n",
       "    <tr>\n",
       "      <th>133869</th>\n",
       "      <td>176616</td>\n",
       "      <td>N</td>\n",
       "      <td>147495</td>\n",
       "      <td>2024-04-23</td>\n",
       "      <td>2024-04-24</td>\n",
       "      <td>-4463.48</td>\n",
       "      <td>-288.41</td>\n",
       "      <td>-46.14</td>\n",
       "      <td>PAG</td>\n",
       "      <td>OXXO</td>\n",
       "      <td>271714</td>\n",
       "    </tr>\n",
       "    <tr>\n",
       "      <th>134032</th>\n",
       "      <td>182112</td>\n",
       "      <td>N</td>\n",
       "      <td>171064</td>\n",
       "      <td>2024-04-26</td>\n",
       "      <td>2024-04-27</td>\n",
       "      <td>-3139.06</td>\n",
       "      <td>-1287.88</td>\n",
       "      <td>-206.06</td>\n",
       "      <td>PAG</td>\n",
       "      <td>OXXO</td>\n",
       "      <td>272330</td>\n",
       "    </tr>\n",
       "    <tr>\n",
       "      <th>134104</th>\n",
       "      <td>178295</td>\n",
       "      <td>N</td>\n",
       "      <td>175869</td>\n",
       "      <td>2024-04-27</td>\n",
       "      <td>2024-04-27</td>\n",
       "      <td>-12.16</td>\n",
       "      <td>-0.88</td>\n",
       "      <td>-0.14</td>\n",
       "      <td>PAG</td>\n",
       "      <td>PAYCASH</td>\n",
       "      <td>272379</td>\n",
       "    </tr>\n",
       "    <tr>\n",
       "      <th>134113</th>\n",
       "      <td>182646</td>\n",
       "      <td>N</td>\n",
       "      <td>142329</td>\n",
       "      <td>2024-04-28</td>\n",
       "      <td>2024-04-29</td>\n",
       "      <td>-3597.50</td>\n",
       "      <td>-1238.36</td>\n",
       "      <td>-198.14</td>\n",
       "      <td>PAG</td>\n",
       "      <td>BANCOMER</td>\n",
       "      <td>272531</td>\n",
       "    </tr>\n",
       "    <tr>\n",
       "      <th>...</th>\n",
       "      <td>...</td>\n",
       "      <td>...</td>\n",
       "      <td>...</td>\n",
       "      <td>...</td>\n",
       "      <td>...</td>\n",
       "      <td>...</td>\n",
       "      <td>...</td>\n",
       "      <td>...</td>\n",
       "      <td>...</td>\n",
       "      <td>...</td>\n",
       "      <td>...</td>\n",
       "    </tr>\n",
       "    <tr>\n",
       "      <th>134763</th>\n",
       "      <td>179030</td>\n",
       "      <td>N</td>\n",
       "      <td>147476</td>\n",
       "      <td>2024-05-09</td>\n",
       "      <td>2024-05-09</td>\n",
       "      <td>-1745.96</td>\n",
       "      <td>-331.93</td>\n",
       "      <td>-53.11</td>\n",
       "      <td>PAG</td>\n",
       "      <td>BANCOMER</td>\n",
       "      <td>274726</td>\n",
       "    </tr>\n",
       "    <tr>\n",
       "      <th>134764</th>\n",
       "      <td>180296</td>\n",
       "      <td>N</td>\n",
       "      <td>150647</td>\n",
       "      <td>2024-05-09</td>\n",
       "      <td>2024-05-09</td>\n",
       "      <td>-7181.65</td>\n",
       "      <td>-1483.92</td>\n",
       "      <td>-237.43</td>\n",
       "      <td>PAG</td>\n",
       "      <td>PAYCASH</td>\n",
       "      <td>274736</td>\n",
       "    </tr>\n",
       "    <tr>\n",
       "      <th>134765</th>\n",
       "      <td>184066</td>\n",
       "      <td>N</td>\n",
       "      <td>184170</td>\n",
       "      <td>2024-05-09</td>\n",
       "      <td>2024-05-09</td>\n",
       "      <td>-6066.90</td>\n",
       "      <td>-1235.43</td>\n",
       "      <td>-197.67</td>\n",
       "      <td>PAG</td>\n",
       "      <td>PAYCASH</td>\n",
       "      <td>274738</td>\n",
       "    </tr>\n",
       "    <tr>\n",
       "      <th>134766</th>\n",
       "      <td>183476</td>\n",
       "      <td>N</td>\n",
       "      <td>115084</td>\n",
       "      <td>2024-05-09</td>\n",
       "      <td>2024-05-09</td>\n",
       "      <td>-2118.00</td>\n",
       "      <td>0.00</td>\n",
       "      <td>0.00</td>\n",
       "      <td>PAG</td>\n",
       "      <td>PAYCASH</td>\n",
       "      <td>274749</td>\n",
       "    </tr>\n",
       "    <tr>\n",
       "      <th>134767</th>\n",
       "      <td>176486</td>\n",
       "      <td>N</td>\n",
       "      <td>100273</td>\n",
       "      <td>2024-05-09</td>\n",
       "      <td>2024-05-09</td>\n",
       "      <td>-2002.35</td>\n",
       "      <td>-120.39</td>\n",
       "      <td>-19.26</td>\n",
       "      <td>PAG</td>\n",
       "      <td>GARANTIA</td>\n",
       "      <td>274753</td>\n",
       "    </tr>\n",
       "  </tbody>\n",
       "</table>\n",
       "<p>192 rows × 11 columns</p>\n",
       "</div>"
      ],
      "text/plain": [
       "        Contrato Anexo  Número de documento Fecha Depósito Fecha Aplicación  \\\n",
       "133833    180742     N               163049     2024-04-23       2024-04-24   \n",
       "133869    176616     N               147495     2024-04-23       2024-04-24   \n",
       "134032    182112     N               171064     2024-04-26       2024-04-27   \n",
       "134104    178295     N               175869     2024-04-27       2024-04-27   \n",
       "134113    182646     N               142329     2024-04-28       2024-04-29   \n",
       "...          ...   ...                  ...            ...              ...   \n",
       "134763    179030     N               147476     2024-05-09       2024-05-09   \n",
       "134764    180296     N               150647     2024-05-09       2024-05-09   \n",
       "134765    184066     N               184170     2024-05-09       2024-05-09   \n",
       "134766    183476     N               115084     2024-05-09       2024-05-09   \n",
       "134767    176486     N               100273     2024-05-09       2024-05-09   \n",
       "\n",
       "        Monto de Principal  Monto de interés  Monto de IVA Tipo de Movimiento  \\\n",
       "133833            -1734.06           -628.40       -100.54                PAG   \n",
       "133869            -4463.48           -288.41        -46.14                PAG   \n",
       "134032            -3139.06          -1287.88       -206.06                PAG   \n",
       "134104              -12.16             -0.88         -0.14                PAG   \n",
       "134113            -3597.50          -1238.36       -198.14                PAG   \n",
       "...                    ...               ...           ...                ...   \n",
       "134763            -1745.96           -331.93        -53.11                PAG   \n",
       "134764            -7181.65          -1483.92       -237.43                PAG   \n",
       "134765            -6066.90          -1235.43       -197.67                PAG   \n",
       "134766            -2118.00              0.00          0.00                PAG   \n",
       "134767            -2002.35           -120.39        -19.26                PAG   \n",
       "\n",
       "          Cuenta  paymentId  \n",
       "133833      OXXO     271754  \n",
       "133869      OXXO     271714  \n",
       "134032      OXXO     272330  \n",
       "134104   PAYCASH     272379  \n",
       "134113  BANCOMER     272531  \n",
       "...          ...        ...  \n",
       "134763  BANCOMER     274726  \n",
       "134764   PAYCASH     274736  \n",
       "134765   PAYCASH     274738  \n",
       "134766   PAYCASH     274749  \n",
       "134767  GARANTIA     274753  \n",
       "\n",
       "[192 rows x 11 columns]"
      ]
     },
     "execution_count": 53,
     "metadata": {},
     "output_type": "execute_result"
    }
   ],
   "source": [
    "MOVO_new"
   ]
  },
  {
   "cell_type": "code",
   "execution_count": 54,
   "id": "d55f81ee",
   "metadata": {},
   "outputs": [],
   "source": [
    "cnx.close()"
   ]
  },
  {
   "cell_type": "markdown",
   "id": "a7e473e5",
   "metadata": {},
   "source": [
    "# Enviando al SFTP"
   ]
  },
  {
   "cell_type": "code",
   "execution_count": 55,
   "id": "c5524a6e",
   "metadata": {},
   "outputs": [],
   "source": [
    "import paramiko"
   ]
  },
  {
   "cell_type": "code",
   "execution_count": 56,
   "id": "9d9b794c",
   "metadata": {},
   "outputs": [],
   "source": [
    "# Configura la conexión SFTP\n",
    "def enviar(name):\n",
    "    hostname = 'linqsy.dyndns.org'\n",
    "    port = 22\n",
    "    username = 'Volana'\n",
    "    password = '*v0lana-202311'\n",
    "\n",
    "    # Crea una instancia de la clase Transport\n",
    "    transport = paramiko.Transport((hostname, port))\n",
    "\n",
    "    # Conéctate con el usuario y contraseña\n",
    "    transport.connect(username=username, password=password)\n",
    "\n",
    "\n",
    "    # Ruta local y remota del archivo\n",
    "    local_path = f'./JERS/data/{fecha_ayer_formato}/{name}_{fecha_ayer_formato}_diferencial.txt'\n",
    "    #remote_path = f'/archivos_{fecha_ayer_formato}/{name}_{fecha_ayer_formato}.txt'\n",
    "    #\n",
    "    remote_path = f'/{name}{fecha_ayer_formato.replace(\"-\",\"\")}.txt'\n",
    "    # Crea una instancia de la clase SFTP\n",
    "    sftp = paramiko.SFTPClient.from_transport(transport)\n",
    "\n",
    "    # Sube el archivo\n",
    "    sftp.put(local_path, remote_path)\n",
    "\n",
    "    # Cierra la conexión SFTP\n",
    "    sftp.close()\n",
    "\n",
    "    # Cierra la conexión de transporte\n",
    "    transport.close()"
   ]
  },
  {
   "cell_type": "code",
   "execution_count": 57,
   "id": "7a57c7b1",
   "metadata": {},
   "outputs": [
    {
     "name": "stdout",
     "output_type": "stream",
     "text": [
      "DEU enviado correctamente\n",
      "MOVO enviado correctamente\n",
      "MOVIC enviado correctamente\n",
      "MOVA enviado correctamente\n"
     ]
    }
   ],
   "source": [
    "for name in ['DEU','MOVO', 'MOVIC', 'MOVA']:\n",
    "#for name in ['MOVO', 'MOVIC']:\n",
    "    enviar(name)\n",
    "    print(f\"{name} enviado correctamente\")"
   ]
  },
  {
   "cell_type": "markdown",
   "id": "505ab5c2",
   "metadata": {},
   "source": [
    "# Envios por correo"
   ]
  },
  {
   "cell_type": "code",
   "execution_count": 58,
   "id": "55e1c485",
   "metadata": {},
   "outputs": [
    {
     "name": "stdout",
     "output_type": "stream",
     "text": [
      "Email sent successfully!\n"
     ]
    }
   ],
   "source": [
    "import smtplib\n",
    "from email.mime.text import MIMEText\n",
    "from email.mime.multipart import MIMEMultipart\n",
    "from email.mime.base import MIMEBase\n",
    "from email import encoders\n",
    "from datetime import datetime, timedelta\n",
    "\n",
    "# Email and password for less secure app access\n",
    "email = 'jairo.ramirez@volana.com'\n",
    "password = 'mate22MATE*'\n",
    "\n",
    "# Recipient email address\n",
    "to_email = 'neftali.sotelo@volana.com '\n",
    "Cc_email = ['antonio.herrera@volana.com', 'jairoenrique_ramirez@outlook.com']\n",
    "# Create a message\n",
    "msg = MIMEMultipart()\n",
    "msg['From'] = email\n",
    "msg['To'] = to_email\n",
    "msg['Cc'] = ' '.join(Cc_email)\n",
    "msg['Subject'] = f'Reportes Linq {fecha_ayer_formato}'\n",
    "\n",
    "body = 'Envio automático de reportes.\\nEnrique Ramírez.'\n",
    "msg.attach(MIMEText(body, 'plain'))\n",
    "\n",
    "## ======================== Adjuntos ========================\n",
    "\n",
    "files = [\"DEU\", \"MOVA\", \"MOVIC\", \"MOVO\"]\n",
    "#files = [\"MOVIC\", \"MOVO\"]\n",
    "for file in files:\n",
    "\n",
    "    filename = f'./JERS/data/{fecha_ayer_formato}/{file}_{fecha_ayer_formato}_tesoreria.csv'\n",
    "    attachment = open(filename, 'rb')\n",
    "\n",
    "    part = MIMEBase('application', 'octet-stream')\n",
    "    part.set_payload((attachment).read())\n",
    "    encoders.encode_base64(part)\n",
    "    part.add_header('Content-Disposition', \"attachment; filename= %s\" % filename)\n",
    "\n",
    "    msg.attach(part)\n",
    "\n",
    "# =================================\n",
    "\n",
    "# Connect to Gmail's SMTP server\n",
    "server = smtplib.SMTP('smtp.gmail.com', 587)\n",
    "server.starttls()\n",
    "\n",
    "# Login to your Gmail account\n",
    "server.login(email, password)\n",
    "\n",
    "# Send the email\n",
    "server.sendmail(email, [to_email] + Cc_email, msg.as_string())\n",
    "\n",
    "# Quit the server\n",
    "server.quit()\n",
    "\n",
    "print(\"Email sent successfully!\")\n"
   ]
  },
  {
   "cell_type": "code",
   "execution_count": null,
   "id": "2c015224",
   "metadata": {},
   "outputs": [],
   "source": []
  },
  {
   "cell_type": "code",
   "execution_count": null,
   "id": "93b61687",
   "metadata": {},
   "outputs": [],
   "source": []
  },
  {
   "cell_type": "code",
   "execution_count": null,
   "id": "d7e6a364",
   "metadata": {},
   "outputs": [],
   "source": []
  },
  {
   "cell_type": "code",
   "execution_count": null,
   "id": "70562edb",
   "metadata": {},
   "outputs": [],
   "source": []
  },
  {
   "cell_type": "code",
   "execution_count": null,
   "id": "1d84279a",
   "metadata": {},
   "outputs": [],
   "source": []
  }
 ],
 "metadata": {
  "kernelspec": {
   "display_name": "Python 3 (ipykernel)",
   "language": "python",
   "name": "python3"
  },
  "language_info": {
   "codemirror_mode": {
    "name": "ipython",
    "version": 3
   },
   "file_extension": ".py",
   "mimetype": "text/x-python",
   "name": "python",
   "nbconvert_exporter": "python",
   "pygments_lexer": "ipython3",
   "version": "3.11.4"
  }
 },
 "nbformat": 4,
 "nbformat_minor": 5
}
