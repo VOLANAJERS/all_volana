{
 "cells": [
  {
   "cell_type": "code",
   "execution_count": 1,
   "id": "d7da9211",
   "metadata": {},
   "outputs": [
    {
     "data": {
      "text/plain": [
       "'2023-12-25'"
      ]
     },
     "execution_count": 1,
     "metadata": {},
     "output_type": "execute_result"
    }
   ],
   "source": [
    "from datetime import datetime, timedelta\n",
    "import pandas as pd \n",
    "import datetime as dt\n",
    "import fnmatch\n",
    "import os\n",
    "import pymysql\n",
    "from sqlalchemy import create_engine\n",
    "import sys\n",
    "import json\n",
    "import numpy as np\n",
    "import warnings\n",
    "from tqdm import tqdm\n",
    "warnings.filterwarnings('ignore')\n",
    "\n",
    "# Obtener la fecha de hoy\n",
    "hoy = datetime.now()\n",
    "\n",
    "# Calcular la fecha de ayer\n",
    "ayer = hoy - timedelta(days=1)\n",
    "\n",
    "# Formatear la fecha como \"aaaa-mm-dd\"\n",
    "fecha_ayer_formato = ayer.strftime(\"%Y-%m-%d\")\n",
    "\n",
    "fecha_ayer_formato"
   ]
  },
  {
   "cell_type": "code",
   "execution_count": 2,
   "id": "7c51cbd5",
   "metadata": {},
   "outputs": [],
   "source": [
    "def encontrar_registros_adicionales(df1, df2, columnas_comparar):\n",
    "    \"\"\"\n",
    "    Encuentra los registros adicionales en el segundo DataFrame en comparación con el primero.\n",
    "\n",
    "    Parameters:\n",
    "    - df1: Primer DataFrame\n",
    "    - df2: Segundo DataFrame\n",
    "    - columnas_comparar: Lista de columnas en las cuales comparar los DataFrames\n",
    "\n",
    "    Returns:\n",
    "    - DataFrame con los registros adicionales en el segundo DataFrame\n",
    "    \"\"\"\n",
    "    # Realiza un merge con indicator=True\n",
    "    merged = pd.merge(df1, df2, on=columnas_comparar, how='outer', indicator=True)\n",
    "\n",
    "    # Filtra los resultados para obtener solo los registros en el segundo DataFrame\n",
    "    adicionales_df2 = merged.loc[lambda x: x['_merge'] == 'right_only']\n",
    "\n",
    "    # Elimina la columna _merge utilizada solo para la comparación\n",
    "    adicionales_df2 = adicionales_df2.drop('_merge', axis=1)\n",
    "\n",
    "    return adicionales_df2\n"
   ]
  },
  {
   "cell_type": "code",
   "execution_count": 3,
   "id": "a5defe7a",
   "metadata": {},
   "outputs": [],
   "source": [
    "cnx = pymysql.connect(host='159.89.90.197', port=3306, user='antonio_diaz', passwd=\"4nT0ni_0.dZ\",\n",
    "                           charset='utf8',db = 'volana')"
   ]
  },
  {
   "cell_type": "code",
   "execution_count": 4,
   "id": "f0a43c01",
   "metadata": {},
   "outputs": [],
   "source": [
    "path = f'./JERS/data/'\n",
    "if not os.path.exists(path + fecha_ayer_formato): \n",
    "    os.makedirs(path+ fecha_ayer_formato) "
   ]
  },
  {
   "cell_type": "markdown",
   "id": "e3f8f55c",
   "metadata": {},
   "source": [
    "**Obtener fecha más actual**"
   ]
  },
  {
   "cell_type": "code",
   "execution_count": 5,
   "id": "77fb27b6",
   "metadata": {},
   "outputs": [],
   "source": [
    "from datetime import datetime\n",
    "\n",
    "# Convierte las fechas a objetos datetime\n",
    "fechas_dt = [datetime.strptime(fecha, '%Y-%m-%d') for fecha in os.listdir(\"./JERS/data/\") if fecha != fecha_ayer_formato]\n",
    "\n",
    "# Encuentra la fecha más reciente\n",
    "ultima_fecha = max(fechas_dt)\n",
    "\n",
    "ultima_fecha = ultima_fecha.strftime('%Y-%m-%d')"
   ]
  },
  {
   "cell_type": "code",
   "execution_count": 6,
   "id": "d3862a48",
   "metadata": {},
   "outputs": [
    {
     "data": {
      "text/plain": [
       "'2023-12-21'"
      ]
     },
     "execution_count": 6,
     "metadata": {},
     "output_type": "execute_result"
    }
   ],
   "source": [
    "ultima_fecha"
   ]
  },
  {
   "cell_type": "markdown",
   "id": "bca9c809",
   "metadata": {},
   "source": [
    "# DEU"
   ]
  },
  {
   "cell_type": "code",
   "execution_count": null,
   "id": "864d30f6",
   "metadata": {},
   "outputs": [],
   "source": [
    "cursor = cnx.cursor()\n",
    "sql_query = f\"\"\"\n",
    "            SELECT \n",
    "ids.id_distribuidor as `Clave Referencia`,\n",
    "if(ids.tipo_prestamo = 'PRESTAMO PERSONAL RED', 'RED', cd.tipo_distribuidor) as 'tipo distribuidor',\n",
    "\"6\" as `Tipo Operación`,\n",
    "ids.id_red as `Contratante`,\n",
    "IFNULL(dd.apellido_1,\"X\") as `Paterno Deudor`,\n",
    "IFNULL(dd.apellido_2,\"X\") as `Materno Contratante`,\n",
    "CONCAT(ifnull(dd.nombre_1,\"\"),\" \",ifnull(dd.nombre_2,\"\")) as `Nombre Contratante`,\n",
    "\"PF\" as `Tipo de Persona`,\n",
    "ifnull(dd.rfc,\"X\") as `RFC`,\n",
    "CONCAT(ifnull(dd.calle_y_numero,\"\"),\" \",ifnull(dd.colonia,\"\")) as `Dirección`,\n",
    "IFNULL(dd.delegacion,\"X\") as `Ciudad`,\n",
    "IFNULL(dd.cp,\"X\") as `CP`,\n",
    "IFNULL(dd.estado,\"X\") as `Estado`,\n",
    "\"N/A\" as `Email`,\n",
    "IFNULL(dd.telefono,\"X\") as `Teléfono`,\n",
    "date(cd.fecha_aut_linea) as `Fecha Firma Contrato`,\n",
    "if(cd.tipo_distribuidor = 'RED',ids.fin_credito,'2099-12-31') as `Fecha Vencimiento Contrato`,\n",
    "if(cd.tipo_distribuidor = 'RED','16','0') as `Plazo`,\n",
    "ids.id_red as `Crédito`,\n",
    "\"N\" as `Anexo`,\n",
    "cd.linea_de_credito  as `Monto Contrato`,\n",
    "if(cd.tipo_distribuidor = 'RED','Semanal','Quincenal') as `Frecuencia de Pago`,\n",
    "cd.proximo_pago_total_pago as `Pago Periódico`,\n",
    "cd.linea_de_credito as `Monto Pagare`,\n",
    "if(cd.tipo_distribuidor = 'RED',ids.tasa,\"\") AS `Tasa`,\n",
    "dd.fecha_nacimiento as `Fecha de nacimiento contratante`,\n",
    "IFNULL(dd.sexo,\"X\") as `Sexo`,\n",
    "IFNULL(dd.curp,\"X\") as `CURP`\n",
    "FROM cartera_distribuidor cd\n",
    "LEFT JOIN (\n",
    "\t\tselect \n",
    "\t\t\tca.id_distribuidor, \n",
    "            max(ca.id_red) as 'id_red', \n",
    "            max(ca.tipo_prestamo) as 'tipo_prestamo',\n",
    "            max(tasa) as 'tasa',\n",
    "            max(fin_credito) as 'fin_credito'\n",
    "\t\t\tfrom (\n",
    "\t\t\t\tselect \n",
    "\t\t\t\tif(tipo_prestamo = 'PRESTAMO PERSONAL RED', id_distribuidor_linea_de_credito, id_distribuidor) as 'id_distribuidor', \n",
    "\t\t\t\tid_distribuidor as 'id_red',\n",
    "\t\t\t\ttipo_prestamo,\n",
    "                tasa,\n",
    "                fin_credito\n",
    "\t\t\t\tfrom colocacion_asociado\n",
    "\t\t\t) as ca \n",
    "\t\tgroup by ca.id_distribuidor\n",
    ") ids on cd.id_distribuidor = ids.id_distribuidor\n",
    "LEFT JOIN demograficos_distribuidores dd on ids.id_distribuidor = dd.id\n",
    "WHERE fecha = '{fecha_ayer_formato}' and \n",
    "ids.id_distribuidor IS NOT NULL and\n",
    "dd.nombre_1 IS NOT NULL;\n",
    "            \"\"\"\n",
    "cursor.execute(sql_query)\n",
    "DEU = cursor.fetchall()"
   ]
  },
  {
   "cell_type": "code",
   "execution_count": null,
   "id": "70befa8b",
   "metadata": {},
   "outputs": [],
   "source": [
    "DEU = pd.DataFrame(DEU,columns = ['Clave Referencia', 'tipo distribuidor', 'Tipo Operación',\n",
    "       'Contratante', 'Paterno Deudor', 'Materno Contratante',\n",
    "       'Nombre Contratante', 'Tipo de Persona', 'RFC', 'Dirección', 'Ciudad',\n",
    "       'CP', 'Estado', 'Email', 'Teléfono', 'Fecha Firma Contrato',\n",
    "       'Fecha Vencimiento Contrato', 'Plazo', 'Crédito', 'Anexo',\n",
    "       'Monto Contrato', 'Frecuencia de Pago', 'Pago Periódico',\n",
    "       'Monto Pagare', 'Tasa', 'Fecha de nacimiento contratante', 'Sexo',\n",
    "       'CURP'])"
   ]
  },
  {
   "cell_type": "markdown",
   "id": "405ad3f9",
   "metadata": {},
   "source": [
    "## Adecuaciones"
   ]
  },
  {
   "cell_type": "code",
   "execution_count": null,
   "id": "0747ac91",
   "metadata": {},
   "outputs": [],
   "source": [
    "DEU_id = np.array(DEU['Contratante'].unique(), dtype = int)\n",
    "DEU['Fecha Firma Contrato'] = pd.to_datetime(DEU['Fecha Firma Contrato'])\n",
    "print(DEU.shape)\n",
    "for name in DEU.select_dtypes(include=['object']):\n",
    "    DEU[name] = DEU[name].str.replace(\"|\", \" \")\n",
    "print(\"Hay que revisar DEU\" if (DEU.isna().any(0).sum() > 2) else \"Todo bien con DEU\")\n",
    "DEU.head(1)"
   ]
  },
  {
   "cell_type": "code",
   "execution_count": null,
   "id": "6b861989",
   "metadata": {},
   "outputs": [],
   "source": [
    "DEU.to_csv(f'{path}/{fecha_ayer_formato}/DEU_{fecha_ayer_formato}.txt', sep ='|', index = False, header = False)"
   ]
  },
  {
   "cell_type": "code",
   "execution_count": null,
   "id": "fc622b10",
   "metadata": {},
   "outputs": [],
   "source": []
  },
  {
   "cell_type": "code",
   "execution_count": null,
   "id": "c5bf06e4",
   "metadata": {},
   "outputs": [],
   "source": []
  },
  {
   "cell_type": "code",
   "execution_count": 241,
   "id": "6d023a88",
   "metadata": {},
   "outputs": [
    {
     "data": {
      "text/plain": [
       "(10909, 10909)"
      ]
     },
     "execution_count": 241,
     "metadata": {},
     "output_type": "execute_result"
    }
   ],
   "source": [
    "DEU_ant = pd.read_csv(f\"{path}{ultima_fecha}/DEU_{ultima_fecha}.txt\", sep = '|', header = None)\n",
    "DEU_ant.columns = DEU.columns\n",
    "DEU_ant.shape[0], DEU.shape[0]"
   ]
  },
  {
   "cell_type": "code",
   "execution_count": 242,
   "id": "37003283",
   "metadata": {},
   "outputs": [],
   "source": [
    "DEU = pd.read_csv(f\"{path}{fecha_ayer_formato}/DEU_{fecha_ayer_formato}.txt\", sep = '|', header = None)\n",
    "DEU.columns = DEU_ant.columns"
   ]
  },
  {
   "cell_type": "code",
   "execution_count": 243,
   "id": "b714444c",
   "metadata": {},
   "outputs": [],
   "source": [
    "DEU.Email = DEU.Email.fillna(\"\")\n",
    "DEU_ant.Email = DEU_ant.Email.fillna(\"\")"
   ]
  },
  {
   "cell_type": "code",
   "execution_count": 244,
   "id": "2fedf2db",
   "metadata": {},
   "outputs": [
    {
     "data": {
      "text/plain": [
       "(73, 28)"
      ]
     },
     "execution_count": 244,
     "metadata": {},
     "output_type": "execute_result"
    }
   ],
   "source": [
    "DEU_new = encontrar_registros_adicionales(DEU, DEU_ant, list(DEU.columns))\n",
    "\n",
    "DEU_new.shape"
   ]
  },
  {
   "cell_type": "code",
   "execution_count": 245,
   "id": "caef6672",
   "metadata": {},
   "outputs": [],
   "source": [
    "DEU_new.to_csv(f'{path}/{fecha_ayer_formato}/DEU_{fecha_ayer_formato}_diferencial.txt', sep ='|', index = False, header = False)"
   ]
  },
  {
   "cell_type": "markdown",
   "id": "a53a4651",
   "metadata": {},
   "source": [
    "# MOVA"
   ]
  },
  {
   "cell_type": "code",
   "execution_count": 246,
   "id": "e69ab37f",
   "metadata": {},
   "outputs": [],
   "source": [
    "cursor = cnx.cursor()\n",
    "sql_query = f\"\"\"\n",
    "select \n",
    "    id_distribuidor as `Contrato`,\n",
    "    \"N\" as `Anexo`,\n",
    "    -- if(tipo_distribuidor = 'RED', id_distribuidor_linea_de_credito, id_distribuidor) as `Número de documento`,\n",
    "    id_distribuidor as `Número de documento`,\n",
    "    date(if(tipo_distribuidor = 'RED',fin_credito,'2099-12-31')) as `Fecha Vencimiento`,\n",
    "    ROUND(sum(capital), 2) as `Monto Capital`,\n",
    "    ROUND(sum(interes), 2) as `Monto intérés`,\n",
    "    ROUND(sum(iva), 2) as `Monto IVA`,\n",
    "    \"FAC\" AS `Tipo de Movimiento`\n",
    "FROM\n",
    "    (SELECT \n",
    "    cd.id_distribuidor,\n",
    "    \"N\" as `Anexo`,\n",
    "    cd.tipo_distribuidor,\n",
    "    ca.capital,\n",
    "    ca.interes,\n",
    "    ca.iva,\n",
    "    cd.fecha,\n",
    "    ca.fin_credito,\n",
    "    ca.no_pagos,\n",
    "    ca.id_distribuidor_linea_de_credito\n",
    "    FROM cartera_distribuidor cd\n",
    "    LEFT JOIN colocacion_asociado ca on cd.id_distribuidor = ca.id_distribuidor\n",
    "    WHERE fecha = '{fecha_ayer_formato}' and ca.tipo_prestamo = 'PRESTAMO PERSONAL RED') as temp\n",
    "\n",
    "GROUP BY temp.id_distribuidor, fecha, fin_credito, tipo_distribuidor-- , temp.id_distribuidor_linea_de_credito\n",
    "            \"\"\"\n",
    "cursor.execute(sql_query)\n",
    "MOVA = cursor.fetchall()"
   ]
  },
  {
   "cell_type": "code",
   "execution_count": 247,
   "id": "8ac11944",
   "metadata": {},
   "outputs": [],
   "source": [
    "MOVA = pd.DataFrame(MOVA, columns = ['Contrato', 'Anexo', 'Número de documento', 'Fecha Vencimiento',\n",
    "       'Monto Capital', 'Monto intérés', 'Monto IVA', 'Tipo de Movimiento'])"
   ]
  },
  {
   "cell_type": "markdown",
   "id": "a488d424",
   "metadata": {},
   "source": [
    "## Adecuaciones"
   ]
  },
  {
   "cell_type": "code",
   "execution_count": 248,
   "id": "e9792e56",
   "metadata": {},
   "outputs": [
    {
     "name": "stdout",
     "output_type": "stream",
     "text": [
      "Todo bien con MOVA\n",
      "(3696, 8)\n"
     ]
    },
    {
     "data": {
      "text/html": [
       "<div>\n",
       "<style scoped>\n",
       "    .dataframe tbody tr th:only-of-type {\n",
       "        vertical-align: middle;\n",
       "    }\n",
       "\n",
       "    .dataframe tbody tr th {\n",
       "        vertical-align: top;\n",
       "    }\n",
       "\n",
       "    .dataframe thead th {\n",
       "        text-align: right;\n",
       "    }\n",
       "</style>\n",
       "<table border=\"1\" class=\"dataframe\">\n",
       "  <thead>\n",
       "    <tr style=\"text-align: right;\">\n",
       "      <th></th>\n",
       "      <th>Contrato</th>\n",
       "      <th>Anexo</th>\n",
       "      <th>Número de documento</th>\n",
       "      <th>Fecha Vencimiento</th>\n",
       "      <th>Monto Capital</th>\n",
       "      <th>Monto intérés</th>\n",
       "      <th>Monto IVA</th>\n",
       "      <th>Tipo de Movimiento</th>\n",
       "    </tr>\n",
       "  </thead>\n",
       "  <tbody>\n",
       "    <tr>\n",
       "      <th>0</th>\n",
       "      <td>81210</td>\n",
       "      <td>N</td>\n",
       "      <td>81210</td>\n",
       "      <td>2021-10-25</td>\n",
       "      <td>34000.0</td>\n",
       "      <td>8245.12</td>\n",
       "      <td>1319.22</td>\n",
       "      <td>FAC</td>\n",
       "    </tr>\n",
       "  </tbody>\n",
       "</table>\n",
       "</div>"
      ],
      "text/plain": [
       "   Contrato Anexo  Número de documento Fecha Vencimiento  Monto Capital  \\\n",
       "0     81210     N                81210        2021-10-25        34000.0   \n",
       "\n",
       "   Monto intérés  Monto IVA Tipo de Movimiento  \n",
       "0        8245.12    1319.22                FAC  "
      ]
     },
     "execution_count": 248,
     "metadata": {},
     "output_type": "execute_result"
    }
   ],
   "source": [
    "MOVA['Fecha Vencimiento'] = MOVA['Fecha Vencimiento'].fillna(\"2099-12-31\")\n",
    "print(\"Hay que revisar MOVA\" if (MOVA.isna().any(0).sum() > 0) else \"Todo bien con MOVA\")\n",
    "MOVA['Contrato'] = MOVA['Contrato'].astype(int)\n",
    "MOVA_id = MOVA['Contrato']\n",
    "print(MOVA.shape)\n",
    "MOVA.head(1)"
   ]
  },
  {
   "cell_type": "code",
   "execution_count": 249,
   "id": "8eab29fd",
   "metadata": {},
   "outputs": [
    {
     "data": {
      "text/plain": [
       "array([], dtype=int32)"
      ]
     },
     "execution_count": 249,
     "metadata": {},
     "output_type": "execute_result"
    }
   ],
   "source": [
    "MOVA = MOVA.loc[[mi in DEU_id for mi in MOVA_id]]\n",
    "MOVA = MOVA.drop_duplicates('Contrato')\n",
    "np.setdiff1d(MOVA['Contrato'], DEU_id)"
   ]
  },
  {
   "cell_type": "code",
   "execution_count": 250,
   "id": "d68fb425",
   "metadata": {},
   "outputs": [
    {
     "name": "stderr",
     "output_type": "stream",
     "text": [
      "2292it [00:02, 843.18it/s] \n"
     ]
    }
   ],
   "source": [
    "new_mova = []\n",
    "for row in tqdm(MOVA.iterrows()):\n",
    "    #new_mova = pd.concat([new_mova, row[1]], axis = 1)\n",
    "    #new_mova.append(row[1])\n",
    "    num = 16\n",
    "    for i in range(1, num + 1):\n",
    "        new_row = row[1].copy()\n",
    "        new_row['Número de documento'] = str(new_row['Número de documento']) + \"_\"+str(i)\n",
    "        new_row['Monto Capital'] = new_row['Monto Capital'] / num\n",
    "        new_row['Monto intérés'] = new_row['Monto intérés'] / num\n",
    "        new_row['Monto IVA'] = new_row['Monto IVA'] / num\n",
    "        #new_mova = pd.concat([new_mova, new_row], axis = 1)\n",
    "        new_mova.append(new_row)"
   ]
  },
  {
   "cell_type": "code",
   "execution_count": 251,
   "id": "a5a23a64",
   "metadata": {},
   "outputs": [
    {
     "data": {
      "text/html": [
       "<div>\n",
       "<style scoped>\n",
       "    .dataframe tbody tr th:only-of-type {\n",
       "        vertical-align: middle;\n",
       "    }\n",
       "\n",
       "    .dataframe tbody tr th {\n",
       "        vertical-align: top;\n",
       "    }\n",
       "\n",
       "    .dataframe thead th {\n",
       "        text-align: right;\n",
       "    }\n",
       "</style>\n",
       "<table border=\"1\" class=\"dataframe\">\n",
       "  <thead>\n",
       "    <tr style=\"text-align: right;\">\n",
       "      <th></th>\n",
       "      <th>Contrato</th>\n",
       "      <th>Anexo</th>\n",
       "      <th>Número de documento</th>\n",
       "      <th>Fecha Vencimiento</th>\n",
       "      <th>Monto Capital</th>\n",
       "      <th>Monto intérés</th>\n",
       "      <th>Monto IVA</th>\n",
       "      <th>Tipo de Movimiento</th>\n",
       "    </tr>\n",
       "  </thead>\n",
       "  <tbody>\n",
       "    <tr>\n",
       "      <th>0</th>\n",
       "      <td>81210</td>\n",
       "      <td>N</td>\n",
       "      <td>81210_1</td>\n",
       "      <td>2021-10-25</td>\n",
       "      <td>2125.0</td>\n",
       "      <td>515.32</td>\n",
       "      <td>82.45125</td>\n",
       "      <td>FAC</td>\n",
       "    </tr>\n",
       "    <tr>\n",
       "      <th>0</th>\n",
       "      <td>81210</td>\n",
       "      <td>N</td>\n",
       "      <td>81210_2</td>\n",
       "      <td>2021-10-25</td>\n",
       "      <td>2125.0</td>\n",
       "      <td>515.32</td>\n",
       "      <td>82.45125</td>\n",
       "      <td>FAC</td>\n",
       "    </tr>\n",
       "    <tr>\n",
       "      <th>0</th>\n",
       "      <td>81210</td>\n",
       "      <td>N</td>\n",
       "      <td>81210_3</td>\n",
       "      <td>2021-10-25</td>\n",
       "      <td>2125.0</td>\n",
       "      <td>515.32</td>\n",
       "      <td>82.45125</td>\n",
       "      <td>FAC</td>\n",
       "    </tr>\n",
       "    <tr>\n",
       "      <th>0</th>\n",
       "      <td>81210</td>\n",
       "      <td>N</td>\n",
       "      <td>81210_4</td>\n",
       "      <td>2021-10-25</td>\n",
       "      <td>2125.0</td>\n",
       "      <td>515.32</td>\n",
       "      <td>82.45125</td>\n",
       "      <td>FAC</td>\n",
       "    </tr>\n",
       "    <tr>\n",
       "      <th>0</th>\n",
       "      <td>81210</td>\n",
       "      <td>N</td>\n",
       "      <td>81210_5</td>\n",
       "      <td>2021-10-25</td>\n",
       "      <td>2125.0</td>\n",
       "      <td>515.32</td>\n",
       "      <td>82.45125</td>\n",
       "      <td>FAC</td>\n",
       "    </tr>\n",
       "  </tbody>\n",
       "</table>\n",
       "</div>"
      ],
      "text/plain": [
       "   Contrato Anexo Número de documento Fecha Vencimiento  Monto Capital  \\\n",
       "0     81210     N             81210_1        2021-10-25         2125.0   \n",
       "0     81210     N             81210_2        2021-10-25         2125.0   \n",
       "0     81210     N             81210_3        2021-10-25         2125.0   \n",
       "0     81210     N             81210_4        2021-10-25         2125.0   \n",
       "0     81210     N             81210_5        2021-10-25         2125.0   \n",
       "\n",
       "   Monto intérés  Monto IVA Tipo de Movimiento  \n",
       "0         515.32   82.45125                FAC  \n",
       "0         515.32   82.45125                FAC  \n",
       "0         515.32   82.45125                FAC  \n",
       "0         515.32   82.45125                FAC  \n",
       "0         515.32   82.45125                FAC  "
      ]
     },
     "execution_count": 251,
     "metadata": {},
     "output_type": "execute_result"
    }
   ],
   "source": [
    "MOVA = pd.DataFrame(new_mova)\n",
    "MOVA.head()"
   ]
  },
  {
   "cell_type": "code",
   "execution_count": 252,
   "id": "e27308cd",
   "metadata": {},
   "outputs": [],
   "source": [
    "MOVA.to_csv(f'{path}/{fecha_ayer_formato}/MOVA_{fecha_ayer_formato}.txt', sep ='|', index = False, header = False)"
   ]
  },
  {
   "cell_type": "code",
   "execution_count": 253,
   "id": "9f8f7255",
   "metadata": {},
   "outputs": [
    {
     "data": {
      "text/plain": [
       "(36624, 36672)"
      ]
     },
     "execution_count": 253,
     "metadata": {},
     "output_type": "execute_result"
    }
   ],
   "source": [
    "MOVA_ant = pd.read_csv(f\"{path}{ultima_fecha}/MOVA_{ultima_fecha}.txt\", sep = '|', header = None)\n",
    "MOVA_ant = MOVA_ant.infer_objects()\n",
    "\n",
    "MOVA_ant.columns = MOVA.columns\n",
    "MOVA_ant.shape[0], MOVA.shape[0]"
   ]
  },
  {
   "cell_type": "code",
   "execution_count": 254,
   "id": "4b2e5d1e",
   "metadata": {},
   "outputs": [],
   "source": [
    "MOVA = pd.read_csv(f\"{path}{fecha_ayer_formato}/MOVA_{fecha_ayer_formato}.txt\", sep = '|', header = None)\n",
    "MOVA.columns = MOVA_ant.columns"
   ]
  },
  {
   "cell_type": "code",
   "execution_count": 255,
   "id": "b52499c2",
   "metadata": {},
   "outputs": [],
   "source": [
    "MOVA_new = encontrar_registros_adicionales(MOVA, MOVA_ant, list(MOVA.columns))\n",
    "\n",
    "MOVA_new.to_csv(f'{path}/{fecha_ayer_formato}/MOVA_{fecha_ayer_formato}_diferencial.txt', sep ='|', index = False, header = False)"
   ]
  },
  {
   "cell_type": "code",
   "execution_count": 256,
   "id": "77bfc70a",
   "metadata": {},
   "outputs": [
    {
     "data": {
      "text/html": [
       "<div>\n",
       "<style scoped>\n",
       "    .dataframe tbody tr th:only-of-type {\n",
       "        vertical-align: middle;\n",
       "    }\n",
       "\n",
       "    .dataframe tbody tr th {\n",
       "        vertical-align: top;\n",
       "    }\n",
       "\n",
       "    .dataframe thead th {\n",
       "        text-align: right;\n",
       "    }\n",
       "</style>\n",
       "<table border=\"1\" class=\"dataframe\">\n",
       "  <thead>\n",
       "    <tr style=\"text-align: right;\">\n",
       "      <th></th>\n",
       "      <th>Contrato</th>\n",
       "      <th>Anexo</th>\n",
       "      <th>Número de documento</th>\n",
       "      <th>Fecha Vencimiento</th>\n",
       "      <th>Monto Capital</th>\n",
       "      <th>Monto intérés</th>\n",
       "      <th>Monto IVA</th>\n",
       "      <th>Tipo de Movimiento</th>\n",
       "    </tr>\n",
       "  </thead>\n",
       "  <tbody>\n",
       "  </tbody>\n",
       "</table>\n",
       "</div>"
      ],
      "text/plain": [
       "Empty DataFrame\n",
       "Columns: [Contrato, Anexo, Número de documento, Fecha Vencimiento, Monto Capital, Monto intérés, Monto IVA, Tipo de Movimiento]\n",
       "Index: []"
      ]
     },
     "execution_count": 256,
     "metadata": {},
     "output_type": "execute_result"
    }
   ],
   "source": [
    "MOVA_ant.query(\"Contrato == 163779\")"
   ]
  },
  {
   "cell_type": "code",
   "execution_count": 257,
   "id": "f77ef718",
   "metadata": {},
   "outputs": [
    {
     "data": {
      "text/html": [
       "<div>\n",
       "<style scoped>\n",
       "    .dataframe tbody tr th:only-of-type {\n",
       "        vertical-align: middle;\n",
       "    }\n",
       "\n",
       "    .dataframe tbody tr th {\n",
       "        vertical-align: top;\n",
       "    }\n",
       "\n",
       "    .dataframe thead th {\n",
       "        text-align: right;\n",
       "    }\n",
       "</style>\n",
       "<table border=\"1\" class=\"dataframe\">\n",
       "  <thead>\n",
       "    <tr style=\"text-align: right;\">\n",
       "      <th></th>\n",
       "      <th>Contrato</th>\n",
       "      <th>Anexo</th>\n",
       "      <th>Número de documento</th>\n",
       "      <th>Fecha Vencimiento</th>\n",
       "      <th>Monto Capital</th>\n",
       "      <th>Monto intérés</th>\n",
       "      <th>Monto IVA</th>\n",
       "      <th>Tipo de Movimiento</th>\n",
       "    </tr>\n",
       "  </thead>\n",
       "  <tbody>\n",
       "    <tr>\n",
       "      <th>36672</th>\n",
       "      <td>152089</td>\n",
       "      <td>N</td>\n",
       "      <td>152089_1</td>\n",
       "      <td>2023-09-05</td>\n",
       "      <td>3624.99875</td>\n",
       "      <td>810.3400</td>\n",
       "      <td>129.66125</td>\n",
       "      <td>FAC</td>\n",
       "    </tr>\n",
       "    <tr>\n",
       "      <th>36673</th>\n",
       "      <td>152089</td>\n",
       "      <td>N</td>\n",
       "      <td>152089_2</td>\n",
       "      <td>2023-09-05</td>\n",
       "      <td>3624.99875</td>\n",
       "      <td>810.3400</td>\n",
       "      <td>129.66125</td>\n",
       "      <td>FAC</td>\n",
       "    </tr>\n",
       "    <tr>\n",
       "      <th>36674</th>\n",
       "      <td>152089</td>\n",
       "      <td>N</td>\n",
       "      <td>152089_3</td>\n",
       "      <td>2023-09-05</td>\n",
       "      <td>3624.99875</td>\n",
       "      <td>810.3400</td>\n",
       "      <td>129.66125</td>\n",
       "      <td>FAC</td>\n",
       "    </tr>\n",
       "    <tr>\n",
       "      <th>36675</th>\n",
       "      <td>152089</td>\n",
       "      <td>N</td>\n",
       "      <td>152089_4</td>\n",
       "      <td>2023-09-05</td>\n",
       "      <td>3624.99875</td>\n",
       "      <td>810.3400</td>\n",
       "      <td>129.66125</td>\n",
       "      <td>FAC</td>\n",
       "    </tr>\n",
       "    <tr>\n",
       "      <th>36676</th>\n",
       "      <td>152089</td>\n",
       "      <td>N</td>\n",
       "      <td>152089_5</td>\n",
       "      <td>2023-09-05</td>\n",
       "      <td>3624.99875</td>\n",
       "      <td>810.3400</td>\n",
       "      <td>129.66125</td>\n",
       "      <td>FAC</td>\n",
       "    </tr>\n",
       "    <tr>\n",
       "      <th>...</th>\n",
       "      <td>...</td>\n",
       "      <td>...</td>\n",
       "      <td>...</td>\n",
       "      <td>...</td>\n",
       "      <td>...</td>\n",
       "      <td>...</td>\n",
       "      <td>...</td>\n",
       "      <td>...</td>\n",
       "    </tr>\n",
       "    <tr>\n",
       "      <th>36731</th>\n",
       "      <td>164904</td>\n",
       "      <td>N</td>\n",
       "      <td>164904_12</td>\n",
       "      <td>2024-01-11</td>\n",
       "      <td>7499.99750</td>\n",
       "      <td>1250.0025</td>\n",
       "      <td>200.00000</td>\n",
       "      <td>FAC</td>\n",
       "    </tr>\n",
       "    <tr>\n",
       "      <th>36732</th>\n",
       "      <td>164904</td>\n",
       "      <td>N</td>\n",
       "      <td>164904_13</td>\n",
       "      <td>2024-01-11</td>\n",
       "      <td>7499.99750</td>\n",
       "      <td>1250.0025</td>\n",
       "      <td>200.00000</td>\n",
       "      <td>FAC</td>\n",
       "    </tr>\n",
       "    <tr>\n",
       "      <th>36733</th>\n",
       "      <td>164904</td>\n",
       "      <td>N</td>\n",
       "      <td>164904_14</td>\n",
       "      <td>2024-01-11</td>\n",
       "      <td>7499.99750</td>\n",
       "      <td>1250.0025</td>\n",
       "      <td>200.00000</td>\n",
       "      <td>FAC</td>\n",
       "    </tr>\n",
       "    <tr>\n",
       "      <th>36734</th>\n",
       "      <td>164904</td>\n",
       "      <td>N</td>\n",
       "      <td>164904_15</td>\n",
       "      <td>2024-01-11</td>\n",
       "      <td>7499.99750</td>\n",
       "      <td>1250.0025</td>\n",
       "      <td>200.00000</td>\n",
       "      <td>FAC</td>\n",
       "    </tr>\n",
       "    <tr>\n",
       "      <th>36735</th>\n",
       "      <td>164904</td>\n",
       "      <td>N</td>\n",
       "      <td>164904_16</td>\n",
       "      <td>2024-01-11</td>\n",
       "      <td>7499.99750</td>\n",
       "      <td>1250.0025</td>\n",
       "      <td>200.00000</td>\n",
       "      <td>FAC</td>\n",
       "    </tr>\n",
       "  </tbody>\n",
       "</table>\n",
       "<p>64 rows × 8 columns</p>\n",
       "</div>"
      ],
      "text/plain": [
       "       Contrato Anexo Número de documento Fecha Vencimiento  Monto Capital  \\\n",
       "36672    152089     N            152089_1        2023-09-05     3624.99875   \n",
       "36673    152089     N            152089_2        2023-09-05     3624.99875   \n",
       "36674    152089     N            152089_3        2023-09-05     3624.99875   \n",
       "36675    152089     N            152089_4        2023-09-05     3624.99875   \n",
       "36676    152089     N            152089_5        2023-09-05     3624.99875   \n",
       "...         ...   ...                 ...               ...            ...   \n",
       "36731    164904     N           164904_12        2024-01-11     7499.99750   \n",
       "36732    164904     N           164904_13        2024-01-11     7499.99750   \n",
       "36733    164904     N           164904_14        2024-01-11     7499.99750   \n",
       "36734    164904     N           164904_15        2024-01-11     7499.99750   \n",
       "36735    164904     N           164904_16        2024-01-11     7499.99750   \n",
       "\n",
       "       Monto intérés  Monto IVA Tipo de Movimiento  \n",
       "36672       810.3400  129.66125                FAC  \n",
       "36673       810.3400  129.66125                FAC  \n",
       "36674       810.3400  129.66125                FAC  \n",
       "36675       810.3400  129.66125                FAC  \n",
       "36676       810.3400  129.66125                FAC  \n",
       "...              ...        ...                ...  \n",
       "36731      1250.0025  200.00000                FAC  \n",
       "36732      1250.0025  200.00000                FAC  \n",
       "36733      1250.0025  200.00000                FAC  \n",
       "36734      1250.0025  200.00000                FAC  \n",
       "36735      1250.0025  200.00000                FAC  \n",
       "\n",
       "[64 rows x 8 columns]"
      ]
     },
     "execution_count": 257,
     "metadata": {},
     "output_type": "execute_result"
    }
   ],
   "source": [
    "MOVA_new"
   ]
  },
  {
   "cell_type": "markdown",
   "id": "ebbaa2b4",
   "metadata": {},
   "source": [
    "# MOVIC"
   ]
  },
  {
   "cell_type": "code",
   "execution_count": 258,
   "id": "63230d6e",
   "metadata": {},
   "outputs": [],
   "source": [
    "cursor = cnx.cursor()\n",
    "sql_query = f\"\"\"\n",
    "SELECT \n",
    "coalesce(cd.id_red, pd.id_distribuidor) as `Contrato`,\n",
    "\"N\" AS `Anexo`,\n",
    "-- coalesce(if(cd.tipo_prestamo = 'PRESTAMO PERSONAL RED', cd.id_red, cd.id_distribuidor), pd.id_distribuidor) as `Número de documento`,\n",
    "coalesce(cd.id_distribuidor, pd.id_distribuidor) as `Número de documento`,\n",
    "DATE(pd.fecha_pago) as `Fecha Depósito`,\n",
    "DATE(pd.fecha_aplicacion_pago) as `Fecha Aplicación`,\n",
    "IF(pd.seguro_asociado>0,-pd.seguro_asociado,pd.seguro_asociado) as `Monto de Seguro Asociado`,\n",
    "IF(pd.seguro_distribuidor>0,-pd.seguro_distribuidor,pd.seguro_distribuidor) as `Monto de Seguro Distribuidor`,\n",
    "\"1\" AS `Tipo de Movimiento`,\n",
    "pd.procedencia as `Cuenta`,\n",
    "pd.id_pago as `paymentId`\n",
    "\n",
    "FROM pagos_desglosados pd\n",
    "\n",
    "left JOIN (\n",
    "\t\tselect \n",
    "\t\t\tca.id_distribuidor, max(ca.id_red) as 'id_red', max(ca.tipo_prestamo) as 'tipo_prestamo'\n",
    "\t\t\tfrom (\n",
    "\t\t\t\tselect \n",
    "\t\t\t\tif(tipo_prestamo = 'PRESTAMO PERSONAL RED', id_distribuidor_linea_de_credito, id_distribuidor) as 'id_distribuidor', \n",
    "\t\t\t\tid_distribuidor as 'id_red',\n",
    "\t\t\t\ttipo_prestamo\n",
    "\t\t\t\tfrom colocacion_asociado\n",
    "\t\t\t) as ca \n",
    "\t\tgroup by ca.id_distribuidor\n",
    ") cd on pd.id_distribuidor = cd.id_red\n",
    "WHERE date(pd.fecha_pago) >='2021-01-01'\n",
    "\"\"\"\n",
    "cursor.execute(sql_query)\n",
    "MOVIC = cursor.fetchall()"
   ]
  },
  {
   "cell_type": "code",
   "execution_count": 259,
   "id": "99396dd8",
   "metadata": {},
   "outputs": [],
   "source": [
    "MOVIC = pd.DataFrame(MOVIC, columns = ['Contrato', 'Anexo', 'Número de documento', 'Fecha Depósito',\n",
    "       'Fecha Aplicación', 'Monto de Seguro Asociado',\n",
    "       'Monto de Seguro Distribuidor', 'Tipo de Movimiento', 'Cuenta',\n",
    "       'paymentId'])"
   ]
  },
  {
   "cell_type": "code",
   "execution_count": 260,
   "id": "c98cf94f",
   "metadata": {},
   "outputs": [
    {
     "name": "stdout",
     "output_type": "stream",
     "text": [
      "Todo bien con MOVIC\n",
      "(299826, 10)\n"
     ]
    },
    {
     "data": {
      "text/html": [
       "<div>\n",
       "<style scoped>\n",
       "    .dataframe tbody tr th:only-of-type {\n",
       "        vertical-align: middle;\n",
       "    }\n",
       "\n",
       "    .dataframe tbody tr th {\n",
       "        vertical-align: top;\n",
       "    }\n",
       "\n",
       "    .dataframe thead th {\n",
       "        text-align: right;\n",
       "    }\n",
       "</style>\n",
       "<table border=\"1\" class=\"dataframe\">\n",
       "  <thead>\n",
       "    <tr style=\"text-align: right;\">\n",
       "      <th></th>\n",
       "      <th>Contrato</th>\n",
       "      <th>Anexo</th>\n",
       "      <th>Número de documento</th>\n",
       "      <th>Fecha Depósito</th>\n",
       "      <th>Fecha Aplicación</th>\n",
       "      <th>Monto de Seguro Asociado</th>\n",
       "      <th>Monto de Seguro Distribuidor</th>\n",
       "      <th>Tipo de Movimiento</th>\n",
       "      <th>Cuenta</th>\n",
       "      <th>paymentId</th>\n",
       "    </tr>\n",
       "  </thead>\n",
       "  <tbody>\n",
       "    <tr>\n",
       "      <th>0</th>\n",
       "      <td>80782</td>\n",
       "      <td>N</td>\n",
       "      <td>80782</td>\n",
       "      <td>2021-10-04</td>\n",
       "      <td>2021-10-04</td>\n",
       "      <td>-50</td>\n",
       "      <td>-25</td>\n",
       "      <td>1</td>\n",
       "      <td>BANCOMER</td>\n",
       "      <td>105234</td>\n",
       "    </tr>\n",
       "  </tbody>\n",
       "</table>\n",
       "</div>"
      ],
      "text/plain": [
       "   Contrato Anexo Número de documento Fecha Depósito Fecha Aplicación  \\\n",
       "0     80782     N               80782     2021-10-04       2021-10-04   \n",
       "\n",
       "  Monto de Seguro Asociado Monto de Seguro Distribuidor Tipo de Movimiento  \\\n",
       "0                      -50                          -25                  1   \n",
       "\n",
       "     Cuenta paymentId  \n",
       "0  BANCOMER    105234  "
      ]
     },
     "execution_count": 260,
     "metadata": {},
     "output_type": "execute_result"
    }
   ],
   "source": [
    "print(\"Hay que revisar MOVIC\" if (MOVIC.isna().any(0).sum() > 0) else \"Todo bien con MOVIC\")\n",
    "MOVIC.Contrato = MOVIC.Contrato.astype(int) \n",
    "\n",
    "MOVIC_id = MOVIC['Contrato']\n",
    "print(MOVIC.shape)\n",
    "MOVIC.head(1)"
   ]
  },
  {
   "cell_type": "code",
   "execution_count": 261,
   "id": "b4460e42",
   "metadata": {},
   "outputs": [
    {
     "data": {
      "text/plain": [
       "246300"
      ]
     },
     "execution_count": 261,
     "metadata": {},
     "output_type": "execute_result"
    }
   ],
   "source": [
    "sum([mi in DEU_id for mi in MOVIC_id])"
   ]
  },
  {
   "cell_type": "code",
   "execution_count": 262,
   "id": "b466e392",
   "metadata": {
    "scrolled": true
   },
   "outputs": [],
   "source": [
    "MOVIC = MOVIC.loc[[mi in DEU_id for mi in MOVIC_id]]"
   ]
  },
  {
   "cell_type": "code",
   "execution_count": 263,
   "id": "af69b39d",
   "metadata": {},
   "outputs": [
    {
     "data": {
      "text/plain": [
       "array([], dtype=int32)"
      ]
     },
     "execution_count": 263,
     "metadata": {},
     "output_type": "execute_result"
    }
   ],
   "source": [
    "np.setdiff1d(MOVIC['Contrato'], DEU_id)"
   ]
  },
  {
   "cell_type": "code",
   "execution_count": 264,
   "id": "56b21c1e",
   "metadata": {},
   "outputs": [],
   "source": [
    "MOVIC = MOVIC.drop_duplicates(subset = [\"paymentId\"])"
   ]
  },
  {
   "cell_type": "code",
   "execution_count": 265,
   "id": "41986c46",
   "metadata": {},
   "outputs": [],
   "source": [
    "MOVIC.to_csv(f'{path}/{fecha_ayer_formato}/MOVIC_{fecha_ayer_formato}.txt', sep ='|', index = False, header = False)"
   ]
  },
  {
   "cell_type": "code",
   "execution_count": 266,
   "id": "3c6a42df",
   "metadata": {},
   "outputs": [
    {
     "data": {
      "text/plain": [
       "(246484, 126898)"
      ]
     },
     "execution_count": 266,
     "metadata": {},
     "output_type": "execute_result"
    }
   ],
   "source": [
    "MOVIC_ant = pd.read_csv(f\"{path}{ultima_fecha}/MOVIC_{ultima_fecha}.txt\", sep = '|', header = None)\n",
    "MOVIC_ant = MOVIC_ant.infer_objects()\n",
    "\n",
    "MOVIC_ant.columns = MOVIC.columns\n",
    "MOVIC_ant.shape[0], MOVIC.shape[0]"
   ]
  },
  {
   "cell_type": "code",
   "execution_count": 267,
   "id": "73c07d08",
   "metadata": {},
   "outputs": [],
   "source": [
    "MOVIC = pd.read_csv(f\"{path}{fecha_ayer_formato}/MOVIC_{fecha_ayer_formato}.txt\", sep = '|', header = None)\n",
    "MOVIC.columns = MOVIC_ant.columns"
   ]
  },
  {
   "cell_type": "code",
   "execution_count": 268,
   "id": "3ec0e52d",
   "metadata": {},
   "outputs": [],
   "source": [
    "MOVIC_new = encontrar_registros_adicionales(MOVIC, MOVIC_ant, list(MOVIC.columns))\n",
    "\n",
    "MOVIC_new = MOVIC_new.drop_duplicates(subset = [\"paymentId\"])\n",
    "\n",
    "MOVIC_new.to_csv(f'{path}/{fecha_ayer_formato}/MOVIC_{fecha_ayer_formato}_diferencial.txt', sep ='|', index = False, header = False)"
   ]
  },
  {
   "cell_type": "markdown",
   "id": "eeb669d8",
   "metadata": {},
   "source": [
    "# MOVO"
   ]
  },
  {
   "cell_type": "code",
   "execution_count": 269,
   "id": "1002421f",
   "metadata": {},
   "outputs": [],
   "source": [
    "cursor = cnx.cursor()\n",
    "sql_query = f\"\"\"\n",
    "select\n",
    "coalesce(cd.id_red, pd.id_distribuidor) as `Contrato`,\n",
    "\"N\" AS `Anexo`,\n",
    "-- coalesce(if(cd.tipo_prestamo = 'PRESTAMO PERSONAL RED', cd.id_red, cd.id_distribuidor), pd.id_distribuidor) as `Número de documento`,\n",
    "coalesce(cd.id_distribuidor, pd.id_distribuidor) as `Número de documento`,\n",
    "DATE(pd.fecha_pago) as `Fecha Depósito`,\n",
    "DATE(pd.fecha_aplicacion_pago) as `Fecha Aplicación`,\n",
    "IF(pd.capital>0,-pd.capital,pd.capital) as `Monto de Principal`,\n",
    "IF(pd.interes>0,-pd.interes,pd.interes) as `Monto de interés`,\n",
    "IF(pd.iva>0,-pd.iva,pd.iva) as `Monto de IVA`,\n",
    "\"PAG\" AS `Tipo de Movimiento`,\n",
    "pd.procedencia as `Cuenta`,\n",
    "pd.id_pago as `paymentId`\n",
    "FROM pagos_desglosados pd\n",
    "left JOIN (\n",
    "\t\tselect \n",
    "\t\t\tca.id_distribuidor, max(ca.id_red) as 'id_red', max(ca.tipo_prestamo) as 'tipo_prestamo'\n",
    "\t\t\tfrom (\n",
    "\t\t\t\tselect \n",
    "\t\t\t\tif(tipo_prestamo = 'PRESTAMO PERSONAL RED', id_distribuidor_linea_de_credito, id_distribuidor) as 'id_distribuidor', \n",
    "\t\t\t\tid_distribuidor as 'id_red',\n",
    "\t\t\t\ttipo_prestamo\n",
    "\t\t\t\tfrom colocacion_asociado\n",
    "\t\t\t) as ca \n",
    "\t\tgroup by ca.id_distribuidor\n",
    ") cd on pd.id_distribuidor = cd.id_red\n",
    "where date(fecha_pago) >= '2021-01-01'\n",
    "            \"\"\"\n",
    "cursor.execute(sql_query)\n",
    "MOVO = cursor.fetchall()"
   ]
  },
  {
   "cell_type": "code",
   "execution_count": 270,
   "id": "5a699e73",
   "metadata": {},
   "outputs": [],
   "source": [
    "MOVO = pd.DataFrame(MOVO, columns =  ['Contrato', 'Anexo', 'Número de documento', 'Fecha Depósito',\n",
    "       'Fecha Aplicación', 'Monto de Principal', 'Monto de interés',\n",
    "       'Monto de IVA', 'Tipo de Movimiento', 'Cuenta', 'paymentId'])"
   ]
  },
  {
   "cell_type": "code",
   "execution_count": 271,
   "id": "0a9739b1",
   "metadata": {},
   "outputs": [
    {
     "name": "stdout",
     "output_type": "stream",
     "text": [
      "Todo bien con MOVO\n",
      "(299826, 11)\n"
     ]
    },
    {
     "data": {
      "text/html": [
       "<div>\n",
       "<style scoped>\n",
       "    .dataframe tbody tr th:only-of-type {\n",
       "        vertical-align: middle;\n",
       "    }\n",
       "\n",
       "    .dataframe tbody tr th {\n",
       "        vertical-align: top;\n",
       "    }\n",
       "\n",
       "    .dataframe thead th {\n",
       "        text-align: right;\n",
       "    }\n",
       "</style>\n",
       "<table border=\"1\" class=\"dataframe\">\n",
       "  <thead>\n",
       "    <tr style=\"text-align: right;\">\n",
       "      <th></th>\n",
       "      <th>Contrato</th>\n",
       "      <th>Anexo</th>\n",
       "      <th>Número de documento</th>\n",
       "      <th>Fecha Depósito</th>\n",
       "      <th>Fecha Aplicación</th>\n",
       "      <th>Monto de Principal</th>\n",
       "      <th>Monto de interés</th>\n",
       "      <th>Monto de IVA</th>\n",
       "      <th>Tipo de Movimiento</th>\n",
       "      <th>Cuenta</th>\n",
       "      <th>paymentId</th>\n",
       "    </tr>\n",
       "  </thead>\n",
       "  <tbody>\n",
       "    <tr>\n",
       "      <th>0</th>\n",
       "      <td>80782</td>\n",
       "      <td>N</td>\n",
       "      <td>80782</td>\n",
       "      <td>2021-10-04</td>\n",
       "      <td>2021-10-04</td>\n",
       "      <td>-1199.75</td>\n",
       "      <td>-103.78</td>\n",
       "      <td>-16.6</td>\n",
       "      <td>PAG</td>\n",
       "      <td>BANCOMER</td>\n",
       "      <td>105234</td>\n",
       "    </tr>\n",
       "  </tbody>\n",
       "</table>\n",
       "</div>"
      ],
      "text/plain": [
       "   Contrato Anexo Número de documento Fecha Depósito Fecha Aplicación  \\\n",
       "0     80782     N               80782     2021-10-04       2021-10-04   \n",
       "\n",
       "  Monto de Principal Monto de interés Monto de IVA Tipo de Movimiento  \\\n",
       "0           -1199.75          -103.78        -16.6                PAG   \n",
       "\n",
       "     Cuenta paymentId  \n",
       "0  BANCOMER    105234  "
      ]
     },
     "execution_count": 271,
     "metadata": {},
     "output_type": "execute_result"
    }
   ],
   "source": [
    "print(\"Hay que revisar MOVO\" if (MOVO.isna().any(0).sum() > 0) else \"Todo bien con MOVO\")\n",
    "MOVO['Contrato'] = MOVO['Contrato'].astype(int)\n",
    "MOVO_id = MOVO['Contrato']\n",
    "print(MOVO.shape)\n",
    "MOVO.head(1)"
   ]
  },
  {
   "cell_type": "code",
   "execution_count": 272,
   "id": "b767e0aa",
   "metadata": {},
   "outputs": [
    {
     "data": {
      "text/plain": [
       "246300"
      ]
     },
     "execution_count": 272,
     "metadata": {},
     "output_type": "execute_result"
    }
   ],
   "source": [
    "sum([mi in DEU_id for mi in MOVO_id])"
   ]
  },
  {
   "cell_type": "code",
   "execution_count": 273,
   "id": "f7c56652",
   "metadata": {},
   "outputs": [],
   "source": [
    "MOVO = MOVO.loc[[mi in DEU_id for mi in MOVO_id]]"
   ]
  },
  {
   "cell_type": "code",
   "execution_count": 274,
   "id": "eec422fe",
   "metadata": {},
   "outputs": [
    {
     "data": {
      "text/plain": [
       "array([], dtype=int32)"
      ]
     },
     "execution_count": 274,
     "metadata": {},
     "output_type": "execute_result"
    }
   ],
   "source": [
    "np.setdiff1d(MOVO['Contrato'], DEU_id)"
   ]
  },
  {
   "cell_type": "code",
   "execution_count": 275,
   "id": "07fd2277",
   "metadata": {},
   "outputs": [],
   "source": [
    "MOVO = MOVO.drop_duplicates(subset = [\"paymentId\"])"
   ]
  },
  {
   "cell_type": "code",
   "execution_count": 276,
   "id": "27fb5dd1",
   "metadata": {},
   "outputs": [],
   "source": [
    "MOVO.to_csv(f'./{path}/{fecha_ayer_formato}/MOVO_{fecha_ayer_formato}.txt', sep ='|', index = False, header = False)"
   ]
  },
  {
   "cell_type": "code",
   "execution_count": 277,
   "id": "557b18d0",
   "metadata": {},
   "outputs": [
    {
     "data": {
      "text/plain": [
       "(246484, 126898)"
      ]
     },
     "execution_count": 277,
     "metadata": {},
     "output_type": "execute_result"
    }
   ],
   "source": [
    "MOVO_ant = pd.read_csv(f\"{path}{ultima_fecha}/MOVO_{ultima_fecha}.txt\", sep = '|', header = None)\n",
    "MOVO_ant = MOVO_ant.infer_objects()\n",
    "\n",
    "MOVO_ant.columns = MOVO.columns\n",
    "MOVO_ant.shape[0], MOVO.shape[0]"
   ]
  },
  {
   "cell_type": "code",
   "execution_count": 278,
   "id": "360f52d1",
   "metadata": {},
   "outputs": [],
   "source": [
    "MOVO = pd.read_csv(f\"{path}{fecha_ayer_formato}/MOVO_{fecha_ayer_formato}.txt\", sep = '|', header = None)\n",
    "MOVO.columns = MOVO_ant.columns"
   ]
  },
  {
   "cell_type": "code",
   "execution_count": 279,
   "id": "2ec3f525",
   "metadata": {},
   "outputs": [],
   "source": [
    "MOVO_new = encontrar_registros_adicionales(MOVO, MOVO_ant, list(MOVO.columns))\n",
    "\n",
    "MOVO_new = MOVO_new.drop_duplicates(subset = [\"paymentId\"])\n",
    "\n",
    "MOVO_new.to_csv(f'{path}/{fecha_ayer_formato}/MOVO_{fecha_ayer_formato}_diferencial.txt', sep ='|', index = False, header = False)"
   ]
  },
  {
   "cell_type": "code",
   "execution_count": 280,
   "id": "d55f81ee",
   "metadata": {},
   "outputs": [],
   "source": [
    "cnx.close()"
   ]
  },
  {
   "cell_type": "markdown",
   "id": "a7e473e5",
   "metadata": {},
   "source": [
    "# Enviando al SFTP"
   ]
  },
  {
   "cell_type": "code",
   "execution_count": 281,
   "id": "c5524a6e",
   "metadata": {},
   "outputs": [],
   "source": [
    "import paramiko"
   ]
  },
  {
   "cell_type": "code",
   "execution_count": 49,
   "id": "9d9b794c",
   "metadata": {},
   "outputs": [],
   "source": [
    "# Configura la conexión SFTP\n",
    "def enviar(name):\n",
    "    hostname = 'linqsy.dyndns.org'\n",
    "    port = 22\n",
    "    username = 'Volana'\n",
    "    password = '*v0lana-202311'\n",
    "\n",
    "    # Crea una instancia de la clase Transport\n",
    "    transport = paramiko.Transport((hostname, port))\n",
    "\n",
    "    # Conéctate con el usuario y contraseña\n",
    "    transport.connect(username=username, password=password)\n",
    "\n",
    "\n",
    "    # Ruta local y remota del archivo\n",
    "    local_path = f'./JERS/data/{fecha_ayer_formato}/{name}_{fecha_ayer_formato}_diferencial.txt'\n",
    "    #remote_path = f'/archivos_{fecha_ayer_formato}/{name}_{fecha_ayer_formato}.txt'\n",
    "    #\n",
    "    remote_path = f'/{name}{fecha_ayer_formato.replace(\"-\",\"\")}.txt'\n",
    "    # Crea una instancia de la clase SFTP\n",
    "    sftp = paramiko.SFTPClient.from_transport(transport)\n",
    "\n",
    "    # Sube el archivo\n",
    "    sftp.put(local_path, remote_path)\n",
    "\n",
    "    # Cierra la conexión SFTP\n",
    "    sftp.close()\n",
    "\n",
    "    # Cierra la conexión de transporte\n",
    "    transport.close()"
   ]
  },
  {
   "cell_type": "code",
   "execution_count": 63,
   "id": "7a57c7b1",
   "metadata": {},
   "outputs": [
    {
     "ename": "SSHException",
     "evalue": "Unable to connect to linqsy.dyndns.org: [WinError 10060] Se produjo un error durante el intento de conexión ya que la parte conectada no respondió adecuadamente tras un periodo de tiempo, o bien se produjo un error en la conexión establecida ya que el host conectado no ha podido responder",
     "output_type": "error",
     "traceback": [
      "\u001b[1;31m---------------------------------------------------------------------------\u001b[0m",
      "\u001b[1;31mSSHException\u001b[0m                              Traceback (most recent call last)",
      "Cell \u001b[1;32mIn[63], line 2\u001b[0m\n\u001b[0;32m      1\u001b[0m \u001b[38;5;28;01mfor\u001b[39;00m name \u001b[38;5;129;01min\u001b[39;00m [\u001b[38;5;124m'\u001b[39m\u001b[38;5;124mDEU\u001b[39m\u001b[38;5;124m'\u001b[39m, \u001b[38;5;124m'\u001b[39m\u001b[38;5;124mMOVA\u001b[39m\u001b[38;5;124m'\u001b[39m, \u001b[38;5;124m'\u001b[39m\u001b[38;5;124mMOVIC\u001b[39m\u001b[38;5;124m'\u001b[39m, \u001b[38;5;124m'\u001b[39m\u001b[38;5;124mMOVO\u001b[39m\u001b[38;5;124m'\u001b[39m]:\n\u001b[1;32m----> 2\u001b[0m     enviar(name)\n\u001b[0;32m      3\u001b[0m     \u001b[38;5;28mprint\u001b[39m(\u001b[38;5;124mf\u001b[39m\u001b[38;5;124m\"\u001b[39m\u001b[38;5;132;01m{\u001b[39;00mname\u001b[38;5;132;01m}\u001b[39;00m\u001b[38;5;124m enviado correctamente\u001b[39m\u001b[38;5;124m\"\u001b[39m)\n",
      "Cell \u001b[1;32mIn[49], line 9\u001b[0m, in \u001b[0;36menviar\u001b[1;34m(name)\u001b[0m\n\u001b[0;32m      6\u001b[0m password \u001b[38;5;241m=\u001b[39m \u001b[38;5;124m'\u001b[39m\u001b[38;5;124m*v0lana-202311\u001b[39m\u001b[38;5;124m'\u001b[39m\n\u001b[0;32m      8\u001b[0m \u001b[38;5;66;03m# Crea una instancia de la clase Transport\u001b[39;00m\n\u001b[1;32m----> 9\u001b[0m transport \u001b[38;5;241m=\u001b[39m paramiko\u001b[38;5;241m.\u001b[39mTransport((hostname, port))\n\u001b[0;32m     11\u001b[0m \u001b[38;5;66;03m# Conéctate con el usuario y contraseña\u001b[39;00m\n\u001b[0;32m     12\u001b[0m transport\u001b[38;5;241m.\u001b[39mconnect(username\u001b[38;5;241m=\u001b[39musername, password\u001b[38;5;241m=\u001b[39mpassword)\n",
      "File \u001b[1;32m~\\anaconda3\\Lib\\site-packages\\paramiko\\transport.py:415\u001b[0m, in \u001b[0;36mTransport.__init__\u001b[1;34m(self, sock, default_window_size, default_max_packet_size, gss_kex, gss_deleg_creds, disabled_algorithms)\u001b[0m\n\u001b[0;32m    413\u001b[0m                 \u001b[38;5;28;01mbreak\u001b[39;00m\n\u001b[0;32m    414\u001b[0m     \u001b[38;5;28;01melse\u001b[39;00m:\n\u001b[1;32m--> 415\u001b[0m         \u001b[38;5;28;01mraise\u001b[39;00m SSHException(\n\u001b[0;32m    416\u001b[0m             \u001b[38;5;124m\"\u001b[39m\u001b[38;5;124mUnable to connect to \u001b[39m\u001b[38;5;132;01m{}\u001b[39;00m\u001b[38;5;124m: \u001b[39m\u001b[38;5;132;01m{}\u001b[39;00m\u001b[38;5;124m\"\u001b[39m\u001b[38;5;241m.\u001b[39mformat(hostname, reason)\n\u001b[0;32m    417\u001b[0m         )\n\u001b[0;32m    418\u001b[0m \u001b[38;5;66;03m# okay, normal socket-ish flow here...\u001b[39;00m\n\u001b[0;32m    419\u001b[0m threading\u001b[38;5;241m.\u001b[39mThread\u001b[38;5;241m.\u001b[39m\u001b[38;5;21m__init__\u001b[39m(\u001b[38;5;28mself\u001b[39m)\n",
      "\u001b[1;31mSSHException\u001b[0m: Unable to connect to linqsy.dyndns.org: [WinError 10060] Se produjo un error durante el intento de conexión ya que la parte conectada no respondió adecuadamente tras un periodo de tiempo, o bien se produjo un error en la conexión establecida ya que el host conectado no ha podido responder"
     ]
    }
   ],
   "source": [
    "for name in ['DEU', 'MOVA', 'MOVIC', 'MOVO']:\n",
    "    enviar(name)\n",
    "    print(f\"{name} enviado correctamente\")"
   ]
  },
  {
   "cell_type": "code",
   "execution_count": null,
   "id": "a7f3c606",
   "metadata": {},
   "outputs": [],
   "source": []
  },
  {
   "cell_type": "code",
   "execution_count": null,
   "id": "2a8f482a",
   "metadata": {},
   "outputs": [],
   "source": []
  },
  {
   "cell_type": "code",
   "execution_count": 114,
   "id": "3214298c",
   "metadata": {},
   "outputs": [
    {
     "data": {
      "text/html": [
       "<div>\n",
       "<style scoped>\n",
       "    .dataframe tbody tr th:only-of-type {\n",
       "        vertical-align: middle;\n",
       "    }\n",
       "\n",
       "    .dataframe tbody tr th {\n",
       "        vertical-align: top;\n",
       "    }\n",
       "\n",
       "    .dataframe thead th {\n",
       "        text-align: right;\n",
       "    }\n",
       "</style>\n",
       "<table border=\"1\" class=\"dataframe\">\n",
       "  <thead>\n",
       "    <tr style=\"text-align: right;\">\n",
       "      <th></th>\n",
       "      <th>Clave Referencia</th>\n",
       "      <th>tipo distribuidor</th>\n",
       "      <th>Tipo Operación</th>\n",
       "      <th>Contratante</th>\n",
       "      <th>Paterno Deudor</th>\n",
       "      <th>Materno Contratante</th>\n",
       "      <th>Nombre Contratante</th>\n",
       "      <th>Tipo de Persona</th>\n",
       "      <th>RFC</th>\n",
       "      <th>Dirección</th>\n",
       "      <th>...</th>\n",
       "      <th>Crédito</th>\n",
       "      <th>Anexo</th>\n",
       "      <th>Monto Contrato</th>\n",
       "      <th>Frecuencia de Pago</th>\n",
       "      <th>Pago Periódico</th>\n",
       "      <th>Monto Pagare</th>\n",
       "      <th>Tasa</th>\n",
       "      <th>Fecha de nacimiento contratante</th>\n",
       "      <th>Sexo</th>\n",
       "      <th>CURP</th>\n",
       "    </tr>\n",
       "  </thead>\n",
       "  <tbody>\n",
       "    <tr>\n",
       "      <th>6024</th>\n",
       "      <td>150267</td>\n",
       "      <td>RED</td>\n",
       "      <td>6</td>\n",
       "      <td>170116</td>\n",
       "      <td>ROSAS</td>\n",
       "      <td>ISIDORO</td>\n",
       "      <td>GUADALUPE</td>\n",
       "      <td>PF</td>\n",
       "      <td>ROIG871212</td>\n",
       "      <td>LUIS CORDOBA REYES no ext.MZ 13 LT 20  Wencesl...</td>\n",
       "      <td>...</td>\n",
       "      <td>170116</td>\n",
       "      <td>N</td>\n",
       "      <td>15000</td>\n",
       "      <td>Semanal</td>\n",
       "      <td>0.0</td>\n",
       "      <td>15000</td>\n",
       "      <td>142.0</td>\n",
       "      <td>1987-12-12 00:00:00</td>\n",
       "      <td>FEMENINO</td>\n",
       "      <td>ROIG871212MPLSSD04</td>\n",
       "    </tr>\n",
       "    <tr>\n",
       "      <th>6045</th>\n",
       "      <td>150338</td>\n",
       "      <td>RED</td>\n",
       "      <td>6</td>\n",
       "      <td>170116</td>\n",
       "      <td>CHAVERO</td>\n",
       "      <td>RESENDIZ</td>\n",
       "      <td>MARIA DE LA LUZ</td>\n",
       "      <td>PF</td>\n",
       "      <td>CARL790912</td>\n",
       "      <td>12 DE DICIEMBRE no ext.MZ 32 LT 32  Wenceslao ...</td>\n",
       "      <td>...</td>\n",
       "      <td>170116</td>\n",
       "      <td>N</td>\n",
       "      <td>15000</td>\n",
       "      <td>Semanal</td>\n",
       "      <td>0.0</td>\n",
       "      <td>15000</td>\n",
       "      <td>142.0</td>\n",
       "      <td>1979-09-12 00:00:00</td>\n",
       "      <td>FEMENINO</td>\n",
       "      <td>CARL790912MDFHSZ03</td>\n",
       "    </tr>\n",
       "    <tr>\n",
       "      <th>6064</th>\n",
       "      <td>150414</td>\n",
       "      <td>RED</td>\n",
       "      <td>6</td>\n",
       "      <td>170116</td>\n",
       "      <td>SANTIAGO</td>\n",
       "      <td>GONZALEZ</td>\n",
       "      <td>AZUCENA</td>\n",
       "      <td>PF</td>\n",
       "      <td>SAGA881204</td>\n",
       "      <td>LUIS CORDOBA REYES no ext.MZ11 LT4  Wenceslao ...</td>\n",
       "      <td>...</td>\n",
       "      <td>170116</td>\n",
       "      <td>N</td>\n",
       "      <td>15000</td>\n",
       "      <td>Semanal</td>\n",
       "      <td>0.0</td>\n",
       "      <td>15000</td>\n",
       "      <td>142.0</td>\n",
       "      <td>1988-12-04 00:00:00</td>\n",
       "      <td>FEMENINO</td>\n",
       "      <td>SAGA881204MMCNNZ09</td>\n",
       "    </tr>\n",
       "    <tr>\n",
       "      <th>6066</th>\n",
       "      <td>150417</td>\n",
       "      <td>RED</td>\n",
       "      <td>6</td>\n",
       "      <td>170116</td>\n",
       "      <td>SANTIAGO</td>\n",
       "      <td>GONZALEZ</td>\n",
       "      <td>DANIELA ALEXANDRA</td>\n",
       "      <td>PF</td>\n",
       "      <td>SAGD040808</td>\n",
       "      <td>LUIS CORDOBA REYES no ext.MZ11 LT4  Wenceslao ...</td>\n",
       "      <td>...</td>\n",
       "      <td>170116</td>\n",
       "      <td>N</td>\n",
       "      <td>15000</td>\n",
       "      <td>Semanal</td>\n",
       "      <td>0.0</td>\n",
       "      <td>15000</td>\n",
       "      <td>147.0</td>\n",
       "      <td>2004-08-08 00:00:00</td>\n",
       "      <td>FEMENINO</td>\n",
       "      <td>SAGD040808MMCNNNA7</td>\n",
       "    </tr>\n",
       "    <tr>\n",
       "      <th>6101</th>\n",
       "      <td>150770</td>\n",
       "      <td>RED</td>\n",
       "      <td>6</td>\n",
       "      <td>170116</td>\n",
       "      <td>CHAVERO</td>\n",
       "      <td>RESENDIZ</td>\n",
       "      <td>CATALINA</td>\n",
       "      <td>PF</td>\n",
       "      <td>CARC560330</td>\n",
       "      <td>12 DE DICIEMBRE no ext.MZ32 LT32  Wenceslao Vi...</td>\n",
       "      <td>...</td>\n",
       "      <td>170116</td>\n",
       "      <td>N</td>\n",
       "      <td>15000</td>\n",
       "      <td>Semanal</td>\n",
       "      <td>0.0</td>\n",
       "      <td>15000</td>\n",
       "      <td>142.0</td>\n",
       "      <td>1956-03-30 00:00:00</td>\n",
       "      <td>FEMENINO</td>\n",
       "      <td>CARC560330MTLHST02</td>\n",
       "    </tr>\n",
       "  </tbody>\n",
       "</table>\n",
       "<p>5 rows × 28 columns</p>\n",
       "</div>"
      ],
      "text/plain": [
       "      Clave Referencia tipo distribuidor  Tipo Operación  Contratante  \\\n",
       "6024            150267               RED               6       170116   \n",
       "6045            150338               RED               6       170116   \n",
       "6064            150414               RED               6       170116   \n",
       "6066            150417               RED               6       170116   \n",
       "6101            150770               RED               6       170116   \n",
       "\n",
       "     Paterno Deudor Materno Contratante Nombre Contratante Tipo de Persona  \\\n",
       "6024          ROSAS             ISIDORO         GUADALUPE               PF   \n",
       "6045        CHAVERO            RESENDIZ    MARIA DE LA LUZ              PF   \n",
       "6064       SANTIAGO            GONZALEZ           AZUCENA               PF   \n",
       "6066       SANTIAGO            GONZALEZ  DANIELA ALEXANDRA              PF   \n",
       "6101        CHAVERO            RESENDIZ          CATALINA               PF   \n",
       "\n",
       "             RFC                                          Dirección  ...  \\\n",
       "6024  ROIG871212  LUIS CORDOBA REYES no ext.MZ 13 LT 20  Wencesl...  ...   \n",
       "6045  CARL790912  12 DE DICIEMBRE no ext.MZ 32 LT 32  Wenceslao ...  ...   \n",
       "6064  SAGA881204  LUIS CORDOBA REYES no ext.MZ11 LT4  Wenceslao ...  ...   \n",
       "6066  SAGD040808  LUIS CORDOBA REYES no ext.MZ11 LT4  Wenceslao ...  ...   \n",
       "6101  CARC560330  12 DE DICIEMBRE no ext.MZ32 LT32  Wenceslao Vi...  ...   \n",
       "\n",
       "     Crédito  Anexo Monto Contrato Frecuencia de Pago Pago Periódico  \\\n",
       "6024  170116      N          15000            Semanal            0.0   \n",
       "6045  170116      N          15000            Semanal            0.0   \n",
       "6064  170116      N          15000            Semanal            0.0   \n",
       "6066  170116      N          15000            Semanal            0.0   \n",
       "6101  170116      N          15000            Semanal            0.0   \n",
       "\n",
       "     Monto Pagare   Tasa  Fecha de nacimiento contratante      Sexo  \\\n",
       "6024        15000  142.0              1987-12-12 00:00:00  FEMENINO   \n",
       "6045        15000  142.0              1979-09-12 00:00:00  FEMENINO   \n",
       "6064        15000  142.0              1988-12-04 00:00:00  FEMENINO   \n",
       "6066        15000  147.0              2004-08-08 00:00:00  FEMENINO   \n",
       "6101        15000  142.0              1956-03-30 00:00:00  FEMENINO   \n",
       "\n",
       "                    CURP  \n",
       "6024  ROIG871212MPLSSD04  \n",
       "6045  CARL790912MDFHSZ03  \n",
       "6064  SAGA881204MMCNNZ09  \n",
       "6066  SAGD040808MMCNNNA7  \n",
       "6101  CARC560330MTLHST02  \n",
       "\n",
       "[5 rows x 28 columns]"
      ]
     },
     "execution_count": 114,
     "metadata": {},
     "output_type": "execute_result"
    }
   ],
   "source": [
    "DEU.query(\"Contratante == 170116\")"
   ]
  },
  {
   "cell_type": "code",
   "execution_count": 133,
   "id": "42a9553c",
   "metadata": {},
   "outputs": [
    {
     "data": {
      "text/plain": [
       "5"
      ]
     },
     "execution_count": 133,
     "metadata": {},
     "output_type": "execute_result"
    }
   ],
   "source": [
    "f = pd.read_csv(\"./JERS/data/2023-11-30/DEU_2023-11-30.txt\", sep = '|')\n",
    "sum(f.iloc[:, 3] == 170116)"
   ]
  },
  {
   "cell_type": "code",
   "execution_count": 135,
   "id": "6310daec",
   "metadata": {},
   "outputs": [
    {
     "data": {
      "text/plain": [
       "0"
      ]
     },
     "execution_count": 135,
     "metadata": {},
     "output_type": "execute_result"
    }
   ],
   "source": [
    "f = pd.read_csv(\"./JERS/data/2023-11-30/DEU_2023-11-30_diferencial.txt\", sep = '|')\n",
    "sum(f.iloc[:, 3] == 170116)"
   ]
  },
  {
   "cell_type": "code",
   "execution_count": 136,
   "id": "0d0aab10",
   "metadata": {},
   "outputs": [
    {
     "data": {
      "text/html": [
       "<div>\n",
       "<style scoped>\n",
       "    .dataframe tbody tr th:only-of-type {\n",
       "        vertical-align: middle;\n",
       "    }\n",
       "\n",
       "    .dataframe tbody tr th {\n",
       "        vertical-align: top;\n",
       "    }\n",
       "\n",
       "    .dataframe thead th {\n",
       "        text-align: right;\n",
       "    }\n",
       "</style>\n",
       "<table border=\"1\" class=\"dataframe\">\n",
       "  <thead>\n",
       "    <tr style=\"text-align: right;\">\n",
       "      <th></th>\n",
       "      <th>100087</th>\n",
       "      <th>RED</th>\n",
       "      <th>6</th>\n",
       "      <th>151294</th>\n",
       "      <th>CID</th>\n",
       "      <th>LOPEZ</th>\n",
       "      <th>GUADALUPE</th>\n",
       "      <th>PF</th>\n",
       "      <th>CILG720829</th>\n",
       "      <th>CALLE 6 no ext.609   Melesio Portillo</th>\n",
       "      <th>...</th>\n",
       "      <th>151294.1</th>\n",
       "      <th>N</th>\n",
       "      <th>2000</th>\n",
       "      <th>Semanal</th>\n",
       "      <th>0.0</th>\n",
       "      <th>2000.1</th>\n",
       "      <th>85.0</th>\n",
       "      <th>1972-08-29</th>\n",
       "      <th>FEMENINO</th>\n",
       "      <th>CILG720829MVZDPD05</th>\n",
       "    </tr>\n",
       "  </thead>\n",
       "  <tbody>\n",
       "    <tr>\n",
       "      <th>0</th>\n",
       "      <td>100094</td>\n",
       "      <td>RED</td>\n",
       "      <td>6</td>\n",
       "      <td>151294</td>\n",
       "      <td>BALDERAS</td>\n",
       "      <td>PALMA</td>\n",
       "      <td>MARIA ISABEL</td>\n",
       "      <td>PF</td>\n",
       "      <td>BAPI840708</td>\n",
       "      <td>C 2 A NTE no ext.lt 5   CENTRO</td>\n",
       "      <td>...</td>\n",
       "      <td>151294</td>\n",
       "      <td>N</td>\n",
       "      <td>2000</td>\n",
       "      <td>Semanal</td>\n",
       "      <td>0.0</td>\n",
       "      <td>2000</td>\n",
       "      <td>120.000000</td>\n",
       "      <td>1984-07-08</td>\n",
       "      <td>FEMENINO</td>\n",
       "      <td>BAPI840708MVZLLS01</td>\n",
       "    </tr>\n",
       "    <tr>\n",
       "      <th>1</th>\n",
       "      <td>100474</td>\n",
       "      <td>RED</td>\n",
       "      <td>6</td>\n",
       "      <td>151294</td>\n",
       "      <td>MORENO</td>\n",
       "      <td>FLORES</td>\n",
       "      <td>JULIA</td>\n",
       "      <td>PF</td>\n",
       "      <td>MOFJ650216</td>\n",
       "      <td>AND A TEJEDA no ext.1 M 67  San Jose</td>\n",
       "      <td>...</td>\n",
       "      <td>151294</td>\n",
       "      <td>N</td>\n",
       "      <td>2000</td>\n",
       "      <td>Semanal</td>\n",
       "      <td>0.0</td>\n",
       "      <td>2000</td>\n",
       "      <td>115.000000</td>\n",
       "      <td>1965-02-16</td>\n",
       "      <td>FEMENINO</td>\n",
       "      <td>MOFJ650216MVZRLL06</td>\n",
       "    </tr>\n",
       "    <tr>\n",
       "      <th>2</th>\n",
       "      <td>100546</td>\n",
       "      <td>RED</td>\n",
       "      <td>6</td>\n",
       "      <td>151294</td>\n",
       "      <td>NEGRETE</td>\n",
       "      <td>LOPEZ</td>\n",
       "      <td>PATRICIA</td>\n",
       "      <td>PF</td>\n",
       "      <td>NELP731120</td>\n",
       "      <td>AV 8 PTE no ext.SN   Melesio Portillo</td>\n",
       "      <td>...</td>\n",
       "      <td>151294</td>\n",
       "      <td>N</td>\n",
       "      <td>2000</td>\n",
       "      <td>Semanal</td>\n",
       "      <td>0.0</td>\n",
       "      <td>2000</td>\n",
       "      <td>130.000000</td>\n",
       "      <td>1973-11-20</td>\n",
       "      <td>FEMENINO</td>\n",
       "      <td>NELP731120MVZGPT02</td>\n",
       "    </tr>\n",
       "    <tr>\n",
       "      <th>3</th>\n",
       "      <td>102779</td>\n",
       "      <td>RED</td>\n",
       "      <td>6</td>\n",
       "      <td>160645</td>\n",
       "      <td>VENEGAS</td>\n",
       "      <td>CHAVEZ</td>\n",
       "      <td>NOEMI</td>\n",
       "      <td>PF</td>\n",
       "      <td>VECN811225</td>\n",
       "      <td>CALLE HIPODROMO no ext.286   Santa Paula</td>\n",
       "      <td>...</td>\n",
       "      <td>160645</td>\n",
       "      <td>N</td>\n",
       "      <td>2000</td>\n",
       "      <td>Semanal</td>\n",
       "      <td>0.0</td>\n",
       "      <td>2000</td>\n",
       "      <td>115.000000</td>\n",
       "      <td>1981-12-25</td>\n",
       "      <td>FEMENINO</td>\n",
       "      <td>VECN811225MJCNHM05</td>\n",
       "    </tr>\n",
       "    <tr>\n",
       "      <th>4</th>\n",
       "      <td>105401</td>\n",
       "      <td>RED</td>\n",
       "      <td>6</td>\n",
       "      <td>166064</td>\n",
       "      <td>CEDILLO</td>\n",
       "      <td>CASTILLO</td>\n",
       "      <td>MA CONSEPCION</td>\n",
       "      <td>PF</td>\n",
       "      <td>CECC720505</td>\n",
       "      <td>CLL 5 DE MAYO no ext.10   San Pablo</td>\n",
       "      <td>...</td>\n",
       "      <td>166064</td>\n",
       "      <td>N</td>\n",
       "      <td>19000</td>\n",
       "      <td>Semanal</td>\n",
       "      <td>1820.0</td>\n",
       "      <td>19000</td>\n",
       "      <td>178.639999</td>\n",
       "      <td>1972-05-05</td>\n",
       "      <td>FEMENINO</td>\n",
       "      <td>X</td>\n",
       "    </tr>\n",
       "    <tr>\n",
       "      <th>...</th>\n",
       "      <td>...</td>\n",
       "      <td>...</td>\n",
       "      <td>...</td>\n",
       "      <td>...</td>\n",
       "      <td>...</td>\n",
       "      <td>...</td>\n",
       "      <td>...</td>\n",
       "      <td>...</td>\n",
       "      <td>...</td>\n",
       "      <td>...</td>\n",
       "      <td>...</td>\n",
       "      <td>...</td>\n",
       "      <td>...</td>\n",
       "      <td>...</td>\n",
       "      <td>...</td>\n",
       "      <td>...</td>\n",
       "      <td>...</td>\n",
       "      <td>...</td>\n",
       "      <td>...</td>\n",
       "      <td>...</td>\n",
       "      <td>...</td>\n",
       "    </tr>\n",
       "    <tr>\n",
       "      <th>171</th>\n",
       "      <td>96699</td>\n",
       "      <td>CLUB</td>\n",
       "      <td>6</td>\n",
       "      <td>96699</td>\n",
       "      <td>SOSA</td>\n",
       "      <td>RICARDEZ</td>\n",
       "      <td>CARLOTA BEATRIZ</td>\n",
       "      <td>PF</td>\n",
       "      <td>SORC750115</td>\n",
       "      <td>AND PERIFERICO no ext.218 MZ 18  Deportiva Inf...</td>\n",
       "      <td>...</td>\n",
       "      <td>96699</td>\n",
       "      <td>N</td>\n",
       "      <td>56000</td>\n",
       "      <td>Quincenal</td>\n",
       "      <td>7139.0</td>\n",
       "      <td>56000</td>\n",
       "      <td>NaN</td>\n",
       "      <td>1975-01-15</td>\n",
       "      <td>FEMENINO</td>\n",
       "      <td>SORC750115MTCSCR01</td>\n",
       "    </tr>\n",
       "    <tr>\n",
       "      <th>172</th>\n",
       "      <td>97062</td>\n",
       "      <td>RED</td>\n",
       "      <td>6</td>\n",
       "      <td>97062</td>\n",
       "      <td>LARA</td>\n",
       "      <td>RAMIREZ</td>\n",
       "      <td>ANGELA</td>\n",
       "      <td>PF</td>\n",
       "      <td>LARA731003</td>\n",
       "      <td>RIA LOS NARANJO 1RA no ext.S N   Los Naranjos ...</td>\n",
       "      <td>...</td>\n",
       "      <td>97062</td>\n",
       "      <td>N</td>\n",
       "      <td>17000</td>\n",
       "      <td>Semanal</td>\n",
       "      <td>925.0</td>\n",
       "      <td>17000</td>\n",
       "      <td>144.460007</td>\n",
       "      <td>1973-10-03</td>\n",
       "      <td>FEMENINO</td>\n",
       "      <td>LARA731003MTCRMN03</td>\n",
       "    </tr>\n",
       "    <tr>\n",
       "      <th>173</th>\n",
       "      <td>97777</td>\n",
       "      <td>RED</td>\n",
       "      <td>6</td>\n",
       "      <td>98763</td>\n",
       "      <td>GONZALEZ</td>\n",
       "      <td>COLORADO</td>\n",
       "      <td>NANCY</td>\n",
       "      <td>PF</td>\n",
       "      <td>GOCN810912</td>\n",
       "      <td>CALLE 12 ET AV 6 Y 8 PROG no ext.sn   Huatusco...</td>\n",
       "      <td>...</td>\n",
       "      <td>98763</td>\n",
       "      <td>N</td>\n",
       "      <td>2000</td>\n",
       "      <td>Semanal</td>\n",
       "      <td>0.0</td>\n",
       "      <td>2000</td>\n",
       "      <td>135.000000</td>\n",
       "      <td>1981-09-12</td>\n",
       "      <td>FEMENINO</td>\n",
       "      <td>GOCN810912MVZNLN04</td>\n",
       "    </tr>\n",
       "    <tr>\n",
       "      <th>174</th>\n",
       "      <td>98276</td>\n",
       "      <td>RED</td>\n",
       "      <td>6</td>\n",
       "      <td>98763</td>\n",
       "      <td>MARTINEZ</td>\n",
       "      <td>MARTINEZ</td>\n",
       "      <td>GLORIA AURORA</td>\n",
       "      <td>PF</td>\n",
       "      <td>MAMG760729</td>\n",
       "      <td>PRADERAS DE AXOL no ext.MZA 1 937 B  Los Manan...</td>\n",
       "      <td>...</td>\n",
       "      <td>98763</td>\n",
       "      <td>N</td>\n",
       "      <td>19000</td>\n",
       "      <td>Semanal</td>\n",
       "      <td>4200.0</td>\n",
       "      <td>19000</td>\n",
       "      <td>210.470001</td>\n",
       "      <td>1976-07-29</td>\n",
       "      <td>FEMENINO</td>\n",
       "      <td>MAMG760729MVZRRL07</td>\n",
       "    </tr>\n",
       "    <tr>\n",
       "      <th>175</th>\n",
       "      <td>99404</td>\n",
       "      <td>RED</td>\n",
       "      <td>6</td>\n",
       "      <td>99692</td>\n",
       "      <td>RODRIGUEZ</td>\n",
       "      <td>ANDRADE</td>\n",
       "      <td>MIRSHA STEPANIE</td>\n",
       "      <td>PF</td>\n",
       "      <td>ROAM850525</td>\n",
       "      <td>18 no ext.90   El Sol</td>\n",
       "      <td>...</td>\n",
       "      <td>99692</td>\n",
       "      <td>N</td>\n",
       "      <td>10000</td>\n",
       "      <td>Semanal</td>\n",
       "      <td>791.0</td>\n",
       "      <td>10000</td>\n",
       "      <td>231.419998</td>\n",
       "      <td>1985-05-25</td>\n",
       "      <td>FEMENINO</td>\n",
       "      <td>ROAM850525MDFDNR06</td>\n",
       "    </tr>\n",
       "  </tbody>\n",
       "</table>\n",
       "<p>176 rows × 28 columns</p>\n",
       "</div>"
      ],
      "text/plain": [
       "     100087   RED  6  151294        CID     LOPEZ       GUADALUPE   PF  \\\n",
       "0    100094   RED  6  151294   BALDERAS     PALMA     MARIA ISABEL  PF   \n",
       "1    100474   RED  6  151294     MORENO    FLORES           JULIA   PF   \n",
       "2    100546   RED  6  151294    NEGRETE     LOPEZ        PATRICIA   PF   \n",
       "3    102779   RED  6  160645    VENEGAS    CHAVEZ           NOEMI   PF   \n",
       "4    105401   RED  6  166064    CEDILLO  CASTILLO    MA CONSEPCION  PF   \n",
       "..      ...   ... ..     ...        ...       ...              ...  ..   \n",
       "171   96699  CLUB  6   96699       SOSA  RICARDEZ  CARLOTA BEATRIZ  PF   \n",
       "172   97062   RED  6   97062       LARA   RAMIREZ          ANGELA   PF   \n",
       "173   97777   RED  6   98763   GONZALEZ  COLORADO           NANCY   PF   \n",
       "174   98276   RED  6   98763   MARTINEZ  MARTINEZ    GLORIA AURORA  PF   \n",
       "175   99404   RED  6   99692  RODRIGUEZ   ANDRADE  MIRSHA STEPANIE  PF   \n",
       "\n",
       "     CILG720829              CALLE 6 no ext.609   Melesio Portillo  ...  \\\n",
       "0    BAPI840708                     C 2 A NTE no ext.lt 5   CENTRO  ...   \n",
       "1    MOFJ650216               AND A TEJEDA no ext.1 M 67  San Jose  ...   \n",
       "2    NELP731120              AV 8 PTE no ext.SN   Melesio Portillo  ...   \n",
       "3    VECN811225           CALLE HIPODROMO no ext.286   Santa Paula  ...   \n",
       "4    CECC720505                CLL 5 DE MAYO no ext.10   San Pablo  ...   \n",
       "..          ...                                                ...  ...   \n",
       "171  SORC750115  AND PERIFERICO no ext.218 MZ 18  Deportiva Inf...  ...   \n",
       "172  LARA731003  RIA LOS NARANJO 1RA no ext.S N   Los Naranjos ...  ...   \n",
       "173  GOCN810912  CALLE 12 ET AV 6 Y 8 PROG no ext.sn   Huatusco...  ...   \n",
       "174  MAMG760729  PRADERAS DE AXOL no ext.MZA 1 937 B  Los Manan...  ...   \n",
       "175  ROAM850525                              18 no ext.90   El Sol  ...   \n",
       "\n",
       "    151294.1  N   2000    Semanal     0.0 2000.1        85.0  1972-08-29  \\\n",
       "0     151294  N   2000    Semanal     0.0   2000  120.000000  1984-07-08   \n",
       "1     151294  N   2000    Semanal     0.0   2000  115.000000  1965-02-16   \n",
       "2     151294  N   2000    Semanal     0.0   2000  130.000000  1973-11-20   \n",
       "3     160645  N   2000    Semanal     0.0   2000  115.000000  1981-12-25   \n",
       "4     166064  N  19000    Semanal  1820.0  19000  178.639999  1972-05-05   \n",
       "..       ... ..    ...        ...     ...    ...         ...         ...   \n",
       "171    96699  N  56000  Quincenal  7139.0  56000         NaN  1975-01-15   \n",
       "172    97062  N  17000    Semanal   925.0  17000  144.460007  1973-10-03   \n",
       "173    98763  N   2000    Semanal     0.0   2000  135.000000  1981-09-12   \n",
       "174    98763  N  19000    Semanal  4200.0  19000  210.470001  1976-07-29   \n",
       "175    99692  N  10000    Semanal   791.0  10000  231.419998  1985-05-25   \n",
       "\n",
       "     FEMENINO  CILG720829MVZDPD05  \n",
       "0    FEMENINO  BAPI840708MVZLLS01  \n",
       "1    FEMENINO  MOFJ650216MVZRLL06  \n",
       "2    FEMENINO  NELP731120MVZGPT02  \n",
       "3    FEMENINO  VECN811225MJCNHM05  \n",
       "4    FEMENINO                   X  \n",
       "..        ...                 ...  \n",
       "171  FEMENINO  SORC750115MTCSCR01  \n",
       "172  FEMENINO  LARA731003MTCRMN03  \n",
       "173  FEMENINO  GOCN810912MVZNLN04  \n",
       "174  FEMENINO  MAMG760729MVZRRL07  \n",
       "175  FEMENINO  ROAM850525MDFDNR06  \n",
       "\n",
       "[176 rows x 28 columns]"
      ]
     },
     "execution_count": 136,
     "metadata": {},
     "output_type": "execute_result"
    }
   ],
   "source": [
    "f"
   ]
  },
  {
   "cell_type": "code",
   "execution_count": 167,
   "id": "45897d85",
   "metadata": {},
   "outputs": [
    {
     "data": {
      "text/plain": [
       "0"
      ]
     },
     "execution_count": 167,
     "metadata": {},
     "output_type": "execute_result"
    }
   ],
   "source": [
    "ant = pd.read_csv(\"./JERS/data/2023-11-29/DEU_2023-11-29.txt\", sep = '|', header=None)\n",
    "ant.columns = DEU.columns\n",
    "sum(ant.iloc[:, 3] == 170116)"
   ]
  },
  {
   "cell_type": "code",
   "execution_count": 168,
   "id": "4ab134e6",
   "metadata": {},
   "outputs": [
    {
     "data": {
      "text/plain": [
       "5"
      ]
     },
     "execution_count": 168,
     "metadata": {},
     "output_type": "execute_result"
    }
   ],
   "source": [
    "act = pd.read_csv(\"./JERS/data/2023-11-30/DEU_2023-11-30.txt\", sep = '|', header=None)\n",
    "act.columns = DEU.columns\n",
    "sum(act.iloc[:, 3] == 170116)"
   ]
  },
  {
   "cell_type": "code",
   "execution_count": 169,
   "id": "d0e66026",
   "metadata": {},
   "outputs": [
    {
     "data": {
      "text/plain": [
       "array([170094, 170116, 170707, 170730, 170778, 170789, 170798, 170864,\n",
       "       170887, 170901, 170923, 170931, 171051, 171098, 171112, 171131,\n",
       "       171138, 171140, 171142, 171145, 171152, 171173, 171180, 171191,\n",
       "       171193], dtype=int64)"
      ]
     },
     "execution_count": 169,
     "metadata": {},
     "output_type": "execute_result"
    }
   ],
   "source": [
    "np.setdiff1d(act['Contratante'], ant['Contratante'])"
   ]
  },
  {
   "cell_type": "code",
   "execution_count": 179,
   "id": "8281667e",
   "metadata": {},
   "outputs": [
    {
     "data": {
      "text/html": [
       "<div>\n",
       "<style scoped>\n",
       "    .dataframe tbody tr th:only-of-type {\n",
       "        vertical-align: middle;\n",
       "    }\n",
       "\n",
       "    .dataframe tbody tr th {\n",
       "        vertical-align: top;\n",
       "    }\n",
       "\n",
       "    .dataframe thead th {\n",
       "        text-align: right;\n",
       "    }\n",
       "</style>\n",
       "<table border=\"1\" class=\"dataframe\">\n",
       "  <thead>\n",
       "    <tr style=\"text-align: right;\">\n",
       "      <th></th>\n",
       "      <th>Clave Referencia</th>\n",
       "      <th>tipo distribuidor</th>\n",
       "      <th>Tipo Operación</th>\n",
       "      <th>Contratante</th>\n",
       "      <th>Paterno Deudor</th>\n",
       "      <th>Materno Contratante</th>\n",
       "      <th>Nombre Contratante</th>\n",
       "      <th>Tipo de Persona</th>\n",
       "      <th>RFC</th>\n",
       "      <th>Dirección</th>\n",
       "      <th>...</th>\n",
       "      <th>Crédito</th>\n",
       "      <th>Anexo</th>\n",
       "      <th>Monto Contrato</th>\n",
       "      <th>Frecuencia de Pago</th>\n",
       "      <th>Pago Periódico</th>\n",
       "      <th>Monto Pagare</th>\n",
       "      <th>Tasa</th>\n",
       "      <th>Fecha de nacimiento contratante</th>\n",
       "      <th>Sexo</th>\n",
       "      <th>CURP</th>\n",
       "    </tr>\n",
       "  </thead>\n",
       "  <tbody>\n",
       "    <tr>\n",
       "      <th>5886</th>\n",
       "      <td>149212</td>\n",
       "      <td>RED</td>\n",
       "      <td>6</td>\n",
       "      <td>168607</td>\n",
       "      <td>VELASCO</td>\n",
       "      <td>RODRIGUEZ</td>\n",
       "      <td>SANDRA SARAHI</td>\n",
       "      <td>PF</td>\n",
       "      <td>VERS901019</td>\n",
       "      <td>CALLE 20 no ext.14   Estado de Mexico VMC</td>\n",
       "      <td>...</td>\n",
       "      <td>168607</td>\n",
       "      <td>N</td>\n",
       "      <td>19000</td>\n",
       "      <td>Semanal</td>\n",
       "      <td>3025.0</td>\n",
       "      <td>19000</td>\n",
       "      <td>142.000000</td>\n",
       "      <td>1990-10-19</td>\n",
       "      <td>FEMENINO</td>\n",
       "      <td>VERS901019MMCLDN06</td>\n",
       "    </tr>\n",
       "    <tr>\n",
       "      <th>5888</th>\n",
       "      <td>149216</td>\n",
       "      <td>RED</td>\n",
       "      <td>6</td>\n",
       "      <td>168607</td>\n",
       "      <td>ZARAGOZA</td>\n",
       "      <td>GUTIERREZ</td>\n",
       "      <td>MARGARITA</td>\n",
       "      <td>PF</td>\n",
       "      <td>ZAGM670911</td>\n",
       "      <td>CALLE 19 no ext.140 3  Estado de Mexico VMC</td>\n",
       "      <td>...</td>\n",
       "      <td>168607</td>\n",
       "      <td>N</td>\n",
       "      <td>10000</td>\n",
       "      <td>Semanal</td>\n",
       "      <td>0.0</td>\n",
       "      <td>10000</td>\n",
       "      <td>142.000000</td>\n",
       "      <td>1967-09-11</td>\n",
       "      <td>FEMENINO</td>\n",
       "      <td>ZAGM670911MDFRTR02</td>\n",
       "    </tr>\n",
       "    <tr>\n",
       "      <th>5890</th>\n",
       "      <td>149218</td>\n",
       "      <td>RED</td>\n",
       "      <td>6</td>\n",
       "      <td>168607</td>\n",
       "      <td>VELASCO</td>\n",
       "      <td>RODRIGUEZ</td>\n",
       "      <td>ALEJANDRA</td>\n",
       "      <td>PF</td>\n",
       "      <td>VERA850325</td>\n",
       "      <td>CALLE 19 no ext.139   Estado de Mexico VMC</td>\n",
       "      <td>...</td>\n",
       "      <td>168607</td>\n",
       "      <td>N</td>\n",
       "      <td>24000</td>\n",
       "      <td>Semanal</td>\n",
       "      <td>3925.0</td>\n",
       "      <td>24000</td>\n",
       "      <td>178.270004</td>\n",
       "      <td>1985-03-25</td>\n",
       "      <td>FEMENINO</td>\n",
       "      <td>VERA850325MMCLDL01</td>\n",
       "    </tr>\n",
       "    <tr>\n",
       "      <th>5897</th>\n",
       "      <td>149288</td>\n",
       "      <td>RED</td>\n",
       "      <td>6</td>\n",
       "      <td>168607</td>\n",
       "      <td>SERRANO</td>\n",
       "      <td>SANCHEZ</td>\n",
       "      <td>BRENDA GUADALUPE</td>\n",
       "      <td>PF</td>\n",
       "      <td>SESB950626</td>\n",
       "      <td>LAGO TRASIMENO no ext.190 A  AGUA AZUL</td>\n",
       "      <td>...</td>\n",
       "      <td>168607</td>\n",
       "      <td>N</td>\n",
       "      <td>10000</td>\n",
       "      <td>Semanal</td>\n",
       "      <td>1385.0</td>\n",
       "      <td>10000</td>\n",
       "      <td>161.000000</td>\n",
       "      <td>1995-06-26</td>\n",
       "      <td>FEMENINO</td>\n",
       "      <td>SESB950626MDFRNR07</td>\n",
       "    </tr>\n",
       "    <tr>\n",
       "      <th>5903</th>\n",
       "      <td>149334</td>\n",
       "      <td>RED</td>\n",
       "      <td>6</td>\n",
       "      <td>168607</td>\n",
       "      <td>MARTINEZ</td>\n",
       "      <td>CHAVEZ</td>\n",
       "      <td>ARGELIA</td>\n",
       "      <td>PF</td>\n",
       "      <td>MACA830520</td>\n",
       "      <td>LAGO TRASIMENO no ext.198   AGUA   AZUL</td>\n",
       "      <td>...</td>\n",
       "      <td>168607</td>\n",
       "      <td>N</td>\n",
       "      <td>10000</td>\n",
       "      <td>Semanal</td>\n",
       "      <td>0.0</td>\n",
       "      <td>10000</td>\n",
       "      <td>147.000000</td>\n",
       "      <td>1983-05-20</td>\n",
       "      <td>FEMENINO</td>\n",
       "      <td>MACA830520MDFRHR07</td>\n",
       "    </tr>\n",
       "    <tr>\n",
       "      <th>5907</th>\n",
       "      <td>149358</td>\n",
       "      <td>RED</td>\n",
       "      <td>6</td>\n",
       "      <td>168607</td>\n",
       "      <td>SANCHEZ</td>\n",
       "      <td>GONZALEZ</td>\n",
       "      <td>ISELDA GUADALUPE</td>\n",
       "      <td>PF</td>\n",
       "      <td>SAGI720315</td>\n",
       "      <td>LAGO TRASIMENO no ext.190 A  AGUA AZUL</td>\n",
       "      <td>...</td>\n",
       "      <td>168607</td>\n",
       "      <td>N</td>\n",
       "      <td>10000</td>\n",
       "      <td>Semanal</td>\n",
       "      <td>0.0</td>\n",
       "      <td>10000</td>\n",
       "      <td>147.000000</td>\n",
       "      <td>1972-03-15</td>\n",
       "      <td>FEMENINO</td>\n",
       "      <td>SAGI720315MMCNNS04</td>\n",
       "    </tr>\n",
       "  </tbody>\n",
       "</table>\n",
       "<p>6 rows × 28 columns</p>\n",
       "</div>"
      ],
      "text/plain": [
       "      Clave Referencia tipo distribuidor  Tipo Operación  Contratante  \\\n",
       "5886            149212               RED               6       168607   \n",
       "5888            149216               RED               6       168607   \n",
       "5890            149218               RED               6       168607   \n",
       "5897            149288               RED               6       168607   \n",
       "5903            149334               RED               6       168607   \n",
       "5907            149358               RED               6       168607   \n",
       "\n",
       "     Paterno Deudor Materno Contratante Nombre Contratante Tipo de Persona  \\\n",
       "5886        VELASCO           RODRIGUEZ      SANDRA SARAHI              PF   \n",
       "5888       ZARAGOZA           GUTIERREZ         MARGARITA               PF   \n",
       "5890        VELASCO           RODRIGUEZ         ALEJANDRA               PF   \n",
       "5897        SERRANO             SANCHEZ   BRENDA GUADALUPE              PF   \n",
       "5903       MARTINEZ              CHAVEZ           ARGELIA               PF   \n",
       "5907        SANCHEZ            GONZALEZ   ISELDA GUADALUPE              PF   \n",
       "\n",
       "             RFC                                    Dirección  ... Crédito  \\\n",
       "5886  VERS901019    CALLE 20 no ext.14   Estado de Mexico VMC  ...  168607   \n",
       "5888  ZAGM670911  CALLE 19 no ext.140 3  Estado de Mexico VMC  ...  168607   \n",
       "5890  VERA850325   CALLE 19 no ext.139   Estado de Mexico VMC  ...  168607   \n",
       "5897  SESB950626       LAGO TRASIMENO no ext.190 A  AGUA AZUL  ...  168607   \n",
       "5903  MACA830520      LAGO TRASIMENO no ext.198   AGUA   AZUL  ...  168607   \n",
       "5907  SAGI720315       LAGO TRASIMENO no ext.190 A  AGUA AZUL  ...  168607   \n",
       "\n",
       "      Anexo Monto Contrato  Frecuencia de Pago Pago Periódico Monto Pagare  \\\n",
       "5886      N          19000             Semanal         3025.0        19000   \n",
       "5888      N          10000             Semanal            0.0        10000   \n",
       "5890      N          24000             Semanal         3925.0        24000   \n",
       "5897      N          10000             Semanal         1385.0        10000   \n",
       "5903      N          10000             Semanal            0.0        10000   \n",
       "5907      N          10000             Semanal            0.0        10000   \n",
       "\n",
       "            Tasa  Fecha de nacimiento contratante      Sexo  \\\n",
       "5886  142.000000                       1990-10-19  FEMENINO   \n",
       "5888  142.000000                       1967-09-11  FEMENINO   \n",
       "5890  178.270004                       1985-03-25  FEMENINO   \n",
       "5897  161.000000                       1995-06-26  FEMENINO   \n",
       "5903  147.000000                       1983-05-20  FEMENINO   \n",
       "5907  147.000000                       1972-03-15  FEMENINO   \n",
       "\n",
       "                    CURP  \n",
       "5886  VERS901019MMCLDN06  \n",
       "5888  ZAGM670911MDFRTR02  \n",
       "5890  VERA850325MMCLDL01  \n",
       "5897  SESB950626MDFRNR07  \n",
       "5903  MACA830520MDFRHR07  \n",
       "5907  SAGI720315MMCNNS04  \n",
       "\n",
       "[6 rows x 28 columns]"
      ]
     },
     "execution_count": 179,
     "metadata": {},
     "output_type": "execute_result"
    }
   ],
   "source": [
    "act.query(\"Contratante == 168607\")"
   ]
  },
  {
   "cell_type": "code",
   "execution_count": 175,
   "id": "7bfcf1b2",
   "metadata": {},
   "outputs": [
    {
     "data": {
      "text/plain": [
       "array([   116,    797,   2564,   3481,   4913,   5728,   5846,   8082,\n",
       "         8514,   8633,   8994,  11364,  18377,  18392,  19005,  21372,\n",
       "        35175,  36018,  39115,  41923,  41954,  42541,  45700,  49058,\n",
       "        49194,  53936,  58634,  59982,  65871,  71670,  72585,  72671,\n",
       "        72755,  74111,  74349,  74420,  75222,  75542,  76453,  76890,\n",
       "        77025,  80127,  81580,  91125,  91630,  93200,  93832,  94364,\n",
       "        96699,  97062,  98015,  98763,  99692, 105594, 115814, 124276,\n",
       "       135406, 143017, 149805, 150088, 150610, 151193, 151294, 151537,\n",
       "       153292, 154410, 154813, 154950, 157331, 157729, 159099, 160152,\n",
       "       160363, 160645, 160842, 161455, 162174, 162240, 162275, 162304,\n",
       "       162341, 162565, 162649, 162785, 163201, 163656, 164143, 164381,\n",
       "       164868, 165113, 165211, 165581, 165683, 165716, 166064, 166250,\n",
       "       166500, 166649, 166991, 167702, 168607, 168894, 169004, 169280,\n",
       "       169388, 169932], dtype=int64)"
      ]
     },
     "execution_count": 175,
     "metadata": {},
     "output_type": "execute_result"
    }
   ],
   "source": [
    "np.sort(news['Contratante'].unique())"
   ]
  },
  {
   "cell_type": "code",
   "execution_count": 172,
   "id": "d0f6f3e4",
   "metadata": {},
   "outputs": [],
   "source": [
    "#sum(\n",
    "news = encontrar_registros_adicionales(act, ant, list(DEU.columns))#['Contratante'] == 170116)"
   ]
  },
  {
   "cell_type": "code",
   "execution_count": 153,
   "id": "507b9236",
   "metadata": {},
   "outputs": [
    {
     "data": {
      "text/html": [
       "<div>\n",
       "<style scoped>\n",
       "    .dataframe tbody tr th:only-of-type {\n",
       "        vertical-align: middle;\n",
       "    }\n",
       "\n",
       "    .dataframe tbody tr th {\n",
       "        vertical-align: top;\n",
       "    }\n",
       "\n",
       "    .dataframe thead th {\n",
       "        text-align: right;\n",
       "    }\n",
       "</style>\n",
       "<table border=\"1\" class=\"dataframe\">\n",
       "  <thead>\n",
       "    <tr style=\"text-align: right;\">\n",
       "      <th></th>\n",
       "      <th>Clave Referencia</th>\n",
       "      <th>tipo distribuidor</th>\n",
       "      <th>Tipo Operación</th>\n",
       "      <th>Contratante</th>\n",
       "      <th>Paterno Deudor</th>\n",
       "      <th>Materno Contratante</th>\n",
       "      <th>Nombre Contratante</th>\n",
       "      <th>Tipo de Persona</th>\n",
       "      <th>RFC</th>\n",
       "      <th>Dirección</th>\n",
       "      <th>...</th>\n",
       "      <th>Crédito</th>\n",
       "      <th>Anexo</th>\n",
       "      <th>Monto Contrato</th>\n",
       "      <th>Frecuencia de Pago</th>\n",
       "      <th>Pago Periódico</th>\n",
       "      <th>Monto Pagare</th>\n",
       "      <th>Tasa</th>\n",
       "      <th>Fecha de nacimiento contratante</th>\n",
       "      <th>Sexo</th>\n",
       "      <th>CURP</th>\n",
       "    </tr>\n",
       "  </thead>\n",
       "  <tbody>\n",
       "    <tr>\n",
       "      <th>6024</th>\n",
       "      <td>150267</td>\n",
       "      <td>RED</td>\n",
       "      <td>6</td>\n",
       "      <td>170116</td>\n",
       "      <td>ROSAS</td>\n",
       "      <td>ISIDORO</td>\n",
       "      <td>GUADALUPE</td>\n",
       "      <td>PF</td>\n",
       "      <td>ROIG871212</td>\n",
       "      <td>LUIS CORDOBA REYES no ext.MZ 13 LT 20  Wencesl...</td>\n",
       "      <td>...</td>\n",
       "      <td>170116</td>\n",
       "      <td>N</td>\n",
       "      <td>15000</td>\n",
       "      <td>Semanal</td>\n",
       "      <td>0.0</td>\n",
       "      <td>15000</td>\n",
       "      <td>142.0</td>\n",
       "      <td>1987-12-12 00:00:00</td>\n",
       "      <td>FEMENINO</td>\n",
       "      <td>ROIG871212MPLSSD04</td>\n",
       "    </tr>\n",
       "    <tr>\n",
       "      <th>6045</th>\n",
       "      <td>150338</td>\n",
       "      <td>RED</td>\n",
       "      <td>6</td>\n",
       "      <td>170116</td>\n",
       "      <td>CHAVERO</td>\n",
       "      <td>RESENDIZ</td>\n",
       "      <td>MARIA DE LA LUZ</td>\n",
       "      <td>PF</td>\n",
       "      <td>CARL790912</td>\n",
       "      <td>12 DE DICIEMBRE no ext.MZ 32 LT 32  Wenceslao ...</td>\n",
       "      <td>...</td>\n",
       "      <td>170116</td>\n",
       "      <td>N</td>\n",
       "      <td>15000</td>\n",
       "      <td>Semanal</td>\n",
       "      <td>0.0</td>\n",
       "      <td>15000</td>\n",
       "      <td>142.0</td>\n",
       "      <td>1979-09-12 00:00:00</td>\n",
       "      <td>FEMENINO</td>\n",
       "      <td>CARL790912MDFHSZ03</td>\n",
       "    </tr>\n",
       "    <tr>\n",
       "      <th>6064</th>\n",
       "      <td>150414</td>\n",
       "      <td>RED</td>\n",
       "      <td>6</td>\n",
       "      <td>170116</td>\n",
       "      <td>SANTIAGO</td>\n",
       "      <td>GONZALEZ</td>\n",
       "      <td>AZUCENA</td>\n",
       "      <td>PF</td>\n",
       "      <td>SAGA881204</td>\n",
       "      <td>LUIS CORDOBA REYES no ext.MZ11 LT4  Wenceslao ...</td>\n",
       "      <td>...</td>\n",
       "      <td>170116</td>\n",
       "      <td>N</td>\n",
       "      <td>15000</td>\n",
       "      <td>Semanal</td>\n",
       "      <td>0.0</td>\n",
       "      <td>15000</td>\n",
       "      <td>142.0</td>\n",
       "      <td>1988-12-04 00:00:00</td>\n",
       "      <td>FEMENINO</td>\n",
       "      <td>SAGA881204MMCNNZ09</td>\n",
       "    </tr>\n",
       "    <tr>\n",
       "      <th>6066</th>\n",
       "      <td>150417</td>\n",
       "      <td>RED</td>\n",
       "      <td>6</td>\n",
       "      <td>170116</td>\n",
       "      <td>SANTIAGO</td>\n",
       "      <td>GONZALEZ</td>\n",
       "      <td>DANIELA ALEXANDRA</td>\n",
       "      <td>PF</td>\n",
       "      <td>SAGD040808</td>\n",
       "      <td>LUIS CORDOBA REYES no ext.MZ11 LT4  Wenceslao ...</td>\n",
       "      <td>...</td>\n",
       "      <td>170116</td>\n",
       "      <td>N</td>\n",
       "      <td>15000</td>\n",
       "      <td>Semanal</td>\n",
       "      <td>0.0</td>\n",
       "      <td>15000</td>\n",
       "      <td>147.0</td>\n",
       "      <td>2004-08-08 00:00:00</td>\n",
       "      <td>FEMENINO</td>\n",
       "      <td>SAGD040808MMCNNNA7</td>\n",
       "    </tr>\n",
       "    <tr>\n",
       "      <th>6101</th>\n",
       "      <td>150770</td>\n",
       "      <td>RED</td>\n",
       "      <td>6</td>\n",
       "      <td>170116</td>\n",
       "      <td>CHAVERO</td>\n",
       "      <td>RESENDIZ</td>\n",
       "      <td>CATALINA</td>\n",
       "      <td>PF</td>\n",
       "      <td>CARC560330</td>\n",
       "      <td>12 DE DICIEMBRE no ext.MZ32 LT32  Wenceslao Vi...</td>\n",
       "      <td>...</td>\n",
       "      <td>170116</td>\n",
       "      <td>N</td>\n",
       "      <td>15000</td>\n",
       "      <td>Semanal</td>\n",
       "      <td>0.0</td>\n",
       "      <td>15000</td>\n",
       "      <td>142.0</td>\n",
       "      <td>1956-03-30 00:00:00</td>\n",
       "      <td>FEMENINO</td>\n",
       "      <td>CARC560330MTLHST02</td>\n",
       "    </tr>\n",
       "  </tbody>\n",
       "</table>\n",
       "<p>5 rows × 28 columns</p>\n",
       "</div>"
      ],
      "text/plain": [
       "      Clave Referencia tipo distribuidor  Tipo Operación  Contratante  \\\n",
       "6024            150267               RED               6       170116   \n",
       "6045            150338               RED               6       170116   \n",
       "6064            150414               RED               6       170116   \n",
       "6066            150417               RED               6       170116   \n",
       "6101            150770               RED               6       170116   \n",
       "\n",
       "     Paterno Deudor Materno Contratante Nombre Contratante Tipo de Persona  \\\n",
       "6024          ROSAS             ISIDORO         GUADALUPE               PF   \n",
       "6045        CHAVERO            RESENDIZ    MARIA DE LA LUZ              PF   \n",
       "6064       SANTIAGO            GONZALEZ           AZUCENA               PF   \n",
       "6066       SANTIAGO            GONZALEZ  DANIELA ALEXANDRA              PF   \n",
       "6101        CHAVERO            RESENDIZ          CATALINA               PF   \n",
       "\n",
       "             RFC                                          Dirección  ...  \\\n",
       "6024  ROIG871212  LUIS CORDOBA REYES no ext.MZ 13 LT 20  Wencesl...  ...   \n",
       "6045  CARL790912  12 DE DICIEMBRE no ext.MZ 32 LT 32  Wenceslao ...  ...   \n",
       "6064  SAGA881204  LUIS CORDOBA REYES no ext.MZ11 LT4  Wenceslao ...  ...   \n",
       "6066  SAGD040808  LUIS CORDOBA REYES no ext.MZ11 LT4  Wenceslao ...  ...   \n",
       "6101  CARC560330  12 DE DICIEMBRE no ext.MZ32 LT32  Wenceslao Vi...  ...   \n",
       "\n",
       "     Crédito  Anexo Monto Contrato  Frecuencia de Pago Pago Periódico  \\\n",
       "6024  170116      N          15000             Semanal            0.0   \n",
       "6045  170116      N          15000             Semanal            0.0   \n",
       "6064  170116      N          15000             Semanal            0.0   \n",
       "6066  170116      N          15000             Semanal            0.0   \n",
       "6101  170116      N          15000             Semanal            0.0   \n",
       "\n",
       "     Monto Pagare   Tasa  Fecha de nacimiento contratante      Sexo  \\\n",
       "6024        15000  142.0              1987-12-12 00:00:00  FEMENINO   \n",
       "6045        15000  142.0              1979-09-12 00:00:00  FEMENINO   \n",
       "6064        15000  142.0              1988-12-04 00:00:00  FEMENINO   \n",
       "6066        15000  147.0              2004-08-08 00:00:00  FEMENINO   \n",
       "6101        15000  142.0              1956-03-30 00:00:00  FEMENINO   \n",
       "\n",
       "                    CURP  \n",
       "6024  ROIG871212MPLSSD04  \n",
       "6045  CARL790912MDFHSZ03  \n",
       "6064  SAGA881204MMCNNZ09  \n",
       "6066  SAGD040808MMCNNNA7  \n",
       "6101  CARC560330MTLHST02  \n",
       "\n",
       "[5 rows x 28 columns]"
      ]
     },
     "execution_count": 153,
     "metadata": {},
     "output_type": "execute_result"
    }
   ],
   "source": [
    "act.query(\"Contratante == 170116\")"
   ]
  },
  {
   "cell_type": "code",
   "execution_count": 154,
   "id": "de79406a",
   "metadata": {},
   "outputs": [
    {
     "data": {
      "text/html": [
       "<div>\n",
       "<style scoped>\n",
       "    .dataframe tbody tr th:only-of-type {\n",
       "        vertical-align: middle;\n",
       "    }\n",
       "\n",
       "    .dataframe tbody tr th {\n",
       "        vertical-align: top;\n",
       "    }\n",
       "\n",
       "    .dataframe thead th {\n",
       "        text-align: right;\n",
       "    }\n",
       "</style>\n",
       "<table border=\"1\" class=\"dataframe\">\n",
       "  <thead>\n",
       "    <tr style=\"text-align: right;\">\n",
       "      <th></th>\n",
       "      <th>Clave Referencia</th>\n",
       "      <th>tipo distribuidor</th>\n",
       "      <th>Tipo Operación</th>\n",
       "      <th>Contratante</th>\n",
       "      <th>Paterno Deudor</th>\n",
       "      <th>Materno Contratante</th>\n",
       "      <th>Nombre Contratante</th>\n",
       "      <th>Tipo de Persona</th>\n",
       "      <th>RFC</th>\n",
       "      <th>Dirección</th>\n",
       "      <th>...</th>\n",
       "      <th>Crédito</th>\n",
       "      <th>Anexo</th>\n",
       "      <th>Monto Contrato</th>\n",
       "      <th>Frecuencia de Pago</th>\n",
       "      <th>Pago Periódico</th>\n",
       "      <th>Monto Pagare</th>\n",
       "      <th>Tasa</th>\n",
       "      <th>Fecha de nacimiento contratante</th>\n",
       "      <th>Sexo</th>\n",
       "      <th>CURP</th>\n",
       "    </tr>\n",
       "  </thead>\n",
       "  <tbody>\n",
       "  </tbody>\n",
       "</table>\n",
       "<p>0 rows × 28 columns</p>\n",
       "</div>"
      ],
      "text/plain": [
       "Empty DataFrame\n",
       "Columns: [Clave Referencia, tipo distribuidor, Tipo Operación, Contratante, Paterno Deudor, Materno Contratante, Nombre Contratante, Tipo de Persona, RFC, Dirección, Ciudad, CP, Estado, Email, Teléfono, Fecha Firma Contrato, Fecha Vencimiento Contrato, Plazo, Crédito, Anexo, Monto Contrato, Frecuencia de Pago, Pago Periódico, Monto Pagare, Tasa, Fecha de nacimiento contratante, Sexo, CURP]\n",
       "Index: []\n",
       "\n",
       "[0 rows x 28 columns]"
      ]
     },
     "execution_count": 154,
     "metadata": {},
     "output_type": "execute_result"
    }
   ],
   "source": [
    "ant.query(\"Contratante == 170116\")"
   ]
  },
  {
   "cell_type": "code",
   "execution_count": null,
   "id": "f1894405",
   "metadata": {},
   "outputs": [],
   "source": []
  },
  {
   "cell_type": "code",
   "execution_count": 180,
   "id": "07537d6e",
   "metadata": {},
   "outputs": [
    {
     "data": {
      "text/plain": [
       "(10909, 28)"
      ]
     },
     "execution_count": 180,
     "metadata": {},
     "output_type": "execute_result"
    }
   ],
   "source": [
    "ant.shape"
   ]
  },
  {
   "cell_type": "code",
   "execution_count": 181,
   "id": "379a0b8b",
   "metadata": {},
   "outputs": [
    {
     "data": {
      "text/plain": [
       "(10909, 28)"
      ]
     },
     "execution_count": 181,
     "metadata": {},
     "output_type": "execute_result"
    }
   ],
   "source": [
    "act.shape"
   ]
  }
 ],
 "metadata": {
  "kernelspec": {
   "display_name": "Python 3 (ipykernel)",
   "language": "python",
   "name": "python3"
  },
  "language_info": {
   "codemirror_mode": {
    "name": "ipython",
    "version": 3
   },
   "file_extension": ".py",
   "mimetype": "text/x-python",
   "name": "python",
   "nbconvert_exporter": "python",
   "pygments_lexer": "ipython3",
   "version": "3.11.4"
  }
 },
 "nbformat": 4,
 "nbformat_minor": 5
}
