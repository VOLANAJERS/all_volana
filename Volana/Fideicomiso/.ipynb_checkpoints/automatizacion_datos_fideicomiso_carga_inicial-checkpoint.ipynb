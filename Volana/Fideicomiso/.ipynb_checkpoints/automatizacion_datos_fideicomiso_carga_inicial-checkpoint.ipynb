{
 "cells": [
  {
   "cell_type": "code",
   "execution_count": 1,
   "id": "d7da9211",
   "metadata": {},
   "outputs": [
    {
     "data": {
      "text/plain": [
       "'2024-05-15'"
      ]
     },
     "execution_count": 1,
     "metadata": {},
     "output_type": "execute_result"
    }
   ],
   "source": [
    "from datetime import datetime, timedelta\n",
    "import pandas as pd \n",
    "import datetime as dt\n",
    "import fnmatch\n",
    "import os\n",
    "import pymysql\n",
    "from sqlalchemy import create_engine\n",
    "import sys\n",
    "import json\n",
    "import numpy as np\n",
    "import warnings\n",
    "from tqdm import tqdm\n",
    "warnings.filterwarnings('ignore')\n",
    "\n",
    "# Obtener la fecha de hoy\n",
    "hoy = datetime.now()\n",
    "\n",
    "# Calcular la fecha de ayer\n",
    "ayer = hoy - timedelta(days=1)\n",
    "\n",
    "# Formatear la fecha como \"aaaa-mm-dd\"\n",
    "fecha_ayer_formato = ayer.strftime(\"%Y-%m-%d\")\n",
    "\n",
    "fecha_ayer_formato\n"
   ]
  },
  {
   "cell_type": "code",
   "execution_count": 2,
   "id": "a5defe7a",
   "metadata": {},
   "outputs": [],
   "source": [
    "cnx = pymysql.connect(host='159.89.90.197', port=3306, user='antonio_diaz', passwd=\"4nT0ni_0.dZ\",\n",
    "                           charset='utf8',db = 'volana')"
   ]
  },
  {
   "cell_type": "code",
   "execution_count": 3,
   "id": "f364a222",
   "metadata": {},
   "outputs": [],
   "source": [
    "path = f'./JERS/data/{fecha_ayer_formato}/'\n",
    "if not os.path.exists(path): \n",
    "    os.makedirs(path) "
   ]
  },
  {
   "cell_type": "markdown",
   "id": "bca9c809",
   "metadata": {},
   "source": [
    "# DEU"
   ]
  },
  {
   "cell_type": "code",
   "execution_count": null,
   "id": "864d30f6",
   "metadata": {},
   "outputs": [],
   "source": [
    "cursor = cnx.cursor()\n",
    "sql_query = f\"\"\"\n",
    "            SELECT \n",
    "ids.id_distribuidor as `Clave Referencia`,\n",
    "if(ids.tipo_prestamo = 'PRESTAMO PERSONAL RED', 'RED', cd.tipo_distribuidor) as 'tipo distribuidor',\n",
    "\"6\" as `Tipo Operación`,\n",
    "ids.id_red as `Contratante`,\n",
    "IFNULL(dd.apellido_1,\"X\") as `Paterno Deudor`,\n",
    "IFNULL(dd.apellido_2,\"X\") as `Materno Contratante`,\n",
    "CONCAT(ifnull(dd.nombre_1,\"\"),\" \",ifnull(dd.nombre_2,\"\")) as `Nombre Contratante`,\n",
    "\"PF\" as `Tipo de Persona`,\n",
    "ifnull(dd.rfc,\"X\") as `RFC`,\n",
    "CONCAT(ifnull(dd.calle_y_numero,\"\"),\" \",ifnull(dd.colonia,\"\")) as `Dirección`,\n",
    "IFNULL(dd.delegacion,\"X\") as `Ciudad`,\n",
    "IFNULL(dd.cp,\"X\") as `CP`,\n",
    "IFNULL(dd.estado,\"X\") as `Estado`,\n",
    "\"N/A\" as `Email`,\n",
    "IFNULL(dd.telefono,\"X\") as `Teléfono`,\n",
    "date(cd.fecha_aut_linea) as `Fecha Firma Contrato`,\n",
    "if(cd.tipo_distribuidor = 'RED',ids.fin_credito,'2099-12-31') as `Fecha Vencimiento Contrato`,\n",
    "if(cd.tipo_distribuidor = 'RED','16','0') as `Plazo`,\n",
    "ids.id_red as `Crédito`,\n",
    "\"N\" as `Anexo`,\n",
    "cd.linea_de_credito  as `Monto Contrato`,\n",
    "if(cd.tipo_distribuidor = 'RED','Semanal','Quincenal') as `Frecuencia de Pago`,\n",
    "cd.proximo_pago_total_pago as `Pago Periódico`,\n",
    "cd.linea_de_credito as `Monto Pagare`,\n",
    "if(cd.tipo_distribuidor = 'RED',ids.tasa,\"\") AS `Tasa`,\n",
    "dd.fecha_nacimiento as `Fecha de nacimiento contratante`,\n",
    "IFNULL(dd.sexo,\"X\") as `Sexo`,\n",
    "IFNULL(dd.curp,\"X\") as `CURP`\n",
    "FROM cartera_distribuidor cd\n",
    "LEFT JOIN (\n",
    "\t\tselect \n",
    "\t\t\tca.id_distribuidor, \n",
    "            max(ca.id_red) as 'id_red', \n",
    "            max(ca.tipo_prestamo) as 'tipo_prestamo',\n",
    "            max(tasa) as 'tasa',\n",
    "            max(fin_credito) as 'fin_credito'\n",
    "\t\t\tfrom (\n",
    "\t\t\t\tselect \n",
    "\t\t\t\tif(tipo_prestamo = 'PRESTAMO PERSONAL RED', id_distribuidor_linea_de_credito, id_distribuidor) as 'id_distribuidor', \n",
    "\t\t\t\tid_distribuidor as 'id_red',\n",
    "\t\t\t\ttipo_prestamo,\n",
    "                tasa,\n",
    "                fin_credito\n",
    "\t\t\t\tfrom colocacion_asociado\n",
    "\t\t\t) as ca \n",
    "\t\tgroup by ca.id_distribuidor\n",
    ") ids on cd.id_distribuidor = ids.id_distribuidor\n",
    "LEFT JOIN demograficos_distribuidores dd on ids.id_distribuidor = dd.id\n",
    "WHERE fecha = '{fecha_ayer_formato}' and \n",
    "ids.id_distribuidor IS NOT NULL and\n",
    "dd.nombre_1 IS NOT NULL;\n",
    "            \"\"\"\n",
    "cursor.execute(sql_query)\n",
    "DEU = cursor.fetchall()"
   ]
  },
  {
   "cell_type": "code",
   "execution_count": null,
   "id": "70befa8b",
   "metadata": {},
   "outputs": [],
   "source": [
    "DEU = pd.DataFrame(DEU,columns = ['Clave Referencia', 'tipo distribuidor', 'Tipo Operación',\n",
    "       'Contratante', 'Paterno Deudor', 'Materno Contratante',\n",
    "       'Nombre Contratante', 'Tipo de Persona', 'RFC', 'Dirección', 'Ciudad',\n",
    "       'CP', 'Estado', 'Email', 'Teléfono', 'Fecha Firma Contrato',\n",
    "       'Fecha Vencimiento Contrato', 'Plazo', 'Crédito', 'Anexo',\n",
    "       'Monto Contrato', 'Frecuencia de Pago', 'Pago Periódico',\n",
    "       'Monto Pagare', 'Tasa', 'Fecha de nacimiento contratante', 'Sexo',\n",
    "       'CURP'])"
   ]
  },
  {
   "cell_type": "markdown",
   "id": "405ad3f9",
   "metadata": {},
   "source": [
    "## Adecuaciones"
   ]
  },
  {
   "cell_type": "code",
   "execution_count": null,
   "id": "0747ac91",
   "metadata": {},
   "outputs": [],
   "source": [
    "DEU_id = np.array(DEU['Contratante'].unique(), dtype = int)\n",
    "DEU['Fecha Firma Contrato'] = pd.to_datetime(DEU['Fecha Firma Contrato'])\n",
    "print(DEU.shape)\n",
    "for name in DEU.select_dtypes(include=['object']):\n",
    "    DEU[name] = DEU[name].str.replace(\"|\", \" \")\n",
    "print(\"Hay que revisar DEU\" if (DEU.isna().any(0).sum() > 2) else \"Todo bien con DEU\")\n",
    "DEU.head(1)"
   ]
  },
  {
   "cell_type": "code",
   "execution_count": null,
   "id": "7a4d7525",
   "metadata": {},
   "outputs": [],
   "source": [
    "if not os.path.exists(\"path/to/demo_folder\"): \n",
    "    os.makedirs(\"path/to/demo_folder\") "
   ]
  },
  {
   "cell_type": "code",
   "execution_count": null,
   "id": "6b861989",
   "metadata": {},
   "outputs": [],
   "source": [
    "DEU.to_csv(f'{path}/DEU_{fecha_ayer_formato}.txt', sep ='|', index = False, header = False)"
   ]
  },
  {
   "cell_type": "markdown",
   "id": "a53a4651",
   "metadata": {},
   "source": [
    "# MOVA"
   ]
  },
  {
   "cell_type": "code",
   "execution_count": null,
   "id": "e69ab37f",
   "metadata": {},
   "outputs": [],
   "source": [
    "cursor = cnx.cursor()\n",
    "sql_query = f\"\"\"\n",
    "select \n",
    "    id_distribuidor as `Contrato`,\n",
    "    \"N\" as `Anexo`,\n",
    "    -- if(tipo_distribuidor = 'RED', id_distribuidor_linea_de_credito, id_distribuidor) as `Número de documento`,\n",
    "    id_distribuidor as `Número de documento`,\n",
    "    date(if(tipo_distribuidor = 'RED',fin_credito,'2099-12-31')) as `Fecha Vencimiento`,\n",
    "    ROUND(sum(capital), 2) as `Monto Capital`,\n",
    "    ROUND(sum(interes), 2) as `Monto intérés`,\n",
    "    ROUND(sum(iva), 2) as `Monto IVA`,\n",
    "    \"FAC\" AS `Tipo de Movimiento`\n",
    "FROM\n",
    "    (SELECT \n",
    "    cd.id_distribuidor,\n",
    "    \"N\" as `Anexo`,\n",
    "    cd.tipo_distribuidor,\n",
    "    ca.capital,\n",
    "    ca.interes,\n",
    "    ca.iva,\n",
    "    cd.fecha,\n",
    "    ca.fin_credito,\n",
    "    ca.no_pagos,\n",
    "    ca.id_distribuidor_linea_de_credito\n",
    "    FROM cartera_distribuidor cd\n",
    "    LEFT JOIN colocacion_asociado ca on cd.id_distribuidor = ca.id_distribuidor\n",
    "    WHERE fecha = '{fecha_ayer_formato}' and ca.tipo_prestamo = 'PRESTAMO PERSONAL RED') as temp\n",
    "\n",
    "GROUP BY temp.id_distribuidor, fecha, fin_credito, tipo_distribuidor-- , temp.id_distribuidor_linea_de_credito\n",
    "            \"\"\"\n",
    "cursor.execute(sql_query)\n",
    "MOVA = cursor.fetchall()"
   ]
  },
  {
   "cell_type": "code",
   "execution_count": null,
   "id": "8ac11944",
   "metadata": {},
   "outputs": [],
   "source": [
    "MOVA = pd.DataFrame(MOVA, columns = ['Contrato', 'Anexo', 'Número de documento', 'Fecha Vencimiento',\n",
    "       'Monto Capital', 'Monto intérés', 'Monto IVA', 'Tipo de Movimiento'])"
   ]
  },
  {
   "cell_type": "markdown",
   "id": "a488d424",
   "metadata": {},
   "source": [
    "## Adecuaciones"
   ]
  },
  {
   "cell_type": "code",
   "execution_count": 11,
   "id": "e9792e56",
   "metadata": {},
   "outputs": [
    {
     "name": "stdout",
     "output_type": "stream",
     "text": [
      "Todo bien con MOVA\n",
      "(3525, 8)\n"
     ]
    },
    {
     "data": {
      "text/html": [
       "<div>\n",
       "<style scoped>\n",
       "    .dataframe tbody tr th:only-of-type {\n",
       "        vertical-align: middle;\n",
       "    }\n",
       "\n",
       "    .dataframe tbody tr th {\n",
       "        vertical-align: top;\n",
       "    }\n",
       "\n",
       "    .dataframe thead th {\n",
       "        text-align: right;\n",
       "    }\n",
       "</style>\n",
       "<table border=\"1\" class=\"dataframe\">\n",
       "  <thead>\n",
       "    <tr style=\"text-align: right;\">\n",
       "      <th></th>\n",
       "      <th>Contrato</th>\n",
       "      <th>Anexo</th>\n",
       "      <th>Número de documento</th>\n",
       "      <th>Fecha Vencimiento</th>\n",
       "      <th>Monto Capital</th>\n",
       "      <th>Monto intérés</th>\n",
       "      <th>Monto IVA</th>\n",
       "      <th>Tipo de Movimiento</th>\n",
       "    </tr>\n",
       "  </thead>\n",
       "  <tbody>\n",
       "    <tr>\n",
       "      <th>0</th>\n",
       "      <td>81210</td>\n",
       "      <td>N</td>\n",
       "      <td>81210</td>\n",
       "      <td>2021-10-25</td>\n",
       "      <td>34000.0</td>\n",
       "      <td>8245.12</td>\n",
       "      <td>1319.22</td>\n",
       "      <td>FAC</td>\n",
       "    </tr>\n",
       "  </tbody>\n",
       "</table>\n",
       "</div>"
      ],
      "text/plain": [
       "   Contrato Anexo  Número de documento Fecha Vencimiento  Monto Capital  \\\n",
       "0     81210     N                81210        2021-10-25        34000.0   \n",
       "\n",
       "   Monto intérés  Monto IVA Tipo de Movimiento  \n",
       "0        8245.12    1319.22                FAC  "
      ]
     },
     "execution_count": 11,
     "metadata": {},
     "output_type": "execute_result"
    }
   ],
   "source": [
    "MOVA['Fecha Vencimiento'] = MOVA['Fecha Vencimiento'].fillna(\"2099-12-31\")\n",
    "print(\"Hay que revisar MOVA\" if (MOVA.isna().any(0).sum() > 0) else \"Todo bien con MOVA\")\n",
    "MOVA['Contrato'] = MOVA['Contrato'].astype(int)\n",
    "MOVA_id = MOVA['Contrato']\n",
    "print(MOVA.shape)\n",
    "MOVA.head(1)"
   ]
  },
  {
   "cell_type": "code",
   "execution_count": null,
   "id": "8eab29fd",
   "metadata": {},
   "outputs": [],
   "source": [
    "MOVA = MOVA.loc[[mi in DEU_id for mi in MOVA_id]]\n",
    "MOVA = MOVA.drop_duplicates('Contrato')\n",
    "np.setdiff1d(MOVA['Contrato'], DEU_id)"
   ]
  },
  {
   "cell_type": "code",
   "execution_count": null,
   "id": "d68fb425",
   "metadata": {},
   "outputs": [],
   "source": [
    "new_mova = []\n",
    "for row in tqdm(MOVA.iterrows()):\n",
    "    #new_mova = pd.concat([new_mova, row[1]], axis = 1)\n",
    "    #new_mova.append(row[1])\n",
    "    num = 16\n",
    "    for i in range(1, num + 1):\n",
    "        new_row = row[1].copy()\n",
    "        new_row['Número de documento'] = str(new_row['Número de documento']) + \"_\"+str(i)\n",
    "        new_row['Monto Capital'] = new_row['Monto Capital'] / num\n",
    "        new_row['Monto intérés'] = new_row['Monto intérés'] / num\n",
    "        new_row['Monto IVA'] = new_row['Monto IVA'] / num\n",
    "        #new_mova = pd.concat([new_mova, new_row], axis = 1)\n",
    "        new_mova.append(new_row)"
   ]
  },
  {
   "cell_type": "code",
   "execution_count": null,
   "id": "a5a23a64",
   "metadata": {},
   "outputs": [],
   "source": [
    "MOVA = pd.DataFrame(new_mova)\n",
    "MOVA.head()"
   ]
  },
  {
   "cell_type": "code",
   "execution_count": null,
   "id": "e27308cd",
   "metadata": {},
   "outputs": [],
   "source": [
    "MOVA.to_csv(f'{path}/MOVA_{fecha_ayer_formato}.txt', sep ='|', index = False, header = False)"
   ]
  },
  {
   "cell_type": "markdown",
   "id": "ebbaa2b4",
   "metadata": {},
   "source": [
    "# MOVIC"
   ]
  },
  {
   "cell_type": "code",
   "execution_count": null,
   "id": "63230d6e",
   "metadata": {},
   "outputs": [],
   "source": [
    "cursor = cnx.cursor()\n",
    "sql_query = f\"\"\"\n",
    "SELECT \n",
    "coalesce(cd.id_red, pd.id_distribuidor) as `Contrato`,\n",
    "\"N\" AS `Anexo`,\n",
    "-- coalesce(if(cd.tipo_prestamo = 'PRESTAMO PERSONAL RED', cd.id_red, cd.id_distribuidor), pd.id_distribuidor) as `Número de documento`,\n",
    "coalesce(cd.id_distribuidor, pd.id_distribuidor) as `Número de documento`,\n",
    "DATE(pd.fecha_pago) as `Fecha Depósito`,\n",
    "DATE(pd.fecha_aplicacion_pago) as `Fecha Aplicación`,\n",
    "IF(pd.seguro_asociado>0,-pd.seguro_asociado,pd.seguro_asociado) as `Monto de Seguro Asociado`,\n",
    "IF(pd.seguro_distribuidor>0,-pd.seguro_distribuidor,pd.seguro_distribuidor) as `Monto de Seguro Distribuidor`,\n",
    "\"PAG\" AS `Tipo de Movimiento`,\n",
    "pd.procedencia as `Cuenta`,\n",
    "pd.id_pago as `paymentId`\n",
    "\n",
    "FROM pagos_desglosados pd\n",
    "\n",
    "left JOIN (\n",
    "\t\tselect \n",
    "\t\t\tca.id_distribuidor, max(ca.id_red) as 'id_red', max(ca.tipo_prestamo) as 'tipo_prestamo'\n",
    "\t\t\tfrom (\n",
    "\t\t\t\tselect \n",
    "\t\t\t\tif(tipo_prestamo = 'PRESTAMO PERSONAL RED', id_distribuidor_linea_de_credito, id_distribuidor) as 'id_distribuidor', \n",
    "\t\t\t\tid_distribuidor as 'id_red',\n",
    "\t\t\t\ttipo_prestamo\n",
    "\t\t\t\tfrom colocacion_asociado\n",
    "\t\t\t) as ca \n",
    "\t\tgroup by ca.id_distribuidor\n",
    ") cd on pd.id_distribuidor = cd.id_red\n",
    "WHERE date(pd.fecha_pago) >='2021-01-01'\n",
    "\"\"\"\n",
    "cursor.execute(sql_query)\n",
    "MOVIC = cursor.fetchall()"
   ]
  },
  {
   "cell_type": "code",
   "execution_count": null,
   "id": "99396dd8",
   "metadata": {},
   "outputs": [],
   "source": [
    "MOVIC = pd.DataFrame(MOVIC, columns = ['Contrato', 'Anexo', 'Número de documento', 'Fecha Depósito',\n",
    "       'Fecha Aplicación', 'Monto de Seguro Asociado',\n",
    "       'Monto de Seguro Distribuidor', 'Tipo de Movimiento', 'Cuenta',\n",
    "       'paymentId'])"
   ]
  },
  {
   "cell_type": "code",
   "execution_count": null,
   "id": "c98cf94f",
   "metadata": {},
   "outputs": [],
   "source": [
    "print(\"Hay que revisar MOVIC\" if (MOVIC.isna().any(0).sum() > 0) else \"Todo bien con MOVIC\")\n",
    "MOVIC.Contrato = MOVIC.Contrato.astype(int) \n",
    "\n",
    "MOVIC_id = MOVIC['Contrato']\n",
    "print(MOVIC.shape)\n",
    "MOVIC.head(1)"
   ]
  },
  {
   "cell_type": "code",
   "execution_count": null,
   "id": "b4460e42",
   "metadata": {},
   "outputs": [],
   "source": [
    "sum([mi in DEU_id for mi in MOVIC_id])"
   ]
  },
  {
   "cell_type": "code",
   "execution_count": null,
   "id": "b466e392",
   "metadata": {
    "scrolled": true
   },
   "outputs": [],
   "source": [
    "MOVIC = MOVIC.loc[[mi in DEU_id for mi in MOVIC_id]]"
   ]
  },
  {
   "cell_type": "code",
   "execution_count": null,
   "id": "af69b39d",
   "metadata": {},
   "outputs": [],
   "source": [
    "np.setdiff1d(MOVIC['Contrato'], DEU_id)"
   ]
  },
  {
   "cell_type": "code",
   "execution_count": null,
   "id": "75a62abd",
   "metadata": {},
   "outputs": [],
   "source": [
    "MOVIC = MOVIC.drop_duplicates(subset = [\"paymentId\"])"
   ]
  },
  {
   "cell_type": "code",
   "execution_count": null,
   "id": "41986c46",
   "metadata": {},
   "outputs": [],
   "source": [
    "MOVIC.to_csv(f'{path}/MOVIC_{fecha_ayer_formato}.txt', sep ='|', index = False, header = False)"
   ]
  },
  {
   "cell_type": "markdown",
   "id": "eeb669d8",
   "metadata": {},
   "source": [
    "# MOVO"
   ]
  },
  {
   "cell_type": "code",
   "execution_count": null,
   "id": "1002421f",
   "metadata": {},
   "outputs": [],
   "source": [
    "cursor = cnx.cursor()\n",
    "sql_query = f\"\"\"\n",
    "select\n",
    "coalesce(cd.id_red, pd.id_distribuidor) as `Contrato`,\n",
    "\"N\" AS `Anexo`,\n",
    "-- coalesce(if(cd.tipo_prestamo = 'PRESTAMO PERSONAL RED', cd.id_red, cd.id_distribuidor), pd.id_distribuidor) as `Número de documento`,\n",
    "coalesce(cd.id_distribuidor, pd.id_distribuidor) as `Número de documento`,\n",
    "DATE(pd.fecha_pago) as `Fecha Depósito`,\n",
    "DATE(pd.fecha_aplicacion_pago) as `Fecha Aplicación`,\n",
    "IF(pd.capital>0,-pd.capital,pd.capital) as `Monto de Principal`,\n",
    "IF(pd.interes>0,-pd.interes,pd.interes) as `Monto de interés`,\n",
    "IF(pd.iva>0,-pd.iva,pd.iva) as `Monto de IVA`,\n",
    "\"1\" AS `Tipo de Movimiento`,\n",
    "pd.procedencia as `Cuenta`,\n",
    "pd.id_pago as `paymentId`\n",
    "FROM pagos_desglosados pd\n",
    "left JOIN (\n",
    "\t\tselect \n",
    "\t\t\tca.id_distribuidor, max(ca.id_red) as 'id_red', max(ca.tipo_prestamo) as 'tipo_prestamo'\n",
    "\t\t\tfrom (\n",
    "\t\t\t\tselect \n",
    "\t\t\t\tif(tipo_prestamo = 'PRESTAMO PERSONAL RED', id_distribuidor_linea_de_credito, id_distribuidor) as 'id_distribuidor', \n",
    "\t\t\t\tid_distribuidor as 'id_red',\n",
    "\t\t\t\ttipo_prestamo\n",
    "\t\t\t\tfrom colocacion_asociado\n",
    "\t\t\t) as ca \n",
    "\t\tgroup by ca.id_distribuidor\n",
    ") cd on pd.id_distribuidor = cd.id_red\n",
    "where date(fecha_pago) >= '2021-01-01'\n",
    "            \"\"\"\n",
    "cursor.execute(sql_query)\n",
    "MOVO = cursor.fetchall()"
   ]
  },
  {
   "cell_type": "code",
   "execution_count": null,
   "id": "5a699e73",
   "metadata": {},
   "outputs": [],
   "source": [
    "MOVO = pd.DataFrame(MOVO, columns =  ['Contrato', 'Anexo', 'Número de documento', 'Fecha Depósito',\n",
    "       'Fecha Aplicación', 'Monto de Principal', 'Monto de interés',\n",
    "       'Monto de IVA', 'Tipo de Movimiento', 'Cuenta', 'paymentId'])"
   ]
  },
  {
   "cell_type": "code",
   "execution_count": null,
   "id": "0a9739b1",
   "metadata": {},
   "outputs": [],
   "source": [
    "print(\"Hay que revisar MOVO\" if (MOVO.isna().any(0).sum() > 0) else \"Todo bien con MOVO\")\n",
    "MOVO['Contrato'] = MOVO['Contrato'].astype(int)\n",
    "MOVO_id = MOVO['Contrato']\n",
    "print(MOVO.shape)\n",
    "MOVO.head(1)"
   ]
  },
  {
   "cell_type": "code",
   "execution_count": null,
   "id": "b767e0aa",
   "metadata": {},
   "outputs": [],
   "source": [
    "sum([mi in DEU_id for mi in MOVO_id])"
   ]
  },
  {
   "cell_type": "code",
   "execution_count": null,
   "id": "f7c56652",
   "metadata": {},
   "outputs": [],
   "source": [
    "MOVO = MOVO.loc[[mi in DEU_id for mi in MOVO_id]]"
   ]
  },
  {
   "cell_type": "code",
   "execution_count": null,
   "id": "eec422fe",
   "metadata": {},
   "outputs": [],
   "source": [
    "np.setdiff1d(MOVO['Contrato'], DEU_id)"
   ]
  },
  {
   "cell_type": "code",
   "execution_count": null,
   "id": "8f62bbb0",
   "metadata": {},
   "outputs": [],
   "source": [
    "MOVO = MOVO.drop_duplicates(subset = [\"paymentId\"])"
   ]
  },
  {
   "cell_type": "code",
   "execution_count": 29,
   "id": "27fb5dd1",
   "metadata": {},
   "outputs": [],
   "source": [
    "MOVO.to_csv(f'./{path}/MOVO_{fecha_ayer_formato}.txt', sep ='|', index = False, header = False)"
   ]
  },
  {
   "cell_type": "code",
   "execution_count": 30,
   "id": "d55f81ee",
   "metadata": {},
   "outputs": [],
   "source": [
    "cnx.close()"
   ]
  },
  {
   "cell_type": "markdown",
   "id": "a7e473e5",
   "metadata": {},
   "source": [
    "# Enviando al SFTP"
   ]
  },
  {
   "cell_type": "code",
   "execution_count": 31,
   "id": "c5524a6e",
   "metadata": {},
   "outputs": [
    {
     "name": "stdout",
     "output_type": "stream",
     "text": [
      "Directorio archivos_2023-11-28 creado con éxito.\n"
     ]
    }
   ],
   "source": [
    "import paramiko\n",
    "\n",
    "# Configura la conexión SFTP\n",
    "hostname = 'linqsy.dyndns.org'\n",
    "port = 22\n",
    "username = 'Volana'\n",
    "password = '*v0lana-202311'\n",
    "\n",
    "# Crea una instancia de la clase Transport\n",
    "transport = paramiko.Transport((hostname, port))\n",
    "\n",
    "# Conéctate con el usuario y contraseña\n",
    "transport.connect(username=username, password=password)\n",
    "\n",
    "sftp = paramiko.SFTPClient.from_transport(transport)\n",
    "\n",
    "try:\n",
    "    #sftp.mkdir(f\"archivos_{fecha_ayer_formato}\")\n",
    "    sftp.mkdir(f\"carga_inicial_2023_11_29\")\n",
    "    print(f'Directorio archivos_{fecha_ayer_formato} creado con éxito.')\n",
    "except Exception as e:\n",
    "    print(f'Error al crear el directorio: {e}')\n",
    "\n",
    "\"\"\"\n",
    "\"\"\"\n",
    "# Cierra la conexión SFTP\n",
    "sftp.close()\n",
    "\n",
    "# Cierra la conexión de transporte\n",
    "transport.close()\n"
   ]
  },
  {
   "cell_type": "code",
   "execution_count": 32,
   "id": "9d9b794c",
   "metadata": {},
   "outputs": [],
   "source": [
    "# Configura la conexión SFTP\n",
    "def enviar(name):\n",
    "    hostname = 'linqsy.dyndns.org'\n",
    "    port = 22\n",
    "    username = 'Volana'\n",
    "    password = '*v0lana-202311'\n",
    "\n",
    "    # Crea una instancia de la clase Transport\n",
    "    transport = paramiko.Transport((hostname, port))\n",
    "\n",
    "    # Conéctate con el usuario y contraseña\n",
    "    transport.connect(username=username, password=password)\n",
    "\n",
    "\n",
    "    # Ruta local y remota del archivo\n",
    "    local_path = f'./JERS/data/{fecha_ayer_formato}/{name}_{fecha_ayer_formato}.txt'\n",
    "    #remote_path = f'/archivos_{fecha_ayer_formato}/{name}_{fecha_ayer_formato}.txt'\n",
    "    #\n",
    "    remote_path = f'/carga_inicial_2023_11_29/{name}_{fecha_ayer_formato}.txt'\n",
    "    # Crea una instancia de la clase SFTP\n",
    "    sftp = paramiko.SFTPClient.from_transport(transport)\n",
    "\n",
    "    # Sube el archivo\n",
    "    sftp.put(local_path, remote_path)\n",
    "\n",
    "    # Cierra la conexión SFTP\n",
    "    sftp.close()\n",
    "\n",
    "    # Cierra la conexión de transporte\n",
    "    transport.close()"
   ]
  },
  {
   "cell_type": "code",
   "execution_count": 33,
   "id": "7a57c7b1",
   "metadata": {},
   "outputs": [
    {
     "name": "stdout",
     "output_type": "stream",
     "text": [
      "DEU enviado correctamente\n",
      "MOVA enviado correctamente\n",
      "MOVIC enviado correctamente\n",
      "MOVO enviado correctamente\n"
     ]
    }
   ],
   "source": [
    "for name in ['DEU', 'MOVA', 'MOVIC', 'MOVO']:\n",
    "    enviar(name)\n",
    "    print(f\"{name} enviado correctamente\")"
   ]
  }
 ],
 "metadata": {
  "kernelspec": {
   "display_name": "Python 3 (ipykernel)",
   "language": "python",
   "name": "python3"
  },
  "language_info": {
   "codemirror_mode": {
    "name": "ipython",
    "version": 3
   },
   "file_extension": ".py",
   "mimetype": "text/x-python",
   "name": "python",
   "nbconvert_exporter": "python",
   "pygments_lexer": "ipython3",
   "version": "3.11.4"
  }
 },
 "nbformat": 4,
 "nbformat_minor": 5
}
