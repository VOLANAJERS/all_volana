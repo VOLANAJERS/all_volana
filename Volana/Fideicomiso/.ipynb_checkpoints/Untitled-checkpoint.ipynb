{
 "cells": [
  {
   "cell_type": "code",
   "execution_count": 8,
   "id": "624c54dc",
   "metadata": {},
   "outputs": [
    {
     "name": "stdout",
     "output_type": "stream",
     "text": [
      "Email sent successfully!\n"
     ]
    }
   ],
   "source": [
    "import smtplib\n",
    "from email.mime.text import MIMEText\n",
    "from email.mime.multipart import MIMEMultipart\n",
    "from email.mime.base import MIMEBase\n",
    "from email import encoders\n",
    "from datetime import datetime, timedelta\n",
    "\n",
    "# Obtener la fecha de hoy\n",
    "hoy = datetime.now()\n",
    "\n",
    "# Calcular la fecha de ayer\n",
    "ayer = hoy - timedelta(days=1)\n",
    "\n",
    "# Formatear la fecha como \"aaaa-mm-dd\"\n",
    "fecha_ayer_formato = ayer.strftime(\"%Y-%m-%d\")\n",
    "\n",
    "fecha_ayer_formato\n",
    "\n",
    "# Email and password for less secure app access\n",
    "email = 'jairo.ramirez@volana.com'\n",
    "password = 'mate22MATE*'\n",
    "\n",
    "# Recipient email address\n",
    "to_email = 'jairoenrique_ramirez@outlook.com'\n",
    "\n",
    "# Create a message\n",
    "msg = MIMEMultipart()\n",
    "msg['From'] = email\n",
    "msg['To'] = to_email\n",
    "msg['Subject'] = 'Test email from Python'\n",
    "\n",
    "body = 'This is a test email sent from Python using less secure apps.'\n",
    "msg.attach(MIMEText(body, 'plain'))\n",
    "\n",
    "\n",
    "## ======================== Adjuntos ========================\n",
    "\n",
    "files = [\"DEU\", \"MOVA\", \"MOVIC\", \"MOVO\"]\n",
    "for file in files:\n",
    "\n",
    "    filename = f'./JERS/data/{fecha_ayer_formato}/{file}_{fecha_ayer_formato}_diferencial.txt'\n",
    "    attachment = open(filename, 'rb')\n",
    "\n",
    "    part = MIMEBase('application', 'octet-stream')\n",
    "    part.set_payload((attachment).read())\n",
    "    encoders.encode_base64(part)\n",
    "    part.add_header('Content-Disposition', \"attachment; filename= %s\" % filename)\n",
    "\n",
    "    msg.attach(part)\n",
    "\n",
    "# =================================\n",
    "\n",
    "\n",
    "# Connect to Gmail's SMTP server\n",
    "server = smtplib.SMTP('smtp.gmail.com', 587)\n",
    "server.starttls()\n",
    "\n",
    "# Login to your Gmail account\n",
    "server.login(email, password)\n",
    "\n",
    "# Send the email\n",
    "server.sendmail(email, to_email, msg.as_string())\n",
    "\n",
    "# Quit the server\n",
    "server.quit()\n",
    "\n",
    "print(\"Email sent successfully!\")\n"
   ]
  },
  {
   "cell_type": "code",
   "execution_count": null,
   "id": "2bc2d0f3",
   "metadata": {},
   "outputs": [],
   "source": []
  }
 ],
 "metadata": {
  "kernelspec": {
   "display_name": "Python 3 (ipykernel)",
   "language": "python",
   "name": "python3"
  },
  "language_info": {
   "codemirror_mode": {
    "name": "ipython",
    "version": 3
   },
   "file_extension": ".py",
   "mimetype": "text/x-python",
   "name": "python",
   "nbconvert_exporter": "python",
   "pygments_lexer": "ipython3",
   "version": "3.11.4"
  }
 },
 "nbformat": 4,
 "nbformat_minor": 5
}
