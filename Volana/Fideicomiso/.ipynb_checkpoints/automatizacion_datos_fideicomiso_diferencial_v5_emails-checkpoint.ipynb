{
 "cells": [
  {
   "cell_type": "code",
   "execution_count": 1,
   "id": "d7da9211",
   "metadata": {},
   "outputs": [
    {
     "data": {
      "text/plain": [
       "'2024-06-06'"
      ]
     },
     "execution_count": 1,
     "metadata": {},
     "output_type": "execute_result"
    }
   ],
   "source": [
    "from datetime import datetime, timedelta\n",
    "import pandas as pd \n",
    "import os\n",
    "import pymysql\n",
    "import sys\n",
    "import json\n",
    "import numpy as np\n",
    "import warnings\n",
    "from tqdm import tqdm\n",
    "\n",
    "warnings.filterwarnings('ignore')\n",
    "\n",
    "# Obtener la fecha de hoy\n",
    "hoy = datetime.now()\n",
    "\n",
    "# Calcular la fecha de ayer\n",
    "ayer = hoy - timedelta(days=1)\n",
    "\n",
    "# Formatear la fecha como \"aaaa-mm-dd\"\n",
    "fecha_ayer_formato = ayer.strftime(\"%Y-%m-%d\")\n",
    "\n",
    "fecha_ayer_formato"
   ]
  },
  {
   "cell_type": "code",
   "execution_count": 2,
   "id": "7c51cbd5",
   "metadata": {},
   "outputs": [],
   "source": [
    "def encontrar_registros_adicionales(df1, df2, columnas_comparar):\n",
    "    \"\"\"\n",
    "    Encuentra los registros adicionales en el segundo DataFrame en comparación con el primero.\n",
    "\n",
    "    Parameters:\n",
    "    - df1: Primer DataFrame\n",
    "    - df2: Segundo DataFrame\n",
    "    - columnas_comparar: Lista de columnas en las cuales comparar los DataFrames\n",
    "\n",
    "    Returns:\n",
    "    - DataFrame con los registros adicionales en el segundo DataFrame\n",
    "    \"\"\"\n",
    "    # Realiza un merge con indicator=True\n",
    "    merged = pd.merge(df1, df2, on=columnas_comparar, how='outer', indicator=True)\n",
    "\n",
    "    # Filtra los resultados para obtener solo los registros en el segundo DataFrame\n",
    "    adicionales_df2 = merged.loc[lambda x: x['_merge'] == 'right_only']\n",
    "\n",
    "    # Elimina la columna _merge utilizada solo para la comparación\n",
    "    adicionales_df2 = adicionales_df2.drop('_merge', axis=1)\n",
    "\n",
    "    return adicionales_df2\n"
   ]
  },
  {
   "cell_type": "code",
   "execution_count": 3,
   "id": "a5defe7a",
   "metadata": {},
   "outputs": [],
   "source": [
    "cnx = pymysql.connect(host='159.89.90.197', port=3306, user='antonio_diaz', passwd=\"4nT0ni_0.dZ\",\n",
    "                           charset='utf8',db = 'volana')"
   ]
  },
  {
   "cell_type": "code",
   "execution_count": 4,
   "id": "f0a43c01",
   "metadata": {},
   "outputs": [],
   "source": [
    "path = f'./JERS/data/'\n",
    "if not os.path.exists(path + fecha_ayer_formato): \n",
    "    os.makedirs(path+ fecha_ayer_formato) "
   ]
  },
  {
   "cell_type": "markdown",
   "id": "e3f8f55c",
   "metadata": {},
   "source": [
    "**Obtener fecha más actual**"
   ]
  },
  {
   "cell_type": "code",
   "execution_count": 5,
   "id": "77fb27b6",
   "metadata": {
    "scrolled": true
   },
   "outputs": [],
   "source": [
    "from datetime import datetime\n",
    "\n",
    "# Convierte las fechas a objetos datetime\n",
    "fechas_dt = [datetime.strptime(fecha, '%Y-%m-%d') for fecha in os.listdir(\"./JERS/data/\") if fecha != fecha_ayer_formato]\n",
    "\n",
    "# Encuentra la fecha más reciente\n",
    "ultima_fecha = max(fechas_dt)\n",
    "\n",
    "ultima_fecha = ultima_fecha.strftime('%Y-%m-%d')"
   ]
  },
  {
   "cell_type": "code",
   "execution_count": 6,
   "id": "d3862a48",
   "metadata": {},
   "outputs": [
    {
     "data": {
      "text/plain": [
       "'2024-06-05'"
      ]
     },
     "execution_count": 6,
     "metadata": {},
     "output_type": "execute_result"
    }
   ],
   "source": [
    "ultima_fecha"
   ]
  },
  {
   "cell_type": "markdown",
   "id": "bca9c809",
   "metadata": {},
   "source": [
    "# DEU"
   ]
  },
  {
   "cell_type": "code",
   "execution_count": null,
   "id": "864d30f6",
   "metadata": {},
   "outputs": [],
   "source": [
    "cursor = cnx.cursor()\n",
    "sql_query = f\"\"\"\n",
    "            SELECT \n",
    "ids.id_distribuidor as `Clave Referencia`,\n",
    "if(ids.tipo_prestamo = 'PRESTAMO PERSONAL RED', 'RED', cd.tipo_distribuidor) as 'tipo distribuidor',\n",
    "\"6\" as `Tipo Operación`,\n",
    "ids.id_red as `Contratante`,\n",
    "IFNULL(dd.apellido_1,\"X\") as `Paterno Deudor`,\n",
    "IFNULL(dd.apellido_2,\"X\") as `Materno Contratante`,\n",
    "CONCAT(ifnull(dd.nombre_1,\"\"),\" \",ifnull(dd.nombre_2,\"\")) as `Nombre Contratante`,\n",
    "\"PF\" as `Tipo de Persona`,\n",
    "ifnull(dd.rfc,\"X\") as `RFC`,\n",
    "CONCAT(ifnull(dd.calle_y_numero,\"\"),\" \",ifnull(dd.colonia,\"\")) as `Dirección`,\n",
    "IFNULL(dd.delegacion,\"X\") as `Ciudad`,\n",
    "IFNULL(dd.cp,\"X\") as `CP`,\n",
    "IFNULL(dd.estado,\"X\") as `Estado`,\n",
    "\"N/A\" as `Email`,\n",
    "IFNULL(dd.telefono,\"X\") as `Teléfono`,\n",
    "date(cd.fecha_aut_linea) as `Fecha Firma Contrato`,\n",
    "if(cd.tipo_distribuidor = 'RED',ids.fin_credito,'2099-12-31') as `Fecha Vencimiento Contrato`,\n",
    "if(cd.tipo_distribuidor = 'RED','16','0') as `Plazo`,\n",
    "ids.id_red as `Crédito`,\n",
    "\"N\" as `Anexo`,\n",
    "cd.linea_de_credito  as `Monto Contrato`,\n",
    "if(cd.tipo_distribuidor = 'RED','Semanal','Quincenal') as `Frecuencia de Pago`,\n",
    "cd.proximo_pago_total_pago as `Pago Periódico`,\n",
    "cd.linea_de_credito as `Monto Pagare`,\n",
    "if(cd.tipo_distribuidor = 'RED',ids.tasa,\"\") AS `Tasa`,\n",
    "dd.fecha_nacimiento as `Fecha de nacimiento contratante`,\n",
    "IFNULL(dd.sexo,\"X\") as `Sexo`,\n",
    "IFNULL(dd.curp,\"X\") as `CURP`\n",
    "FROM cartera_distribuidor cd\n",
    "LEFT JOIN (\n",
    "\t\tselect \n",
    "\t\t\tca.id_distribuidor, \n",
    "            max(ca.id_red) as 'id_red', \n",
    "            max(ca.tipo_prestamo) as 'tipo_prestamo',\n",
    "            max(tasa) as 'tasa',\n",
    "            max(fin_credito) as 'fin_credito'\n",
    "\t\t\tfrom (\n",
    "\t\t\t\tselect \n",
    "\t\t\t\tif(tipo_prestamo = 'PRESTAMO PERSONAL RED', id_distribuidor_linea_de_credito, id_distribuidor) as 'id_distribuidor', \n",
    "\t\t\t\tid_distribuidor as 'id_red',\n",
    "\t\t\t\ttipo_prestamo,\n",
    "                tasa,\n",
    "                fin_credito\n",
    "\t\t\t\tfrom colocacion_asociado\n",
    "\t\t\t) as ca \n",
    "\t\tgroup by ca.id_distribuidor\n",
    ") ids on cd.id_distribuidor = ids.id_distribuidor\n",
    "LEFT JOIN demograficos_distribuidores dd on ids.id_distribuidor = dd.id\n",
    "WHERE fecha = '{fecha_ayer_formato}' and \n",
    "ids.id_distribuidor IS NOT NULL and\n",
    "dd.nombre_1 IS NOT NULL;\n",
    "            \"\"\"\n",
    "cursor.execute(sql_query)\n",
    "DEU = cursor.fetchall()"
   ]
  },
  {
   "cell_type": "code",
   "execution_count": null,
   "id": "70befa8b",
   "metadata": {},
   "outputs": [],
   "source": [
    "DEU = pd.DataFrame(DEU,columns = ['Clave Referencia', 'tipo distribuidor', 'Tipo Operación',\n",
    "       'Contratante', 'Paterno Deudor', 'Materno Contratante',\n",
    "       'Nombre Contratante', 'Tipo de Persona', 'RFC', 'Dirección', 'Ciudad',\n",
    "       'CP', 'Estado', 'Email', 'Teléfono', 'Fecha Firma Contrato',\n",
    "       'Fecha Vencimiento Contrato', 'Plazo', 'Crédito', 'Anexo',\n",
    "       'Monto Contrato', 'Frecuencia de Pago', 'Pago Periódico',\n",
    "       'Monto Pagare', 'Tasa', 'Fecha de nacimiento contratante', 'Sexo',\n",
    "       'CURP'])"
   ]
  },
  {
   "cell_type": "code",
   "execution_count": null,
   "id": "65e527af",
   "metadata": {},
   "outputs": [],
   "source": [
    "DEU.head()"
   ]
  },
  {
   "cell_type": "markdown",
   "id": "405ad3f9",
   "metadata": {},
   "source": [
    "## Adecuaciones"
   ]
  },
  {
   "cell_type": "code",
   "execution_count": null,
   "id": "0747ac91",
   "metadata": {},
   "outputs": [],
   "source": [
    "DEU_id = np.array(DEU['Contratante'].unique(), dtype = int)\n",
    "DEU['Fecha Firma Contrato'] = pd.to_datetime(DEU['Fecha Firma Contrato'])\n",
    "print(DEU.shape)\n",
    "for name in DEU.select_dtypes(include=['object']):\n",
    "    DEU[name] = DEU[name].str.replace(\"|\", \" \")\n",
    "print(\"Hay que revisar DEU\" if (DEU.isna().any(0).sum() > 2) else \"Todo bien con DEU\")\n",
    "DEU.head(1)"
   ]
  },
  {
   "cell_type": "code",
   "execution_count": null,
   "id": "6b861989",
   "metadata": {},
   "outputs": [],
   "source": [
    "DEU.to_csv(f'{path}{fecha_ayer_formato}/DEU_{fecha_ayer_formato}.txt', sep ='|', index = False, header = False)"
   ]
  },
  {
   "cell_type": "code",
   "execution_count": null,
   "id": "6d023a88",
   "metadata": {},
   "outputs": [],
   "source": [
    "DEU_ant = pd.read_csv(f\"{path}{ultima_fecha}/DEU_{ultima_fecha}.txt\", sep = '|', header = None)\n",
    "DEU_ant.columns = DEU.columns\n",
    "DEU_ant.shape[0], DEU.shape[0]"
   ]
  },
  {
   "cell_type": "code",
   "execution_count": null,
   "id": "37003283",
   "metadata": {},
   "outputs": [],
   "source": [
    "DEU = pd.read_csv(f\"{path}{fecha_ayer_formato}/DEU_{fecha_ayer_formato}.txt\", sep = '|', header = None)\n",
    "DEU.columns = DEU_ant.columns"
   ]
  },
  {
   "cell_type": "code",
   "execution_count": null,
   "id": "b714444c",
   "metadata": {},
   "outputs": [],
   "source": [
    "DEU.Email = DEU.Email.fillna(\"\")\n",
    "DEU_ant.Email = DEU_ant.Email.fillna(\"\")"
   ]
  },
  {
   "cell_type": "code",
   "execution_count": null,
   "id": "4343335c",
   "metadata": {},
   "outputs": [],
   "source": [
    "np.setdiff1d(DEU['Contratante'], DEU_ant['Contratante'])"
   ]
  },
  {
   "cell_type": "code",
   "execution_count": null,
   "id": "8cb400f4",
   "metadata": {},
   "outputs": [],
   "source": [
    "DEU_new = DEU[DEU['Contratante'].isin(np.setdiff1d(DEU['Contratante'], DEU_ant['Contratante']))]\n",
    "\n",
    "DEU_new = DEU_new.drop_duplicates(subset = [\"Clave Referencia\"])\n",
    "\n",
    "#Los para enviarse\n",
    "DEU_new.to_csv(f'{path}/{fecha_ayer_formato}/DEU_{fecha_ayer_formato}_tesoreria.csv', index = False)\n",
    "\n",
    "DEU_new.to_csv(f'{path}{fecha_ayer_formato}/DEU_{fecha_ayer_formato}_diferencial.txt', sep ='|', index = False, header = False)"
   ]
  },
  {
   "cell_type": "code",
   "execution_count": null,
   "id": "4cb794f1",
   "metadata": {},
   "outputs": [],
   "source": [
    "DEU_new.shape"
   ]
  },
  {
   "cell_type": "markdown",
   "id": "a53a4651",
   "metadata": {},
   "source": [
    "# MOVA"
   ]
  },
  {
   "cell_type": "code",
   "execution_count": null,
   "id": "e69ab37f",
   "metadata": {},
   "outputs": [],
   "source": [
    "cursor = cnx.cursor()\n",
    "sql_query = f\"\"\"\n",
    "select \n",
    "    id_distribuidor as `Contrato`,\n",
    "    \"N\" as `Anexo`,\n",
    "    -- if(tipo_distribuidor = 'RED', id_distribuidor_linea_de_credito, id_distribuidor) as `Número de documento`,\n",
    "    id_distribuidor as `Número de documento`,\n",
    "    date(if(tipo_distribuidor = 'RED',fin_credito,'2099-12-31')) as `Fecha Vencimiento`,\n",
    "    ROUND(sum(capital), 2) as `Monto Capital`,\n",
    "    ROUND(sum(interes), 2) as `Monto intérés`,\n",
    "    ROUND(sum(iva), 2) as `Monto IVA`,\n",
    "    \"FAC\" AS `Tipo de Movimiento`\n",
    "FROM\n",
    "    (SELECT \n",
    "    cd.id_distribuidor,\n",
    "    \"N\" as `Anexo`,\n",
    "    cd.tipo_distribuidor,\n",
    "    ca.capital,\n",
    "    ca.interes,\n",
    "    ca.iva,\n",
    "    cd.fecha,\n",
    "    ca.fin_credito,\n",
    "    ca.no_pagos,\n",
    "    ca.id_distribuidor_linea_de_credito\n",
    "    FROM cartera_distribuidor cd\n",
    "    LEFT JOIN colocacion_asociado ca on cd.id_distribuidor = ca.id_distribuidor\n",
    "    WHERE fecha = '{fecha_ayer_formato}' and ca.tipo_prestamo = 'PRESTAMO PERSONAL RED') as temp\n",
    "\n",
    "GROUP BY temp.id_distribuidor, fecha, fin_credito, tipo_distribuidor-- , temp.id_distribuidor_linea_de_credito\n",
    "            \"\"\"\n",
    "cursor.execute(sql_query)\n",
    "MOVA = cursor.fetchall()"
   ]
  },
  {
   "cell_type": "code",
   "execution_count": null,
   "id": "8ac11944",
   "metadata": {},
   "outputs": [],
   "source": [
    "MOVA = pd.DataFrame(MOVA, columns = ['Contrato', 'Anexo', 'Número de documento', 'Fecha Vencimiento',\n",
    "       'Monto Capital', 'Monto intérés', 'Monto IVA', 'Tipo de Movimiento'])"
   ]
  },
  {
   "cell_type": "code",
   "execution_count": null,
   "id": "b3a2b951",
   "metadata": {},
   "outputs": [],
   "source": [
    "MOVA"
   ]
  },
  {
   "cell_type": "markdown",
   "id": "a488d424",
   "metadata": {},
   "source": [
    "## Adecuaciones"
   ]
  },
  {
   "cell_type": "code",
   "execution_count": null,
   "id": "e9792e56",
   "metadata": {},
   "outputs": [],
   "source": [
    "MOVA['Fecha Vencimiento'] = MOVA['Fecha Vencimiento'].fillna(\"2099-12-31\")\n",
    "print(\"Hay que revisar MOVA\" if (MOVA.isna().any(0).sum() > 0) else \"Todo bien con MOVA\")\n",
    "MOVA['Contrato'] = MOVA['Contrato'].astype(int)\n",
    "MOVA_id = MOVA['Contrato']\n",
    "print(MOVA.shape)\n",
    "MOVA.head(1)"
   ]
  },
  {
   "cell_type": "code",
   "execution_count": null,
   "id": "8eab29fd",
   "metadata": {},
   "outputs": [],
   "source": [
    "MOVA = MOVA.loc[[mi in DEU_id for mi in MOVA_id]]\n",
    "MOVA = MOVA.drop_duplicates('Contrato')\n",
    "MOVA_id = np.array(MOVA['Contrato'].unique(), dtype = int)\n",
    "np.setdiff1d(MOVA['Contrato'], DEU_id)"
   ]
  },
  {
   "cell_type": "code",
   "execution_count": null,
   "id": "d68fb425",
   "metadata": {},
   "outputs": [],
   "source": [
    "new_mova = []\n",
    "for row in tqdm(MOVA.iterrows()):\n",
    "    #new_mova = pd.concat([new_mova, row[1]], axis = 1)\n",
    "    #new_mova.append(row[1])\n",
    "    num = 16\n",
    "    for i in range(1, num + 1):\n",
    "        new_row = row[1].copy()\n",
    "        new_row['Número de documento'] = str(new_row['Número de documento']) + \"_\"+str(i)\n",
    "        new_row['Monto Capital'] = new_row['Monto Capital'] / num\n",
    "        new_row['Monto intérés'] = new_row['Monto intérés'] / num\n",
    "        new_row['Monto IVA'] = new_row['Monto IVA'] / num\n",
    "        #new_mova = pd.concat([new_mova, new_row], axis = 1)\n",
    "        new_mova.append(new_row)"
   ]
  },
  {
   "cell_type": "code",
   "execution_count": null,
   "id": "a5a23a64",
   "metadata": {},
   "outputs": [],
   "source": [
    "MOVA = pd.DataFrame(new_mova)\n",
    "MOVA.head()"
   ]
  },
  {
   "cell_type": "code",
   "execution_count": null,
   "id": "e27308cd",
   "metadata": {},
   "outputs": [],
   "source": [
    "MOVA.to_csv(f'{path}/{fecha_ayer_formato}/MOVA_{fecha_ayer_formato}.txt', sep ='|', index = False, header = False)"
   ]
  },
  {
   "cell_type": "code",
   "execution_count": null,
   "id": "9f8f7255",
   "metadata": {},
   "outputs": [],
   "source": [
    "MOVA_ant = pd.read_csv(f\"{path}{ultima_fecha}/MOVA_{ultima_fecha}.txt\", sep = '|', header = None)\n",
    "MOVA_ant = MOVA_ant.infer_objects()\n",
    "\n",
    "MOVA_ant.columns = MOVA.columns\n",
    "MOVA_ant.shape[0], MOVA.shape[0]"
   ]
  },
  {
   "cell_type": "code",
   "execution_count": null,
   "id": "4b2e5d1e",
   "metadata": {},
   "outputs": [],
   "source": [
    "MOVA = pd.read_csv(f\"{path}{fecha_ayer_formato}/MOVA_{fecha_ayer_formato}.txt\", sep = '|', header = None)\n",
    "MOVA.columns = MOVA_ant.columns"
   ]
  },
  {
   "cell_type": "code",
   "execution_count": null,
   "id": "b52499c2",
   "metadata": {},
   "outputs": [],
   "source": [
    "MOVA_new = encontrar_registros_adicionales(MOVA, MOVA_ant, list(MOVA.columns))\n",
    "\n",
    "MOVA_new.to_csv(f'{path}/{fecha_ayer_formato}/MOVA_{fecha_ayer_formato}_diferencial.txt', sep ='|', index = False, header = False)"
   ]
  },
  {
   "cell_type": "code",
   "execution_count": null,
   "id": "77bfc70a",
   "metadata": {},
   "outputs": [],
   "source": [
    "MOVA_ant"
   ]
  },
  {
   "cell_type": "code",
   "execution_count": null,
   "id": "193caa49",
   "metadata": {},
   "outputs": [],
   "source": [
    "MOVA_new = MOVA[MOVA['Número de documento'].isin(np.setdiff1d(MOVA['Número de documento'], MOVA_ant['Número de documento']))]\n",
    "\n",
    "MOVA_new = MOVA_new.drop_duplicates(subset = [\"Número de documento\"])\n",
    "\n",
    "#Los para enviarse\n",
    "MOVA_new.to_csv(f'{path}/{fecha_ayer_formato}/MOVA_{fecha_ayer_formato}_tesoreria.csv', index = False)\n",
    "\n",
    "MOVA_new.to_csv(f'{path}/{fecha_ayer_formato}/MOVA_{fecha_ayer_formato}_diferencial.txt', sep ='|', index = False, header = False)"
   ]
  },
  {
   "cell_type": "markdown",
   "id": "ebbaa2b4",
   "metadata": {},
   "source": [
    "# MOVIC"
   ]
  },
  {
   "cell_type": "code",
   "execution_count": null,
   "id": "63230d6e",
   "metadata": {},
   "outputs": [],
   "source": [
    "cursor = cnx.cursor()\n",
    "sql_query = f\"\"\"\n",
    "SELECT \n",
    "coalesce(cd.id_red, pd.id_distribuidor) as `Contrato`,\n",
    "\"N\" AS `Anexo`,\n",
    "-- coalesce(if(cd.tipo_prestamo = 'PRESTAMO PERSONAL RED', cd.id_red, cd.id_distribuidor), pd.id_distribuidor) as `Número de documento`,\n",
    "coalesce(cd.id_distribuidor, pd.id_distribuidor) as `Número de documento`,\n",
    "DATE(pd.fecha_pago) as `Fecha Depósito`,\n",
    "DATE(pd.fecha_aplicacion_pago) as `Fecha Aplicación`,\n",
    "IF(pd.seguro_asociado>0,-pd.seguro_asociado,pd.seguro_asociado) as `Monto de Seguro Asociado`,\n",
    "IF(pd.seguro_distribuidor>0,-pd.seguro_distribuidor,pd.seguro_distribuidor) as `Monto de Seguro Distribuidor`,\n",
    "\"1\" AS `Tipo de Movimiento`,\n",
    "pd.procedencia as `Cuenta`,\n",
    "pd.id_pago as `paymentId`\n",
    "\n",
    "FROM pagos_desglosados pd\n",
    "\n",
    "left JOIN (\n",
    "\t\tselect \n",
    "\t\t\tca.id_distribuidor, max(ca.id_red) as 'id_red', max(ca.tipo_prestamo) as 'tipo_prestamo'\n",
    "\t\t\tfrom (\n",
    "\t\t\t\tselect \n",
    "\t\t\t\tif(tipo_prestamo = 'PRESTAMO PERSONAL RED', id_distribuidor_linea_de_credito, id_distribuidor) as 'id_distribuidor', \n",
    "\t\t\t\tid_distribuidor as 'id_red',\n",
    "\t\t\t\ttipo_prestamo\n",
    "\t\t\t\tfrom colocacion_asociado\n",
    "\t\t\t) as ca \n",
    "\t\tgroup by ca.id_distribuidor\n",
    ") cd on pd.id_distribuidor = cd.id_red\n",
    "WHERE date(pd.fecha_pago) >='2021-01-01'\n",
    "\"\"\"\n",
    "cursor.execute(sql_query)\n",
    "MOVIC = cursor.fetchall()"
   ]
  },
  {
   "cell_type": "code",
   "execution_count": null,
   "id": "99396dd8",
   "metadata": {},
   "outputs": [],
   "source": [
    "MOVIC = pd.DataFrame(MOVIC, columns = ['Contrato', 'Anexo', 'Número de documento', 'Fecha Depósito',\n",
    "       'Fecha Aplicación', 'Monto de Seguro Asociado',\n",
    "       'Monto de Seguro Distribuidor', 'Tipo de Movimiento', 'Cuenta',\n",
    "       'paymentId'])"
   ]
  },
  {
   "cell_type": "code",
   "execution_count": null,
   "id": "c98cf94f",
   "metadata": {},
   "outputs": [],
   "source": [
    "print(\"Hay que revisar MOVIC\" if (MOVIC.isna().any(0).sum() > 0) else \"Todo bien con MOVIC\")\n",
    "MOVIC.Contrato = MOVIC.Contrato.astype(int) \n",
    "\n",
    "MOVIC_id = MOVIC['Contrato']\n",
    "print(MOVIC.shape)\n",
    "MOVIC.head(1)"
   ]
  },
  {
   "cell_type": "code",
   "execution_count": null,
   "id": "b4460e42",
   "metadata": {},
   "outputs": [],
   "source": [
    "sum([mi in DEU_id for mi in MOVIC_id])"
   ]
  },
  {
   "cell_type": "code",
   "execution_count": null,
   "id": "2a07c916",
   "metadata": {},
   "outputs": [],
   "source": [
    "sum([mi in MOVA_id for mi in MOVIC_id])"
   ]
  },
  {
   "cell_type": "code",
   "execution_count": null,
   "id": "b466e392",
   "metadata": {
    "scrolled": true
   },
   "outputs": [],
   "source": [
    "#MOVIC = MOVIC.loc[[mi in DEU_id for mi in MOVIC_id]]\n",
    "MOVIC = MOVIC.loc[[mi in MOVA_id for mi in MOVIC_id]]"
   ]
  },
  {
   "cell_type": "code",
   "execution_count": null,
   "id": "af69b39d",
   "metadata": {},
   "outputs": [],
   "source": [
    "np.setdiff1d(MOVIC['Contrato'], MOVA_id)"
   ]
  },
  {
   "cell_type": "code",
   "execution_count": null,
   "id": "8299f2b9",
   "metadata": {},
   "outputs": [],
   "source": [
    "np.setdiff1d(MOVIC['Contrato'], DEU_id)"
   ]
  },
  {
   "cell_type": "code",
   "execution_count": null,
   "id": "56b21c1e",
   "metadata": {},
   "outputs": [],
   "source": [
    "MOVIC = MOVIC.drop_duplicates(subset = [\"paymentId\"])"
   ]
  },
  {
   "cell_type": "code",
   "execution_count": null,
   "id": "41986c46",
   "metadata": {},
   "outputs": [],
   "source": [
    "MOVIC.to_csv(f'{path}/{fecha_ayer_formato}/MOVIC_{fecha_ayer_formato}.txt', sep ='|', index = False, header = False)"
   ]
  },
  {
   "cell_type": "code",
   "execution_count": null,
   "id": "3c6a42df",
   "metadata": {},
   "outputs": [],
   "source": [
    "MOVIC_ant = pd.read_csv(f\"{path}{ultima_fecha}/MOVIC_{ultima_fecha}.txt\", sep = '|', header = None)\n",
    "MOVIC_ant = MOVIC_ant.infer_objects()\n",
    "\n",
    "MOVIC_ant.columns = MOVIC.columns\n",
    "MOVIC_ant.shape[0], MOVIC.shape[0]"
   ]
  },
  {
   "cell_type": "code",
   "execution_count": null,
   "id": "73c07d08",
   "metadata": {},
   "outputs": [],
   "source": [
    "if len(MOVIC) > 0:\n",
    "    MOVIC = pd.read_csv(f\"{path}{fecha_ayer_formato}/MOVIC_{fecha_ayer_formato}.txt\", sep = '|', header = None)\n",
    "    MOVIC.columns = MOVIC_ant.columns"
   ]
  },
  {
   "cell_type": "code",
   "execution_count": null,
   "id": "fc40ef24",
   "metadata": {},
   "outputs": [],
   "source": [
    "MOVIC_new = MOVIC[MOVIC.paymentId.isin(np.setdiff1d(MOVIC['paymentId'], MOVIC_ant['paymentId']))]\n",
    "\n",
    "MOVIC_new = MOVIC_new.drop_duplicates(subset = [\"paymentId\"])\n",
    "\n",
    "#Los para enviarse\n",
    "MOVIC_new.to_csv(f'{path}/{fecha_ayer_formato}/MOVIC_{fecha_ayer_formato}_tesoreria.csv', index = False)\n",
    "\n",
    "MOVIC_new.to_csv(f'{path}/{fecha_ayer_formato}/MOVIC_{fecha_ayer_formato}_diferencial.txt', \n",
    "                 sep ='|', index = False, header = False)"
   ]
  },
  {
   "cell_type": "markdown",
   "id": "eeb669d8",
   "metadata": {},
   "source": [
    "# MOVO"
   ]
  },
  {
   "cell_type": "code",
   "execution_count": null,
   "id": "1002421f",
   "metadata": {},
   "outputs": [],
   "source": [
    "cursor = cnx.cursor()\n",
    "sql_query = f\"\"\"\n",
    "select\n",
    "coalesce(cd.id_red, pd.id_distribuidor) as `Contrato`,\n",
    "\"N\" AS `Anexo`,\n",
    "-- coalesce(if(cd.tipo_prestamo = 'PRESTAMO PERSONAL RED', cd.id_red, cd.id_distribuidor), pd.id_distribuidor) as `Número de documento`,\n",
    "coalesce(cd.id_distribuidor, pd.id_distribuidor) as `Número de documento`,\n",
    "DATE(pd.fecha_pago) as `Fecha Depósito`,\n",
    "DATE(pd.fecha_aplicacion_pago) as `Fecha Aplicación`,\n",
    "IF(pd.capital>0,-pd.capital,pd.capital) as `Monto de Principal`,\n",
    "IF(pd.interes>0,-pd.interes,pd.interes) as `Monto de interés`,\n",
    "IF(pd.iva>0,-pd.iva,pd.iva) as `Monto de IVA`,\n",
    "\"PAG\" AS `Tipo de Movimiento`,\n",
    "pd.procedencia as `Cuenta`,\n",
    "pd.id_pago as `paymentId`\n",
    "FROM pagos_desglosados pd\n",
    "left JOIN (\n",
    "\t\tselect \n",
    "\t\t\tca.id_distribuidor, max(ca.id_red) as 'id_red', max(ca.tipo_prestamo) as 'tipo_prestamo'\n",
    "\t\t\tfrom (\n",
    "\t\t\t\tselect \n",
    "\t\t\t\tif(tipo_prestamo = 'PRESTAMO PERSONAL RED', id_distribuidor_linea_de_credito, id_distribuidor) as 'id_distribuidor', \n",
    "\t\t\t\tid_distribuidor as 'id_red',\n",
    "\t\t\t\ttipo_prestamo\n",
    "\t\t\t\tfrom colocacion_asociado\n",
    "\t\t\t) as ca \n",
    "\t\tgroup by ca.id_distribuidor\n",
    ") cd on pd.id_distribuidor = cd.id_red\n",
    "where date(fecha_pago) >= '2021-01-01'\n",
    "            \"\"\"\n",
    "cursor.execute(sql_query)\n",
    "MOVO = cursor.fetchall()"
   ]
  },
  {
   "cell_type": "code",
   "execution_count": null,
   "id": "5a699e73",
   "metadata": {},
   "outputs": [],
   "source": [
    "MOVO = pd.DataFrame(MOVO, columns =  ['Contrato', 'Anexo', 'Número de documento', 'Fecha Depósito',\n",
    "       'Fecha Aplicación', 'Monto de Principal', 'Monto de interés',\n",
    "       'Monto de IVA', 'Tipo de Movimiento', 'Cuenta', 'paymentId'])"
   ]
  },
  {
   "cell_type": "code",
   "execution_count": null,
   "id": "0a9739b1",
   "metadata": {},
   "outputs": [],
   "source": [
    "print(\"Hay que revisar MOVO\" if (MOVO.isna().any(0).sum() > 0) else \"Todo bien con MOVO\")\n",
    "MOVO['Contrato'] = MOVO['Contrato'].astype(int)\n",
    "MOVO_id = MOVO['Contrato']\n",
    "print(MOVO.shape)\n",
    "MOVO.head(1)"
   ]
  },
  {
   "cell_type": "code",
   "execution_count": null,
   "id": "b767e0aa",
   "metadata": {},
   "outputs": [],
   "source": [
    "sum([mi in MOVA_id for mi in MOVO_id])"
   ]
  },
  {
   "cell_type": "code",
   "execution_count": null,
   "id": "d4b20ad7",
   "metadata": {},
   "outputs": [],
   "source": [
    "sum([mi in DEU_id for mi in MOVO_id])"
   ]
  },
  {
   "cell_type": "code",
   "execution_count": null,
   "id": "f7c56652",
   "metadata": {},
   "outputs": [],
   "source": [
    "MOVO = MOVO.loc[[mi in MOVA_id for mi in MOVO_id]]"
   ]
  },
  {
   "cell_type": "code",
   "execution_count": null,
   "id": "eec422fe",
   "metadata": {},
   "outputs": [],
   "source": [
    "np.setdiff1d(MOVO['Contrato'], DEU_id)"
   ]
  },
  {
   "cell_type": "code",
   "execution_count": null,
   "id": "e73e938d",
   "metadata": {},
   "outputs": [],
   "source": [
    "np.setdiff1d(MOVO['Contrato'], MOVA_id)"
   ]
  },
  {
   "cell_type": "code",
   "execution_count": null,
   "id": "07fd2277",
   "metadata": {},
   "outputs": [],
   "source": [
    "MOVO = MOVO.drop_duplicates(subset = [\"paymentId\"])"
   ]
  },
  {
   "cell_type": "code",
   "execution_count": null,
   "id": "27fb5dd1",
   "metadata": {},
   "outputs": [],
   "source": [
    "MOVO.to_csv(f'./{path}/{fecha_ayer_formato}/MOVO_{fecha_ayer_formato}.txt', sep ='|', index = False, header = False)"
   ]
  },
  {
   "cell_type": "code",
   "execution_count": null,
   "id": "557b18d0",
   "metadata": {},
   "outputs": [],
   "source": [
    "MOVO_ant = pd.read_csv(f\"{path}{ultima_fecha}/MOVO_{ultima_fecha}.txt\", sep = '|', header = None)\n",
    "MOVO_ant = MOVO_ant.infer_objects()\n",
    "\n",
    "MOVO_ant.columns = MOVO.columns\n",
    "MOVO_ant.shape[0], MOVO.shape[0]"
   ]
  },
  {
   "cell_type": "code",
   "execution_count": null,
   "id": "360f52d1",
   "metadata": {},
   "outputs": [],
   "source": [
    "if len(MOVO) > 0:\n",
    "    MOVO = pd.read_csv(f\"{path}{fecha_ayer_formato}/MOVO_{fecha_ayer_formato}.txt\", sep = '|', header = None)\n",
    "    MOVO.columns = MOVO_ant.columns"
   ]
  },
  {
   "cell_type": "code",
   "execution_count": null,
   "id": "6304831e",
   "metadata": {},
   "outputs": [],
   "source": [
    "MOVO_new = MOVO[MOVO.paymentId.isin(np.setdiff1d(MOVO['paymentId'], MOVO_ant['paymentId']))]\n",
    "\n",
    "MOVO_new = MOVO_new.drop_duplicates(subset = [\"paymentId\"])\n",
    "\n",
    "#Los para enviarse\n",
    "MOVO_new.to_csv(f'{path}/{fecha_ayer_formato}/MOVO_{fecha_ayer_formato}_tesoreria.csv', index = False)\n",
    "\n",
    "MOVO_new.to_csv(f'{path}/{fecha_ayer_formato}/MOVO_{fecha_ayer_formato}_diferencial.txt', sep ='|', index = False, header = False)"
   ]
  },
  {
   "cell_type": "markdown",
   "id": "4d6e8c1c",
   "metadata": {},
   "source": [
    "## Saldos"
   ]
  },
  {
   "cell_type": "code",
   "execution_count": null,
   "id": "ff87b3bd",
   "metadata": {},
   "outputs": [],
   "source": [
    "MOVA_saldos = MOVA.groupby(\"Contrato\")['Monto Capital'].sum().reset_index()"
   ]
  },
  {
   "cell_type": "code",
   "execution_count": null,
   "id": "e410a812",
   "metadata": {},
   "outputs": [],
   "source": [
    "MOVO_saldos = MOVO.groupby(\"Contrato\")['Monto de Principal'].sum().reset_index()"
   ]
  },
  {
   "cell_type": "code",
   "execution_count": null,
   "id": "470f96a2",
   "metadata": {},
   "outputs": [],
   "source": [
    "reporte_saldos = []\n",
    "for contrato in tqdm(MOVA_saldos.Contrato):\n",
    "    temp_mova = MOVA_saldos.query(f\"Contrato == {contrato}\")\n",
    "    monto_mova = temp_mova['Monto Capital'].values[0]\n",
    "    temp_movo = MOVO_saldos.query(f\"Contrato == {contrato}\")\n",
    "    \n",
    "    if len(temp_movo) == 0:\n",
    "        reporte_saldos.append([contrato, \"N\",monto_mova])\n",
    "    else:\n",
    "        monto_movo = temp_movo['Monto de Principal'].values[0]\n",
    "        reporte_saldos.append([contrato, \"N\", monto_mova + monto_movo])"
   ]
  },
  {
   "cell_type": "code",
   "execution_count": null,
   "id": "11634e4f",
   "metadata": {},
   "outputs": [],
   "source": [
    "data_reporte_saldos = pd.DataFrame(reporte_saldos, columns = ['contrato', 'anexo','numonto'])"
   ]
  },
  {
   "cell_type": "code",
   "execution_count": null,
   "id": "a8d59fa8",
   "metadata": {},
   "outputs": [],
   "source": [
    "data_reporte_saldos_enviar = data_reporte_saldos.query(\"numonto > 0.1\")"
   ]
  },
  {
   "cell_type": "code",
   "execution_count": null,
   "id": "3afd9cf8",
   "metadata": {},
   "outputs": [],
   "source": [
    "data_reporte_saldos_enviar.numonto = np.round(data_reporte_saldos_enviar.numonto,2)"
   ]
  },
  {
   "cell_type": "code",
   "execution_count": null,
   "id": "b8241579",
   "metadata": {},
   "outputs": [],
   "source": [
    "data_reporte_saldos.to_csv(f'{path}/{fecha_ayer_formato}/SLD_{fecha_ayer_formato}.txt', sep ='|', index = False, header = False)"
   ]
  },
  {
   "cell_type": "code",
   "execution_count": null,
   "id": "d34aeaa4",
   "metadata": {},
   "outputs": [],
   "source": [
    "data_reporte_saldos_enviar.to_csv(f'{path}/{fecha_ayer_formato}/SLD_{fecha_ayer_formato}_diferencial.txt', sep ='|', index = False, header = False)"
   ]
  },
  {
   "cell_type": "code",
   "execution_count": null,
   "id": "b366f1af",
   "metadata": {},
   "outputs": [],
   "source": [
    "data_reporte_saldos_enviar.numonto.sum()"
   ]
  },
  {
   "cell_type": "code",
   "execution_count": null,
   "id": "d55f81ee",
   "metadata": {},
   "outputs": [],
   "source": [
    "cnx.close()"
   ]
  },
  {
   "cell_type": "markdown",
   "id": "a7e473e5",
   "metadata": {},
   "source": [
    "# Enviando al SFTP"
   ]
  },
  {
   "cell_type": "code",
   "execution_count": null,
   "id": "c5524a6e",
   "metadata": {},
   "outputs": [],
   "source": [
    "import paramiko"
   ]
  },
  {
   "cell_type": "code",
   "execution_count": null,
   "id": "9d9b794c",
   "metadata": {},
   "outputs": [],
   "source": [
    "# Configura la conexión SFTP\n",
    "def enviar(name):\n",
    "    hostname = 'linqsy.dyndns.org'\n",
    "    port = 22\n",
    "    username = 'Volana'\n",
    "    password = '*v0lana-202311'\n",
    "\n",
    "    # Crea una instancia de la clase Transport\n",
    "    transport = paramiko.Transport((hostname, port))\n",
    "\n",
    "    # Conéctate con el usuario y contraseña\n",
    "    transport.connect(username=username, password=password)\n",
    "\n",
    "\n",
    "    # Ruta local y remota del archivo\n",
    "    local_path = f'./JERS/data/{fecha_ayer_formato}/{name}_{fecha_ayer_formato}_diferencial.txt'\n",
    "    #local_path = f'./JERS/data/{fecha_ayer_formato}/{name}.txt'\n",
    "    #remote_path = f'/archivos_{fecha_ayer_formato}/{name}_{fecha_ayer_formato}.txt'\n",
    "    #\n",
    "    remote_path = f'/{name}{fecha_ayer_formato.replace(\"-\",\"\")}.txt'\n",
    "    # Crea una instancia de la clase SFTP\n",
    "    sftp = paramiko.SFTPClient.from_transport(transport)\n",
    "\n",
    "    # Sube el archivo\n",
    "    sftp.put(local_path, remote_path)\n",
    "\n",
    "    # Cierra la conexión SFTP\n",
    "    sftp.close()\n",
    "\n",
    "    # Cierra la conexión de transporte\n",
    "    transport.close()"
   ]
  },
  {
   "cell_type": "code",
   "execution_count": null,
   "id": "7a57c7b1",
   "metadata": {},
   "outputs": [],
   "source": [
    "for name in [\"SLD\", 'DEU','MOVO', 'MOVIC', 'MOVA']:\n",
    "#for name in ['MOVO']:\n",
    "    enviar(name)\n",
    "    #volver a correr la función de arriba\n",
    "    print(f\"{name} enviado correctamente\")"
   ]
  },
  {
   "cell_type": "markdown",
   "id": "505ab5c2",
   "metadata": {},
   "source": [
    "# Envios por correo"
   ]
  },
  {
   "cell_type": "code",
   "execution_count": null,
   "id": "55e1c485",
   "metadata": {},
   "outputs": [],
   "source": [
    "import smtplib\n",
    "from email.mime.text import MIMEText\n",
    "from email.mime.multipart import MIMEMultipart\n",
    "from email.mime.base import MIMEBase\n",
    "from email import encoders\n",
    "from datetime import datetime, timedelta\n",
    "\n",
    "# Email and password for less secure app access\n",
    "email = 'jairo.ramirez@volana.com'\n",
    "password = 'mate22MATE*'\n",
    "\n",
    "# Recipient email address\n",
    "to_email = 'neftali.sotelo@volana.com '\n",
    "Cc_email = ['antonio.herrera@volana.com', 'jairoenrique_ramirez@outlook.com']\n",
    "# Create a message\n",
    "msg = MIMEMultipart()\n",
    "msg['From'] = email\n",
    "msg['To'] = to_email\n",
    "msg['Cc'] = ' '.join(Cc_email)\n",
    "msg['Subject'] = f'Reportes Linq {fecha_ayer_formato}'\n",
    "\n",
    "body = 'Envio automático de reportes.\\nEnrique Ramírez.'\n",
    "msg.attach(MIMEText(body, 'plain'))\n",
    "\n",
    "## ======================== Adjuntos ========================\n",
    "\n",
    "files = [\"DEU\", \"MOVA\", \"MOVIC\", \"MOVO\"]\n",
    "#files = [\"MOVIC\", \"MOVO\"]\n",
    "for file in files:\n",
    "\n",
    "    filename = f'./JERS/data/{fecha_ayer_formato}/{file}_{fecha_ayer_formato}_tesoreria.csv'\n",
    "    attachment = open(filename, 'rb')\n",
    "\n",
    "    part = MIMEBase('application', 'octet-stream')\n",
    "    part.set_payload((attachment).read())\n",
    "    encoders.encode_base64(part)\n",
    "    part.add_header('Content-Disposition', \"attachment; filename= %s\" % filename)\n",
    "\n",
    "    msg.attach(part)\n",
    "\n",
    "# =================================\n",
    "\n",
    "# Connect to Gmail's SMTP server\n",
    "server = smtplib.SMTP('smtp.gmail.com', 587)\n",
    "server.starttls()\n",
    "\n",
    "# Login to your Gmail account\n",
    "server.login(email, password)\n",
    "\n",
    "# Send the email\n",
    "server.sendmail(email, [to_email] + Cc_email, msg.as_string())\n",
    "\n",
    "# Quit the server\n",
    "server.quit()\n",
    "\n",
    "print(\"Email sent successfully!\")\n"
   ]
  },
  {
   "cell_type": "markdown",
   "id": "c60d438f",
   "metadata": {},
   "source": [
    "## Cuadre temporal"
   ]
  },
  {
   "cell_type": "code",
   "execution_count": 70,
   "id": "70562edb",
   "metadata": {},
   "outputs": [
    {
     "ename": "NameError",
     "evalue": "name 'format_currency' is not defined",
     "output_type": "error",
     "traceback": [
      "\u001b[1;31m---------------------------------------------------------------------------\u001b[0m",
      "\u001b[1;31mNameError\u001b[0m                                 Traceback (most recent call last)",
      "Cell \u001b[1;32mIn[70], line 1\u001b[0m\n\u001b[1;32m----> 1\u001b[0m \u001b[38;5;28mprint\u001b[39m(\u001b[38;5;124mf\u001b[39m\u001b[38;5;124m\"\u001b[39m\u001b[38;5;124mMonto Capital [MOVA]: \u001b[39m\u001b[38;5;130;01m\\t\u001b[39;00m\u001b[38;5;130;01m\\t\u001b[39;00m\u001b[38;5;132;01m{\u001b[39;00mformat_currency(MOVA[\u001b[38;5;124m'\u001b[39m\u001b[38;5;124mMonto Capital\u001b[39m\u001b[38;5;124m'\u001b[39m]\u001b[38;5;241m.\u001b[39msum())\u001b[38;5;132;01m}\u001b[39;00m\u001b[38;5;124m\"\u001b[39m)\n\u001b[0;32m      2\u001b[0m \u001b[38;5;28mprint\u001b[39m(\u001b[38;5;124mf\u001b[39m\u001b[38;5;124m\"\u001b[39m\u001b[38;5;124mMonto de Principal [MOVO]: \u001b[39m\u001b[38;5;130;01m\\t\u001b[39;00m\u001b[38;5;132;01m{\u001b[39;00mformat_currency(MOVO[\u001b[38;5;124m'\u001b[39m\u001b[38;5;124mMonto de Principal\u001b[39m\u001b[38;5;124m'\u001b[39m]\u001b[38;5;241m.\u001b[39msum())\u001b[38;5;132;01m}\u001b[39;00m\u001b[38;5;124m\"\u001b[39m)\n\u001b[0;32m      3\u001b[0m \u001b[38;5;28mprint\u001b[39m(\u001b[38;5;124mf\u001b[39m\u001b[38;5;124m\"\u001b[39m\u001b[38;5;124mDiferencia: \u001b[39m\u001b[38;5;130;01m\\t\u001b[39;00m\u001b[38;5;130;01m\\t\u001b[39;00m\u001b[38;5;130;01m\\t\u001b[39;00m\u001b[38;5;132;01m{\u001b[39;00mformat_currency(MOVA[\u001b[38;5;124m'\u001b[39m\u001b[38;5;124mMonto Capital\u001b[39m\u001b[38;5;124m'\u001b[39m]\u001b[38;5;241m.\u001b[39msum()\u001b[38;5;250m \u001b[39m\u001b[38;5;241m+\u001b[39m\u001b[38;5;250m \u001b[39mMOVO[\u001b[38;5;124m'\u001b[39m\u001b[38;5;124mMonto de Principal\u001b[39m\u001b[38;5;124m'\u001b[39m]\u001b[38;5;241m.\u001b[39msum())\u001b[38;5;132;01m}\u001b[39;00m\u001b[38;5;124m\"\u001b[39m)\n",
      "\u001b[1;31mNameError\u001b[0m: name 'format_currency' is not defined"
     ]
    }
   ],
   "source": [
    "print(f\"Monto Capital [MOVA]: \\t\\t{format_currency(MOVA['Monto Capital'].sum())}\")\n",
    "print(f\"Monto de Principal [MOVO]: \\t{format_currency(MOVO['Monto de Principal'].sum())}\")\n",
    "print(f\"Diferencia: \\t\\t\\t{format_currency(MOVA['Monto Capital'].sum() + MOVO['Monto de Principal'].sum())}\")"
   ]
  },
  {
   "cell_type": "code",
   "execution_count": 159,
   "id": "b178fbb6",
   "metadata": {},
   "outputs": [
    {
     "name": "stdout",
     "output_type": "stream",
     "text": [
      "Monto Capital [MOVA]: \t\t$187,172,366.09\n",
      "Monto de Principal [MOVO]: \t$-153,520,705.49\n",
      "Diferencia: \t\t\t$33,651,660.60\n"
     ]
    }
   ],
   "source": [
    "print(f\"Monto Capital [MOVA]: \\t\\t{format_currency(MOVA['Monto Capital'].sum())}\")\n",
    "print(f\"Monto de Principal [MOVO]: \\t{format_currency(MOVO['Monto de Principal'].sum())}\")\n",
    "print(f\"Diferencia: \\t\\t\\t{format_currency(MOVA['Monto Capital'].sum() + MOVO['Monto de Principal'].sum())}\")"
   ]
  },
  {
   "cell_type": "code",
   "execution_count": 146,
   "id": "afd4c1bc",
   "metadata": {},
   "outputs": [],
   "source": [
    "MOVA['Fecha Vencimiento'] = pd.to_datetime(MOVA['Fecha Vencimiento'])"
   ]
  },
  {
   "cell_type": "code",
   "execution_count": 151,
   "id": "a8f1a006",
   "metadata": {},
   "outputs": [
    {
     "data": {
      "text/plain": [
       "21016375.630000003"
      ]
     },
     "execution_count": 151,
     "metadata": {},
     "output_type": "execute_result"
    }
   ],
   "source": [
    "MOVA[MOVA['Fecha Vencimiento'] > '2024-05-22']['Monto Capital'].sum()"
   ]
  },
  {
   "cell_type": "code",
   "execution_count": 152,
   "id": "1cf1b194",
   "metadata": {},
   "outputs": [
    {
     "data": {
      "text/html": [
       "<div>\n",
       "<style scoped>\n",
       "    .dataframe tbody tr th:only-of-type {\n",
       "        vertical-align: middle;\n",
       "    }\n",
       "\n",
       "    .dataframe tbody tr th {\n",
       "        vertical-align: top;\n",
       "    }\n",
       "\n",
       "    .dataframe thead th {\n",
       "        text-align: right;\n",
       "    }\n",
       "</style>\n",
       "<table border=\"1\" class=\"dataframe\">\n",
       "  <thead>\n",
       "    <tr style=\"text-align: right;\">\n",
       "      <th></th>\n",
       "      <th>Contrato</th>\n",
       "      <th>Anexo</th>\n",
       "      <th>Número de documento</th>\n",
       "      <th>Fecha Depósito</th>\n",
       "      <th>Fecha Aplicación</th>\n",
       "      <th>Monto de Principal</th>\n",
       "      <th>Monto de interés</th>\n",
       "      <th>Monto de IVA</th>\n",
       "      <th>Tipo de Movimiento</th>\n",
       "      <th>Cuenta</th>\n",
       "      <th>paymentId</th>\n",
       "    </tr>\n",
       "  </thead>\n",
       "  <tbody>\n",
       "    <tr>\n",
       "      <th>0</th>\n",
       "      <td>89030</td>\n",
       "      <td>N</td>\n",
       "      <td>88159</td>\n",
       "      <td>2021-11-15</td>\n",
       "      <td>2021-11-15</td>\n",
       "      <td>-2380.00</td>\n",
       "      <td>0.00</td>\n",
       "      <td>0.00</td>\n",
       "      <td>PAG</td>\n",
       "      <td>BANCOMER</td>\n",
       "      <td>111534</td>\n",
       "    </tr>\n",
       "    <tr>\n",
       "      <th>1</th>\n",
       "      <td>81274</td>\n",
       "      <td>N</td>\n",
       "      <td>81265</td>\n",
       "      <td>2021-07-05</td>\n",
       "      <td>2021-07-12</td>\n",
       "      <td>-2945.88</td>\n",
       "      <td>-830.76</td>\n",
       "      <td>-132.92</td>\n",
       "      <td>PAG</td>\n",
       "      <td>PAYCASH</td>\n",
       "      <td>92110</td>\n",
       "    </tr>\n",
       "    <tr>\n",
       "      <th>2</th>\n",
       "      <td>81503</td>\n",
       "      <td>N</td>\n",
       "      <td>81452</td>\n",
       "      <td>2021-07-06</td>\n",
       "      <td>2021-07-12</td>\n",
       "      <td>-1329.58</td>\n",
       "      <td>-720.19</td>\n",
       "      <td>-115.23</td>\n",
       "      <td>PAG</td>\n",
       "      <td>PAYCASH</td>\n",
       "      <td>92111</td>\n",
       "    </tr>\n",
       "    <tr>\n",
       "      <th>3</th>\n",
       "      <td>81664</td>\n",
       "      <td>N</td>\n",
       "      <td>81640</td>\n",
       "      <td>2021-07-08</td>\n",
       "      <td>2021-07-12</td>\n",
       "      <td>-1680.89</td>\n",
       "      <td>-892.30</td>\n",
       "      <td>-142.77</td>\n",
       "      <td>PAG</td>\n",
       "      <td>OXXO</td>\n",
       "      <td>92114</td>\n",
       "    </tr>\n",
       "    <tr>\n",
       "      <th>4</th>\n",
       "      <td>81534</td>\n",
       "      <td>N</td>\n",
       "      <td>81526</td>\n",
       "      <td>2021-07-09</td>\n",
       "      <td>2021-07-12</td>\n",
       "      <td>-1484.80</td>\n",
       "      <td>-783.65</td>\n",
       "      <td>-125.38</td>\n",
       "      <td>PAG</td>\n",
       "      <td>OXXO</td>\n",
       "      <td>92113</td>\n",
       "    </tr>\n",
       "    <tr>\n",
       "      <th>...</th>\n",
       "      <td>...</td>\n",
       "      <td>...</td>\n",
       "      <td>...</td>\n",
       "      <td>...</td>\n",
       "      <td>...</td>\n",
       "      <td>...</td>\n",
       "      <td>...</td>\n",
       "      <td>...</td>\n",
       "      <td>...</td>\n",
       "      <td>...</td>\n",
       "      <td>...</td>\n",
       "    </tr>\n",
       "    <tr>\n",
       "      <th>44359</th>\n",
       "      <td>180742</td>\n",
       "      <td>N</td>\n",
       "      <td>163049</td>\n",
       "      <td>2024-05-21</td>\n",
       "      <td>2024-05-21</td>\n",
       "      <td>-2.06</td>\n",
       "      <td>0.00</td>\n",
       "      <td>0.00</td>\n",
       "      <td>PAG</td>\n",
       "      <td>BANCOMER</td>\n",
       "      <td>277081</td>\n",
       "    </tr>\n",
       "    <tr>\n",
       "      <th>44360</th>\n",
       "      <td>184291</td>\n",
       "      <td>N</td>\n",
       "      <td>183978</td>\n",
       "      <td>2024-05-21</td>\n",
       "      <td>2024-05-21</td>\n",
       "      <td>-2616.69</td>\n",
       "      <td>-989.92</td>\n",
       "      <td>-158.39</td>\n",
       "      <td>PAG</td>\n",
       "      <td>BANCOMER</td>\n",
       "      <td>277078</td>\n",
       "    </tr>\n",
       "    <tr>\n",
       "      <th>44361</th>\n",
       "      <td>181477</td>\n",
       "      <td>N</td>\n",
       "      <td>100767</td>\n",
       "      <td>2024-05-21</td>\n",
       "      <td>2024-05-21</td>\n",
       "      <td>-9082.30</td>\n",
       "      <td>-1301.47</td>\n",
       "      <td>-208.23</td>\n",
       "      <td>PAG</td>\n",
       "      <td>PAYCASH</td>\n",
       "      <td>277099</td>\n",
       "    </tr>\n",
       "    <tr>\n",
       "      <th>44362</th>\n",
       "      <td>178754</td>\n",
       "      <td>N</td>\n",
       "      <td>151802</td>\n",
       "      <td>2024-05-21</td>\n",
       "      <td>2024-05-21</td>\n",
       "      <td>-2906.58</td>\n",
       "      <td>-441.74</td>\n",
       "      <td>-70.68</td>\n",
       "      <td>PAG</td>\n",
       "      <td>PAYCASH</td>\n",
       "      <td>277112</td>\n",
       "    </tr>\n",
       "    <tr>\n",
       "      <th>44363</th>\n",
       "      <td>177279</td>\n",
       "      <td>N</td>\n",
       "      <td>149163</td>\n",
       "      <td>2024-05-21</td>\n",
       "      <td>2024-05-21</td>\n",
       "      <td>-12337.75</td>\n",
       "      <td>-714.01</td>\n",
       "      <td>-114.24</td>\n",
       "      <td>PAG</td>\n",
       "      <td>GARANTIA</td>\n",
       "      <td>277107</td>\n",
       "    </tr>\n",
       "  </tbody>\n",
       "</table>\n",
       "<p>44364 rows × 11 columns</p>\n",
       "</div>"
      ],
      "text/plain": [
       "       Contrato Anexo  Número de documento Fecha Depósito Fecha Aplicación  \\\n",
       "0         89030     N                88159     2021-11-15       2021-11-15   \n",
       "1         81274     N                81265     2021-07-05       2021-07-12   \n",
       "2         81503     N                81452     2021-07-06       2021-07-12   \n",
       "3         81664     N                81640     2021-07-08       2021-07-12   \n",
       "4         81534     N                81526     2021-07-09       2021-07-12   \n",
       "...         ...   ...                  ...            ...              ...   \n",
       "44359    180742     N               163049     2024-05-21       2024-05-21   \n",
       "44360    184291     N               183978     2024-05-21       2024-05-21   \n",
       "44361    181477     N               100767     2024-05-21       2024-05-21   \n",
       "44362    178754     N               151802     2024-05-21       2024-05-21   \n",
       "44363    177279     N               149163     2024-05-21       2024-05-21   \n",
       "\n",
       "       Monto de Principal  Monto de interés  Monto de IVA Tipo de Movimiento  \\\n",
       "0                -2380.00              0.00          0.00                PAG   \n",
       "1                -2945.88           -830.76       -132.92                PAG   \n",
       "2                -1329.58           -720.19       -115.23                PAG   \n",
       "3                -1680.89           -892.30       -142.77                PAG   \n",
       "4                -1484.80           -783.65       -125.38                PAG   \n",
       "...                   ...               ...           ...                ...   \n",
       "44359               -2.06              0.00          0.00                PAG   \n",
       "44360            -2616.69           -989.92       -158.39                PAG   \n",
       "44361            -9082.30          -1301.47       -208.23                PAG   \n",
       "44362            -2906.58           -441.74        -70.68                PAG   \n",
       "44363           -12337.75           -714.01       -114.24                PAG   \n",
       "\n",
       "         Cuenta  paymentId  \n",
       "0      BANCOMER     111534  \n",
       "1       PAYCASH      92110  \n",
       "2       PAYCASH      92111  \n",
       "3          OXXO      92114  \n",
       "4          OXXO      92113  \n",
       "...         ...        ...  \n",
       "44359  BANCOMER     277081  \n",
       "44360  BANCOMER     277078  \n",
       "44361   PAYCASH     277099  \n",
       "44362   PAYCASH     277112  \n",
       "44363  GARANTIA     277107  \n",
       "\n",
       "[44364 rows x 11 columns]"
      ]
     },
     "execution_count": 152,
     "metadata": {},
     "output_type": "execute_result"
    }
   ],
   "source": [
    "MOVO"
   ]
  }
 ],
 "metadata": {
  "kernelspec": {
   "display_name": "Python 3 (ipykernel)",
   "language": "python",
   "name": "python3"
  },
  "language_info": {
   "codemirror_mode": {
    "name": "ipython",
    "version": 3
   },
   "file_extension": ".py",
   "mimetype": "text/x-python",
   "name": "python",
   "nbconvert_exporter": "python",
   "pygments_lexer": "ipython3",
   "version": "3.11.4"
  }
 },
 "nbformat": 4,
 "nbformat_minor": 5
}
