{
 "cells": [
  {
   "cell_type": "code",
   "execution_count": 1,
   "id": "764a5ae3",
   "metadata": {},
   "outputs": [],
   "source": [
    "import pandas as pd"
   ]
  },
  {
   "cell_type": "code",
   "execution_count": 9,
   "id": "11c34d8e",
   "metadata": {},
   "outputs": [],
   "source": [
    "data_faltantes = pd.read_excel(\"./cartera_distribuidor_red_v2_2024-04-15_22_50_47.xlsx\", header=1)"
   ]
  },
  {
   "cell_type": "code",
   "execution_count": 10,
   "id": "69afd9e1",
   "metadata": {},
   "outputs": [],
   "source": [
    "data_ejemplo = pd.read_csv(\"./cartera_distribuidor_ejemplo.csv\")"
   ]
  },
  {
   "cell_type": "code",
   "execution_count": 8,
   "id": "3dc805f5",
   "metadata": {},
   "outputs": [
    {
     "data": {
      "text/plain": [
       "Index(['sucursal', 'id_coordinador', 'coordinador', 'id_asesor', 'asesor',\n",
       "       'id_distribuidor', 'distribuidor', 'fecha_aut_linea',\n",
       "       'fecha_ult_incremento', 'no_incrementos',\n",
       "       ...\n",
       "       'redondeo_vencido', 'moratorio_vencido', 'seguro_distribuidor_vencido',\n",
       "       'seguro_asociado_vencido', 'linea_bloqueada', 'id_cliente',\n",
       "       'tipo_distribuidor_origen', 'fecha_cambio_tipo_distribuidor',\n",
       "       'fecha_consulta_cc_1', 'fecha_consulta_cc_2'],\n",
       "      dtype='object', length=103)"
      ]
     },
     "execution_count": 8,
     "metadata": {},
     "output_type": "execute_result"
    }
   ],
   "source": [
    "data_ejemplo.columns"
   ]
  },
  {
   "cell_type": "code",
   "execution_count": 16,
   "id": "61d26d2b",
   "metadata": {},
   "outputs": [
    {
     "data": {
      "text/plain": [
       "Index(['SUCURSAL', 'ID COORDINADOR', 'COORDINADOR', 'ID ASESOR', 'ASESOR',\n",
       "       'ID DIST.', 'DISTRIBUIDOR', 'F. AUT. LINEA', 'F. ULT. INCREMENTO',\n",
       "       'NO. INCREMENTOS', 'LINEA DE CREDITO', 'LINEA DISPUESTA $',\n",
       "       'DISPONIBLE', 'F. PRIMERA DISP.', 'ASOCIADOS ACTIVOS',\n",
       "       'ASOCIADOS TOTALES', 'CAPITAL', 'INTERES', 'IVA INTERES',\n",
       "       'SEGURO ASOCIADOS', 'SEGURO DISTRIBUIDOR', 'MULTAS', 'IVA MULTAS',\n",
       "       'TOTAL PAGADO', 'CAPITAL.1', 'INTERES.1', 'IVA INTERES.1',\n",
       "       'SEGURO ASOCIADOS.1', 'SEGURO DISTRIBUIDOR.1', 'MULTAS.1',\n",
       "       'IVA MULTAS.1', 'TOTAL PENDIENTE', 'F. ATRASO', 'DIAS ATRASO',\n",
       "       'CAPITAL ATRASO', 'SALDO ATRASADO', 'F. ULTIMO PAGO', 'F. PROX. PAGO',\n",
       "       'SALDO ATRASADO.1', 'IMPORTE PARTIDA', 'SEG. ASOC.', 'SEG. DIST.',\n",
       "       'CREDITO PERSONAL', 'TOTAL PAGO SEMANAL', 'PAGO ANTICIPADO', 'COMISION',\n",
       "       'MORATORIOS', 'MONTO DEPOSITAR', 'F. REACTIVACION', 'EMPLEADO ASESOR',\n",
       "       'EMPLEADO COORD.', 'CONVENIO', 'ESTATUS.', 'REESTRUCTURADO',\n",
       "       'TIPO DISTRIBUIDOR'],\n",
       "      dtype='object')"
      ]
     },
     "execution_count": 16,
     "metadata": {},
     "output_type": "execute_result"
    }
   ],
   "source": [
    "data_faltantes.columns"
   ]
  },
  {
   "cell_type": "code",
   "execution_count": 29,
   "id": "4e50c9d7",
   "metadata": {},
   "outputs": [
    {
     "name": "stdout",
     "output_type": "stream",
     "text": [
      "SUCURSAL -------- sucursal\n",
      "ID COORDINADOR -------- id_coordinador\n",
      "COORDINADOR -------- coordinador\n",
      "ID ASESOR -------- id_asesor\n",
      "ASESOR -------- asesor\n",
      "id_distribuidor -------- id_distribuidor\n",
      "DISTRIBUIDOR -------- distribuidor\n",
      "F. AUT. LINEA -------- fecha_aut_linea\n",
      "F. ULT. INCREMENTO -------- fecha_ult_incremento\n",
      "NO. INCREMENTOS -------- no_incrementos\n",
      "LINEA DE CREDITO -------- linea_de_credito\n",
      "LINEA DISPUESTA $ -------- linea_dispuesta\n",
      "DISPONIBLE -------- linea_disponible\n",
      "F. PRIMERA DISP. -------- fecha_primera_disposicion\n",
      "ASOCIADOS ACTIVOS -------- asociados_activos\n",
      "ASOCIADOS TOTALES -------- asociados_totales\n",
      "CAPITAL -------- total_pagado_capital\n",
      "INTERES -------- total_pagado_interes\n",
      "IVA INTERES -------- total_pagado_iva_interes\n",
      "SEGURO ASOCIADOS -------- total_pagado_seguro\n",
      "SEGURO DISTRIBUIDOR -------- total_pagado_seguro_dist\n",
      "MULTAS -------- total_pagado_multas\n",
      "IVA MULTAS -------- total_pagado_iva_multas\n",
      "TOTAL PAGADO -------- total_pagado\n",
      "CAPITAL.1 -------- saldo_pendiente_capital\n",
      "INTERES.1 -------- saldo_pendiente_interes\n",
      "IVA INTERES.1 -------- saldo_pendiente_iva_interes\n",
      "SEGURO ASOCIADOS.1 -------- saldo_pendiente_seguro\n",
      "SEGURO DISTRIBUIDOR.1 -------- saldo_pendiente_seguro_dist\n",
      "MULTAS.1 -------- saldo_pendiente_multas\n",
      "IVA MULTAS.1 -------- saldo_pendiente_iva_multas\n",
      "TOTAL PENDIENTE -------- saldo_pendiente_total\n",
      "F. ATRASO -------- fecha_atraso\n",
      "DIAS ATRASO -------- dias_atraso\n",
      "CAPITAL ATRASO -------- capital_atraso\n",
      "SALDO ATRASADO -------- saldo_atraso\n",
      "F. ULTIMO PAGO -------- fecha_ultimo_pago\n",
      "F. PROX. PAGO -------- fecha_proximo_pago\n",
      "SALDO ATRASADO.1 -------- proximo_pago_saldo_atrasado\n",
      "IMPORTE PARTIDA -------- proximo_pago_importe_partida\n",
      "SEG. ASOC. -------- proximo_pago_seguro asociados\n",
      "SEG. DIST. -------- proximo_pago_seguro_distribuidor\n",
      "CREDITO PERSONAL -------- proximo_pago_credito_personal\n"
     ]
    }
   ],
   "source": [
    "c = 0\n",
    "replace_dict_final = {}\n",
    "for k,j in zip(data_faltantes.columns, data_ejemplo.columns):\n",
    "    print(k, \"--------\",j)\n",
    "    replace_dict_final[k] = j\n",
    "    if j == 'proximo_pago_credito_personal':\n",
    "        break"
   ]
  },
  {
   "cell_type": "code",
   "execution_count": 30,
   "id": "a0c4b6c6",
   "metadata": {},
   "outputs": [
    {
     "data": {
      "text/plain": [
       "{'SUCURSAL': 'sucursal',\n",
       " 'ID COORDINADOR': 'id_coordinador',\n",
       " 'COORDINADOR': 'coordinador',\n",
       " 'ID ASESOR': 'id_asesor',\n",
       " 'ASESOR': 'asesor',\n",
       " 'id_distribuidor': 'id_distribuidor',\n",
       " 'DISTRIBUIDOR': 'distribuidor',\n",
       " 'F. AUT. LINEA': 'fecha_aut_linea',\n",
       " 'F. ULT. INCREMENTO': 'fecha_ult_incremento',\n",
       " 'NO. INCREMENTOS': 'no_incrementos',\n",
       " 'LINEA DE CREDITO': 'linea_de_credito',\n",
       " 'LINEA DISPUESTA $': 'linea_dispuesta',\n",
       " 'DISPONIBLE': 'linea_disponible',\n",
       " 'F. PRIMERA DISP.': 'fecha_primera_disposicion',\n",
       " 'ASOCIADOS ACTIVOS': 'asociados_activos',\n",
       " 'ASOCIADOS TOTALES': 'asociados_totales',\n",
       " 'CAPITAL': 'total_pagado_capital',\n",
       " 'INTERES': 'total_pagado_interes',\n",
       " 'IVA INTERES': 'total_pagado_iva_interes',\n",
       " 'SEGURO ASOCIADOS': 'total_pagado_seguro',\n",
       " 'SEGURO DISTRIBUIDOR': 'total_pagado_seguro_dist',\n",
       " 'MULTAS': 'total_pagado_multas',\n",
       " 'IVA MULTAS': 'total_pagado_iva_multas',\n",
       " 'TOTAL PAGADO': 'total_pagado',\n",
       " 'CAPITAL.1': 'saldo_pendiente_capital',\n",
       " 'INTERES.1': 'saldo_pendiente_interes',\n",
       " 'IVA INTERES.1': 'saldo_pendiente_iva_interes',\n",
       " 'SEGURO ASOCIADOS.1': 'saldo_pendiente_seguro',\n",
       " 'SEGURO DISTRIBUIDOR.1': 'saldo_pendiente_seguro_dist',\n",
       " 'MULTAS.1': 'saldo_pendiente_multas',\n",
       " 'IVA MULTAS.1': 'saldo_pendiente_iva_multas',\n",
       " 'TOTAL PENDIENTE': 'saldo_pendiente_total',\n",
       " 'F. ATRASO': 'fecha_atraso',\n",
       " 'DIAS ATRASO': 'dias_atraso',\n",
       " 'CAPITAL ATRASO': 'capital_atraso',\n",
       " 'SALDO ATRASADO': 'saldo_atraso',\n",
       " 'F. ULTIMO PAGO': 'fecha_ultimo_pago',\n",
       " 'F. PROX. PAGO': 'fecha_proximo_pago',\n",
       " 'SALDO ATRASADO.1': 'proximo_pago_saldo_atrasado',\n",
       " 'IMPORTE PARTIDA': 'proximo_pago_importe_partida',\n",
       " 'SEG. ASOC.': 'proximo_pago_seguro asociados',\n",
       " 'SEG. DIST.': 'proximo_pago_seguro_distribuidor',\n",
       " 'CREDITO PERSONAL': 'proximo_pago_credito_personal'}"
      ]
     },
     "execution_count": 30,
     "metadata": {},
     "output_type": "execute_result"
    }
   ],
   "source": [
    "replace_dict_final"
   ]
  },
  {
   "cell_type": "code",
   "execution_count": 19,
   "id": "03a79c3e",
   "metadata": {},
   "outputs": [],
   "source": [
    "data_faltantes.rename(columns={'ID DIST.':'id_distribuidor'}, inplace=True)"
   ]
  },
  {
   "cell_type": "code",
   "execution_count": 12,
   "id": "5dbc2bb4",
   "metadata": {},
   "outputs": [],
   "source": [
    "def levenshtein_distance(s1, s2):\n",
    "    if len(s1) > len(s2):\n",
    "        s1, s2 = s2, s1\n",
    "\n",
    "    distances = range(len(s1) + 1)\n",
    "    for index2, char2 in enumerate(s2):\n",
    "        new_distances = [index2 + 1]\n",
    "        for index1, char1 in enumerate(s1):\n",
    "            if char1 == char2:\n",
    "                new_distances.append(distances[index1])\n",
    "            else:\n",
    "                new_distances.append(1 + min((distances[index1], distances[index1 + 1], new_distances[-1])))\n",
    "        distances = new_distances\n",
    "\n",
    "    return distances[-1]\n",
    "\n",
    "def find_most_similar(text, text_list):\n",
    "    min_distance = float('inf')\n",
    "    most_similar_text = None\n",
    "    for item in text_list:\n",
    "        distance = levenshtein_distance(text, item)\n",
    "        if distance < min_distance:\n",
    "            min_distance = distance\n",
    "            most_similar_text = item\n",
    "    return most_similar_text"
   ]
  },
  {
   "cell_type": "code",
   "execution_count": 20,
   "id": "a5655122",
   "metadata": {},
   "outputs": [
    {
     "name": "stdout",
     "output_type": "stream",
     "text": [
      "El texto más similar a 'sucursal' en la segunda lista es 'sucursal'.\n",
      "El texto más similar a 'id coordinador' en la segunda lista es 'id_coordinador'.\n",
      "El texto más similar a 'coordinador' en la segunda lista es 'coordinador'.\n",
      "El texto más similar a 'id asesor' en la segunda lista es 'id_asesor'.\n",
      "El texto más similar a 'asesor' en la segunda lista es 'asesor'.\n",
      "El texto más similar a 'id_distribuidor' en la segunda lista es 'id_distribuidor'.\n",
      "El texto más similar a 'distribuidor' en la segunda lista es 'distribuidor'.\n",
      "El texto más similar a 'f. aut. linea' en la segunda lista es 'fecha_aut_linea'.\n",
      "El texto más similar a 'f. ult. incremento' en la segunda lista es 'fecha_ult_incremento'.\n",
      "El texto más similar a 'no. incrementos' en la segunda lista es 'no_incrementos'.\n",
      "El texto más similar a 'linea de credito' en la segunda lista es 'linea_de_credito'.\n",
      "El texto más similar a 'linea dispuesta $' en la segunda lista es 'linea_dispuesta'.\n",
      "El texto más similar a 'disponible' en la segunda lista es 'linea_disponible'.\n",
      "El texto más similar a 'f. primera disp.' en la segunda lista es 'f_ult_disp'.\n",
      "El texto más similar a 'asociados activos' en la segunda lista es 'asociados_activos'.\n",
      "El texto más similar a 'asociados totales' en la segunda lista es 'asociados_totales'.\n",
      "El texto más similar a 'capital' en la segunda lista es 'e_capital'.\n",
      "El texto más similar a 'interes' en la segunda lista es 'e_interes'.\n",
      "El texto más similar a 'iva interes' en la segunda lista es 'e_interes'.\n",
      "El texto más similar a 'seguro asociados' en la segunda lista es 'seguro_asociado_vencido'.\n",
      "El texto más similar a 'seguro distribuidor' en la segunda lista es 'tipo_distribuidor'.\n",
      "El texto más similar a 'multas' en la segunda lista es 'status'.\n",
      "El texto más similar a 'iva multas' en la segunda lista es 'status'.\n",
      "El texto más similar a 'total pagado' en la segunda lista es 'total_pagado'.\n",
      "El texto más similar a 'capital.1' en la segunda lista es 'e_capital'.\n",
      "El texto más similar a 'interes.1' en la segunda lista es 'e_interes'.\n",
      "El texto más similar a 'iva interes.1' en la segunda lista es 'e_interes'.\n",
      "El texto más similar a 'seguro asociados.1' en la segunda lista es 'seguro_asociado_vencido'.\n",
      "El texto más similar a 'seguro distribuidor.1' en la segunda lista es 'tipo_distribuidor'.\n",
      "El texto más similar a 'multas.1' en la segunda lista es 'sucursal'.\n",
      "El texto más similar a 'iva multas.1' en la segunda lista es 'dias_atraso'.\n",
      "El texto más similar a 'total pendiente' en la segunda lista es 'total_pagado'.\n",
      "El texto más similar a 'f. atraso' en la segunda lista es 'fecha_atraso'.\n",
      "El texto más similar a 'dias atraso' en la segunda lista es 'dias_atraso'.\n",
      "El texto más similar a 'capital atraso' en la segunda lista es 'capital_atraso'.\n",
      "El texto más similar a 'saldo atrasado' en la segunda lista es 'saldo_atraso'.\n",
      "El texto más similar a 'f. ultimo pago' en la segunda lista es 'fecha_ultimo_pago'.\n",
      "El texto más similar a 'f. prox. pago' en la segunda lista es 'fecha_proximo_pago'.\n",
      "El texto más similar a 'saldo atrasado.1' en la segunda lista es 'saldo_atraso'.\n",
      "El texto más similar a 'importe partida' en la segunda lista es 'importe_aplicado'.\n",
      "El texto más similar a 'seg. asoc.' en la segunda lista es 'asesor'.\n",
      "El texto más similar a 'seg. dist.' en la segunda lista es 'registros'.\n",
      "El texto más similar a 'credito personal' en la segunda lista es 'capital_p_personal'.\n",
      "El texto más similar a 'total pago semanal' en la segunda lista es 'total_pagado_capital'.\n",
      "El texto más similar a 'pago anticipado' en la segunda lista es 'pagos_anticipados_u4p'.\n",
      "El texto más similar a 'comision' en la segunda lista es 'comisiones'.\n",
      "El texto más similar a 'moratorios' en la segunda lista es 'Period'.\n",
      "El texto más similar a 'monto depositar' en la segunda lista es 'categoria'.\n",
      "El texto más similar a 'f. reactivacion' en la segunda lista es 'fecha_reactivacion'.\n",
      "El texto más similar a 'empleado asesor' en la segunda lista es 'empleado_asesor'.\n",
      "El texto más similar a 'empleado coord.' en la segunda lista es 'empleado_asesor'.\n",
      "El texto más similar a 'convenio' en la segunda lista es 'convenio'.\n",
      "El texto más similar a 'estatus.' en la segunda lista es 'status'.\n",
      "El texto más similar a 'reestructurado' en la segunda lista es 'reestructurado'.\n",
      "El texto más similar a 'tipo distribuidor' en la segunda lista es 'tipo_distribuidor'.\n"
     ]
    }
   ],
   "source": [
    "# Ejemplo de uso:\n",
    "\n",
    "for col in data_faltantes.columns:\n",
    "    \n",
    "    col = col.lower()\n",
    "\n",
    "    texto_mas_similar = find_most_similar(col, data_ejemplo.columns)\n",
    "    print(\"El texto más similar a '{}' en la segunda lista es '{}'.\".format(col, texto_mas_similar))\n"
   ]
  },
  {
   "cell_type": "code",
   "execution_count": null,
   "id": "5fe15f61",
   "metadata": {},
   "outputs": [],
   "source": []
  }
 ],
 "metadata": {
  "kernelspec": {
   "display_name": "Python 3 (ipykernel)",
   "language": "python",
   "name": "python3"
  },
  "language_info": {
   "codemirror_mode": {
    "name": "ipython",
    "version": 3
   },
   "file_extension": ".py",
   "mimetype": "text/x-python",
   "name": "python",
   "nbconvert_exporter": "python",
   "pygments_lexer": "ipython3",
   "version": "3.11.4"
  }
 },
 "nbformat": 4,
 "nbformat_minor": 5
}
