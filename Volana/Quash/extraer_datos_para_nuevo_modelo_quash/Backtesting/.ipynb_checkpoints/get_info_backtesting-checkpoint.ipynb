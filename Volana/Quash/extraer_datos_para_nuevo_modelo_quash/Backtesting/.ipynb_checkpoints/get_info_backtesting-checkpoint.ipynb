{
 "cells": [
  {
   "cell_type": "code",
   "execution_count": 83,
   "id": "01becb7d",
   "metadata": {},
   "outputs": [],
   "source": [
    "import pandas as pd\n",
    "import numpy as np\n",
    "import pymysql\n",
    "from datetime import datetime, timedelta\n",
    "import warnings\n",
    "warnings.filterwarnings('ignore')"
   ]
  },
  {
   "cell_type": "code",
   "execution_count": 84,
   "id": "ef0a47cc",
   "metadata": {},
   "outputs": [],
   "source": [
    "def convertir_a_meses(periodo):\n",
    "    # Dividimos la cadena en partes\n",
    "    partes = periodo.split()\n",
    "    \n",
    "    # Inicializamos los años y meses a 0\n",
    "    años = 0\n",
    "    meses = 0\n",
    "    \n",
    "    # Iteramos sobre las partes y extraemos los valores de años y meses\n",
    "    for i in range(len(partes)):\n",
    "        if partes[i] == \"AÑOS\":\n",
    "            años = int(partes[i - 1])\n",
    "        elif partes[i] == \"MESES\":\n",
    "            meses = int(partes[i - 1])\n",
    "    \n",
    "    # Convertimos todo a meses\n",
    "    total_meses = años * 12 + meses\n",
    "    return total_meses"
   ]
  },
  {
   "cell_type": "code",
   "execution_count": 85,
   "id": "129e4dbc",
   "metadata": {},
   "outputs": [],
   "source": [
    "def excel_serial_to_date(serial):\n",
    "    # La fecha base de Excel es el 1 de enero de 1900\n",
    "    excel_base_date = datetime(1899, 12, 30)\n",
    "    # Sumar el número de serie a la fecha base\n",
    "    converted_date = excel_base_date + timedelta(days=serial)\n",
    "    return converted_date"
   ]
  },
  {
   "cell_type": "code",
   "execution_count": 86,
   "id": "58b4753c",
   "metadata": {},
   "outputs": [],
   "source": [
    "cnx = pymysql.connect(host='159.89.90.197', port = 3306, user='antonio_diaz', passwd=\"4nT0ni_0.dZ\",\n",
    "                           charset='utf8',db = 'volana')\n",
    "cursor = cnx.cursor()"
   ]
  },
  {
   "cell_type": "code",
   "execution_count": 87,
   "id": "a9d4b8f1",
   "metadata": {},
   "outputs": [],
   "source": [
    "replace_dict_oficios = {'jarcieria': 'servicios',\n",
    " 'tlapaleria/ferreteria/materiales de construccion': 'servicios',\n",
    " 'lavanderia/tintoreria/planchaduria': 'servicios',\n",
    " 'combustibles/gas/gasolina': 'servicios',\n",
    " 'animales/veterinaria': 'servicios',\n",
    " 'desperdicios/residuos/reciclaje': 'bienes de consumo',\n",
    " 'calzado reparacion y venta': 'bienes de consumo',\n",
    " 'venta por catalogo': 'ventas',\n",
    " 'venta de ropa': 'ventas',\n",
    " 'venta de comida': 'ventas',\n",
    " 'distribuidor con experiencia': 'ventas',\n",
    " 'venta de alimentos': 'venta de alimentos',\n",
    " 'belleza/salon/estetica/barberia': 'estetica',\n",
    " 'joyeria/bisuteria/fundicion': 'estetica',\n",
    " 'eventos/salones/sillas/mesas': 'eventos',\n",
    " 'flores/arreglos': 'eventos',\n",
    " 'fotografia/video': 'eventos',\n",
    " 'imprenta/serigrafia/rotulos': 'papeleria',\n",
    " 'cafeinternet': 'papeleria',\n",
    " 'papeleria': 'papeleria',\n",
    " 'agua/potable/residual': 'bienes de consumo',\n",
    " 'carniceria/polleria/rastro': 'bienes de consumo',\n",
    " 'tortilleria/molino': 'bienes de consumo',\n",
    " 'frutas/verduras/semillas/campo/agropecuarias': 'bienes de consumo',\n",
    " 'abarrotes/miscelaneas/perecederos': 'bienes de consumo',\n",
    " 'panaderia': 'bienes de consumo',\n",
    " 'amedicina/salud/farmacia': 'salud',\n",
    " 'deportes/gimnasio': 'prestamo de servicios',\n",
    " 'educacion/escuelas/centro de capacitacion': 'prestamo de servicios',\n",
    " 'venta de autos/motocicletas/lotes/autopartes': 'venta de electronicos/automoviles',\n",
    " 'venta de celulares/tecnologia': 'venta de electronicos/automoviles',\n",
    " 'venta de muebles/electronicos/electrodomesticos': 'venta de electronicos/automoviles',\n",
    " 'electricista': 'oficios',\n",
    " 'plomeria': 'oficios',\n",
    " 'herreria': 'oficios',\n",
    " 'cerrajeria': 'oficios',\n",
    " 'arte/artesanias': 'oficios',\n",
    " 'fabrica/taller/elaboracion/reparacion': 'oficios',\n",
    " 'madera/carpinteria/ebanista': 'oficios',\n",
    " 'mecanica automotriz/industrial': 'oficios'}\n",
    "\n",
    "replace_dict_sucursal = {\n",
    "    \"amecameca\": \"Grupo 1\",\n",
    "    \"milpa alta\": \"Grupo 1\",\n",
    "    \"tlahuac\": \"Grupo 1\",\n",
    "    \"coatzacoalcos\": \"Grupo 3\",\n",
    "    \"fortin\": \"Grupo 3\",\n",
    "    \"orizaba\": \"Grupo 3\",\n",
    "    \"texcoco\": \"Grupo 2\",\n",
    "    \"texcoco 2\": \"Grupo 2\",\n",
    "    \"villahermosa\": \"Grupo 2\",\n",
    "    \"chalco\": \"Grupo 2\",\n",
    "    \"cardenas\": \"Grupo 2\",\n",
    "    \"ixtapaluca\": \"Grupo 2\",\n",
    "    \"iztapalapa\": \"Grupo 4\",\n",
    "    \"nezahualcoyotl\": \"Grupo 4\",\n",
    "    \"nezahualcoyotl 2\": \"Grupo 4\",\n",
    "    \"chimalhuacan 2\": \"Grupo 4\",\n",
    "    \"tonala\": \"Grupo 5\",\n",
    "    \"tonala 2\": \"Grupo 5\"\n",
    "}\n"
   ]
  },
  {
   "cell_type": "code",
   "execution_count": 88,
   "id": "1482178c",
   "metadata": {},
   "outputs": [],
   "source": [
    "data_pc = pd.read_excel(\"./data/240430 PERDIDA DE COSECHA_.xlsb\", sheet_name='COLOCACION', header=1)"
   ]
  },
  {
   "cell_type": "code",
   "execution_count": 89,
   "id": "f718c162",
   "metadata": {},
   "outputs": [],
   "source": [
    "data_pc.columns = [k.lower().replace(\" \",\"_\") for k in data_pc.columns]\n",
    "data_pc = data_pc.query(f\"tipo_producto == 'PRESTAMO PERSONAL RED'\")"
   ]
  },
  {
   "cell_type": "code",
   "execution_count": 90,
   "id": "4d8923e9",
   "metadata": {},
   "outputs": [],
   "source": [
    "data_pc = data_pc[['id_distribuidor_linea_de_credito', 'perdida_de_cosecha', 'inicio_credito', 'ciclo_credito']]\n",
    "data_pc.rename(columns={\"id_distribuidor_linea_de_credito\": \"id_distribuidor\"}, inplace=True)\n",
    "data_pc.inicio_credito = data_pc.inicio_credito.apply(excel_serial_to_date)\n",
    "data_pc.id_distribuidor = data_pc.id_distribuidor.astype(int)"
   ]
  },
  {
   "cell_type": "code",
   "execution_count": 91,
   "id": "a6c7744b",
   "metadata": {},
   "outputs": [],
   "source": [
    "data_pc = data_pc.query(\"inicio_credito < '2024-01-01'\")"
   ]
  },
  {
   "cell_type": "code",
   "execution_count": 41,
   "id": "981ec251",
   "metadata": {},
   "outputs": [],
   "source": [
    "#data_pc = pd.read_excel(\"./data/240221 ANALISIS DE MODELOS.xlsx\", sheet_name='Hoja1')"
   ]
  },
  {
   "cell_type": "code",
   "execution_count": 42,
   "id": "a744da55",
   "metadata": {},
   "outputs": [
    {
     "data": {
      "text/plain": [
       "'\\ndata_pc.columns = [str(k).lower().replace(\" \", \"_\") for k in data_pc.columns]\\n\\ndata_pc = data_pc[[\\'id_distribuidor\\', \\'p_cosecha\\']]\\n\\ndata_pc.head(1)\\n'"
      ]
     },
     "execution_count": 42,
     "metadata": {},
     "output_type": "execute_result"
    }
   ],
   "source": [
    "\"\"\"\n",
    "data_pc.columns = [str(k).lower().replace(\" \", \"_\") for k in data_pc.columns]\n",
    "\n",
    "data_pc = data_pc[['id_distribuidor', 'p_cosecha']]\n",
    "\n",
    "data_pc.head(1)\n",
    "\"\"\""
   ]
  },
  {
   "cell_type": "code",
   "execution_count": 92,
   "id": "453db862",
   "metadata": {},
   "outputs": [],
   "source": [
    "ids = \", \".join(data_pc.id_distribuidor.unique().astype(str))"
   ]
  },
  {
   "cell_type": "code",
   "execution_count": 93,
   "id": "7123b957",
   "metadata": {},
   "outputs": [],
   "source": [
    "sql = f\"\"\"\n",
    "select *  from \n",
    "\t(select id,  escolaridad, lower(sucursal) as sucursal, lower(tipo_negocio) as tipo_negocio, tiempo_op_negocio, compras, \n",
    "\t\tingreso_mensual_negocio, ventas from cc_prospectos_demograficos\n",
    "UNION        \n",
    "\tselect id,  escolaridad, lower(sucursal) as sucursal, lower(tipo_negocio) as tipo_negocio, tiempo_op_negocio, compras, \n",
    "\t\tingreso_mensual as 'ingreso_mensual_negocio', ventas from demograficos_distribuidores\n",
    ") as un\n",
    "where un.id in ({ids})\n",
    "\"\"\"\n",
    "cursor.execute(sql)\n",
    "data_demo = cursor.fetchall()\n",
    "data_demo = pd.DataFrame(data_demo, columns=[i[0] for i in cursor.description])\n",
    "data_demo.rename(columns={\"id\" : 'id_distribuidor'}, inplace=True)\n",
    "data_demo.id_distribuidor = data_demo.id_distribuidor.astype(int)"
   ]
  },
  {
   "cell_type": "code",
   "execution_count": 94,
   "id": "5a716fa2",
   "metadata": {},
   "outputs": [],
   "source": [
    "data_demo.tipo_negocio = data_demo.tipo_negocio.fillna(\"venta de alimentos\")\n",
    "data_demo.compras = data_demo.compras.fillna(1748)\n",
    "data_demo.ventas = data_demo.ventas.fillna(4465)"
   ]
  },
  {
   "cell_type": "code",
   "execution_count": 95,
   "id": "21dc852d",
   "metadata": {},
   "outputs": [
    {
     "data": {
      "text/plain": [
       "id_distribuidor            0\n",
       "escolaridad                0\n",
       "sucursal                   0\n",
       "tipo_negocio               0\n",
       "tiempo_op_negocio          0\n",
       "compras                    0\n",
       "ingreso_mensual_negocio    0\n",
       "ventas                     0\n",
       "dtype: int64"
      ]
     },
     "execution_count": 95,
     "metadata": {},
     "output_type": "execute_result"
    }
   ],
   "source": [
    "data_demo.isna().sum(0)"
   ]
  },
  {
   "cell_type": "code",
   "execution_count": 96,
   "id": "2ae98013",
   "metadata": {},
   "outputs": [],
   "source": [
    "data_demo.tipo_negocio = data_demo.tipo_negocio.apply(lambda x: replace_dict_oficios[x].replace(\" \",\"_\").upper())\n",
    "data_demo.tiempo_op_negocio = data_demo.tiempo_op_negocio.apply(convertir_a_meses)"
   ]
  },
  {
   "cell_type": "code",
   "execution_count": 97,
   "id": "3b155e1a",
   "metadata": {},
   "outputs": [],
   "source": [
    "data_demo.sucursal = data_demo.sucursal.apply(lambda x: replace_dict_sucursal[x].replace(\" \",\"_\").upper())"
   ]
  },
  {
   "cell_type": "code",
   "execution_count": 98,
   "id": "92a08d61",
   "metadata": {},
   "outputs": [],
   "source": [
    "data_demo.ingreso_mensual_negocio = data_demo.ingreso_mensual_negocio.apply(lambda x: float(x.replace(\"$\", \"\").replace(\",\", \"\")))"
   ]
  },
  {
   "cell_type": "code",
   "execution_count": 101,
   "id": "e53bb538",
   "metadata": {},
   "outputs": [],
   "source": [
    "sql = f\"\"\"\n",
    "select \n",
    "\t\tnombreOtorgante as 'NOMBREOTORGANTE', \n",
    "\t\tpc.folioConsulta as 'FOLIO', \n",
    "        importeCredito as 'IMPORTECREDITO', \n",
    "        fechaConsulta,\n",
    "        idCliente as 'id_distribuidor',\n",
    "        valor as 'SCORE_FICO' from cc_prospectos_consultas as pc\n",
    "left join cc_prospectos_folios as pf on pc.folioConsulta = pf.folioConsulta \n",
    "left join cc_prospectos_scores as ps on pc.folioConsulta = ps.folioConsulta \n",
    "where idCliente in ({ids}) and fechaConsulta >= '2022-01-01' and fechaConsulta <= '2023-12-31'\n",
    "\"\"\""
   ]
  },
  {
   "cell_type": "code",
   "execution_count": null,
   "id": "8cad68fd",
   "metadata": {},
   "outputs": [],
   "source": [
    "cursor.execute(sql)\n",
    "data_cc = cursor.fetchall()\n",
    "data_cc = pd.DataFrame(data_cc, columns=[i[0] for i in cursor.description])\n",
    "data_cc.rename(columns={\"id\" : 'id_distribuidor'}, inplace = True)\n",
    "data_cc.id_distribuidor = data_cc.id_distribuidor.astype(int)"
   ]
  },
  {
   "cell_type": "code",
   "execution_count": null,
   "id": "a59b8afc",
   "metadata": {},
   "outputs": [],
   "source": [
    "data_enviar = data_demo.merge(data_cc, on='id_distribuidor')"
   ]
  },
  {
   "cell_type": "code",
   "execution_count": null,
   "id": "15bc228f",
   "metadata": {},
   "outputs": [],
   "source": [
    "data_enviar.escolaridad = data_enviar.escolaridad.str.upper()"
   ]
  },
  {
   "cell_type": "code",
   "execution_count": null,
   "id": "a2dc6205",
   "metadata": {},
   "outputs": [],
   "source": [
    "data_enviar.columns = [k.upper() for k in data_enviar.columns]\n",
    "\n",
    "data_enviar.rename(columns={\"ID_DISTRIBUIDOR\":\"APPLICANT_ID\"}, inplace=True)"
   ]
  },
  {
   "cell_type": "code",
   "execution_count": null,
   "id": "51574f52",
   "metadata": {},
   "outputs": [],
   "source": [
    "data_enviar.info()"
   ]
  },
  {
   "cell_type": "code",
   "execution_count": null,
   "id": "cc1ff382",
   "metadata": {},
   "outputs": [],
   "source": [
    "data_pc_enviar = data_pc.loc[data_pc.id_distribuidor.isin(data_enviar.APPLICANT_ID)]"
   ]
  },
  {
   "cell_type": "code",
   "execution_count": null,
   "id": "3b32ee19",
   "metadata": {},
   "outputs": [],
   "source": [
    "# colocando info sobre los ciclos\n",
    "\n",
    "data_pc_enviar"
   ]
  },
  {
   "cell_type": "code",
   "execution_count": null,
   "id": "b4fb55f0",
   "metadata": {},
   "outputs": [],
   "source": [
    "data_enviar#.APPLICANT_ID.nunique()"
   ]
  },
  {
   "cell_type": "code",
   "execution_count": null,
   "id": "ea20448e",
   "metadata": {
    "scrolled": true
   },
   "outputs": [],
   "source": [
    "data_enviar.to_csv(\"./data/enviar/data_backtesting.csv\", index=False)\n",
    "data_pc_enviar.to_csv(\"./data/enviar/data_pc_backtesting.csv\", index=False)"
   ]
  },
  {
   "cell_type": "code",
   "execution_count": null,
   "id": "d037594e",
   "metadata": {},
   "outputs": [],
   "source": [
    "data_pc_enviar.id_distribuidor"
   ]
  },
  {
   "cell_type": "code",
   "execution_count": null,
   "id": "1fef484f",
   "metadata": {},
   "outputs": [],
   "source": [
    "cnx.close()"
   ]
  },
  {
   "cell_type": "code",
   "execution_count": null,
   "id": "ee1c213a",
   "metadata": {},
   "outputs": [],
   "source": []
  },
  {
   "cell_type": "code",
   "execution_count": null,
   "id": "bc70c98e",
   "metadata": {},
   "outputs": [],
   "source": []
  },
  {
   "cell_type": "code",
   "execution_count": null,
   "id": "99e349ec",
   "metadata": {},
   "outputs": [],
   "source": []
  },
  {
   "cell_type": "code",
   "execution_count": 64,
   "id": "9568a603",
   "metadata": {},
   "outputs": [
    {
     "name": "stdout",
     "output_type": "stream",
     "text": [
      "Collecting dnspython\n",
      "  Obtaining dependency information for dnspython from https://files.pythonhosted.org/packages/87/a1/8c5287991ddb8d3e4662f71356d9656d91ab3a36618c3dd11b280df0d255/dnspython-2.6.1-py3-none-any.whl.metadata\n",
      "  Downloading dnspython-2.6.1-py3-none-any.whl.metadata (5.8 kB)\n",
      "Downloading dnspython-2.6.1-py3-none-any.whl (307 kB)\n",
      "   ---------------------------------------- 0.0/307.7 kB ? eta -:--:--\n",
      "   --- ------------------------------------ 30.7/307.7 kB 1.4 MB/s eta 0:00:01\n",
      "   ----------- ---------------------------- 92.2/307.7 kB 1.1 MB/s eta 0:00:01\n",
      "   ------------------------- -------------- 194.6/307.7 kB 1.3 MB/s eta 0:00:01\n",
      "   ---------------------------------------  307.2/307.7 kB 1.7 MB/s eta 0:00:01\n",
      "   ---------------------------------------- 307.7/307.7 kB 1.5 MB/s eta 0:00:00\n",
      "Installing collected packages: dnspython\n",
      "Successfully installed dnspython-2.6.1\n"
     ]
    }
   ],
   "source": [
    "!pip install dnspython"
   ]
  },
  {
   "cell_type": "code",
   "execution_count": 82,
   "id": "1cb37337",
   "metadata": {},
   "outputs": [
    {
     "ename": "KeyboardInterrupt",
     "evalue": "",
     "output_type": "error",
     "traceback": [
      "\u001b[1;31m---------------------------------------------------------------------------\u001b[0m",
      "\u001b[1;31mTimeoutError\u001b[0m                              Traceback (most recent call last)",
      "File \u001b[1;32m~\\anaconda3\\Lib\\socket.py:836\u001b[0m, in \u001b[0;36mcreate_connection\u001b[1;34m(address, timeout, source_address, all_errors)\u001b[0m\n\u001b[0;32m    835\u001b[0m     sock\u001b[38;5;241m.\u001b[39mbind(source_address)\n\u001b[1;32m--> 836\u001b[0m sock\u001b[38;5;241m.\u001b[39mconnect(sa)\n\u001b[0;32m    837\u001b[0m \u001b[38;5;66;03m# Break explicitly a reference cycle\u001b[39;00m\n",
      "\u001b[1;31mTimeoutError\u001b[0m: [WinError 10060] Se produjo un error durante el intento de conexión ya que la parte conectada no respondió adecuadamente tras un periodo de tiempo, o bien se produjo un error en la conexión establecida ya que el host conectado no ha podido responder",
      "\nDuring handling of the above exception, another exception occurred:\n",
      "\u001b[1;31mKeyboardInterrupt\u001b[0m                         Traceback (most recent call last)",
      "Cell \u001b[1;32mIn[82], line 33\u001b[0m\n\u001b[0;32m     31\u001b[0m \u001b[38;5;66;03m# Ejemplo de uso\u001b[39;00m\n\u001b[0;32m     32\u001b[0m email \u001b[38;5;241m=\u001b[39m \u001b[38;5;124m\"\u001b[39m\u001b[38;5;124ma01750443@tec.mx\u001b[39m\u001b[38;5;124m\"\u001b[39m\n\u001b[1;32m---> 33\u001b[0m \u001b[38;5;28mprint\u001b[39m(verify_email_smtp(email))\n",
      "Cell \u001b[1;32mIn[82], line 18\u001b[0m, in \u001b[0;36mverify_email_smtp\u001b[1;34m(email)\u001b[0m\n\u001b[0;32m     16\u001b[0m server \u001b[38;5;241m=\u001b[39m smtplib\u001b[38;5;241m.\u001b[39mSMTP()\n\u001b[0;32m     17\u001b[0m server\u001b[38;5;241m.\u001b[39mset_debuglevel(\u001b[38;5;241m0\u001b[39m)\n\u001b[1;32m---> 18\u001b[0m server\u001b[38;5;241m.\u001b[39mconnect(mx_record)\n\u001b[0;32m     19\u001b[0m server\u001b[38;5;241m.\u001b[39mhelo(server\u001b[38;5;241m.\u001b[39mlocal_hostname)\n\u001b[0;32m     20\u001b[0m server\u001b[38;5;241m.\u001b[39mmail(\u001b[38;5;124m'\u001b[39m\u001b[38;5;124mme@example.com\u001b[39m\u001b[38;5;124m'\u001b[39m)\n",
      "File \u001b[1;32m~\\anaconda3\\Lib\\smtplib.py:341\u001b[0m, in \u001b[0;36mSMTP.connect\u001b[1;34m(self, host, port, source_address)\u001b[0m\n\u001b[0;32m    339\u001b[0m     port \u001b[38;5;241m=\u001b[39m \u001b[38;5;28mself\u001b[39m\u001b[38;5;241m.\u001b[39mdefault_port\n\u001b[0;32m    340\u001b[0m sys\u001b[38;5;241m.\u001b[39maudit(\u001b[38;5;124m\"\u001b[39m\u001b[38;5;124msmtplib.connect\u001b[39m\u001b[38;5;124m\"\u001b[39m, \u001b[38;5;28mself\u001b[39m, host, port)\n\u001b[1;32m--> 341\u001b[0m \u001b[38;5;28mself\u001b[39m\u001b[38;5;241m.\u001b[39msock \u001b[38;5;241m=\u001b[39m \u001b[38;5;28mself\u001b[39m\u001b[38;5;241m.\u001b[39m_get_socket(host, port, \u001b[38;5;28mself\u001b[39m\u001b[38;5;241m.\u001b[39mtimeout)\n\u001b[0;32m    342\u001b[0m \u001b[38;5;28mself\u001b[39m\u001b[38;5;241m.\u001b[39mfile \u001b[38;5;241m=\u001b[39m \u001b[38;5;28;01mNone\u001b[39;00m\n\u001b[0;32m    343\u001b[0m (code, msg) \u001b[38;5;241m=\u001b[39m \u001b[38;5;28mself\u001b[39m\u001b[38;5;241m.\u001b[39mgetreply()\n",
      "File \u001b[1;32m~\\anaconda3\\Lib\\smtplib.py:312\u001b[0m, in \u001b[0;36mSMTP._get_socket\u001b[1;34m(self, host, port, timeout)\u001b[0m\n\u001b[0;32m    310\u001b[0m \u001b[38;5;28;01mif\u001b[39;00m \u001b[38;5;28mself\u001b[39m\u001b[38;5;241m.\u001b[39mdebuglevel \u001b[38;5;241m>\u001b[39m \u001b[38;5;241m0\u001b[39m:\n\u001b[0;32m    311\u001b[0m     \u001b[38;5;28mself\u001b[39m\u001b[38;5;241m.\u001b[39m_print_debug(\u001b[38;5;124m'\u001b[39m\u001b[38;5;124mconnect: to\u001b[39m\u001b[38;5;124m'\u001b[39m, (host, port), \u001b[38;5;28mself\u001b[39m\u001b[38;5;241m.\u001b[39msource_address)\n\u001b[1;32m--> 312\u001b[0m \u001b[38;5;28;01mreturn\u001b[39;00m socket\u001b[38;5;241m.\u001b[39mcreate_connection((host, port), timeout,\n\u001b[0;32m    313\u001b[0m                                 \u001b[38;5;28mself\u001b[39m\u001b[38;5;241m.\u001b[39msource_address)\n",
      "File \u001b[1;32m~\\anaconda3\\Lib\\socket.py:843\u001b[0m, in \u001b[0;36mcreate_connection\u001b[1;34m(address, timeout, source_address, all_errors)\u001b[0m\n\u001b[0;32m    841\u001b[0m \u001b[38;5;28;01mexcept\u001b[39;00m error \u001b[38;5;28;01mas\u001b[39;00m exc:\n\u001b[0;32m    842\u001b[0m     \u001b[38;5;28;01mif\u001b[39;00m \u001b[38;5;129;01mnot\u001b[39;00m all_errors:\n\u001b[1;32m--> 843\u001b[0m         exceptions\u001b[38;5;241m.\u001b[39mclear()  \u001b[38;5;66;03m# raise only the last error\u001b[39;00m\n\u001b[0;32m    844\u001b[0m     exceptions\u001b[38;5;241m.\u001b[39mappend(exc)\n\u001b[0;32m    845\u001b[0m     \u001b[38;5;28;01mif\u001b[39;00m sock \u001b[38;5;129;01mis\u001b[39;00m \u001b[38;5;129;01mnot\u001b[39;00m \u001b[38;5;28;01mNone\u001b[39;00m:\n",
      "\u001b[1;31mKeyboardInterrupt\u001b[0m: "
     ]
    }
   ],
   "source": [
    "import smtplib\n",
    "import dns.resolver\n",
    "\n",
    "def verify_email_smtp(email):\n",
    "    domain = email.split('@')[1]\n",
    "    \n",
    "    # Obtener el registro MX del dominio\n",
    "    try:\n",
    "        mx_records = dns.resolver.resolve(domain, 'MX')\n",
    "        mx_record = str(mx_records[0].exchange)\n",
    "    except Exception as e:\n",
    "        return False\n",
    "    \n",
    "    # Conectar al servidor SMTP\n",
    "    try:\n",
    "        server = smtplib.SMTP()\n",
    "        server.set_debuglevel(0)\n",
    "        server.connect(mx_record)\n",
    "        server.helo(server.local_hostname)\n",
    "        server.mail('me@example.com')\n",
    "        code, message = server.rcpt(email)\n",
    "        server.quit()\n",
    "        \n",
    "        if code == 250:\n",
    "            return True\n",
    "        else:\n",
    "            return False\n",
    "    except Exception as e:\n",
    "        return False\n",
    "\n",
    "# Ejemplo de uso\n",
    "email = \"a01750443@tec.mx\"\n",
    "print(verify_email_smtp(email))  # Debería imprimir True si el correo electrónico es válido según el servidor SMTP\n"
   ]
  },
  {
   "cell_type": "code",
   "execution_count": 67,
   "id": "6f13362b",
   "metadata": {},
   "outputs": [
    {
     "data": {
      "text/plain": [
       "'pernexium.com'"
      ]
     },
     "execution_count": 67,
     "metadata": {},
     "output_type": "execute_result"
    }
   ],
   "source": [
    "domain"
   ]
  }
 ],
 "metadata": {
  "kernelspec": {
   "display_name": "Python 3 (ipykernel)",
   "language": "python",
   "name": "python3"
  },
  "language_info": {
   "codemirror_mode": {
    "name": "ipython",
    "version": 3
   },
   "file_extension": ".py",
   "mimetype": "text/x-python",
   "name": "python",
   "nbconvert_exporter": "python",
   "pygments_lexer": "ipython3",
   "version": "3.11.4"
  }
 },
 "nbformat": 4,
 "nbformat_minor": 5
}
