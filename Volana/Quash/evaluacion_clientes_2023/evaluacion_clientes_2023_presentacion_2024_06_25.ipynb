{
 "cells": [
  {
   "cell_type": "code",
   "execution_count": 103,
   "id": "c5958952",
   "metadata": {},
   "outputs": [],
   "source": [
    "import pandas as pd\n",
    "import numpy as np\n",
    "import pymysql\n",
    "from datetime import datetime, timedelta\n",
    "import warnings\n",
    "import requests\n",
    "import json\n",
    "import fire\n",
    "warnings.filterwarnings('ignore')"
   ]
  },
  {
   "cell_type": "markdown",
   "id": "4dd57d1b",
   "metadata": {},
   "source": [
    "## Datos a usar"
   ]
  },
  {
   "cell_type": "code",
   "execution_count": 116,
   "id": "e2db1702",
   "metadata": {},
   "outputs": [],
   "source": [
    "def setcut_prob_quash(p, grupo_ = True):\n",
    "    p = p*100\n",
    "    cuts = np.array(sorted([100, 96.8, 93.6, 84.1, 75.4, 50.2, 0.00]))\n",
    "    cosechas = np.array(sorted([1, 1.98, 4.06, 6.11, 7.65, 11.8, 14.76], reverse = True))\n",
    "                                 \n",
    "    \n",
    "    #cuts = np.array(sorted([1, 0.9919, 0.975, 0.953, 0.9196, 0.8717, 0.7832, 0.6737, 0.5072, .2738]))*100\n",
    "    #cosechas = np.array(sorted([2.31, 2.63, 3.1, 3.12, 3.94, 4.2, 4.33, 5.15, 5.71, 59.82], reverse = True))\n",
    "    \n",
    "    for cut in cuts:\n",
    "        if cut > p:\n",
    "            break\n",
    "            \n",
    "    grupo = np.where(cuts == cut)[0][0] \n",
    "    if grupo_:\n",
    "        return grupo\n",
    "    else:\n",
    "        return cosechas[grupo - 1]\n",
    "def excel_to_datetime(excel_date):\n",
    "    # Excel date base is January 1, 1900\n",
    "    base_date = pd.Timestamp('1900-01-01')\n",
    "    # Convert the Excel date number to a pandas Timedelta\n",
    "    delta = pd.Timedelta(days=excel_date - 2)  # Subtract 2 days: one for the Excel leap year bug and one for inclusive counting\n",
    "    # Add the delta to the base date\n",
    "    result_date = base_date + delta\n",
    "    return result_date"
   ]
  },
  {
   "cell_type": "code",
   "execution_count": 113,
   "id": "e1bfc06d",
   "metadata": {},
   "outputs": [],
   "source": [
    "data_perdida_cosecha = pd.read_excel(\"../matriz_modelo_riesgo/data/240531 PERDIDA DE COSECHA.xlsb\", sheet_name = 'COLOCACION', header = 1)\n",
    "data_perdida_cosecha.columns = [k.lower().replace(\" \", \"_\") for k in data_perdida_cosecha.columns]\n",
    "data_perdida_cosecha.rename(columns={\"id_dist.\":\"id_distribuidor\"}, inplace = True)"
   ]
  },
  {
   "cell_type": "code",
   "execution_count": 114,
   "id": "086248d1",
   "metadata": {},
   "outputs": [],
   "source": [
    "def primer_no_nulo_fila(fila):\n",
    "    return fila[fila.first_valid_index()]\n",
    "\n",
    "# Aplicar la función a cada fila del DataFrame\n",
    "data_perdida_cosecha['id_distribuidor_usar'] = data_perdida_cosecha[['id_distribuidor_linea_de_credito', 'id_distribuidor']].apply(primer_no_nulo_fila, axis=1)"
   ]
  },
  {
   "cell_type": "code",
   "execution_count": 117,
   "id": "b204025d",
   "metadata": {},
   "outputs": [],
   "source": [
    "data_perdida_cosecha_usar = data_perdida_cosecha[['id_distribuidor_usar', 'id_distribuidor','perdida_de_cosecha', 'capital', 'tasa', 'inicio_credito', 'fin_credito']]\n",
    "data_perdida_cosecha_usar.inicio_credito = data_perdida_cosecha_usar.inicio_credito.apply(excel_to_datetime)\n",
    "data_perdida_cosecha_usar.fin_credito = data_perdida_cosecha_usar.fin_credito.apply(excel_to_datetime)\n",
    "data_perdida_cosecha_usar.head()\n",
    "\n",
    "data_perdida_cosecha_usar[\"perdido_capital\"] = abs(data_perdida_cosecha_usar.perdida_de_cosecha * data_perdida_cosecha_usar.capital)\n",
    "data_perdida_cosecha_usar[\"tasa_ponderada\"] = abs(data_perdida_cosecha_usar.tasa * data_perdida_cosecha_usar.capital)\n",
    "\n",
    "data_perdida_cosecha_solo = (data_perdida_cosecha_usar.groupby(\"id_distribuidor_usar\").perdido_capital.sum() / data_perdida_cosecha_usar.groupby(\"id_distribuidor_usar\").capital.sum()).reset_index()\n",
    "data_perdida_cosecha_solo.columns =['id_distribuidor_usar', 'perdida_ponderada']\n",
    "data_perdida_tasa_solo = (data_perdida_cosecha_usar.groupby(\"id_distribuidor_usar\").tasa_ponderada.sum() / data_perdida_cosecha_usar.groupby(\"id_distribuidor_usar\").capital.sum()).reset_index()\n",
    "data_perdida_tasa_solo.columns = ['id_distribuidor_usar', 'tasa_ponderada']\n",
    "\n",
    "data_perdida_cosecha_tasa_usar_2 = data_perdida_tasa_solo.merge(data_perdida_cosecha_solo)\n",
    "data_perdida_cosecha_tasa_usar_2.head()\n",
    "\n",
    "ids_distribuidores = data_perdida_cosecha_usar[['id_distribuidor_usar', 'id_distribuidor']].drop_duplicates(\"id_distribuidor_usar\")\n",
    "\n",
    "data_perdida_cosecha_tasa_usar = data_perdida_cosecha_tasa_usar_2.merge(ids_distribuidores, \n",
    "                                       on='id_distribuidor_usar')"
   ]
  },
  {
   "cell_type": "code",
   "execution_count": 122,
   "id": "c11bd082",
   "metadata": {},
   "outputs": [],
   "source": [
    "data_perdida_cosecha_tasa_usar.id_distribuidor_usar = data_perdida_cosecha_tasa_usar.id_distribuidor_usar.astype(int)"
   ]
  },
  {
   "cell_type": "code",
   "execution_count": 129,
   "id": "f48933f0",
   "metadata": {},
   "outputs": [],
   "source": [
    "ids = \"(\"+\", \".join(list(data_perdida_cosecha_tasa_usar.id_distribuidor_usar.astype(str)))+\")\""
   ]
  },
  {
   "cell_type": "markdown",
   "id": "392ba3e3",
   "metadata": {},
   "source": [
    "## Code"
   ]
  },
  {
   "cell_type": "code",
   "execution_count": 94,
   "id": "cd8aea5c",
   "metadata": {},
   "outputs": [],
   "source": [
    "URL = \"https://api.quash.ai\"\n",
    "DATA = \"./data/datos.json\"\n",
    "ENDPOINT = \"/scoring\"\n",
    "APIKEY = \"Ku9sm6Nr6XAEXlWfLNyPmDhkTvTa4EnS\""
   ]
  },
  {
   "cell_type": "code",
   "execution_count": 135,
   "id": "8dba0e0c",
   "metadata": {},
   "outputs": [],
   "source": [
    "sql_demo = f\"\"\"\n",
    "select * from (select \n",
    "    id as 'APPLICANT_ID', \n",
    "    monto_mensual as ingreso_mensual,\n",
    "    gastos_familiares,\n",
    "    otros_ingresos,\n",
    "    replace(replace(replace(ingreso_neto,\"$\",\"\"), \",\",\"\"), \".00\",\"\") as ingreso_neto,\n",
    "    dependientes,\n",
    "    ventas,\n",
    "    FLOOR(DATEDIFF(CURDATE(), fecha_nacimiento) / 365.25) AS edad,\n",
    "    monto_mensual,\n",
    "    compras,\n",
    "    delegacion,\n",
    "    delegacion_negocio,\n",
    "    escolaridad,\n",
    "    estado,\n",
    "    estado_civil,\n",
    "    estado_negocio,\n",
    "    sexo,\n",
    "    sucursal,\n",
    "    tipo_negocio,\n",
    "    tipo_vivienda\n",
    "from cc_prospectos_demograficos\n",
    "\n",
    "UNION\n",
    "\n",
    "select \n",
    "    id as 'APPLICANT_ID', \n",
    "    ingreso_mensual,\n",
    "    gastos_familiares,\n",
    "    otros_ingresos,\n",
    "    replace(replace(replace(ingreso_neto,\"$\",\"\"), \",\",\"\"), \".00\",\"\") as ingreso_neto,\n",
    "    dependientes,\n",
    "    ventas,\n",
    "    FLOOR(DATEDIFF(CURDATE(), fecha_nacimiento) / 365.25) AS edad,\n",
    "    monto_mensual_venta,\n",
    "    compras,\n",
    "    delegacion,\n",
    "    delegacion_negocio,\n",
    "    escolaridad,\n",
    "    estado,\n",
    "    estado_civil,\n",
    "    estado_negocio,\n",
    "    sexo,\n",
    "    sucursal,\n",
    "    tipo_negocio,\n",
    "    tipo_vivienda\n",
    "from demograficos_distribuidores) as pen\n",
    "where pen.APPLICANT_ID in {ids}\n",
    "\"\"\""
   ]
  },
  {
   "cell_type": "code",
   "execution_count": 136,
   "id": "166a44e9",
   "metadata": {},
   "outputs": [],
   "source": [
    "cnx = pymysql.connect(host='159.89.90.197', port = 3306, user='antonio_diaz', passwd=\"4nT0ni_0.dZ\",\n",
    "                               charset='utf8',db = 'volana')\n",
    "cursor = cnx.cursor()\n",
    "cursor.execute(sql_demo)\n",
    "data_demo = cursor.fetchall()\n",
    "data_demo = pd.DataFrame(data_demo, columns=[str(i[0]).upper() for i in cursor.description])\n",
    "cnx.close()"
   ]
  },
  {
   "cell_type": "markdown",
   "id": "66806da5",
   "metadata": {},
   "source": [
    "## Numéricas"
   ]
  },
  {
   "cell_type": "code",
   "execution_count": 138,
   "id": "41dd9b99",
   "metadata": {},
   "outputs": [],
   "source": [
    "for col in ['INGRESO_MENSUAL', 'GASTOS_FAMILIARES',\n",
    "       'OTROS_INGRESOS', 'INGRESO_NETO', 'DEPENDIENTES', 'VENTAS', 'EDAD',\n",
    "       'MONTO_MENSUAL', 'COMPRAS']:\n",
    "    \n",
    "    data_demo[col] = data_demo[col].fillna(0)\n",
    "    data_demo[col] = data_demo[col].apply(lambda x: float(str(x).replace(\"$\",\"\").replace(\" ANOS\",\"\").replace(\"|\",\"\").replace(\",\",\"\")))\n",
    "\n",
    "    data_demo[col] = data_demo[col].fillna(0)\n",
    "    data_demo[col] = data_demo[col].astype(float)\n",
    "    data_demo[col] = data_demo[col].fillna(0).astype(int)"
   ]
  },
  {
   "cell_type": "markdown",
   "id": "e3020421",
   "metadata": {},
   "source": [
    "## Categóricas"
   ]
  },
  {
   "cell_type": "code",
   "execution_count": 139,
   "id": "c5f0f855",
   "metadata": {},
   "outputs": [],
   "source": [
    "DELGACIONES = [\n",
    "    \"CENTRO\", \"CHALCO\", \"CHICOLOAPAN\", \"CHIMALHUACAN\", \"IXTAPALUCA\", \"IZTAPALAPA\", \"LA_PAZ\", \"NEZAHUALCOYOTL\",\n",
    "    \"VALLE_DE_CHALCO_SOLIDARIDAD\", \"ACAMBAY\", \"ACOLMAN\", \"AMATLAN_DE_LOS_REYES\", \"AMECAMECA\", \"ATENCO\", \"ATLAUTLA\",\n",
    "    \"ATOYAC\", \"ATZACAN\", \"AYAPANGO\", \"BENITO_JUAREZ\", \"CAMERINO_Z._MENDOZA\", \"CARDENAS\", \"CHIAUTLA\", \"CHICONCUAC\",\n",
    "    \"CHOCAMAN\", \"COATZACOALCOS\", \"COMALCALCO\", \"CORDOBA\", \"COSCOMATEPEC\", \"COSOLEACAQUE\", \"CUAUHTEMOC\", \"CUITLAHUAC\",\n",
    "    \"CUNDUACAN\", \"ECATEPEC_DE_MORELOS\", \"ECATZINGO\", \"FORTIN\", \"GUADALAJARA\", \"GUSTAVO_A._MADERO\", \"HUATUSCO\",\n",
    "    \"HUILOAPAN_DE_CUAUHTEMOC\", \"HUIMANGUILLO\", \"HUIXQUILUCAN\", \"IXHUATLANCILLO\", \"IXTACZOQUITLAN\",\n",
    "    \"IXTLAHUACAN_DE_LOS_MEMBRILLOS\", \"IZTACALCO\", \"JUCHITEPEC\", \"LA_PERLA\", \"MACUSPANA\", \"MARIANO_ESCOBEDO\",\n",
    "    \"MILPA_ALTA\", \"MINATITLAN\", \"NACAJUCA\", \"NANCHITAL_DE_LAZARO_CARDENAS_DEL_RIO\", \"NARANJAL\", \"NOGALES\",\n",
    "    \"OMEALCA\", \"ORIZABA\", \"OZUMBA\", \"PAPALOTLA\", \"RAFAEL_DELGADO\", \"RIO_BLANCO\", \"TEMAMATLA\", \"TENANGO_DEL_AIRE\",\n",
    "    \"TEOTIHUACAN\", \"TEPETLAOXTOC\", \"TEPETLIXPA\", \"TEPOTZOTLAN\", \"TEQUILA\", \"TEXCOCO\", \"TEZOYUCA\", \"TLAHUAC\",\n",
    "    \"TLAJOMULCO_DE_ZUNIGA\", \"TLALMANALCO\", \"TLAQUEPAQUE\", \"TLILAPAN\", \"TOMATLAN\", \"TONALA\", \"VENUSTIANO_CARRANZA\",\n",
    "    \"XOCHIMILCO\", \"ZAPOPAN\", \"ZAPOTLANEJO\"\n",
    "]\n",
    "ESCOLARIDADES = [\n",
    "    \"BACHILLERATO\", \"LICENCIATURA\", \"PRIMARIA\", \"SECUNDARIA\", \"TECNICO\", \"OTRO\", \"SIN_ESTUDIOS\"\n",
    "]\n",
    "ESTADOS = [\n",
    "    \"DISTRITO_FEDERAL\", \"JALISCO\", \"MEXICO\", \"TABASCO\", \"VERACRUZ_DE_IGNACIO_DE_LA_LLAVE\", \"QUINTANA_ROO\"\n",
    "]\n",
    "ESTADOS_CIVILES = [\n",
    "    \"CASADO\", \"SOLTERO\", \"UNION LIBRE\", \"VIUDO\", \"DIVORCIADO\", \"SEPARADO\"\n",
    "]\n",
    "SUCURSALES = [\n",
    "    \"AMECAMECA\", \"CARDENAS\", \"CHALCO\", \"CHIMALHUACAN_2\", \"COATZACOALCOS\", \"FORTIN\", \"IXTAPALUCA\", \"IXTAPALUCA_2\",\n",
    "    \"NEZAHUALCOYOTL_2\", \"ORIZABA\", \"TEXCOCO\", \"TONALA\", \"TONALA_2\", \"VILLAHERMOSA\", \"IZTAPALAPA\", \"MILPA_ALTA\",\n",
    "    \"TEXCOCO_2\", \"TLAHUAC\"\n",
    "]\n",
    "TIPOS_NEGOCIO = [\n",
    "    \"ABARROTES/MISCELANEAS/PERECEDEROS\", \"BELLEZA/SALON/ESTETICA/BARBERIA\", \"CALZADO_REPARACION_Y_VENTA\",\n",
    "    \"FABRICA/TALLER/ELABORACION/REPARACION\", \"FRUTAS/VERDURAS/SEMILLAS/CAMPO/AGROPECUARIAS\",\n",
    "    \"JOYERIA/BISUTERIA/FUNDICION\", \"VENTA_DE_ALIMENTOS\", \"VENTA_DE_ROPA\", \"VENTA_POR_CATALOGO\", \"AGUA/POTABLE/RESIDUAL\",\n",
    "    \"AMEDICINA/SALUD/FARMACIA\", \"ANIMALES/VETERINARIA\", \"ARTE/ARTESANIAS\", \"CAFEINTERNET\",\n",
    "    \"CARNICERIA/POLLERIA/RASTRO\", \"CERRAJERIA\", \"COMBUSTIBLES/GAS/GASOLINA\", \"DEPORTES/GIMNASIO\",\n",
    "    \"DESPERDICIOS/RESIDUOS/RECICLAJE\", \"DISTRIBUIDOR_CON_EXPERIENCIA\", \"EDUCACION/ESCUELAS/CENTRO_DE_CAPACITACION\",\n",
    "    \"ELECTRICISTA\", \"EVENTOS/SALONES/SILLAS/MESAS\", \"FLORES/ARREGLOS\", \"FOTOGRAFIA/VIDEO\", \"HERRERIA\",\n",
    "    \"IMPRENTA/SERIGRAFIA/ROTULOS\", \"JARCIERIA\", \"LAVANDERIA/TINTORERIA/PLANCHADURIA\", \"MADERA/CARPINTERIA/EBANISTA\",\n",
    "    \"MECANICA_AUTOMOTRIZ/INDUSTRIAL\", \"PANADERIA\", \"PAPELERIA\", \"PLOMERIA\", \"TLAPALERIA/FERRETERIA/MATERIALES_DE_CONSTRUCCION\",\n",
    "    \"TORTILLERIA/MOLINO\", \"VENTA_DE_AUTOS/MOTOCICLETAS/LOTES/AUTOPARTES\", \"VENTA_DE_CALZADO\",\n",
    "    \"VENTA_DE_CELULARES/TECNOLOGIA\", \"VENTA_DE_COMIDA\", \"VENTA_DE_MUEBLES/ELECTRONICOS/ELECTRODOMESTICOS\"\n",
    "]\n",
    "TIPOS_VIVIENDA = [\n",
    "    \"FAMILIAR\", \"PROPIA\", \"RENTADA\", \"OTRO\"\n",
    "]\n",
    "\n",
    "def levenshtein_distance(word1, word2):\n",
    "    len1, len2 = len(word1), len(word2)\n",
    "    \n",
    "    # Crear una matriz para almacenar las distancias parciales\n",
    "    dp = [[0] * (len2 + 1) for _ in range(len1 + 1)]\n",
    "\n",
    "    # Inicializar la primera fila y columna\n",
    "    for i in range(len1 + 1):\n",
    "        dp[i][0] = i\n",
    "    for j in range(len2 + 1):\n",
    "        dp[0][j] = j\n",
    "\n",
    "    # Calcular las distancias parciales\n",
    "    for i in range(1, len1 + 1):\n",
    "        for j in range(1, len2 + 1):\n",
    "            cost = 0 if word1[i - 1] == word2[j - 1] else 1\n",
    "            dp[i][j] = min(dp[i - 1][j] + 1,      # Eliminación\n",
    "                           dp[i][j - 1] + 1,      # Inserción\n",
    "                           dp[i - 1][j - 1] + cost)  # Sustitución\n",
    "\n",
    "    # El resultado final está en la esquina inferior derecha de la matriz\n",
    "    return dp[len1][len2]\n",
    "\n",
    "\n",
    "def MostSimilar(word, list_):\n",
    "    word = str(word).upper()\n",
    "    min_distance = np.inf\n",
    "    index = 0\n",
    "    for i, element in enumerate(list_):\n",
    "        d = levenshtein_distance(element, word)\n",
    "        if d < min_distance:\n",
    "            min_distance = d\n",
    "            index = i\n",
    "            \n",
    "    return list_[index]"
   ]
  },
  {
   "cell_type": "code",
   "execution_count": 140,
   "id": "53fdf1a2",
   "metadata": {},
   "outputs": [],
   "source": [
    "data_demo.DELEGACION = data_demo.DELEGACION.apply(MostSimilar, list_ = DELGACIONES)\n",
    "data_demo.DELEGACION_NEGOCIO = data_demo.DELEGACION_NEGOCIO.apply(MostSimilar, list_ = DELGACIONES)\n",
    "data_demo.ESCOLARIDAD = data_demo.ESCOLARIDAD.apply(MostSimilar, list_ = ESCOLARIDADES)\n",
    "data_demo.ESTADO = data_demo.ESTADO.apply(MostSimilar, list_ = ESTADOS)\n",
    "data_demo.ESTADO_NEGOCIO = data_demo.ESTADO_NEGOCIO.apply(MostSimilar, list_ = ESTADOS)\n",
    "data_demo.SUCURSAL = data_demo.SUCURSAL.apply(MostSimilar, list_ = SUCURSALES)\n",
    "data_demo.TIPO_NEGOCIO = data_demo.TIPO_NEGOCIO.apply(MostSimilar, list_ = TIPOS_NEGOCIO)\n",
    "data_demo.TIPO_VIVIENDA = data_demo.TIPO_VIVIENDA.apply(MostSimilar, list_ = TIPOS_VIVIENDA)\n",
    "data_demo.ESTADO_CIVIL = data_demo.ESTADO_CIVIL.apply(MostSimilar, list_ = ESTADOS_CIVILES)"
   ]
  },
  {
   "cell_type": "markdown",
   "id": "9d2eb479",
   "metadata": {},
   "source": [
    "## Guardando el json con el response"
   ]
  },
  {
   "cell_type": "code",
   "execution_count": 148,
   "id": "c816519d",
   "metadata": {},
   "outputs": [],
   "source": [
    "consulta = data_demo.to_dict('records')"
   ]
  },
  {
   "cell_type": "code",
   "execution_count": 150,
   "id": "7a7747bd",
   "metadata": {},
   "outputs": [],
   "source": [
    "prefix = '{\"data\": '\n",
    "suffix = ', \"customer\": \"volana\"}'\n",
    "\n",
    "# Unimos el prefijo, el diccionario serializado como JSON y el sufijo\n",
    "for i in range(500):\n",
    "    json_data = prefix + json.dumps(consulta[100*i:100*(i+1)]) + suffix\n",
    "\n",
    "    file_path = f\"./evaluacion_clientes_2023/data/json/datos_finales_hora_si_{i}.json\"\n",
    "\n",
    "    with open(file_path, \"w\") as json_file:\n",
    "        json_file.write(json_data)"
   ]
  },
  {
   "cell_type": "code",
   "execution_count": 151,
   "id": "7df4f86a",
   "metadata": {},
   "outputs": [],
   "source": [
    "resultado_final_hora_si = []"
   ]
  },
  {
   "cell_type": "code",
   "execution_count": 293,
   "id": "f37fcada",
   "metadata": {},
   "outputs": [
    {
     "name": "stdout",
     "output_type": "stream",
     "text": [
      "./evaluacion_clientes_2023/data/json/datos_finales_hora_si_81.json\n",
      "<Response [500]> Internal Server Error\n"
     ]
    },
    {
     "name": "stderr",
     "output_type": "stream",
     "text": [
      "ERROR: Could not consume arg: -f\n",
      "Usage: ipykernel_launcher.py -\n",
      "\n",
      "For detailed information on this command, run:\n",
      "  ipykernel_launcher.py - --help\n"
     ]
    },
    {
     "ename": "FireExit",
     "evalue": "2",
     "output_type": "error",
     "traceback": [
      "An exception has occurred, use %tb to see the full traceback.\n",
      "\u001b[1;31mFireExit\u001b[0m\u001b[1;31m:\u001b[0m 2\n"
     ]
    }
   ],
   "source": [
    "def predict_test(url=URL,data=DATA,endpoint=ENDPOINT):\n",
    "    with open(data,'r') as _:\n",
    "        \n",
    "            global resultado_final_hora_si\n",
    "            j_data = json.load(_)\n",
    "            headers = {'content-type': 'application/json',\n",
    "\n",
    "            'Accept-Charset': 'UTF-8',\n",
    "            'apikey': APIKEY,\n",
    "            'x-customer': 'volana'}\n",
    "\n",
    "\n",
    "            r = requests.post(url + endpoint, data=json.dumps(j_data), headers=headers)\n",
    "            resultado_final_hora_si.append(r.text)\n",
    "            print(r, r.text)\n",
    "        \n",
    "\n",
    "i = 0\n",
    "for i in range(81, 82):\n",
    "    DATA = f\"./evaluacion_clientes_2023/data/json/datos_finales_hora_si_{i}.json\"\n",
    "    print(DATA)\n",
    "    try:\n",
    "        fire.Fire(predict_test)\n",
    "    except Exception as e:\n",
    "        pass\n",
    "    \n",
    "    print(f\"Next {i}\")\n",
    "    \n",
    "    time.sleep(1)"
   ]
  },
  {
   "cell_type": "code",
   "execution_count": 294,
   "id": "83dea133",
   "metadata": {},
   "outputs": [
    {
     "data": {
      "text/plain": [
       "111"
      ]
     },
     "execution_count": 294,
     "metadata": {},
     "output_type": "execute_result"
    }
   ],
   "source": [
    "len(resultado_final_hora_si)\n",
    "#resultado_final_hora_si"
   ]
  },
  {
   "cell_type": "code",
   "execution_count": 291,
   "id": "af3c130d",
   "metadata": {},
   "outputs": [],
   "source": [
    "res = pd.DataFrame()\n",
    "for i in range(len(resultado_final_hora_si)):\n",
    "    try:\n",
    "        res = pd.concat([res, pd.DataFrame(eval(resultado_final_hora_si[i])['prediction'])])\n",
    "    except:\n",
    "        pass\n",
    "    \n",
    "res.to_csv(\"./evaluacion_clientes_2023/data/resultado_modelo_quash_api.csv\", index=False)"
   ]
  },
  {
   "cell_type": "code",
   "execution_count": 299,
   "id": "22fa5530",
   "metadata": {},
   "outputs": [
    {
     "data": {
      "text/html": [
       "<div>\n",
       "<style scoped>\n",
       "    .dataframe tbody tr th:only-of-type {\n",
       "        vertical-align: middle;\n",
       "    }\n",
       "\n",
       "    .dataframe tbody tr th {\n",
       "        vertical-align: top;\n",
       "    }\n",
       "\n",
       "    .dataframe thead th {\n",
       "        text-align: right;\n",
       "    }\n",
       "</style>\n",
       "<table border=\"1\" class=\"dataframe\">\n",
       "  <thead>\n",
       "    <tr style=\"text-align: right;\">\n",
       "      <th></th>\n",
       "      <th>label</th>\n",
       "      <th>approval_score</th>\n",
       "      <th>applicant_id</th>\n",
       "    </tr>\n",
       "  </thead>\n",
       "  <tbody>\n",
       "    <tr>\n",
       "      <th>0</th>\n",
       "      <td>RECHAZADO</td>\n",
       "      <td>0.578301</td>\n",
       "      <td>145442</td>\n",
       "    </tr>\n",
       "    <tr>\n",
       "      <th>1</th>\n",
       "      <td>APROBADO</td>\n",
       "      <td>0.991986</td>\n",
       "      <td>145444</td>\n",
       "    </tr>\n",
       "    <tr>\n",
       "      <th>2</th>\n",
       "      <td>APROBADO</td>\n",
       "      <td>0.994773</td>\n",
       "      <td>157169</td>\n",
       "    </tr>\n",
       "    <tr>\n",
       "      <th>3</th>\n",
       "      <td>RECHAZADO</td>\n",
       "      <td>0.564043</td>\n",
       "      <td>157171</td>\n",
       "    </tr>\n",
       "    <tr>\n",
       "      <th>4</th>\n",
       "      <td>RECHAZADO</td>\n",
       "      <td>0.837451</td>\n",
       "      <td>157178</td>\n",
       "    </tr>\n",
       "    <tr>\n",
       "      <th>...</th>\n",
       "      <td>...</td>\n",
       "      <td>...</td>\n",
       "      <td>...</td>\n",
       "    </tr>\n",
       "    <tr>\n",
       "      <th>85</th>\n",
       "      <td>RECHAZADO</td>\n",
       "      <td>0.059387</td>\n",
       "      <td>156330</td>\n",
       "    </tr>\n",
       "    <tr>\n",
       "      <th>86</th>\n",
       "      <td>RECHAZADO</td>\n",
       "      <td>0.219662</td>\n",
       "      <td>156834</td>\n",
       "    </tr>\n",
       "    <tr>\n",
       "      <th>87</th>\n",
       "      <td>RECHAZADO</td>\n",
       "      <td>0.425555</td>\n",
       "      <td>156931</td>\n",
       "    </tr>\n",
       "    <tr>\n",
       "      <th>88</th>\n",
       "      <td>RECHAZADO</td>\n",
       "      <td>0.167120</td>\n",
       "      <td>157057</td>\n",
       "    </tr>\n",
       "    <tr>\n",
       "      <th>89</th>\n",
       "      <td>RECHAZADO</td>\n",
       "      <td>0.255056</td>\n",
       "      <td>157058</td>\n",
       "    </tr>\n",
       "  </tbody>\n",
       "</table>\n",
       "<p>7790 rows × 3 columns</p>\n",
       "</div>"
      ],
      "text/plain": [
       "        label  approval_score applicant_id\n",
       "0   RECHAZADO        0.578301       145442\n",
       "1    APROBADO        0.991986       145444\n",
       "2    APROBADO        0.994773       157169\n",
       "3   RECHAZADO        0.564043       157171\n",
       "4   RECHAZADO        0.837451       157178\n",
       "..        ...             ...          ...\n",
       "85  RECHAZADO        0.059387       156330\n",
       "86  RECHAZADO        0.219662       156834\n",
       "87  RECHAZADO        0.425555       156931\n",
       "88  RECHAZADO        0.167120       157057\n",
       "89  RECHAZADO        0.255056       157058\n",
       "\n",
       "[7790 rows x 3 columns]"
      ]
     },
     "execution_count": 299,
     "metadata": {},
     "output_type": "execute_result"
    }
   ],
   "source": [
    "res"
   ]
  },
  {
   "cell_type": "code",
   "execution_count": 304,
   "id": "80618da6",
   "metadata": {},
   "outputs": [],
   "source": [
    "res.applicant_id = res.applicant_id.astype(str)\n",
    "\n",
    "data_perdida_cosecha_tasa_usar.id_distribuidor_usar = data_perdida_cosecha_tasa_usar.id_distribuidor_usar.astype(str)"
   ]
  },
  {
   "cell_type": "code",
   "execution_count": 306,
   "id": "f117ebb2",
   "metadata": {},
   "outputs": [],
   "source": [
    "data_general = data_perdida_cosecha_tasa_usar.merge(res, left_on = 'id_distribuidor_usar', right_on = 'applicant_id')"
   ]
  },
  {
   "cell_type": "code",
   "execution_count": 308,
   "id": "43140319",
   "metadata": {},
   "outputs": [],
   "source": [
    "data_general[\"perdida_cosecha_esperada_quash\"] = data_general.approval_score.apply(setcut_prob_quash, grupo_ = False)\n",
    "data_general[\"grupo_riesgo\"] = data_general.approval_score.apply(setcut_prob_quash, grupo_ = True)"
   ]
  },
  {
   "cell_type": "code",
   "execution_count": null,
   "id": "90fd6aed",
   "metadata": {},
   "outputs": [],
   "source": []
  },
  {
   "cell_type": "code",
   "execution_count": null,
   "id": "f6805259",
   "metadata": {},
   "outputs": [],
   "source": []
  },
  {
   "cell_type": "code",
   "execution_count": 310,
   "id": "682c076f",
   "metadata": {},
   "outputs": [],
   "source": [
    "data_general.to_csv(\"./evaluacion_clientes_2023/data/data_riesgo_quash_2023.csv\", index = False)"
   ]
  }
 ],
 "metadata": {
  "kernelspec": {
   "display_name": "Python 3 (ipykernel)",
   "language": "python",
   "name": "python3"
  },
  "language_info": {
   "codemirror_mode": {
    "name": "ipython",
    "version": 3
   },
   "file_extension": ".py",
   "mimetype": "text/x-python",
   "name": "python",
   "nbconvert_exporter": "python",
   "pygments_lexer": "ipython3",
   "version": "3.11.4"
  }
 },
 "nbformat": 4,
 "nbformat_minor": 5
}
