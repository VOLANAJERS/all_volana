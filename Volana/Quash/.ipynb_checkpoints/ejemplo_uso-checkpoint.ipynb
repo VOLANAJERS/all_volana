{
 "cells": [
  {
   "cell_type": "code",
   "execution_count": 18,
   "id": "ab30582d",
   "metadata": {},
   "outputs": [],
   "source": [
    "from asignarTasa import ajustarTasa"
   ]
  },
  {
   "cell_type": "code",
   "execution_count": 19,
   "id": "39ab9dfd",
   "metadata": {},
   "outputs": [],
   "source": [
    "ajustarTasa??"
   ]
  },
  {
   "cell_type": "code",
   "execution_count": 20,
   "id": "85465353",
   "metadata": {},
   "outputs": [],
   "source": [
    "rentabilidad_obj = 0.4 # FIJO\n",
    "t_max = 1.47 # FIJO"
   ]
  },
  {
   "cell_type": "code",
   "execution_count": 21,
   "id": "dbf71f4e",
   "metadata": {},
   "outputs": [
    {
     "name": "stdout",
     "output_type": "stream",
     "text": [
      "Se rechaza el crédito de 6000 al no haber tasa fáctible\n",
      "El resultado del modelo de ajuste de tasas es: \n",
      "\n",
      "No existe un intervalo factible, se rechaza el crédito\n",
      "El pago mínimo necesario para tener una rentabilidad del 40% es de: 456.35\n"
     ]
    }
   ],
   "source": [
    "X = 6_000 # EDITABLE monto del crédito\n",
    "pc = 0.01#% EDITABLE: pérdida de cosecha [0, 1]\n",
    "c = 1_00 #EDITABLE Capacidad de pago \n",
    "d = 16 # duración del crédito\n",
    "\n",
    "estatus, resultado_txt, tasa_minima, _ = ajustarTasa(X, t_max = t_max, d = d, c = c, pc = pc)\n",
    "\n",
    "if estatus:\n",
    "    print(f\"Se acepta el crédito de {X} a una tasa de {tasa_minima}%\")\n",
    "else:\n",
    "    print(f\"Se rechaza el crédito de {X} al no haber tasa fáctible\")\n",
    "    print(\"El resultado del modelo de ajuste de tasas es: \\n\")\n",
    "    print(resultado_txt)"
   ]
  },
  {
   "cell_type": "code",
   "execution_count": 22,
   "id": "6dad9076",
   "metadata": {},
   "outputs": [
    {
     "name": "stdout",
     "output_type": "stream",
     "text": [
      "Se acepta el crédito de 6000 a una tasa de 110%\n"
     ]
    }
   ],
   "source": [
    "X = 6_000 # EDITABLE monto del crédito\n",
    "pc = 0.01#% EDITABLE: pérdida de cosecha [0, 1]\n",
    "c = 1_000 #EDITABLE Capacidad de pago \n",
    "d = 16 # duración del crédito\n",
    "\n",
    "estatus, resultado_txt, tasa_minima, _ = ajustarTasa(X, t_max = t_max, d = d, c = c, pc = pc)\n",
    "\n",
    "if estatus:\n",
    "    print(f\"Se acepta el crédito de {X} a una tasa de {tasa_minima}%\")\n",
    "else:\n",
    "    print(f\"Se rechaza el crédito de {X} al no haber tasa fáctible\")\n",
    "    print(\"El resultado del modelo de ajuste de tasas es: \\n\")\n",
    "    print(resultado_txt)"
   ]
  }
 ],
 "metadata": {
  "kernelspec": {
   "display_name": "Python 3 (ipykernel)",
   "language": "python",
   "name": "python3"
  },
  "language_info": {
   "codemirror_mode": {
    "name": "ipython",
    "version": 3
   },
   "file_extension": ".py",
   "mimetype": "text/x-python",
   "name": "python",
   "nbconvert_exporter": "python",
   "pygments_lexer": "ipython3",
   "version": "3.11.4"
  }
 },
 "nbformat": 4,
 "nbformat_minor": 5
}
