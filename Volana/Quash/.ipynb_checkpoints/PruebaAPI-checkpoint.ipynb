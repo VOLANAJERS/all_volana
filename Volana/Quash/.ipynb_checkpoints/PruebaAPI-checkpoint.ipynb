{
 "cells": [
  {
   "cell_type": "code",
   "execution_count": 10,
   "id": "ccd477dd",
   "metadata": {},
   "outputs": [],
   "source": [
    "import requests\n",
    "import json\n",
    "import fire\n",
    "URL = \"https://api.quash.ai\"\n",
    "DATA = \"data.json\"\n",
    "ENDPOINT = \"/scoring\"\n",
    "APIKEY = \"Ku9sm6Nr6XAEXlWfLNyPmDhkTvTa4EnS\"\n",
    "\n",
    "\n"
   ]
  },
  {
   "cell_type": "code",
   "execution_count": null,
   "id": "a80ebe6e",
   "metadata": {},
   "outputs": [],
   "source": []
  },
  {
   "cell_type": "code",
   "execution_count": 8,
   "id": "50e3bafa",
   "metadata": {},
   "outputs": [
    {
     "name": "stdout",
     "output_type": "stream",
     "text": [
      "<Response [422]> {\"detail\":[{\"loc\":[\"body\"],\"msg\":\"value is not a valid dict\",\"type\":\"type_error.dict\"}]}\n"
     ]
    },
    {
     "name": "stderr",
     "output_type": "stream",
     "text": [
      "ERROR: Could not consume arg: -f\n",
      "Usage: ipykernel_launcher.py -\n",
      "\n",
      "For detailed information on this command, run:\n",
      "  ipykernel_launcher.py - --help\n"
     ]
    },
    {
     "ename": "FireExit",
     "evalue": "2",
     "output_type": "error",
     "traceback": [
      "An exception has occurred, use %tb to see the full traceback.\n",
      "\u001b[1;31mFireExit\u001b[0m\u001b[1;31m:\u001b[0m 2\n"
     ]
    },
    {
     "name": "stderr",
     "output_type": "stream",
     "text": [
      "C:\\Users\\CIENTIFICO DE DATOS\\anaconda3\\Lib\\site-packages\\IPython\\core\\interactiveshell.py:3513: UserWarning: To exit: use 'exit', 'quit', or Ctrl-D.\n",
      "  warn(\"To exit: use 'exit', 'quit', or Ctrl-D.\", stacklevel=1)\n"
     ]
    }
   ],
   "source": [
    "def predict_test(url=URL,data=DATA,endpoint=ENDPOINT):\n",
    "    with open(data,'r') as _:\n",
    "        j_data = json.load(_)\n",
    "        headers = {'content-type': 'application/json',\n",
    "\n",
    "        'Accept-Charset': 'UTF-8',\n",
    "        'apikey': APIKEY,\n",
    "        'x-customer': 'volana'}\n",
    "\n",
    "        r = requests.post(url + endpoint, data=json.dumps(j_data), headers=headers)\n",
    "        print(r, r.text)\n",
    "\n",
    "if __name__==\"__main__\":\n",
    "    fire.Fire(predict_test)"
   ]
  },
  {
   "cell_type": "code",
   "execution_count": 9,
   "id": "429270ad",
   "metadata": {},
   "outputs": [
    {
     "ename": "FireExit",
     "evalue": "2",
     "output_type": "error",
     "traceback": [
      "\u001b[1;31m---------------------------------------------------------------------------\u001b[0m",
      "\u001b[1;31mFireExit\u001b[0m                                  Traceback (most recent call last)",
      "Cell \u001b[1;32mIn[8], line 14\u001b[0m\n\u001b[0;32m     11\u001b[0m         \u001b[38;5;28mprint\u001b[39m(r, r\u001b[38;5;241m.\u001b[39mtext)\n\u001b[0;32m     13\u001b[0m \u001b[38;5;28;01mif\u001b[39;00m \u001b[38;5;18m__name__\u001b[39m\u001b[38;5;241m==\u001b[39m\u001b[38;5;124m\"\u001b[39m\u001b[38;5;124m__main__\u001b[39m\u001b[38;5;124m\"\u001b[39m:\n\u001b[1;32m---> 14\u001b[0m     fire\u001b[38;5;241m.\u001b[39mFire(predict_test)\n",
      "File \u001b[1;32m~\\anaconda3\\Lib\\site-packages\\fire\\core.py:145\u001b[0m, in \u001b[0;36mFire\u001b[1;34m(component, command, name, serialize)\u001b[0m\n\u001b[0;32m    143\u001b[0m \u001b[38;5;28;01mif\u001b[39;00m component_trace\u001b[38;5;241m.\u001b[39mHasError():\n\u001b[0;32m    144\u001b[0m   _DisplayError(component_trace)\n\u001b[1;32m--> 145\u001b[0m   \u001b[38;5;28;01mraise\u001b[39;00m FireExit(\u001b[38;5;241m2\u001b[39m, component_trace)\n\u001b[0;32m    146\u001b[0m \u001b[38;5;28;01mif\u001b[39;00m component_trace\u001b[38;5;241m.\u001b[39mshow_trace \u001b[38;5;129;01mand\u001b[39;00m component_trace\u001b[38;5;241m.\u001b[39mshow_help:\n\u001b[0;32m    147\u001b[0m   output \u001b[38;5;241m=\u001b[39m [\u001b[38;5;124m'\u001b[39m\u001b[38;5;124mFire trace:\u001b[39m\u001b[38;5;130;01m\\n\u001b[39;00m\u001b[38;5;132;01m{trace}\u001b[39;00m\u001b[38;5;130;01m\\n\u001b[39;00m\u001b[38;5;124m'\u001b[39m\u001b[38;5;241m.\u001b[39mformat(trace\u001b[38;5;241m=\u001b[39mcomponent_trace)]\n",
      "\u001b[1;31mFireExit\u001b[0m: 2"
     ]
    }
   ],
   "source": [
    "%tb"
   ]
  }
 ],
 "metadata": {
  "kernelspec": {
   "display_name": "Python 3 (ipykernel)",
   "language": "python",
   "name": "python3"
  },
  "language_info": {
   "codemirror_mode": {
    "name": "ipython",
    "version": 3
   },
   "file_extension": ".py",
   "mimetype": "text/x-python",
   "name": "python",
   "nbconvert_exporter": "python",
   "pygments_lexer": "ipython3",
   "version": "3.11.4"
  }
 },
 "nbformat": 4,
 "nbformat_minor": 5
}
