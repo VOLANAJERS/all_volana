{
 "cells": [
  {
   "cell_type": "code",
   "execution_count": 10,
   "id": "01becb7d",
   "metadata": {},
   "outputs": [],
   "source": [
    "import pandas as pd\n",
    "import numpy as np\n",
    "import pymysql"
   ]
  },
  {
   "cell_type": "code",
   "execution_count": 36,
   "id": "ef0a47cc",
   "metadata": {},
   "outputs": [],
   "source": [
    "def convertir_a_meses(periodo):\n",
    "    # Dividimos la cadena en partes\n",
    "    partes = periodo.split()\n",
    "    \n",
    "    # Inicializamos los años y meses a 0\n",
    "    años = 0\n",
    "    meses = 0\n",
    "    \n",
    "    # Iteramos sobre las partes y extraemos los valores de años y meses\n",
    "    for i in range(len(partes)):\n",
    "        if partes[i] == \"AÑOS\":\n",
    "            años = int(partes[i - 1])\n",
    "        elif partes[i] == \"MESES\":\n",
    "            meses = int(partes[i - 1])\n",
    "    \n",
    "    # Convertimos todo a meses\n",
    "    total_meses = años * 12 + meses\n",
    "    return total_meses"
   ]
  },
  {
   "cell_type": "code",
   "execution_count": 69,
   "id": "58b4753c",
   "metadata": {},
   "outputs": [],
   "source": [
    "cnx = pymysql.connect(host='159.89.90.197', port = 3306, user='antonio_diaz', passwd=\"4nT0ni_0.dZ\",\n",
    "                           charset='utf8',db = 'volana')\n",
    "cursor = cnx.cursor()"
   ]
  },
  {
   "cell_type": "code",
   "execution_count": 29,
   "id": "a9d4b8f1",
   "metadata": {},
   "outputs": [],
   "source": [
    "replace_dict_oficios = {'jarcieria': 'servicios',\n",
    " 'tlapaleria/ferreteria/materiales de construccion': 'servicios',\n",
    " 'lavanderia/tintoreria/planchaduria': 'servicios',\n",
    " 'combustibles/gas/gasolina': 'servicios',\n",
    " 'animales/veterinaria': 'servicios',\n",
    " 'desperdicios/residuos/reciclaje': 'bienes de consumo',\n",
    " 'calzado reparacion y venta': 'bienes de consumo',\n",
    " 'venta por catalogo': 'ventas',\n",
    " 'venta de ropa': 'ventas',\n",
    " 'distribuidor con experiencia': 'ventas',\n",
    " 'venta de alimentos': 'venta de alimentos',\n",
    " 'belleza/salon/estetica/barberia': 'estetica',\n",
    " 'joyeria/bisuteria/fundicion': 'estetica',\n",
    " 'eventos/salones/sillas/mesas': 'eventos',\n",
    " 'flores/arreglos': 'eventos',\n",
    " 'fotografia/video': 'eventos',\n",
    " 'imprenta/serigrafia/rotulos': 'papeleria',\n",
    " 'cafeinternet': 'papeleria',\n",
    " 'papeleria': 'papeleria',\n",
    " 'agua/potable/residual': 'bienes de consumo',\n",
    " 'carniceria/polleria/rastro': 'bienes de consumo',\n",
    " 'tortilleria/molino': 'bienes de consumo',\n",
    " 'frutas/verduras/semillas/campo/agropecuarias': 'bienes de consumo',\n",
    " 'abarrotes/miscelaneas/perecederos': 'bienes de consumo',\n",
    " 'panaderia': 'bienes de consumo',\n",
    " 'amedicina/salud/farmacia': 'salud',\n",
    " 'deportes/gimnasio': 'prestamo de servicios',\n",
    " 'educacion/escuelas/centro de capacitacion': 'prestamo de servicios',\n",
    " 'venta de autos/motocicletas/lotes/autopartes': 'venta de electronicos/automoviles',\n",
    " 'venta de celulares/tecnologia': 'venta de electronicos/automoviles',\n",
    " 'venta de muebles/electronicos/electrodomesticos': 'venta de electronicos/automoviles',\n",
    " 'electricista': 'oficios',\n",
    " 'plomeria': 'oficios',\n",
    " 'herreria': 'oficios',\n",
    " 'cerrajeria': 'oficios',\n",
    " 'arte/artesanias': 'oficios',\n",
    " 'fabrica/taller/elaboracion/reparacion': 'oficios',\n",
    " 'madera/carpinteria/ebanista': 'oficios',\n",
    " 'mecanica automotriz/industrial': 'oficios'}\n",
    "\n",
    "replace_dict_sucursal = {\n",
    "    \"amecameca\": \"Grupo 1\",\n",
    "    \"milpa alta\": \"Grupo 1\",\n",
    "    \"tlahuac\": \"Grupo 1\",\n",
    "    \"coatzacoalcos\": \"Grupo 3\",\n",
    "    \"fortin\": \"Grupo 3\",\n",
    "    \"orizaba\": \"Grupo 3\",\n",
    "    \"texcoco\": \"Grupo 2\",\n",
    "    \"texcoco 2\": \"Grupo 2\",\n",
    "    \"villahermosa\": \"Grupo 2\",\n",
    "    \"chalco\": \"Grupo 2\",\n",
    "    \"cardenas\": \"Grupo 2\",\n",
    "    \"ixtapaluca\": \"Grupo 2\",\n",
    "    \"iztapalapa\": \"Grupo 4\",\n",
    "    \"nezahualcoyotl\": \"Grupo 4\",\n",
    "    \"nezahualcoyotl 2\": \"Grupo 4\",\n",
    "    \"chimalhuacan 2\": \"Grupo 4\",\n",
    "    \"tonala\": \"Grupo 5\",\n",
    "    \"tonala 2\": \"Grupo 5\"\n",
    "}\n"
   ]
  },
  {
   "cell_type": "code",
   "execution_count": 2,
   "id": "981ec251",
   "metadata": {},
   "outputs": [],
   "source": [
    "data_pc = pd.read_excel(\"./data/240221 ANALISIS DE MODELOS.xlsx\", sheet_name='Hoja1')"
   ]
  },
  {
   "cell_type": "code",
   "execution_count": 9,
   "id": "a744da55",
   "metadata": {},
   "outputs": [
    {
     "data": {
      "text/html": [
       "<div>\n",
       "<style scoped>\n",
       "    .dataframe tbody tr th:only-of-type {\n",
       "        vertical-align: middle;\n",
       "    }\n",
       "\n",
       "    .dataframe tbody tr th {\n",
       "        vertical-align: top;\n",
       "    }\n",
       "\n",
       "    .dataframe thead th {\n",
       "        text-align: right;\n",
       "    }\n",
       "</style>\n",
       "<table border=\"1\" class=\"dataframe\">\n",
       "  <thead>\n",
       "    <tr style=\"text-align: right;\">\n",
       "      <th></th>\n",
       "      <th>id_distribuidor</th>\n",
       "      <th>p_cosecha</th>\n",
       "    </tr>\n",
       "  </thead>\n",
       "  <tbody>\n",
       "    <tr>\n",
       "      <th>0</th>\n",
       "      <td>145442</td>\n",
       "      <td>0.0</td>\n",
       "    </tr>\n",
       "  </tbody>\n",
       "</table>\n",
       "</div>"
      ],
      "text/plain": [
       "   id_distribuidor  p_cosecha\n",
       "0           145442        0.0"
      ]
     },
     "execution_count": 9,
     "metadata": {},
     "output_type": "execute_result"
    }
   ],
   "source": [
    "data_pc.columns = [str(k).lower().replace(\" \", \"_\") for k in data_pc.columns]\n",
    "\n",
    "data_pc = data_pc[['id_distribuidor', 'p_cosecha']]\n",
    "\n",
    "data_pc.head(1)"
   ]
  },
  {
   "cell_type": "code",
   "execution_count": 11,
   "id": "453db862",
   "metadata": {},
   "outputs": [],
   "source": [
    "ids = \", \".join(data_pc.id_distribuidor.unique().astype(str))"
   ]
  },
  {
   "cell_type": "code",
   "execution_count": 60,
   "id": "7123b957",
   "metadata": {},
   "outputs": [],
   "source": [
    "sql = f\"\"\"\n",
    "select *  from \n",
    "\t(select id,  escolaridad, lower(sucursal) as sucursal, lower(tipo_negocio) as tipo_negocio, tiempo_op_negocio, compras, \n",
    "\t\tingreso_mensual_negocio, ventas from cc_prospectos_demograficos\n",
    "UNION        \n",
    "\tselect id,  escolaridad, lower(sucursal) as sucursal, lower(tipo_negocio) as tipo_negocio, tiempo_op_negocio, compras, \n",
    "\t\tingreso_mensual as 'ingreso_mensual_negocio', ventas from demograficos_distribuidores\n",
    ") as un\n",
    "where un.id in ({ids})\n",
    "\"\"\"\n",
    "cursor.execute(sql)\n",
    "data_demo = cursor.fetchall()\n",
    "data_demo = pd.DataFrame(data_demo, columns=[i[0] for i in cursor.description])\n",
    "data_demo.rename(columns={\"id\" : 'id_distribuidor'}, inplace=True)\n",
    "data_demo.id_distribuidor = data_demo.id_distribuidor.astype(int)\n",
    "\n"
   ]
  },
  {
   "cell_type": "code",
   "execution_count": 61,
   "id": "2ae98013",
   "metadata": {},
   "outputs": [],
   "source": [
    "data_demo.tipo_negocio = data_demo.tipo_negocio.apply(lambda x: replace_dict_oficios[x].replace(\" \",\"_\").upper())\n",
    "data_demo.tiempo_op_negocio = data_demo.tiempo_op_negocio.apply(convertir_a_meses)"
   ]
  },
  {
   "cell_type": "code",
   "execution_count": 62,
   "id": "3b155e1a",
   "metadata": {},
   "outputs": [],
   "source": [
    "data_demo.sucursal = data_demo.sucursal.apply(lambda x: replace_dict_sucursal[x].replace(\" \",\"_\").upper())"
   ]
  },
  {
   "cell_type": "code",
   "execution_count": 63,
   "id": "92a08d61",
   "metadata": {},
   "outputs": [],
   "source": [
    "data_demo.ingreso_mensual_negocio = data_demo.ingreso_mensual_negocio.apply(lambda x: float(x.replace(\"$\", \"\").replace(\",\", \"\")))"
   ]
  },
  {
   "cell_type": "code",
   "execution_count": 71,
   "id": "e53bb538",
   "metadata": {},
   "outputs": [],
   "source": [
    "sql = f\"\"\"\n",
    "select \n",
    "\t\tnombreOtorgante as 'NOMBREOTORGANTE', \n",
    "\t\tpc.folioConsulta as 'FOLIO', \n",
    "        importeCredito as 'IMPORTECREDITO', \n",
    "        fechaConsulta,\n",
    "        idCliente as 'id_distribuidor',\n",
    "        valor as 'SCORE_FICO' from cc_prospectos_consultas as pc\n",
    "left join cc_prospectos_folios as pf on pc.folioConsulta = pf.folioConsulta \n",
    "left join cc_prospectos_scores as ps on pc.folioConsulta = ps.folioConsulta \n",
    "where idCliente in ({ids}) and fechaConsulta >= DATE_SUB(NOW(), INTERVAL 12 MONTH)\n",
    "\"\"\""
   ]
  },
  {
   "cell_type": "code",
   "execution_count": 72,
   "id": "8cad68fd",
   "metadata": {},
   "outputs": [],
   "source": [
    "cursor.execute(sql)\n",
    "data_cc = cursor.fetchall()\n",
    "data_cc = pd.DataFrame(data_cc, columns=[i[0] for i in cursor.description])\n",
    "data_cc.rename(columns={\"id\" : 'id_distribuidor'}, inplace = True)\n",
    "data_cc.id_distribuidor = data_cc.id_distribuidor.astype(int)"
   ]
  },
  {
   "cell_type": "code",
   "execution_count": 85,
   "id": "a59b8afc",
   "metadata": {},
   "outputs": [],
   "source": [
    "data_enviar = data_demo.merge(data_cc, on='id_distribuidor')"
   ]
  },
  {
   "cell_type": "code",
   "execution_count": 102,
   "id": "15bc228f",
   "metadata": {},
   "outputs": [],
   "source": [
    "data_enviar.ESCOLARIDAD = data_enviar.ESCOLARIDAD.str.upper()"
   ]
  },
  {
   "cell_type": "code",
   "execution_count": 103,
   "id": "a2dc6205",
   "metadata": {},
   "outputs": [],
   "source": [
    "data_enviar.columns = [k.upper() for k in data_enviar.columns]\n",
    "\n",
    "data_enviar.rename(columns={\"ID_DISTRIBUIDOR\":\"APPLICANT_ID\"}, inplace=True)"
   ]
  },
  {
   "cell_type": "code",
   "execution_count": 104,
   "id": "51574f52",
   "metadata": {},
   "outputs": [
    {
     "name": "stdout",
     "output_type": "stream",
     "text": [
      "<class 'pandas.core.frame.DataFrame'>\n",
      "Int64Index: 12774 entries, 0 to 12773\n",
      "Data columns (total 13 columns):\n",
      " #   Column                   Non-Null Count  Dtype  \n",
      "---  ------                   --------------  -----  \n",
      " 0   APPLICANT_ID             12774 non-null  int32  \n",
      " 1   ESCOLARIDAD              12774 non-null  object \n",
      " 2   SUCURSAL                 12774 non-null  object \n",
      " 3   TIPO_NEGOCIO             12774 non-null  object \n",
      " 4   TIEMPO_OP_NEGOCIO        12774 non-null  int64  \n",
      " 5   COMPRAS                  12774 non-null  float64\n",
      " 6   INGRESO_MENSUAL_NEGOCIO  12774 non-null  float64\n",
      " 7   VENTAS                   12774 non-null  int64  \n",
      " 8   NOMBREOTORGANTE          12774 non-null  object \n",
      " 9   FOLIO                    12774 non-null  object \n",
      " 10  IMPORTECREDITO           12774 non-null  int64  \n",
      " 11  FECHACONSULTA            12774 non-null  object \n",
      " 12  SCORE_FICO               12774 non-null  int64  \n",
      "dtypes: float64(2), int32(1), int64(4), object(6)\n",
      "memory usage: 1.3+ MB\n"
     ]
    }
   ],
   "source": [
    "data_enviar.info()"
   ]
  },
  {
   "cell_type": "code",
   "execution_count": 105,
   "id": "cc1ff382",
   "metadata": {},
   "outputs": [],
   "source": [
    "data_pc_enviar = data_pc.loc[data_pc.id_distribuidor.isin(data_enviar.APPLICANT_ID)]"
   ]
  },
  {
   "cell_type": "code",
   "execution_count": 106,
   "id": "ea20448e",
   "metadata": {
    "scrolled": true
   },
   "outputs": [],
   "source": [
    "data_enviar.to_csv(\"./data/enviar/data_backtesting.csv\", index=False)\n",
    "data_pc_enviar.to_csv(\"./data/enviar/data_pc_backtesting.csv\", index=False)"
   ]
  },
  {
   "cell_type": "code",
   "execution_count": 108,
   "id": "d037594e",
   "metadata": {},
   "outputs": [
    {
     "data": {
      "text/plain": [
       "2       157169\n",
       "3       157171\n",
       "4       157178\n",
       "5       157185\n",
       "6       157188\n",
       "         ...  \n",
       "1412    167070\n",
       "1413    167202\n",
       "1414    166739\n",
       "1415    166784\n",
       "1416    166882\n",
       "Name: id_distribuidor, Length: 1184, dtype: int64"
      ]
     },
     "execution_count": 108,
     "metadata": {},
     "output_type": "execute_result"
    }
   ],
   "source": [
    "data_pc_enviar.id_distribuidor"
   ]
  },
  {
   "cell_type": "code",
   "execution_count": 97,
   "id": "1fef484f",
   "metadata": {},
   "outputs": [],
   "source": [
    "cnx.close()"
   ]
  }
 ],
 "metadata": {
  "kernelspec": {
   "display_name": "Python 3 (ipykernel)",
   "language": "python",
   "name": "python3"
  },
  "language_info": {
   "codemirror_mode": {
    "name": "ipython",
    "version": 3
   },
   "file_extension": ".py",
   "mimetype": "text/x-python",
   "name": "python",
   "nbconvert_exporter": "python",
   "pygments_lexer": "ipython3",
   "version": "3.11.4"
  }
 },
 "nbformat": 4,
 "nbformat_minor": 5
}
