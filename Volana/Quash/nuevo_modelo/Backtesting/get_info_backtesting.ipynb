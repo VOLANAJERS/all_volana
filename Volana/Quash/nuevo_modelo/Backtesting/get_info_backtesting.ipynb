{
 "cells": [
  {
   "cell_type": "code",
   "execution_count": 83,
   "id": "01becb7d",
   "metadata": {},
   "outputs": [],
   "source": [
    "import pandas as pd\n",
    "import numpy as np\n",
    "import pymysql\n",
    "from datetime import datetime, timedelta\n",
    "import warnings\n",
    "warnings.filterwarnings('ignore')"
   ]
  },
  {
   "cell_type": "code",
   "execution_count": 84,
   "id": "ef0a47cc",
   "metadata": {},
   "outputs": [],
   "source": [
    "def convertir_a_meses(periodo):\n",
    "    # Dividimos la cadena en partes\n",
    "    partes = periodo.split()\n",
    "    \n",
    "    # Inicializamos los años y meses a 0\n",
    "    años = 0\n",
    "    meses = 0\n",
    "    \n",
    "    # Iteramos sobre las partes y extraemos los valores de años y meses\n",
    "    for i in range(len(partes)):\n",
    "        if partes[i] == \"AÑOS\":\n",
    "            años = int(partes[i - 1])\n",
    "        elif partes[i] == \"MESES\":\n",
    "            meses = int(partes[i - 1])\n",
    "    \n",
    "    # Convertimos todo a meses\n",
    "    total_meses = años * 12 + meses\n",
    "    return total_meses"
   ]
  },
  {
   "cell_type": "code",
   "execution_count": 85,
   "id": "03dbc426",
   "metadata": {},
   "outputs": [],
   "source": [
    "def excel_serial_to_date(serial):\n",
    "    # La fecha base de Excel es el 1 de enero de 1900\n",
    "    excel_base_date = datetime(1899, 12, 30)\n",
    "    # Sumar el número de serie a la fecha base\n",
    "    converted_date = excel_base_date + timedelta(days=serial)\n",
    "    return converted_date"
   ]
  },
  {
   "cell_type": "code",
   "execution_count": 86,
   "id": "58b4753c",
   "metadata": {},
   "outputs": [],
   "source": [
    "cnx = pymysql.connect(host='159.89.90.197', port = 3306, user='antonio_diaz', passwd=\"4nT0ni_0.dZ\",\n",
    "                           charset='utf8',db = 'volana')\n",
    "cursor = cnx.cursor()"
   ]
  },
  {
   "cell_type": "code",
   "execution_count": 87,
   "id": "a9d4b8f1",
   "metadata": {},
   "outputs": [],
   "source": [
    "replace_dict_oficios = {'jarcieria': 'servicios',\n",
    " 'tlapaleria/ferreteria/materiales de construccion': 'servicios',\n",
    " 'lavanderia/tintoreria/planchaduria': 'servicios',\n",
    " 'combustibles/gas/gasolina': 'servicios',\n",
    " 'animales/veterinaria': 'servicios',\n",
    " 'desperdicios/residuos/reciclaje': 'bienes de consumo',\n",
    " 'calzado reparacion y venta': 'bienes de consumo',\n",
    " 'venta por catalogo': 'ventas',\n",
    " 'venta de ropa': 'ventas',\n",
    " 'venta de comida': 'ventas',\n",
    " 'distribuidor con experiencia': 'ventas',\n",
    " 'venta de alimentos': 'venta de alimentos',\n",
    " 'belleza/salon/estetica/barberia': 'estetica',\n",
    " 'joyeria/bisuteria/fundicion': 'estetica',\n",
    " 'eventos/salones/sillas/mesas': 'eventos',\n",
    " 'flores/arreglos': 'eventos',\n",
    " 'fotografia/video': 'eventos',\n",
    " 'imprenta/serigrafia/rotulos': 'papeleria',\n",
    " 'cafeinternet': 'papeleria',\n",
    " 'papeleria': 'papeleria',\n",
    " 'agua/potable/residual': 'bienes de consumo',\n",
    " 'carniceria/polleria/rastro': 'bienes de consumo',\n",
    " 'tortilleria/molino': 'bienes de consumo',\n",
    " 'frutas/verduras/semillas/campo/agropecuarias': 'bienes de consumo',\n",
    " 'abarrotes/miscelaneas/perecederos': 'bienes de consumo',\n",
    " 'panaderia': 'bienes de consumo',\n",
    " 'amedicina/salud/farmacia': 'salud',\n",
    " 'deportes/gimnasio': 'prestamo de servicios',\n",
    " 'educacion/escuelas/centro de capacitacion': 'prestamo de servicios',\n",
    " 'venta de autos/motocicletas/lotes/autopartes': 'venta de electronicos/automoviles',\n",
    " 'venta de celulares/tecnologia': 'venta de electronicos/automoviles',\n",
    " 'venta de muebles/electronicos/electrodomesticos': 'venta de electronicos/automoviles',\n",
    " 'electricista': 'oficios',\n",
    " 'plomeria': 'oficios',\n",
    " 'herreria': 'oficios',\n",
    " 'cerrajeria': 'oficios',\n",
    " 'arte/artesanias': 'oficios',\n",
    " 'fabrica/taller/elaboracion/reparacion': 'oficios',\n",
    " 'madera/carpinteria/ebanista': 'oficios',\n",
    " 'mecanica automotriz/industrial': 'oficios'}\n",
    "\n",
    "replace_dict_sucursal = {\n",
    "    \"amecameca\": \"Grupo 1\",\n",
    "    \"milpa alta\": \"Grupo 1\",\n",
    "    \"tlahuac\": \"Grupo 1\",\n",
    "    \"coatzacoalcos\": \"Grupo 3\",\n",
    "    \"fortin\": \"Grupo 3\",\n",
    "    \"orizaba\": \"Grupo 3\",\n",
    "    \"texcoco\": \"Grupo 2\",\n",
    "    \"texcoco 2\": \"Grupo 2\",\n",
    "    \"villahermosa\": \"Grupo 2\",\n",
    "    \"chalco\": \"Grupo 2\",\n",
    "    \"cardenas\": \"Grupo 2\",\n",
    "    \"ixtapaluca\": \"Grupo 2\",\n",
    "    \"iztapalapa\": \"Grupo 4\",\n",
    "    \"nezahualcoyotl\": \"Grupo 4\",\n",
    "    \"nezahualcoyotl 2\": \"Grupo 4\",\n",
    "    \"chimalhuacan 2\": \"Grupo 4\",\n",
    "    \"tonala\": \"Grupo 5\",\n",
    "    \"tonala 2\": \"Grupo 5\"\n",
    "}\n"
   ]
  },
  {
   "cell_type": "code",
   "execution_count": 88,
   "id": "bf1d6abe",
   "metadata": {},
   "outputs": [],
   "source": [
    "data_pc = pd.read_excel(\"./data/240430 PERDIDA DE COSECHA_.xlsb\", sheet_name='COLOCACION', header=1)"
   ]
  },
  {
   "cell_type": "code",
   "execution_count": 89,
   "id": "0b1690a5",
   "metadata": {},
   "outputs": [],
   "source": [
    "data_pc.columns = [k.lower().replace(\" \",\"_\") for k in data_pc.columns]\n",
    "data_pc = data_pc.query(f\"tipo_producto == 'PRESTAMO PERSONAL RED'\")"
   ]
  },
  {
   "cell_type": "code",
   "execution_count": 90,
   "id": "fa392e4b",
   "metadata": {},
   "outputs": [],
   "source": [
    "data_pc = data_pc[['id_distribuidor_linea_de_credito', 'perdida_de_cosecha', 'inicio_credito', 'ciclo_credito']]\n",
    "data_pc.rename(columns={\"id_distribuidor_linea_de_credito\": \"id_distribuidor\"}, inplace=True)\n",
    "data_pc.inicio_credito = data_pc.inicio_credito.apply(excel_serial_to_date)\n",
    "data_pc.id_distribuidor = data_pc.id_distribuidor.astype(int)"
   ]
  },
  {
   "cell_type": "code",
   "execution_count": 91,
   "id": "4f54cd19",
   "metadata": {},
   "outputs": [],
   "source": [
    "data_pc = data_pc.query(\"inicio_credito < '2024-01-01'\")"
   ]
  },
  {
   "cell_type": "code",
   "execution_count": 41,
   "id": "981ec251",
   "metadata": {},
   "outputs": [],
   "source": [
    "#data_pc = pd.read_excel(\"./data/240221 ANALISIS DE MODELOS.xlsx\", sheet_name='Hoja1')"
   ]
  },
  {
   "cell_type": "code",
   "execution_count": 42,
   "id": "a744da55",
   "metadata": {},
   "outputs": [
    {
     "data": {
      "text/plain": [
       "'\\ndata_pc.columns = [str(k).lower().replace(\" \", \"_\") for k in data_pc.columns]\\n\\ndata_pc = data_pc[[\\'id_distribuidor\\', \\'p_cosecha\\']]\\n\\ndata_pc.head(1)\\n'"
      ]
     },
     "execution_count": 42,
     "metadata": {},
     "output_type": "execute_result"
    }
   ],
   "source": [
    "\"\"\"\n",
    "data_pc.columns = [str(k).lower().replace(\" \", \"_\") for k in data_pc.columns]\n",
    "\n",
    "data_pc = data_pc[['id_distribuidor', 'p_cosecha']]\n",
    "\n",
    "data_pc.head(1)\n",
    "\"\"\""
   ]
  },
  {
   "cell_type": "code",
   "execution_count": 92,
   "id": "453db862",
   "metadata": {},
   "outputs": [],
   "source": [
    "ids = \", \".join(data_pc.id_distribuidor.unique().astype(str))"
   ]
  },
  {
   "cell_type": "code",
   "execution_count": 93,
   "id": "7123b957",
   "metadata": {},
   "outputs": [],
   "source": [
    "sql = f\"\"\"\n",
    "select *  from \n",
    "\t(select id,  escolaridad, lower(sucursal) as sucursal, lower(tipo_negocio) as tipo_negocio, tiempo_op_negocio, compras, \n",
    "\t\tingreso_mensual_negocio, ventas from cc_prospectos_demograficos\n",
    "UNION        \n",
    "\tselect id,  escolaridad, lower(sucursal) as sucursal, lower(tipo_negocio) as tipo_negocio, tiempo_op_negocio, compras, \n",
    "\t\tingreso_mensual as 'ingreso_mensual_negocio', ventas from demograficos_distribuidores\n",
    ") as un\n",
    "where un.id in ({ids})\n",
    "\"\"\"\n",
    "cursor.execute(sql)\n",
    "data_demo = cursor.fetchall()\n",
    "data_demo = pd.DataFrame(data_demo, columns=[i[0] for i in cursor.description])\n",
    "data_demo.rename(columns={\"id\" : 'id_distribuidor'}, inplace=True)\n",
    "data_demo.id_distribuidor = data_demo.id_distribuidor.astype(int)"
   ]
  },
  {
   "cell_type": "code",
   "execution_count": 94,
   "id": "4e0960f7",
   "metadata": {},
   "outputs": [],
   "source": [
    "data_demo.tipo_negocio = data_demo.tipo_negocio.fillna(\"venta de alimentos\")\n",
    "data_demo.compras = data_demo.compras.fillna(1748)\n",
    "data_demo.ventas = data_demo.ventas.fillna(4465)"
   ]
  },
  {
   "cell_type": "code",
   "execution_count": 95,
   "id": "6e385d5d",
   "metadata": {},
   "outputs": [
    {
     "data": {
      "text/plain": [
       "id_distribuidor            0\n",
       "escolaridad                0\n",
       "sucursal                   0\n",
       "tipo_negocio               0\n",
       "tiempo_op_negocio          0\n",
       "compras                    0\n",
       "ingreso_mensual_negocio    0\n",
       "ventas                     0\n",
       "dtype: int64"
      ]
     },
     "execution_count": 95,
     "metadata": {},
     "output_type": "execute_result"
    }
   ],
   "source": [
    "data_demo.isna().sum(0)"
   ]
  },
  {
   "cell_type": "code",
   "execution_count": 96,
   "id": "2ae98013",
   "metadata": {},
   "outputs": [],
   "source": [
    "data_demo.tipo_negocio = data_demo.tipo_negocio.apply(lambda x: replace_dict_oficios[x].replace(\" \",\"_\").upper())\n",
    "data_demo.tiempo_op_negocio = data_demo.tiempo_op_negocio.apply(convertir_a_meses)"
   ]
  },
  {
   "cell_type": "code",
   "execution_count": 97,
   "id": "3b155e1a",
   "metadata": {},
   "outputs": [],
   "source": [
    "data_demo.sucursal = data_demo.sucursal.apply(lambda x: replace_dict_sucursal[x].replace(\" \",\"_\").upper())"
   ]
  },
  {
   "cell_type": "code",
   "execution_count": 98,
   "id": "92a08d61",
   "metadata": {},
   "outputs": [],
   "source": [
    "data_demo.ingreso_mensual_negocio = data_demo.ingreso_mensual_negocio.apply(lambda x: float(x.replace(\"$\", \"\").replace(\",\", \"\")))"
   ]
  },
  {
   "cell_type": "code",
   "execution_count": 101,
   "id": "e53bb538",
   "metadata": {},
   "outputs": [],
   "source": [
    "sql = f\"\"\"\n",
    "select \n",
    "\t\tnombreOtorgante as 'NOMBREOTORGANTE', \n",
    "\t\tpc.folioConsulta as 'FOLIO', \n",
    "        importeCredito as 'IMPORTECREDITO', \n",
    "        fechaConsulta,\n",
    "        idCliente as 'id_distribuidor',\n",
    "        valor as 'SCORE_FICO' from cc_prospectos_consultas as pc\n",
    "left join cc_prospectos_folios as pf on pc.folioConsulta = pf.folioConsulta \n",
    "left join cc_prospectos_scores as ps on pc.folioConsulta = ps.folioConsulta \n",
    "where idCliente in ({ids}) and fechaConsulta >= '2022-01-01' and fechaConsulta <= '2023-12-31'\n",
    "\"\"\""
   ]
  },
  {
   "cell_type": "code",
   "execution_count": 102,
   "id": "8cad68fd",
   "metadata": {},
   "outputs": [],
   "source": [
    "cursor.execute(sql)\n",
    "data_cc = cursor.fetchall()\n",
    "data_cc = pd.DataFrame(data_cc, columns=[i[0] for i in cursor.description])\n",
    "data_cc.rename(columns={\"id\" : 'id_distribuidor'}, inplace = True)\n",
    "data_cc.id_distribuidor = data_cc.id_distribuidor.astype(int)"
   ]
  },
  {
   "cell_type": "code",
   "execution_count": 103,
   "id": "a59b8afc",
   "metadata": {},
   "outputs": [],
   "source": [
    "data_enviar = data_demo.merge(data_cc, on='id_distribuidor')"
   ]
  },
  {
   "cell_type": "code",
   "execution_count": 104,
   "id": "15bc228f",
   "metadata": {},
   "outputs": [],
   "source": [
    "data_enviar.escolaridad = data_enviar.escolaridad.str.upper()"
   ]
  },
  {
   "cell_type": "code",
   "execution_count": 105,
   "id": "a2dc6205",
   "metadata": {},
   "outputs": [],
   "source": [
    "data_enviar.columns = [k.upper() for k in data_enviar.columns]\n",
    "\n",
    "data_enviar.rename(columns={\"ID_DISTRIBUIDOR\":\"APPLICANT_ID\"}, inplace=True)"
   ]
  },
  {
   "cell_type": "code",
   "execution_count": 106,
   "id": "51574f52",
   "metadata": {},
   "outputs": [
    {
     "name": "stdout",
     "output_type": "stream",
     "text": [
      "<class 'pandas.core.frame.DataFrame'>\n",
      "Int64Index: 104783 entries, 0 to 104782\n",
      "Data columns (total 13 columns):\n",
      " #   Column                   Non-Null Count   Dtype  \n",
      "---  ------                   --------------   -----  \n",
      " 0   APPLICANT_ID             104783 non-null  int32  \n",
      " 1   ESCOLARIDAD              104783 non-null  object \n",
      " 2   SUCURSAL                 104783 non-null  object \n",
      " 3   TIPO_NEGOCIO             104783 non-null  object \n",
      " 4   TIEMPO_OP_NEGOCIO        104783 non-null  int64  \n",
      " 5   COMPRAS                  104783 non-null  float64\n",
      " 6   INGRESO_MENSUAL_NEGOCIO  104783 non-null  float64\n",
      " 7   VENTAS                   104783 non-null  float64\n",
      " 8   NOMBREOTORGANTE          104783 non-null  object \n",
      " 9   FOLIO                    104783 non-null  object \n",
      " 10  IMPORTECREDITO           104783 non-null  int64  \n",
      " 11  FECHACONSULTA            104783 non-null  object \n",
      " 12  SCORE_FICO               104783 non-null  int64  \n",
      "dtypes: float64(3), int32(1), int64(3), object(6)\n",
      "memory usage: 10.8+ MB\n"
     ]
    }
   ],
   "source": [
    "data_enviar.info()"
   ]
  },
  {
   "cell_type": "code",
   "execution_count": 107,
   "id": "cc1ff382",
   "metadata": {},
   "outputs": [],
   "source": [
    "data_pc_enviar = data_pc.loc[data_pc.id_distribuidor.isin(data_enviar.APPLICANT_ID)]"
   ]
  },
  {
   "cell_type": "code",
   "execution_count": 108,
   "id": "bcb0b1bf",
   "metadata": {},
   "outputs": [
    {
     "data": {
      "text/html": [
       "<div>\n",
       "<style scoped>\n",
       "    .dataframe tbody tr th:only-of-type {\n",
       "        vertical-align: middle;\n",
       "    }\n",
       "\n",
       "    .dataframe tbody tr th {\n",
       "        vertical-align: top;\n",
       "    }\n",
       "\n",
       "    .dataframe thead th {\n",
       "        text-align: right;\n",
       "    }\n",
       "</style>\n",
       "<table border=\"1\" class=\"dataframe\">\n",
       "  <thead>\n",
       "    <tr style=\"text-align: right;\">\n",
       "      <th></th>\n",
       "      <th>id_distribuidor</th>\n",
       "      <th>perdida_de_cosecha</th>\n",
       "      <th>inicio_credito</th>\n",
       "      <th>ciclo_credito</th>\n",
       "    </tr>\n",
       "  </thead>\n",
       "  <tbody>\n",
       "    <tr>\n",
       "      <th>142</th>\n",
       "      <td>120016</td>\n",
       "      <td>0.0</td>\n",
       "      <td>2023-01-13</td>\n",
       "      <td>3</td>\n",
       "    </tr>\n",
       "    <tr>\n",
       "      <th>193</th>\n",
       "      <td>120023</td>\n",
       "      <td>0.0</td>\n",
       "      <td>2023-01-13</td>\n",
       "      <td>3</td>\n",
       "    </tr>\n",
       "    <tr>\n",
       "      <th>194</th>\n",
       "      <td>130978</td>\n",
       "      <td>0.0</td>\n",
       "      <td>2023-01-13</td>\n",
       "      <td>2</td>\n",
       "    </tr>\n",
       "    <tr>\n",
       "      <th>208</th>\n",
       "      <td>108748</td>\n",
       "      <td>0.0</td>\n",
       "      <td>2023-01-16</td>\n",
       "      <td>4</td>\n",
       "    </tr>\n",
       "    <tr>\n",
       "      <th>209</th>\n",
       "      <td>130077</td>\n",
       "      <td>0.0</td>\n",
       "      <td>2023-01-23</td>\n",
       "      <td>2</td>\n",
       "    </tr>\n",
       "    <tr>\n",
       "      <th>...</th>\n",
       "      <td>...</td>\n",
       "      <td>...</td>\n",
       "      <td>...</td>\n",
       "      <td>...</td>\n",
       "    </tr>\n",
       "    <tr>\n",
       "      <th>23981</th>\n",
       "      <td>172833</td>\n",
       "      <td>0.0</td>\n",
       "      <td>2023-12-28</td>\n",
       "      <td>1</td>\n",
       "    </tr>\n",
       "    <tr>\n",
       "      <th>23982</th>\n",
       "      <td>172834</td>\n",
       "      <td>0.0</td>\n",
       "      <td>2023-12-28</td>\n",
       "      <td>1</td>\n",
       "    </tr>\n",
       "    <tr>\n",
       "      <th>23983</th>\n",
       "      <td>172838</td>\n",
       "      <td>0.0</td>\n",
       "      <td>2023-12-28</td>\n",
       "      <td>1</td>\n",
       "    </tr>\n",
       "    <tr>\n",
       "      <th>23984</th>\n",
       "      <td>172839</td>\n",
       "      <td>0.0</td>\n",
       "      <td>2023-12-28</td>\n",
       "      <td>1</td>\n",
       "    </tr>\n",
       "    <tr>\n",
       "      <th>23985</th>\n",
       "      <td>172840</td>\n",
       "      <td>0.0</td>\n",
       "      <td>2023-12-28</td>\n",
       "      <td>1</td>\n",
       "    </tr>\n",
       "  </tbody>\n",
       "</table>\n",
       "<p>5937 rows × 4 columns</p>\n",
       "</div>"
      ],
      "text/plain": [
       "       id_distribuidor  perdida_de_cosecha inicio_credito  ciclo_credito\n",
       "142             120016                 0.0     2023-01-13              3\n",
       "193             120023                 0.0     2023-01-13              3\n",
       "194             130978                 0.0     2023-01-13              2\n",
       "208             108748                 0.0     2023-01-16              4\n",
       "209             130077                 0.0     2023-01-23              2\n",
       "...                ...                 ...            ...            ...\n",
       "23981           172833                 0.0     2023-12-28              1\n",
       "23982           172834                 0.0     2023-12-28              1\n",
       "23983           172838                 0.0     2023-12-28              1\n",
       "23984           172839                 0.0     2023-12-28              1\n",
       "23985           172840                 0.0     2023-12-28              1\n",
       "\n",
       "[5937 rows x 4 columns]"
      ]
     },
     "execution_count": 108,
     "metadata": {},
     "output_type": "execute_result"
    }
   ],
   "source": [
    "# colocando info sobre los ciclos\n",
    "\n",
    "data_pc_enviar"
   ]
  },
  {
   "cell_type": "code",
   "execution_count": 109,
   "id": "34ed9f81",
   "metadata": {},
   "outputs": [
    {
     "data": {
      "text/html": [
       "<div>\n",
       "<style scoped>\n",
       "    .dataframe tbody tr th:only-of-type {\n",
       "        vertical-align: middle;\n",
       "    }\n",
       "\n",
       "    .dataframe tbody tr th {\n",
       "        vertical-align: top;\n",
       "    }\n",
       "\n",
       "    .dataframe thead th {\n",
       "        text-align: right;\n",
       "    }\n",
       "</style>\n",
       "<table border=\"1\" class=\"dataframe\">\n",
       "  <thead>\n",
       "    <tr style=\"text-align: right;\">\n",
       "      <th></th>\n",
       "      <th>APPLICANT_ID</th>\n",
       "      <th>ESCOLARIDAD</th>\n",
       "      <th>SUCURSAL</th>\n",
       "      <th>TIPO_NEGOCIO</th>\n",
       "      <th>TIEMPO_OP_NEGOCIO</th>\n",
       "      <th>COMPRAS</th>\n",
       "      <th>INGRESO_MENSUAL_NEGOCIO</th>\n",
       "      <th>VENTAS</th>\n",
       "      <th>NOMBREOTORGANTE</th>\n",
       "      <th>FOLIO</th>\n",
       "      <th>IMPORTECREDITO</th>\n",
       "      <th>FECHACONSULTA</th>\n",
       "      <th>SCORE_FICO</th>\n",
       "    </tr>\n",
       "  </thead>\n",
       "  <tbody>\n",
       "    <tr>\n",
       "      <th>0</th>\n",
       "      <td>157169</td>\n",
       "      <td>TECNICO</td>\n",
       "      <td>GRUPO_4</td>\n",
       "      <td>VENTAS</td>\n",
       "      <td>40</td>\n",
       "      <td>1300.0</td>\n",
       "      <td>16000.0</td>\n",
       "      <td>4000.0</td>\n",
       "      <td>VOLANA</td>\n",
       "      <td>1186242652</td>\n",
       "      <td>1000</td>\n",
       "      <td>2023-07-04</td>\n",
       "      <td>618</td>\n",
       "    </tr>\n",
       "    <tr>\n",
       "      <th>1</th>\n",
       "      <td>157169</td>\n",
       "      <td>TECNICO</td>\n",
       "      <td>GRUPO_4</td>\n",
       "      <td>VENTAS</td>\n",
       "      <td>40</td>\n",
       "      <td>1300.0</td>\n",
       "      <td>16000.0</td>\n",
       "      <td>4000.0</td>\n",
       "      <td>MICROFINANCIERA</td>\n",
       "      <td>1186242652</td>\n",
       "      <td>1000</td>\n",
       "      <td>2023-06-21</td>\n",
       "      <td>618</td>\n",
       "    </tr>\n",
       "    <tr>\n",
       "      <th>2</th>\n",
       "      <td>157169</td>\n",
       "      <td>TECNICO</td>\n",
       "      <td>GRUPO_4</td>\n",
       "      <td>VENTAS</td>\n",
       "      <td>40</td>\n",
       "      <td>1300.0</td>\n",
       "      <td>16000.0</td>\n",
       "      <td>4000.0</td>\n",
       "      <td>SIC</td>\n",
       "      <td>1186242652</td>\n",
       "      <td>0</td>\n",
       "      <td>2022-12-29</td>\n",
       "      <td>618</td>\n",
       "    </tr>\n",
       "    <tr>\n",
       "      <th>3</th>\n",
       "      <td>157169</td>\n",
       "      <td>TECNICO</td>\n",
       "      <td>GRUPO_4</td>\n",
       "      <td>VENTAS</td>\n",
       "      <td>40</td>\n",
       "      <td>1300.0</td>\n",
       "      <td>16000.0</td>\n",
       "      <td>4000.0</td>\n",
       "      <td>SOCIEDAD FINANCIERA DE OBJETO MULTIPLE</td>\n",
       "      <td>1186242652</td>\n",
       "      <td>8000</td>\n",
       "      <td>2022-11-05</td>\n",
       "      <td>618</td>\n",
       "    </tr>\n",
       "    <tr>\n",
       "      <th>4</th>\n",
       "      <td>157169</td>\n",
       "      <td>TECNICO</td>\n",
       "      <td>GRUPO_4</td>\n",
       "      <td>VENTAS</td>\n",
       "      <td>40</td>\n",
       "      <td>1300.0</td>\n",
       "      <td>16000.0</td>\n",
       "      <td>4000.0</td>\n",
       "      <td>BANCO</td>\n",
       "      <td>1186242652</td>\n",
       "      <td>0</td>\n",
       "      <td>2022-12-29</td>\n",
       "      <td>618</td>\n",
       "    </tr>\n",
       "    <tr>\n",
       "      <th>...</th>\n",
       "      <td>...</td>\n",
       "      <td>...</td>\n",
       "      <td>...</td>\n",
       "      <td>...</td>\n",
       "      <td>...</td>\n",
       "      <td>...</td>\n",
       "      <td>...</td>\n",
       "      <td>...</td>\n",
       "      <td>...</td>\n",
       "      <td>...</td>\n",
       "      <td>...</td>\n",
       "      <td>...</td>\n",
       "      <td>...</td>\n",
       "    </tr>\n",
       "    <tr>\n",
       "      <th>104778</th>\n",
       "      <td>157058</td>\n",
       "      <td>TECNICO</td>\n",
       "      <td>GRUPO_4</td>\n",
       "      <td>SERVICIOS</td>\n",
       "      <td>73</td>\n",
       "      <td>300.0</td>\n",
       "      <td>6032.0</td>\n",
       "      <td>1000.0</td>\n",
       "      <td>FINANCIERA</td>\n",
       "      <td>1252865143</td>\n",
       "      <td>0</td>\n",
       "      <td>2022-04-25</td>\n",
       "      <td>384</td>\n",
       "    </tr>\n",
       "    <tr>\n",
       "      <th>104779</th>\n",
       "      <td>157058</td>\n",
       "      <td>TECNICO</td>\n",
       "      <td>GRUPO_4</td>\n",
       "      <td>SERVICIOS</td>\n",
       "      <td>73</td>\n",
       "      <td>300.0</td>\n",
       "      <td>6032.0</td>\n",
       "      <td>1000.0</td>\n",
       "      <td>FINANCIERA</td>\n",
       "      <td>1252865143</td>\n",
       "      <td>0</td>\n",
       "      <td>2022-02-10</td>\n",
       "      <td>384</td>\n",
       "    </tr>\n",
       "    <tr>\n",
       "      <th>104780</th>\n",
       "      <td>157058</td>\n",
       "      <td>TECNICO</td>\n",
       "      <td>GRUPO_4</td>\n",
       "      <td>SERVICIOS</td>\n",
       "      <td>73</td>\n",
       "      <td>300.0</td>\n",
       "      <td>6032.0</td>\n",
       "      <td>1000.0</td>\n",
       "      <td>SERVICIOS</td>\n",
       "      <td>1252865143</td>\n",
       "      <td>0</td>\n",
       "      <td>2022-02-06</td>\n",
       "      <td>384</td>\n",
       "    </tr>\n",
       "    <tr>\n",
       "      <th>104781</th>\n",
       "      <td>157058</td>\n",
       "      <td>TECNICO</td>\n",
       "      <td>GRUPO_4</td>\n",
       "      <td>SERVICIOS</td>\n",
       "      <td>73</td>\n",
       "      <td>300.0</td>\n",
       "      <td>6032.0</td>\n",
       "      <td>1000.0</td>\n",
       "      <td>FINANCIERA</td>\n",
       "      <td>1252865143</td>\n",
       "      <td>0</td>\n",
       "      <td>2022-02-03</td>\n",
       "      <td>384</td>\n",
       "    </tr>\n",
       "    <tr>\n",
       "      <th>104782</th>\n",
       "      <td>157058</td>\n",
       "      <td>TECNICO</td>\n",
       "      <td>GRUPO_4</td>\n",
       "      <td>SERVICIOS</td>\n",
       "      <td>73</td>\n",
       "      <td>300.0</td>\n",
       "      <td>6032.0</td>\n",
       "      <td>1000.0</td>\n",
       "      <td>FINANCIERA</td>\n",
       "      <td>1252865143</td>\n",
       "      <td>0</td>\n",
       "      <td>2022-01-25</td>\n",
       "      <td>384</td>\n",
       "    </tr>\n",
       "  </tbody>\n",
       "</table>\n",
       "<p>104783 rows × 13 columns</p>\n",
       "</div>"
      ],
      "text/plain": [
       "        APPLICANT_ID ESCOLARIDAD SUCURSAL TIPO_NEGOCIO  TIEMPO_OP_NEGOCIO  \\\n",
       "0             157169     TECNICO  GRUPO_4       VENTAS                 40   \n",
       "1             157169     TECNICO  GRUPO_4       VENTAS                 40   \n",
       "2             157169     TECNICO  GRUPO_4       VENTAS                 40   \n",
       "3             157169     TECNICO  GRUPO_4       VENTAS                 40   \n",
       "4             157169     TECNICO  GRUPO_4       VENTAS                 40   \n",
       "...              ...         ...      ...          ...                ...   \n",
       "104778        157058     TECNICO  GRUPO_4    SERVICIOS                 73   \n",
       "104779        157058     TECNICO  GRUPO_4    SERVICIOS                 73   \n",
       "104780        157058     TECNICO  GRUPO_4    SERVICIOS                 73   \n",
       "104781        157058     TECNICO  GRUPO_4    SERVICIOS                 73   \n",
       "104782        157058     TECNICO  GRUPO_4    SERVICIOS                 73   \n",
       "\n",
       "        COMPRAS  INGRESO_MENSUAL_NEGOCIO  VENTAS  \\\n",
       "0        1300.0                  16000.0  4000.0   \n",
       "1        1300.0                  16000.0  4000.0   \n",
       "2        1300.0                  16000.0  4000.0   \n",
       "3        1300.0                  16000.0  4000.0   \n",
       "4        1300.0                  16000.0  4000.0   \n",
       "...         ...                      ...     ...   \n",
       "104778    300.0                   6032.0  1000.0   \n",
       "104779    300.0                   6032.0  1000.0   \n",
       "104780    300.0                   6032.0  1000.0   \n",
       "104781    300.0                   6032.0  1000.0   \n",
       "104782    300.0                   6032.0  1000.0   \n",
       "\n",
       "                               NOMBREOTORGANTE       FOLIO  IMPORTECREDITO  \\\n",
       "0                                       VOLANA  1186242652            1000   \n",
       "1                              MICROFINANCIERA  1186242652            1000   \n",
       "2                                          SIC  1186242652               0   \n",
       "3       SOCIEDAD FINANCIERA DE OBJETO MULTIPLE  1186242652            8000   \n",
       "4                                        BANCO  1186242652               0   \n",
       "...                                        ...         ...             ...   \n",
       "104778                              FINANCIERA  1252865143               0   \n",
       "104779                              FINANCIERA  1252865143               0   \n",
       "104780                               SERVICIOS  1252865143               0   \n",
       "104781                              FINANCIERA  1252865143               0   \n",
       "104782                              FINANCIERA  1252865143               0   \n",
       "\n",
       "       FECHACONSULTA  SCORE_FICO  \n",
       "0         2023-07-04         618  \n",
       "1         2023-06-21         618  \n",
       "2         2022-12-29         618  \n",
       "3         2022-11-05         618  \n",
       "4         2022-12-29         618  \n",
       "...              ...         ...  \n",
       "104778    2022-04-25         384  \n",
       "104779    2022-02-10         384  \n",
       "104780    2022-02-06         384  \n",
       "104781    2022-02-03         384  \n",
       "104782    2022-01-25         384  \n",
       "\n",
       "[104783 rows x 13 columns]"
      ]
     },
     "execution_count": 109,
     "metadata": {},
     "output_type": "execute_result"
    }
   ],
   "source": [
    "data_enviar#.APPLICANT_ID.nunique()"
   ]
  },
  {
   "cell_type": "code",
   "execution_count": 110,
   "id": "ea20448e",
   "metadata": {
    "scrolled": true
   },
   "outputs": [],
   "source": [
    "data_enviar.to_csv(\"./data/enviar/data_backtesting.csv\", index=False)\n",
    "data_pc_enviar.to_csv(\"./data/enviar/data_pc_backtesting.csv\", index=False)"
   ]
  },
  {
   "cell_type": "code",
   "execution_count": 111,
   "id": "d037594e",
   "metadata": {},
   "outputs": [
    {
     "data": {
      "text/plain": [
       "142      120016\n",
       "193      120023\n",
       "194      130978\n",
       "208      108748\n",
       "209      130077\n",
       "          ...  \n",
       "23981    172833\n",
       "23982    172834\n",
       "23983    172838\n",
       "23984    172839\n",
       "23985    172840\n",
       "Name: id_distribuidor, Length: 5937, dtype: int32"
      ]
     },
     "execution_count": 111,
     "metadata": {},
     "output_type": "execute_result"
    }
   ],
   "source": [
    "data_pc_enviar.id_distribuidor"
   ]
  },
  {
   "cell_type": "code",
   "execution_count": 112,
   "id": "1fef484f",
   "metadata": {},
   "outputs": [],
   "source": [
    "cnx.close()"
   ]
  },
  {
   "cell_type": "code",
   "execution_count": null,
   "id": "07f62d8e",
   "metadata": {},
   "outputs": [],
   "source": []
  },
  {
   "cell_type": "code",
   "execution_count": null,
   "id": "918bd8d8",
   "metadata": {},
   "outputs": [],
   "source": []
  },
  {
   "cell_type": "code",
   "execution_count": null,
   "id": "ad4e9666",
   "metadata": {},
   "outputs": [],
   "source": []
  },
  {
   "cell_type": "code",
   "execution_count": 64,
   "id": "7c19d11d",
   "metadata": {},
   "outputs": [
    {
     "name": "stdout",
     "output_type": "stream",
     "text": [
      "Collecting dnspython\n",
      "  Obtaining dependency information for dnspython from https://files.pythonhosted.org/packages/87/a1/8c5287991ddb8d3e4662f71356d9656d91ab3a36618c3dd11b280df0d255/dnspython-2.6.1-py3-none-any.whl.metadata\n",
      "  Downloading dnspython-2.6.1-py3-none-any.whl.metadata (5.8 kB)\n",
      "Downloading dnspython-2.6.1-py3-none-any.whl (307 kB)\n",
      "   ---------------------------------------- 0.0/307.7 kB ? eta -:--:--\n",
      "   --- ------------------------------------ 30.7/307.7 kB 1.4 MB/s eta 0:00:01\n",
      "   ----------- ---------------------------- 92.2/307.7 kB 1.1 MB/s eta 0:00:01\n",
      "   ------------------------- -------------- 194.6/307.7 kB 1.3 MB/s eta 0:00:01\n",
      "   ---------------------------------------  307.2/307.7 kB 1.7 MB/s eta 0:00:01\n",
      "   ---------------------------------------- 307.7/307.7 kB 1.5 MB/s eta 0:00:00\n",
      "Installing collected packages: dnspython\n",
      "Successfully installed dnspython-2.6.1\n"
     ]
    }
   ],
   "source": [
    "!pip install dnspython"
   ]
  },
  {
   "cell_type": "code",
   "execution_count": 82,
   "id": "e784bd30",
   "metadata": {},
   "outputs": [
    {
     "ename": "KeyboardInterrupt",
     "evalue": "",
     "output_type": "error",
     "traceback": [
      "\u001b[1;31m---------------------------------------------------------------------------\u001b[0m",
      "\u001b[1;31mTimeoutError\u001b[0m                              Traceback (most recent call last)",
      "File \u001b[1;32m~\\anaconda3\\Lib\\socket.py:836\u001b[0m, in \u001b[0;36mcreate_connection\u001b[1;34m(address, timeout, source_address, all_errors)\u001b[0m\n\u001b[0;32m    835\u001b[0m     sock\u001b[38;5;241m.\u001b[39mbind(source_address)\n\u001b[1;32m--> 836\u001b[0m sock\u001b[38;5;241m.\u001b[39mconnect(sa)\n\u001b[0;32m    837\u001b[0m \u001b[38;5;66;03m# Break explicitly a reference cycle\u001b[39;00m\n",
      "\u001b[1;31mTimeoutError\u001b[0m: [WinError 10060] Se produjo un error durante el intento de conexión ya que la parte conectada no respondió adecuadamente tras un periodo de tiempo, o bien se produjo un error en la conexión establecida ya que el host conectado no ha podido responder",
      "\nDuring handling of the above exception, another exception occurred:\n",
      "\u001b[1;31mKeyboardInterrupt\u001b[0m                         Traceback (most recent call last)",
      "Cell \u001b[1;32mIn[82], line 33\u001b[0m\n\u001b[0;32m     31\u001b[0m \u001b[38;5;66;03m# Ejemplo de uso\u001b[39;00m\n\u001b[0;32m     32\u001b[0m email \u001b[38;5;241m=\u001b[39m \u001b[38;5;124m\"\u001b[39m\u001b[38;5;124ma01750443@tec.mx\u001b[39m\u001b[38;5;124m\"\u001b[39m\n\u001b[1;32m---> 33\u001b[0m \u001b[38;5;28mprint\u001b[39m(verify_email_smtp(email))\n",
      "Cell \u001b[1;32mIn[82], line 18\u001b[0m, in \u001b[0;36mverify_email_smtp\u001b[1;34m(email)\u001b[0m\n\u001b[0;32m     16\u001b[0m server \u001b[38;5;241m=\u001b[39m smtplib\u001b[38;5;241m.\u001b[39mSMTP()\n\u001b[0;32m     17\u001b[0m server\u001b[38;5;241m.\u001b[39mset_debuglevel(\u001b[38;5;241m0\u001b[39m)\n\u001b[1;32m---> 18\u001b[0m server\u001b[38;5;241m.\u001b[39mconnect(mx_record)\n\u001b[0;32m     19\u001b[0m server\u001b[38;5;241m.\u001b[39mhelo(server\u001b[38;5;241m.\u001b[39mlocal_hostname)\n\u001b[0;32m     20\u001b[0m server\u001b[38;5;241m.\u001b[39mmail(\u001b[38;5;124m'\u001b[39m\u001b[38;5;124mme@example.com\u001b[39m\u001b[38;5;124m'\u001b[39m)\n",
      "File \u001b[1;32m~\\anaconda3\\Lib\\smtplib.py:341\u001b[0m, in \u001b[0;36mSMTP.connect\u001b[1;34m(self, host, port, source_address)\u001b[0m\n\u001b[0;32m    339\u001b[0m     port \u001b[38;5;241m=\u001b[39m \u001b[38;5;28mself\u001b[39m\u001b[38;5;241m.\u001b[39mdefault_port\n\u001b[0;32m    340\u001b[0m sys\u001b[38;5;241m.\u001b[39maudit(\u001b[38;5;124m\"\u001b[39m\u001b[38;5;124msmtplib.connect\u001b[39m\u001b[38;5;124m\"\u001b[39m, \u001b[38;5;28mself\u001b[39m, host, port)\n\u001b[1;32m--> 341\u001b[0m \u001b[38;5;28mself\u001b[39m\u001b[38;5;241m.\u001b[39msock \u001b[38;5;241m=\u001b[39m \u001b[38;5;28mself\u001b[39m\u001b[38;5;241m.\u001b[39m_get_socket(host, port, \u001b[38;5;28mself\u001b[39m\u001b[38;5;241m.\u001b[39mtimeout)\n\u001b[0;32m    342\u001b[0m \u001b[38;5;28mself\u001b[39m\u001b[38;5;241m.\u001b[39mfile \u001b[38;5;241m=\u001b[39m \u001b[38;5;28;01mNone\u001b[39;00m\n\u001b[0;32m    343\u001b[0m (code, msg) \u001b[38;5;241m=\u001b[39m \u001b[38;5;28mself\u001b[39m\u001b[38;5;241m.\u001b[39mgetreply()\n",
      "File \u001b[1;32m~\\anaconda3\\Lib\\smtplib.py:312\u001b[0m, in \u001b[0;36mSMTP._get_socket\u001b[1;34m(self, host, port, timeout)\u001b[0m\n\u001b[0;32m    310\u001b[0m \u001b[38;5;28;01mif\u001b[39;00m \u001b[38;5;28mself\u001b[39m\u001b[38;5;241m.\u001b[39mdebuglevel \u001b[38;5;241m>\u001b[39m \u001b[38;5;241m0\u001b[39m:\n\u001b[0;32m    311\u001b[0m     \u001b[38;5;28mself\u001b[39m\u001b[38;5;241m.\u001b[39m_print_debug(\u001b[38;5;124m'\u001b[39m\u001b[38;5;124mconnect: to\u001b[39m\u001b[38;5;124m'\u001b[39m, (host, port), \u001b[38;5;28mself\u001b[39m\u001b[38;5;241m.\u001b[39msource_address)\n\u001b[1;32m--> 312\u001b[0m \u001b[38;5;28;01mreturn\u001b[39;00m socket\u001b[38;5;241m.\u001b[39mcreate_connection((host, port), timeout,\n\u001b[0;32m    313\u001b[0m                                 \u001b[38;5;28mself\u001b[39m\u001b[38;5;241m.\u001b[39msource_address)\n",
      "File \u001b[1;32m~\\anaconda3\\Lib\\socket.py:843\u001b[0m, in \u001b[0;36mcreate_connection\u001b[1;34m(address, timeout, source_address, all_errors)\u001b[0m\n\u001b[0;32m    841\u001b[0m \u001b[38;5;28;01mexcept\u001b[39;00m error \u001b[38;5;28;01mas\u001b[39;00m exc:\n\u001b[0;32m    842\u001b[0m     \u001b[38;5;28;01mif\u001b[39;00m \u001b[38;5;129;01mnot\u001b[39;00m all_errors:\n\u001b[1;32m--> 843\u001b[0m         exceptions\u001b[38;5;241m.\u001b[39mclear()  \u001b[38;5;66;03m# raise only the last error\u001b[39;00m\n\u001b[0;32m    844\u001b[0m     exceptions\u001b[38;5;241m.\u001b[39mappend(exc)\n\u001b[0;32m    845\u001b[0m     \u001b[38;5;28;01mif\u001b[39;00m sock \u001b[38;5;129;01mis\u001b[39;00m \u001b[38;5;129;01mnot\u001b[39;00m \u001b[38;5;28;01mNone\u001b[39;00m:\n",
      "\u001b[1;31mKeyboardInterrupt\u001b[0m: "
     ]
    }
   ],
   "source": [
    "import smtplib\n",
    "import dns.resolver\n",
    "\n",
    "def verify_email_smtp(email):\n",
    "    domain = email.split('@')[1]\n",
    "    \n",
    "    # Obtener el registro MX del dominio\n",
    "    try:\n",
    "        mx_records = dns.resolver.resolve(domain, 'MX')\n",
    "        mx_record = str(mx_records[0].exchange)\n",
    "    except Exception as e:\n",
    "        return False\n",
    "    \n",
    "    # Conectar al servidor SMTP\n",
    "    try:\n",
    "        server = smtplib.SMTP()\n",
    "        server.set_debuglevel(0)\n",
    "        server.connect(mx_record)\n",
    "        server.helo(server.local_hostname)\n",
    "        server.mail('me@example.com')\n",
    "        code, message = server.rcpt(email)\n",
    "        server.quit()\n",
    "        \n",
    "        if code == 250:\n",
    "            return True\n",
    "        else:\n",
    "            return False\n",
    "    except Exception as e:\n",
    "        return False\n",
    "\n",
    "# Ejemplo de uso\n",
    "email = \"a01750443@tec.mx\"\n",
    "print(verify_email_smtp(email))  # Debería imprimir True si el correo electrónico es válido según el servidor SMTP\n"
   ]
  },
  {
   "cell_type": "code",
   "execution_count": 67,
   "id": "38e093df",
   "metadata": {},
   "outputs": [
    {
     "data": {
      "text/plain": [
       "'pernexium.com'"
      ]
     },
     "execution_count": 67,
     "metadata": {},
     "output_type": "execute_result"
    }
   ],
   "source": [
    "domain"
   ]
  }
 ],
 "metadata": {
  "kernelspec": {
   "display_name": "Python 3 (ipykernel)",
   "language": "python",
   "name": "python3"
  },
  "language_info": {
   "codemirror_mode": {
    "name": "ipython",
    "version": 3
   },
   "file_extension": ".py",
   "mimetype": "text/x-python",
   "name": "python",
   "nbconvert_exporter": "python",
   "pygments_lexer": "ipython3",
   "version": "3.11.4"
  }
 },
 "nbformat": 4,
 "nbformat_minor": 5
}
