{
 "cells": [
  {
   "cell_type": "code",
   "execution_count": 9,
   "id": "46429310",
   "metadata": {},
   "outputs": [
    {
     "name": "stdout",
     "output_type": "stream",
     "text": [
      "<Response [200]> {\"prediction\":[{\"label\":\"5\",\"approval_score\":0.4981121712,\"applicant_id\":\"TEST_001\",\"sucursal\":\"GRUPO_2\",\"flag_sucursal_riesgo\":\"SI\",\"grupo_riesgo_final\":5,\"tasa_perdida\":14.2,\"inf_obs\":\"N/A\"}]}\n"
     ]
    },
    {
     "name": "stderr",
     "output_type": "stream",
     "text": [
      "ERROR: Could not consume arg: -f\n",
      "Usage: ipykernel_launcher.py -\n",
      "\n",
      "For detailed information on this command, run:\n",
      "  ipykernel_launcher.py - --help\n"
     ]
    },
    {
     "ename": "FireExit",
     "evalue": "2",
     "output_type": "error",
     "traceback": [
      "An exception has occurred, use %tb to see the full traceback.\n",
      "\u001b[1;31mFireExit\u001b[0m\u001b[1;31m:\u001b[0m 2\n"
     ]
    }
   ],
   "source": [
    "import requests\n",
    "import json\n",
    "import fire\n",
    "URL = \"https://api.quash.ai\"\n",
    "DATA = \"./data/ejemplo.json\"\n",
    "ENDPOINT = \"/scoring\"\n",
    "APIKEY = \"Ku9sm6Nr6XAEXlWfLNyPmDhkTvTa4EnS\"\n",
    "def predict_test(url=URL,data=DATA,endpoint=ENDPOINT):\n",
    "    with open(data,'r') as _:\n",
    "        j_data = json.load(_)\n",
    "        headers = {'content-type': 'application/json',\n",
    "\n",
    "        'Accept-Charset': 'UTF-8',\n",
    "        'apikey': APIKEY,\n",
    "        'x-customer': 'volana'}\n",
    "\n",
    "        r = requests.post(url + endpoint, data=json.dumps(j_data), headers=headers)\n",
    "        print(r, r.text)\n",
    "if __name__==\"__main__\":\n",
    "    fire.Fire(predict_test)"
   ]
  }
 ],
 "metadata": {
  "kernelspec": {
   "display_name": "Python 3 (ipykernel)",
   "language": "python",
   "name": "python3"
  },
  "language_info": {
   "codemirror_mode": {
    "name": "ipython",
    "version": 3
   },
   "file_extension": ".py",
   "mimetype": "text/x-python",
   "name": "python",
   "nbconvert_exporter": "python",
   "pygments_lexer": "ipython3",
   "version": "3.11.4"
  }
 },
 "nbformat": 4,
 "nbformat_minor": 5
}
