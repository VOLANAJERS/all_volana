{
 "cells": [
  {
   "cell_type": "code",
   "execution_count": 1,
   "id": "afbd03bd",
   "metadata": {},
   "outputs": [],
   "source": [
    "import pandas as pd\n",
    "import numpy as np\n",
    "import pymysql\n",
    "from datetime import datetime, timedelta\n",
    "import warnings\n",
    "import requests\n",
    "import json\n",
    "import fire\n",
    "warnings.filterwarnings('ignore')"
   ]
  },
  {
   "cell_type": "markdown",
   "id": "1fef0b1c",
   "metadata": {},
   "source": [
    "## Datos a comparar"
   ]
  },
  {
   "cell_type": "code",
   "execution_count": null,
   "id": "fd85ef9b",
   "metadata": {},
   "outputs": [],
   "source": [
    "data_perdida_cosecha = pd.read_excel(\"../../matriz_modelo_riesgo/data/240531 PERDIDA DE COSECHA.xlsb\", sheet_name = 'COLOCACION', header = 1)\n",
    "data_perdida_cosecha.columns = [k.lower().replace(\" \", \"_\") for k in data_perdida_cosecha.columns]\n",
    "data_perdida_cosecha.rename(columns={\"id_dist.\":\"id_distribuidor\"}, inplace = True)"
   ]
  },
  {
   "cell_type": "code",
   "execution_count": null,
   "id": "79d7cab2",
   "metadata": {},
   "outputs": [],
   "source": []
  },
  {
   "cell_type": "code",
   "execution_count": null,
   "id": "0b886efa",
   "metadata": {},
   "outputs": [],
   "source": []
  },
  {
   "cell_type": "code",
   "execution_count": null,
   "id": "c5ff87d4",
   "metadata": {},
   "outputs": [],
   "source": []
  },
  {
   "cell_type": "markdown",
   "id": "ab568c43",
   "metadata": {},
   "source": [
    "## extracción de SQL"
   ]
  },
  {
   "cell_type": "code",
   "execution_count": 2,
   "id": "08ea25b2",
   "metadata": {},
   "outputs": [
    {
     "ename": "NameError",
     "evalue": "name 'ids' is not defined",
     "output_type": "error",
     "traceback": [
      "\u001b[1;31m---------------------------------------------------------------------------\u001b[0m",
      "\u001b[1;31mNameError\u001b[0m                                 Traceback (most recent call last)",
      "Cell \u001b[1;32mIn[2], line 49\u001b[0m\n\u001b[0;32m      1\u001b[0m sql_demo \u001b[38;5;241m=\u001b[39m \u001b[38;5;124mf\u001b[39m\u001b[38;5;124m\"\"\"\u001b[39m\n\u001b[0;32m      2\u001b[0m \u001b[38;5;124mselect * from (select \u001b[39m\n\u001b[0;32m      3\u001b[0m \u001b[38;5;124m    id as \u001b[39m\u001b[38;5;124m'\u001b[39m\u001b[38;5;124mAPPLICANT_ID\u001b[39m\u001b[38;5;124m'\u001b[39m\u001b[38;5;124m, \u001b[39m\n\u001b[0;32m      4\u001b[0m \u001b[38;5;124m    monto_mensual as ingreso_mensual,\u001b[39m\n\u001b[0;32m      5\u001b[0m \u001b[38;5;124m    gastos_familiares,\u001b[39m\n\u001b[0;32m      6\u001b[0m \u001b[38;5;124m    otros_ingresos,\u001b[39m\n\u001b[0;32m      7\u001b[0m \u001b[38;5;124m    replace(replace(replace(ingreso_neto,\u001b[39m\u001b[38;5;124m\"\u001b[39m\u001b[38;5;124m$\u001b[39m\u001b[38;5;124m\"\u001b[39m\u001b[38;5;124m,\u001b[39m\u001b[38;5;124m\"\u001b[39m\u001b[38;5;124m\"\u001b[39m\u001b[38;5;124m), \u001b[39m\u001b[38;5;124m\"\u001b[39m\u001b[38;5;124m,\u001b[39m\u001b[38;5;124m\"\u001b[39m\u001b[38;5;124m,\u001b[39m\u001b[38;5;124m\"\u001b[39m\u001b[38;5;124m\"\u001b[39m\u001b[38;5;124m), \u001b[39m\u001b[38;5;124m\"\u001b[39m\u001b[38;5;124m.00\u001b[39m\u001b[38;5;124m\"\u001b[39m\u001b[38;5;124m,\u001b[39m\u001b[38;5;124m\"\u001b[39m\u001b[38;5;124m\"\u001b[39m\u001b[38;5;124m) as ingreso_neto,\u001b[39m\n\u001b[0;32m      8\u001b[0m \u001b[38;5;124m    dependientes,\u001b[39m\n\u001b[0;32m      9\u001b[0m \u001b[38;5;124m    ventas,\u001b[39m\n\u001b[0;32m     10\u001b[0m \u001b[38;5;124m    FLOOR(DATEDIFF(CURDATE(), fecha_nacimiento) / 365.25) AS edad,\u001b[39m\n\u001b[0;32m     11\u001b[0m \u001b[38;5;124m    monto_mensual,\u001b[39m\n\u001b[0;32m     12\u001b[0m \u001b[38;5;124m    compras,\u001b[39m\n\u001b[0;32m     13\u001b[0m \u001b[38;5;124m    delegacion,\u001b[39m\n\u001b[0;32m     14\u001b[0m \u001b[38;5;124m    delegacion_negocio,\u001b[39m\n\u001b[0;32m     15\u001b[0m \u001b[38;5;124m    escolaridad,\u001b[39m\n\u001b[0;32m     16\u001b[0m \u001b[38;5;124m    estado,\u001b[39m\n\u001b[0;32m     17\u001b[0m \u001b[38;5;124m    estado_civil,\u001b[39m\n\u001b[0;32m     18\u001b[0m \u001b[38;5;124m    estado_negocio,\u001b[39m\n\u001b[0;32m     19\u001b[0m \u001b[38;5;124m    sexo,\u001b[39m\n\u001b[0;32m     20\u001b[0m \u001b[38;5;124m    sucursal,\u001b[39m\n\u001b[0;32m     21\u001b[0m \u001b[38;5;124m    tipo_negocio,\u001b[39m\n\u001b[0;32m     22\u001b[0m \u001b[38;5;124m    tipo_vivienda\u001b[39m\n\u001b[0;32m     23\u001b[0m \u001b[38;5;124mfrom cc_prospectos_demograficos\u001b[39m\n\u001b[0;32m     24\u001b[0m \n\u001b[0;32m     25\u001b[0m \u001b[38;5;124mUNION\u001b[39m\n\u001b[0;32m     26\u001b[0m \n\u001b[0;32m     27\u001b[0m \u001b[38;5;124mselect \u001b[39m\n\u001b[0;32m     28\u001b[0m \u001b[38;5;124m    id as \u001b[39m\u001b[38;5;124m'\u001b[39m\u001b[38;5;124mAPPLICANT_ID\u001b[39m\u001b[38;5;124m'\u001b[39m\u001b[38;5;124m, \u001b[39m\n\u001b[0;32m     29\u001b[0m \u001b[38;5;124m    ingreso_mensual,\u001b[39m\n\u001b[0;32m     30\u001b[0m \u001b[38;5;124m    gastos_familiares,\u001b[39m\n\u001b[0;32m     31\u001b[0m \u001b[38;5;124m    otros_ingresos,\u001b[39m\n\u001b[0;32m     32\u001b[0m \u001b[38;5;124m    replace(replace(replace(ingreso_neto,\u001b[39m\u001b[38;5;124m\"\u001b[39m\u001b[38;5;124m$\u001b[39m\u001b[38;5;124m\"\u001b[39m\u001b[38;5;124m,\u001b[39m\u001b[38;5;124m\"\u001b[39m\u001b[38;5;124m\"\u001b[39m\u001b[38;5;124m), \u001b[39m\u001b[38;5;124m\"\u001b[39m\u001b[38;5;124m,\u001b[39m\u001b[38;5;124m\"\u001b[39m\u001b[38;5;124m,\u001b[39m\u001b[38;5;124m\"\u001b[39m\u001b[38;5;124m\"\u001b[39m\u001b[38;5;124m), \u001b[39m\u001b[38;5;124m\"\u001b[39m\u001b[38;5;124m.00\u001b[39m\u001b[38;5;124m\"\u001b[39m\u001b[38;5;124m,\u001b[39m\u001b[38;5;124m\"\u001b[39m\u001b[38;5;124m\"\u001b[39m\u001b[38;5;124m) as ingreso_neto,\u001b[39m\n\u001b[0;32m     33\u001b[0m \u001b[38;5;124m    dependientes,\u001b[39m\n\u001b[0;32m     34\u001b[0m \u001b[38;5;124m    ventas,\u001b[39m\n\u001b[0;32m     35\u001b[0m \u001b[38;5;124m    FLOOR(DATEDIFF(CURDATE(), fecha_nacimiento) / 365.25) AS edad,\u001b[39m\n\u001b[0;32m     36\u001b[0m \u001b[38;5;124m    monto_mensual_venta,\u001b[39m\n\u001b[0;32m     37\u001b[0m \u001b[38;5;124m    compras,\u001b[39m\n\u001b[0;32m     38\u001b[0m \u001b[38;5;124m    delegacion,\u001b[39m\n\u001b[0;32m     39\u001b[0m \u001b[38;5;124m    delegacion_negocio,\u001b[39m\n\u001b[0;32m     40\u001b[0m \u001b[38;5;124m    escolaridad,\u001b[39m\n\u001b[0;32m     41\u001b[0m \u001b[38;5;124m    estado,\u001b[39m\n\u001b[0;32m     42\u001b[0m \u001b[38;5;124m    estado_civil,\u001b[39m\n\u001b[0;32m     43\u001b[0m \u001b[38;5;124m    estado_negocio,\u001b[39m\n\u001b[0;32m     44\u001b[0m \u001b[38;5;124m    sexo,\u001b[39m\n\u001b[0;32m     45\u001b[0m \u001b[38;5;124m    sucursal,\u001b[39m\n\u001b[0;32m     46\u001b[0m \u001b[38;5;124m    tipo_negocio,\u001b[39m\n\u001b[0;32m     47\u001b[0m \u001b[38;5;124m    tipo_vivienda\u001b[39m\n\u001b[0;32m     48\u001b[0m \u001b[38;5;124mfrom demograficos_distribuidores) as pen\u001b[39m\n\u001b[1;32m---> 49\u001b[0m \u001b[38;5;124mwhere pen.APPLICANT_ID in \u001b[39m\u001b[38;5;132;01m{\u001b[39;00mids\u001b[38;5;132;01m}\u001b[39;00m\n\u001b[0;32m     50\u001b[0m \u001b[38;5;124m\"\"\"\u001b[39m\n",
      "\u001b[1;31mNameError\u001b[0m: name 'ids' is not defined"
     ]
    }
   ],
   "source": [
    "sql_demo = f\"\"\"\n",
    "select * from (select \n",
    "    id as 'APPLICANT_ID', \n",
    "    monto_mensual as ingreso_mensual,\n",
    "    gastos_familiares,\n",
    "    otros_ingresos,\n",
    "    replace(replace(replace(ingreso_neto,\"$\",\"\"), \",\",\"\"), \".00\",\"\") as ingreso_neto,\n",
    "    dependientes,\n",
    "    ventas,\n",
    "    FLOOR(DATEDIFF(CURDATE(), fecha_nacimiento) / 365.25) AS edad,\n",
    "    monto_mensual,\n",
    "    compras,\n",
    "    delegacion,\n",
    "    delegacion_negocio,\n",
    "    escolaridad,\n",
    "    estado,\n",
    "    estado_civil,\n",
    "    estado_negocio,\n",
    "    sexo,\n",
    "    sucursal,\n",
    "    tipo_negocio,\n",
    "    tipo_vivienda\n",
    "from cc_prospectos_demograficos\n",
    "\n",
    "UNION\n",
    "\n",
    "select \n",
    "    id as 'APPLICANT_ID', \n",
    "    ingreso_mensual,\n",
    "    gastos_familiares,\n",
    "    otros_ingresos,\n",
    "    replace(replace(replace(ingreso_neto,\"$\",\"\"), \",\",\"\"), \".00\",\"\") as ingreso_neto,\n",
    "    dependientes,\n",
    "    ventas,\n",
    "    FLOOR(DATEDIFF(CURDATE(), fecha_nacimiento) / 365.25) AS edad,\n",
    "    monto_mensual_venta,\n",
    "    compras,\n",
    "    delegacion,\n",
    "    delegacion_negocio,\n",
    "    escolaridad,\n",
    "    estado,\n",
    "    estado_civil,\n",
    "    estado_negocio,\n",
    "    sexo,\n",
    "    sucursal,\n",
    "    tipo_negocio,\n",
    "    tipo_vivienda\n",
    "from demograficos_distribuidores) as pen\n",
    "where pen.APPLICANT_ID in {ids}\n",
    "\"\"\""
   ]
  },
  {
   "cell_type": "code",
   "execution_count": null,
   "id": "8fddf143",
   "metadata": {},
   "outputs": [],
   "source": [
    "cnx = pymysql.connect(host='159.89.90.197', port = 3306, user='antonio_diaz', passwd=\"4nT0ni_0.dZ\",\n",
    "                               charset='utf8',db = 'volana')\n",
    "cursor = cnx.cursor()\n",
    "cursor.execute(sql_demo)\n",
    "data_demo = cursor.fetchall()\n",
    "data_demo = pd.DataFrame(data_demo, columns=[str(i[0]).upper() for i in cursor.description])\n",
    "cnx.close()"
   ]
  }
 ],
 "metadata": {
  "kernelspec": {
   "display_name": "Python 3 (ipykernel)",
   "language": "python",
   "name": "python3"
  },
  "language_info": {
   "codemirror_mode": {
    "name": "ipython",
    "version": 3
   },
   "file_extension": ".py",
   "mimetype": "text/x-python",
   "name": "python",
   "nbconvert_exporter": "python",
   "pygments_lexer": "ipython3",
   "version": "3.11.4"
  }
 },
 "nbformat": 4,
 "nbformat_minor": 5
}
