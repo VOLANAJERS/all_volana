{
 "cells": [
  {
   "cell_type": "code",
   "execution_count": 2,
   "id": "43441937",
   "metadata": {},
   "outputs": [],
   "source": [
    "import requests\n",
    "import json\n",
    "import fire\n",
    "URL = \"https://api.quash.ai\"\n",
    "DATA = \"data.json\"\n",
    "var = \"\"\"{\"data\": [{\"APPLICANT_ID\": \"TEST_003\", \n",
    "            \"INGRESO_MENSUAL\": 7300, \n",
    "            \"GASTOS_FAMILIARES\": 710, \n",
    "            \"OTROS_INGRESOS\": 1010, \n",
    "            \"INGRESO_NETO\": 6010, \n",
    "            \"DEPENDIENTES\": 0, \n",
    "            \"VENTAS\": 2380, \n",
    "            \"EDAD\": 35, \n",
    "            \"MONTO_MENSUAL_VENTA\": 25000, \n",
    "            \"COMPRAS\": 4000, \n",
    "            \"DELEGACION\": \"CHICOLOAPAN \", \n",
    "            \"DELEGACION_NEGOCIO\": \"CHICOLOAPAN \", \n",
    "            \"ESCOLARIDAD\": \"SECUNDARIA\", \n",
    "            \"ESTADO\": \"TABASCO\", \n",
    "            \"ESTADO_CIVIL\": \"SOLTERO\", \n",
    "            \"ESTADO_NEGOCIO\": \"MEXICO\", \n",
    "            \"SEXO\": \"MASCULINO\", \n",
    "            \"SUCURSAL\": \"prueba\", \n",
    "            \"TIPO_NEGOCIO\": \"JOYERIA/BISUTERIA/FUNDICION\", \n",
    "            \"TIPO_VIVIENDA\": \"PROPIA\"}], \n",
    "            \"customer\": \"volana\"}\"\"\"\n",
    "ENDPOINT = \"/scoring\"\n",
    "APIKEY = \"Ku9sm6Nr6XAEXlWfLNyPmDhkTvTa4EnS\"\n",
    "\n",
    "\n"
   ]
  },
  {
   "cell_type": "code",
   "execution_count": null,
   "id": "796cd780",
   "metadata": {},
   "outputs": [],
   "source": []
  },
  {
   "cell_type": "code",
   "execution_count": 5,
   "id": "ff99deb1",
   "metadata": {},
   "outputs": [
    {
     "name": "stdout",
     "output_type": "stream",
     "text": [
      "<Response [200]> {\"prediction\":[{\"label\":\"RECHAZADO\",\"approval_score\":0.6741578579,\"applicant_id\":\"TEST_003\"}]}\n"
     ]
    },
    {
     "name": "stderr",
     "output_type": "stream",
     "text": [
      "ERROR: Could not consume arg: -f\n",
      "Usage: ipykernel_launcher.py -\n",
      "\n",
      "For detailed information on this command, run:\n",
      "  ipykernel_launcher.py - --help\n"
     ]
    },
    {
     "ename": "FireExit",
     "evalue": "2",
     "output_type": "error",
     "traceback": [
      "An exception has occurred, use %tb to see the full traceback.\n",
      "\u001b[1;31mFireExit\u001b[0m\u001b[1;31m:\u001b[0m 2\n"
     ]
    }
   ],
   "source": [
    "def predict_test(url=URL,data=DATA,endpoint=ENDPOINT):\n",
    "    with open(data,'r') as _:\n",
    "        j_data = json.load(_)\n",
    "        headers = {'content-type': 'application/json',\n",
    "\n",
    "        'Accept-Charset': 'UTF-8',\n",
    "        'apikey': APIKEY,\n",
    "        'x-customer': 'volana'}\n",
    "\n",
    "        \n",
    "        r = requests.post(url + endpoint, data=var, headers=headers)\n",
    "        \n",
    "        print(r, r.text)\n",
    "\n",
    "if __name__==\"__main__\":\n",
    "    fire.Fire(predict_test)"
   ]
  },
  {
   "cell_type": "code",
   "execution_count": 4,
   "id": "6c163f71",
   "metadata": {},
   "outputs": [
    {
     "ename": "FireExit",
     "evalue": "2",
     "output_type": "error",
     "traceback": [
      "\u001b[1;31m---------------------------------------------------------------------------\u001b[0m",
      "\u001b[1;31mFireExit\u001b[0m                                  Traceback (most recent call last)",
      "Cell \u001b[1;32mIn[3], line 16\u001b[0m\n\u001b[0;32m     13\u001b[0m         \u001b[38;5;28;01mreturn\u001b[39;00m r\n\u001b[0;32m     15\u001b[0m \u001b[38;5;28;01mif\u001b[39;00m \u001b[38;5;18m__name__\u001b[39m\u001b[38;5;241m==\u001b[39m\u001b[38;5;124m\"\u001b[39m\u001b[38;5;124m__main__\u001b[39m\u001b[38;5;124m\"\u001b[39m:\n\u001b[1;32m---> 16\u001b[0m     res \u001b[38;5;241m=\u001b[39m fire\u001b[38;5;241m.\u001b[39mFire(predict_test)\n",
      "File \u001b[1;32m~\\anaconda3\\Lib\\site-packages\\fire\\core.py:145\u001b[0m, in \u001b[0;36mFire\u001b[1;34m(component, command, name, serialize)\u001b[0m\n\u001b[0;32m    143\u001b[0m \u001b[38;5;28;01mif\u001b[39;00m component_trace\u001b[38;5;241m.\u001b[39mHasError():\n\u001b[0;32m    144\u001b[0m   _DisplayError(component_trace)\n\u001b[1;32m--> 145\u001b[0m   \u001b[38;5;28;01mraise\u001b[39;00m FireExit(\u001b[38;5;241m2\u001b[39m, component_trace)\n\u001b[0;32m    146\u001b[0m \u001b[38;5;28;01mif\u001b[39;00m component_trace\u001b[38;5;241m.\u001b[39mshow_trace \u001b[38;5;129;01mand\u001b[39;00m component_trace\u001b[38;5;241m.\u001b[39mshow_help:\n\u001b[0;32m    147\u001b[0m   output \u001b[38;5;241m=\u001b[39m [\u001b[38;5;124m'\u001b[39m\u001b[38;5;124mFire trace:\u001b[39m\u001b[38;5;130;01m\\n\u001b[39;00m\u001b[38;5;132;01m{trace}\u001b[39;00m\u001b[38;5;130;01m\\n\u001b[39;00m\u001b[38;5;124m'\u001b[39m\u001b[38;5;241m.\u001b[39mformat(trace\u001b[38;5;241m=\u001b[39mcomponent_trace)]\n",
      "\u001b[1;31mFireExit\u001b[0m: 2"
     ]
    }
   ],
   "source": [
    "%tb"
   ]
  }
 ],
 "metadata": {
  "kernelspec": {
   "display_name": "Python 3 (ipykernel)",
   "language": "python",
   "name": "python3"
  },
  "language_info": {
   "codemirror_mode": {
    "name": "ipython",
    "version": 3
   },
   "file_extension": ".py",
   "mimetype": "text/x-python",
   "name": "python",
   "nbconvert_exporter": "python",
   "pygments_lexer": "ipython3",
   "version": "3.11.4"
  }
 },
 "nbformat": 4,
 "nbformat_minor": 5
}
