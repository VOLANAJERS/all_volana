{
 "cells": [
  {
   "cell_type": "code",
   "execution_count": 1,
   "id": "93642b9b",
   "metadata": {},
   "outputs": [],
   "source": [
    "import requests\n",
    "import json\n",
    "import fire\n",
    "import pandas as pd\n",
    "import numpy as np\n",
    "import pymysql"
   ]
  },
  {
   "cell_type": "code",
   "execution_count": 2,
   "id": "bc5c507d",
   "metadata": {},
   "outputs": [],
   "source": [
    "URL = \"https://api.quash.ai\"\n",
    "DATA = \"./data/datos.json\"\n",
    "ENDPOINT = \"/scoring\"\n",
    "APIKEY = \"Ku9sm6Nr6XAEXlWfLNyPmDhkTvTa4EnS\""
   ]
  },
  {
   "cell_type": "code",
   "execution_count": 3,
   "id": "daf2aa87",
   "metadata": {},
   "outputs": [],
   "source": [
    "def setcut_prob(p, grupo_ = True):\n",
    "    p = p*100\n",
    "    cuts = np.array(sorted([100, 81.09, 72.06, 63.19, 54.27, 45.11, 36.10, 27.47, 18.17, 9.05, 0.00]))\n",
    "    cosechas = np.array(sorted([1.63, 1.84, 1.89, 3.19, 3.76, 5.77, 7.48, 13.17, 15.20, 17.35], reverse = False))\n",
    "                                 \n",
    "    \n",
    "    #cuts = np.array(sorted([1, 0.9919, 0.975, 0.953, 0.9196, 0.8717, 0.7832, 0.6737, 0.5072, .2738]))*100\n",
    "    #cosechas = np.array(sorted([2.31, 2.63, 3.1, 3.12, 3.94, 4.2, 4.33, 5.15, 5.71, 59.82], reverse = True))\n",
    "    \n",
    "    for cut in cuts:\n",
    "        if cut > p:\n",
    "            break\n",
    "            \n",
    "    grupo = np.where(cuts == cut)[0][0] \n",
    "    if grupo_:\n",
    "        return grupo\n",
    "    else:\n",
    "        return cosechas[grupo - 1]\n",
    "    \n",
    "def setcut_prob_quash(p, grupo_ = True):\n",
    "    p = p*100\n",
    "    cuts = np.array(sorted([100, 96.8, 93.6, 84.1, 75.4, 50.2, 0.00]))\n",
    "    cosechas = np.array(sorted([1, 1.98, 4.06, 6.11, 7.65, 11.8, 14.76], reverse = True))\n",
    "                                 \n",
    "    \n",
    "    #cuts = np.array(sorted([1, 0.9919, 0.975, 0.953, 0.9196, 0.8717, 0.7832, 0.6737, 0.5072, .2738]))*100\n",
    "    #cosechas = np.array(sorted([2.31, 2.63, 3.1, 3.12, 3.94, 4.2, 4.33, 5.15, 5.71, 59.82], reverse = True))\n",
    "    \n",
    "    for cut in cuts:\n",
    "        if cut > p:\n",
    "            break\n",
    "            \n",
    "    grupo = np.where(cuts == cut)[0][0] \n",
    "    if grupo_:\n",
    "        return grupo\n",
    "    else:\n",
    "        return cosechas[grupo - 1]"
   ]
  },
  {
   "cell_type": "code",
   "execution_count": 4,
   "id": "d4936f6a",
   "metadata": {},
   "outputs": [
    {
     "data": {
      "text/plain": [
       "11.8"
      ]
     },
     "execution_count": 4,
     "metadata": {},
     "output_type": "execute_result"
    }
   ],
   "source": [
    "setcut_prob_quash(0.6, grupo_ = False)"
   ]
  },
  {
   "cell_type": "markdown",
   "id": "b57ad80a",
   "metadata": {},
   "source": [
    "**Cargando los datos**"
   ]
  },
  {
   "cell_type": "code",
   "execution_count": 5,
   "id": "89489a0b",
   "metadata": {},
   "outputs": [],
   "source": [
    "data_resultado_quilum = pd.read_excel(\"./data/240221 ANALISIS DE MODELOS.xlsx\", sheet_name = \"Hoja1\")\n",
    "data_resultado_quash = pd.read_excel(\"./data/240221 ANALISIS DE MODELOS.xlsx\", sheet_name = \"Hoja1\")\n",
    "data_modelo = pd.read_excel(\"./data/240221 ANALISIS DE MODELOS.xlsx\", sheet_name = \"Hoja2\", header=1)"
   ]
  },
  {
   "cell_type": "code",
   "execution_count": 6,
   "id": "20676e63",
   "metadata": {},
   "outputs": [],
   "source": [
    "data_prospectos_original = pd.read_csv(\"./data/prospectos_riesgo.csv\")"
   ]
  },
  {
   "cell_type": "code",
   "execution_count": 7,
   "id": "05b2294a",
   "metadata": {},
   "outputs": [],
   "source": [
    "data_prospectos = data_prospectos_original.groupby(\"id_distribuidor\").agg({\"monto_autorizado\": max, \n",
    "                                              \"tasa_sugerida\":max,\n",
    "                                              \"tasa_minima\": min,\n",
    "                                              \"probabilidad\" : max,\n",
    "                                              \"grupo_riesgo\": max})\n",
    "data_prospectos = data_prospectos.reset_index()"
   ]
  },
  {
   "cell_type": "markdown",
   "id": "90d17c27",
   "metadata": {},
   "source": [
    "**Todos los ids en resultado están en los prospectos**"
   ]
  },
  {
   "cell_type": "code",
   "execution_count": 8,
   "id": "bb88ef6e",
   "metadata": {
    "scrolled": true
   },
   "outputs": [
    {
     "data": {
      "text/plain": [
       "array([], dtype=int64)"
      ]
     },
     "execution_count": 8,
     "metadata": {},
     "output_type": "execute_result"
    }
   ],
   "source": [
    "np.setdiff1d(data_resultado_quilum.id_distribuidor.unique(), data_prospectos.id_distribuidor.unique())"
   ]
  },
  {
   "cell_type": "markdown",
   "id": "2b8b15f0",
   "metadata": {},
   "source": [
    "**Haciendo el merge de la tasa mínima**"
   ]
  },
  {
   "cell_type": "code",
   "execution_count": 9,
   "id": "da977b36",
   "metadata": {},
   "outputs": [],
   "source": [
    "data_resultado_quilum = data_resultado_quilum.merge(data_prospectos[['id_distribuidor', 'tasa_minima', 'probabilidad']], on = 'id_distribuidor')"
   ]
  },
  {
   "cell_type": "markdown",
   "id": "5dd50e49",
   "metadata": {},
   "source": [
    "**Añadiendo la pérdida de cosecha esperada**"
   ]
  },
  {
   "cell_type": "code",
   "execution_count": 10,
   "id": "c2ade10c",
   "metadata": {},
   "outputs": [],
   "source": [
    "data_resultado_quilum['perdida_cosecha_esperada_quilum'] = data_resultado_quilum.probabilidad.apply(setcut_prob, grupo_ = False)"
   ]
  },
  {
   "cell_type": "code",
   "execution_count": 11,
   "id": "32521dbb",
   "metadata": {},
   "outputs": [
    {
     "data": {
      "text/html": [
       "<div>\n",
       "<style scoped>\n",
       "    .dataframe tbody tr th:only-of-type {\n",
       "        vertical-align: middle;\n",
       "    }\n",
       "\n",
       "    .dataframe tbody tr th {\n",
       "        vertical-align: top;\n",
       "    }\n",
       "\n",
       "    .dataframe thead th {\n",
       "        text-align: right;\n",
       "    }\n",
       "</style>\n",
       "<table border=\"1\" class=\"dataframe\">\n",
       "  <thead>\n",
       "    <tr style=\"text-align: right;\">\n",
       "      <th></th>\n",
       "      <th>id_distribuidor</th>\n",
       "      <th>tasa_sugerida</th>\n",
       "      <th>grupo_riesgo</th>\n",
       "      <th>ID ASOCIADO</th>\n",
       "      <th>CAPITAL AUTORIZADO</th>\n",
       "      <th>TASA AUTORIZADA</th>\n",
       "      <th>RECUPERADO</th>\n",
       "      <th>NO RECUPERADO</th>\n",
       "      <th>CERRADO</th>\n",
       "      <th>P COSECHA</th>\n",
       "      <th>tasa_minima</th>\n",
       "      <th>probabilidad</th>\n",
       "      <th>perdida_cosecha_esperada_quilum</th>\n",
       "    </tr>\n",
       "  </thead>\n",
       "  <tbody>\n",
       "    <tr>\n",
       "      <th>0</th>\n",
       "      <td>145442</td>\n",
       "      <td>147</td>\n",
       "      <td>Canasta 1</td>\n",
       "      <td>162807</td>\n",
       "      <td>6000</td>\n",
       "      <td>142</td>\n",
       "      <td>6000.000000</td>\n",
       "      <td>0.000000</td>\n",
       "      <td>SI</td>\n",
       "      <td>0.000000</td>\n",
       "      <td>100</td>\n",
       "      <td>0.0000</td>\n",
       "      <td>1.63</td>\n",
       "    </tr>\n",
       "    <tr>\n",
       "      <th>1</th>\n",
       "      <td>145444</td>\n",
       "      <td>147</td>\n",
       "      <td>Canasta 4</td>\n",
       "      <td>162806</td>\n",
       "      <td>6000</td>\n",
       "      <td>142</td>\n",
       "      <td>6000.000000</td>\n",
       "      <td>0.000000</td>\n",
       "      <td>SI</td>\n",
       "      <td>0.000000</td>\n",
       "      <td>110</td>\n",
       "      <td>0.2163</td>\n",
       "      <td>1.89</td>\n",
       "    </tr>\n",
       "    <tr>\n",
       "      <th>2</th>\n",
       "      <td>157169</td>\n",
       "      <td>147</td>\n",
       "      <td>Canasta 2</td>\n",
       "      <td>157637</td>\n",
       "      <td>8000</td>\n",
       "      <td>132</td>\n",
       "      <td>8000.000000</td>\n",
       "      <td>0.000000</td>\n",
       "      <td>SI</td>\n",
       "      <td>0.000000</td>\n",
       "      <td>95</td>\n",
       "      <td>0.1268</td>\n",
       "      <td>1.84</td>\n",
       "    </tr>\n",
       "    <tr>\n",
       "      <th>3</th>\n",
       "      <td>157171</td>\n",
       "      <td>147</td>\n",
       "      <td>Canasta 4</td>\n",
       "      <td>157634</td>\n",
       "      <td>11000</td>\n",
       "      <td>132</td>\n",
       "      <td>11000.000000</td>\n",
       "      <td>0.000000</td>\n",
       "      <td>SI</td>\n",
       "      <td>0.000000</td>\n",
       "      <td>115</td>\n",
       "      <td>0.2696</td>\n",
       "      <td>1.89</td>\n",
       "    </tr>\n",
       "    <tr>\n",
       "      <th>4</th>\n",
       "      <td>157178</td>\n",
       "      <td>147</td>\n",
       "      <td>Canasta 6</td>\n",
       "      <td>157635</td>\n",
       "      <td>11000</td>\n",
       "      <td>132</td>\n",
       "      <td>11000.000000</td>\n",
       "      <td>0.000000</td>\n",
       "      <td>SI</td>\n",
       "      <td>0.000000</td>\n",
       "      <td>127</td>\n",
       "      <td>0.3558</td>\n",
       "      <td>3.19</td>\n",
       "    </tr>\n",
       "    <tr>\n",
       "      <th>...</th>\n",
       "      <td>...</td>\n",
       "      <td>...</td>\n",
       "      <td>...</td>\n",
       "      <td>...</td>\n",
       "      <td>...</td>\n",
       "      <td>...</td>\n",
       "      <td>...</td>\n",
       "      <td>...</td>\n",
       "      <td>...</td>\n",
       "      <td>...</td>\n",
       "      <td>...</td>\n",
       "      <td>...</td>\n",
       "      <td>...</td>\n",
       "    </tr>\n",
       "    <tr>\n",
       "      <th>1412</th>\n",
       "      <td>167070</td>\n",
       "      <td>147</td>\n",
       "      <td>Canasta 4</td>\n",
       "      <td>167255</td>\n",
       "      <td>9000</td>\n",
       "      <td>142</td>\n",
       "      <td>3398.411536</td>\n",
       "      <td>5601.588464</td>\n",
       "      <td>SI</td>\n",
       "      <td>-0.622399</td>\n",
       "      <td>127</td>\n",
       "      <td>0.2365</td>\n",
       "      <td>1.89</td>\n",
       "    </tr>\n",
       "    <tr>\n",
       "      <th>1413</th>\n",
       "      <td>167202</td>\n",
       "      <td>0</td>\n",
       "      <td>Canasta 6</td>\n",
       "      <td>167259</td>\n",
       "      <td>9000</td>\n",
       "      <td>142</td>\n",
       "      <td>3398.411536</td>\n",
       "      <td>5601.588464</td>\n",
       "      <td>SI</td>\n",
       "      <td>-0.622399</td>\n",
       "      <td>0</td>\n",
       "      <td>0.3515</td>\n",
       "      <td>3.19</td>\n",
       "    </tr>\n",
       "    <tr>\n",
       "      <th>1414</th>\n",
       "      <td>166739</td>\n",
       "      <td>0</td>\n",
       "      <td>Canasta 9</td>\n",
       "      <td>167256</td>\n",
       "      <td>9000</td>\n",
       "      <td>142</td>\n",
       "      <td>3398.411536</td>\n",
       "      <td>5601.588464</td>\n",
       "      <td>SI</td>\n",
       "      <td>-0.622399</td>\n",
       "      <td>0</td>\n",
       "      <td>0.7024</td>\n",
       "      <td>13.17</td>\n",
       "    </tr>\n",
       "    <tr>\n",
       "      <th>1415</th>\n",
       "      <td>166784</td>\n",
       "      <td>137</td>\n",
       "      <td>Canasta 4</td>\n",
       "      <td>167257</td>\n",
       "      <td>9000</td>\n",
       "      <td>142</td>\n",
       "      <td>3398.411536</td>\n",
       "      <td>5601.588464</td>\n",
       "      <td>SI</td>\n",
       "      <td>-0.622399</td>\n",
       "      <td>110</td>\n",
       "      <td>0.2319</td>\n",
       "      <td>1.89</td>\n",
       "    </tr>\n",
       "    <tr>\n",
       "      <th>1416</th>\n",
       "      <td>166882</td>\n",
       "      <td>0</td>\n",
       "      <td>Canasta 8</td>\n",
       "      <td>167258</td>\n",
       "      <td>9000</td>\n",
       "      <td>142</td>\n",
       "      <td>3398.411536</td>\n",
       "      <td>5601.588464</td>\n",
       "      <td>SI</td>\n",
       "      <td>-0.622399</td>\n",
       "      <td>0</td>\n",
       "      <td>0.5473</td>\n",
       "      <td>7.48</td>\n",
       "    </tr>\n",
       "  </tbody>\n",
       "</table>\n",
       "<p>1417 rows × 13 columns</p>\n",
       "</div>"
      ],
      "text/plain": [
       "      id_distribuidor  tasa_sugerida grupo_riesgo  ID ASOCIADO  \\\n",
       "0              145442            147    Canasta 1       162807   \n",
       "1              145444            147    Canasta 4       162806   \n",
       "2              157169            147    Canasta 2       157637   \n",
       "3              157171            147    Canasta 4       157634   \n",
       "4              157178            147    Canasta 6       157635   \n",
       "...               ...            ...          ...          ...   \n",
       "1412           167070            147    Canasta 4       167255   \n",
       "1413           167202              0    Canasta 6       167259   \n",
       "1414           166739              0    Canasta 9       167256   \n",
       "1415           166784            137    Canasta 4       167257   \n",
       "1416           166882              0    Canasta 8       167258   \n",
       "\n",
       "      CAPITAL AUTORIZADO  TASA AUTORIZADA    RECUPERADO  NO RECUPERADO  \\\n",
       "0                   6000              142   6000.000000       0.000000   \n",
       "1                   6000              142   6000.000000       0.000000   \n",
       "2                   8000              132   8000.000000       0.000000   \n",
       "3                  11000              132  11000.000000       0.000000   \n",
       "4                  11000              132  11000.000000       0.000000   \n",
       "...                  ...              ...           ...            ...   \n",
       "1412                9000              142   3398.411536    5601.588464   \n",
       "1413                9000              142   3398.411536    5601.588464   \n",
       "1414                9000              142   3398.411536    5601.588464   \n",
       "1415                9000              142   3398.411536    5601.588464   \n",
       "1416                9000              142   3398.411536    5601.588464   \n",
       "\n",
       "     CERRADO  P COSECHA  tasa_minima  probabilidad  \\\n",
       "0         SI   0.000000          100        0.0000   \n",
       "1         SI   0.000000          110        0.2163   \n",
       "2         SI   0.000000           95        0.1268   \n",
       "3         SI   0.000000          115        0.2696   \n",
       "4         SI   0.000000          127        0.3558   \n",
       "...      ...        ...          ...           ...   \n",
       "1412      SI  -0.622399          127        0.2365   \n",
       "1413      SI  -0.622399            0        0.3515   \n",
       "1414      SI  -0.622399            0        0.7024   \n",
       "1415      SI  -0.622399          110        0.2319   \n",
       "1416      SI  -0.622399            0        0.5473   \n",
       "\n",
       "      perdida_cosecha_esperada_quilum  \n",
       "0                                1.63  \n",
       "1                                1.89  \n",
       "2                                1.84  \n",
       "3                                1.89  \n",
       "4                                3.19  \n",
       "...                               ...  \n",
       "1412                             1.89  \n",
       "1413                             3.19  \n",
       "1414                            13.17  \n",
       "1415                             1.89  \n",
       "1416                             7.48  \n",
       "\n",
       "[1417 rows x 13 columns]"
      ]
     },
     "execution_count": 11,
     "metadata": {},
     "output_type": "execute_result"
    }
   ],
   "source": [
    "data_resultado_quilum"
   ]
  },
  {
   "cell_type": "markdown",
   "id": "1e9c7925",
   "metadata": {},
   "source": [
    "## quash"
   ]
  },
  {
   "cell_type": "code",
   "execution_count": 12,
   "id": "932439d2",
   "metadata": {},
   "outputs": [],
   "source": [
    "def levenshtein_distance(word1, word2):\n",
    "    len1, len2 = len(word1), len(word2)\n",
    "    \n",
    "    # Crear una matriz para almacenar las distancias parciales\n",
    "    dp = [[0] * (len2 + 1) for _ in range(len1 + 1)]\n",
    "\n",
    "    # Inicializar la primera fila y columna\n",
    "    for i in range(len1 + 1):\n",
    "        dp[i][0] = i\n",
    "    for j in range(len2 + 1):\n",
    "        dp[0][j] = j\n",
    "\n",
    "    # Calcular las distancias parciales\n",
    "    for i in range(1, len1 + 1):\n",
    "        for j in range(1, len2 + 1):\n",
    "            cost = 0 if word1[i - 1] == word2[j - 1] else 1\n",
    "            dp[i][j] = min(dp[i - 1][j] + 1,      # Eliminación\n",
    "                           dp[i][j - 1] + 1,      # Inserción\n",
    "                           dp[i - 1][j - 1] + cost)  # Sustitución\n",
    "\n",
    "    # El resultado final está en la esquina inferior derecha de la matriz\n",
    "    return dp[len1][len2]\n",
    "\n",
    "\n",
    "def MostSimilar(word, list_):\n",
    "    word = str(word).upper()\n",
    "    min_distance = np.inf\n",
    "    index = 0\n",
    "    for i, element in enumerate(list_):\n",
    "        d = levenshtein_distance(element, word)\n",
    "        if d < min_distance:\n",
    "            min_distance = d\n",
    "            index = i\n",
    "            \n",
    "    return list_[index]"
   ]
  },
  {
   "cell_type": "code",
   "execution_count": null,
   "id": "cb121996",
   "metadata": {},
   "outputs": [],
   "source": []
  },
  {
   "cell_type": "code",
   "execution_count": 13,
   "id": "3599f124",
   "metadata": {},
   "outputs": [
    {
     "data": {
      "text/html": [
       "<div>\n",
       "<style scoped>\n",
       "    .dataframe tbody tr th:only-of-type {\n",
       "        vertical-align: middle;\n",
       "    }\n",
       "\n",
       "    .dataframe tbody tr th {\n",
       "        vertical-align: top;\n",
       "    }\n",
       "\n",
       "    .dataframe thead th {\n",
       "        text-align: right;\n",
       "    }\n",
       "</style>\n",
       "<table border=\"1\" class=\"dataframe\">\n",
       "  <thead>\n",
       "    <tr style=\"text-align: right;\">\n",
       "      <th></th>\n",
       "      <th>APPLICANT_ID</th>\n",
       "      <th>INGRESO_MENSUAL</th>\n",
       "      <th>GASTOS_FAMILIARES</th>\n",
       "      <th>OTROS_INGRESOS</th>\n",
       "      <th>INGRESO_NETO</th>\n",
       "      <th>DEPENDIENTES</th>\n",
       "      <th>VENTAS</th>\n",
       "      <th>EDAD</th>\n",
       "      <th>MONTO_MENSUAL_VENTA</th>\n",
       "      <th>COMPRAS</th>\n",
       "      <th>DELEGACION</th>\n",
       "      <th>DELEGACION_NEGOCIO</th>\n",
       "      <th>ESCOLARIDAD</th>\n",
       "      <th>ESTADO</th>\n",
       "      <th>ESTADO_CIVIL</th>\n",
       "      <th>ESTADO_NEGOCIO</th>\n",
       "      <th>SEXO</th>\n",
       "      <th>SUCURSAL</th>\n",
       "      <th>TIPO_NEGOCIO</th>\n",
       "      <th>TIPO_VIVIENDA</th>\n",
       "    </tr>\n",
       "  </thead>\n",
       "  <tbody>\n",
       "    <tr>\n",
       "      <th>0</th>\n",
       "      <td>145442</td>\n",
       "      <td>8000</td>\n",
       "      <td>800.0</td>\n",
       "      <td>2500</td>\n",
       "      <td>$10,800.00</td>\n",
       "      <td>2</td>\n",
       "      <td>2000</td>\n",
       "      <td>28481</td>\n",
       "      <td>8000</td>\n",
       "      <td>900</td>\n",
       "      <td>Tenango del Aire</td>\n",
       "      <td>Tenango del Aire</td>\n",
       "      <td>Secundaria</td>\n",
       "      <td>México</td>\n",
       "      <td>Soltera (o)</td>\n",
       "      <td>México</td>\n",
       "      <td>FEMENINO</td>\n",
       "      <td>AMECAMECA</td>\n",
       "      <td>CALZADO REPARACION Y VENTA</td>\n",
       "      <td>Familiar</td>\n",
       "    </tr>\n",
       "    <tr>\n",
       "      <th>1</th>\n",
       "      <td>145444</td>\n",
       "      <td>12200</td>\n",
       "      <td>0.0</td>\n",
       "      <td>1000</td>\n",
       "      <td>$12,200.00</td>\n",
       "      <td>0</td>\n",
       "      <td>4000</td>\n",
       "      <td>25963</td>\n",
       "      <td>16000</td>\n",
       "      <td>1500</td>\n",
       "      <td>Tenango del Aire</td>\n",
       "      <td>Tenango del Aire</td>\n",
       "      <td>Tecnico</td>\n",
       "      <td>México</td>\n",
       "      <td>Casada (o)</td>\n",
       "      <td>México</td>\n",
       "      <td>FEMENINO</td>\n",
       "      <td>AMECAMECA</td>\n",
       "      <td>VENTA DE ALIMENTOS</td>\n",
       "      <td>Familiar</td>\n",
       "    </tr>\n",
       "    <tr>\n",
       "      <th>2</th>\n",
       "      <td>157169</td>\n",
       "      <td>16000</td>\n",
       "      <td>1300.0</td>\n",
       "      <td>2100</td>\n",
       "      <td>$9,600.00</td>\n",
       "      <td>1</td>\n",
       "      <td>4000</td>\n",
       "      <td>32993</td>\n",
       "      <td>16000</td>\n",
       "      <td>1300</td>\n",
       "      <td>Nezahualcóyotl</td>\n",
       "      <td>Nezahualcóyotl</td>\n",
       "      <td>Tecnico</td>\n",
       "      <td>México</td>\n",
       "      <td>Casada (o)</td>\n",
       "      <td>México</td>\n",
       "      <td>FEMENINO</td>\n",
       "      <td>NEZAHUALCOYOTL 2</td>\n",
       "      <td>VENTA DE ROPA</td>\n",
       "      <td>Familiar</td>\n",
       "    </tr>\n",
       "    <tr>\n",
       "      <th>3</th>\n",
       "      <td>157171</td>\n",
       "      <td>10000</td>\n",
       "      <td>1000.0</td>\n",
       "      <td>1500</td>\n",
       "      <td>$6,800.00</td>\n",
       "      <td>3</td>\n",
       "      <td>2500</td>\n",
       "      <td>36433</td>\n",
       "      <td>10000</td>\n",
       "      <td>1200</td>\n",
       "      <td>Nezahualcóyotl</td>\n",
       "      <td>Nezahualcóyotl</td>\n",
       "      <td>Bachillerato</td>\n",
       "      <td>México</td>\n",
       "      <td>Unión Libre</td>\n",
       "      <td>México</td>\n",
       "      <td>FEMENINO</td>\n",
       "      <td>NEZAHUALCOYOTL 2</td>\n",
       "      <td>VENTA DE ROPA</td>\n",
       "      <td>Familiar</td>\n",
       "    </tr>\n",
       "    <tr>\n",
       "      <th>4</th>\n",
       "      <td>157178</td>\n",
       "      <td>14000</td>\n",
       "      <td>1700.0</td>\n",
       "      <td>2500</td>\n",
       "      <td>$9,100.00</td>\n",
       "      <td>0</td>\n",
       "      <td>3500</td>\n",
       "      <td>26013</td>\n",
       "      <td>14000</td>\n",
       "      <td>1800</td>\n",
       "      <td>Nezahualcóyotl</td>\n",
       "      <td>Nezahualcóyotl</td>\n",
       "      <td>Secundaria</td>\n",
       "      <td>México</td>\n",
       "      <td>Soltera (o)</td>\n",
       "      <td>México</td>\n",
       "      <td>FEMENINO</td>\n",
       "      <td>NEZAHUALCOYOTL 2</td>\n",
       "      <td>JOYERIA/BISUTERIA/FUNDICION</td>\n",
       "      <td>Familiar</td>\n",
       "    </tr>\n",
       "    <tr>\n",
       "      <th>...</th>\n",
       "      <td>...</td>\n",
       "      <td>...</td>\n",
       "      <td>...</td>\n",
       "      <td>...</td>\n",
       "      <td>...</td>\n",
       "      <td>...</td>\n",
       "      <td>...</td>\n",
       "      <td>...</td>\n",
       "      <td>...</td>\n",
       "      <td>...</td>\n",
       "      <td>...</td>\n",
       "      <td>...</td>\n",
       "      <td>...</td>\n",
       "      <td>...</td>\n",
       "      <td>...</td>\n",
       "      <td>...</td>\n",
       "      <td>...</td>\n",
       "      <td>...</td>\n",
       "      <td>...</td>\n",
       "      <td>...</td>\n",
       "    </tr>\n",
       "    <tr>\n",
       "      <th>1412</th>\n",
       "      <td>167070</td>\n",
       "      <td>11200</td>\n",
       "      <td>1500.0</td>\n",
       "      <td>2000</td>\n",
       "      <td>$5,200.00</td>\n",
       "      <td>1</td>\n",
       "      <td>2800</td>\n",
       "      <td>28245</td>\n",
       "      <td>11200</td>\n",
       "      <td>1500</td>\n",
       "      <td>Milpa Alta</td>\n",
       "      <td>Milpa Alta</td>\n",
       "      <td>Secundaria</td>\n",
       "      <td>Distrito Federal</td>\n",
       "      <td>Unión Libre</td>\n",
       "      <td>Distrito Federal</td>\n",
       "      <td>FEMENINO</td>\n",
       "      <td>MILPA ALTA</td>\n",
       "      <td>VENTA DE ROPA</td>\n",
       "      <td>Propia</td>\n",
       "    </tr>\n",
       "    <tr>\n",
       "      <th>1413</th>\n",
       "      <td>167202</td>\n",
       "      <td>11200</td>\n",
       "      <td>1400.0</td>\n",
       "      <td>1800</td>\n",
       "      <td>$4,400.00</td>\n",
       "      <td>1</td>\n",
       "      <td>2800</td>\n",
       "      <td>33246</td>\n",
       "      <td>11200</td>\n",
       "      <td>1500</td>\n",
       "      <td>Milpa Alta</td>\n",
       "      <td>Milpa Alta</td>\n",
       "      <td>Secundaria</td>\n",
       "      <td>Distrito Federal</td>\n",
       "      <td>Unión Libre</td>\n",
       "      <td>Distrito Federal</td>\n",
       "      <td>FEMENINO</td>\n",
       "      <td>MILPA ALTA</td>\n",
       "      <td>VENTA DE ROPA</td>\n",
       "      <td>Familiar</td>\n",
       "    </tr>\n",
       "    <tr>\n",
       "      <th>1414</th>\n",
       "      <td>166739</td>\n",
       "      <td>29600</td>\n",
       "      <td>1700.0</td>\n",
       "      <td>2300</td>\n",
       "      <td>$6,400.00</td>\n",
       "      <td>2</td>\n",
       "      <td>7400</td>\n",
       "      <td>36106</td>\n",
       "      <td>29600</td>\n",
       "      <td>4000</td>\n",
       "      <td>Milpa Alta</td>\n",
       "      <td>Milpa Alta</td>\n",
       "      <td>Secundaria</td>\n",
       "      <td>Distrito Federal</td>\n",
       "      <td>Unión Libre</td>\n",
       "      <td>Distrito Federal</td>\n",
       "      <td>FEMENINO</td>\n",
       "      <td>MILPA ALTA</td>\n",
       "      <td>ANIMALES/VETERINARIA</td>\n",
       "      <td>Propia</td>\n",
       "    </tr>\n",
       "    <tr>\n",
       "      <th>1415</th>\n",
       "      <td>166784</td>\n",
       "      <td>9600</td>\n",
       "      <td>1100.0</td>\n",
       "      <td>2400</td>\n",
       "      <td>$8,000.00</td>\n",
       "      <td>0</td>\n",
       "      <td>2400</td>\n",
       "      <td>24845</td>\n",
       "      <td>9600</td>\n",
       "      <td>1400</td>\n",
       "      <td>Milpa Alta</td>\n",
       "      <td>Milpa Alta</td>\n",
       "      <td>Secundaria</td>\n",
       "      <td>Distrito Federal</td>\n",
       "      <td>Unión Libre</td>\n",
       "      <td>Distrito Federal</td>\n",
       "      <td>FEMENINO</td>\n",
       "      <td>MILPA ALTA</td>\n",
       "      <td>VENTA DE ROPA</td>\n",
       "      <td>Propia</td>\n",
       "    </tr>\n",
       "    <tr>\n",
       "      <th>1416</th>\n",
       "      <td>166882</td>\n",
       "      <td>8000</td>\n",
       "      <td>3650.0</td>\n",
       "      <td>5000</td>\n",
       "      <td>$10,800.00</td>\n",
       "      <td>1</td>\n",
       "      <td>2000</td>\n",
       "      <td>30135</td>\n",
       "      <td>8000</td>\n",
       "      <td>400</td>\n",
       "      <td>Milpa Alta</td>\n",
       "      <td>Milpa Alta</td>\n",
       "      <td>Secundaria</td>\n",
       "      <td>Distrito Federal</td>\n",
       "      <td>Unión Libre</td>\n",
       "      <td>Distrito Federal</td>\n",
       "      <td>FEMENINO</td>\n",
       "      <td>MILPA ALTA</td>\n",
       "      <td>VENTA DE ROPA</td>\n",
       "      <td>Propia</td>\n",
       "    </tr>\n",
       "  </tbody>\n",
       "</table>\n",
       "<p>1417 rows × 20 columns</p>\n",
       "</div>"
      ],
      "text/plain": [
       "      APPLICANT_ID  INGRESO_MENSUAL  GASTOS_FAMILIARES  OTROS_INGRESOS  \\\n",
       "0           145442             8000              800.0            2500   \n",
       "1           145444            12200                0.0            1000   \n",
       "2           157169            16000             1300.0            2100   \n",
       "3           157171            10000             1000.0            1500   \n",
       "4           157178            14000             1700.0            2500   \n",
       "...            ...              ...                ...             ...   \n",
       "1412        167070            11200             1500.0            2000   \n",
       "1413        167202            11200             1400.0            1800   \n",
       "1414        166739            29600             1700.0            2300   \n",
       "1415        166784             9600             1100.0            2400   \n",
       "1416        166882             8000             3650.0            5000   \n",
       "\n",
       "     INGRESO_NETO  DEPENDIENTES  VENTAS   EDAD MONTO_MENSUAL_VENTA  COMPRAS  \\\n",
       "0      $10,800.00             2    2000  28481                8000      900   \n",
       "1      $12,200.00             0    4000  25963               16000     1500   \n",
       "2       $9,600.00             1    4000  32993               16000     1300   \n",
       "3       $6,800.00             3    2500  36433               10000     1200   \n",
       "4       $9,100.00             0    3500  26013               14000     1800   \n",
       "...           ...           ...     ...    ...                 ...      ...   \n",
       "1412    $5,200.00             1    2800  28245               11200     1500   \n",
       "1413    $4,400.00             1    2800  33246               11200     1500   \n",
       "1414    $6,400.00             2    7400  36106               29600     4000   \n",
       "1415    $8,000.00             0    2400  24845                9600     1400   \n",
       "1416   $10,800.00             1    2000  30135                8000      400   \n",
       "\n",
       "            DELEGACION DELEGACION_NEGOCIO   ESCOLARIDAD            ESTADO  \\\n",
       "0     Tenango del Aire   Tenango del Aire    Secundaria            México   \n",
       "1     Tenango del Aire   Tenango del Aire       Tecnico            México   \n",
       "2       Nezahualcóyotl     Nezahualcóyotl       Tecnico            México   \n",
       "3       Nezahualcóyotl     Nezahualcóyotl  Bachillerato            México   \n",
       "4       Nezahualcóyotl     Nezahualcóyotl    Secundaria            México   \n",
       "...                ...                ...           ...               ...   \n",
       "1412        Milpa Alta         Milpa Alta    Secundaria  Distrito Federal   \n",
       "1413        Milpa Alta         Milpa Alta    Secundaria  Distrito Federal   \n",
       "1414        Milpa Alta         Milpa Alta    Secundaria  Distrito Federal   \n",
       "1415        Milpa Alta         Milpa Alta    Secundaria  Distrito Federal   \n",
       "1416        Milpa Alta         Milpa Alta    Secundaria  Distrito Federal   \n",
       "\n",
       "     ESTADO_CIVIL    ESTADO_NEGOCIO      SEXO          SUCURSAL  \\\n",
       "0     Soltera (o)            México  FEMENINO         AMECAMECA   \n",
       "1      Casada (o)            México  FEMENINO         AMECAMECA   \n",
       "2      Casada (o)            México  FEMENINO  NEZAHUALCOYOTL 2   \n",
       "3     Unión Libre            México  FEMENINO  NEZAHUALCOYOTL 2   \n",
       "4     Soltera (o)            México  FEMENINO  NEZAHUALCOYOTL 2   \n",
       "...           ...               ...       ...               ...   \n",
       "1412  Unión Libre  Distrito Federal  FEMENINO        MILPA ALTA   \n",
       "1413  Unión Libre  Distrito Federal  FEMENINO        MILPA ALTA   \n",
       "1414  Unión Libre  Distrito Federal  FEMENINO        MILPA ALTA   \n",
       "1415  Unión Libre  Distrito Federal  FEMENINO        MILPA ALTA   \n",
       "1416  Unión Libre  Distrito Federal  FEMENINO        MILPA ALTA   \n",
       "\n",
       "                     TIPO_NEGOCIO TIPO_VIVIENDA  \n",
       "0      CALZADO REPARACION Y VENTA      Familiar  \n",
       "1              VENTA DE ALIMENTOS      Familiar  \n",
       "2                   VENTA DE ROPA      Familiar  \n",
       "3                   VENTA DE ROPA      Familiar  \n",
       "4     JOYERIA/BISUTERIA/FUNDICION      Familiar  \n",
       "...                           ...           ...  \n",
       "1412                VENTA DE ROPA        Propia  \n",
       "1413                VENTA DE ROPA      Familiar  \n",
       "1414         ANIMALES/VETERINARIA        Propia  \n",
       "1415                VENTA DE ROPA        Propia  \n",
       "1416                VENTA DE ROPA        Propia  \n",
       "\n",
       "[1417 rows x 20 columns]"
      ]
     },
     "execution_count": 13,
     "metadata": {},
     "output_type": "execute_result"
    }
   ],
   "source": [
    "data_modelo"
   ]
  },
  {
   "cell_type": "code",
   "execution_count": 14,
   "id": "c31b023a",
   "metadata": {},
   "outputs": [],
   "source": [
    "data_modelo.INGRESO_MENSUAL = data_modelo.INGRESO_MENSUAL.astype(int)\n",
    "data_modelo.GASTOS_FAMILIARES = data_modelo.GASTOS_FAMILIARES.astype(int)\n",
    "data_modelo.OTROS_INGRESOS = data_modelo.OTROS_INGRESOS.astype(int)\n",
    "data_modelo.COMPRAS = data_modelo.COMPRAS.astype(int)"
   ]
  },
  {
   "cell_type": "code",
   "execution_count": 15,
   "id": "0ead29d7",
   "metadata": {},
   "outputs": [],
   "source": [
    "data_modelo = data_modelo.loc[data_modelo.MONTO_MENSUAL_VENTA != '4 ANOS']"
   ]
  },
  {
   "cell_type": "code",
   "execution_count": 16,
   "id": "e0dc5d82",
   "metadata": {},
   "outputs": [
    {
     "name": "stderr",
     "output_type": "stream",
     "text": [
      "C:\\Users\\CIENTIFICO DE DATOS\\AppData\\Local\\Temp\\ipykernel_12504\\1086178666.py:2: FutureWarning: The default value of regex will change from True to False in a future version. In addition, single character regular expressions will *not* be treated as literal strings when regex=True.\n",
      "  data_modelo.MONTO_MENSUAL_VENTA = data_modelo.MONTO_MENSUAL_VENTA.str.replace(\"$\", \"\").str.replace(\"|\", \"\").str.replace(\",\", \"\").astype(float).astype(int)\n",
      "C:\\Users\\CIENTIFICO DE DATOS\\AppData\\Local\\Temp\\ipykernel_12504\\1086178666.py:2: SettingWithCopyWarning: \n",
      "A value is trying to be set on a copy of a slice from a DataFrame.\n",
      "Try using .loc[row_indexer,col_indexer] = value instead\n",
      "\n",
      "See the caveats in the documentation: https://pandas.pydata.org/pandas-docs/stable/user_guide/indexing.html#returning-a-view-versus-a-copy\n",
      "  data_modelo.MONTO_MENSUAL_VENTA = data_modelo.MONTO_MENSUAL_VENTA.str.replace(\"$\", \"\").str.replace(\"|\", \"\").str.replace(\",\", \"\").astype(float).astype(int)\n"
     ]
    }
   ],
   "source": [
    "#data_modelo.MONTO_MENSUAL_VENTA = \n",
    "data_modelo.MONTO_MENSUAL_VENTA = data_modelo.MONTO_MENSUAL_VENTA.str.replace(\"$\", \"\").str.replace(\"|\", \"\").str.replace(\",\", \"\").astype(float).astype(int)"
   ]
  },
  {
   "cell_type": "code",
   "execution_count": 17,
   "id": "45f19875",
   "metadata": {},
   "outputs": [],
   "source": [
    "ids = \", \".join(data_modelo.APPLICANT_ID.unique().astype(str))\n",
    "\n",
    "cnx = pymysql.connect(host='159.89.90.197', port = 3306, user='antonio_diaz', passwd=\"4nT0ni_0.dZ\",\n",
    "                       charset='utf8',db = 'volana')\n",
    "\n",
    "cursor = cnx.cursor()\n",
    "sql = f\"\"\"\n",
    "select id as 'APPLICANT_ID', TIMESTAMPDIFF(YEAR, fecha_nacimiento, CURDATE()) AS EDAD from\n",
    "(select id, fecha_nacimiento from demograficos_distribuidores\n",
    "union\n",
    "select id, fecha_nacimiento from cc_prospectos_demograficos) as pen\n",
    "where pen.id in ({ids})\n",
    "\"\"\"\n",
    "\n",
    "cursor.execute(sql)\n",
    "edad = cursor.fetchall()\n",
    "edad = pd.DataFrame(edad, columns=[i[0] for i in cursor.description])"
   ]
  },
  {
   "cell_type": "code",
   "execution_count": 18,
   "id": "e4604d74",
   "metadata": {},
   "outputs": [],
   "source": [
    "edad.APPLICANT_ID = edad.APPLICANT_ID.astype(int)\n",
    "edad.EDAD = edad.EDAD.astype(int)"
   ]
  },
  {
   "cell_type": "code",
   "execution_count": 19,
   "id": "811b0f8d",
   "metadata": {},
   "outputs": [],
   "source": [
    "data_modelo = data_modelo.drop(\"EDAD\", axis = 1).merge(edad, on = 'APPLICANT_ID')"
   ]
  },
  {
   "cell_type": "code",
   "execution_count": 20,
   "id": "abc95261",
   "metadata": {},
   "outputs": [],
   "source": [
    "data_modelo = data_modelo[['APPLICANT_ID', 'INGRESO_MENSUAL', 'GASTOS_FAMILIARES',\n",
    "       'OTROS_INGRESOS', 'INGRESO_NETO', 'DEPENDIENTES', 'VENTAS', 'EDAD',\n",
    "       'MONTO_MENSUAL_VENTA', 'COMPRAS', 'DELEGACION', 'DELEGACION_NEGOCIO',\n",
    "       'ESCOLARIDAD', 'ESTADO', 'ESTADO_CIVIL', 'ESTADO_NEGOCIO', 'SEXO',\n",
    "       'SUCURSAL', 'TIPO_NEGOCIO', 'TIPO_VIVIENDA']]"
   ]
  },
  {
   "cell_type": "code",
   "execution_count": 21,
   "id": "5ecb5123",
   "metadata": {},
   "outputs": [
    {
     "name": "stderr",
     "output_type": "stream",
     "text": [
      "C:\\Users\\CIENTIFICO DE DATOS\\AppData\\Local\\Temp\\ipykernel_12504\\4118494542.py:1: FutureWarning: The default value of regex will change from True to False in a future version. In addition, single character regular expressions will *not* be treated as literal strings when regex=True.\n",
      "  data_modelo.INGRESO_NETO = data_modelo.INGRESO_NETO.str.replace(\"$\", \"\").str.replace(\",\", \"\").astype(float).astype(int)\n"
     ]
    }
   ],
   "source": [
    "data_modelo.INGRESO_NETO = data_modelo.INGRESO_NETO.str.replace(\"$\", \"\").str.replace(\",\", \"\").astype(float).astype(int)"
   ]
  },
  {
   "cell_type": "code",
   "execution_count": 22,
   "id": "15469faa",
   "metadata": {
    "scrolled": true
   },
   "outputs": [],
   "source": [
    "DELGACIONES = [\n",
    "    \"CENTRO\", \"CHALCO\", \"CHICOLOAPAN\", \"CHIMALHUACAN\", \"IXTAPALUCA\", \"IZTAPALAPA\", \"LA_PAZ\", \"NEZAHUALCOYOTL\",\n",
    "    \"VALLE_DE_CHALCO_SOLIDARIDAD\", \"ACAMBAY\", \"ACOLMAN\", \"AMATLAN_DE_LOS_REYES\", \"AMECAMECA\", \"ATENCO\", \"ATLAUTLA\",\n",
    "    \"ATOYAC\", \"ATZACAN\", \"AYAPANGO\", \"BENITO_JUAREZ\", \"CAMERINO_Z._MENDOZA\", \"CARDENAS\", \"CHIAUTLA\", \"CHICONCUAC\",\n",
    "    \"CHOCAMAN\", \"COATZACOALCOS\", \"COMALCALCO\", \"CORDOBA\", \"COSCOMATEPEC\", \"COSOLEACAQUE\", \"CUAUHTEMOC\", \"CUITLAHUAC\",\n",
    "    \"CUNDUACAN\", \"ECATEPEC_DE_MORELOS\", \"ECATZINGO\", \"FORTIN\", \"GUADALAJARA\", \"GUSTAVO_A._MADERO\", \"HUATUSCO\",\n",
    "    \"HUILOAPAN_DE_CUAUHTEMOC\", \"HUIMANGUILLO\", \"HUIXQUILUCAN\", \"IXHUATLANCILLO\", \"IXTACZOQUITLAN\",\n",
    "    \"IXTLAHUACAN_DE_LOS_MEMBRILLOS\", \"IZTACALCO\", \"JUCHITEPEC\", \"LA_PERLA\", \"MACUSPANA\", \"MARIANO_ESCOBEDO\",\n",
    "    \"MILPA_ALTA\", \"MINATITLAN\", \"NACAJUCA\", \"NANCHITAL_DE_LAZARO_CARDENAS_DEL_RIO\", \"NARANJAL\", \"NOGALES\",\n",
    "    \"OMEALCA\", \"ORIZABA\", \"OZUMBA\", \"PAPALOTLA\", \"RAFAEL_DELGADO\", \"RIO_BLANCO\", \"TEMAMATLA\", \"TENANGO_DEL_AIRE\",\n",
    "    \"TEOTIHUACAN\", \"TEPETLAOXTOC\", \"TEPETLIXPA\", \"TEPOTZOTLAN\", \"TEQUILA\", \"TEXCOCO\", \"TEZOYUCA\", \"TLAHUAC\",\n",
    "    \"TLAJOMULCO_DE_ZUNIGA\", \"TLALMANALCO\", \"TLAQUEPAQUE\", \"TLILAPAN\", \"TOMATLAN\", \"TONALA\", \"VENUSTIANO_CARRANZA\",\n",
    "    \"XOCHIMILCO\", \"ZAPOPAN\", \"ZAPOTLANEJO\"\n",
    "]\n",
    "ESCOLARIDADES = [\n",
    "    \"BACHILLERATO\", \"LICENCIATURA\", \"PRIMARIA\", \"SECUNDARIA\", \"TECNICO\", \"OTRO\", \"SIN_ESTUDIOS\"\n",
    "]\n",
    "ESTADOS = [\n",
    "    \"DISTRITO_FEDERAL\", \"JALISCO\", \"MEXICO\", \"TABASCO\", \"VERACRUZ_DE_IGNACIO_DE_LA_LLAVE\", \"QUINTANA_ROO\"\n",
    "]\n",
    "ESTADOS_CIVILES = [\n",
    "    \"CASADO\", \"SOLTERO\", \"UNION LIBRE\", \"VIUDO\", \"DIVORCIADO\", \"SEPARADO\"\n",
    "]\n",
    "SUCURSALES = [\n",
    "    \"AMECAMECA\", \"CARDENAS\", \"CHALCO\", \"CHIMALHUACAN_2\", \"COATZACOALCOS\", \"FORTIN\", \"IXTAPALUCA\", \"IXTAPALUCA_2\",\n",
    "    \"NEZAHUALCOYOTL_2\", \"ORIZABA\", \"TEXCOCO\", \"TONALA\", \"TONALA_2\", \"VILLAHERMOSA\", \"IZTAPALAPA\", \"MILPA_ALTA\",\n",
    "    \"TEXCOCO_2\", \"TLAHUAC\"\n",
    "]\n",
    "TIPOS_NEGOCIO = [\n",
    "    \"ABARROTES/MISCELANEAS/PERECEDEROS\", \"BELLEZA/SALON/ESTETICA/BARBERIA\", \"CALZADO_REPARACION_Y_VENTA\",\n",
    "    \"FABRICA/TALLER/ELABORACION/REPARACION\", \"FRUTAS/VERDURAS/SEMILLAS/CAMPO/AGROPECUARIAS\",\n",
    "    \"JOYERIA/BISUTERIA/FUNDICION\", \"VENTA_DE_ALIMENTOS\", \"VENTA_DE_ROPA\", \"VENTA_POR_CATALOGO\", \"AGUA/POTABLE/RESIDUAL\",\n",
    "    \"AMEDICINA/SALUD/FARMACIA\", \"ANIMALES/VETERINARIA\", \"ARTE/ARTESANIAS\", \"CAFEINTERNET\",\n",
    "    \"CARNICERIA/POLLERIA/RASTRO\", \"CERRAJERIA\", \"COMBUSTIBLES/GAS/GASOLINA\", \"DEPORTES/GIMNASIO\",\n",
    "    \"DESPERDICIOS/RESIDUOS/RECICLAJE\", \"DISTRIBUIDOR_CON_EXPERIENCIA\", \"EDUCACION/ESCUELAS/CENTRO_DE_CAPACITACION\",\n",
    "    \"ELECTRICISTA\", \"EVENTOS/SALONES/SILLAS/MESAS\", \"FLORES/ARREGLOS\", \"FOTOGRAFIA/VIDEO\", \"HERRERIA\",\n",
    "    \"IMPRENTA/SERIGRAFIA/ROTULOS\", \"JARCIERIA\", \"LAVANDERIA/TINTORERIA/PLANCHADURIA\", \"MADERA/CARPINTERIA/EBANISTA\",\n",
    "    \"MECANICA_AUTOMOTRIZ/INDUSTRIAL\", \"PANADERIA\", \"PAPELERIA\", \"PLOMERIA\", \"TLAPALERIA/FERRETERIA/MATERIALES_DE_CONSTRUCCION\",\n",
    "    \"TORTILLERIA/MOLINO\", \"VENTA_DE_AUTOS/MOTOCICLETAS/LOTES/AUTOPARTES\", \"VENTA_DE_CALZADO\",\n",
    "    \"VENTA_DE_CELULARES/TECNOLOGIA\", \"VENTA_DE_COMIDA\", \"VENTA_DE_MUEBLES/ELECTRONICOS/ELECTRODOMESTICOS\"\n",
    "]\n",
    "TIPOS_VIVIENDA = [\n",
    "    \"FAMILIAR\", \"PROPIA\", \"RENTADA\", \"OTRO\"\n",
    "]\n"
   ]
  },
  {
   "cell_type": "code",
   "execution_count": null,
   "id": "f587fd74",
   "metadata": {},
   "outputs": [],
   "source": [
    "data_modelo.DELEGACION = data_modelo.DELEGACION.apply(MostSimilar, list_ = DELGACIONES)\n",
    "data_modelo.DELEGACION_NEGOCIO = data_modelo.DELEGACION_NEGOCIO.apply(MostSimilar, list_ = DELGACIONES)\n",
    "data_modelo.ESCOLARIDAD = data_modelo.ESCOLARIDAD.apply(MostSimilar, list_ = ESCOLARIDADES)\n",
    "data_modelo.ESTADO = data_modelo.ESTADO.apply(MostSimilar, list_ = ESTADOS)\n",
    "data_modelo.ESTADO_NEGOCIO = data_modelo.ESTADO_NEGOCIO.apply(MostSimilar, list_ = ESTADOS)\n",
    "data_modelo.SUCURSAL = data_modelo.SUCURSAL.apply(MostSimilar, list_ = SUCURSALES)\n",
    "data_modelo.TIPO_NEGOCIO = data_modelo.TIPO_NEGOCIO.apply(MostSimilar, list_ = TIPOS_NEGOCIO)\n",
    "data_modelo.TIPO_VIVIENDA = data_modelo.TIPO_VIVIENDA.apply(MostSimilar, list_ = TIPOS_VIVIENDA)\n",
    "data_modelo.ESTADO_CIVIL = data_modelo.ESTADO_CIVIL.apply(MostSimilar, list_ = ESTADOS_CIVILES)"
   ]
  },
  {
   "cell_type": "code",
   "execution_count": null,
   "id": "fe15d347",
   "metadata": {},
   "outputs": [],
   "source": [
    "data_modelo.dtypes"
   ]
  },
  {
   "cell_type": "code",
   "execution_count": null,
   "id": "87408e3e",
   "metadata": {},
   "outputs": [],
   "source": [
    "data_modelo.MONTO_MENSUAL_VENTA.mean()"
   ]
  },
  {
   "cell_type": "code",
   "execution_count": 24,
   "id": "0a6c1c4f",
   "metadata": {},
   "outputs": [],
   "source": [
    "data_modelo.to_csv(\"./data/modelo_quash_cleand.csv\", index = False)"
   ]
  },
  {
   "cell_type": "code",
   "execution_count": 25,
   "id": "0158b276",
   "metadata": {},
   "outputs": [],
   "source": [
    "consulta = data_modelo.to_dict('records')"
   ]
  },
  {
   "cell_type": "code",
   "execution_count": 48,
   "id": "38a2d5d0",
   "metadata": {},
   "outputs": [],
   "source": [
    "import json\n",
    "with open('./data/datos_finales.json', 'w') as f:\n",
    "    json.dump(consulta[:1], f)\n",
    "with open('./data/datos2.json', 'w') as f:\n",
    "    json.dump(consulta[400:800], f)\n",
    "with open('./data/datos3.json', 'w') as f:\n",
    "    json.dump(consulta[800:], f)"
   ]
  },
  {
   "cell_type": "code",
   "execution_count": 49,
   "id": "e69fffed",
   "metadata": {},
   "outputs": [],
   "source": [
    "resultado_final = []\n",
    "DATA = \"./data/prueba.json\""
   ]
  },
  {
   "cell_type": "code",
   "execution_count": 50,
   "id": "8c0a5068",
   "metadata": {},
   "outputs": [
    {
     "name": "stdout",
     "output_type": "stream",
     "text": [
      "<Response [422]> {\"detail\":[{\"loc\":[\"body\"],\"msg\":\"value is not a valid dict\",\"type\":\"type_error.dict\"}]}\n"
     ]
    },
    {
     "name": "stderr",
     "output_type": "stream",
     "text": [
      "ERROR: Could not consume arg: -f\n",
      "Usage: ipykernel_launcher.py -\n",
      "\n",
      "For detailed information on this command, run:\n",
      "  ipykernel_launcher.py - --help\n"
     ]
    },
    {
     "ename": "FireExit",
     "evalue": "2",
     "output_type": "error",
     "traceback": [
      "An exception has occurred, use %tb to see the full traceback.\n",
      "\u001b[1;31mFireExit\u001b[0m\u001b[1;31m:\u001b[0m 2\n"
     ]
    },
    {
     "name": "stderr",
     "output_type": "stream",
     "text": [
      "C:\\Users\\CIENTIFICO DE DATOS\\anaconda3\\Lib\\site-packages\\IPython\\core\\interactiveshell.py:3513: UserWarning: To exit: use 'exit', 'quit', or Ctrl-D.\n",
      "  warn(\"To exit: use 'exit', 'quit', or Ctrl-D.\", stacklevel=1)\n"
     ]
    }
   ],
   "source": [
    "def predict_test(url=URL,data=DATA,endpoint=ENDPOINT):\n",
    "    with open(data,'r') as _:\n",
    "        global resultado_final\n",
    "        j_data = json.load(_)\n",
    "        headers = {'content-type': 'application/json',\n",
    "\n",
    "        'Accept-Charset': 'UTF-8',\n",
    "        'apikey': APIKEY,\n",
    "        'x-customer': 'volana'}\n",
    "\n",
    "        \n",
    "        r = requests.post(url + endpoint, data=json.dumps(j_data), headers=headers)\n",
    "        resultado_final.append(r.text)\n",
    "        print(r, r.text)\n",
    "\n",
    "DATA = \"./data/datos_finales.json\"\n",
    "fire.Fire(predict_test)\n",
    "\"\"\"\n",
    "DATA = \"./data/datos2.json\"\n",
    "fire.Fire(predict_test)\n",
    "DATA = \"./data/datos3.json\"\n",
    "fire.Fire(predict_test)\n",
    "\"\"\""
   ]
  },
  {
   "cell_type": "code",
   "execution_count": null,
   "id": "95483341",
   "metadata": {},
   "outputs": [],
   "source": []
  },
  {
   "cell_type": "code",
   "execution_count": 31,
   "id": "09db9231",
   "metadata": {},
   "outputs": [],
   "source": [
    "#res = eval('{\"label\":\"RECHAZADO\",\"approval_score\":0.9019488096,\"applicant_id\":145442},{\"label\":\"RECHAZADO\",\"approval_score\":0.9015035629,\"applicant_id\":145444},{\"label\":\"RECHAZADO\",\"approval_score\":0.7351661921,\"applicant_id\":153407},{\"label\":\"RECHAZADO\",\"approval_score\":0.7175387144,\"applicant_id\":153409},{\"label\":\"RECHAZADO\",\"approval_score\":0.7581064105,\"applicant_id\":153432},{\"label\":\"RECHAZADO\",\"approval_score\":0.8035281301,\"applicant_id\":154896},{\"label\":\"RECHAZADO\",\"approval_score\":0.7193772793,\"applicant_id\":153341},{\"label\":\"RECHAZADO\",\"approval_score\":0.8218942881,\"applicant_id\":154845},{\"label\":\"RECHAZADO\",\"approval_score\":0.7364771962,\"applicant_id\":155619},{\"label\":\"RECHAZADO\",\"approval_score\":0.8450671434,\"applicant_id\":155621},{\"label\":\"RECHAZADO\",\"approval_score\":0.8282639384,\"applicant_id\":155668},{\"label\":\"RECHAZADO\",\"approval_score\":0.823515594,\"applicant_id\":156076},{\"label\":\"RECHAZADO\",\"approval_score\":0.9194760323,\"applicant_id\":160463},{\"label\":\"RECHAZADO\",\"approval_score\":0.8492922187,\"applicant_id\":157745},{\"label\":\"RECHAZADO\",\"approval_score\":0.9079632759,\"applicant_id\":156047},{\"label\":\"RECHAZADO\",\"approval_score\":0.9009953141,\"applicant_id\":156049},{\"label\":\"RECHAZADO\",\"approval_score\":0.7727083564,\"applicant_id\":156050},{\"label\":\"RECHAZADO\",\"approval_score\":0.926410675,\"applicant_id\":156149},{\"label\":\"RECHAZADO\",\"approval_score\":0.9099008441,\"applicant_id\":156152},{\"label\":\"RECHAZADO\",\"approval_score\":0.8795152307,\"applicant_id\":159006},{\"label\":\"RECHAZADO\",\"approval_score\":0.9133221507,\"applicant_id\":159015},{\"label\":\"RECHAZADO\",\"approval_score\":0.8306857944,\"applicant_id\":159079},{\"label\":\"RECHAZADO\",\"approval_score\":0.6420145035,\"applicant_id\":159110},{\"label\":\"RECHAZADO\",\"approval_score\":0.9001373053,\"applicant_id\":159116},{\"label\":\"APROBADO\",\"approval_score\":0.96822083,\"applicant_id\":159124},{\"label\":\"RECHAZADO\",\"approval_score\":0.786745131,\"applicant_id\":159150},{\"label\":\"RECHAZADO\",\"approval_score\":0.929097116,\"applicant_id\":159153},{\"label\":\"RECHAZADO\",\"approval_score\":0.8677046895,\"applicant_id\":159192},{\"label\":\"RECHAZADO\",\"approval_score\":0.5180574059,\"applicant_id\":159207},{\"label\":\"RECHAZADO\",\"approval_score\":0.9104787707,\"applicant_id\":159215},{\"label\":\"RECHAZADO\",\"approval_score\":0.9317992926,\"applicant_id\":159220},{\"label\":\"RECHAZADO\",\"approval_score\":0.8352285028,\"applicant_id\":159238},{\"label\":\"RECHAZADO\",\"approval_score\":0.9245602489,\"applicant_id\":159307},{\"label\":\"RECHAZADO\",\"approval_score\":0.9027001858,\"applicant_id\":159312},{\"label\":\"RECHAZADO\",\"approval_score\":0.9358958006,\"applicant_id\":159561},{\"label\":\"RECHAZADO\",\"approval_score\":0.9158530831,\"applicant_id\":159582},{\"label\":\"RECHAZADO\",\"approval_score\":0.855987072,\"applicant_id\":159673},{\"label\":\"RECHAZADO\",\"approval_score\":0.7096565366,\"applicant_id\":159674},{\"label\":\"RECHAZADO\",\"approval_score\":0.809173882,\"applicant_id\":159675},{\"label\":\"RECHAZADO\",\"approval_score\":0.8564431667,\"applicant_id\":159717},{\"label\":\"RECHAZADO\",\"approval_score\":0.8034247756,\"applicant_id\":159720},{\"label\":\"RECHAZADO\",\"approval_score\":0.8241591454,\"applicant_id\":159832},{\"label\":\"RECHAZADO\",\"approval_score\":0.7285920382,\"applicant_id\":159834},{\"label\":\"RECHAZADO\",\"approval_score\":0.6649200916,\"applicant_id\":159901},{\"label\":\"RECHAZADO\",\"approval_score\":0.7283340693,\"applicant_id\":159902},{\"label\":\"RECHAZADO\",\"approval_score\":0.7852611542,\"applicant_id\":157345},{\"label\":\"RECHAZADO\",\"approval_score\":0.9112694263,\"applicant_id\":157346},{\"label\":\"RECHAZADO\",\"approval_score\":0.8808610439,\"applicant_id\":157658},{\"label\":\"APROBADO\",\"approval_score\":0.9714152813,\"applicant_id\":157285},{\"label\":\"RECHAZADO\",\"approval_score\":0.8391540051,\"applicant_id\":157308},{\"label\":\"RECHAZADO\",\"approval_score\":0.9112903476,\"applicant_id\":157320},{\"label\":\"APROBADO\",\"approval_score\":0.9750577211,\"applicant_id\":157386},{\"label\":\"APROBADO\",\"approval_score\":0.9380112886,\"applicant_id\":157398},{\"label\":\"RECHAZADO\",\"approval_score\":0.7768415213,\"applicant_id\":157656},{\"label\":\"RECHAZADO\",\"approval_score\":0.9355804324,\"applicant_id\":157803},{\"label\":\"RECHAZADO\",\"approval_score\":0.731764257,\"applicant_id\":158125},{\"label\":\"RECHAZADO\",\"approval_score\":0.7104550004,\"applicant_id\":158216},{\"label\":\"RECHAZADO\",\"approval_score\":0.7877022028,\"applicant_id\":158226},{\"label\":\"RECHAZADO\",\"approval_score\":0.5926001668,\"applicant_id\":158232},{\"label\":\"RECHAZADO\",\"approval_score\":0.7602528334,\"applicant_id\":157706},{\"label\":\"APROBADO\",\"approval_score\":0.947727263,\"applicant_id\":157707},{\"label\":\"RECHAZADO\",\"approval_score\":0.8730338812,\"applicant_id\":157711},{\"label\":\"RECHAZADO\",\"approval_score\":0.8840601444,\"applicant_id\":157714},{\"label\":\"RECHAZADO\",\"approval_score\":0.8208037019,\"applicant_id\":157717},{\"label\":\"RECHAZADO\",\"approval_score\":0.6739422679,\"applicant_id\":157818},{\"label\":\"RECHAZADO\",\"approval_score\":0.9329445362,\"applicant_id\":153097},{\"label\":\"RECHAZADO\",\"approval_score\":0.7756918073,\"applicant_id\":153978},{\"label\":\"RECHAZADO\",\"approval_score\":0.8951221704,\"applicant_id\":154074},{\"label\":\"RECHAZADO\",\"approval_score\":0.8738741279,\"applicant_id\":154098},{\"label\":\"RECHAZADO\",\"approval_score\":0.8086198568,\"applicant_id\":154101},{\"label\":\"RECHAZADO\",\"approval_score\":0.909474194,\"applicant_id\":154102},{\"label\":\"RECHAZADO\",\"approval_score\":0.7025322318,\"applicant_id\":154104},{\"label\":\"RECHAZADO\",\"approval_score\":0.8842876554,\"applicant_id\":154107},{\"label\":\"RECHAZADO\",\"approval_score\":0.8912667632,\"applicant_id\":154110},{\"label\":\"RECHAZADO\",\"approval_score\":0.8495594859,\"applicant_id\":154333},{\"label\":\"APROBADO\",\"approval_score\":0.9373024106,\"applicant_id\":154383},{\"label\":\"RECHAZADO\",\"approval_score\":0.8356264234,\"applicant_id\":154458},{\"label\":\"RECHAZADO\",\"approval_score\":0.8597732186,\"applicant_id\":159547},{\"label\":\"RECHAZADO\",\"approval_score\":0.8432226181,\"applicant_id\":159584},{\"label\":\"RECHAZADO\",\"approval_score\":0.6589794159,\"applicant_id\":159606},{\"label\":\"RECHAZADO\",\"approval_score\":0.9014238715,\"applicant_id\":159772},{\"label\":\"RECHAZADO\",\"approval_score\":0.7830944657,\"applicant_id\":159791},{\"label\":\"APROBADO\",\"approval_score\":0.9498574138,\"applicant_id\":154075},{\"label\":\"APROBADO\",\"approval_score\":0.9683636427,\"applicant_id\":154077},{\"label\":\"RECHAZADO\",\"approval_score\":0.9265037775,\"applicant_id\":154084},{\"label\":\"RECHAZADO\",\"approval_score\":0.9245995879,\"applicant_id\":154100},{\"label\":\"RECHAZADO\",\"approval_score\":0.4833312333,\"applicant_id\":152523},{\"label\":\"RECHAZADO\",\"approval_score\":0.8413159251,\"applicant_id\":152794},{\"label\":\"RECHAZADO\",\"approval_score\":0.7469644547,\"applicant_id\":153163},{\"label\":\"RECHAZADO\",\"approval_score\":0.8711683154,\"applicant_id\":153166},{\"label\":\"RECHAZADO\",\"approval_score\":0.7657685876,\"applicant_id\":153167},{\"label\":\"RECHAZADO\",\"approval_score\":0.7412354946,\"applicant_id\":153172},{\"label\":\"RECHAZADO\",\"approval_score\":0.9292054772,\"applicant_id\":153400},{\"label\":\"RECHAZADO\",\"approval_score\":0.8871735334,\"applicant_id\":153401},{\"label\":\"APROBADO\",\"approval_score\":0.9545123577,\"applicant_id\":153427},{\"label\":\"RECHAZADO\",\"approval_score\":0.6880043745,\"applicant_id\":153502},{\"label\":\"RECHAZADO\",\"approval_score\":0.825348258,\"applicant_id\":153543},{\"label\":\"RECHAZADO\",\"approval_score\":0.8630049229,\"applicant_id\":158164},{\"label\":\"RECHAZADO\",\"approval_score\":0.8163664937,\"applicant_id\":158406},{\"label\":\"RECHAZADO\",\"approval_score\":0.8998458982,\"applicant_id\":158415},{\"label\":\"RECHAZADO\",\"approval_score\":0.8346061707,\"applicant_id\":158416},{\"label\":\"RECHAZADO\",\"approval_score\":0.8526139855,\"applicant_id\":158417},{\"label\":\"RECHAZADO\",\"approval_score\":0.8348434567,\"applicant_id\":158541},{\"label\":\"RECHAZADO\",\"approval_score\":0.8485628366,\"applicant_id\":158543},{\"label\":\"RECHAZADO\",\"approval_score\":0.7905026078,\"applicant_id\":158626},{\"label\":\"RECHAZADO\",\"approval_score\":0.8050337434,\"applicant_id\":158673},{\"label\":\"RECHAZADO\",\"approval_score\":0.7598142624,\"applicant_id\":158674},{\"label\":\"RECHAZADO\",\"approval_score\":0.6392659545,\"applicant_id\":158675},{\"label\":\"RECHAZADO\",\"approval_score\":0.6509518623,\"applicant_id\":158677},{\"label\":\"RECHAZADO\",\"approval_score\":0.6965071559,\"applicant_id\":158678},{\"label\":\"RECHAZADO\",\"approval_score\":0.8101767302,\"applicant_id\":158717},{\"label\":\"RECHAZADO\",\"approval_score\":0.7924254537,\"applicant_id\":158739},{\"label\":\"RECHAZADO\",\"approval_score\":0.6838024259,\"applicant_id\":158742},{\"label\":\"RECHAZADO\",\"approval_score\":0.7880528569,\"applicant_id\":158755},{\"label\":\"RECHAZADO\",\"approval_score\":0.6953677535,\"applicant_id\":158769},{\"label\":\"RECHAZADO\",\"approval_score\":0.6760501266,\"applicant_id\":158818},{\"label\":\"RECHAZADO\",\"approval_score\":0.8870444298,\"applicant_id\":152760},{\"label\":\"RECHAZADO\",\"approval_score\":0.773322165,\"applicant_id\":153516},{\"label\":\"RECHAZADO\",\"approval_score\":0.9047999978,\"applicant_id\":153547},{\"label\":\"APROBADO\",\"approval_score\":0.9430695176,\"applicant_id\":153549},{\"label\":\"RECHAZADO\",\"approval_score\":0.7723315358,\"applicant_id\":156128},{\"label\":\"RECHAZADO\",\"approval_score\":0.7663962245,\"applicant_id\":156129},{\"label\":\"RECHAZADO\",\"approval_score\":0.8933167458,\"applicant_id\":156130},{\"label\":\"RECHAZADO\",\"approval_score\":0.8222680688,\"applicant_id\":156138},{\"label\":\"RECHAZADO\",\"approval_score\":0.8890713453,\"applicant_id\":156140},{\"label\":\"RECHAZADO\",\"approval_score\":0.9178119898,\"applicant_id\":156403},{\"label\":\"RECHAZADO\",\"approval_score\":0.8129304051,\"applicant_id\":156404},{\"label\":\"APROBADO\",\"approval_score\":0.9535203576,\"applicant_id\":156405},{\"label\":\"RECHAZADO\",\"approval_score\":0.8480386734,\"applicant_id\":156406},{\"label\":\"RECHAZADO\",\"approval_score\":0.8447839022,\"applicant_id\":156407},{\"label\":\"RECHAZADO\",\"approval_score\":0.6605074406,\"applicant_id\":159930},{\"label\":\"RECHAZADO\",\"approval_score\":0.8016662002,\"applicant_id\":159598},{\"label\":\"RECHAZADO\",\"approval_score\":0.7761391401,\"applicant_id\":159599},{\"label\":\"RECHAZADO\",\"approval_score\":0.8844282031,\"applicant_id\":154897},{\"label\":\"RECHAZADO\",\"approval_score\":0.7854340076,\"applicant_id\":157537},{\"label\":\"RECHAZADO\",\"approval_score\":0.6092210412,\"applicant_id\":157538},{\"label\":\"APROBADO\",\"approval_score\":0.9504387975,\"applicant_id\":157541},{\"label\":\"RECHAZADO\",\"approval_score\":0.7443985343,\"applicant_id\":158945},{\"label\":\"APROBADO\",\"approval_score\":0.9710686803,\"applicant_id\":159109},{\"label\":\"APROBADO\",\"approval_score\":0.9533845782,\"applicant_id\":159115},{\"label\":\"RECHAZADO\",\"approval_score\":0.9038929343,\"applicant_id\":159406},{\"label\":\"APROBADO\",\"approval_score\":0.974934876,\"applicant_id\":158607},{\"label\":\"APROBADO\",\"approval_score\":0.9716789126,\"applicant_id\":158608},{\"label\":\"APROBADO\",\"approval_score\":0.9586130381,\"applicant_id\":158609},{\"label\":\"APROBADO\",\"approval_score\":0.9634376168,\"applicant_id\":158611},{\"label\":\"APROBADO\",\"approval_score\":0.9636591673,\"applicant_id\":158808},{\"label\":\"APROBADO\",\"approval_score\":0.9586130381,\"applicant_id\":158809},{\"label\":\"RECHAZADO\",\"approval_score\":0.8496355414,\"applicant_id\":152472},{\"label\":\"RECHAZADO\",\"approval_score\":0.8926697969,\"applicant_id\":154812},{\"label\":\"RECHAZADO\",\"approval_score\":0.8955050111,\"applicant_id\":154821},{\"label\":\"RECHAZADO\",\"approval_score\":0.9185553789,\"applicant_id\":154822},{\"label\":\"RECHAZADO\",\"approval_score\":0.8854617476,\"applicant_id\":154824},{\"label\":\"RECHAZADO\",\"approval_score\":0.7816842794,\"applicant_id\":154837},{\"label\":\"RECHAZADO\",\"approval_score\":0.8985437155,\"applicant_id\":153099},{\"label\":\"RECHAZADO\",\"approval_score\":0.8295992613,\"applicant_id\":153101},{\"label\":\"RECHAZADO\",\"approval_score\":0.7605558038,\"applicant_id\":153105},{\"label\":\"RECHAZADO\",\"approval_score\":0.9315151572,\"applicant_id\":153395},{\"label\":\"RECHAZADO\",\"approval_score\":0.9098946452,\"applicant_id\":157915},{\"label\":\"RECHAZADO\",\"approval_score\":0.8514301181,\"applicant_id\":154435},{\"label\":\"RECHAZADO\",\"approval_score\":0.7764058709,\"applicant_id\":154436},{\"label\":\"RECHAZADO\",\"approval_score\":0.8056850433,\"applicant_id\":154437},{\"label\":\"RECHAZADO\",\"approval_score\":0.8034159541,\"applicant_id\":154438},{\"label\":\"RECHAZADO\",\"approval_score\":0.8363582492,\"applicant_id\":154439},{\"label\":\"RECHAZADO\",\"approval_score\":0.7815614939,\"applicant_id\":154567},{\"label\":\"RECHAZADO\",\"approval_score\":0.5251339078,\"applicant_id\":157243},{\"label\":\"RECHAZADO\",\"approval_score\":0.7576779127,\"applicant_id\":157310},{\"label\":\"RECHAZADO\",\"approval_score\":0.8585686684,\"applicant_id\":157483},{\"label\":\"RECHAZADO\",\"approval_score\":0.7864356637,\"applicant_id\":157558},{\"label\":\"RECHAZADO\",\"approval_score\":0.566958487,\"applicant_id\":157937},{\"label\":\"RECHAZADO\",\"approval_score\":0.8137564659,\"applicant_id\":158379},{\"label\":\"RECHAZADO\",\"approval_score\":0.7787209749,\"applicant_id\":158380},{\"label\":\"RECHAZADO\",\"approval_score\":0.8860731721,\"applicant_id\":158381},{\"label\":\"RECHAZADO\",\"approval_score\":0.7506349087,\"applicant_id\":158382},{\"label\":\"RECHAZADO\",\"approval_score\":0.8329290748,\"applicant_id\":158385},{\"label\":\"RECHAZADO\",\"approval_score\":0.7715483308,\"applicant_id\":158386},{\"label\":\"RECHAZADO\",\"approval_score\":0.873916924,\"applicant_id\":158887},{\"label\":\"RECHAZADO\",\"approval_score\":0.8994974494,\"applicant_id\":159024},{\"label\":\"RECHAZADO\",\"approval_score\":0.87319839,\"applicant_id\":159025},{\"label\":\"RECHAZADO\",\"approval_score\":0.9090297818,\"applicant_id\":159026},{\"label\":\"RECHAZADO\",\"approval_score\":0.9192025065,\"applicant_id\":159027},{\"label\":\"RECHAZADO\",\"approval_score\":0.8581011295,\"applicant_id\":156048},{\"label\":\"RECHAZADO\",\"approval_score\":0.8673132062,\"applicant_id\":156156},{\"label\":\"APROBADO\",\"approval_score\":0.9462962747,\"applicant_id\":156849},{\"label\":\"APROBADO\",\"approval_score\":0.9418894649,\"applicant_id\":156851},{\"label\":\"APROBADO\",\"approval_score\":0.9569455981,\"applicant_id\":156872},{\"label\":\"APROBADO\",\"approval_score\":0.9392023683,\"applicant_id\":156876},{\"label\":\"APROBADO\",\"approval_score\":0.947755754,\"applicant_id\":156878},{\"label\":\"RECHAZADO\",\"approval_score\":0.7968032956,\"applicant_id\":151527},{\"label\":\"RECHAZADO\",\"approval_score\":0.6933823824,\"applicant_id\":153824},{\"label\":\"RECHAZADO\",\"approval_score\":0.8018324971,\"applicant_id\":153825},{\"label\":\"RECHAZADO\",\"approval_score\":0.7425455451,\"applicant_id\":153828},{\"label\":\"RECHAZADO\",\"approval_score\":0.7540115714,\"applicant_id\":153837},{\"label\":\"RECHAZADO\",\"approval_score\":0.762799859,\"applicant_id\":153320},{\"label\":\"RECHAZADO\",\"approval_score\":0.5963799953,\"applicant_id\":153323},{\"label\":\"RECHAZADO\",\"approval_score\":0.869730413,\"applicant_id\":153343},{\"label\":\"RECHAZADO\",\"approval_score\":0.8306018114,\"applicant_id\":153431},{\"label\":\"RECHAZADO\",\"approval_score\":0.8235893846,\"applicant_id\":153500},{\"label\":\"APROBADO\",\"approval_score\":0.9408378601,\"applicant_id\":153504},{\"label\":\"RECHAZADO\",\"approval_score\":0.8608013391,\"applicant_id\":153509},{\"label\":\"RECHAZADO\",\"approval_score\":0.7363255024,\"applicant_id\":153518},{\"label\":\"RECHAZADO\",\"approval_score\":0.7218006253,\"applicant_id\":153544},{\"label\":\"APROBADO\",\"approval_score\":0.9564123154,\"applicant_id\":153564},{\"label\":\"RECHAZADO\",\"approval_score\":0.7803382874,\"applicant_id\":153565},{\"label\":\"RECHAZADO\",\"approval_score\":0.8908722401,\"applicant_id\":153704},{\"label\":\"APROBADO\",\"approval_score\":0.9416541457,\"applicant_id\":153705},{\"label\":\"RECHAZADO\",\"approval_score\":0.8676660061,\"applicant_id\":154441},{\"label\":\"RECHAZADO\",\"approval_score\":0.7219862938,\"applicant_id\":154443},{\"label\":\"RECHAZADO\",\"approval_score\":0.7370622158,\"applicant_id\":154449},{\"label\":\"RECHAZADO\",\"approval_score\":0.7748445272,\"applicant_id\":154459},{\"label\":\"RECHAZADO\",\"approval_score\":0.9161852598,\"applicant_id\":154707},{\"label\":\"RECHAZADO\",\"approval_score\":0.8203328252,\"applicant_id\":154716},{\"label\":\"RECHAZADO\",\"approval_score\":0.8059088588,\"applicant_id\":154840},{\"label\":\"RECHAZADO\",\"approval_score\":0.8990440965,\"applicant_id\":157659},{\"label\":\"RECHAZADO\",\"approval_score\":0.9181902409,\"applicant_id\":157681},{\"label\":\"RECHAZADO\",\"approval_score\":0.8440904617,\"applicant_id\":157728},{\"label\":\"RECHAZADO\",\"approval_score\":0.87227422,\"applicant_id\":157912},{\"label\":\"APROBADO\",\"approval_score\":0.9555632472,\"applicant_id\":154899},{\"label\":\"RECHAZADO\",\"approval_score\":0.9293674231,\"applicant_id\":154900},{\"label\":\"APROBADO\",\"approval_score\":0.9633377194,\"applicant_id\":154902},{\"label\":\"APROBADO\",\"approval_score\":0.9694215059,\"applicant_id\":154905},{\"label\":\"APROBADO\",\"approval_score\":0.9734356403,\"applicant_id\":154906},{\"label\":\"RECHAZADO\",\"approval_score\":0.9046157598,\"applicant_id\":155415},{\"label\":\"APROBADO\",\"approval_score\":0.9643363953,\"applicant_id\":155558},{\"label\":\"APROBADO\",\"approval_score\":0.943259418,\"applicant_id\":155569},{\"label\":\"RECHAZADO\",\"approval_score\":0.7584348321,\"applicant_id\":148081},{\"label\":\"RECHAZADO\",\"approval_score\":0.9125936031,\"applicant_id\":152286},{\"label\":\"RECHAZADO\",\"approval_score\":0.9086258411,\"applicant_id\":152563},{\"label\":\"RECHAZADO\",\"approval_score\":0.7731274366,\"applicant_id\":152623},{\"label\":\"RECHAZADO\",\"approval_score\":0.9155006409,\"applicant_id\":152793},{\"label\":\"RECHAZADO\",\"approval_score\":0.7626330256,\"applicant_id\":152953},{\"label\":\"RECHAZADO\",\"approval_score\":0.7854238749,\"applicant_id\":152985},{\"label\":\"RECHAZADO\",\"approval_score\":0.9068128467,\"applicant_id\":153202},{\"label\":\"RECHAZADO\",\"approval_score\":0.9122131467,\"applicant_id\":153248},{\"label\":\"RECHAZADO\",\"approval_score\":0.7547889352,\"applicant_id\":153251},{\"label\":\"RECHAZADO\",\"approval_score\":0.8559011817,\"applicant_id\":153678},{\"label\":\"RECHAZADO\",\"approval_score\":0.7722268701,\"applicant_id\":153855},{\"label\":\"RECHAZADO\",\"approval_score\":0.6322478652,\"applicant_id\":153878},{\"label\":\"RECHAZADO\",\"approval_score\":0.7208405733,\"applicant_id\":153889},{\"label\":\"RECHAZADO\",\"approval_score\":0.8188068867,\"applicant_id\":152624},{\"label\":\"RECHAZADO\",\"approval_score\":0.8948472738,\"applicant_id\":153082},{\"label\":\"RECHAZADO\",\"approval_score\":0.8995997906,\"applicant_id\":153085},{\"label\":\"RECHAZADO\",\"approval_score\":0.8917164803,\"applicant_id\":153086},{\"label\":\"RECHAZADO\",\"approval_score\":0.922242403,\"applicant_id\":153087},{\"label\":\"RECHAZADO\",\"approval_score\":0.8651516438,\"applicant_id\":153096},{\"label\":\"RECHAZADO\",\"approval_score\":0.902471602,\"applicant_id\":153199},{\"label\":\"RECHAZADO\",\"approval_score\":0.9278294444,\"applicant_id\":158354},{\"label\":\"RECHAZADO\",\"approval_score\":0.6346569657,\"applicant_id\":158356},{\"label\":\"RECHAZADO\",\"approval_score\":0.809510231,\"applicant_id\":158579},{\"label\":\"RECHAZADO\",\"approval_score\":0.7387495041,\"applicant_id\":152823},{\"label\":\"RECHAZADO\",\"approval_score\":0.822606504,\"applicant_id\":153795},{\"label\":\"RECHAZADO\",\"approval_score\":0.7655387521,\"applicant_id\":153838},{\"label\":\"RECHAZADO\",\"approval_score\":0.8647565246,\"applicant_id\":153857},{\"label\":\"APROBADO\",\"approval_score\":0.9604657292,\"applicant_id\":154056},{\"label\":\"RECHAZADO\",\"approval_score\":0.913515389,\"applicant_id\":153904},{\"label\":\"APROBADO\",\"approval_score\":0.9418823123,\"applicant_id\":157598},{\"label\":\"APROBADO\",\"approval_score\":0.9501743913,\"applicant_id\":157602},{\"label\":\"RECHAZADO\",\"approval_score\":0.9309266806,\"applicant_id\":157608},{\"label\":\"APROBADO\",\"approval_score\":0.9368769526,\"applicant_id\":157719},{\"label\":\"RECHAZADO\",\"approval_score\":0.9122307897,\"applicant_id\":158022},{\"label\":\"RECHAZADO\",\"approval_score\":0.8555726409,\"applicant_id\":158128},{\"label\":\"RECHAZADO\",\"approval_score\":0.7127686739,\"applicant_id\":153138},{\"label\":\"RECHAZADO\",\"approval_score\":0.7162194848,\"applicant_id\":153183},{\"label\":\"RECHAZADO\",\"approval_score\":0.7865482569,\"applicant_id\":153185},{\"label\":\"RECHAZADO\",\"approval_score\":0.769286871,\"applicant_id\":153197},{\"label\":\"RECHAZADO\",\"approval_score\":0.7417570949,\"applicant_id\":153220},{\"label\":\"RECHAZADO\",\"approval_score\":0.74914819,\"applicant_id\":157412},{\"label\":\"RECHAZADO\",\"approval_score\":0.7662917376,\"applicant_id\":157421},{\"label\":\"RECHAZADO\",\"approval_score\":0.8450448513,\"applicant_id\":157661},{\"label\":\"RECHAZADO\",\"approval_score\":0.9296632409,\"applicant_id\":157662},{\"label\":\"RECHAZADO\",\"approval_score\":0.8689513803,\"applicant_id\":157675},{\"label\":\"RECHAZADO\",\"approval_score\":0.9109580517,\"applicant_id\":157676},{\"label\":\"RECHAZADO\",\"approval_score\":0.7585331798,\"applicant_id\":157680},{\"label\":\"RECHAZADO\",\"approval_score\":0.865683496,\"applicant_id\":154262},{\"label\":\"RECHAZADO\",\"approval_score\":0.7825511694,\"applicant_id\":154358},{\"label\":\"RECHAZADO\",\"approval_score\":0.816644609,\"applicant_id\":154360},{\"label\":\"RECHAZADO\",\"approval_score\":0.8243326545,\"applicant_id\":154559},{\"label\":\"RECHAZADO\",\"approval_score\":0.860527873,\"applicant_id\":154265},{\"label\":\"RECHAZADO\",\"approval_score\":0.8509202003,\"applicant_id\":159513},{\"label\":\"RECHAZADO\",\"approval_score\":0.8827819228,\"applicant_id\":160115},{\"label\":\"RECHAZADO\",\"approval_score\":0.8949314952,\"applicant_id\":160133},{\"label\":\"RECHAZADO\",\"approval_score\":0.9177496433,\"applicant_id\":160142},{\"label\":\"RECHAZADO\",\"approval_score\":0.9117277265,\"applicant_id\":160143},{\"label\":\"RECHAZADO\",\"approval_score\":0.9220217466,\"applicant_id\":152945},{\"label\":\"APROBADO\",\"approval_score\":0.9509769082,\"applicant_id\":152999},{\"label\":\"APROBADO\",\"approval_score\":0.9681817889,\"applicant_id\":159298},{\"label\":\"RECHAZADO\",\"approval_score\":0.9335340261,\"applicant_id\":159299},{\"label\":\"APROBADO\",\"approval_score\":0.9570317268,\"applicant_id\":159300},{\"label\":\"APROBADO\",\"approval_score\":0.9409300685,\"applicant_id\":159308},{\"label\":\"RECHAZADO\",\"approval_score\":0.843876183,\"applicant_id\":156419},{\"label\":\"RECHAZADO\",\"approval_score\":0.8259113431,\"applicant_id\":154464},{\"label\":\"RECHAZADO\",\"approval_score\":0.8089976907,\"applicant_id\":158165},{\"label\":\"RECHAZADO\",\"approval_score\":0.7611245513,\"applicant_id\":158169},{\"label\":\"RECHAZADO\",\"approval_score\":0.8285637498,\"applicant_id\":158227},{\"label\":\"RECHAZADO\",\"approval_score\":0.7849093676,\"applicant_id\":158228},{\"label\":\"RECHAZADO\",\"approval_score\":0.8722053766,\"applicant_id\":155005},{\"label\":\"RECHAZADO\",\"approval_score\":0.7718923688,\"applicant_id\":151626},{\"label\":\"APROBADO\",\"approval_score\":0.9426924586,\"applicant_id\":151642},{\"label\":\"RECHAZADO\",\"approval_score\":0.8869721293,\"applicant_id\":151802},{\"label\":\"RECHAZADO\",\"approval_score\":0.8712301254,\"applicant_id\":151883},{\"label\":\"RECHAZADO\",\"approval_score\":0.6751667261,\"applicant_id\":152317},{\"label\":\"APROBADO\",\"approval_score\":0.9381677508,\"applicant_id\":156210},{\"label\":\"RECHAZADO\",\"approval_score\":0.923478663,\"applicant_id\":156213},{\"label\":\"APROBADO\",\"approval_score\":0.9378342032,\"applicant_id\":156216},{\"label\":\"RECHAZADO\",\"approval_score\":0.8209483624,\"applicant_id\":156219},{\"label\":\"RECHAZADO\",\"approval_score\":0.8969165087,\"applicant_id\":156222},{\"label\":\"RECHAZADO\",\"approval_score\":0.8003518581,\"applicant_id\":158405},{\"label\":\"RECHAZADO\",\"approval_score\":0.839969337,\"applicant_id\":158527},{\"label\":\"RECHAZADO\",\"approval_score\":0.7950521708,\"applicant_id\":158542},{\"label\":\"RECHAZADO\",\"approval_score\":0.5908743143,\"applicant_id\":158584},{\"label\":\"RECHAZADO\",\"approval_score\":0.6590517163,\"applicant_id\":153706},{\"label\":\"RECHAZADO\",\"approval_score\":0.8879874349,\"applicant_id\":153981},{\"label\":\"RECHAZADO\",\"approval_score\":0.6434653401,\"applicant_id\":158844},{\"label\":\"RECHAZADO\",\"approval_score\":0.740517199,\"applicant_id\":158890},{\"label\":\"RECHAZADO\",\"approval_score\":0.8773249984,\"applicant_id\":158900},{\"label\":\"RECHAZADO\",\"approval_score\":0.6938164234,\"applicant_id\":158903},{\"label\":\"RECHAZADO\",\"approval_score\":0.7088289857,\"applicant_id\":158904},{\"label\":\"RECHAZADO\",\"approval_score\":0.8460523486,\"applicant_id\":158582},{\"label\":\"RECHAZADO\",\"approval_score\":0.6210746169,\"applicant_id\":158612},{\"label\":\"RECHAZADO\",\"approval_score\":0.8160153031,\"applicant_id\":156621},{\"label\":\"RECHAZADO\",\"approval_score\":0.885330379,\"applicant_id\":152850},{\"label\":\"RECHAZADO\",\"approval_score\":0.7715937495,\"applicant_id\":152941},{\"label\":\"RECHAZADO\",\"approval_score\":0.916641891,\"applicant_id\":158746},{\"label\":\"RECHAZADO\",\"approval_score\":0.9331350327,\"applicant_id\":152069},{\"label\":\"APROBADO\",\"approval_score\":0.9531421661,\"applicant_id\":152960},{\"label\":\"RECHAZADO\",\"approval_score\":0.5072209239,\"applicant_id\":153000},{\"label\":\"RECHAZADO\",\"approval_score\":0.9069881439,\"applicant_id\":153001},{\"label\":\"APROBADO\",\"approval_score\":0.9488010406,\"applicant_id\":153018},{\"label\":\"RECHAZADO\",\"approval_score\":0.7543762326,\"applicant_id\":159607},{\"label\":\"RECHAZADO\",\"approval_score\":0.7540326715,\"applicant_id\":158627},{\"label\":\"RECHAZADO\",\"approval_score\":0.7789902687,\"applicant_id\":159328},{\"label\":\"RECHAZADO\",\"approval_score\":0.7793390751,\"applicant_id\":159332},{\"label\":\"RECHAZADO\",\"approval_score\":0.7336927056,\"applicant_id\":159373},{\"label\":\"RECHAZADO\",\"approval_score\":0.7115289569,\"applicant_id\":158209},{\"label\":\"RECHAZADO\",\"approval_score\":0.6306902766,\"applicant_id\":152566},{\"label\":\"RECHAZADO\",\"approval_score\":0.8675495386,\"applicant_id\":154377},{\"label\":\"RECHAZADO\",\"approval_score\":0.7824715972,\"applicant_id\":152636},{\"label\":\"RECHAZADO\",\"approval_score\":0.7954311371,\"applicant_id\":152384},{\"label\":\"RECHAZADO\",\"approval_score\":0.8581931591,\"applicant_id\":152385},{\"label\":\"RECHAZADO\",\"approval_score\":0.8062936068,\"applicant_id\":152474},{\"label\":\"RECHAZADO\",\"approval_score\":0.8735195994,\"applicant_id\":152536},{\"label\":\"RECHAZADO\",\"approval_score\":0.7423304319,\"applicant_id\":154888},{\"label\":\"RECHAZADO\",\"approval_score\":0.8262171149,\"applicant_id\":154976},{\"label\":\"RECHAZADO\",\"approval_score\":0.9188925028,\"applicant_id\":154879},{\"label\":\"RECHAZADO\",\"approval_score\":0.7384817004,\"applicant_id\":154811},{\"label\":\"APROBADO\",\"approval_score\":0.9545124769,\"applicant_id\":152210},{\"label\":\"RECHAZADO\",\"approval_score\":0.6648667455,\"applicant_id\":152212},{\"label\":\"APROBADO\",\"approval_score\":0.9418580532,\"applicant_id\":145969},{\"label\":\"RECHAZADO\",\"approval_score\":0.7025421858,\"applicant_id\":155265},{\"label\":\"RECHAZADO\",\"approval_score\":0.7035194635,\"applicant_id\":160181},{\"label\":\"RECHAZADO\",\"approval_score\":0.8457433581,\"applicant_id\":158862},{\"label\":\"RECHAZADO\",\"approval_score\":0.88594383,\"applicant_id\":158907},{\"label\":\"RECHAZADO\",\"approval_score\":0.8510647416,\"applicant_id\":159177},{\"label\":\"RECHAZADO\",\"approval_score\":0.8948915005,\"applicant_id\":152120},{\"label\":\"RECHAZADO\",\"approval_score\":0.8617616892,\"applicant_id\":153602},{\"label\":\"RECHAZADO\",\"approval_score\":0.7695373893,\"applicant_id\":153603},{\"label\":\"RECHAZADO\",\"approval_score\":0.8584956527,\"applicant_id\":159835},{\"label\":\"RECHAZADO\",\"approval_score\":0.8420634866,\"applicant_id\":154767},{\"label\":\"RECHAZADO\",\"approval_score\":0.8906678557,\"applicant_id\":154975},{\"label\":\"RECHAZADO\",\"approval_score\":0.8971770406,\"applicant_id\":157530},{\"label\":\"RECHAZADO\",\"approval_score\":0.897577703,\"applicant_id\":157534},{\"label\":\"RECHAZADO\",\"approval_score\":0.8566150069,\"applicant_id\":157348},{\"label\":\"RECHAZADO\",\"approval_score\":0.628821075,\"applicant_id\":158860},{\"label\":\"RECHAZADO\",\"approval_score\":0.7403618097,\"applicant_id\":158865},{\"label\":\"RECHAZADO\",\"approval_score\":0.5949836969,\"applicant_id\":158867},{\"label\":\"RECHAZADO\",\"approval_score\":0.6880037189,\"applicant_id\":159058},{\"label\":\"RECHAZADO\",\"approval_score\":0.9176092744,\"applicant_id\":154076},{\"label\":\"RECHAZADO\",\"approval_score\":0.9000800848,\"applicant_id\":158847},{\"label\":\"RECHAZADO\",\"approval_score\":0.7655562162,\"applicant_id\":159061},{\"label\":\"RECHAZADO\",\"approval_score\":0.8558686376,\"applicant_id\":159062},{\"label\":\"RECHAZADO\",\"approval_score\":0.850343585,\"applicant_id\":155959},{\"label\":\"RECHAZADO\",\"approval_score\":0.884185493,\"applicant_id\":155966},{\"label\":\"RECHAZADO\",\"approval_score\":0.9053153992,\"applicant_id\":156030},{\"label\":\"APROBADO\",\"approval_score\":0.9526184201,\"applicant_id\":156147},{\"label\":\"RECHAZADO\",\"approval_score\":0.8678723574,\"applicant_id\":156202},{\"label\":\"RECHAZADO\",\"approval_score\":0.9005537629,\"applicant_id\":158823},{\"label\":\"RECHAZADO\",\"approval_score\":0.8836770058,\"applicant_id\":155925},{\"label\":\"RECHAZADO\",\"approval_score\":0.7804236412,\"applicant_id\":159821},{\"label\":\"RECHAZADO\",\"approval_score\":0.9208186269,\"applicant_id\":159822},{\"label\":\"RECHAZADO\",\"approval_score\":0.8990358114,\"applicant_id\":159828},{\"label\":\"RECHAZADO\",\"approval_score\":0.8612717986,\"applicant_id\":153822},{\"label\":\"RECHAZADO\",\"approval_score\":0.6349908113,\"applicant_id\":154113},{\"label\":\"APROBADO\",\"approval_score\":0.9599145651,\"applicant_id\":154290},{\"label\":\"RECHAZADO\",\"approval_score\":0.9009355307,\"applicant_id\":155452},{\"label\":\"RECHAZADO\",\"approval_score\":0.8210132718,\"applicant_id\":160231},{\"label\":\"RECHAZADO\",\"approval_score\":0.9007711411,\"applicant_id\":160547},{\"label\":\"RECHAZADO\",\"approval_score\":0.7360051274,\"applicant_id\":157406},{\"label\":\"RECHAZADO\",\"approval_score\":0.8728172183,\"applicant_id\":157510},{\"label\":\"RECHAZADO\",\"approval_score\":0.8900911808,\"applicant_id\":159585},{\"label\":\"RECHAZADO\",\"approval_score\":0.8282482028,\"applicant_id\":154488},{\"label\":\"RECHAZADO\",\"approval_score\":0.8111926317,\"applicant_id\":154494},{\"label\":\"RECHAZADO\",\"approval_score\":0.8612148166,\"applicant_id\":154876},{\"label\":\"RECHAZADO\",\"approval_score\":0.6116315126,\"applicant_id\":154878},{\"label\":\"RECHAZADO\",\"approval_score\":0.930850029,\"applicant_id\":154135},{\"label\":\"RECHAZADO\",\"approval_score\":0.9104764462,\"applicant_id\":159515},{\"label\":\"RECHAZADO\",\"approval_score\":0.9009029269,\"applicant_id\":160121},{\"label\":\"RECHAZADO\",\"approval_score\":0.9067622423,\"applicant_id\":160325},{\"label\":\"RECHAZADO\",\"approval_score\":0.9006413817,\"applicant_id\":160328},{\"label\":\"RECHAZADO\",\"approval_score\":0.7502662539,\"applicant_id\":160330},{\"label\":\"RECHAZADO\",\"approval_score\":0.9357033968,\"applicant_id\":160332},{\"label\":\"RECHAZADO\",\"approval_score\":0.8346787095,\"applicant_id\":160336},{\"label\":\"RECHAZADO\",\"approval_score\":0.8823596239,\"applicant_id\":160337},{\"label\":\"APROBADO\",\"approval_score\":0.9500405192,\"applicant_id\":160338},{\"label\":\"RECHAZADO\",\"approval_score\":0.7359691858,\"applicant_id\":159297},{\"label\":\"RECHAZADO\",\"approval_score\":0.8661065102,\"applicant_id\":159181},{\"label\":\"RECHAZADO\",\"approval_score\":0.8738640547,\"applicant_id\":159302},{\"label\":\"RECHAZADO\",\"approval_score\":0.9356956482,\"applicant_id\":151844},{\"label\":\"RECHAZADO\",\"approval_score\":0.6875460744,\"applicant_id\":152263},{\"label\":\"RECHAZADO\",\"approval_score\":0.8502523899,\"applicant_id\":154927},{\"label\":\"RECHAZADO\",\"approval_score\":0.7309975624,\"applicant_id\":154932},{\"label\":\"RECHAZADO\",\"approval_score\":0.8970917463,\"applicant_id\":158056},{\"label\":\"RECHAZADO\",\"approval_score\":0.8247785568,\"applicant_id\":159018},{\"label\":\"RECHAZADO\",\"approval_score\":0.8864103556,\"applicant_id\":156456},{\"label\":\"RECHAZADO\",\"approval_score\":0.8657979369,\"applicant_id\":156462},{\"label\":\"RECHAZADO\",\"approval_score\":0.8785197139,\"applicant_id\":157176},{\"label\":\"RECHAZADO\",\"approval_score\":0.8337099552,\"applicant_id\":153252},{\"label\":\"RECHAZADO\",\"approval_score\":0.8326090574,\"applicant_id\":156623},{\"label\":\"RECHAZADO\",\"approval_score\":0.8403811455,\"applicant_id\":156764},{\"label\":\"RECHAZADO\",\"approval_score\":0.8454773426,\"applicant_id\":156848},{\"label\":\"RECHAZADO\",\"approval_score\":0.7262941003,\"applicant_id\":156881},{\"label\":\"RECHAZADO\",\"approval_score\":0.8819624782,\"applicant_id\":157177},{\"label\":\"RECHAZADO\",\"approval_score\":0.9259382486,\"applicant_id\":159142},{\"label\":\"RECHAZADO\",\"approval_score\":0.9149884582,\"applicant_id\":155968},{\"label\":\"RECHAZADO\",\"approval_score\":0.8798068166,\"applicant_id\":155889},{\"label\":\"RECHAZADO\",\"approval_score\":0.741576612,\"applicant_id\":156418},{\"label\":\"RECHAZADO\",\"approval_score\":0.8896177411,\"applicant_id\":156422},{\"label\":\"APROBADO\",\"approval_score\":0.9687713981,\"applicant_id\":157287},{\"label\":\"RECHAZADO\",\"approval_score\":0.8653564453,\"applicant_id\":157291},{\"label\":\"RECHAZADO\",\"approval_score\":0.8355542421,\"applicant_id\":157311},{\"label\":\"RECHAZADO\",\"approval_score\":0.8904503584,\"applicant_id\":157312},{\"label\":\"RECHAZADO\",\"approval_score\":0.8846491575,\"applicant_id\":157313},{\"label\":\"APROBADO\",\"approval_score\":0.9492235184,\"applicant_id\":157785},{\"label\":\"APROBADO\",\"approval_score\":0.9364638329,\"applicant_id\":157786},{\"label\":\"RECHAZADO\",\"approval_score\":0.8463050127,\"applicant_id\":157787},{\"label\":\"RECHAZADO\",\"approval_score\":0.8724702597,\"applicant_id\":157789},{\"label\":\"RECHAZADO\",\"approval_score\":0.8207178712,\"applicant_id\":152826}')\n",
    "res = eval('{\"label\":\"RECHAZADO\",\"approval_score\":0.900239408,\"applicant_id\":145442},{\"label\":\"RECHAZADO\",\"approval_score\":0.9053086638,\"applicant_id\":145444},{\"label\":\"RECHAZADO\",\"approval_score\":0.8317496777,\"applicant_id\":153407},{\"label\":\"RECHAZADO\",\"approval_score\":0.6588975787,\"applicant_id\":153409},{\"label\":\"RECHAZADO\",\"approval_score\":0.7421776056,\"applicant_id\":153432},{\"label\":\"RECHAZADO\",\"approval_score\":0.7446762919,\"applicant_id\":153341},{\"label\":\"RECHAZADO\",\"approval_score\":0.8080951571,\"applicant_id\":154845},{\"label\":\"RECHAZADO\",\"approval_score\":0.7752617598,\"applicant_id\":155619},{\"label\":\"RECHAZADO\",\"approval_score\":0.833658278,\"applicant_id\":155621},{\"label\":\"RECHAZADO\",\"approval_score\":0.8903492689,\"applicant_id\":155668},{\"label\":\"RECHAZADO\",\"approval_score\":0.7516601682,\"applicant_id\":156076},{\"label\":\"RECHAZADO\",\"approval_score\":0.9163031578,\"applicant_id\":160463},{\"label\":\"RECHAZADO\",\"approval_score\":0.8497417569,\"applicant_id\":157745},{\"label\":\"RECHAZADO\",\"approval_score\":0.8697565794,\"applicant_id\":156047},{\"label\":\"RECHAZADO\",\"approval_score\":0.912710309,\"applicant_id\":156049},{\"label\":\"RECHAZADO\",\"approval_score\":0.7339165807,\"applicant_id\":156050},{\"label\":\"RECHAZADO\",\"approval_score\":0.9184561372,\"applicant_id\":156149},{\"label\":\"RECHAZADO\",\"approval_score\":0.9054935575,\"applicant_id\":156152},{\"label\":\"RECHAZADO\",\"approval_score\":0.8975735903,\"applicant_id\":159006},{\"label\":\"RECHAZADO\",\"approval_score\":0.9103938937,\"applicant_id\":159015},{\"label\":\"RECHAZADO\",\"approval_score\":0.8109006286,\"applicant_id\":159079},{\"label\":\"RECHAZADO\",\"approval_score\":0.6013524532,\"applicant_id\":159110},{\"label\":\"RECHAZADO\",\"approval_score\":0.8975925446,\"applicant_id\":159116},{\"label\":\"APROBADO\",\"approval_score\":0.9554011226,\"applicant_id\":159124},{\"label\":\"RECHAZADO\",\"approval_score\":0.790897131,\"applicant_id\":159150},{\"label\":\"RECHAZADO\",\"approval_score\":0.910366714,\"applicant_id\":159153},{\"label\":\"RECHAZADO\",\"approval_score\":0.8600548506,\"applicant_id\":159192},{\"label\":\"RECHAZADO\",\"approval_score\":0.4339386225,\"applicant_id\":159207},{\"label\":\"APROBADO\",\"approval_score\":0.9361564517,\"applicant_id\":159215},{\"label\":\"APROBADO\",\"approval_score\":0.9397705197,\"applicant_id\":159220},{\"label\":\"RECHAZADO\",\"approval_score\":0.7807222605,\"applicant_id\":159238},{\"label\":\"APROBADO\",\"approval_score\":0.9420960546,\"applicant_id\":159307},{\"label\":\"RECHAZADO\",\"approval_score\":0.9027001858,\"applicant_id\":159312},{\"label\":\"APROBADO\",\"approval_score\":0.9496489167,\"applicant_id\":159561},{\"label\":\"RECHAZADO\",\"approval_score\":0.9144595265,\"applicant_id\":159582},{\"label\":\"RECHAZADO\",\"approval_score\":0.8760434985,\"applicant_id\":159673},{\"label\":\"RECHAZADO\",\"approval_score\":0.7071822882,\"applicant_id\":159674},{\"label\":\"RECHAZADO\",\"approval_score\":0.8014131784,\"applicant_id\":159675},{\"label\":\"RECHAZADO\",\"approval_score\":0.857927382,\"applicant_id\":159717},{\"label\":\"RECHAZADO\",\"approval_score\":0.8358533978,\"applicant_id\":159720},{\"label\":\"RECHAZADO\",\"approval_score\":0.8190917969,\"applicant_id\":159832},{\"label\":\"RECHAZADO\",\"approval_score\":0.6833474636,\"applicant_id\":159834},{\"label\":\"RECHAZADO\",\"approval_score\":0.6420827508,\"applicant_id\":159901},{\"label\":\"RECHAZADO\",\"approval_score\":0.6986536384,\"applicant_id\":159902},{\"label\":\"RECHAZADO\",\"approval_score\":0.7603803277,\"applicant_id\":157345},{\"label\":\"RECHAZADO\",\"approval_score\":0.8884879351,\"applicant_id\":157346},{\"label\":\"RECHAZADO\",\"approval_score\":0.8751347661,\"applicant_id\":157658},{\"label\":\"APROBADO\",\"approval_score\":0.9795591831,\"applicant_id\":157285},{\"label\":\"RECHAZADO\",\"approval_score\":0.8435863853,\"applicant_id\":157308},{\"label\":\"RECHAZADO\",\"approval_score\":0.9248723388,\"applicant_id\":157320},{\"label\":\"APROBADO\",\"approval_score\":0.9770473242,\"applicant_id\":157386},{\"label\":\"RECHAZADO\",\"approval_score\":0.9333943129,\"applicant_id\":157398},{\"label\":\"RECHAZADO\",\"approval_score\":0.720512867,\"applicant_id\":157656},{\"label\":\"APROBADO\",\"approval_score\":0.9460120797,\"applicant_id\":157803},{\"label\":\"RECHAZADO\",\"approval_score\":0.7088524699,\"applicant_id\":158125},{\"label\":\"RECHAZADO\",\"approval_score\":0.6917731166,\"applicant_id\":158216},{\"label\":\"RECHAZADO\",\"approval_score\":0.7625352144,\"applicant_id\":158226},{\"label\":\"RECHAZADO\",\"approval_score\":0.5574324727,\"applicant_id\":158232},{\"label\":\"RECHAZADO\",\"approval_score\":0.7898323536,\"applicant_id\":157706},{\"label\":\"APROBADO\",\"approval_score\":0.9435363412,\"applicant_id\":157707},{\"label\":\"RECHAZADO\",\"approval_score\":0.8859986067,\"applicant_id\":157711},{\"label\":\"RECHAZADO\",\"approval_score\":0.8676443696,\"applicant_id\":157714},{\"label\":\"RECHAZADO\",\"approval_score\":0.817691803,\"applicant_id\":157717},{\"label\":\"RECHAZADO\",\"approval_score\":0.5661253929,\"applicant_id\":157818},{\"label\":\"RECHAZADO\",\"approval_score\":0.9178352952,\"applicant_id\":153097},{\"label\":\"RECHAZADO\",\"approval_score\":0.7629235387,\"applicant_id\":153978},{\"label\":\"RECHAZADO\",\"approval_score\":0.8591858745,\"applicant_id\":154074},{\"label\":\"RECHAZADO\",\"approval_score\":0.86812675,\"applicant_id\":154098},{\"label\":\"RECHAZADO\",\"approval_score\":0.8097963929,\"applicant_id\":154101},{\"label\":\"RECHAZADO\",\"approval_score\":0.9099230766,\"applicant_id\":154102},{\"label\":\"RECHAZADO\",\"approval_score\":0.7115474343,\"applicant_id\":154104},{\"label\":\"RECHAZADO\",\"approval_score\":0.8842876554,\"applicant_id\":154107},{\"label\":\"RECHAZADO\",\"approval_score\":0.8781448603,\"applicant_id\":154110},{\"label\":\"RECHAZADO\",\"approval_score\":0.8147932887,\"applicant_id\":154333},{\"label\":\"APROBADO\",\"approval_score\":0.9430759549,\"applicant_id\":154383},{\"label\":\"RECHAZADO\",\"approval_score\":0.810154438,\"applicant_id\":154458},{\"label\":\"RECHAZADO\",\"approval_score\":0.8980122209,\"applicant_id\":159547},{\"label\":\"RECHAZADO\",\"approval_score\":0.850671947,\"applicant_id\":159584},{\"label\":\"RECHAZADO\",\"approval_score\":0.6985198855,\"applicant_id\":159606},{\"label\":\"RECHAZADO\",\"approval_score\":0.8820847273,\"applicant_id\":159772},{\"label\":\"RECHAZADO\",\"approval_score\":0.7736742496,\"applicant_id\":159791},{\"label\":\"APROBADO\",\"approval_score\":0.9372504354,\"applicant_id\":154075},{\"label\":\"APROBADO\",\"approval_score\":0.964345932,\"applicant_id\":154077},{\"label\":\"RECHAZADO\",\"approval_score\":0.9236493111,\"applicant_id\":154084},{\"label\":\"RECHAZADO\",\"approval_score\":0.9142891765,\"applicant_id\":154100},{\"label\":\"RECHAZADO\",\"approval_score\":0.5047881603,\"applicant_id\":152523},{\"label\":\"RECHAZADO\",\"approval_score\":0.8533086181,\"applicant_id\":152794},{\"label\":\"RECHAZADO\",\"approval_score\":0.769266367,\"applicant_id\":153163},{\"label\":\"RECHAZADO\",\"approval_score\":0.8841866851,\"applicant_id\":153166},{\"label\":\"RECHAZADO\",\"approval_score\":0.7756001353,\"applicant_id\":153167},{\"label\":\"RECHAZADO\",\"approval_score\":0.7084542513,\"applicant_id\":153172},{\"label\":\"RECHAZADO\",\"approval_score\":0.9315881729,\"applicant_id\":153400},{\"label\":\"RECHAZADO\",\"approval_score\":0.8760922551,\"applicant_id\":153401},{\"label\":\"APROBADO\",\"approval_score\":0.9534783363,\"applicant_id\":153427},{\"label\":\"RECHAZADO\",\"approval_score\":0.6807120442,\"applicant_id\":153502},{\"label\":\"RECHAZADO\",\"approval_score\":0.8340389132,\"applicant_id\":153543},{\"label\":\"RECHAZADO\",\"approval_score\":0.8113281131,\"applicant_id\":158164},{\"label\":\"RECHAZADO\",\"approval_score\":0.8000623584,\"applicant_id\":158406},{\"label\":\"RECHAZADO\",\"approval_score\":0.88739115,\"applicant_id\":158415},{\"label\":\"RECHAZADO\",\"approval_score\":0.771184206,\"applicant_id\":158416},{\"label\":\"RECHAZADO\",\"approval_score\":0.7533398271,\"applicant_id\":158417},{\"label\":\"RECHAZADO\",\"approval_score\":0.829977572,\"applicant_id\":158541},{\"label\":\"RECHAZADO\",\"approval_score\":0.8909551501,\"applicant_id\":158543},{\"label\":\"RECHAZADO\",\"approval_score\":0.7616188526,\"applicant_id\":158626},{\"label\":\"RECHAZADO\",\"approval_score\":0.821767211,\"applicant_id\":158673},{\"label\":\"RECHAZADO\",\"approval_score\":0.7190501094,\"applicant_id\":158674},{\"label\":\"RECHAZADO\",\"approval_score\":0.6028724313,\"applicant_id\":158675},{\"label\":\"RECHAZADO\",\"approval_score\":0.5830839276,\"applicant_id\":158677},{\"label\":\"RECHAZADO\",\"approval_score\":0.6700707078,\"applicant_id\":158678},{\"label\":\"RECHAZADO\",\"approval_score\":0.7906766534,\"applicant_id\":158717},{\"label\":\"RECHAZADO\",\"approval_score\":0.775813818,\"applicant_id\":158739},{\"label\":\"RECHAZADO\",\"approval_score\":0.57228899,\"applicant_id\":158742},{\"label\":\"RECHAZADO\",\"approval_score\":0.7772554755,\"applicant_id\":158755},{\"label\":\"RECHAZADO\",\"approval_score\":0.689662993,\"applicant_id\":158769},{\"label\":\"RECHAZADO\",\"approval_score\":0.633030653,\"applicant_id\":158818},{\"label\":\"RECHAZADO\",\"approval_score\":0.8891035318,\"applicant_id\":152760},{\"label\":\"RECHAZADO\",\"approval_score\":0.7248499393,\"applicant_id\":153516},{\"label\":\"RECHAZADO\",\"approval_score\":0.8962575793,\"applicant_id\":153547},{\"label\":\"APROBADO\",\"approval_score\":0.9465095997,\"applicant_id\":153549},{\"label\":\"RECHAZADO\",\"approval_score\":0.6441716552,\"applicant_id\":156128},{\"label\":\"RECHAZADO\",\"approval_score\":0.7904498577,\"applicant_id\":156129},{\"label\":\"RECHAZADO\",\"approval_score\":0.8973610997,\"applicant_id\":156130},{\"label\":\"RECHAZADO\",\"approval_score\":0.7189344764,\"applicant_id\":156138},{\"label\":\"RECHAZADO\",\"approval_score\":0.8549022079,\"applicant_id\":156140},{\"label\":\"RECHAZADO\",\"approval_score\":0.8948258162,\"applicant_id\":156403},{\"label\":\"RECHAZADO\",\"approval_score\":0.7598791122,\"applicant_id\":156404},{\"label\":\"APROBADO\",\"approval_score\":0.9432458282,\"applicant_id\":156405},{\"label\":\"RECHAZADO\",\"approval_score\":0.8307287693,\"applicant_id\":156406},{\"label\":\"RECHAZADO\",\"approval_score\":0.826357007,\"applicant_id\":156407},{\"label\":\"RECHAZADO\",\"approval_score\":0.6915311813,\"applicant_id\":159930},{\"label\":\"RECHAZADO\",\"approval_score\":0.7332689166,\"applicant_id\":159598},{\"label\":\"RECHAZADO\",\"approval_score\":0.7480641007,\"applicant_id\":159599},{\"label\":\"RECHAZADO\",\"approval_score\":0.8796386719,\"applicant_id\":154897},{\"label\":\"RECHAZADO\",\"approval_score\":0.7764093876,\"applicant_id\":157537},{\"label\":\"RECHAZADO\",\"approval_score\":0.5628537536,\"applicant_id\":157538},{\"label\":\"RECHAZADO\",\"approval_score\":0.9358587265,\"applicant_id\":157541},{\"label\":\"RECHAZADO\",\"approval_score\":0.7467343211,\"applicant_id\":158945},{\"label\":\"APROBADO\",\"approval_score\":0.9670222998,\"applicant_id\":159109},{\"label\":\"APROBADO\",\"approval_score\":0.9551747441,\"applicant_id\":159115},{\"label\":\"RECHAZADO\",\"approval_score\":0.8879165053,\"applicant_id\":159406},{\"label\":\"APROBADO\",\"approval_score\":0.9736338258,\"applicant_id\":158607},{\"label\":\"APROBADO\",\"approval_score\":0.9677812457,\"applicant_id\":158608},{\"label\":\"APROBADO\",\"approval_score\":0.9591778517,\"applicant_id\":158609},{\"label\":\"APROBADO\",\"approval_score\":0.9600589275,\"applicant_id\":158611},{\"label\":\"APROBADO\",\"approval_score\":0.9558628201,\"applicant_id\":158808},{\"label\":\"APROBADO\",\"approval_score\":0.9573122859,\"applicant_id\":158809},{\"label\":\"RECHAZADO\",\"approval_score\":0.8534142375,\"applicant_id\":152472},{\"label\":\"RECHAZADO\",\"approval_score\":0.8807351589,\"applicant_id\":154812},{\"label\":\"RECHAZADO\",\"approval_score\":0.8755491972,\"applicant_id\":154821},{\"label\":\"RECHAZADO\",\"approval_score\":0.9189555049,\"applicant_id\":154822},{\"label\":\"RECHAZADO\",\"approval_score\":0.8585429788,\"applicant_id\":154824},{\"label\":\"RECHAZADO\",\"approval_score\":0.7346997857,\"applicant_id\":154837},{\"label\":\"RECHAZADO\",\"approval_score\":0.8538451791,\"applicant_id\":153099},{\"label\":\"RECHAZADO\",\"approval_score\":0.8200646043,\"applicant_id\":153101},{\"label\":\"RECHAZADO\",\"approval_score\":0.8162748814,\"applicant_id\":153105},{\"label\":\"RECHAZADO\",\"approval_score\":0.916565299,\"applicant_id\":153395},{\"label\":\"RECHAZADO\",\"approval_score\":0.9050086141,\"applicant_id\":157915},{\"label\":\"RECHAZADO\",\"approval_score\":0.8179988265,\"applicant_id\":154435},{\"label\":\"RECHAZADO\",\"approval_score\":0.7897319198,\"applicant_id\":154436},{\"label\":\"RECHAZADO\",\"approval_score\":0.7766871452,\"applicant_id\":154437},{\"label\":\"RECHAZADO\",\"approval_score\":0.7074896693,\"applicant_id\":154438},{\"label\":\"RECHAZADO\",\"approval_score\":0.8725112081,\"applicant_id\":154439},{\"label\":\"RECHAZADO\",\"approval_score\":0.6925738454,\"applicant_id\":154567},{\"label\":\"RECHAZADO\",\"approval_score\":0.5845819712,\"applicant_id\":157243},{\"label\":\"RECHAZADO\",\"approval_score\":0.7352359891,\"applicant_id\":157310},{\"label\":\"RECHAZADO\",\"approval_score\":0.8514181376,\"applicant_id\":157483},{\"label\":\"RECHAZADO\",\"approval_score\":0.7726653218,\"applicant_id\":157558},{\"label\":\"RECHAZADO\",\"approval_score\":0.5465457439,\"applicant_id\":157937},{\"label\":\"RECHAZADO\",\"approval_score\":0.7285735011,\"applicant_id\":158379},{\"label\":\"RECHAZADO\",\"approval_score\":0.7676526904,\"applicant_id\":158380},{\"label\":\"RECHAZADO\",\"approval_score\":0.8818005919,\"applicant_id\":158381},{\"label\":\"RECHAZADO\",\"approval_score\":0.7506349087,\"applicant_id\":158382},{\"label\":\"RECHAZADO\",\"approval_score\":0.8109819889,\"applicant_id\":158385},{\"label\":\"RECHAZADO\",\"approval_score\":0.6770452261,\"applicant_id\":158386},{\"label\":\"RECHAZADO\",\"approval_score\":0.8835155368,\"applicant_id\":158887},{\"label\":\"RECHAZADO\",\"approval_score\":0.9000990391,\"applicant_id\":159024},{\"label\":\"RECHAZADO\",\"approval_score\":0.8500891328,\"applicant_id\":159025},{\"label\":\"RECHAZADO\",\"approval_score\":0.9102568626,\"applicant_id\":159026},{\"label\":\"RECHAZADO\",\"approval_score\":0.9203416705,\"applicant_id\":159027},{\"label\":\"RECHAZADO\",\"approval_score\":0.8477579355,\"applicant_id\":156048},{\"label\":\"RECHAZADO\",\"approval_score\":0.8428530693,\"applicant_id\":156156},{\"label\":\"RECHAZADO\",\"approval_score\":0.9259775281,\"applicant_id\":156849},{\"label\":\"APROBADO\",\"approval_score\":0.938120842,\"applicant_id\":156851},{\"label\":\"APROBADO\",\"approval_score\":0.9640657306,\"applicant_id\":156872},{\"label\":\"APROBADO\",\"approval_score\":0.9395449758,\"applicant_id\":156876},{\"label\":\"APROBADO\",\"approval_score\":0.9481698871,\"applicant_id\":156878},{\"label\":\"RECHAZADO\",\"approval_score\":0.8398101926,\"applicant_id\":151527},{\"label\":\"RECHAZADO\",\"approval_score\":0.6109436154,\"applicant_id\":153824},{\"label\":\"RECHAZADO\",\"approval_score\":0.8461575508,\"applicant_id\":153825},{\"label\":\"RECHAZADO\",\"approval_score\":0.6245297194,\"applicant_id\":153828},{\"label\":\"RECHAZADO\",\"approval_score\":0.7257499099,\"applicant_id\":153837},{\"label\":\"RECHAZADO\",\"approval_score\":0.7573621869,\"applicant_id\":153320},{\"label\":\"RECHAZADO\",\"approval_score\":0.6499617696,\"applicant_id\":153323},{\"label\":\"RECHAZADO\",\"approval_score\":0.8573035598,\"applicant_id\":153343},{\"label\":\"RECHAZADO\",\"approval_score\":0.8183556795,\"applicant_id\":153431},{\"label\":\"RECHAZADO\",\"approval_score\":0.8392419815,\"applicant_id\":153500},{\"label\":\"APROBADO\",\"approval_score\":0.9506668448,\"applicant_id\":153504},{\"label\":\"RECHAZADO\",\"approval_score\":0.8779708743,\"applicant_id\":153509},{\"label\":\"RECHAZADO\",\"approval_score\":0.7347411513,\"applicant_id\":153518},{\"label\":\"RECHAZADO\",\"approval_score\":0.7162132859,\"applicant_id\":153544},{\"label\":\"APROBADO\",\"approval_score\":0.9427822828,\"applicant_id\":153564},{\"label\":\"RECHAZADO\",\"approval_score\":0.6890015006,\"applicant_id\":153565},{\"label\":\"RECHAZADO\",\"approval_score\":0.8849974871,\"applicant_id\":153704},{\"label\":\"APROBADO\",\"approval_score\":0.9410020709,\"applicant_id\":153705},{\"label\":\"RECHAZADO\",\"approval_score\":0.8812554479,\"applicant_id\":154441},{\"label\":\"RECHAZADO\",\"approval_score\":0.6651146412,\"applicant_id\":154443},{\"label\":\"RECHAZADO\",\"approval_score\":0.7351980805,\"applicant_id\":154449},{\"label\":\"RECHAZADO\",\"approval_score\":0.7568798065,\"applicant_id\":154459},{\"label\":\"APROBADO\",\"approval_score\":0.9361394644,\"applicant_id\":154707},{\"label\":\"RECHAZADO\",\"approval_score\":0.8282054663,\"applicant_id\":154716},{\"label\":\"RECHAZADO\",\"approval_score\":0.7797865272,\"applicant_id\":154840},{\"label\":\"RECHAZADO\",\"approval_score\":0.9010193348,\"applicant_id\":157659},{\"label\":\"RECHAZADO\",\"approval_score\":0.8834819198,\"applicant_id\":157681},{\"label\":\"RECHAZADO\",\"approval_score\":0.850410223,\"applicant_id\":157728},{\"label\":\"RECHAZADO\",\"approval_score\":0.8679411411,\"applicant_id\":157912},{\"label\":\"APROBADO\",\"approval_score\":0.9469435215,\"applicant_id\":154899},{\"label\":\"RECHAZADO\",\"approval_score\":0.8814677,\"applicant_id\":154900},{\"label\":\"APROBADO\",\"approval_score\":0.9644306302,\"applicant_id\":154902},{\"label\":\"APROBADO\",\"approval_score\":0.9640986919,\"applicant_id\":154905},{\"label\":\"APROBADO\",\"approval_score\":0.9739431143,\"applicant_id\":154906},{\"label\":\"RECHAZADO\",\"approval_score\":0.9224604368,\"applicant_id\":155415},{\"label\":\"APROBADO\",\"approval_score\":0.9614703655,\"applicant_id\":155558},{\"label\":\"APROBADO\",\"approval_score\":0.9504222274,\"applicant_id\":155569},{\"label\":\"RECHAZADO\",\"approval_score\":0.9072510004,\"applicant_id\":148081},{\"label\":\"RECHAZADO\",\"approval_score\":0.869976759,\"applicant_id\":152286},{\"label\":\"RECHAZADO\",\"approval_score\":0.9254021645,\"applicant_id\":152563},{\"label\":\"RECHAZADO\",\"approval_score\":0.8460888267,\"applicant_id\":152623},{\"label\":\"RECHAZADO\",\"approval_score\":0.9014944434,\"applicant_id\":152793},{\"label\":\"RECHAZADO\",\"approval_score\":0.7589199543,\"applicant_id\":152953},{\"label\":\"RECHAZADO\",\"approval_score\":0.7481760979,\"applicant_id\":152985},{\"label\":\"RECHAZADO\",\"approval_score\":0.9298586249,\"applicant_id\":153202},{\"label\":\"RECHAZADO\",\"approval_score\":0.9006126523,\"applicant_id\":153248},{\"label\":\"RECHAZADO\",\"approval_score\":0.6953096986,\"applicant_id\":153251},{\"label\":\"RECHAZADO\",\"approval_score\":0.8220122457,\"applicant_id\":153678},{\"label\":\"RECHAZADO\",\"approval_score\":0.6793764234,\"applicant_id\":153855},{\"label\":\"RECHAZADO\",\"approval_score\":0.5768162608,\"applicant_id\":153878},{\"label\":\"RECHAZADO\",\"approval_score\":0.6494135261,\"applicant_id\":153889},{\"label\":\"RECHAZADO\",\"approval_score\":0.831430316,\"applicant_id\":152624},{\"label\":\"RECHAZADO\",\"approval_score\":0.8851271868,\"applicant_id\":153082},{\"label\":\"RECHAZADO\",\"approval_score\":0.906260848,\"applicant_id\":153085},{\"label\":\"RECHAZADO\",\"approval_score\":0.8887321949,\"applicant_id\":153086},{\"label\":\"APROBADO\",\"approval_score\":0.9406144023,\"applicant_id\":153087},{\"label\":\"RECHAZADO\",\"approval_score\":0.8340940475,\"applicant_id\":153096},{\"label\":\"RECHAZADO\",\"approval_score\":0.9183180928,\"applicant_id\":153199},{\"label\":\"RECHAZADO\",\"approval_score\":0.9070628285,\"applicant_id\":158354},{\"label\":\"RECHAZADO\",\"approval_score\":0.6198001504,\"applicant_id\":158356},{\"label\":\"RECHAZADO\",\"approval_score\":0.7991430759,\"applicant_id\":158579},{\"label\":\"RECHAZADO\",\"approval_score\":0.7546664476,\"applicant_id\":152823},{\"label\":\"RECHAZADO\",\"approval_score\":0.7722622752,\"applicant_id\":153795},{\"label\":\"RECHAZADO\",\"approval_score\":0.8343090415,\"applicant_id\":153838},{\"label\":\"RECHAZADO\",\"approval_score\":0.8345009685,\"applicant_id\":153857},{\"label\":\"APROBADO\",\"approval_score\":0.9666874409,\"applicant_id\":154056},{\"label\":\"RECHAZADO\",\"approval_score\":0.9309793711,\"applicant_id\":153904},{\"label\":\"RECHAZADO\",\"approval_score\":0.9249340296,\"applicant_id\":157598},{\"label\":\"APROBADO\",\"approval_score\":0.9363498092,\"applicant_id\":157602},{\"label\":\"RECHAZADO\",\"approval_score\":0.9202823043,\"applicant_id\":157608},{\"label\":\"RECHAZADO\",\"approval_score\":0.9291498065,\"applicant_id\":157719},{\"label\":\"RECHAZADO\",\"approval_score\":0.9058961868,\"applicant_id\":158022},{\"label\":\"RECHAZADO\",\"approval_score\":0.8555726409,\"applicant_id\":158128},{\"label\":\"RECHAZADO\",\"approval_score\":0.6700590253,\"applicant_id\":153138},{\"label\":\"RECHAZADO\",\"approval_score\":0.6146050096,\"applicant_id\":153183},{\"label\":\"RECHAZADO\",\"approval_score\":0.6845389009,\"applicant_id\":153185},{\"label\":\"RECHAZADO\",\"approval_score\":0.7209898233,\"applicant_id\":153197},{\"label\":\"RECHAZADO\",\"approval_score\":0.6174001098,\"applicant_id\":153220},{\"label\":\"RECHAZADO\",\"approval_score\":0.7210037112,\"applicant_id\":157412},{\"label\":\"RECHAZADO\",\"approval_score\":0.7931701541,\"applicant_id\":157421},{\"label\":\"RECHAZADO\",\"approval_score\":0.8523650169,\"applicant_id\":157661},{\"label\":\"APROBADO\",\"approval_score\":0.9539473057,\"applicant_id\":157662},{\"label\":\"RECHAZADO\",\"approval_score\":0.8517827988,\"applicant_id\":157675},{\"label\":\"RECHAZADO\",\"approval_score\":0.8598273396,\"applicant_id\":157676},{\"label\":\"RECHAZADO\",\"approval_score\":0.7026783824,\"applicant_id\":157680},{\"label\":\"RECHAZADO\",\"approval_score\":0.8538827896,\"applicant_id\":154262},{\"label\":\"RECHAZADO\",\"approval_score\":0.7987379432,\"applicant_id\":154358},{\"label\":\"RECHAZADO\",\"approval_score\":0.8644830585,\"applicant_id\":154360},{\"label\":\"RECHAZADO\",\"approval_score\":0.8834477663,\"applicant_id\":154559},{\"label\":\"RECHAZADO\",\"approval_score\":0.8869214654,\"applicant_id\":154265},{\"label\":\"RECHAZADO\",\"approval_score\":0.8320813179,\"applicant_id\":159513},{\"label\":\"RECHAZADO\",\"approval_score\":0.7957461476,\"applicant_id\":160115},{\"label\":\"RECHAZADO\",\"approval_score\":0.8643627763,\"applicant_id\":160133},{\"label\":\"RECHAZADO\",\"approval_score\":0.8699604869,\"applicant_id\":160142},{\"label\":\"RECHAZADO\",\"approval_score\":0.8984377384,\"applicant_id\":160143},{\"label\":\"RECHAZADO\",\"approval_score\":0.8766568899,\"applicant_id\":152945},{\"label\":\"APROBADO\",\"approval_score\":0.9474722743,\"applicant_id\":152999},{\"label\":\"APROBADO\",\"approval_score\":0.9656844139,\"applicant_id\":159298},{\"label\":\"RECHAZADO\",\"approval_score\":0.9130971432,\"applicant_id\":159299},{\"label\":\"APROBADO\",\"approval_score\":0.9538456798,\"applicant_id\":159300},{\"label\":\"APROBADO\",\"approval_score\":0.9456614256,\"applicant_id\":159308},{\"label\":\"RECHAZADO\",\"approval_score\":0.7908226848,\"applicant_id\":156419},{\"label\":\"RECHAZADO\",\"approval_score\":0.8284599185,\"applicant_id\":154464},{\"label\":\"RECHAZADO\",\"approval_score\":0.8188983798,\"applicant_id\":158165},{\"label\":\"RECHAZADO\",\"approval_score\":0.6218548417,\"applicant_id\":158169},{\"label\":\"RECHAZADO\",\"approval_score\":0.7843936682,\"applicant_id\":158227},{\"label\":\"RECHAZADO\",\"approval_score\":0.7622261047,\"applicant_id\":158228},{\"label\":\"RECHAZADO\",\"approval_score\":0.8552988172,\"applicant_id\":155005},{\"label\":\"RECHAZADO\",\"approval_score\":0.6630484462,\"applicant_id\":151626},{\"label\":\"RECHAZADO\",\"approval_score\":0.9333021045,\"applicant_id\":151642},{\"label\":\"RECHAZADO\",\"approval_score\":0.9183622003,\"applicant_id\":151802},{\"label\":\"RECHAZADO\",\"approval_score\":0.8535401821,\"applicant_id\":151883},{\"label\":\"RECHAZADO\",\"approval_score\":0.5034964085,\"applicant_id\":152317},{\"label\":\"APROBADO\",\"approval_score\":0.9403858185,\"applicant_id\":156210},{\"label\":\"RECHAZADO\",\"approval_score\":0.9243594408,\"applicant_id\":156213},{\"label\":\"APROBADO\",\"approval_score\":0.9413501024,\"applicant_id\":156216},{\"label\":\"RECHAZADO\",\"approval_score\":0.857532084,\"applicant_id\":156219},{\"label\":\"RECHAZADO\",\"approval_score\":0.8667371273,\"applicant_id\":156222},{\"label\":\"RECHAZADO\",\"approval_score\":0.7639585137,\"applicant_id\":158405},{\"label\":\"RECHAZADO\",\"approval_score\":0.8431481123,\"applicant_id\":158527},{\"label\":\"RECHAZADO\",\"approval_score\":0.8237382174,\"applicant_id\":158542},{\"label\":\"RECHAZADO\",\"approval_score\":0.5133653879,\"applicant_id\":158584},{\"label\":\"RECHAZADO\",\"approval_score\":0.6944723129,\"applicant_id\":153706},{\"label\":\"RECHAZADO\",\"approval_score\":0.8693578839,\"applicant_id\":153981},{\"label\":\"RECHAZADO\",\"approval_score\":0.6338717937,\"applicant_id\":158844},{\"label\":\"RECHAZADO\",\"approval_score\":0.7650081515,\"applicant_id\":158890},{\"label\":\"RECHAZADO\",\"approval_score\":0.8482478261,\"applicant_id\":158900},{\"label\":\"RECHAZADO\",\"approval_score\":0.7001806498,\"applicant_id\":158903},{\"label\":\"RECHAZADO\",\"approval_score\":0.6840712428,\"applicant_id\":158904},{\"label\":\"RECHAZADO\",\"approval_score\":0.8783999681,\"applicant_id\":158582},{\"label\":\"RECHAZADO\",\"approval_score\":0.7221030593,\"applicant_id\":158612},{\"label\":\"RECHAZADO\",\"approval_score\":0.8260772824,\"applicant_id\":156621},{\"label\":\"RECHAZADO\",\"approval_score\":0.8858969808,\"applicant_id\":152850},{\"label\":\"RECHAZADO\",\"approval_score\":0.7254223824,\"applicant_id\":152941},{\"label\":\"RECHAZADO\",\"approval_score\":0.9357525706,\"applicant_id\":158746},{\"label\":\"APROBADO\",\"approval_score\":0.94768399,\"applicant_id\":152069},{\"label\":\"APROBADO\",\"approval_score\":0.9612899423,\"applicant_id\":152960},{\"label\":\"RECHAZADO\",\"approval_score\":0.4332666099,\"applicant_id\":153000},{\"label\":\"RECHAZADO\",\"approval_score\":0.9302851558,\"applicant_id\":153001},{\"label\":\"APROBADO\",\"approval_score\":0.9501018524,\"applicant_id\":153018},{\"label\":\"RECHAZADO\",\"approval_score\":0.6943380237,\"applicant_id\":159607},{\"label\":\"RECHAZADO\",\"approval_score\":0.7051596045,\"applicant_id\":158627},{\"label\":\"RECHAZADO\",\"approval_score\":0.772401154,\"applicant_id\":159328},{\"label\":\"RECHAZADO\",\"approval_score\":0.6663827896,\"applicant_id\":159332},{\"label\":\"RECHAZADO\",\"approval_score\":0.6927713752,\"applicant_id\":159373},{\"label\":\"RECHAZADO\",\"approval_score\":0.7193524241,\"applicant_id\":158209},{\"label\":\"RECHAZADO\",\"approval_score\":0.5847338438,\"applicant_id\":152566},{\"label\":\"RECHAZADO\",\"approval_score\":0.9089211822,\"applicant_id\":154377},{\"label\":\"RECHAZADO\",\"approval_score\":0.7129612565,\"applicant_id\":152636},{\"label\":\"RECHAZADO\",\"approval_score\":0.8253003955,\"applicant_id\":152384},{\"label\":\"RECHAZADO\",\"approval_score\":0.9237159491,\"applicant_id\":152385},{\"label\":\"RECHAZADO\",\"approval_score\":0.862367928,\"applicant_id\":152474},{\"label\":\"RECHAZADO\",\"approval_score\":0.9206178188,\"applicant_id\":152536},{\"label\":\"RECHAZADO\",\"approval_score\":0.8477939367,\"applicant_id\":154888},{\"label\":\"RECHAZADO\",\"approval_score\":0.8998011947,\"applicant_id\":154976},{\"label\":\"RECHAZADO\",\"approval_score\":0.9244053364,\"applicant_id\":154879},{\"label\":\"RECHAZADO\",\"approval_score\":0.9223031402,\"applicant_id\":154811},{\"label\":\"APROBADO\",\"approval_score\":0.9527959228,\"applicant_id\":152210},{\"label\":\"RECHAZADO\",\"approval_score\":0.658811748,\"applicant_id\":152212},{\"label\":\"APROBADO\",\"approval_score\":0.9442312717,\"applicant_id\":145969},{\"label\":\"RECHAZADO\",\"approval_score\":0.6828646064,\"applicant_id\":155265},{\"label\":\"RECHAZADO\",\"approval_score\":0.6928795576,\"applicant_id\":160181},{\"label\":\"RECHAZADO\",\"approval_score\":0.8576275706,\"applicant_id\":158862},{\"label\":\"RECHAZADO\",\"approval_score\":0.7959305644,\"applicant_id\":158907},{\"label\":\"RECHAZADO\",\"approval_score\":0.724326849,\"applicant_id\":159177},{\"label\":\"RECHAZADO\",\"approval_score\":0.9050210118,\"applicant_id\":152120},{\"label\":\"RECHAZADO\",\"approval_score\":0.8655635118,\"applicant_id\":153602},{\"label\":\"RECHAZADO\",\"approval_score\":0.7548803687,\"applicant_id\":153603},{\"label\":\"RECHAZADO\",\"approval_score\":0.7718824148,\"applicant_id\":159835},{\"label\":\"RECHAZADO\",\"approval_score\":0.82064569,\"applicant_id\":154767},{\"label\":\"RECHAZADO\",\"approval_score\":0.8936924934,\"applicant_id\":154975},{\"label\":\"RECHAZADO\",\"approval_score\":0.9153131843,\"applicant_id\":157530},{\"label\":\"RECHAZADO\",\"approval_score\":0.9063500762,\"applicant_id\":157534},{\"label\":\"RECHAZADO\",\"approval_score\":0.8413252234,\"applicant_id\":157348},{\"label\":\"RECHAZADO\",\"approval_score\":0.6693468094,\"applicant_id\":158860},{\"label\":\"RECHAZADO\",\"approval_score\":0.7360247374,\"applicant_id\":158865},{\"label\":\"RECHAZADO\",\"approval_score\":0.6693212986,\"applicant_id\":158867},{\"label\":\"RECHAZADO\",\"approval_score\":0.6468951702,\"applicant_id\":159058},{\"label\":\"RECHAZADO\",\"approval_score\":0.8600975275,\"applicant_id\":154076},{\"label\":\"RECHAZADO\",\"approval_score\":0.8883544803,\"applicant_id\":158847},{\"label\":\"RECHAZADO\",\"approval_score\":0.7558094263,\"applicant_id\":159061},{\"label\":\"RECHAZADO\",\"approval_score\":0.844532609,\"applicant_id\":159062},{\"label\":\"RECHAZADO\",\"approval_score\":0.8363605738,\"applicant_id\":155959},{\"label\":\"RECHAZADO\",\"approval_score\":0.8791670203,\"applicant_id\":155966},{\"label\":\"RECHAZADO\",\"approval_score\":0.9266032577,\"applicant_id\":156030},{\"label\":\"APROBADO\",\"approval_score\":0.9486476779,\"applicant_id\":156147},{\"label\":\"RECHAZADO\",\"approval_score\":0.8819619417,\"applicant_id\":156202},{\"label\":\"RECHAZADO\",\"approval_score\":0.9200951457,\"applicant_id\":158823},{\"label\":\"RECHAZADO\",\"approval_score\":0.9109769464,\"applicant_id\":155925},{\"label\":\"RECHAZADO\",\"approval_score\":0.7184949517,\"applicant_id\":159821},{\"label\":\"RECHAZADO\",\"approval_score\":0.9218489528,\"applicant_id\":159822},{\"label\":\"RECHAZADO\",\"approval_score\":0.9047917128,\"applicant_id\":159828},{\"label\":\"RECHAZADO\",\"approval_score\":0.8557729125,\"applicant_id\":153822},{\"label\":\"RECHAZADO\",\"approval_score\":0.5688164234,\"applicant_id\":154113},{\"label\":\"APROBADO\",\"approval_score\":0.9708045721,\"applicant_id\":154290},{\"label\":\"RECHAZADO\",\"approval_score\":0.8741466999,\"applicant_id\":155452},{\"label\":\"RECHAZADO\",\"approval_score\":0.8146195412,\"applicant_id\":160231},{\"label\":\"RECHAZADO\",\"approval_score\":0.9059573412,\"applicant_id\":160547},{\"label\":\"RECHAZADO\",\"approval_score\":0.663662076,\"applicant_id\":157406},{\"label\":\"RECHAZADO\",\"approval_score\":0.8628821373,\"applicant_id\":157510},{\"label\":\"RECHAZADO\",\"approval_score\":0.884244442,\"applicant_id\":159585},{\"label\":\"RECHAZADO\",\"approval_score\":0.8739981651,\"applicant_id\":154488},{\"label\":\"RECHAZADO\",\"approval_score\":0.7792188525,\"applicant_id\":154494},{\"label\":\"RECHAZADO\",\"approval_score\":0.8560747504,\"applicant_id\":154876},{\"label\":\"RECHAZADO\",\"approval_score\":0.8045375943,\"applicant_id\":154878},{\"label\":\"APROBADO\",\"approval_score\":0.9377290606,\"applicant_id\":154135},{\"label\":\"RECHAZADO\",\"approval_score\":0.9296820164,\"applicant_id\":159515},{\"label\":\"RECHAZADO\",\"approval_score\":0.9027549028,\"applicant_id\":160121},{\"label\":\"RECHAZADO\",\"approval_score\":0.9230351448,\"applicant_id\":160325},{\"label\":\"RECHAZADO\",\"approval_score\":0.903390944,\"applicant_id\":160328},{\"label\":\"RECHAZADO\",\"approval_score\":0.7224125266,\"applicant_id\":160330},{\"label\":\"APROBADO\",\"approval_score\":0.9378817081,\"applicant_id\":160332},{\"label\":\"RECHAZADO\",\"approval_score\":0.8227905631,\"applicant_id\":160336},{\"label\":\"RECHAZADO\",\"approval_score\":0.8903486133,\"applicant_id\":160337},{\"label\":\"RECHAZADO\",\"approval_score\":0.9340111017,\"applicant_id\":160338},{\"label\":\"RECHAZADO\",\"approval_score\":0.8146240115,\"applicant_id\":159297},{\"label\":\"RECHAZADO\",\"approval_score\":0.9076730609,\"applicant_id\":159181},{\"label\":\"RECHAZADO\",\"approval_score\":0.883392036,\"applicant_id\":159302},{\"label\":\"RECHAZADO\",\"approval_score\":0.9356258512,\"applicant_id\":151844},{\"label\":\"RECHAZADO\",\"approval_score\":0.6647737622,\"applicant_id\":152263},{\"label\":\"RECHAZADO\",\"approval_score\":0.8543245196,\"applicant_id\":154927},{\"label\":\"RECHAZADO\",\"approval_score\":0.7509355545,\"applicant_id\":154932},{\"label\":\"RECHAZADO\",\"approval_score\":0.9025428891,\"applicant_id\":158056},{\"label\":\"RECHAZADO\",\"approval_score\":0.8030629754,\"applicant_id\":159018},{\"label\":\"RECHAZADO\",\"approval_score\":0.8617098927,\"applicant_id\":156456},{\"label\":\"RECHAZADO\",\"approval_score\":0.8698276281,\"applicant_id\":156462},{\"label\":\"RECHAZADO\",\"approval_score\":0.8368338943,\"applicant_id\":157176},{\"label\":\"RECHAZADO\",\"approval_score\":0.8562515974,\"applicant_id\":153252},{\"label\":\"RECHAZADO\",\"approval_score\":0.800554812,\"applicant_id\":156623},{\"label\":\"RECHAZADO\",\"approval_score\":0.79120332,\"applicant_id\":156764},{\"label\":\"RECHAZADO\",\"approval_score\":0.7978599072,\"applicant_id\":156848},{\"label\":\"RECHAZADO\",\"approval_score\":0.6400072575,\"applicant_id\":156881},{\"label\":\"RECHAZADO\",\"approval_score\":0.8838211298,\"applicant_id\":157177},{\"label\":\"APROBADO\",\"approval_score\":0.9362568855,\"applicant_id\":159142},{\"label\":\"RECHAZADO\",\"approval_score\":0.8931803703,\"applicant_id\":155968},{\"label\":\"RECHAZADO\",\"approval_score\":0.8646800518,\"applicant_id\":155889},{\"label\":\"RECHAZADO\",\"approval_score\":0.7189925313,\"applicant_id\":156418},{\"label\":\"RECHAZADO\",\"approval_score\":0.8470349312,\"applicant_id\":156422},{\"label\":\"APROBADO\",\"approval_score\":0.9694479704,\"applicant_id\":157287},{\"label\":\"RECHAZADO\",\"approval_score\":0.8538683653,\"applicant_id\":157291},{\"label\":\"RECHAZADO\",\"approval_score\":0.807897687,\"applicant_id\":157311},{\"label\":\"RECHAZADO\",\"approval_score\":0.8823547959,\"applicant_id\":157312},{\"label\":\"RECHAZADO\",\"approval_score\":0.8819382787,\"applicant_id\":157313},{\"label\":\"APROBADO\",\"approval_score\":0.9369097948,\"applicant_id\":157785},{\"label\":\"RECHAZADO\",\"approval_score\":0.9311546087,\"applicant_id\":157786},{\"label\":\"RECHAZADO\",\"approval_score\":0.8428980112,\"applicant_id\":157787},{\"label\":\"RECHAZADO\",\"approval_score\":0.8582943082,\"applicant_id\":157789},{\"label\":\"RECHAZADO\",\"approval_score\":0.8261733651,\"applicant_id\":152826},{\"label\":\"RECHAZADO\",\"approval_score\":0.8551752567,\"applicant_id\":157524},{\"label\":\"RECHAZADO\",\"approval_score\":0.8812137842,\"applicant_id\":154301}')"
   ]
  },
  {
   "cell_type": "code",
   "execution_count": 32,
   "id": "88eb640c",
   "metadata": {},
   "outputs": [],
   "source": [
    "res = pd.DataFrame(res)"
   ]
  },
  {
   "cell_type": "code",
   "execution_count": 33,
   "id": "8063fb4e",
   "metadata": {},
   "outputs": [],
   "source": [
    "data_resultado_quash = data_resultado_quash.merge(res, left_on='id_distribuidor', right_on = 'applicant_id')"
   ]
  },
  {
   "cell_type": "code",
   "execution_count": 34,
   "id": "96299fcb",
   "metadata": {},
   "outputs": [],
   "source": [
    "data_resultado_quash[\"perdida_cosecha_esperada_quash\"] = data_resultado_quash.approval_score.apply(setcut_prob_quash, grupo_ = False)\n",
    "data_resultado_quash[\"grupo_riesgo\"] = data_resultado_quash.approval_score.apply(setcut_prob_quash, grupo_ = True)"
   ]
  },
  {
   "cell_type": "markdown",
   "id": "f1c6260e",
   "metadata": {},
   "source": [
    "**Añadiendo capacidad de pago**"
   ]
  },
  {
   "cell_type": "code",
   "execution_count": 35,
   "id": "b2a543f6",
   "metadata": {},
   "outputs": [],
   "source": [
    "ids = \"(\" + \", \".join(np.array(data_resultado_quash.id_distribuidor, dtype = 'str')) + \")\""
   ]
  },
  {
   "cell_type": "code",
   "execution_count": 36,
   "id": "95bcc9ab",
   "metadata": {},
   "outputs": [],
   "source": [
    "cnx = pymysql.connect(host='159.89.90.197', port = 3306, user='antonio_diaz', passwd=\"4nT0ni_0.dZ\",\n",
    "                               charset='utf8',db = 'volana')\n",
    "cursor = cnx.cursor()\n",
    "sql = f\"\"\"\n",
    "select max(id) as 'id_distribuidor', max(capacidad_pago_semanal) as 'capacidad_pago_semanal'\n",
    "from cc_prospectos_demograficos where id in {ids}\n",
    "group by id\n",
    "\"\"\"\n",
    "cursor.execute(sql)\n",
    "data_capacidad_pago = cursor.fetchall()\n",
    "data_capacidad_pago = pd.DataFrame(data_capacidad_pago, columns=[i[0] for i in cursor.description])\n",
    "cnx.close()"
   ]
  },
  {
   "cell_type": "code",
   "execution_count": 37,
   "id": "139645a9",
   "metadata": {},
   "outputs": [],
   "source": [
    "data_resultado_quash = data_resultado_quash.merge(data_capacidad_pago, on='id_distribuidor', how = 'left')"
   ]
  },
  {
   "cell_type": "code",
   "execution_count": 38,
   "id": "390f8896",
   "metadata": {},
   "outputs": [
    {
     "data": {
      "text/html": [
       "<div>\n",
       "<style scoped>\n",
       "    .dataframe tbody tr th:only-of-type {\n",
       "        vertical-align: middle;\n",
       "    }\n",
       "\n",
       "    .dataframe tbody tr th {\n",
       "        vertical-align: top;\n",
       "    }\n",
       "\n",
       "    .dataframe thead th {\n",
       "        text-align: right;\n",
       "    }\n",
       "</style>\n",
       "<table border=\"1\" class=\"dataframe\">\n",
       "  <thead>\n",
       "    <tr style=\"text-align: right;\">\n",
       "      <th></th>\n",
       "      <th>id_distribuidor</th>\n",
       "      <th>tasa_sugerida</th>\n",
       "      <th>grupo_riesgo</th>\n",
       "      <th>ID ASOCIADO</th>\n",
       "      <th>CAPITAL AUTORIZADO</th>\n",
       "      <th>TASA AUTORIZADA</th>\n",
       "      <th>RECUPERADO</th>\n",
       "      <th>NO RECUPERADO</th>\n",
       "      <th>CERRADO</th>\n",
       "      <th>P COSECHA</th>\n",
       "      <th>label</th>\n",
       "      <th>approval_score</th>\n",
       "      <th>applicant_id</th>\n",
       "      <th>perdida_cosecha_esperada_quash</th>\n",
       "      <th>capacidad_pago_semanal</th>\n",
       "    </tr>\n",
       "  </thead>\n",
       "  <tbody>\n",
       "    <tr>\n",
       "      <th>0</th>\n",
       "      <td>145442</td>\n",
       "      <td>147</td>\n",
       "      <td>4</td>\n",
       "      <td>162807</td>\n",
       "      <td>6000</td>\n",
       "      <td>142</td>\n",
       "      <td>6000.000000</td>\n",
       "      <td>0.000000</td>\n",
       "      <td>SI</td>\n",
       "      <td>0.000000</td>\n",
       "      <td>RECHAZADO</td>\n",
       "      <td>0.900239</td>\n",
       "      <td>145442</td>\n",
       "      <td>6.11</td>\n",
       "      <td>2700.0</td>\n",
       "    </tr>\n",
       "    <tr>\n",
       "      <th>1</th>\n",
       "      <td>145444</td>\n",
       "      <td>147</td>\n",
       "      <td>4</td>\n",
       "      <td>162806</td>\n",
       "      <td>6000</td>\n",
       "      <td>142</td>\n",
       "      <td>6000.000000</td>\n",
       "      <td>0.000000</td>\n",
       "      <td>SI</td>\n",
       "      <td>0.000000</td>\n",
       "      <td>RECHAZADO</td>\n",
       "      <td>0.905309</td>\n",
       "      <td>145444</td>\n",
       "      <td>6.11</td>\n",
       "      <td>3050.0</td>\n",
       "    </tr>\n",
       "    <tr>\n",
       "      <th>2</th>\n",
       "      <td>153407</td>\n",
       "      <td>0</td>\n",
       "      <td>3</td>\n",
       "      <td>155108</td>\n",
       "      <td>10000</td>\n",
       "      <td>142</td>\n",
       "      <td>10000.000000</td>\n",
       "      <td>0.000000</td>\n",
       "      <td>SI</td>\n",
       "      <td>0.000000</td>\n",
       "      <td>RECHAZADO</td>\n",
       "      <td>0.831750</td>\n",
       "      <td>153407</td>\n",
       "      <td>7.65</td>\n",
       "      <td>1869.0</td>\n",
       "    </tr>\n",
       "    <tr>\n",
       "      <th>3</th>\n",
       "      <td>153409</td>\n",
       "      <td>0</td>\n",
       "      <td>2</td>\n",
       "      <td>155106</td>\n",
       "      <td>7000</td>\n",
       "      <td>142</td>\n",
       "      <td>7000.000000</td>\n",
       "      <td>0.000000</td>\n",
       "      <td>SI</td>\n",
       "      <td>0.000000</td>\n",
       "      <td>RECHAZADO</td>\n",
       "      <td>0.658898</td>\n",
       "      <td>153409</td>\n",
       "      <td>11.80</td>\n",
       "      <td>1240.0</td>\n",
       "    </tr>\n",
       "    <tr>\n",
       "      <th>4</th>\n",
       "      <td>153432</td>\n",
       "      <td>0</td>\n",
       "      <td>2</td>\n",
       "      <td>155107</td>\n",
       "      <td>5000</td>\n",
       "      <td>147</td>\n",
       "      <td>5000.000000</td>\n",
       "      <td>0.000000</td>\n",
       "      <td>SI</td>\n",
       "      <td>0.000000</td>\n",
       "      <td>RECHAZADO</td>\n",
       "      <td>0.742178</td>\n",
       "      <td>153432</td>\n",
       "      <td>11.80</td>\n",
       "      <td>1050.0</td>\n",
       "    </tr>\n",
       "    <tr>\n",
       "      <th>...</th>\n",
       "      <td>...</td>\n",
       "      <td>...</td>\n",
       "      <td>...</td>\n",
       "      <td>...</td>\n",
       "      <td>...</td>\n",
       "      <td>...</td>\n",
       "      <td>...</td>\n",
       "      <td>...</td>\n",
       "      <td>...</td>\n",
       "      <td>...</td>\n",
       "      <td>...</td>\n",
       "      <td>...</td>\n",
       "      <td>...</td>\n",
       "      <td>...</td>\n",
       "      <td>...</td>\n",
       "    </tr>\n",
       "    <tr>\n",
       "      <th>431</th>\n",
       "      <td>157787</td>\n",
       "      <td>0</td>\n",
       "      <td>4</td>\n",
       "      <td>158071</td>\n",
       "      <td>10000</td>\n",
       "      <td>142</td>\n",
       "      <td>10000.000000</td>\n",
       "      <td>0.000000</td>\n",
       "      <td>SI</td>\n",
       "      <td>0.000000</td>\n",
       "      <td>RECHAZADO</td>\n",
       "      <td>0.842898</td>\n",
       "      <td>157787</td>\n",
       "      <td>6.11</td>\n",
       "      <td>3900.0</td>\n",
       "    </tr>\n",
       "    <tr>\n",
       "      <th>432</th>\n",
       "      <td>157789</td>\n",
       "      <td>0</td>\n",
       "      <td>4</td>\n",
       "      <td>158074</td>\n",
       "      <td>10000</td>\n",
       "      <td>142</td>\n",
       "      <td>10000.000000</td>\n",
       "      <td>0.000000</td>\n",
       "      <td>SI</td>\n",
       "      <td>0.000000</td>\n",
       "      <td>RECHAZADO</td>\n",
       "      <td>0.858294</td>\n",
       "      <td>157789</td>\n",
       "      <td>6.11</td>\n",
       "      <td>3200.0</td>\n",
       "    </tr>\n",
       "    <tr>\n",
       "      <th>433</th>\n",
       "      <td>152826</td>\n",
       "      <td>0</td>\n",
       "      <td>3</td>\n",
       "      <td>153537</td>\n",
       "      <td>6000</td>\n",
       "      <td>142</td>\n",
       "      <td>6000.000000</td>\n",
       "      <td>0.000000</td>\n",
       "      <td>SI</td>\n",
       "      <td>0.000000</td>\n",
       "      <td>RECHAZADO</td>\n",
       "      <td>0.826173</td>\n",
       "      <td>152826</td>\n",
       "      <td>7.65</td>\n",
       "      <td>1400.0</td>\n",
       "    </tr>\n",
       "    <tr>\n",
       "      <th>434</th>\n",
       "      <td>157524</td>\n",
       "      <td>0</td>\n",
       "      <td>4</td>\n",
       "      <td>158032</td>\n",
       "      <td>8000</td>\n",
       "      <td>142</td>\n",
       "      <td>1660.214739</td>\n",
       "      <td>6339.785261</td>\n",
       "      <td>SI</td>\n",
       "      <td>-0.792473</td>\n",
       "      <td>RECHAZADO</td>\n",
       "      <td>0.855175</td>\n",
       "      <td>157524</td>\n",
       "      <td>6.11</td>\n",
       "      <td>6600.0</td>\n",
       "    </tr>\n",
       "    <tr>\n",
       "      <th>435</th>\n",
       "      <td>154301</td>\n",
       "      <td>0</td>\n",
       "      <td>4</td>\n",
       "      <td>156094</td>\n",
       "      <td>7000</td>\n",
       "      <td>142</td>\n",
       "      <td>7000.000000</td>\n",
       "      <td>0.000000</td>\n",
       "      <td>SI</td>\n",
       "      <td>0.000000</td>\n",
       "      <td>RECHAZADO</td>\n",
       "      <td>0.881214</td>\n",
       "      <td>154301</td>\n",
       "      <td>6.11</td>\n",
       "      <td>2900.0</td>\n",
       "    </tr>\n",
       "  </tbody>\n",
       "</table>\n",
       "<p>436 rows × 15 columns</p>\n",
       "</div>"
      ],
      "text/plain": [
       "     id_distribuidor  tasa_sugerida  grupo_riesgo  ID ASOCIADO  \\\n",
       "0             145442            147             4       162807   \n",
       "1             145444            147             4       162806   \n",
       "2             153407              0             3       155108   \n",
       "3             153409              0             2       155106   \n",
       "4             153432              0             2       155107   \n",
       "..               ...            ...           ...          ...   \n",
       "431           157787              0             4       158071   \n",
       "432           157789              0             4       158074   \n",
       "433           152826              0             3       153537   \n",
       "434           157524              0             4       158032   \n",
       "435           154301              0             4       156094   \n",
       "\n",
       "     CAPITAL AUTORIZADO  TASA AUTORIZADA    RECUPERADO  NO RECUPERADO CERRADO  \\\n",
       "0                  6000              142   6000.000000       0.000000      SI   \n",
       "1                  6000              142   6000.000000       0.000000      SI   \n",
       "2                 10000              142  10000.000000       0.000000      SI   \n",
       "3                  7000              142   7000.000000       0.000000      SI   \n",
       "4                  5000              147   5000.000000       0.000000      SI   \n",
       "..                  ...              ...           ...            ...     ...   \n",
       "431               10000              142  10000.000000       0.000000      SI   \n",
       "432               10000              142  10000.000000       0.000000      SI   \n",
       "433                6000              142   6000.000000       0.000000      SI   \n",
       "434                8000              142   1660.214739    6339.785261      SI   \n",
       "435                7000              142   7000.000000       0.000000      SI   \n",
       "\n",
       "     P COSECHA      label  approval_score  applicant_id  \\\n",
       "0     0.000000  RECHAZADO        0.900239        145442   \n",
       "1     0.000000  RECHAZADO        0.905309        145444   \n",
       "2     0.000000  RECHAZADO        0.831750        153407   \n",
       "3     0.000000  RECHAZADO        0.658898        153409   \n",
       "4     0.000000  RECHAZADO        0.742178        153432   \n",
       "..         ...        ...             ...           ...   \n",
       "431   0.000000  RECHAZADO        0.842898        157787   \n",
       "432   0.000000  RECHAZADO        0.858294        157789   \n",
       "433   0.000000  RECHAZADO        0.826173        152826   \n",
       "434  -0.792473  RECHAZADO        0.855175        157524   \n",
       "435   0.000000  RECHAZADO        0.881214        154301   \n",
       "\n",
       "     perdida_cosecha_esperada_quash  capacidad_pago_semanal  \n",
       "0                              6.11                  2700.0  \n",
       "1                              6.11                  3050.0  \n",
       "2                              7.65                  1869.0  \n",
       "3                             11.80                  1240.0  \n",
       "4                             11.80                  1050.0  \n",
       "..                              ...                     ...  \n",
       "431                            6.11                  3900.0  \n",
       "432                            6.11                  3200.0  \n",
       "433                            7.65                  1400.0  \n",
       "434                            6.11                  6600.0  \n",
       "435                            6.11                  2900.0  \n",
       "\n",
       "[436 rows x 15 columns]"
      ]
     },
     "execution_count": 38,
     "metadata": {},
     "output_type": "execute_result"
    }
   ],
   "source": [
    "data_resultado_quash"
   ]
  },
  {
   "cell_type": "code",
   "execution_count": 39,
   "id": "c993d573",
   "metadata": {},
   "outputs": [],
   "source": [
    "from asignarTasa import ajustarTasa"
   ]
  },
  {
   "cell_type": "code",
   "execution_count": 40,
   "id": "bdd2c2e6",
   "metadata": {},
   "outputs": [],
   "source": [
    "d = 16\n",
    "t_max = 1.47\n",
    "resultado = []\n",
    "\n",
    "for row in data_resultado_quash.iterrows():\n",
    "    pc = row[1]['perdida_cosecha_esperada_quash']/100\n",
    "    c  = row[1]['capacidad_pago_semanal']/2\n",
    "    id_ = int(row[1]['id_distribuidor'])\n",
    "    prob = float(row[1]['approval_score'])\n",
    "    grp = row[1]['grupo_riesgo']\n",
    "    alguno_paso = 0\n",
    "    for X in range(10_000, 4_000, -1_000):\n",
    "        estatus, resultado_txt, tasa_minima, tasa_sugerida = ajustarTasa(X, t_max, d, c, pc)\n",
    "        if estatus:\n",
    "            resultado.append([id_, resultado_txt, X, tasa_minima, tasa_sugerida, prob, grp])\n",
    "            alguno_paso = 1\n",
    "    if alguno_paso == 0:\n",
    "        _, resultado_txt, _, _ = ajustarTasa(X, t_max, d, c, pc)\n",
    "        resultado.append([id_, resultado_txt, 0, 0, 0, prob, grp])\n",
    "\n",
    "data_prospectos_quash = pd.DataFrame(resultado)\n",
    "\n",
    "data_prospectos_quash.columns = [\"id_distribuidor\",\"resultado_txt\",\"monto_autorizado\", \"tasa_minima\",\"tasa_sugerida\", \"probabilidad\", \"grupo_riesgo\"]"
   ]
  },
  {
   "cell_type": "code",
   "execution_count": 41,
   "id": "9a0eecfa",
   "metadata": {},
   "outputs": [],
   "source": [
    "data_prospectos_quash = data_prospectos_quash.groupby(\"id_distribuidor\").agg({\"monto_autorizado\": max, \n",
    "                                              \"tasa_sugerida\":max,\n",
    "                                              \"tasa_minima\": min,\n",
    "                                              \"probabilidad\" : max,\n",
    "                                              \"grupo_riesgo\": max})\n",
    "data_prospectos_quash = data_prospectos_quash.reset_index()"
   ]
  },
  {
   "cell_type": "code",
   "execution_count": 42,
   "id": "bd0d847f",
   "metadata": {},
   "outputs": [],
   "source": [
    "data_resultado_quash['tasa_sugerida'] = data_prospectos_quash['tasa_minima']"
   ]
  },
  {
   "cell_type": "code",
   "execution_count": 43,
   "id": "d3a115f2",
   "metadata": {},
   "outputs": [
    {
     "data": {
      "text/plain": [
       "132    154\n",
       "0      125\n",
       "142     81\n",
       "115     47\n",
       "137     14\n",
       "147      6\n",
       "100      5\n",
       "117      2\n",
       "122      1\n",
       "127      1\n",
       "Name: tasa_minima, dtype: int64"
      ]
     },
     "execution_count": 43,
     "metadata": {},
     "output_type": "execute_result"
    }
   ],
   "source": [
    "data_prospectos_quash.tasa_minima.value_counts()"
   ]
  },
  {
   "cell_type": "markdown",
   "id": "16348d14",
   "metadata": {},
   "source": [
    "# Comparando ambos modelos"
   ]
  },
  {
   "cell_type": "code",
   "execution_count": 44,
   "id": "fbb420fa",
   "metadata": {},
   "outputs": [
    {
     "data": {
      "text/html": [
       "<div>\n",
       "<style scoped>\n",
       "    .dataframe tbody tr th:only-of-type {\n",
       "        vertical-align: middle;\n",
       "    }\n",
       "\n",
       "    .dataframe tbody tr th {\n",
       "        vertical-align: top;\n",
       "    }\n",
       "\n",
       "    .dataframe thead th {\n",
       "        text-align: right;\n",
       "    }\n",
       "</style>\n",
       "<table border=\"1\" class=\"dataframe\">\n",
       "  <thead>\n",
       "    <tr style=\"text-align: right;\">\n",
       "      <th></th>\n",
       "      <th>id_distribuidor</th>\n",
       "      <th>tasa_sugerida</th>\n",
       "      <th>grupo_riesgo</th>\n",
       "      <th>ID ASOCIADO</th>\n",
       "      <th>CAPITAL AUTORIZADO</th>\n",
       "      <th>TASA AUTORIZADA</th>\n",
       "      <th>RECUPERADO</th>\n",
       "      <th>NO RECUPERADO</th>\n",
       "      <th>CERRADO</th>\n",
       "      <th>P COSECHA</th>\n",
       "      <th>label</th>\n",
       "      <th>approval_score</th>\n",
       "      <th>applicant_id</th>\n",
       "      <th>perdida_cosecha_esperada_quash</th>\n",
       "      <th>capacidad_pago_semanal</th>\n",
       "    </tr>\n",
       "  </thead>\n",
       "  <tbody>\n",
       "    <tr>\n",
       "      <th>0</th>\n",
       "      <td>145442</td>\n",
       "      <td>132</td>\n",
       "      <td>4</td>\n",
       "      <td>162807</td>\n",
       "      <td>6000</td>\n",
       "      <td>142</td>\n",
       "      <td>6000.0</td>\n",
       "      <td>0.0</td>\n",
       "      <td>SI</td>\n",
       "      <td>0.0</td>\n",
       "      <td>RECHAZADO</td>\n",
       "      <td>0.900239</td>\n",
       "      <td>145442</td>\n",
       "      <td>6.11</td>\n",
       "      <td>2700.0</td>\n",
       "    </tr>\n",
       "  </tbody>\n",
       "</table>\n",
       "</div>"
      ],
      "text/plain": [
       "   id_distribuidor  tasa_sugerida  grupo_riesgo  ID ASOCIADO  \\\n",
       "0           145442            132             4       162807   \n",
       "\n",
       "   CAPITAL AUTORIZADO  TASA AUTORIZADA  RECUPERADO  NO RECUPERADO CERRADO  \\\n",
       "0                6000              142      6000.0            0.0      SI   \n",
       "\n",
       "   P COSECHA      label  approval_score  applicant_id  \\\n",
       "0        0.0  RECHAZADO        0.900239        145442   \n",
       "\n",
       "   perdida_cosecha_esperada_quash  capacidad_pago_semanal  \n",
       "0                            6.11                  2700.0  "
      ]
     },
     "execution_count": 44,
     "metadata": {},
     "output_type": "execute_result"
    }
   ],
   "source": [
    "data_resultado_quash.head(1)"
   ]
  },
  {
   "cell_type": "code",
   "execution_count": 45,
   "id": "576094a3",
   "metadata": {},
   "outputs": [
    {
     "data": {
      "text/html": [
       "<div>\n",
       "<style scoped>\n",
       "    .dataframe tbody tr th:only-of-type {\n",
       "        vertical-align: middle;\n",
       "    }\n",
       "\n",
       "    .dataframe tbody tr th {\n",
       "        vertical-align: top;\n",
       "    }\n",
       "\n",
       "    .dataframe thead th {\n",
       "        text-align: right;\n",
       "    }\n",
       "</style>\n",
       "<table border=\"1\" class=\"dataframe\">\n",
       "  <thead>\n",
       "    <tr style=\"text-align: right;\">\n",
       "      <th></th>\n",
       "      <th>id_distribuidor</th>\n",
       "      <th>tasa_sugerida</th>\n",
       "      <th>grupo_riesgo</th>\n",
       "      <th>ID ASOCIADO</th>\n",
       "      <th>CAPITAL AUTORIZADO</th>\n",
       "      <th>TASA AUTORIZADA</th>\n",
       "      <th>RECUPERADO</th>\n",
       "      <th>NO RECUPERADO</th>\n",
       "      <th>CERRADO</th>\n",
       "      <th>P COSECHA</th>\n",
       "      <th>tasa_minima</th>\n",
       "      <th>probabilidad</th>\n",
       "      <th>perdida_cosecha_esperada_quilum</th>\n",
       "    </tr>\n",
       "  </thead>\n",
       "  <tbody>\n",
       "    <tr>\n",
       "      <th>0</th>\n",
       "      <td>145442</td>\n",
       "      <td>147</td>\n",
       "      <td>Canasta 1</td>\n",
       "      <td>162807</td>\n",
       "      <td>6000</td>\n",
       "      <td>142</td>\n",
       "      <td>6000.0</td>\n",
       "      <td>0.0</td>\n",
       "      <td>SI</td>\n",
       "      <td>0.0</td>\n",
       "      <td>100</td>\n",
       "      <td>0.0</td>\n",
       "      <td>1.63</td>\n",
       "    </tr>\n",
       "  </tbody>\n",
       "</table>\n",
       "</div>"
      ],
      "text/plain": [
       "   id_distribuidor  tasa_sugerida grupo_riesgo  ID ASOCIADO  \\\n",
       "0           145442            147    Canasta 1       162807   \n",
       "\n",
       "   CAPITAL AUTORIZADO  TASA AUTORIZADA  RECUPERADO  NO RECUPERADO CERRADO  \\\n",
       "0                6000              142      6000.0            0.0      SI   \n",
       "\n",
       "   P COSECHA  tasa_minima  probabilidad  perdida_cosecha_esperada_quilum  \n",
       "0        0.0          100           0.0                             1.63  "
      ]
     },
     "execution_count": 45,
     "metadata": {},
     "output_type": "execute_result"
    }
   ],
   "source": [
    "data_resultado_quilum.head(1)"
   ]
  },
  {
   "cell_type": "code",
   "execution_count": 46,
   "id": "903f0ccf",
   "metadata": {},
   "outputs": [],
   "source": [
    "data_resultado = data_resultado_quilum.copy()"
   ]
  },
  {
   "cell_type": "code",
   "execution_count": 47,
   "id": "a07b85f3",
   "metadata": {},
   "outputs": [],
   "source": [
    "data_resultado.drop([\"tasa_sugerida\", \"grupo_riesgo\",\"tasa_minima\", \"probabilidad\", \"perdida_cosecha_esperada_quilum\"], axis = 1, \n",
    "                    inplace = True)"
   ]
  },
  {
   "cell_type": "code",
   "execution_count": 48,
   "id": "d26c6562",
   "metadata": {},
   "outputs": [],
   "source": [
    "def shift_mod7(valor):\n",
    "    shift_map = {1: 7, 2: 6, 3: 5, 4: 4, 5: 3, 6: 2, 7: 1}\n",
    "    return shift_map.get(valor, valor)"
   ]
  },
  {
   "cell_type": "code",
   "execution_count": 49,
   "id": "a9c0b8ee",
   "metadata": {},
   "outputs": [],
   "source": [
    "data_resultado['grupo_riesgo_quilum'] = data_resultado_quilum.grupo_riesgo.str.replace(\"Canasta \",\"\")\n",
    "data_resultado['grupo_riesgo_quash'] = data_resultado_quash.grupo_riesgo.apply(shift_mod7)"
   ]
  },
  {
   "cell_type": "code",
   "execution_count": 50,
   "id": "35c39760",
   "metadata": {},
   "outputs": [],
   "source": [
    "data_resultado['tasa_sugerida_quilum'] = data_resultado_quilum.tasa_minima\n",
    "data_resultado['tasa_sugerida_quash'] = data_resultado_quash.tasa_sugerida"
   ]
  },
  {
   "cell_type": "code",
   "execution_count": 51,
   "id": "1b37ada2",
   "metadata": {},
   "outputs": [],
   "source": [
    "data_resultado['perdida_cosecha_esperada_quilum'] = data_resultado_quilum.perdida_cosecha_esperada_quilum\n",
    "data_resultado['perdida_cosecha_esperada_quash'] = data_resultado_quash.perdida_cosecha_esperada_quash"
   ]
  },
  {
   "cell_type": "code",
   "execution_count": 52,
   "id": "a4a24402",
   "metadata": {},
   "outputs": [],
   "source": [
    "data_resultado['P COSECHA'] = np.abs(data_resultado['P COSECHA'])*100"
   ]
  },
  {
   "cell_type": "code",
   "execution_count": 53,
   "id": "dda9a47c",
   "metadata": {},
   "outputs": [
    {
     "data": {
      "text/html": [
       "<div>\n",
       "<style scoped>\n",
       "    .dataframe tbody tr th:only-of-type {\n",
       "        vertical-align: middle;\n",
       "    }\n",
       "\n",
       "    .dataframe tbody tr th {\n",
       "        vertical-align: top;\n",
       "    }\n",
       "\n",
       "    .dataframe thead th {\n",
       "        text-align: right;\n",
       "    }\n",
       "</style>\n",
       "<table border=\"1\" class=\"dataframe\">\n",
       "  <thead>\n",
       "    <tr style=\"text-align: right;\">\n",
       "      <th></th>\n",
       "      <th>id_distribuidor</th>\n",
       "      <th>ID ASOCIADO</th>\n",
       "      <th>CAPITAL AUTORIZADO</th>\n",
       "      <th>TASA AUTORIZADA</th>\n",
       "      <th>RECUPERADO</th>\n",
       "      <th>NO RECUPERADO</th>\n",
       "      <th>CERRADO</th>\n",
       "      <th>P COSECHA</th>\n",
       "      <th>grupo_riesgo_quilum</th>\n",
       "      <th>grupo_riesgo_quash</th>\n",
       "      <th>tasa_sugerida_quilum</th>\n",
       "      <th>tasa_sugerida_quash</th>\n",
       "      <th>perdida_cosecha_esperada_quilum</th>\n",
       "      <th>perdida_cosecha_esperada_quash</th>\n",
       "    </tr>\n",
       "  </thead>\n",
       "  <tbody>\n",
       "    <tr>\n",
       "      <th>0</th>\n",
       "      <td>145442</td>\n",
       "      <td>162807</td>\n",
       "      <td>6000</td>\n",
       "      <td>142</td>\n",
       "      <td>6000.000000</td>\n",
       "      <td>0.000000</td>\n",
       "      <td>SI</td>\n",
       "      <td>0.000000</td>\n",
       "      <td>1</td>\n",
       "      <td>4.0</td>\n",
       "      <td>100</td>\n",
       "      <td>132.0</td>\n",
       "      <td>1.63</td>\n",
       "      <td>6.11</td>\n",
       "    </tr>\n",
       "    <tr>\n",
       "      <th>1</th>\n",
       "      <td>145444</td>\n",
       "      <td>162806</td>\n",
       "      <td>6000</td>\n",
       "      <td>142</td>\n",
       "      <td>6000.000000</td>\n",
       "      <td>0.000000</td>\n",
       "      <td>SI</td>\n",
       "      <td>0.000000</td>\n",
       "      <td>4</td>\n",
       "      <td>4.0</td>\n",
       "      <td>110</td>\n",
       "      <td>132.0</td>\n",
       "      <td>1.89</td>\n",
       "      <td>6.11</td>\n",
       "    </tr>\n",
       "    <tr>\n",
       "      <th>2</th>\n",
       "      <td>157169</td>\n",
       "      <td>157637</td>\n",
       "      <td>8000</td>\n",
       "      <td>132</td>\n",
       "      <td>8000.000000</td>\n",
       "      <td>0.000000</td>\n",
       "      <td>SI</td>\n",
       "      <td>0.000000</td>\n",
       "      <td>2</td>\n",
       "      <td>5.0</td>\n",
       "      <td>95</td>\n",
       "      <td>115.0</td>\n",
       "      <td>1.84</td>\n",
       "      <td>7.65</td>\n",
       "    </tr>\n",
       "    <tr>\n",
       "      <th>3</th>\n",
       "      <td>157171</td>\n",
       "      <td>157634</td>\n",
       "      <td>11000</td>\n",
       "      <td>132</td>\n",
       "      <td>11000.000000</td>\n",
       "      <td>0.000000</td>\n",
       "      <td>SI</td>\n",
       "      <td>0.000000</td>\n",
       "      <td>4</td>\n",
       "      <td>6.0</td>\n",
       "      <td>115</td>\n",
       "      <td>132.0</td>\n",
       "      <td>1.89</td>\n",
       "      <td>11.80</td>\n",
       "    </tr>\n",
       "    <tr>\n",
       "      <th>4</th>\n",
       "      <td>157178</td>\n",
       "      <td>157635</td>\n",
       "      <td>11000</td>\n",
       "      <td>132</td>\n",
       "      <td>11000.000000</td>\n",
       "      <td>0.000000</td>\n",
       "      <td>SI</td>\n",
       "      <td>0.000000</td>\n",
       "      <td>6</td>\n",
       "      <td>6.0</td>\n",
       "      <td>127</td>\n",
       "      <td>142.0</td>\n",
       "      <td>3.19</td>\n",
       "      <td>11.80</td>\n",
       "    </tr>\n",
       "    <tr>\n",
       "      <th>...</th>\n",
       "      <td>...</td>\n",
       "      <td>...</td>\n",
       "      <td>...</td>\n",
       "      <td>...</td>\n",
       "      <td>...</td>\n",
       "      <td>...</td>\n",
       "      <td>...</td>\n",
       "      <td>...</td>\n",
       "      <td>...</td>\n",
       "      <td>...</td>\n",
       "      <td>...</td>\n",
       "      <td>...</td>\n",
       "      <td>...</td>\n",
       "      <td>...</td>\n",
       "    </tr>\n",
       "    <tr>\n",
       "      <th>1412</th>\n",
       "      <td>167070</td>\n",
       "      <td>167255</td>\n",
       "      <td>9000</td>\n",
       "      <td>142</td>\n",
       "      <td>3398.411536</td>\n",
       "      <td>5601.588464</td>\n",
       "      <td>SI</td>\n",
       "      <td>62.239872</td>\n",
       "      <td>4</td>\n",
       "      <td>NaN</td>\n",
       "      <td>127</td>\n",
       "      <td>NaN</td>\n",
       "      <td>1.89</td>\n",
       "      <td>NaN</td>\n",
       "    </tr>\n",
       "    <tr>\n",
       "      <th>1413</th>\n",
       "      <td>167202</td>\n",
       "      <td>167259</td>\n",
       "      <td>9000</td>\n",
       "      <td>142</td>\n",
       "      <td>3398.411536</td>\n",
       "      <td>5601.588464</td>\n",
       "      <td>SI</td>\n",
       "      <td>62.239872</td>\n",
       "      <td>6</td>\n",
       "      <td>NaN</td>\n",
       "      <td>0</td>\n",
       "      <td>NaN</td>\n",
       "      <td>3.19</td>\n",
       "      <td>NaN</td>\n",
       "    </tr>\n",
       "    <tr>\n",
       "      <th>1414</th>\n",
       "      <td>166739</td>\n",
       "      <td>167256</td>\n",
       "      <td>9000</td>\n",
       "      <td>142</td>\n",
       "      <td>3398.411536</td>\n",
       "      <td>5601.588464</td>\n",
       "      <td>SI</td>\n",
       "      <td>62.239872</td>\n",
       "      <td>9</td>\n",
       "      <td>NaN</td>\n",
       "      <td>0</td>\n",
       "      <td>NaN</td>\n",
       "      <td>13.17</td>\n",
       "      <td>NaN</td>\n",
       "    </tr>\n",
       "    <tr>\n",
       "      <th>1415</th>\n",
       "      <td>166784</td>\n",
       "      <td>167257</td>\n",
       "      <td>9000</td>\n",
       "      <td>142</td>\n",
       "      <td>3398.411536</td>\n",
       "      <td>5601.588464</td>\n",
       "      <td>SI</td>\n",
       "      <td>62.239872</td>\n",
       "      <td>4</td>\n",
       "      <td>NaN</td>\n",
       "      <td>110</td>\n",
       "      <td>NaN</td>\n",
       "      <td>1.89</td>\n",
       "      <td>NaN</td>\n",
       "    </tr>\n",
       "    <tr>\n",
       "      <th>1416</th>\n",
       "      <td>166882</td>\n",
       "      <td>167258</td>\n",
       "      <td>9000</td>\n",
       "      <td>142</td>\n",
       "      <td>3398.411536</td>\n",
       "      <td>5601.588464</td>\n",
       "      <td>SI</td>\n",
       "      <td>62.239872</td>\n",
       "      <td>8</td>\n",
       "      <td>NaN</td>\n",
       "      <td>0</td>\n",
       "      <td>NaN</td>\n",
       "      <td>7.48</td>\n",
       "      <td>NaN</td>\n",
       "    </tr>\n",
       "  </tbody>\n",
       "</table>\n",
       "<p>1417 rows × 14 columns</p>\n",
       "</div>"
      ],
      "text/plain": [
       "      id_distribuidor  ID ASOCIADO  CAPITAL AUTORIZADO  TASA AUTORIZADA  \\\n",
       "0              145442       162807                6000              142   \n",
       "1              145444       162806                6000              142   \n",
       "2              157169       157637                8000              132   \n",
       "3              157171       157634               11000              132   \n",
       "4              157178       157635               11000              132   \n",
       "...               ...          ...                 ...              ...   \n",
       "1412           167070       167255                9000              142   \n",
       "1413           167202       167259                9000              142   \n",
       "1414           166739       167256                9000              142   \n",
       "1415           166784       167257                9000              142   \n",
       "1416           166882       167258                9000              142   \n",
       "\n",
       "        RECUPERADO  NO RECUPERADO CERRADO  P COSECHA grupo_riesgo_quilum  \\\n",
       "0      6000.000000       0.000000      SI   0.000000                   1   \n",
       "1      6000.000000       0.000000      SI   0.000000                   4   \n",
       "2      8000.000000       0.000000      SI   0.000000                   2   \n",
       "3     11000.000000       0.000000      SI   0.000000                   4   \n",
       "4     11000.000000       0.000000      SI   0.000000                   6   \n",
       "...            ...            ...     ...        ...                 ...   \n",
       "1412   3398.411536    5601.588464      SI  62.239872                   4   \n",
       "1413   3398.411536    5601.588464      SI  62.239872                   6   \n",
       "1414   3398.411536    5601.588464      SI  62.239872                   9   \n",
       "1415   3398.411536    5601.588464      SI  62.239872                   4   \n",
       "1416   3398.411536    5601.588464      SI  62.239872                   8   \n",
       "\n",
       "      grupo_riesgo_quash  tasa_sugerida_quilum  tasa_sugerida_quash  \\\n",
       "0                    4.0                   100                132.0   \n",
       "1                    4.0                   110                132.0   \n",
       "2                    5.0                    95                115.0   \n",
       "3                    6.0                   115                132.0   \n",
       "4                    6.0                   127                142.0   \n",
       "...                  ...                   ...                  ...   \n",
       "1412                 NaN                   127                  NaN   \n",
       "1413                 NaN                     0                  NaN   \n",
       "1414                 NaN                     0                  NaN   \n",
       "1415                 NaN                   110                  NaN   \n",
       "1416                 NaN                     0                  NaN   \n",
       "\n",
       "      perdida_cosecha_esperada_quilum  perdida_cosecha_esperada_quash  \n",
       "0                                1.63                            6.11  \n",
       "1                                1.89                            6.11  \n",
       "2                                1.84                            7.65  \n",
       "3                                1.89                           11.80  \n",
       "4                                3.19                           11.80  \n",
       "...                               ...                             ...  \n",
       "1412                             1.89                             NaN  \n",
       "1413                             3.19                             NaN  \n",
       "1414                            13.17                             NaN  \n",
       "1415                             1.89                             NaN  \n",
       "1416                             7.48                             NaN  \n",
       "\n",
       "[1417 rows x 14 columns]"
      ]
     },
     "execution_count": 53,
     "metadata": {},
     "output_type": "execute_result"
    }
   ],
   "source": [
    "data_resultado"
   ]
  },
  {
   "cell_type": "code",
   "execution_count": 54,
   "id": "d11c01aa",
   "metadata": {},
   "outputs": [],
   "source": [
    "data_resultado.to_csv(\"./data/comparativa_modelos.csv\", index=True)"
   ]
  },
  {
   "cell_type": "markdown",
   "id": "0de46423",
   "metadata": {},
   "source": [
    "## Análisis"
   ]
  },
  {
   "cell_type": "code",
   "execution_count": 55,
   "id": "a0d4d1d6",
   "metadata": {},
   "outputs": [],
   "source": [
    "data_resultado_analisis = data_resultado.query(\"not grupo_riesgo_quash.isna()\")"
   ]
  },
  {
   "cell_type": "markdown",
   "id": "1536aced",
   "metadata": {},
   "source": [
    "**¿Quien se acercó más a la cosecha esperada?**"
   ]
  },
  {
   "cell_type": "code",
   "execution_count": 56,
   "id": "0663cbf9",
   "metadata": {},
   "outputs": [
    {
     "name": "stdout",
     "output_type": "stream",
     "text": [
      "Quash\n"
     ]
    },
    {
     "data": {
      "text/plain": [
       "12.440652077225987"
      ]
     },
     "execution_count": 56,
     "metadata": {},
     "output_type": "execute_result"
    }
   ],
   "source": [
    "print(\"Quash\")\n",
    "np.mean(np.abs(data_resultado_analisis[\"P COSECHA\"] - data_resultado_analisis['perdida_cosecha_esperada_quash']))"
   ]
  },
  {
   "cell_type": "code",
   "execution_count": 57,
   "id": "f56a288a",
   "metadata": {},
   "outputs": [
    {
     "name": "stdout",
     "output_type": "stream",
     "text": [
      "Quilum\n"
     ]
    },
    {
     "data": {
      "text/plain": [
       "11.862458119665591"
      ]
     },
     "execution_count": 57,
     "metadata": {},
     "output_type": "execute_result"
    }
   ],
   "source": [
    "print(\"Quilum\")\n",
    "np.mean(np.abs(data_resultado_analisis[\"P COSECHA\"] - data_resultado_analisis['perdida_cosecha_esperada_quilum']))"
   ]
  },
  {
   "cell_type": "markdown",
   "id": "f5593387",
   "metadata": {},
   "source": [
    "**¿Quién identifica mejor a los buenos pagadores?**"
   ]
  },
  {
   "cell_type": "code",
   "execution_count": 58,
   "id": "473a0ff3",
   "metadata": {},
   "outputs": [
    {
     "name": "stdout",
     "output_type": "stream",
     "text": [
      "Quash\n"
     ]
    },
    {
     "data": {
      "text/plain": [
       "7.680805970149255"
      ]
     },
     "execution_count": 58,
     "metadata": {},
     "output_type": "execute_result"
    }
   ],
   "source": [
    "print(\"Quash\")\n",
    "np.mean(data_resultado_analisis[data_resultado_analisis['P COSECHA']==0]['perdida_cosecha_esperada_quash'])"
   ]
  },
  {
   "cell_type": "code",
   "execution_count": 59,
   "id": "d67e172c",
   "metadata": {},
   "outputs": [
    {
     "name": "stdout",
     "output_type": "stream",
     "text": [
      "Quilum\n"
     ]
    },
    {
     "data": {
      "text/plain": [
       "6.558776119402983"
      ]
     },
     "execution_count": 59,
     "metadata": {},
     "output_type": "execute_result"
    }
   ],
   "source": [
    "print(\"Quilum\")\n",
    "np.mean(data_resultado_analisis[data_resultado_analisis['P COSECHA']==0]['perdida_cosecha_esperada_quilum'])"
   ]
  },
  {
   "cell_type": "markdown",
   "id": "1b680243",
   "metadata": {},
   "source": [
    "**¿Quien dio tasas más altas?**"
   ]
  },
  {
   "cell_type": "code",
   "execution_count": 60,
   "id": "a99ec9d5",
   "metadata": {},
   "outputs": [
    {
     "name": "stdout",
     "output_type": "stream",
     "text": [
      "Quash\n"
     ]
    },
    {
     "data": {
      "text/plain": [
       "131.89067524115757"
      ]
     },
     "execution_count": 60,
     "metadata": {},
     "output_type": "execute_result"
    }
   ],
   "source": [
    "print(\"Quash\")\n",
    "np.mean(data_resultado_analisis.query(\"tasa_sugerida_quash > 0\")['tasa_sugerida_quash'])"
   ]
  },
  {
   "cell_type": "code",
   "execution_count": 61,
   "id": "ce66b43e",
   "metadata": {},
   "outputs": [
    {
     "name": "stdout",
     "output_type": "stream",
     "text": [
      "Quilum\n"
     ]
    },
    {
     "data": {
      "text/plain": [
       "116.44813278008299"
      ]
     },
     "execution_count": 61,
     "metadata": {},
     "output_type": "execute_result"
    }
   ],
   "source": [
    "print(\"Quilum\")\n",
    "np.mean(data_resultado_analisis.query(\"tasa_sugerida_quilum>0\")['tasa_sugerida_quilum'])"
   ]
  },
  {
   "cell_type": "markdown",
   "id": "fd7721ec",
   "metadata": {},
   "source": [
    "**Cómo se distribuyen los niveles de riesgo?**"
   ]
  },
  {
   "cell_type": "code",
   "execution_count": 62,
   "id": "6c4290eb",
   "metadata": {},
   "outputs": [
    {
     "data": {
      "text/plain": [
       "2.0      6\n",
       "3.0     53\n",
       "4.0    182\n",
       "5.0     93\n",
       "6.0    100\n",
       "7.0      2\n",
       "Name: grupo_riesgo_quash, dtype: int64"
      ]
     },
     "execution_count": 62,
     "metadata": {},
     "output_type": "execute_result"
    }
   ],
   "source": [
    "data_resultado_analisis.grupo_riesgo_quash.value_counts().sort_index()"
   ]
  },
  {
   "cell_type": "code",
   "execution_count": 63,
   "id": "e516295f",
   "metadata": {},
   "outputs": [
    {
     "data": {
      "text/plain": [
       "1     23\n",
       "10    44\n",
       "2     34\n",
       "3     45\n",
       "4     36\n",
       "5     47\n",
       "6     36\n",
       "7     52\n",
       "8     60\n",
       "9     59\n",
       "Name: grupo_riesgo_quilum, dtype: int64"
      ]
     },
     "execution_count": 63,
     "metadata": {},
     "output_type": "execute_result"
    }
   ],
   "source": [
    "data_resultado_analisis.grupo_riesgo_quilum.value_counts().sort_index()"
   ]
  },
  {
   "cell_type": "markdown",
   "id": "e5748a5b",
   "metadata": {},
   "source": [
    "## matriz de pérdidas de cosechas Quilum"
   ]
  },
  {
   "cell_type": "code",
   "execution_count": null,
   "id": "d2c6c47b",
   "metadata": {},
   "outputs": [],
   "source": [
    "num_grupos_riesgo = 7\n",
    "#cosechas_estimadas = [1.63, 1.84, 1.89, 3.19, 3.76, 5.77, 7.48, 13.17, 15.20, 17.35]\n",
    "cosechas_estimadas = [1, 1.98, 4.06, 6.11, 7.65, 11.8, 14.76]"
   ]
  },
  {
   "cell_type": "code",
   "execution_count": null,
   "id": "59d2d856",
   "metadata": {},
   "outputs": [],
   "source": [
    "rangos = []\n",
    "cont = 0\n",
    "for _ in range(100):\n",
    "    if cont < 10:\n",
    "        aum = 1    \n",
    "    elif cont < 50:\n",
    "        aum = 5\n",
    "    else:\n",
    "        break\n",
    "        \n",
    "    rangos.append([cont, int(cont + aum)])\n",
    "    cont += aum \n",
    "    \n",
    "rangos.append([50, np.inf])"
   ]
  },
  {
   "cell_type": "code",
   "execution_count": null,
   "id": "bccc3664",
   "metadata": {},
   "outputs": [],
   "source": [
    "perdida_cosecha_num_personas = pd.DataFrame(rangos, columns = [\"inferior\", \"superior\"])\n",
    "\n",
    "perdida_cosecha_porcentaje_ideal = pd.DataFrame(rangos, columns = [\"inferior\", \"superior\"])\n",
    "\n",
    "for k in range(1, num_grupos_riesgo + 1):\n",
    "    perdida_cosecha_num_personas[f\"{k}\"] = 0 \n",
    "    perdida_cosecha_porcentaje_ideal[f\"{k}\"] = 0"
   ]
  },
  {
   "cell_type": "code",
   "execution_count": null,
   "id": "18aa1f22",
   "metadata": {},
   "outputs": [],
   "source": [
    "for grupo_riesgo in range(1, num_grupos_riesgo + 1):\n",
    "    for cos in data_resultado_analisis.query(f\"grupo_riesgo_quash == {grupo_riesgo}\")[\"P COSECHA\"]:\n",
    "        for level in perdida_cosecha_num_personas.superior:\n",
    "            if (cos * 100) < level:\n",
    "                perdida_cosecha_num_personas.loc[perdida_cosecha_num_personas.superior == level, f\"{grupo_riesgo}\"] += 1\n",
    "                break"
   ]
  },
  {
   "cell_type": "code",
   "execution_count": null,
   "id": "b4208672",
   "metadata": {},
   "outputs": [],
   "source": [
    "divided = perdida_cosecha_num_personas.iloc[:, :].sum(0)\n",
    "divided[0] = 1\n",
    "divided[1] = 1\n",
    "\n",
    "perdida_cosecha_porcentaje = perdida_cosecha_num_personas / divided"
   ]
  },
  {
   "cell_type": "code",
   "execution_count": null,
   "id": "c3e19afc",
   "metadata": {},
   "outputs": [],
   "source": [
    "perdida_cosecha_porcentaje"
   ]
  },
  {
   "cell_type": "code",
   "execution_count": null,
   "id": "3cd99ec5",
   "metadata": {},
   "outputs": [],
   "source": [
    "for grupo_riesgo, nivel in enumerate(cosechas_estimadas):\n",
    "    for superior in perdida_cosecha_porcentaje_ideal.superior:\n",
    "        if nivel < superior:\n",
    "            perdida_cosecha_porcentaje_ideal.loc[perdida_cosecha_porcentaje_ideal.superior == superior, f\"{grupo_riesgo+1}\"] += 1\n",
    "            break"
   ]
  },
  {
   "cell_type": "code",
   "execution_count": null,
   "id": "61d235ba",
   "metadata": {},
   "outputs": [],
   "source": [
    "perdida_cosecha_porcentaje_ideal"
   ]
  },
  {
   "cell_type": "code",
   "execution_count": null,
   "id": "15d5fde0",
   "metadata": {},
   "outputs": [],
   "source": [
    "np.sum(np.sum(np.abs(perdida_cosecha_porcentaje_ideal.iloc[:,2:] - perdida_cosecha_porcentaje.iloc[:,2:])))"
   ]
  },
  {
   "cell_type": "code",
   "execution_count": null,
   "id": "47efb117",
   "metadata": {},
   "outputs": [],
   "source": [
    "data_resultado_quash"
   ]
  },
  {
   "cell_type": "code",
   "execution_count": null,
   "id": "d79d7049",
   "metadata": {},
   "outputs": [],
   "source": [
    "data_resultado_analisis"
   ]
  },
  {
   "cell_type": "code",
   "execution_count": null,
   "id": "eccb30e8",
   "metadata": {},
   "outputs": [],
   "source": []
  }
 ],
 "metadata": {
  "kernelspec": {
   "display_name": "Python 3 (ipykernel)",
   "language": "python",
   "name": "python3"
  },
  "language_info": {
   "codemirror_mode": {
    "name": "ipython",
    "version": 3
   },
   "file_extension": ".py",
   "mimetype": "text/x-python",
   "name": "python",
   "nbconvert_exporter": "python",
   "pygments_lexer": "ipython3",
   "version": "3.11.4"
  }
 },
 "nbformat": 4,
 "nbformat_minor": 5
}
