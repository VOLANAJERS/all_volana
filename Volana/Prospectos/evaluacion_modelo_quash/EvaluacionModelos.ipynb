{
 "cells": [
  {
   "cell_type": "code",
   "execution_count": 10,
   "id": "93642b9b",
   "metadata": {},
   "outputs": [],
   "source": [
    "import requests\n",
    "import json\n",
    "import fire\n",
    "import pandas as pd\n",
    "import numpy as np\n",
    "import pymysql"
   ]
  },
  {
   "cell_type": "code",
   "execution_count": 11,
   "id": "bc5c507d",
   "metadata": {},
   "outputs": [],
   "source": [
    "URL = \"https://api.quash.ai\"\n",
    "DATA = \"./data/datos.json\"\n",
    "ENDPOINT = \"/scoring\"\n",
    "APIKEY = \"Ku9sm6Nr6XAEXlWfLNyPmDhkTvTa4EnS\""
   ]
  },
  {
   "cell_type": "code",
   "execution_count": 12,
   "id": "daf2aa87",
   "metadata": {},
   "outputs": [],
   "source": [
    "def setcut_prob(p, grupo_ = True):\n",
    "    p = p*100\n",
    "    cuts = np.array(sorted([100, 81.09, 72.06, 63.19, 54.27, 45.11, 36.10, 27.47, 18.17, 9.05, 0.00]))\n",
    "    cosechas = np.array(sorted([1.63, 1.84, 1.89, 3.19, 3.76, 5.77, 7.48, 13.17, 15.20, 17.35], reverse = False))\n",
    "                                 \n",
    "    \n",
    "    #cuts = np.array(sorted([1, 0.9919, 0.975, 0.953, 0.9196, 0.8717, 0.7832, 0.6737, 0.5072, .2738]))*100\n",
    "    #cosechas = np.array(sorted([2.31, 2.63, 3.1, 3.12, 3.94, 4.2, 4.33, 5.15, 5.71, 59.82], reverse = True))\n",
    "    \n",
    "    for cut in cuts:\n",
    "        if cut > p:\n",
    "            break\n",
    "            \n",
    "    grupo = np.where(cuts == cut)[0][0] \n",
    "    if grupo_:\n",
    "        return grupo\n",
    "    else:\n",
    "        return cosechas[grupo - 1]\n",
    "    \n",
    "def setcut_prob_quash(p, grupo_ = True):\n",
    "    p = p*100\n",
    "    cuts = np.array(sorted([100, 96.8, 93.6, 84.1, 75.4, 50.2, 0.00]))\n",
    "    cosechas = np.array(sorted([1, 1.98, 4.06, 6.11, 7.65, 11.8, 14.76], reverse = True))\n",
    "                                 \n",
    "    \n",
    "    #cuts = np.array(sorted([1, 0.9919, 0.975, 0.953, 0.9196, 0.8717, 0.7832, 0.6737, 0.5072, .2738]))*100\n",
    "    #cosechas = np.array(sorted([2.31, 2.63, 3.1, 3.12, 3.94, 4.2, 4.33, 5.15, 5.71, 59.82], reverse = True))\n",
    "    \n",
    "    for cut in cuts:\n",
    "        if cut > p:\n",
    "            break\n",
    "            \n",
    "    grupo = np.where(cuts == cut)[0][0] \n",
    "    if grupo_:\n",
    "        return grupo\n",
    "    else:\n",
    "        return cosechas[grupo - 1]"
   ]
  },
  {
   "cell_type": "code",
   "execution_count": 13,
   "id": "d4936f6a",
   "metadata": {},
   "outputs": [
    {
     "data": {
      "text/plain": [
       "11.8"
      ]
     },
     "execution_count": 13,
     "metadata": {},
     "output_type": "execute_result"
    }
   ],
   "source": [
    "setcut_prob_quash(0.6, grupo_ = False)"
   ]
  },
  {
   "cell_type": "markdown",
   "id": "b57ad80a",
   "metadata": {},
   "source": [
    "**Cargando los datos**"
   ]
  },
  {
   "cell_type": "code",
   "execution_count": 14,
   "id": "89489a0b",
   "metadata": {},
   "outputs": [],
   "source": [
    "data_resultado_quilum = pd.read_excel(\"./data/240221 ANALISIS DE MODELOS.xlsx\", sheet_name = \"Hoja1\")\n",
    "data_resultado_quash = pd.read_excel(\"./data/240221 ANALISIS DE MODELOS.xlsx\", sheet_name = \"Hoja1\")\n",
    "data_modelo = pd.read_excel(\"./data/240221 ANALISIS DE MODELOS.xlsx\", sheet_name = \"Hoja2\", header=1)"
   ]
  },
  {
   "cell_type": "code",
   "execution_count": 15,
   "id": "20676e63",
   "metadata": {},
   "outputs": [],
   "source": [
    "data_prospectos_original = pd.read_csv(\"./data/prospectos_riesgo.csv\")"
   ]
  },
  {
   "cell_type": "code",
   "execution_count": 16,
   "id": "05b2294a",
   "metadata": {},
   "outputs": [],
   "source": [
    "data_prospectos = data_prospectos_original.groupby(\"id_distribuidor\").agg({\"monto_autorizado\": max, \n",
    "                                              \"tasa_sugerida\":max,\n",
    "                                              \"tasa_minima\": min,\n",
    "                                              \"probabilidad\" : max,\n",
    "                                              \"grupo_riesgo\": max})\n",
    "data_prospectos = data_prospectos.reset_index()"
   ]
  },
  {
   "cell_type": "markdown",
   "id": "90d17c27",
   "metadata": {},
   "source": [
    "**Todos los ids en resultado están en los prospectos**"
   ]
  },
  {
   "cell_type": "code",
   "execution_count": 17,
   "id": "bb88ef6e",
   "metadata": {
    "scrolled": true
   },
   "outputs": [
    {
     "data": {
      "text/plain": [
       "array([], dtype=int64)"
      ]
     },
     "execution_count": 17,
     "metadata": {},
     "output_type": "execute_result"
    }
   ],
   "source": [
    "np.setdiff1d(data_resultado_quilum.id_distribuidor.unique(), data_prospectos.id_distribuidor.unique())"
   ]
  },
  {
   "cell_type": "markdown",
   "id": "2b8b15f0",
   "metadata": {},
   "source": [
    "**Haciendo el merge de la tasa mínima**"
   ]
  },
  {
   "cell_type": "code",
   "execution_count": 18,
   "id": "da977b36",
   "metadata": {},
   "outputs": [],
   "source": [
    "data_resultado_quilum = data_resultado_quilum.merge(data_prospectos[['id_distribuidor', 'tasa_minima', 'probabilidad']], on = 'id_distribuidor')"
   ]
  },
  {
   "cell_type": "markdown",
   "id": "5dd50e49",
   "metadata": {},
   "source": [
    "**Añadiendo la pérdida de cosecha esperada**"
   ]
  },
  {
   "cell_type": "code",
   "execution_count": 19,
   "id": "c2ade10c",
   "metadata": {},
   "outputs": [],
   "source": [
    "data_resultado_quilum['perdida_cosecha_esperada_quilum'] = data_resultado_quilum.probabilidad.apply(setcut_prob, grupo_ = False)"
   ]
  },
  {
   "cell_type": "code",
   "execution_count": 20,
   "id": "32521dbb",
   "metadata": {},
   "outputs": [
    {
     "data": {
      "text/html": [
       "<div>\n",
       "<style scoped>\n",
       "    .dataframe tbody tr th:only-of-type {\n",
       "        vertical-align: middle;\n",
       "    }\n",
       "\n",
       "    .dataframe tbody tr th {\n",
       "        vertical-align: top;\n",
       "    }\n",
       "\n",
       "    .dataframe thead th {\n",
       "        text-align: right;\n",
       "    }\n",
       "</style>\n",
       "<table border=\"1\" class=\"dataframe\">\n",
       "  <thead>\n",
       "    <tr style=\"text-align: right;\">\n",
       "      <th></th>\n",
       "      <th>id_distribuidor</th>\n",
       "      <th>tasa_sugerida</th>\n",
       "      <th>grupo_riesgo</th>\n",
       "      <th>ID ASOCIADO</th>\n",
       "      <th>CAPITAL AUTORIZADO</th>\n",
       "      <th>TASA AUTORIZADA</th>\n",
       "      <th>RECUPERADO</th>\n",
       "      <th>NO RECUPERADO</th>\n",
       "      <th>CERRADO</th>\n",
       "      <th>P COSECHA</th>\n",
       "      <th>tasa_minima</th>\n",
       "      <th>probabilidad</th>\n",
       "      <th>perdida_cosecha_esperada_quilum</th>\n",
       "    </tr>\n",
       "  </thead>\n",
       "  <tbody>\n",
       "    <tr>\n",
       "      <th>0</th>\n",
       "      <td>145442</td>\n",
       "      <td>147</td>\n",
       "      <td>Canasta 1</td>\n",
       "      <td>162807</td>\n",
       "      <td>6000</td>\n",
       "      <td>142</td>\n",
       "      <td>6000.000000</td>\n",
       "      <td>0.000000</td>\n",
       "      <td>SI</td>\n",
       "      <td>0.000000</td>\n",
       "      <td>100</td>\n",
       "      <td>0.0000</td>\n",
       "      <td>1.63</td>\n",
       "    </tr>\n",
       "    <tr>\n",
       "      <th>1</th>\n",
       "      <td>145444</td>\n",
       "      <td>147</td>\n",
       "      <td>Canasta 4</td>\n",
       "      <td>162806</td>\n",
       "      <td>6000</td>\n",
       "      <td>142</td>\n",
       "      <td>6000.000000</td>\n",
       "      <td>0.000000</td>\n",
       "      <td>SI</td>\n",
       "      <td>0.000000</td>\n",
       "      <td>110</td>\n",
       "      <td>0.2163</td>\n",
       "      <td>1.89</td>\n",
       "    </tr>\n",
       "    <tr>\n",
       "      <th>2</th>\n",
       "      <td>157169</td>\n",
       "      <td>147</td>\n",
       "      <td>Canasta 2</td>\n",
       "      <td>157637</td>\n",
       "      <td>8000</td>\n",
       "      <td>132</td>\n",
       "      <td>8000.000000</td>\n",
       "      <td>0.000000</td>\n",
       "      <td>SI</td>\n",
       "      <td>0.000000</td>\n",
       "      <td>95</td>\n",
       "      <td>0.1268</td>\n",
       "      <td>1.84</td>\n",
       "    </tr>\n",
       "    <tr>\n",
       "      <th>3</th>\n",
       "      <td>157171</td>\n",
       "      <td>147</td>\n",
       "      <td>Canasta 4</td>\n",
       "      <td>157634</td>\n",
       "      <td>11000</td>\n",
       "      <td>132</td>\n",
       "      <td>11000.000000</td>\n",
       "      <td>0.000000</td>\n",
       "      <td>SI</td>\n",
       "      <td>0.000000</td>\n",
       "      <td>115</td>\n",
       "      <td>0.2696</td>\n",
       "      <td>1.89</td>\n",
       "    </tr>\n",
       "    <tr>\n",
       "      <th>4</th>\n",
       "      <td>157178</td>\n",
       "      <td>147</td>\n",
       "      <td>Canasta 6</td>\n",
       "      <td>157635</td>\n",
       "      <td>11000</td>\n",
       "      <td>132</td>\n",
       "      <td>11000.000000</td>\n",
       "      <td>0.000000</td>\n",
       "      <td>SI</td>\n",
       "      <td>0.000000</td>\n",
       "      <td>127</td>\n",
       "      <td>0.3558</td>\n",
       "      <td>3.19</td>\n",
       "    </tr>\n",
       "    <tr>\n",
       "      <th>...</th>\n",
       "      <td>...</td>\n",
       "      <td>...</td>\n",
       "      <td>...</td>\n",
       "      <td>...</td>\n",
       "      <td>...</td>\n",
       "      <td>...</td>\n",
       "      <td>...</td>\n",
       "      <td>...</td>\n",
       "      <td>...</td>\n",
       "      <td>...</td>\n",
       "      <td>...</td>\n",
       "      <td>...</td>\n",
       "      <td>...</td>\n",
       "    </tr>\n",
       "    <tr>\n",
       "      <th>1412</th>\n",
       "      <td>167070</td>\n",
       "      <td>147</td>\n",
       "      <td>Canasta 4</td>\n",
       "      <td>167255</td>\n",
       "      <td>9000</td>\n",
       "      <td>142</td>\n",
       "      <td>3398.411536</td>\n",
       "      <td>5601.588464</td>\n",
       "      <td>SI</td>\n",
       "      <td>-0.622399</td>\n",
       "      <td>127</td>\n",
       "      <td>0.2365</td>\n",
       "      <td>1.89</td>\n",
       "    </tr>\n",
       "    <tr>\n",
       "      <th>1413</th>\n",
       "      <td>167202</td>\n",
       "      <td>0</td>\n",
       "      <td>Canasta 6</td>\n",
       "      <td>167259</td>\n",
       "      <td>9000</td>\n",
       "      <td>142</td>\n",
       "      <td>3398.411536</td>\n",
       "      <td>5601.588464</td>\n",
       "      <td>SI</td>\n",
       "      <td>-0.622399</td>\n",
       "      <td>0</td>\n",
       "      <td>0.3515</td>\n",
       "      <td>3.19</td>\n",
       "    </tr>\n",
       "    <tr>\n",
       "      <th>1414</th>\n",
       "      <td>166739</td>\n",
       "      <td>0</td>\n",
       "      <td>Canasta 9</td>\n",
       "      <td>167256</td>\n",
       "      <td>9000</td>\n",
       "      <td>142</td>\n",
       "      <td>3398.411536</td>\n",
       "      <td>5601.588464</td>\n",
       "      <td>SI</td>\n",
       "      <td>-0.622399</td>\n",
       "      <td>0</td>\n",
       "      <td>0.7024</td>\n",
       "      <td>13.17</td>\n",
       "    </tr>\n",
       "    <tr>\n",
       "      <th>1415</th>\n",
       "      <td>166784</td>\n",
       "      <td>137</td>\n",
       "      <td>Canasta 4</td>\n",
       "      <td>167257</td>\n",
       "      <td>9000</td>\n",
       "      <td>142</td>\n",
       "      <td>3398.411536</td>\n",
       "      <td>5601.588464</td>\n",
       "      <td>SI</td>\n",
       "      <td>-0.622399</td>\n",
       "      <td>110</td>\n",
       "      <td>0.2319</td>\n",
       "      <td>1.89</td>\n",
       "    </tr>\n",
       "    <tr>\n",
       "      <th>1416</th>\n",
       "      <td>166882</td>\n",
       "      <td>0</td>\n",
       "      <td>Canasta 8</td>\n",
       "      <td>167258</td>\n",
       "      <td>9000</td>\n",
       "      <td>142</td>\n",
       "      <td>3398.411536</td>\n",
       "      <td>5601.588464</td>\n",
       "      <td>SI</td>\n",
       "      <td>-0.622399</td>\n",
       "      <td>0</td>\n",
       "      <td>0.5473</td>\n",
       "      <td>7.48</td>\n",
       "    </tr>\n",
       "  </tbody>\n",
       "</table>\n",
       "<p>1417 rows × 13 columns</p>\n",
       "</div>"
      ],
      "text/plain": [
       "      id_distribuidor  tasa_sugerida grupo_riesgo  ID ASOCIADO  \\\n",
       "0              145442            147    Canasta 1       162807   \n",
       "1              145444            147    Canasta 4       162806   \n",
       "2              157169            147    Canasta 2       157637   \n",
       "3              157171            147    Canasta 4       157634   \n",
       "4              157178            147    Canasta 6       157635   \n",
       "...               ...            ...          ...          ...   \n",
       "1412           167070            147    Canasta 4       167255   \n",
       "1413           167202              0    Canasta 6       167259   \n",
       "1414           166739              0    Canasta 9       167256   \n",
       "1415           166784            137    Canasta 4       167257   \n",
       "1416           166882              0    Canasta 8       167258   \n",
       "\n",
       "      CAPITAL AUTORIZADO  TASA AUTORIZADA    RECUPERADO  NO RECUPERADO  \\\n",
       "0                   6000              142   6000.000000       0.000000   \n",
       "1                   6000              142   6000.000000       0.000000   \n",
       "2                   8000              132   8000.000000       0.000000   \n",
       "3                  11000              132  11000.000000       0.000000   \n",
       "4                  11000              132  11000.000000       0.000000   \n",
       "...                  ...              ...           ...            ...   \n",
       "1412                9000              142   3398.411536    5601.588464   \n",
       "1413                9000              142   3398.411536    5601.588464   \n",
       "1414                9000              142   3398.411536    5601.588464   \n",
       "1415                9000              142   3398.411536    5601.588464   \n",
       "1416                9000              142   3398.411536    5601.588464   \n",
       "\n",
       "     CERRADO  P COSECHA  tasa_minima  probabilidad  \\\n",
       "0         SI   0.000000          100        0.0000   \n",
       "1         SI   0.000000          110        0.2163   \n",
       "2         SI   0.000000           95        0.1268   \n",
       "3         SI   0.000000          115        0.2696   \n",
       "4         SI   0.000000          127        0.3558   \n",
       "...      ...        ...          ...           ...   \n",
       "1412      SI  -0.622399          127        0.2365   \n",
       "1413      SI  -0.622399            0        0.3515   \n",
       "1414      SI  -0.622399            0        0.7024   \n",
       "1415      SI  -0.622399          110        0.2319   \n",
       "1416      SI  -0.622399            0        0.5473   \n",
       "\n",
       "      perdida_cosecha_esperada_quilum  \n",
       "0                                1.63  \n",
       "1                                1.89  \n",
       "2                                1.84  \n",
       "3                                1.89  \n",
       "4                                3.19  \n",
       "...                               ...  \n",
       "1412                             1.89  \n",
       "1413                             3.19  \n",
       "1414                            13.17  \n",
       "1415                             1.89  \n",
       "1416                             7.48  \n",
       "\n",
       "[1417 rows x 13 columns]"
      ]
     },
     "execution_count": 20,
     "metadata": {},
     "output_type": "execute_result"
    }
   ],
   "source": [
    "data_resultado_quilum"
   ]
  },
  {
   "cell_type": "markdown",
   "id": "1e9c7925",
   "metadata": {},
   "source": [
    "## quash"
   ]
  },
  {
   "cell_type": "code",
   "execution_count": 21,
   "id": "932439d2",
   "metadata": {},
   "outputs": [],
   "source": [
    "def levenshtein_distance(word1, word2):\n",
    "    len1, len2 = len(word1), len(word2)\n",
    "    \n",
    "    # Crear una matriz para almacenar las distancias parciales\n",
    "    dp = [[0] * (len2 + 1) for _ in range(len1 + 1)]\n",
    "\n",
    "    # Inicializar la primera fila y columna\n",
    "    for i in range(len1 + 1):\n",
    "        dp[i][0] = i\n",
    "    for j in range(len2 + 1):\n",
    "        dp[0][j] = j\n",
    "\n",
    "    # Calcular las distancias parciales\n",
    "    for i in range(1, len1 + 1):\n",
    "        for j in range(1, len2 + 1):\n",
    "            cost = 0 if word1[i - 1] == word2[j - 1] else 1\n",
    "            dp[i][j] = min(dp[i - 1][j] + 1,      # Eliminación\n",
    "                           dp[i][j - 1] + 1,      # Inserción\n",
    "                           dp[i - 1][j - 1] + cost)  # Sustitución\n",
    "\n",
    "    # El resultado final está en la esquina inferior derecha de la matriz\n",
    "    return dp[len1][len2]\n",
    "\n",
    "\n",
    "def MostSimilar(word, list_):\n",
    "    word = str(word).upper()\n",
    "    min_distance = np.inf\n",
    "    index = 0\n",
    "    for i, element in enumerate(list_):\n",
    "        d = levenshtein_distance(element, word)\n",
    "        if d < min_distance:\n",
    "            min_distance = d\n",
    "            index = i\n",
    "            \n",
    "    return list_[index]"
   ]
  },
  {
   "cell_type": "code",
   "execution_count": null,
   "id": "cb121996",
   "metadata": {},
   "outputs": [],
   "source": []
  },
  {
   "cell_type": "code",
   "execution_count": 22,
   "id": "3599f124",
   "metadata": {},
   "outputs": [
    {
     "data": {
      "text/html": [
       "<div>\n",
       "<style scoped>\n",
       "    .dataframe tbody tr th:only-of-type {\n",
       "        vertical-align: middle;\n",
       "    }\n",
       "\n",
       "    .dataframe tbody tr th {\n",
       "        vertical-align: top;\n",
       "    }\n",
       "\n",
       "    .dataframe thead th {\n",
       "        text-align: right;\n",
       "    }\n",
       "</style>\n",
       "<table border=\"1\" class=\"dataframe\">\n",
       "  <thead>\n",
       "    <tr style=\"text-align: right;\">\n",
       "      <th></th>\n",
       "      <th>APPLICANT_ID</th>\n",
       "      <th>INGRESO_MENSUAL</th>\n",
       "      <th>GASTOS_FAMILIARES</th>\n",
       "      <th>OTROS_INGRESOS</th>\n",
       "      <th>INGRESO_NETO</th>\n",
       "      <th>DEPENDIENTES</th>\n",
       "      <th>VENTAS</th>\n",
       "      <th>EDAD</th>\n",
       "      <th>MONTO_MENSUAL_VENTA</th>\n",
       "      <th>COMPRAS</th>\n",
       "      <th>DELEGACION</th>\n",
       "      <th>DELEGACION_NEGOCIO</th>\n",
       "      <th>ESCOLARIDAD</th>\n",
       "      <th>ESTADO</th>\n",
       "      <th>ESTADO_CIVIL</th>\n",
       "      <th>ESTADO_NEGOCIO</th>\n",
       "      <th>SEXO</th>\n",
       "      <th>SUCURSAL</th>\n",
       "      <th>TIPO_NEGOCIO</th>\n",
       "      <th>TIPO_VIVIENDA</th>\n",
       "    </tr>\n",
       "  </thead>\n",
       "  <tbody>\n",
       "    <tr>\n",
       "      <th>0</th>\n",
       "      <td>145442</td>\n",
       "      <td>8000</td>\n",
       "      <td>800.0</td>\n",
       "      <td>2500</td>\n",
       "      <td>$10,800.00</td>\n",
       "      <td>2</td>\n",
       "      <td>2000</td>\n",
       "      <td>28481</td>\n",
       "      <td>8000</td>\n",
       "      <td>900</td>\n",
       "      <td>Tenango del Aire</td>\n",
       "      <td>Tenango del Aire</td>\n",
       "      <td>Secundaria</td>\n",
       "      <td>México</td>\n",
       "      <td>Soltera (o)</td>\n",
       "      <td>México</td>\n",
       "      <td>FEMENINO</td>\n",
       "      <td>AMECAMECA</td>\n",
       "      <td>CALZADO REPARACION Y VENTA</td>\n",
       "      <td>Familiar</td>\n",
       "    </tr>\n",
       "    <tr>\n",
       "      <th>1</th>\n",
       "      <td>145444</td>\n",
       "      <td>12200</td>\n",
       "      <td>0.0</td>\n",
       "      <td>1000</td>\n",
       "      <td>$12,200.00</td>\n",
       "      <td>0</td>\n",
       "      <td>4000</td>\n",
       "      <td>25963</td>\n",
       "      <td>16000</td>\n",
       "      <td>1500</td>\n",
       "      <td>Tenango del Aire</td>\n",
       "      <td>Tenango del Aire</td>\n",
       "      <td>Tecnico</td>\n",
       "      <td>México</td>\n",
       "      <td>Casada (o)</td>\n",
       "      <td>México</td>\n",
       "      <td>FEMENINO</td>\n",
       "      <td>AMECAMECA</td>\n",
       "      <td>VENTA DE ALIMENTOS</td>\n",
       "      <td>Familiar</td>\n",
       "    </tr>\n",
       "    <tr>\n",
       "      <th>2</th>\n",
       "      <td>157169</td>\n",
       "      <td>16000</td>\n",
       "      <td>1300.0</td>\n",
       "      <td>2100</td>\n",
       "      <td>$9,600.00</td>\n",
       "      <td>1</td>\n",
       "      <td>4000</td>\n",
       "      <td>32993</td>\n",
       "      <td>16000</td>\n",
       "      <td>1300</td>\n",
       "      <td>Nezahualcóyotl</td>\n",
       "      <td>Nezahualcóyotl</td>\n",
       "      <td>Tecnico</td>\n",
       "      <td>México</td>\n",
       "      <td>Casada (o)</td>\n",
       "      <td>México</td>\n",
       "      <td>FEMENINO</td>\n",
       "      <td>NEZAHUALCOYOTL 2</td>\n",
       "      <td>VENTA DE ROPA</td>\n",
       "      <td>Familiar</td>\n",
       "    </tr>\n",
       "    <tr>\n",
       "      <th>3</th>\n",
       "      <td>157171</td>\n",
       "      <td>10000</td>\n",
       "      <td>1000.0</td>\n",
       "      <td>1500</td>\n",
       "      <td>$6,800.00</td>\n",
       "      <td>3</td>\n",
       "      <td>2500</td>\n",
       "      <td>36433</td>\n",
       "      <td>10000</td>\n",
       "      <td>1200</td>\n",
       "      <td>Nezahualcóyotl</td>\n",
       "      <td>Nezahualcóyotl</td>\n",
       "      <td>Bachillerato</td>\n",
       "      <td>México</td>\n",
       "      <td>Unión Libre</td>\n",
       "      <td>México</td>\n",
       "      <td>FEMENINO</td>\n",
       "      <td>NEZAHUALCOYOTL 2</td>\n",
       "      <td>VENTA DE ROPA</td>\n",
       "      <td>Familiar</td>\n",
       "    </tr>\n",
       "    <tr>\n",
       "      <th>4</th>\n",
       "      <td>157178</td>\n",
       "      <td>14000</td>\n",
       "      <td>1700.0</td>\n",
       "      <td>2500</td>\n",
       "      <td>$9,100.00</td>\n",
       "      <td>0</td>\n",
       "      <td>3500</td>\n",
       "      <td>26013</td>\n",
       "      <td>14000</td>\n",
       "      <td>1800</td>\n",
       "      <td>Nezahualcóyotl</td>\n",
       "      <td>Nezahualcóyotl</td>\n",
       "      <td>Secundaria</td>\n",
       "      <td>México</td>\n",
       "      <td>Soltera (o)</td>\n",
       "      <td>México</td>\n",
       "      <td>FEMENINO</td>\n",
       "      <td>NEZAHUALCOYOTL 2</td>\n",
       "      <td>JOYERIA/BISUTERIA/FUNDICION</td>\n",
       "      <td>Familiar</td>\n",
       "    </tr>\n",
       "    <tr>\n",
       "      <th>...</th>\n",
       "      <td>...</td>\n",
       "      <td>...</td>\n",
       "      <td>...</td>\n",
       "      <td>...</td>\n",
       "      <td>...</td>\n",
       "      <td>...</td>\n",
       "      <td>...</td>\n",
       "      <td>...</td>\n",
       "      <td>...</td>\n",
       "      <td>...</td>\n",
       "      <td>...</td>\n",
       "      <td>...</td>\n",
       "      <td>...</td>\n",
       "      <td>...</td>\n",
       "      <td>...</td>\n",
       "      <td>...</td>\n",
       "      <td>...</td>\n",
       "      <td>...</td>\n",
       "      <td>...</td>\n",
       "      <td>...</td>\n",
       "    </tr>\n",
       "    <tr>\n",
       "      <th>1412</th>\n",
       "      <td>167070</td>\n",
       "      <td>11200</td>\n",
       "      <td>1500.0</td>\n",
       "      <td>2000</td>\n",
       "      <td>$5,200.00</td>\n",
       "      <td>1</td>\n",
       "      <td>2800</td>\n",
       "      <td>28245</td>\n",
       "      <td>11200</td>\n",
       "      <td>1500</td>\n",
       "      <td>Milpa Alta</td>\n",
       "      <td>Milpa Alta</td>\n",
       "      <td>Secundaria</td>\n",
       "      <td>Distrito Federal</td>\n",
       "      <td>Unión Libre</td>\n",
       "      <td>Distrito Federal</td>\n",
       "      <td>FEMENINO</td>\n",
       "      <td>MILPA ALTA</td>\n",
       "      <td>VENTA DE ROPA</td>\n",
       "      <td>Propia</td>\n",
       "    </tr>\n",
       "    <tr>\n",
       "      <th>1413</th>\n",
       "      <td>167202</td>\n",
       "      <td>11200</td>\n",
       "      <td>1400.0</td>\n",
       "      <td>1800</td>\n",
       "      <td>$4,400.00</td>\n",
       "      <td>1</td>\n",
       "      <td>2800</td>\n",
       "      <td>33246</td>\n",
       "      <td>11200</td>\n",
       "      <td>1500</td>\n",
       "      <td>Milpa Alta</td>\n",
       "      <td>Milpa Alta</td>\n",
       "      <td>Secundaria</td>\n",
       "      <td>Distrito Federal</td>\n",
       "      <td>Unión Libre</td>\n",
       "      <td>Distrito Federal</td>\n",
       "      <td>FEMENINO</td>\n",
       "      <td>MILPA ALTA</td>\n",
       "      <td>VENTA DE ROPA</td>\n",
       "      <td>Familiar</td>\n",
       "    </tr>\n",
       "    <tr>\n",
       "      <th>1414</th>\n",
       "      <td>166739</td>\n",
       "      <td>29600</td>\n",
       "      <td>1700.0</td>\n",
       "      <td>2300</td>\n",
       "      <td>$6,400.00</td>\n",
       "      <td>2</td>\n",
       "      <td>7400</td>\n",
       "      <td>36106</td>\n",
       "      <td>29600</td>\n",
       "      <td>4000</td>\n",
       "      <td>Milpa Alta</td>\n",
       "      <td>Milpa Alta</td>\n",
       "      <td>Secundaria</td>\n",
       "      <td>Distrito Federal</td>\n",
       "      <td>Unión Libre</td>\n",
       "      <td>Distrito Federal</td>\n",
       "      <td>FEMENINO</td>\n",
       "      <td>MILPA ALTA</td>\n",
       "      <td>ANIMALES/VETERINARIA</td>\n",
       "      <td>Propia</td>\n",
       "    </tr>\n",
       "    <tr>\n",
       "      <th>1415</th>\n",
       "      <td>166784</td>\n",
       "      <td>9600</td>\n",
       "      <td>1100.0</td>\n",
       "      <td>2400</td>\n",
       "      <td>$8,000.00</td>\n",
       "      <td>0</td>\n",
       "      <td>2400</td>\n",
       "      <td>24845</td>\n",
       "      <td>9600</td>\n",
       "      <td>1400</td>\n",
       "      <td>Milpa Alta</td>\n",
       "      <td>Milpa Alta</td>\n",
       "      <td>Secundaria</td>\n",
       "      <td>Distrito Federal</td>\n",
       "      <td>Unión Libre</td>\n",
       "      <td>Distrito Federal</td>\n",
       "      <td>FEMENINO</td>\n",
       "      <td>MILPA ALTA</td>\n",
       "      <td>VENTA DE ROPA</td>\n",
       "      <td>Propia</td>\n",
       "    </tr>\n",
       "    <tr>\n",
       "      <th>1416</th>\n",
       "      <td>166882</td>\n",
       "      <td>8000</td>\n",
       "      <td>3650.0</td>\n",
       "      <td>5000</td>\n",
       "      <td>$10,800.00</td>\n",
       "      <td>1</td>\n",
       "      <td>2000</td>\n",
       "      <td>30135</td>\n",
       "      <td>8000</td>\n",
       "      <td>400</td>\n",
       "      <td>Milpa Alta</td>\n",
       "      <td>Milpa Alta</td>\n",
       "      <td>Secundaria</td>\n",
       "      <td>Distrito Federal</td>\n",
       "      <td>Unión Libre</td>\n",
       "      <td>Distrito Federal</td>\n",
       "      <td>FEMENINO</td>\n",
       "      <td>MILPA ALTA</td>\n",
       "      <td>VENTA DE ROPA</td>\n",
       "      <td>Propia</td>\n",
       "    </tr>\n",
       "  </tbody>\n",
       "</table>\n",
       "<p>1417 rows × 20 columns</p>\n",
       "</div>"
      ],
      "text/plain": [
       "      APPLICANT_ID  INGRESO_MENSUAL  GASTOS_FAMILIARES  OTROS_INGRESOS  \\\n",
       "0           145442             8000              800.0            2500   \n",
       "1           145444            12200                0.0            1000   \n",
       "2           157169            16000             1300.0            2100   \n",
       "3           157171            10000             1000.0            1500   \n",
       "4           157178            14000             1700.0            2500   \n",
       "...            ...              ...                ...             ...   \n",
       "1412        167070            11200             1500.0            2000   \n",
       "1413        167202            11200             1400.0            1800   \n",
       "1414        166739            29600             1700.0            2300   \n",
       "1415        166784             9600             1100.0            2400   \n",
       "1416        166882             8000             3650.0            5000   \n",
       "\n",
       "     INGRESO_NETO  DEPENDIENTES  VENTAS   EDAD MONTO_MENSUAL_VENTA  COMPRAS  \\\n",
       "0      $10,800.00             2    2000  28481                8000      900   \n",
       "1      $12,200.00             0    4000  25963               16000     1500   \n",
       "2       $9,600.00             1    4000  32993               16000     1300   \n",
       "3       $6,800.00             3    2500  36433               10000     1200   \n",
       "4       $9,100.00             0    3500  26013               14000     1800   \n",
       "...           ...           ...     ...    ...                 ...      ...   \n",
       "1412    $5,200.00             1    2800  28245               11200     1500   \n",
       "1413    $4,400.00             1    2800  33246               11200     1500   \n",
       "1414    $6,400.00             2    7400  36106               29600     4000   \n",
       "1415    $8,000.00             0    2400  24845                9600     1400   \n",
       "1416   $10,800.00             1    2000  30135                8000      400   \n",
       "\n",
       "            DELEGACION DELEGACION_NEGOCIO   ESCOLARIDAD            ESTADO  \\\n",
       "0     Tenango del Aire   Tenango del Aire    Secundaria            México   \n",
       "1     Tenango del Aire   Tenango del Aire       Tecnico            México   \n",
       "2       Nezahualcóyotl     Nezahualcóyotl       Tecnico            México   \n",
       "3       Nezahualcóyotl     Nezahualcóyotl  Bachillerato            México   \n",
       "4       Nezahualcóyotl     Nezahualcóyotl    Secundaria            México   \n",
       "...                ...                ...           ...               ...   \n",
       "1412        Milpa Alta         Milpa Alta    Secundaria  Distrito Federal   \n",
       "1413        Milpa Alta         Milpa Alta    Secundaria  Distrito Federal   \n",
       "1414        Milpa Alta         Milpa Alta    Secundaria  Distrito Federal   \n",
       "1415        Milpa Alta         Milpa Alta    Secundaria  Distrito Federal   \n",
       "1416        Milpa Alta         Milpa Alta    Secundaria  Distrito Federal   \n",
       "\n",
       "     ESTADO_CIVIL    ESTADO_NEGOCIO      SEXO          SUCURSAL  \\\n",
       "0     Soltera (o)            México  FEMENINO         AMECAMECA   \n",
       "1      Casada (o)            México  FEMENINO         AMECAMECA   \n",
       "2      Casada (o)            México  FEMENINO  NEZAHUALCOYOTL 2   \n",
       "3     Unión Libre            México  FEMENINO  NEZAHUALCOYOTL 2   \n",
       "4     Soltera (o)            México  FEMENINO  NEZAHUALCOYOTL 2   \n",
       "...           ...               ...       ...               ...   \n",
       "1412  Unión Libre  Distrito Federal  FEMENINO        MILPA ALTA   \n",
       "1413  Unión Libre  Distrito Federal  FEMENINO        MILPA ALTA   \n",
       "1414  Unión Libre  Distrito Federal  FEMENINO        MILPA ALTA   \n",
       "1415  Unión Libre  Distrito Federal  FEMENINO        MILPA ALTA   \n",
       "1416  Unión Libre  Distrito Federal  FEMENINO        MILPA ALTA   \n",
       "\n",
       "                     TIPO_NEGOCIO TIPO_VIVIENDA  \n",
       "0      CALZADO REPARACION Y VENTA      Familiar  \n",
       "1              VENTA DE ALIMENTOS      Familiar  \n",
       "2                   VENTA DE ROPA      Familiar  \n",
       "3                   VENTA DE ROPA      Familiar  \n",
       "4     JOYERIA/BISUTERIA/FUNDICION      Familiar  \n",
       "...                           ...           ...  \n",
       "1412                VENTA DE ROPA        Propia  \n",
       "1413                VENTA DE ROPA      Familiar  \n",
       "1414         ANIMALES/VETERINARIA        Propia  \n",
       "1415                VENTA DE ROPA        Propia  \n",
       "1416                VENTA DE ROPA        Propia  \n",
       "\n",
       "[1417 rows x 20 columns]"
      ]
     },
     "execution_count": 22,
     "metadata": {},
     "output_type": "execute_result"
    }
   ],
   "source": [
    "data_modelo"
   ]
  },
  {
   "cell_type": "code",
   "execution_count": 23,
   "id": "c31b023a",
   "metadata": {},
   "outputs": [],
   "source": [
    "data_modelo.INGRESO_MENSUAL = data_modelo.INGRESO_MENSUAL.astype(int)\n",
    "data_modelo.GASTOS_FAMILIARES = data_modelo.GASTOS_FAMILIARES.astype(int)\n",
    "data_modelo.OTROS_INGRESOS = data_modelo.OTROS_INGRESOS.astype(int)\n",
    "data_modelo.COMPRAS = data_modelo.COMPRAS.astype(int)"
   ]
  },
  {
   "cell_type": "code",
   "execution_count": 24,
   "id": "0ead29d7",
   "metadata": {},
   "outputs": [],
   "source": [
    "data_modelo = data_modelo.loc[data_modelo.MONTO_MENSUAL_VENTA != '4 ANOS']"
   ]
  },
  {
   "cell_type": "code",
   "execution_count": 25,
   "id": "e0dc5d82",
   "metadata": {},
   "outputs": [
    {
     "name": "stderr",
     "output_type": "stream",
     "text": [
      "C:\\Users\\XMF3802_1\\AppData\\Local\\Temp\\ipykernel_4204\\1086178666.py:2: FutureWarning: The default value of regex will change from True to False in a future version. In addition, single character regular expressions will *not* be treated as literal strings when regex=True.\n",
      "  data_modelo.MONTO_MENSUAL_VENTA = data_modelo.MONTO_MENSUAL_VENTA.str.replace(\"$\", \"\").str.replace(\"|\", \"\").str.replace(\",\", \"\").astype(float).astype(int)\n",
      "C:\\Users\\XMF3802_1\\AppData\\Local\\Temp\\ipykernel_4204\\1086178666.py:2: SettingWithCopyWarning: \n",
      "A value is trying to be set on a copy of a slice from a DataFrame.\n",
      "Try using .loc[row_indexer,col_indexer] = value instead\n",
      "\n",
      "See the caveats in the documentation: https://pandas.pydata.org/pandas-docs/stable/user_guide/indexing.html#returning-a-view-versus-a-copy\n",
      "  data_modelo.MONTO_MENSUAL_VENTA = data_modelo.MONTO_MENSUAL_VENTA.str.replace(\"$\", \"\").str.replace(\"|\", \"\").str.replace(\",\", \"\").astype(float).astype(int)\n"
     ]
    }
   ],
   "source": [
    "#data_modelo.MONTO_MENSUAL_VENTA = \n",
    "data_modelo.MONTO_MENSUAL_VENTA = data_modelo.MONTO_MENSUAL_VENTA.str.replace(\"$\", \"\").str.replace(\"|\", \"\").str.replace(\",\", \"\").astype(float).astype(int)"
   ]
  },
  {
   "cell_type": "code",
   "execution_count": 26,
   "id": "45f19875",
   "metadata": {},
   "outputs": [],
   "source": [
    "ids = \", \".join(data_modelo.APPLICANT_ID.unique().astype(str))\n",
    "\n",
    "cnx = pymysql.connect(host='159.89.90.197', port = 3306, user='antonio_diaz', passwd=\"4nT0ni_0.dZ\",\n",
    "                       charset='utf8',db = 'volana')\n",
    "\n",
    "cursor = cnx.cursor()\n",
    "sql = f\"\"\"\n",
    "select id as 'APPLICANT_ID', TIMESTAMPDIFF(YEAR, fecha_nacimiento, CURDATE()) AS EDAD from\n",
    "(select id, fecha_nacimiento from demograficos_distribuidores\n",
    "union\n",
    "select id, fecha_nacimiento from cc_prospectos_demograficos) as pen\n",
    "where pen.id in ({ids})\n",
    "\"\"\"\n",
    "\n",
    "cursor.execute(sql)\n",
    "edad = cursor.fetchall()\n",
    "edad = pd.DataFrame(edad, columns=[i[0] for i in cursor.description])"
   ]
  },
  {
   "cell_type": "code",
   "execution_count": 27,
   "id": "e4604d74",
   "metadata": {},
   "outputs": [],
   "source": [
    "edad.APPLICANT_ID = edad.APPLICANT_ID.astype(int)\n",
    "edad.EDAD = edad.EDAD.astype(int)"
   ]
  },
  {
   "cell_type": "code",
   "execution_count": 28,
   "id": "811b0f8d",
   "metadata": {},
   "outputs": [],
   "source": [
    "data_modelo = data_modelo.drop(\"EDAD\", axis = 1).merge(edad, on = 'APPLICANT_ID')"
   ]
  },
  {
   "cell_type": "code",
   "execution_count": 29,
   "id": "a7317e68",
   "metadata": {},
   "outputs": [],
   "source": [
    "data_modelo = data_modelo[['APPLICANT_ID', 'INGRESO_MENSUAL', 'GASTOS_FAMILIARES',\n",
    "       'OTROS_INGRESOS', 'INGRESO_NETO', 'DEPENDIENTES', 'VENTAS', 'EDAD',\n",
    "       'MONTO_MENSUAL_VENTA', 'COMPRAS', 'DELEGACION', 'DELEGACION_NEGOCIO',\n",
    "       'ESCOLARIDAD', 'ESTADO', 'ESTADO_CIVIL', 'ESTADO_NEGOCIO', 'SEXO',\n",
    "       'SUCURSAL', 'TIPO_NEGOCIO', 'TIPO_VIVIENDA']]"
   ]
  },
  {
   "cell_type": "code",
   "execution_count": 30,
   "id": "5ecb5123",
   "metadata": {},
   "outputs": [
    {
     "name": "stderr",
     "output_type": "stream",
     "text": [
      "C:\\Users\\XMF3802_1\\AppData\\Local\\Temp\\ipykernel_4204\\4118494542.py:1: FutureWarning: The default value of regex will change from True to False in a future version. In addition, single character regular expressions will *not* be treated as literal strings when regex=True.\n",
      "  data_modelo.INGRESO_NETO = data_modelo.INGRESO_NETO.str.replace(\"$\", \"\").str.replace(\",\", \"\").astype(float).astype(int)\n"
     ]
    }
   ],
   "source": [
    "data_modelo.INGRESO_NETO = data_modelo.INGRESO_NETO.str.replace(\"$\", \"\").str.replace(\",\", \"\").astype(float).astype(int)"
   ]
  },
  {
   "cell_type": "code",
   "execution_count": 31,
   "id": "15469faa",
   "metadata": {
    "scrolled": true
   },
   "outputs": [],
   "source": [
    "DELGACIONES = [\n",
    "    \"CENTRO\", \"CHALCO\", \"CHICOLOAPAN\", \"CHIMALHUACAN\", \"IXTAPALUCA\", \"IZTAPALAPA\", \"LA_PAZ\", \"NEZAHUALCOYOTL\",\n",
    "    \"VALLE_DE_CHALCO_SOLIDARIDAD\", \"ACAMBAY\", \"ACOLMAN\", \"AMATLAN_DE_LOS_REYES\", \"AMECAMECA\", \"ATENCO\", \"ATLAUTLA\",\n",
    "    \"ATOYAC\", \"ATZACAN\", \"AYAPANGO\", \"BENITO_JUAREZ\", \"CAMERINO_Z._MENDOZA\", \"CARDENAS\", \"CHIAUTLA\", \"CHICONCUAC\",\n",
    "    \"CHOCAMAN\", \"COATZACOALCOS\", \"COMALCALCO\", \"CORDOBA\", \"COSCOMATEPEC\", \"COSOLEACAQUE\", \"CUAUHTEMOC\", \"CUITLAHUAC\",\n",
    "    \"CUNDUACAN\", \"ECATEPEC_DE_MORELOS\", \"ECATZINGO\", \"FORTIN\", \"GUADALAJARA\", \"GUSTAVO_A._MADERO\", \"HUATUSCO\",\n",
    "    \"HUILOAPAN_DE_CUAUHTEMOC\", \"HUIMANGUILLO\", \"HUIXQUILUCAN\", \"IXHUATLANCILLO\", \"IXTACZOQUITLAN\",\n",
    "    \"IXTLAHUACAN_DE_LOS_MEMBRILLOS\", \"IZTACALCO\", \"JUCHITEPEC\", \"LA_PERLA\", \"MACUSPANA\", \"MARIANO_ESCOBEDO\",\n",
    "    \"MILPA_ALTA\", \"MINATITLAN\", \"NACAJUCA\", \"NANCHITAL_DE_LAZARO_CARDENAS_DEL_RIO\", \"NARANJAL\", \"NOGALES\",\n",
    "    \"OMEALCA\", \"ORIZABA\", \"OZUMBA\", \"PAPALOTLA\", \"RAFAEL_DELGADO\", \"RIO_BLANCO\", \"TEMAMATLA\", \"TENANGO_DEL_AIRE\",\n",
    "    \"TEOTIHUACAN\", \"TEPETLAOXTOC\", \"TEPETLIXPA\", \"TEPOTZOTLAN\", \"TEQUILA\", \"TEXCOCO\", \"TEZOYUCA\", \"TLAHUAC\",\n",
    "    \"TLAJOMULCO_DE_ZUNIGA\", \"TLALMANALCO\", \"TLAQUEPAQUE\", \"TLILAPAN\", \"TOMATLAN\", \"TONALA\", \"VENUSTIANO_CARRANZA\",\n",
    "    \"XOCHIMILCO\", \"ZAPOPAN\", \"ZAPOTLANEJO\"\n",
    "]\n",
    "ESCOLARIDADES = [\n",
    "    \"BACHILLERATO\", \"LICENCIATURA\", \"PRIMARIA\", \"SECUNDARIA\", \"TECNICO\", \"OTRO\", \"SIN_ESTUDIOS\"\n",
    "]\n",
    "ESTADOS = [\n",
    "    \"DISTRITO_FEDERAL\", \"JALISCO\", \"MEXICO\", \"TABASCO\", \"VERACRUZ_DE_IGNACIO_DE_LA_LLAVE\", \"QUINTANA_ROO\"\n",
    "]\n",
    "ESTADOS_CIVILES = [\n",
    "    \"CASADO\", \"SOLTERO\", \"UNION LIBRE\", \"VIUDO\", \"DIVORCIADO\", \"SEPARADO\"\n",
    "]\n",
    "SUCURSALES = [\n",
    "    \"AMECAMECA\", \"CARDENAS\", \"CHALCO\", \"CHIMALHUACAN_2\", \"COATZACOALCOS\", \"FORTIN\", \"IXTAPALUCA\", \"IXTAPALUCA_2\",\n",
    "    \"NEZAHUALCOYOTL_2\", \"ORIZABA\", \"TEXCOCO\", \"TONALA\", \"TONALA_2\", \"VILLAHERMOSA\", \"IZTAPALAPA\", \"MILPA_ALTA\",\n",
    "    \"TEXCOCO_2\", \"TLAHUAC\"\n",
    "]\n",
    "TIPOS_NEGOCIO = [\n",
    "    \"ABARROTES/MISCELANEAS/PERECEDEROS\", \"BELLEZA/SALON/ESTETICA/BARBERIA\", \"CALZADO_REPARACION_Y_VENTA\",\n",
    "    \"FABRICA/TALLER/ELABORACION/REPARACION\", \"FRUTAS/VERDURAS/SEMILLAS/CAMPO/AGROPECUARIAS\",\n",
    "    \"JOYERIA/BISUTERIA/FUNDICION\", \"VENTA_DE_ALIMENTOS\", \"VENTA_DE_ROPA\", \"VENTA_POR_CATALOGO\", \"AGUA/POTABLE/RESIDUAL\",\n",
    "    \"AMEDICINA/SALUD/FARMACIA\", \"ANIMALES/VETERINARIA\", \"ARTE/ARTESANIAS\", \"CAFEINTERNET\",\n",
    "    \"CARNICERIA/POLLERIA/RASTRO\", \"CERRAJERIA\", \"COMBUSTIBLES/GAS/GASOLINA\", \"DEPORTES/GIMNASIO\",\n",
    "    \"DESPERDICIOS/RESIDUOS/RECICLAJE\", \"DISTRIBUIDOR_CON_EXPERIENCIA\", \"EDUCACION/ESCUELAS/CENTRO_DE_CAPACITACION\",\n",
    "    \"ELECTRICISTA\", \"EVENTOS/SALONES/SILLAS/MESAS\", \"FLORES/ARREGLOS\", \"FOTOGRAFIA/VIDEO\", \"HERRERIA\",\n",
    "    \"IMPRENTA/SERIGRAFIA/ROTULOS\", \"JARCIERIA\", \"LAVANDERIA/TINTORERIA/PLANCHADURIA\", \"MADERA/CARPINTERIA/EBANISTA\",\n",
    "    \"MECANICA_AUTOMOTRIZ/INDUSTRIAL\", \"PANADERIA\", \"PAPELERIA\", \"PLOMERIA\", \"TLAPALERIA/FERRETERIA/MATERIALES_DE_CONSTRUCCION\",\n",
    "    \"TORTILLERIA/MOLINO\", \"VENTA_DE_AUTOS/MOTOCICLETAS/LOTES/AUTOPARTES\", \"VENTA_DE_CALZADO\",\n",
    "    \"VENTA_DE_CELULARES/TECNOLOGIA\", \"VENTA_DE_COMIDA\", \"VENTA_DE_MUEBLES/ELECTRONICOS/ELECTRODOMESTICOS\"\n",
    "]\n",
    "TIPOS_VIVIENDA = [\n",
    "    \"FAMILIAR\", \"PROPIA\", \"RENTADA\", \"OTRO\"\n",
    "]\n"
   ]
  },
  {
   "cell_type": "code",
   "execution_count": 33,
   "id": "f587fd74",
   "metadata": {},
   "outputs": [],
   "source": [
    "data_modelo.DELEGACION = data_modelo.DELEGACION.apply(MostSimilar, list_ = DELGACIONES)\n",
    "data_modelo.DELEGACION_NEGOCIO = data_modelo.DELEGACION_NEGOCIO.apply(MostSimilar, list_ = DELGACIONES)\n",
    "data_modelo.ESCOLARIDAD = data_modelo.ESCOLARIDAD.apply(MostSimilar, list_ = ESCOLARIDADES)\n",
    "data_modelo.ESTADO = data_modelo.ESTADO.apply(MostSimilar, list_ = ESTADOS)\n",
    "data_modelo.ESTADO_NEGOCIO = data_modelo.ESTADO_NEGOCIO.apply(MostSimilar, list_ = ESTADOS)\n",
    "data_modelo.SUCURSAL = data_modelo.SUCURSAL.apply(MostSimilar, list_ = SUCURSALES)\n",
    "data_modelo.TIPO_NEGOCIO = data_modelo.TIPO_NEGOCIO.apply(MostSimilar, list_ = TIPOS_NEGOCIO)\n",
    "data_modelo.TIPO_VIVIENDA = data_modelo.TIPO_VIVIENDA.apply(MostSimilar, list_ = TIPOS_VIVIENDA)\n",
    "data_modelo.ESTADO_CIVIL = data_modelo.ESTADO_CIVIL.apply(MostSimilar, list_ = ESTADOS_CIVILES)"
   ]
  },
  {
   "cell_type": "code",
   "execution_count": 34,
   "id": "fe15d347",
   "metadata": {},
   "outputs": [
    {
     "data": {
      "text/plain": [
       "APPLICANT_ID            int64\n",
       "INGRESO_MENSUAL         int32\n",
       "GASTOS_FAMILIARES       int32\n",
       "OTROS_INGRESOS          int32\n",
       "INGRESO_NETO            int32\n",
       "DEPENDIENTES            int64\n",
       "VENTAS                  int64\n",
       "EDAD                    int32\n",
       "MONTO_MENSUAL_VENTA     int32\n",
       "COMPRAS                 int32\n",
       "DELEGACION             object\n",
       "DELEGACION_NEGOCIO     object\n",
       "ESCOLARIDAD            object\n",
       "ESTADO                 object\n",
       "ESTADO_CIVIL           object\n",
       "ESTADO_NEGOCIO         object\n",
       "SEXO                   object\n",
       "SUCURSAL               object\n",
       "TIPO_NEGOCIO           object\n",
       "TIPO_VIVIENDA          object\n",
       "dtype: object"
      ]
     },
     "execution_count": 34,
     "metadata": {},
     "output_type": "execute_result"
    }
   ],
   "source": [
    "data_modelo.dtypes"
   ]
  },
  {
   "cell_type": "code",
   "execution_count": 35,
   "id": "a15efa8f",
   "metadata": {},
   "outputs": [
    {
     "data": {
      "text/plain": [
       "17653.23234463277"
      ]
     },
     "execution_count": 35,
     "metadata": {},
     "output_type": "execute_result"
    }
   ],
   "source": [
    "data_modelo.MONTO_MENSUAL_VENTA.mean()"
   ]
  },
  {
   "cell_type": "code",
   "execution_count": 43,
   "id": "95c15939",
   "metadata": {},
   "outputs": [
    {
     "data": {
      "text/html": [
       "<div>\n",
       "<style scoped>\n",
       "    .dataframe tbody tr th:only-of-type {\n",
       "        vertical-align: middle;\n",
       "    }\n",
       "\n",
       "    .dataframe tbody tr th {\n",
       "        vertical-align: top;\n",
       "    }\n",
       "\n",
       "    .dataframe thead th {\n",
       "        text-align: right;\n",
       "    }\n",
       "</style>\n",
       "<table border=\"1\" class=\"dataframe\">\n",
       "  <thead>\n",
       "    <tr style=\"text-align: right;\">\n",
       "      <th></th>\n",
       "      <th>APPLICANT_ID</th>\n",
       "      <th>INGRESO_MENSUAL</th>\n",
       "      <th>GASTOS_FAMILIARES</th>\n",
       "      <th>OTROS_INGRESOS</th>\n",
       "      <th>INGRESO_NETO</th>\n",
       "      <th>DEPENDIENTES</th>\n",
       "      <th>VENTAS</th>\n",
       "      <th>EDAD</th>\n",
       "      <th>MONTO_MENSUAL_VENTA</th>\n",
       "      <th>COMPRAS</th>\n",
       "      <th>DELEGACION</th>\n",
       "      <th>DELEGACION_NEGOCIO</th>\n",
       "      <th>ESCOLARIDAD</th>\n",
       "      <th>ESTADO</th>\n",
       "      <th>ESTADO_CIVIL</th>\n",
       "      <th>ESTADO_NEGOCIO</th>\n",
       "      <th>SEXO</th>\n",
       "      <th>SUCURSAL</th>\n",
       "      <th>TIPO_NEGOCIO</th>\n",
       "      <th>TIPO_VIVIENDA</th>\n",
       "    </tr>\n",
       "  </thead>\n",
       "  <tbody>\n",
       "    <tr>\n",
       "      <th>0</th>\n",
       "      <td>145442</td>\n",
       "      <td>8000</td>\n",
       "      <td>800</td>\n",
       "      <td>2500</td>\n",
       "      <td>10800</td>\n",
       "      <td>2</td>\n",
       "      <td>2000</td>\n",
       "      <td>46</td>\n",
       "      <td>8000</td>\n",
       "      <td>900</td>\n",
       "      <td>TENANGO_DEL_AIRE</td>\n",
       "      <td>TENANGO_DEL_AIRE</td>\n",
       "      <td>SECUNDARIA</td>\n",
       "      <td>MEXICO</td>\n",
       "      <td>SOLTERO</td>\n",
       "      <td>MEXICO</td>\n",
       "      <td>FEMENINO</td>\n",
       "      <td>AMECAMECA</td>\n",
       "      <td>CALZADO_REPARACION_Y_VENTA</td>\n",
       "      <td>FAMILIAR</td>\n",
       "    </tr>\n",
       "    <tr>\n",
       "      <th>1</th>\n",
       "      <td>145444</td>\n",
       "      <td>12200</td>\n",
       "      <td>0</td>\n",
       "      <td>1000</td>\n",
       "      <td>12200</td>\n",
       "      <td>0</td>\n",
       "      <td>4000</td>\n",
       "      <td>53</td>\n",
       "      <td>16000</td>\n",
       "      <td>1500</td>\n",
       "      <td>TENANGO_DEL_AIRE</td>\n",
       "      <td>TENANGO_DEL_AIRE</td>\n",
       "      <td>TECNICO</td>\n",
       "      <td>MEXICO</td>\n",
       "      <td>CASADO</td>\n",
       "      <td>MEXICO</td>\n",
       "      <td>FEMENINO</td>\n",
       "      <td>AMECAMECA</td>\n",
       "      <td>VENTA_DE_ALIMENTOS</td>\n",
       "      <td>FAMILIAR</td>\n",
       "    </tr>\n",
       "    <tr>\n",
       "      <th>2</th>\n",
       "      <td>157169</td>\n",
       "      <td>16000</td>\n",
       "      <td>1300</td>\n",
       "      <td>2100</td>\n",
       "      <td>9600</td>\n",
       "      <td>1</td>\n",
       "      <td>4000</td>\n",
       "      <td>33</td>\n",
       "      <td>16000</td>\n",
       "      <td>1300</td>\n",
       "      <td>NEZAHUALCOYOTL</td>\n",
       "      <td>NEZAHUALCOYOTL</td>\n",
       "      <td>TECNICO</td>\n",
       "      <td>MEXICO</td>\n",
       "      <td>CASADO</td>\n",
       "      <td>MEXICO</td>\n",
       "      <td>FEMENINO</td>\n",
       "      <td>NEZAHUALCOYOTL_2</td>\n",
       "      <td>VENTA_DE_ROPA</td>\n",
       "      <td>FAMILIAR</td>\n",
       "    </tr>\n",
       "    <tr>\n",
       "      <th>3</th>\n",
       "      <td>157171</td>\n",
       "      <td>10000</td>\n",
       "      <td>1000</td>\n",
       "      <td>1500</td>\n",
       "      <td>6800</td>\n",
       "      <td>3</td>\n",
       "      <td>2500</td>\n",
       "      <td>24</td>\n",
       "      <td>10000</td>\n",
       "      <td>1200</td>\n",
       "      <td>NEZAHUALCOYOTL</td>\n",
       "      <td>NEZAHUALCOYOTL</td>\n",
       "      <td>BACHILLERATO</td>\n",
       "      <td>MEXICO</td>\n",
       "      <td>UNION LIBRE</td>\n",
       "      <td>MEXICO</td>\n",
       "      <td>FEMENINO</td>\n",
       "      <td>NEZAHUALCOYOTL_2</td>\n",
       "      <td>VENTA_DE_ROPA</td>\n",
       "      <td>FAMILIAR</td>\n",
       "    </tr>\n",
       "    <tr>\n",
       "      <th>4</th>\n",
       "      <td>157178</td>\n",
       "      <td>14000</td>\n",
       "      <td>1700</td>\n",
       "      <td>2500</td>\n",
       "      <td>9100</td>\n",
       "      <td>0</td>\n",
       "      <td>3500</td>\n",
       "      <td>53</td>\n",
       "      <td>14000</td>\n",
       "      <td>1800</td>\n",
       "      <td>NEZAHUALCOYOTL</td>\n",
       "      <td>NEZAHUALCOYOTL</td>\n",
       "      <td>SECUNDARIA</td>\n",
       "      <td>MEXICO</td>\n",
       "      <td>SOLTERO</td>\n",
       "      <td>MEXICO</td>\n",
       "      <td>FEMENINO</td>\n",
       "      <td>NEZAHUALCOYOTL_2</td>\n",
       "      <td>JOYERIA/BISUTERIA/FUNDICION</td>\n",
       "      <td>FAMILIAR</td>\n",
       "    </tr>\n",
       "    <tr>\n",
       "      <th>...</th>\n",
       "      <td>...</td>\n",
       "      <td>...</td>\n",
       "      <td>...</td>\n",
       "      <td>...</td>\n",
       "      <td>...</td>\n",
       "      <td>...</td>\n",
       "      <td>...</td>\n",
       "      <td>...</td>\n",
       "      <td>...</td>\n",
       "      <td>...</td>\n",
       "      <td>...</td>\n",
       "      <td>...</td>\n",
       "      <td>...</td>\n",
       "      <td>...</td>\n",
       "      <td>...</td>\n",
       "      <td>...</td>\n",
       "      <td>...</td>\n",
       "      <td>...</td>\n",
       "      <td>...</td>\n",
       "      <td>...</td>\n",
       "    </tr>\n",
       "    <tr>\n",
       "      <th>1411</th>\n",
       "      <td>167070</td>\n",
       "      <td>11200</td>\n",
       "      <td>1500</td>\n",
       "      <td>2000</td>\n",
       "      <td>5200</td>\n",
       "      <td>1</td>\n",
       "      <td>2800</td>\n",
       "      <td>46</td>\n",
       "      <td>11200</td>\n",
       "      <td>1500</td>\n",
       "      <td>MILPA_ALTA</td>\n",
       "      <td>MILPA_ALTA</td>\n",
       "      <td>SECUNDARIA</td>\n",
       "      <td>DISTRITO_FEDERAL</td>\n",
       "      <td>UNION LIBRE</td>\n",
       "      <td>DISTRITO_FEDERAL</td>\n",
       "      <td>FEMENINO</td>\n",
       "      <td>MILPA_ALTA</td>\n",
       "      <td>VENTA_DE_ROPA</td>\n",
       "      <td>PROPIA</td>\n",
       "    </tr>\n",
       "    <tr>\n",
       "      <th>1412</th>\n",
       "      <td>167202</td>\n",
       "      <td>11200</td>\n",
       "      <td>1400</td>\n",
       "      <td>1800</td>\n",
       "      <td>4400</td>\n",
       "      <td>1</td>\n",
       "      <td>2800</td>\n",
       "      <td>33</td>\n",
       "      <td>11200</td>\n",
       "      <td>1500</td>\n",
       "      <td>MILPA_ALTA</td>\n",
       "      <td>MILPA_ALTA</td>\n",
       "      <td>SECUNDARIA</td>\n",
       "      <td>DISTRITO_FEDERAL</td>\n",
       "      <td>UNION LIBRE</td>\n",
       "      <td>DISTRITO_FEDERAL</td>\n",
       "      <td>FEMENINO</td>\n",
       "      <td>MILPA_ALTA</td>\n",
       "      <td>VENTA_DE_ROPA</td>\n",
       "      <td>FAMILIAR</td>\n",
       "    </tr>\n",
       "    <tr>\n",
       "      <th>1413</th>\n",
       "      <td>166739</td>\n",
       "      <td>29600</td>\n",
       "      <td>1700</td>\n",
       "      <td>2300</td>\n",
       "      <td>6400</td>\n",
       "      <td>2</td>\n",
       "      <td>7400</td>\n",
       "      <td>25</td>\n",
       "      <td>29600</td>\n",
       "      <td>4000</td>\n",
       "      <td>MILPA_ALTA</td>\n",
       "      <td>MILPA_ALTA</td>\n",
       "      <td>SECUNDARIA</td>\n",
       "      <td>DISTRITO_FEDERAL</td>\n",
       "      <td>UNION LIBRE</td>\n",
       "      <td>DISTRITO_FEDERAL</td>\n",
       "      <td>FEMENINO</td>\n",
       "      <td>MILPA_ALTA</td>\n",
       "      <td>ANIMALES/VETERINARIA</td>\n",
       "      <td>PROPIA</td>\n",
       "    </tr>\n",
       "    <tr>\n",
       "      <th>1414</th>\n",
       "      <td>166784</td>\n",
       "      <td>9600</td>\n",
       "      <td>1100</td>\n",
       "      <td>2400</td>\n",
       "      <td>8000</td>\n",
       "      <td>0</td>\n",
       "      <td>2400</td>\n",
       "      <td>56</td>\n",
       "      <td>9600</td>\n",
       "      <td>1400</td>\n",
       "      <td>MILPA_ALTA</td>\n",
       "      <td>MILPA_ALTA</td>\n",
       "      <td>SECUNDARIA</td>\n",
       "      <td>DISTRITO_FEDERAL</td>\n",
       "      <td>UNION LIBRE</td>\n",
       "      <td>DISTRITO_FEDERAL</td>\n",
       "      <td>FEMENINO</td>\n",
       "      <td>MILPA_ALTA</td>\n",
       "      <td>VENTA_DE_ROPA</td>\n",
       "      <td>PROPIA</td>\n",
       "    </tr>\n",
       "    <tr>\n",
       "      <th>1415</th>\n",
       "      <td>166882</td>\n",
       "      <td>8000</td>\n",
       "      <td>3650</td>\n",
       "      <td>5000</td>\n",
       "      <td>10800</td>\n",
       "      <td>1</td>\n",
       "      <td>2000</td>\n",
       "      <td>41</td>\n",
       "      <td>8000</td>\n",
       "      <td>400</td>\n",
       "      <td>MILPA_ALTA</td>\n",
       "      <td>MILPA_ALTA</td>\n",
       "      <td>SECUNDARIA</td>\n",
       "      <td>DISTRITO_FEDERAL</td>\n",
       "      <td>UNION LIBRE</td>\n",
       "      <td>DISTRITO_FEDERAL</td>\n",
       "      <td>FEMENINO</td>\n",
       "      <td>MILPA_ALTA</td>\n",
       "      <td>VENTA_DE_ROPA</td>\n",
       "      <td>PROPIA</td>\n",
       "    </tr>\n",
       "  </tbody>\n",
       "</table>\n",
       "<p>1416 rows × 20 columns</p>\n",
       "</div>"
      ],
      "text/plain": [
       "      APPLICANT_ID  INGRESO_MENSUAL  GASTOS_FAMILIARES  OTROS_INGRESOS  \\\n",
       "0           145442             8000                800            2500   \n",
       "1           145444            12200                  0            1000   \n",
       "2           157169            16000               1300            2100   \n",
       "3           157171            10000               1000            1500   \n",
       "4           157178            14000               1700            2500   \n",
       "...            ...              ...                ...             ...   \n",
       "1411        167070            11200               1500            2000   \n",
       "1412        167202            11200               1400            1800   \n",
       "1413        166739            29600               1700            2300   \n",
       "1414        166784             9600               1100            2400   \n",
       "1415        166882             8000               3650            5000   \n",
       "\n",
       "      INGRESO_NETO  DEPENDIENTES  VENTAS  EDAD  MONTO_MENSUAL_VENTA  COMPRAS  \\\n",
       "0            10800             2    2000    46                 8000      900   \n",
       "1            12200             0    4000    53                16000     1500   \n",
       "2             9600             1    4000    33                16000     1300   \n",
       "3             6800             3    2500    24                10000     1200   \n",
       "4             9100             0    3500    53                14000     1800   \n",
       "...            ...           ...     ...   ...                  ...      ...   \n",
       "1411          5200             1    2800    46                11200     1500   \n",
       "1412          4400             1    2800    33                11200     1500   \n",
       "1413          6400             2    7400    25                29600     4000   \n",
       "1414          8000             0    2400    56                 9600     1400   \n",
       "1415         10800             1    2000    41                 8000      400   \n",
       "\n",
       "            DELEGACION DELEGACION_NEGOCIO   ESCOLARIDAD            ESTADO  \\\n",
       "0     TENANGO_DEL_AIRE   TENANGO_DEL_AIRE    SECUNDARIA            MEXICO   \n",
       "1     TENANGO_DEL_AIRE   TENANGO_DEL_AIRE       TECNICO            MEXICO   \n",
       "2       NEZAHUALCOYOTL     NEZAHUALCOYOTL       TECNICO            MEXICO   \n",
       "3       NEZAHUALCOYOTL     NEZAHUALCOYOTL  BACHILLERATO            MEXICO   \n",
       "4       NEZAHUALCOYOTL     NEZAHUALCOYOTL    SECUNDARIA            MEXICO   \n",
       "...                ...                ...           ...               ...   \n",
       "1411        MILPA_ALTA         MILPA_ALTA    SECUNDARIA  DISTRITO_FEDERAL   \n",
       "1412        MILPA_ALTA         MILPA_ALTA    SECUNDARIA  DISTRITO_FEDERAL   \n",
       "1413        MILPA_ALTA         MILPA_ALTA    SECUNDARIA  DISTRITO_FEDERAL   \n",
       "1414        MILPA_ALTA         MILPA_ALTA    SECUNDARIA  DISTRITO_FEDERAL   \n",
       "1415        MILPA_ALTA         MILPA_ALTA    SECUNDARIA  DISTRITO_FEDERAL   \n",
       "\n",
       "     ESTADO_CIVIL    ESTADO_NEGOCIO      SEXO          SUCURSAL  \\\n",
       "0         SOLTERO            MEXICO  FEMENINO         AMECAMECA   \n",
       "1          CASADO            MEXICO  FEMENINO         AMECAMECA   \n",
       "2          CASADO            MEXICO  FEMENINO  NEZAHUALCOYOTL_2   \n",
       "3     UNION LIBRE            MEXICO  FEMENINO  NEZAHUALCOYOTL_2   \n",
       "4         SOLTERO            MEXICO  FEMENINO  NEZAHUALCOYOTL_2   \n",
       "...           ...               ...       ...               ...   \n",
       "1411  UNION LIBRE  DISTRITO_FEDERAL  FEMENINO        MILPA_ALTA   \n",
       "1412  UNION LIBRE  DISTRITO_FEDERAL  FEMENINO        MILPA_ALTA   \n",
       "1413  UNION LIBRE  DISTRITO_FEDERAL  FEMENINO        MILPA_ALTA   \n",
       "1414  UNION LIBRE  DISTRITO_FEDERAL  FEMENINO        MILPA_ALTA   \n",
       "1415  UNION LIBRE  DISTRITO_FEDERAL  FEMENINO        MILPA_ALTA   \n",
       "\n",
       "                     TIPO_NEGOCIO TIPO_VIVIENDA  \n",
       "0      CALZADO_REPARACION_Y_VENTA      FAMILIAR  \n",
       "1              VENTA_DE_ALIMENTOS      FAMILIAR  \n",
       "2                   VENTA_DE_ROPA      FAMILIAR  \n",
       "3                   VENTA_DE_ROPA      FAMILIAR  \n",
       "4     JOYERIA/BISUTERIA/FUNDICION      FAMILIAR  \n",
       "...                           ...           ...  \n",
       "1411                VENTA_DE_ROPA        PROPIA  \n",
       "1412                VENTA_DE_ROPA      FAMILIAR  \n",
       "1413         ANIMALES/VETERINARIA        PROPIA  \n",
       "1414                VENTA_DE_ROPA        PROPIA  \n",
       "1415                VENTA_DE_ROPA        PROPIA  \n",
       "\n",
       "[1416 rows x 20 columns]"
      ]
     },
     "execution_count": 43,
     "metadata": {},
     "output_type": "execute_result"
    }
   ],
   "source": [
    "data_modelo"
   ]
  },
  {
   "cell_type": "code",
   "execution_count": 36,
   "id": "0a6c1c4f",
   "metadata": {},
   "outputs": [],
   "source": [
    "data_modelo.to_csv(\"./data/modelo_quash_cleand.csv\", index = False)"
   ]
  },
  {
   "cell_type": "code",
   "execution_count": 37,
   "id": "0158b276",
   "metadata": {},
   "outputs": [],
   "source": [
    "consulta = data_modelo.to_dict('records')"
   ]
  },
  {
   "cell_type": "code",
   "execution_count": 53,
   "id": "38a2d5d0",
   "metadata": {},
   "outputs": [],
   "source": [
    "import json\n",
    "with open('./data/datos_backtesting_3.json', 'w') as f:\n",
    "    json.dump(consulta[250:300], f)\n",
    "with open('./data/datos2.json', 'w') as f:\n",
    "    json.dump(consulta[400:800], f)\n",
    "with open('./data/datos3.json', 'w') as f:\n",
    "    json.dump(consulta[800:], f)"
   ]
  },
  {
   "cell_type": "code",
   "execution_count": 59,
   "id": "77fb5f39",
   "metadata": {},
   "outputs": [],
   "source": [
    "prefix = '{\"data\": '\n",
    "suffix = ', \"customer\": \"volana\"}'\n",
    "\n",
    "# Unimos el prefijo, el diccionario serializado como JSON y el sufijo\n",
    "for i in range(100):\n",
    "    json_data = prefix + json.dumps(consulta[50*i:50*(i+1)]) + suffix\n",
    "\n",
    "    file_path = f\"./data/datos_finales_hora_si_{i}.json\"\n",
    "\n",
    "    with open(file_path, \"w\") as json_file:\n",
    "        json_file.write(json_data)"
   ]
  },
  {
   "cell_type": "code",
   "execution_count": 60,
   "id": "268f3acf",
   "metadata": {},
   "outputs": [
    {
     "data": {
      "text/plain": [
       "'{\"data\": [], \"customer\": \"volana\"}'"
      ]
     },
     "execution_count": 60,
     "metadata": {},
     "output_type": "execute_result"
    }
   ],
   "source": [
    "json_data"
   ]
  },
  {
   "cell_type": "code",
   "execution_count": 40,
   "id": "e69fffed",
   "metadata": {},
   "outputs": [],
   "source": [
    "#resultado_final = []\n",
    "DATA = \"./data/prueba.json\""
   ]
  },
  {
   "cell_type": "code",
   "execution_count": 92,
   "id": "5a5a3b65",
   "metadata": {},
   "outputs": [],
   "source": [
    "resultado_final_hora_si = []"
   ]
  },
  {
   "cell_type": "code",
   "execution_count": 63,
   "id": "050624cf",
   "metadata": {},
   "outputs": [],
   "source": [
    "import time\n",
    "time.sleep(1)"
   ]
  },
  {
   "cell_type": "code",
   "execution_count": 129,
   "id": "8c0a5068",
   "metadata": {},
   "outputs": [
    {
     "name": "stdout",
     "output_type": "stream",
     "text": [
      "./data/datos_finales_hora_si_29.json\n",
      "<Response [200]> {\"prediction\":[{\"label\":\"RECHAZADO\",\"approval_score\":0.7212736011,\"applicant_id\":166200},{\"label\":\"RECHAZADO\",\"approval_score\":0.884213686,\"applicant_id\":166201},{\"label\":\"RECHAZADO\",\"approval_score\":0.3510470688,\"applicant_id\":166202},{\"label\":\"APROBADO\",\"approval_score\":0.990203619,\"applicant_id\":166132},{\"label\":\"RECHAZADO\",\"approval_score\":0.2759210169,\"applicant_id\":166260},{\"label\":\"RECHAZADO\",\"approval_score\":0.8160589933,\"applicant_id\":166261},{\"label\":\"RECHAZADO\",\"approval_score\":0.781146884,\"applicant_id\":166262},{\"label\":\"APROBADO\",\"approval_score\":0.9408911467,\"applicant_id\":166263},{\"label\":\"RECHAZADO\",\"approval_score\":0.4939048886,\"applicant_id\":166264},{\"label\":\"RECHAZADO\",\"approval_score\":0.606908083,\"applicant_id\":166741},{\"label\":\"APROBADO\",\"approval_score\":0.9548502564,\"applicant_id\":166893},{\"label\":\"RECHAZADO\",\"approval_score\":0.7184106112,\"applicant_id\":167070},{\"label\":\"RECHAZADO\",\"approval_score\":0.5222830772,\"applicant_id\":167202},{\"label\":\"RECHAZADO\",\"approval_score\":0.5542345047,\"applicant_id\":166739},{\"label\":\"RECHAZADO\",\"approval_score\":0.8841713071,\"applicant_id\":166784},{\"label\":\"RECHAZADO\",\"approval_score\":0.2762903273,\"applicant_id\":166882}]}\n"
     ]
    },
    {
     "name": "stderr",
     "output_type": "stream",
     "text": [
      "ERROR: Could not consume arg: -f\n",
      "Usage: ipykernel_launcher.py -\n",
      "\n",
      "For detailed information on this command, run:\n",
      "  ipykernel_launcher.py - --help\n"
     ]
    },
    {
     "name": "stdout",
     "output_type": "stream",
     "text": [
      "Next 29\n"
     ]
    },
    {
     "data": {
      "text/plain": [
       "'\\nDATA = \"./data/datos2.json\"\\nfire.Fire(predict_test)\\nDATA = \"./data/datos3.json\"\\nfire.Fire(predict_test)\\n'"
      ]
     },
     "execution_count": 129,
     "metadata": {},
     "output_type": "execute_result"
    }
   ],
   "source": [
    "def predict_test(url=URL,data=DATA,endpoint=ENDPOINT):\n",
    "    with open(data,'r') as _:\n",
    "        \n",
    "            global resultado_final_hora_si\n",
    "            j_data = json.load(_)\n",
    "            headers = {'content-type': 'application/json',\n",
    "\n",
    "            'Accept-Charset': 'UTF-8',\n",
    "            'apikey': APIKEY,\n",
    "            'x-customer': 'volana'}\n",
    "\n",
    "\n",
    "            r = requests.post(url + endpoint, data=json.dumps(j_data), headers=headers)\n",
    "            resultado_final_hora_si.append(r.text)\n",
    "            print(r, r.text)\n",
    "        \n",
    "\n",
    "i = 29\n",
    "DATA = f\"./data/datos_finales_hora_si_{i}.json\"\n",
    "print(DATA)\n",
    "try:\n",
    "    fire.Fire(predict_test)\n",
    "except:\n",
    "    pass\n",
    "print(f\"Next {i}\")\n",
    "\"\"\"\n",
    "DATA = \"./data/datos2.json\"\n",
    "fire.Fire(predict_test)\n",
    "DATA = \"./data/datos3.json\"\n",
    "fire.Fire(predict_test)\n",
    "\"\"\""
   ]
  },
  {
   "cell_type": "code",
   "execution_count": 88,
   "id": "733a279c",
   "metadata": {},
   "outputs": [
    {
     "data": {
      "text/plain": [
       "'./data/datos_finales_hora_si_10.json'"
      ]
     },
     "execution_count": 88,
     "metadata": {},
     "output_type": "execute_result"
    }
   ],
   "source": [
    "DATA"
   ]
  },
  {
   "cell_type": "code",
   "execution_count": 141,
   "id": "6cb34da4",
   "metadata": {},
   "outputs": [],
   "source": [
    "res = pd.DataFrame()\n",
    "for i in range(30):\n",
    "    res = pd.concat([res, pd.DataFrame(eval(resultado_final_hora_si[i])['prediction'])])"
   ]
  },
  {
   "cell_type": "code",
   "execution_count": 167,
   "id": "88eb640c",
   "metadata": {},
   "outputs": [],
   "source": [
    "res.to_csv(\"./data/resultado_modelo_quash_api.csv\", index=False)"
   ]
  },
  {
   "cell_type": "code",
   "execution_count": 143,
   "id": "8063fb4e",
   "metadata": {},
   "outputs": [],
   "source": [
    "data_resultado_quash = data_resultado_quash.merge(res, left_on='id_distribuidor', right_on = 'applicant_id')"
   ]
  },
  {
   "cell_type": "code",
   "execution_count": 144,
   "id": "96299fcb",
   "metadata": {},
   "outputs": [],
   "source": [
    "data_resultado_quash[\"perdida_cosecha_esperada_quash\"] = data_resultado_quash.approval_score.apply(setcut_prob_quash, grupo_ = False)\n",
    "data_resultado_quash[\"grupo_riesgo\"] = data_resultado_quash.approval_score.apply(setcut_prob_quash, grupo_ = True)"
   ]
  },
  {
   "cell_type": "markdown",
   "id": "f1c6260e",
   "metadata": {},
   "source": [
    "**Añadiendo capacidad de pago**"
   ]
  },
  {
   "cell_type": "code",
   "execution_count": 145,
   "id": "b2a543f6",
   "metadata": {},
   "outputs": [],
   "source": [
    "ids = \"(\" + \", \".join(np.array(data_resultado_quash.id_distribuidor, dtype = 'str')) + \")\""
   ]
  },
  {
   "cell_type": "code",
   "execution_count": 146,
   "id": "95bcc9ab",
   "metadata": {},
   "outputs": [],
   "source": [
    "cnx = pymysql.connect(host='159.89.90.197', port = 3306, user='antonio_diaz', passwd=\"4nT0ni_0.dZ\",\n",
    "                               charset='utf8',db = 'volana')\n",
    "cursor = cnx.cursor()\n",
    "sql = f\"\"\"\n",
    "select max(id) as 'id_distribuidor', max(capacidad_pago_semanal) as 'capacidad_pago_semanal'\n",
    "from cc_prospectos_demograficos where id in {ids}\n",
    "group by id\n",
    "\"\"\"\n",
    "cursor.execute(sql)\n",
    "data_capacidad_pago = cursor.fetchall()\n",
    "data_capacidad_pago = pd.DataFrame(data_capacidad_pago, columns=[i[0] for i in cursor.description])\n",
    "cnx.close()"
   ]
  },
  {
   "cell_type": "code",
   "execution_count": 147,
   "id": "139645a9",
   "metadata": {},
   "outputs": [],
   "source": [
    "data_resultado_quash = data_resultado_quash.merge(data_capacidad_pago, on='id_distribuidor', how = 'left')"
   ]
  },
  {
   "cell_type": "code",
   "execution_count": 148,
   "id": "390f8896",
   "metadata": {},
   "outputs": [
    {
     "data": {
      "text/html": [
       "<div>\n",
       "<style scoped>\n",
       "    .dataframe tbody tr th:only-of-type {\n",
       "        vertical-align: middle;\n",
       "    }\n",
       "\n",
       "    .dataframe tbody tr th {\n",
       "        vertical-align: top;\n",
       "    }\n",
       "\n",
       "    .dataframe thead th {\n",
       "        text-align: right;\n",
       "    }\n",
       "</style>\n",
       "<table border=\"1\" class=\"dataframe\">\n",
       "  <thead>\n",
       "    <tr style=\"text-align: right;\">\n",
       "      <th></th>\n",
       "      <th>id_distribuidor</th>\n",
       "      <th>tasa_sugerida</th>\n",
       "      <th>grupo_riesgo</th>\n",
       "      <th>ID ASOCIADO</th>\n",
       "      <th>CAPITAL AUTORIZADO</th>\n",
       "      <th>TASA AUTORIZADA</th>\n",
       "      <th>RECUPERADO</th>\n",
       "      <th>NO RECUPERADO</th>\n",
       "      <th>CERRADO</th>\n",
       "      <th>P COSECHA</th>\n",
       "      <th>label</th>\n",
       "      <th>approval_score</th>\n",
       "      <th>applicant_id</th>\n",
       "      <th>perdida_cosecha_esperada_quash</th>\n",
       "      <th>capacidad_pago_semanal</th>\n",
       "    </tr>\n",
       "  </thead>\n",
       "  <tbody>\n",
       "    <tr>\n",
       "      <th>0</th>\n",
       "      <td>145442</td>\n",
       "      <td>147</td>\n",
       "      <td>2</td>\n",
       "      <td>162807</td>\n",
       "      <td>6000</td>\n",
       "      <td>142</td>\n",
       "      <td>6000.000000</td>\n",
       "      <td>0.000000</td>\n",
       "      <td>SI</td>\n",
       "      <td>0.000000</td>\n",
       "      <td>RECHAZADO</td>\n",
       "      <td>0.599554</td>\n",
       "      <td>145442</td>\n",
       "      <td>11.80</td>\n",
       "      <td>2700.0</td>\n",
       "    </tr>\n",
       "    <tr>\n",
       "      <th>1</th>\n",
       "      <td>145444</td>\n",
       "      <td>147</td>\n",
       "      <td>5</td>\n",
       "      <td>162806</td>\n",
       "      <td>6000</td>\n",
       "      <td>142</td>\n",
       "      <td>6000.000000</td>\n",
       "      <td>0.000000</td>\n",
       "      <td>SI</td>\n",
       "      <td>0.000000</td>\n",
       "      <td>APROBADO</td>\n",
       "      <td>0.953212</td>\n",
       "      <td>145444</td>\n",
       "      <td>4.06</td>\n",
       "      <td>3050.0</td>\n",
       "    </tr>\n",
       "    <tr>\n",
       "      <th>2</th>\n",
       "      <td>157169</td>\n",
       "      <td>147</td>\n",
       "      <td>6</td>\n",
       "      <td>157637</td>\n",
       "      <td>8000</td>\n",
       "      <td>132</td>\n",
       "      <td>8000.000000</td>\n",
       "      <td>0.000000</td>\n",
       "      <td>SI</td>\n",
       "      <td>0.000000</td>\n",
       "      <td>APROBADO</td>\n",
       "      <td>0.989600</td>\n",
       "      <td>157169</td>\n",
       "      <td>1.98</td>\n",
       "      <td>2400.0</td>\n",
       "    </tr>\n",
       "    <tr>\n",
       "      <th>3</th>\n",
       "      <td>157171</td>\n",
       "      <td>147</td>\n",
       "      <td>1</td>\n",
       "      <td>157634</td>\n",
       "      <td>11000</td>\n",
       "      <td>132</td>\n",
       "      <td>11000.000000</td>\n",
       "      <td>0.000000</td>\n",
       "      <td>SI</td>\n",
       "      <td>0.000000</td>\n",
       "      <td>RECHAZADO</td>\n",
       "      <td>0.364701</td>\n",
       "      <td>157171</td>\n",
       "      <td>14.76</td>\n",
       "      <td>1700.0</td>\n",
       "    </tr>\n",
       "    <tr>\n",
       "      <th>4</th>\n",
       "      <td>157178</td>\n",
       "      <td>147</td>\n",
       "      <td>5</td>\n",
       "      <td>157635</td>\n",
       "      <td>11000</td>\n",
       "      <td>132</td>\n",
       "      <td>11000.000000</td>\n",
       "      <td>0.000000</td>\n",
       "      <td>SI</td>\n",
       "      <td>0.000000</td>\n",
       "      <td>APROBADO</td>\n",
       "      <td>0.944219</td>\n",
       "      <td>157178</td>\n",
       "      <td>4.06</td>\n",
       "      <td>1600.0</td>\n",
       "    </tr>\n",
       "    <tr>\n",
       "      <th>...</th>\n",
       "      <td>...</td>\n",
       "      <td>...</td>\n",
       "      <td>...</td>\n",
       "      <td>...</td>\n",
       "      <td>...</td>\n",
       "      <td>...</td>\n",
       "      <td>...</td>\n",
       "      <td>...</td>\n",
       "      <td>...</td>\n",
       "      <td>...</td>\n",
       "      <td>...</td>\n",
       "      <td>...</td>\n",
       "      <td>...</td>\n",
       "      <td>...</td>\n",
       "      <td>...</td>\n",
       "    </tr>\n",
       "    <tr>\n",
       "      <th>1461</th>\n",
       "      <td>167070</td>\n",
       "      <td>147</td>\n",
       "      <td>2</td>\n",
       "      <td>167255</td>\n",
       "      <td>9000</td>\n",
       "      <td>142</td>\n",
       "      <td>3398.411536</td>\n",
       "      <td>5601.588464</td>\n",
       "      <td>SI</td>\n",
       "      <td>-0.622399</td>\n",
       "      <td>RECHAZADO</td>\n",
       "      <td>0.718411</td>\n",
       "      <td>167070</td>\n",
       "      <td>11.80</td>\n",
       "      <td>1300.0</td>\n",
       "    </tr>\n",
       "    <tr>\n",
       "      <th>1462</th>\n",
       "      <td>167202</td>\n",
       "      <td>0</td>\n",
       "      <td>2</td>\n",
       "      <td>167259</td>\n",
       "      <td>9000</td>\n",
       "      <td>142</td>\n",
       "      <td>3398.411536</td>\n",
       "      <td>5601.588464</td>\n",
       "      <td>SI</td>\n",
       "      <td>-0.622399</td>\n",
       "      <td>RECHAZADO</td>\n",
       "      <td>0.522283</td>\n",
       "      <td>167202</td>\n",
       "      <td>11.80</td>\n",
       "      <td>1100.0</td>\n",
       "    </tr>\n",
       "    <tr>\n",
       "      <th>1463</th>\n",
       "      <td>166739</td>\n",
       "      <td>0</td>\n",
       "      <td>2</td>\n",
       "      <td>167256</td>\n",
       "      <td>9000</td>\n",
       "      <td>142</td>\n",
       "      <td>3398.411536</td>\n",
       "      <td>5601.588464</td>\n",
       "      <td>SI</td>\n",
       "      <td>-0.622399</td>\n",
       "      <td>RECHAZADO</td>\n",
       "      <td>0.554235</td>\n",
       "      <td>166739</td>\n",
       "      <td>11.80</td>\n",
       "      <td>1600.0</td>\n",
       "    </tr>\n",
       "    <tr>\n",
       "      <th>1464</th>\n",
       "      <td>166784</td>\n",
       "      <td>137</td>\n",
       "      <td>4</td>\n",
       "      <td>167257</td>\n",
       "      <td>9000</td>\n",
       "      <td>142</td>\n",
       "      <td>3398.411536</td>\n",
       "      <td>5601.588464</td>\n",
       "      <td>SI</td>\n",
       "      <td>-0.622399</td>\n",
       "      <td>RECHAZADO</td>\n",
       "      <td>0.884171</td>\n",
       "      <td>166784</td>\n",
       "      <td>6.11</td>\n",
       "      <td>2000.0</td>\n",
       "    </tr>\n",
       "    <tr>\n",
       "      <th>1465</th>\n",
       "      <td>166882</td>\n",
       "      <td>0</td>\n",
       "      <td>1</td>\n",
       "      <td>167258</td>\n",
       "      <td>9000</td>\n",
       "      <td>142</td>\n",
       "      <td>3398.411536</td>\n",
       "      <td>5601.588464</td>\n",
       "      <td>SI</td>\n",
       "      <td>-0.622399</td>\n",
       "      <td>RECHAZADO</td>\n",
       "      <td>0.276290</td>\n",
       "      <td>166882</td>\n",
       "      <td>14.76</td>\n",
       "      <td>2700.0</td>\n",
       "    </tr>\n",
       "  </tbody>\n",
       "</table>\n",
       "<p>1466 rows × 15 columns</p>\n",
       "</div>"
      ],
      "text/plain": [
       "      id_distribuidor  tasa_sugerida  grupo_riesgo  ID ASOCIADO  \\\n",
       "0              145442            147             2       162807   \n",
       "1              145444            147             5       162806   \n",
       "2              157169            147             6       157637   \n",
       "3              157171            147             1       157634   \n",
       "4              157178            147             5       157635   \n",
       "...               ...            ...           ...          ...   \n",
       "1461           167070            147             2       167255   \n",
       "1462           167202              0             2       167259   \n",
       "1463           166739              0             2       167256   \n",
       "1464           166784            137             4       167257   \n",
       "1465           166882              0             1       167258   \n",
       "\n",
       "      CAPITAL AUTORIZADO  TASA AUTORIZADA    RECUPERADO  NO RECUPERADO  \\\n",
       "0                   6000              142   6000.000000       0.000000   \n",
       "1                   6000              142   6000.000000       0.000000   \n",
       "2                   8000              132   8000.000000       0.000000   \n",
       "3                  11000              132  11000.000000       0.000000   \n",
       "4                  11000              132  11000.000000       0.000000   \n",
       "...                  ...              ...           ...            ...   \n",
       "1461                9000              142   3398.411536    5601.588464   \n",
       "1462                9000              142   3398.411536    5601.588464   \n",
       "1463                9000              142   3398.411536    5601.588464   \n",
       "1464                9000              142   3398.411536    5601.588464   \n",
       "1465                9000              142   3398.411536    5601.588464   \n",
       "\n",
       "     CERRADO  P COSECHA      label  approval_score  applicant_id  \\\n",
       "0         SI   0.000000  RECHAZADO        0.599554        145442   \n",
       "1         SI   0.000000   APROBADO        0.953212        145444   \n",
       "2         SI   0.000000   APROBADO        0.989600        157169   \n",
       "3         SI   0.000000  RECHAZADO        0.364701        157171   \n",
       "4         SI   0.000000   APROBADO        0.944219        157178   \n",
       "...      ...        ...        ...             ...           ...   \n",
       "1461      SI  -0.622399  RECHAZADO        0.718411        167070   \n",
       "1462      SI  -0.622399  RECHAZADO        0.522283        167202   \n",
       "1463      SI  -0.622399  RECHAZADO        0.554235        166739   \n",
       "1464      SI  -0.622399  RECHAZADO        0.884171        166784   \n",
       "1465      SI  -0.622399  RECHAZADO        0.276290        166882   \n",
       "\n",
       "      perdida_cosecha_esperada_quash  capacidad_pago_semanal  \n",
       "0                              11.80                  2700.0  \n",
       "1                               4.06                  3050.0  \n",
       "2                               1.98                  2400.0  \n",
       "3                              14.76                  1700.0  \n",
       "4                               4.06                  1600.0  \n",
       "...                              ...                     ...  \n",
       "1461                           11.80                  1300.0  \n",
       "1462                           11.80                  1100.0  \n",
       "1463                           11.80                  1600.0  \n",
       "1464                            6.11                  2000.0  \n",
       "1465                           14.76                  2700.0  \n",
       "\n",
       "[1466 rows x 15 columns]"
      ]
     },
     "execution_count": 148,
     "metadata": {},
     "output_type": "execute_result"
    }
   ],
   "source": [
    "data_resultado_quash"
   ]
  },
  {
   "cell_type": "code",
   "execution_count": 149,
   "id": "c993d573",
   "metadata": {},
   "outputs": [],
   "source": [
    "from asignarTasa import ajustarTasa"
   ]
  },
  {
   "cell_type": "code",
   "execution_count": 169,
   "id": "bdd2c2e6",
   "metadata": {},
   "outputs": [],
   "source": [
    "d = 16\n",
    "t_max = 1.47\n",
    "resultado = []\n",
    "\n",
    "for row in data_resultado_quash.iterrows():\n",
    "    pc = row[1]['perdida_cosecha_esperada_quash']/100\n",
    "    c  = row[1]['capacidad_pago_semanal']/2\n",
    "    id_ = int(row[1]['id_distribuidor'])\n",
    "    prob = float(row[1]['approval_score'])\n",
    "    grp = row[1]['grupo_riesgo']\n",
    "    alguno_paso = 0\n",
    "    for X in range(10_000, 4_000, -1_000):\n",
    "        estatus, resultado_txt, tasa_minima, tasa_sugerida = ajustarTasa(X, t_max, d, c, pc)\n",
    "        if estatus:\n",
    "            resultado.append([id_, resultado_txt, X, tasa_minima, tasa_sugerida, prob, grp])\n",
    "            alguno_paso = 1\n",
    "    if alguno_paso == 0:\n",
    "        _, resultado_txt, _, _ = ajustarTasa(X, t_max, d, c, pc)\n",
    "        resultado.append([id_, resultado_txt, 0, 0, 0, prob, grp])\n",
    "\n",
    "data_prospectos_quash = pd.DataFrame(resultado)\n",
    "\n",
    "data_prospectos_quash.columns = [\"id_distribuidor\",\"resultado_txt\",\"monto_autorizado\", \"tasa_minima\",\"tasa_sugerida\", \"probabilidad\", \"grupo_riesgo\"]"
   ]
  },
  {
   "cell_type": "code",
   "execution_count": 174,
   "id": "21f53f7e",
   "metadata": {},
   "outputs": [],
   "source": [
    "data_prospectos_quash.grupo_riesgo = data_prospectos_quash.grupo_riesgo.apply(lambda x: \"Canasta \"+str(x))"
   ]
  },
  {
   "cell_type": "code",
   "execution_count": 175,
   "id": "1b44cf70",
   "metadata": {},
   "outputs": [],
   "source": [
    "data_prospectos_quash.to_csv(\"./data/data_quash_prospectos_evaluados_formato_aws.csv\", index=False)"
   ]
  },
  {
   "cell_type": "code",
   "execution_count": 151,
   "id": "9a0eecfa",
   "metadata": {},
   "outputs": [],
   "source": [
    "data_prospectos_quash = data_prospectos_quash.groupby(\"id_distribuidor\").agg({\"monto_autorizado\": max, \n",
    "                                              \"tasa_sugerida\":max,\n",
    "                                              \"tasa_minima\": min,\n",
    "                                              \"probabilidad\" : max,\n",
    "                                              \"grupo_riesgo\": max})\n",
    "data_prospectos_quash = data_prospectos_quash.reset_index()"
   ]
  },
  {
   "cell_type": "code",
   "execution_count": 168,
   "id": "c045b81e",
   "metadata": {},
   "outputs": [
    {
     "data": {
      "text/html": [
       "<div>\n",
       "<style scoped>\n",
       "    .dataframe tbody tr th:only-of-type {\n",
       "        vertical-align: middle;\n",
       "    }\n",
       "\n",
       "    .dataframe tbody tr th {\n",
       "        vertical-align: top;\n",
       "    }\n",
       "\n",
       "    .dataframe thead th {\n",
       "        text-align: right;\n",
       "    }\n",
       "</style>\n",
       "<table border=\"1\" class=\"dataframe\">\n",
       "  <thead>\n",
       "    <tr style=\"text-align: right;\">\n",
       "      <th></th>\n",
       "      <th>id_distribuidor</th>\n",
       "      <th>monto_autorizado</th>\n",
       "      <th>tasa_sugerida</th>\n",
       "      <th>tasa_minima</th>\n",
       "      <th>probabilidad</th>\n",
       "      <th>grupo_riesgo</th>\n",
       "    </tr>\n",
       "  </thead>\n",
       "  <tbody>\n",
       "    <tr>\n",
       "      <th>0</th>\n",
       "      <td>140847</td>\n",
       "      <td>0</td>\n",
       "      <td>0</td>\n",
       "      <td>0</td>\n",
       "      <td>0.549078</td>\n",
       "      <td>2</td>\n",
       "    </tr>\n",
       "    <tr>\n",
       "      <th>1</th>\n",
       "      <td>143960</td>\n",
       "      <td>0</td>\n",
       "      <td>0</td>\n",
       "      <td>0</td>\n",
       "      <td>0.504965</td>\n",
       "      <td>2</td>\n",
       "    </tr>\n",
       "    <tr>\n",
       "      <th>2</th>\n",
       "      <td>145442</td>\n",
       "      <td>0</td>\n",
       "      <td>0</td>\n",
       "      <td>0</td>\n",
       "      <td>0.599554</td>\n",
       "      <td>2</td>\n",
       "    </tr>\n",
       "    <tr>\n",
       "      <th>3</th>\n",
       "      <td>145444</td>\n",
       "      <td>10000</td>\n",
       "      <td>147</td>\n",
       "      <td>115</td>\n",
       "      <td>0.953212</td>\n",
       "      <td>5</td>\n",
       "    </tr>\n",
       "    <tr>\n",
       "      <th>4</th>\n",
       "      <td>145969</td>\n",
       "      <td>10000</td>\n",
       "      <td>147</td>\n",
       "      <td>132</td>\n",
       "      <td>0.908972</td>\n",
       "      <td>4</td>\n",
       "    </tr>\n",
       "    <tr>\n",
       "      <th>...</th>\n",
       "      <td>...</td>\n",
       "      <td>...</td>\n",
       "      <td>...</td>\n",
       "      <td>...</td>\n",
       "      <td>...</td>\n",
       "      <td>...</td>\n",
       "    </tr>\n",
       "    <tr>\n",
       "      <th>1411</th>\n",
       "      <td>166784</td>\n",
       "      <td>10000</td>\n",
       "      <td>147</td>\n",
       "      <td>132</td>\n",
       "      <td>0.884171</td>\n",
       "      <td>4</td>\n",
       "    </tr>\n",
       "    <tr>\n",
       "      <th>1412</th>\n",
       "      <td>166882</td>\n",
       "      <td>0</td>\n",
       "      <td>0</td>\n",
       "      <td>0</td>\n",
       "      <td>0.276290</td>\n",
       "      <td>1</td>\n",
       "    </tr>\n",
       "    <tr>\n",
       "      <th>1413</th>\n",
       "      <td>166893</td>\n",
       "      <td>10000</td>\n",
       "      <td>147</td>\n",
       "      <td>115</td>\n",
       "      <td>0.954850</td>\n",
       "      <td>5</td>\n",
       "    </tr>\n",
       "    <tr>\n",
       "      <th>1414</th>\n",
       "      <td>167070</td>\n",
       "      <td>0</td>\n",
       "      <td>0</td>\n",
       "      <td>0</td>\n",
       "      <td>0.718411</td>\n",
       "      <td>2</td>\n",
       "    </tr>\n",
       "    <tr>\n",
       "      <th>1415</th>\n",
       "      <td>167202</td>\n",
       "      <td>0</td>\n",
       "      <td>0</td>\n",
       "      <td>0</td>\n",
       "      <td>0.522283</td>\n",
       "      <td>2</td>\n",
       "    </tr>\n",
       "  </tbody>\n",
       "</table>\n",
       "<p>1416 rows × 6 columns</p>\n",
       "</div>"
      ],
      "text/plain": [
       "      id_distribuidor  monto_autorizado  tasa_sugerida  tasa_minima  \\\n",
       "0              140847                 0              0            0   \n",
       "1              143960                 0              0            0   \n",
       "2              145442                 0              0            0   \n",
       "3              145444             10000            147          115   \n",
       "4              145969             10000            147          132   \n",
       "...               ...               ...            ...          ...   \n",
       "1411           166784             10000            147          132   \n",
       "1412           166882                 0              0            0   \n",
       "1413           166893             10000            147          115   \n",
       "1414           167070                 0              0            0   \n",
       "1415           167202                 0              0            0   \n",
       "\n",
       "      probabilidad  grupo_riesgo  \n",
       "0         0.549078             2  \n",
       "1         0.504965             2  \n",
       "2         0.599554             2  \n",
       "3         0.953212             5  \n",
       "4         0.908972             4  \n",
       "...            ...           ...  \n",
       "1411      0.884171             4  \n",
       "1412      0.276290             1  \n",
       "1413      0.954850             5  \n",
       "1414      0.718411             2  \n",
       "1415      0.522283             2  \n",
       "\n",
       "[1416 rows x 6 columns]"
      ]
     },
     "execution_count": 168,
     "metadata": {},
     "output_type": "execute_result"
    }
   ],
   "source": [
    "data_prospectos_quash"
   ]
  },
  {
   "cell_type": "code",
   "execution_count": 152,
   "id": "bd0d847f",
   "metadata": {},
   "outputs": [],
   "source": [
    "data_resultado_quash['tasa_sugerida'] = data_prospectos_quash['tasa_minima']"
   ]
  },
  {
   "cell_type": "code",
   "execution_count": 153,
   "id": "d3a115f2",
   "metadata": {},
   "outputs": [
    {
     "data": {
      "text/plain": [
       "0      853\n",
       "132    187\n",
       "142    142\n",
       "115     89\n",
       "100     74\n",
       "137     37\n",
       "147     17\n",
       "117      5\n",
       "127      4\n",
       "122      3\n",
       "105      3\n",
       "110      2\n",
       "Name: tasa_minima, dtype: int64"
      ]
     },
     "execution_count": 153,
     "metadata": {},
     "output_type": "execute_result"
    }
   ],
   "source": [
    "data_prospectos_quash.tasa_minima.value_counts()"
   ]
  },
  {
   "cell_type": "markdown",
   "id": "16348d14",
   "metadata": {},
   "source": [
    "# Comparando ambos modelos"
   ]
  },
  {
   "cell_type": "code",
   "execution_count": 154,
   "id": "fbb420fa",
   "metadata": {},
   "outputs": [
    {
     "data": {
      "text/html": [
       "<div>\n",
       "<style scoped>\n",
       "    .dataframe tbody tr th:only-of-type {\n",
       "        vertical-align: middle;\n",
       "    }\n",
       "\n",
       "    .dataframe tbody tr th {\n",
       "        vertical-align: top;\n",
       "    }\n",
       "\n",
       "    .dataframe thead th {\n",
       "        text-align: right;\n",
       "    }\n",
       "</style>\n",
       "<table border=\"1\" class=\"dataframe\">\n",
       "  <thead>\n",
       "    <tr style=\"text-align: right;\">\n",
       "      <th></th>\n",
       "      <th>id_distribuidor</th>\n",
       "      <th>tasa_sugerida</th>\n",
       "      <th>grupo_riesgo</th>\n",
       "      <th>ID ASOCIADO</th>\n",
       "      <th>CAPITAL AUTORIZADO</th>\n",
       "      <th>TASA AUTORIZADA</th>\n",
       "      <th>RECUPERADO</th>\n",
       "      <th>NO RECUPERADO</th>\n",
       "      <th>CERRADO</th>\n",
       "      <th>P COSECHA</th>\n",
       "      <th>label</th>\n",
       "      <th>approval_score</th>\n",
       "      <th>applicant_id</th>\n",
       "      <th>perdida_cosecha_esperada_quash</th>\n",
       "      <th>capacidad_pago_semanal</th>\n",
       "    </tr>\n",
       "  </thead>\n",
       "  <tbody>\n",
       "    <tr>\n",
       "      <th>0</th>\n",
       "      <td>145442</td>\n",
       "      <td>0.0</td>\n",
       "      <td>2</td>\n",
       "      <td>162807</td>\n",
       "      <td>6000</td>\n",
       "      <td>142</td>\n",
       "      <td>6000.0</td>\n",
       "      <td>0.0</td>\n",
       "      <td>SI</td>\n",
       "      <td>0.0</td>\n",
       "      <td>RECHAZADO</td>\n",
       "      <td>0.599554</td>\n",
       "      <td>145442</td>\n",
       "      <td>11.8</td>\n",
       "      <td>2700.0</td>\n",
       "    </tr>\n",
       "  </tbody>\n",
       "</table>\n",
       "</div>"
      ],
      "text/plain": [
       "   id_distribuidor  tasa_sugerida  grupo_riesgo  ID ASOCIADO  \\\n",
       "0           145442            0.0             2       162807   \n",
       "\n",
       "   CAPITAL AUTORIZADO  TASA AUTORIZADA  RECUPERADO  NO RECUPERADO CERRADO  \\\n",
       "0                6000              142      6000.0            0.0      SI   \n",
       "\n",
       "   P COSECHA      label  approval_score  applicant_id  \\\n",
       "0        0.0  RECHAZADO        0.599554        145442   \n",
       "\n",
       "   perdida_cosecha_esperada_quash  capacidad_pago_semanal  \n",
       "0                            11.8                  2700.0  "
      ]
     },
     "execution_count": 154,
     "metadata": {},
     "output_type": "execute_result"
    }
   ],
   "source": [
    "data_resultado_quash.head(1)"
   ]
  },
  {
   "cell_type": "code",
   "execution_count": 155,
   "id": "576094a3",
   "metadata": {},
   "outputs": [
    {
     "data": {
      "text/html": [
       "<div>\n",
       "<style scoped>\n",
       "    .dataframe tbody tr th:only-of-type {\n",
       "        vertical-align: middle;\n",
       "    }\n",
       "\n",
       "    .dataframe tbody tr th {\n",
       "        vertical-align: top;\n",
       "    }\n",
       "\n",
       "    .dataframe thead th {\n",
       "        text-align: right;\n",
       "    }\n",
       "</style>\n",
       "<table border=\"1\" class=\"dataframe\">\n",
       "  <thead>\n",
       "    <tr style=\"text-align: right;\">\n",
       "      <th></th>\n",
       "      <th>id_distribuidor</th>\n",
       "      <th>tasa_sugerida</th>\n",
       "      <th>grupo_riesgo</th>\n",
       "      <th>ID ASOCIADO</th>\n",
       "      <th>CAPITAL AUTORIZADO</th>\n",
       "      <th>TASA AUTORIZADA</th>\n",
       "      <th>RECUPERADO</th>\n",
       "      <th>NO RECUPERADO</th>\n",
       "      <th>CERRADO</th>\n",
       "      <th>P COSECHA</th>\n",
       "      <th>tasa_minima</th>\n",
       "      <th>probabilidad</th>\n",
       "      <th>perdida_cosecha_esperada_quilum</th>\n",
       "    </tr>\n",
       "  </thead>\n",
       "  <tbody>\n",
       "    <tr>\n",
       "      <th>0</th>\n",
       "      <td>145442</td>\n",
       "      <td>147</td>\n",
       "      <td>Canasta 1</td>\n",
       "      <td>162807</td>\n",
       "      <td>6000</td>\n",
       "      <td>142</td>\n",
       "      <td>6000.0</td>\n",
       "      <td>0.0</td>\n",
       "      <td>SI</td>\n",
       "      <td>0.0</td>\n",
       "      <td>100</td>\n",
       "      <td>0.0</td>\n",
       "      <td>1.63</td>\n",
       "    </tr>\n",
       "  </tbody>\n",
       "</table>\n",
       "</div>"
      ],
      "text/plain": [
       "   id_distribuidor  tasa_sugerida grupo_riesgo  ID ASOCIADO  \\\n",
       "0           145442            147    Canasta 1       162807   \n",
       "\n",
       "   CAPITAL AUTORIZADO  TASA AUTORIZADA  RECUPERADO  NO RECUPERADO CERRADO  \\\n",
       "0                6000              142      6000.0            0.0      SI   \n",
       "\n",
       "   P COSECHA  tasa_minima  probabilidad  perdida_cosecha_esperada_quilum  \n",
       "0        0.0          100           0.0                             1.63  "
      ]
     },
     "execution_count": 155,
     "metadata": {},
     "output_type": "execute_result"
    }
   ],
   "source": [
    "data_resultado_quilum.head(1)"
   ]
  },
  {
   "cell_type": "code",
   "execution_count": 156,
   "id": "903f0ccf",
   "metadata": {},
   "outputs": [],
   "source": [
    "data_resultado = data_resultado_quilum.copy()"
   ]
  },
  {
   "cell_type": "code",
   "execution_count": 157,
   "id": "a07b85f3",
   "metadata": {},
   "outputs": [],
   "source": [
    "data_resultado.drop([\"tasa_sugerida\", \"grupo_riesgo\",\"tasa_minima\", \"probabilidad\", \"perdida_cosecha_esperada_quilum\"], axis = 1, \n",
    "                    inplace = True)"
   ]
  },
  {
   "cell_type": "code",
   "execution_count": 158,
   "id": "d26c6562",
   "metadata": {},
   "outputs": [],
   "source": [
    "def shift_mod7(valor):\n",
    "    shift_map = {1: 7, 2: 6, 3: 5, 4: 4, 5: 3, 6: 2, 7: 1}\n",
    "    return shift_map.get(valor, valor)"
   ]
  },
  {
   "cell_type": "code",
   "execution_count": 159,
   "id": "a9c0b8ee",
   "metadata": {},
   "outputs": [],
   "source": [
    "data_resultado['grupo_riesgo_quilum'] = data_resultado_quilum.grupo_riesgo.str.replace(\"Canasta \",\"\")\n",
    "data_resultado['grupo_riesgo_quash'] = data_resultado_quash.grupo_riesgo.apply(shift_mod7)"
   ]
  },
  {
   "cell_type": "code",
   "execution_count": 160,
   "id": "35c39760",
   "metadata": {},
   "outputs": [],
   "source": [
    "data_resultado['tasa_sugerida_quilum'] = data_resultado_quilum.tasa_minima\n",
    "data_resultado['tasa_sugerida_quash'] = data_resultado_quash.tasa_sugerida"
   ]
  },
  {
   "cell_type": "code",
   "execution_count": 161,
   "id": "1b37ada2",
   "metadata": {},
   "outputs": [],
   "source": [
    "data_resultado['perdida_cosecha_esperada_quilum'] = data_resultado_quilum.perdida_cosecha_esperada_quilum\n",
    "data_resultado['perdida_cosecha_esperada_quash'] = data_resultado_quash.perdida_cosecha_esperada_quash"
   ]
  },
  {
   "cell_type": "code",
   "execution_count": 162,
   "id": "a4a24402",
   "metadata": {},
   "outputs": [],
   "source": [
    "data_resultado['P COSECHA'] = np.abs(data_resultado['P COSECHA'])*100"
   ]
  },
  {
   "cell_type": "code",
   "execution_count": 164,
   "id": "d11c01aa",
   "metadata": {},
   "outputs": [],
   "source": [
    "data_resultado.to_csv(\"./data/comparativa_modelos.csv\", index=True)"
   ]
  },
  {
   "cell_type": "code",
   "execution_count": null,
   "id": "a5d57739",
   "metadata": {},
   "outputs": [],
   "source": []
  },
  {
   "cell_type": "markdown",
   "id": "0de46423",
   "metadata": {},
   "source": [
    "## Análisis"
   ]
  },
  {
   "cell_type": "code",
   "execution_count": 55,
   "id": "a0d4d1d6",
   "metadata": {},
   "outputs": [],
   "source": [
    "data_resultado_analisis = data_resultado.query(\"not grupo_riesgo_quash.isna()\")"
   ]
  },
  {
   "cell_type": "markdown",
   "id": "1536aced",
   "metadata": {},
   "source": [
    "**¿Quien se acercó más a la cosecha esperada?**"
   ]
  },
  {
   "cell_type": "code",
   "execution_count": 56,
   "id": "0663cbf9",
   "metadata": {},
   "outputs": [
    {
     "name": "stdout",
     "output_type": "stream",
     "text": [
      "Quash\n"
     ]
    },
    {
     "data": {
      "text/plain": [
       "12.440652077225987"
      ]
     },
     "execution_count": 56,
     "metadata": {},
     "output_type": "execute_result"
    }
   ],
   "source": [
    "print(\"Quash\")\n",
    "np.mean(np.abs(data_resultado_analisis[\"P COSECHA\"] - data_resultado_analisis['perdida_cosecha_esperada_quash']))"
   ]
  },
  {
   "cell_type": "code",
   "execution_count": 57,
   "id": "f56a288a",
   "metadata": {},
   "outputs": [
    {
     "name": "stdout",
     "output_type": "stream",
     "text": [
      "Quilum\n"
     ]
    },
    {
     "data": {
      "text/plain": [
       "11.862458119665591"
      ]
     },
     "execution_count": 57,
     "metadata": {},
     "output_type": "execute_result"
    }
   ],
   "source": [
    "print(\"Quilum\")\n",
    "np.mean(np.abs(data_resultado_analisis[\"P COSECHA\"] - data_resultado_analisis['perdida_cosecha_esperada_quilum']))"
   ]
  },
  {
   "cell_type": "markdown",
   "id": "f5593387",
   "metadata": {},
   "source": [
    "**¿Quién identifica mejor a los buenos pagadores?**"
   ]
  },
  {
   "cell_type": "code",
   "execution_count": 58,
   "id": "473a0ff3",
   "metadata": {},
   "outputs": [
    {
     "name": "stdout",
     "output_type": "stream",
     "text": [
      "Quash\n"
     ]
    },
    {
     "data": {
      "text/plain": [
       "7.680805970149255"
      ]
     },
     "execution_count": 58,
     "metadata": {},
     "output_type": "execute_result"
    }
   ],
   "source": [
    "print(\"Quash\")\n",
    "np.mean(data_resultado_analisis[data_resultado_analisis['P COSECHA']==0]['perdida_cosecha_esperada_quash'])"
   ]
  },
  {
   "cell_type": "code",
   "execution_count": 59,
   "id": "d67e172c",
   "metadata": {},
   "outputs": [
    {
     "name": "stdout",
     "output_type": "stream",
     "text": [
      "Quilum\n"
     ]
    },
    {
     "data": {
      "text/plain": [
       "6.558776119402983"
      ]
     },
     "execution_count": 59,
     "metadata": {},
     "output_type": "execute_result"
    }
   ],
   "source": [
    "print(\"Quilum\")\n",
    "np.mean(data_resultado_analisis[data_resultado_analisis['P COSECHA']==0]['perdida_cosecha_esperada_quilum'])"
   ]
  },
  {
   "cell_type": "markdown",
   "id": "1b680243",
   "metadata": {},
   "source": [
    "**¿Quien dio tasas más altas?**"
   ]
  },
  {
   "cell_type": "code",
   "execution_count": 60,
   "id": "a99ec9d5",
   "metadata": {},
   "outputs": [
    {
     "name": "stdout",
     "output_type": "stream",
     "text": [
      "Quash\n"
     ]
    },
    {
     "data": {
      "text/plain": [
       "131.89067524115757"
      ]
     },
     "execution_count": 60,
     "metadata": {},
     "output_type": "execute_result"
    }
   ],
   "source": [
    "print(\"Quash\")\n",
    "np.mean(data_resultado_analisis.query(\"tasa_sugerida_quash > 0\")['tasa_sugerida_quash'])"
   ]
  },
  {
   "cell_type": "code",
   "execution_count": 61,
   "id": "ce66b43e",
   "metadata": {},
   "outputs": [
    {
     "name": "stdout",
     "output_type": "stream",
     "text": [
      "Quilum\n"
     ]
    },
    {
     "data": {
      "text/plain": [
       "116.44813278008299"
      ]
     },
     "execution_count": 61,
     "metadata": {},
     "output_type": "execute_result"
    }
   ],
   "source": [
    "print(\"Quilum\")\n",
    "np.mean(data_resultado_analisis.query(\"tasa_sugerida_quilum>0\")['tasa_sugerida_quilum'])"
   ]
  },
  {
   "cell_type": "markdown",
   "id": "fd7721ec",
   "metadata": {},
   "source": [
    "**Cómo se distribuyen los niveles de riesgo?**"
   ]
  },
  {
   "cell_type": "code",
   "execution_count": 62,
   "id": "6c4290eb",
   "metadata": {},
   "outputs": [
    {
     "data": {
      "text/plain": [
       "2.0      6\n",
       "3.0     53\n",
       "4.0    182\n",
       "5.0     93\n",
       "6.0    100\n",
       "7.0      2\n",
       "Name: grupo_riesgo_quash, dtype: int64"
      ]
     },
     "execution_count": 62,
     "metadata": {},
     "output_type": "execute_result"
    }
   ],
   "source": [
    "data_resultado_analisis.grupo_riesgo_quash.value_counts().sort_index()"
   ]
  },
  {
   "cell_type": "code",
   "execution_count": 63,
   "id": "e516295f",
   "metadata": {},
   "outputs": [
    {
     "data": {
      "text/plain": [
       "1     23\n",
       "10    44\n",
       "2     34\n",
       "3     45\n",
       "4     36\n",
       "5     47\n",
       "6     36\n",
       "7     52\n",
       "8     60\n",
       "9     59\n",
       "Name: grupo_riesgo_quilum, dtype: int64"
      ]
     },
     "execution_count": 63,
     "metadata": {},
     "output_type": "execute_result"
    }
   ],
   "source": [
    "data_resultado_analisis.grupo_riesgo_quilum.value_counts().sort_index()"
   ]
  },
  {
   "cell_type": "markdown",
   "id": "e5748a5b",
   "metadata": {},
   "source": [
    "## matriz de pérdidas de cosechas Quilum"
   ]
  },
  {
   "cell_type": "code",
   "execution_count": null,
   "id": "d2c6c47b",
   "metadata": {},
   "outputs": [],
   "source": [
    "num_grupos_riesgo = 7\n",
    "#cosechas_estimadas = [1.63, 1.84, 1.89, 3.19, 3.76, 5.77, 7.48, 13.17, 15.20, 17.35]\n",
    "cosechas_estimadas = [1, 1.98, 4.06, 6.11, 7.65, 11.8, 14.76]"
   ]
  },
  {
   "cell_type": "code",
   "execution_count": null,
   "id": "59d2d856",
   "metadata": {},
   "outputs": [],
   "source": [
    "rangos = []\n",
    "cont = 0\n",
    "for _ in range(100):\n",
    "    if cont < 10:\n",
    "        aum = 1    \n",
    "    elif cont < 50:\n",
    "        aum = 5\n",
    "    else:\n",
    "        break\n",
    "        \n",
    "    rangos.append([cont, int(cont + aum)])\n",
    "    cont += aum \n",
    "    \n",
    "rangos.append([50, np.inf])"
   ]
  },
  {
   "cell_type": "code",
   "execution_count": null,
   "id": "bccc3664",
   "metadata": {},
   "outputs": [],
   "source": [
    "perdida_cosecha_num_personas = pd.DataFrame(rangos, columns = [\"inferior\", \"superior\"])\n",
    "\n",
    "perdida_cosecha_porcentaje_ideal = pd.DataFrame(rangos, columns = [\"inferior\", \"superior\"])\n",
    "\n",
    "for k in range(1, num_grupos_riesgo + 1):\n",
    "    perdida_cosecha_num_personas[f\"{k}\"] = 0 \n",
    "    perdida_cosecha_porcentaje_ideal[f\"{k}\"] = 0"
   ]
  },
  {
   "cell_type": "code",
   "execution_count": null,
   "id": "18aa1f22",
   "metadata": {},
   "outputs": [],
   "source": [
    "for grupo_riesgo in range(1, num_grupos_riesgo + 1):\n",
    "    for cos in data_resultado_analisis.query(f\"grupo_riesgo_quash == {grupo_riesgo}\")[\"P COSECHA\"]:\n",
    "        for level in perdida_cosecha_num_personas.superior:\n",
    "            if (cos * 100) < level:\n",
    "                perdida_cosecha_num_personas.loc[perdida_cosecha_num_personas.superior == level, f\"{grupo_riesgo}\"] += 1\n",
    "                break"
   ]
  },
  {
   "cell_type": "code",
   "execution_count": null,
   "id": "b4208672",
   "metadata": {},
   "outputs": [],
   "source": [
    "divided = perdida_cosecha_num_personas.iloc[:, :].sum(0)\n",
    "divided[0] = 1\n",
    "divided[1] = 1\n",
    "\n",
    "perdida_cosecha_porcentaje = perdida_cosecha_num_personas / divided"
   ]
  },
  {
   "cell_type": "code",
   "execution_count": null,
   "id": "c3e19afc",
   "metadata": {},
   "outputs": [],
   "source": [
    "perdida_cosecha_porcentaje"
   ]
  },
  {
   "cell_type": "code",
   "execution_count": null,
   "id": "3cd99ec5",
   "metadata": {},
   "outputs": [],
   "source": [
    "for grupo_riesgo, nivel in enumerate(cosechas_estimadas):\n",
    "    for superior in perdida_cosecha_porcentaje_ideal.superior:\n",
    "        if nivel < superior:\n",
    "            perdida_cosecha_porcentaje_ideal.loc[perdida_cosecha_porcentaje_ideal.superior == superior, f\"{grupo_riesgo+1}\"] += 1\n",
    "            break"
   ]
  },
  {
   "cell_type": "code",
   "execution_count": null,
   "id": "61d235ba",
   "metadata": {},
   "outputs": [],
   "source": [
    "perdida_cosecha_porcentaje_ideal"
   ]
  },
  {
   "cell_type": "code",
   "execution_count": null,
   "id": "15d5fde0",
   "metadata": {},
   "outputs": [],
   "source": [
    "np.sum(np.sum(np.abs(perdida_cosecha_porcentaje_ideal.iloc[:,2:] - perdida_cosecha_porcentaje.iloc[:,2:])))"
   ]
  },
  {
   "cell_type": "code",
   "execution_count": null,
   "id": "47efb117",
   "metadata": {},
   "outputs": [],
   "source": [
    "data_resultado_quash"
   ]
  },
  {
   "cell_type": "code",
   "execution_count": null,
   "id": "d79d7049",
   "metadata": {},
   "outputs": [],
   "source": [
    "data_resultado_analisis"
   ]
  },
  {
   "cell_type": "code",
   "execution_count": null,
   "id": "eccb30e8",
   "metadata": {},
   "outputs": [],
   "source": []
  }
 ],
 "metadata": {
  "kernelspec": {
   "display_name": "Python 3 (ipykernel)",
   "language": "python",
   "name": "python3"
  },
  "language_info": {
   "codemirror_mode": {
    "name": "ipython",
    "version": 3
   },
   "file_extension": ".py",
   "mimetype": "text/x-python",
   "name": "python",
   "nbconvert_exporter": "python",
   "pygments_lexer": "ipython3",
   "version": "3.11.4"
  }
 },
 "nbformat": 4,
 "nbformat_minor": 5
}
