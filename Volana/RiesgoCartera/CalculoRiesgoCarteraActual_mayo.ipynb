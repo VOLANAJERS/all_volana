{
 "cells": [
  {
   "cell_type": "code",
   "execution_count": 2,
   "id": "pB6w6E4fl4fh",
   "metadata": {
    "colab": {
     "base_uri": "https://localhost:8080/"
    },
    "executionInfo": {
     "elapsed": 8577,
     "status": "ok",
     "timestamp": 1705581743419,
     "user": {
      "displayName": "JAIRO ENRIQUE RAMIREZ SANCHEZ",
      "userId": "16718293965815976521"
     },
     "user_tz": 360
    },
    "id": "pB6w6E4fl4fh",
    "outputId": "f68317d9-369a-4e6a-e221-f4c535defc0d"
   },
   "outputs": [
    {
     "name": "stdout",
     "output_type": "stream",
     "text": [
      "Collecting pymysql\n",
      "  Downloading PyMySQL-1.1.0-py3-none-any.whl (44 kB)\n",
      "\u001b[2K     \u001b[90m━━━━━━━━━━━━━━━━━━━━━━━━━━━━━━━━━━━━━━━━\u001b[0m \u001b[32m44.8/44.8 kB\u001b[0m \u001b[31m1.8 MB/s\u001b[0m eta \u001b[36m0:00:00\u001b[0m\n",
      "\u001b[?25hInstalling collected packages: pymysql\n",
      "Successfully installed pymysql-1.1.0\n"
     ]
    }
   ],
   "source": [
    "!pip install pymysql"
   ]
  },
  {
   "cell_type": "code",
   "execution_count": 18,
   "id": "8vqttSbapV9h",
   "metadata": {
    "colab": {
     "base_uri": "https://localhost:8080/"
    },
    "executionInfo": {
     "elapsed": 6412,
     "status": "ok",
     "timestamp": 1705582635604,
     "user": {
      "displayName": "JAIRO ENRIQUE RAMIREZ SANCHEZ",
      "userId": "16718293965815976521"
     },
     "user_tz": 360
    },
    "id": "8vqttSbapV9h",
    "outputId": "2b855e7f-29ad-430c-b7c4-4209f089aa58"
   },
   "outputs": [
    {
     "name": "stdout",
     "output_type": "stream",
     "text": [
      "Collecting pyxlsb\n",
      "  Downloading pyxlsb-1.0.10-py2.py3-none-any.whl (23 kB)\n",
      "Installing collected packages: pyxlsb\n",
      "Successfully installed pyxlsb-1.0.10\n"
     ]
    }
   ],
   "source": [
    "!pip install pyxlsb"
   ]
  },
  {
   "cell_type": "code",
   "execution_count": 11,
   "id": "uSrbG0FBmUZo",
   "metadata": {
    "colab": {
     "base_uri": "https://localhost:8080/"
    },
    "executionInfo": {
     "elapsed": 22047,
     "status": "ok",
     "timestamp": 1705582122879,
     "user": {
      "displayName": "JAIRO ENRIQUE RAMIREZ SANCHEZ",
      "userId": "16718293965815976521"
     },
     "user_tz": 360
    },
    "id": "uSrbG0FBmUZo",
    "outputId": "cfd290c9-96c4-47fc-caf2-802897e99860"
   },
   "outputs": [
    {
     "name": "stdout",
     "output_type": "stream",
     "text": [
      "Mounted at /content/drive\n"
     ]
    }
   ],
   "source": [
    "from google.colab import drive\n",
    "drive.mount('/content/drive')"
   ]
  },
  {
   "cell_type": "code",
   "execution_count": 1,
   "id": "7caf3847",
   "metadata": {
    "ExecuteTime": {
     "end_time": "2023-12-01T22:01:04.667327Z",
     "start_time": "2023-12-01T22:01:02.897935Z"
    },
    "executionInfo": {
     "elapsed": 426,
     "status": "ok",
     "timestamp": 1705586467997,
     "user": {
      "displayName": "JAIRO ENRIQUE RAMIREZ SANCHEZ",
      "userId": "16718293965815976521"
     },
     "user_tz": 360
    },
    "id": "7caf3847"
   },
   "outputs": [],
   "source": [
    "import pandas as pd\n",
    "import numpy as np\n",
    "import pymysql\n",
    "\n",
    "from datetime import datetime, timedelta\n",
    "\n",
    "def excel_a_fecha(valor_excel):\n",
    "    # Convertir a fecha\n",
    "    fecha_excel = datetime(1899, 12, 30) + timedelta(days=valor_excel)\n",
    "\n",
    "    # Devolver la fecha\n",
    "    return fecha_excel"
   ]
  },
  {
   "cell_type": "code",
   "execution_count": 327,
   "id": "Pk9V-nLCnpxj",
   "metadata": {
    "executionInfo": {
     "elapsed": 2,
     "status": "ok",
     "timestamp": 1705586468501,
     "user": {
      "displayName": "JAIRO ENRIQUE RAMIREZ SANCHEZ",
      "userId": "16718293965815976521"
     },
     "user_tz": 360
    },
    "id": "Pk9V-nLCnpxj"
   },
   "outputs": [],
   "source": [
    "ruta = \"/content/drive/MyDrive/lap/RiesgoCartera/\""
   ]
  },
  {
   "cell_type": "code",
   "execution_count": 2,
   "id": "5f4cc4e3",
   "metadata": {
    "ExecuteTime": {
     "end_time": "2023-12-01T22:06:44.193927Z",
     "start_time": "2023-12-01T22:06:43.671073Z"
    },
    "executionInfo": {
     "elapsed": 815,
     "status": "ok",
     "timestamp": 1705586469315,
     "user": {
      "displayName": "JAIRO ENRIQUE RAMIREZ SANCHEZ",
      "userId": "16718293965815976521"
     },
     "user_tz": 360
    },
    "id": "5f4cc4e3"
   },
   "outputs": [],
   "source": [
    "cnx = pymysql.connect(host='159.89.90.197', port=3306, user='antonio_diaz', passwd=\"4nT0ni_0.dZ\",\n",
    "                           charset='utf8',db = 'volana')"
   ]
  },
  {
   "cell_type": "markdown",
   "id": "8mEiVZGfoR_6",
   "metadata": {
    "id": "8mEiVZGfoR_6"
   },
   "source": [
    "**Se carga toda la cartera**"
   ]
  },
  {
   "cell_type": "code",
   "execution_count": 5,
   "id": "24cbca83",
   "metadata": {
    "ExecuteTime": {
     "end_time": "2023-12-01T22:22:24.982203Z",
     "start_time": "2023-12-01T22:22:13.899418Z"
    },
    "executionInfo": {
     "elapsed": 6309,
     "status": "ok",
     "timestamp": 1705586475622,
     "user": {
      "displayName": "JAIRO ENRIQUE RAMIREZ SANCHEZ",
      "userId": "16718293965815976521"
     },
     "user_tz": 360
    },
    "id": "24cbca83"
   },
   "outputs": [],
   "source": [
    "sql = \"\"\"\n",
    "select * from\n",
    "cartera_distribuidor\n",
    "where fecha = '2024-05-06'\n",
    "\"\"\"\n",
    "cursor = cnx.cursor()\n",
    "cursor.execute(sql)\n",
    "data_cartera = cursor.fetchall()\n",
    "data_cartera = pd.DataFrame(data_cartera, columns=[i[0] for i in cursor.description])"
   ]
  },
  {
   "cell_type": "code",
   "execution_count": 6,
   "id": "8617be99",
   "metadata": {
    "ExecuteTime": {
     "end_time": "2023-12-01T22:22:25.107886Z",
     "start_time": "2023-12-01T22:22:25.095569Z"
    },
    "colab": {
     "base_uri": "https://localhost:8080/"
    },
    "executionInfo": {
     "elapsed": 8,
     "status": "ok",
     "timestamp": 1705586475623,
     "user": {
      "displayName": "JAIRO ENRIQUE RAMIREZ SANCHEZ",
      "userId": "16718293965815976521"
     },
     "user_tz": 360
    },
    "id": "8617be99",
    "outputId": "4c1fb1ad-e853-4803-c5f0-efa598238a0c"
   },
   "outputs": [
    {
     "data": {
      "text/plain": [
       "19502"
      ]
     },
     "execution_count": 6,
     "metadata": {},
     "output_type": "execute_result"
    }
   ],
   "source": [
    "data_cartera['id_distribuidor'].nunique()"
   ]
  },
  {
   "cell_type": "markdown",
   "id": "5bfb5c5d",
   "metadata": {},
   "source": [
    "## Se cruza la base anterior con la actual para definirle el riesgo"
   ]
  },
  {
   "cell_type": "code",
   "execution_count": 53,
   "id": "bda6085b",
   "metadata": {},
   "outputs": [],
   "source": [
    "data_enviada_actual = pd.read_excel(\"./data/cartera_DISTRIBUIDORES_CIERRE04ABR24_002.xlsx\", \n",
    "                                    sheet_name='REPORTE CARTERA', header=1)"
   ]
  },
  {
   "cell_type": "code",
   "execution_count": 54,
   "id": "xa8W-aFNoHqm",
   "metadata": {
    "executionInfo": {
     "elapsed": 1946,
     "status": "ok",
     "timestamp": 1705587065476,
     "user": {
      "displayName": "JAIRO ENRIQUE RAMIREZ SANCHEZ",
      "userId": "16718293965815976521"
     },
     "user_tz": 360
    },
    "id": "xa8W-aFNoHqm"
   },
   "outputs": [],
   "source": [
    "data_enviada = pd.read_excel(\"./data/240115 Riesgo ponderado de la cartera actual.xlsb\")"
   ]
  },
  {
   "cell_type": "code",
   "execution_count": 55,
   "id": "c718a223",
   "metadata": {},
   "outputs": [],
   "source": [
    "def get_risk(id_):\n",
    "    query = data_enviada[data_enviada['ID DIST.'] == id_]\n",
    "    if len(query) == 0:\n",
    "        return np.nan\n",
    "    \n",
    "    return query['NIVEL DE RIESGO'].values[0]"
   ]
  },
  {
   "cell_type": "code",
   "execution_count": 58,
   "id": "c16acf33",
   "metadata": {},
   "outputs": [],
   "source": [
    "data_enviada_actual['NIVEL DE RIESGO'] = data_enviada_actual['ID DIST.'].apply(get_risk)\n",
    "\n",
    "data_enviada = data_enviada_actual.copy()"
   ]
  },
  {
   "cell_type": "code",
   "execution_count": 61,
   "id": "033050af",
   "metadata": {},
   "outputs": [
    {
     "data": {
      "text/plain": [
       "0.6471105896157231"
      ]
     },
     "execution_count": 61,
     "metadata": {},
     "output_type": "execute_result"
    }
   ],
   "source": [
    "np.sum(data_enviada['NIVEL DE RIESGO'].isna()) / len(data_enviada)"
   ]
  },
  {
   "cell_type": "markdown",
   "id": "ktEKoBoWpH3_",
   "metadata": {
    "id": "ktEKoBoWpH3_"
   },
   "source": [
    "**Se carga la BD dada**"
   ]
  },
  {
   "cell_type": "code",
   "execution_count": 63,
   "id": "LUoy63nQqWw3",
   "metadata": {
    "executionInfo": {
     "elapsed": 9,
     "status": "ok",
     "timestamp": 1705587065477,
     "user": {
      "displayName": "JAIRO ENRIQUE RAMIREZ SANCHEZ",
      "userId": "16718293965815976521"
     },
     "user_tz": 360
    },
    "id": "LUoy63nQqWw3"
   },
   "outputs": [],
   "source": [
    "data_enviada.rename(columns = {\"NIVEL DE RIESGO\":\"riesgo\"}, inplace = True)\n",
    "data_enviada_completa = data_enviada.query(f\"not riesgo.isna()\").copy()\n",
    "data_enviada = data_enviada.query(f\"riesgo.isna()\")"
   ]
  },
  {
   "cell_type": "code",
   "execution_count": 64,
   "id": "9ca0YfId3iJL",
   "metadata": {
    "colab": {
     "base_uri": "https://localhost:8080/"
    },
    "executionInfo": {
     "elapsed": 7,
     "status": "ok",
     "timestamp": 1705587065477,
     "user": {
      "displayName": "JAIRO ENRIQUE RAMIREZ SANCHEZ",
      "userId": "16718293965815976521"
     },
     "user_tz": 360
    },
    "id": "9ca0YfId3iJL",
    "outputId": "3ff19857-0c91-41ea-9432-86520dcb18f9"
   },
   "outputs": [
    {
     "data": {
      "text/plain": [
       "(2206, 105)"
      ]
     },
     "execution_count": 64,
     "metadata": {},
     "output_type": "execute_result"
    }
   ],
   "source": [
    "data_enviada.shape"
   ]
  },
  {
   "cell_type": "markdown",
   "id": "USmLveuDoWHg",
   "metadata": {
    "id": "USmLveuDoWHg"
   },
   "source": [
    "**Se carga la última base de riesgo**"
   ]
  },
  {
   "cell_type": "code",
   "execution_count": 66,
   "id": "cc2f03d0",
   "metadata": {
    "ExecuteTime": {
     "end_time": "2023-12-01T22:22:25.240576Z",
     "start_time": "2023-12-01T22:22:25.225524Z"
    },
    "executionInfo": {
     "elapsed": 280,
     "status": "ok",
     "timestamp": 1705587114020,
     "user": {
      "displayName": "JAIRO ENRIQUE RAMIREZ SANCHEZ",
      "userId": "16718293965815976521"
     },
     "user_tz": 360
    },
    "id": "cc2f03d0"
   },
   "outputs": [],
   "source": [
    "data_riesgo_ant = pd.read_csv(\"./data/riesgo_cartera_2024_01_18.csv\")"
   ]
  },
  {
   "cell_type": "code",
   "execution_count": 67,
   "id": "ab0a87da",
   "metadata": {
    "ExecuteTime": {
     "end_time": "2023-12-01T22:22:25.358621Z",
     "start_time": "2023-12-01T22:22:25.344161Z"
    },
    "colab": {
     "base_uri": "https://localhost:8080/"
    },
    "executionInfo": {
     "elapsed": 5,
     "status": "ok",
     "timestamp": 1705587115214,
     "user": {
      "displayName": "JAIRO ENRIQUE RAMIREZ SANCHEZ",
      "userId": "16718293965815976521"
     },
     "user_tz": 360
    },
    "id": "ab0a87da",
    "outputId": "cbca5e30-91ac-49fe-ab3f-631b58cb2369"
   },
   "outputs": [
    {
     "data": {
      "text/plain": [
       "17253"
      ]
     },
     "execution_count": 67,
     "metadata": {},
     "output_type": "execute_result"
    }
   ],
   "source": [
    "data_riesgo_ant['id_distribuidor'].nunique()"
   ]
  },
  {
   "cell_type": "markdown",
   "id": "RYwGh_epoZii",
   "metadata": {
    "id": "RYwGh_epoZii"
   },
   "source": []
  },
  {
   "cell_type": "code",
   "execution_count": 68,
   "id": "6613c5e8",
   "metadata": {
    "ExecuteTime": {
     "end_time": "2023-12-01T22:22:25.474528Z",
     "start_time": "2023-12-01T22:22:25.459503Z"
    },
    "executionInfo": {
     "elapsed": 4,
     "status": "ok",
     "timestamp": 1705587115215,
     "user": {
      "displayName": "JAIRO ENRIQUE RAMIREZ SANCHEZ",
      "userId": "16718293965815976521"
     },
     "user_tz": 360
    },
    "id": "6613c5e8"
   },
   "outputs": [],
   "source": [
    "faltantes = data_enviada['ID DIST.']#np.setdiff1d(data_enviada['ID DIST.'].unique(), data_riesgo_ant['id_distribuidor'].unique())"
   ]
  },
  {
   "cell_type": "code",
   "execution_count": 69,
   "id": "3ba3cae7",
   "metadata": {
    "ExecuteTime": {
     "end_time": "2023-12-01T22:22:27.514809Z",
     "start_time": "2023-12-01T22:22:27.271842Z"
    },
    "executionInfo": {
     "elapsed": 451,
     "status": "ok",
     "timestamp": 1705587115663,
     "user": {
      "displayName": "JAIRO ENRIQUE RAMIREZ SANCHEZ",
      "userId": "16718293965815976521"
     },
     "user_tz": 360
    },
    "id": "3ba3cae7"
   },
   "outputs": [],
   "source": [
    "data_cartera['capital'] = data_cartera.apply(lambda row: row['total_pagado_capital'] + row['saldo_pendiente_capital'],\n",
    "                                             axis = 1)"
   ]
  },
  {
   "cell_type": "code",
   "execution_count": 70,
   "id": "dXrmlKaJ4OHU",
   "metadata": {
    "colab": {
     "base_uri": "https://localhost:8080/"
    },
    "executionInfo": {
     "elapsed": 5,
     "status": "ok",
     "timestamp": 1705587116701,
     "user": {
      "displayName": "JAIRO ENRIQUE RAMIREZ SANCHEZ",
      "userId": "16718293965815976521"
     },
     "user_tz": 360
    },
    "id": "dXrmlKaJ4OHU",
    "outputId": "30f798eb-3c02-4081-a68a-20ebb26dab37"
   },
   "outputs": [
    {
     "data": {
      "text/plain": [
       "array([], dtype=int64)"
      ]
     },
     "execution_count": 70,
     "metadata": {},
     "output_type": "execute_result"
    }
   ],
   "source": [
    "np.setdiff1d(faltantes, data_cartera.id_distribuidor)"
   ]
  },
  {
   "cell_type": "code",
   "execution_count": 71,
   "id": "6f54878a",
   "metadata": {
    "ExecuteTime": {
     "end_time": "2023-12-01T22:22:27.711025Z",
     "start_time": "2023-12-01T22:22:27.625897Z"
    },
    "executionInfo": {
     "elapsed": 3,
     "status": "ok",
     "timestamp": 1705587116702,
     "user": {
      "displayName": "JAIRO ENRIQUE RAMIREZ SANCHEZ",
      "userId": "16718293965815976521"
     },
     "user_tz": 360
    },
    "id": "6f54878a"
   },
   "outputs": [],
   "source": [
    "data_cosecha = data_cartera.groupby('id_distribuidor').agg({'capital':'sum',\n",
    "                                                            'saldo_pendiente_capital':'sum',\n",
    "                                                            'fecha_aut_linea':'max'}).reset_index()\n"
   ]
  },
  {
   "cell_type": "code",
   "execution_count": 72,
   "id": "a3yd9d7K4gNK",
   "metadata": {
    "executionInfo": {
     "elapsed": 503,
     "status": "ok",
     "timestamp": 1705587117202,
     "user": {
      "displayName": "JAIRO ENRIQUE RAMIREZ SANCHEZ",
      "userId": "16718293965815976521"
     },
     "user_tz": 360
    },
    "id": "a3yd9d7K4gNK"
   },
   "outputs": [],
   "source": [
    "data_cosecha = data_cosecha.loc[[k in np.array(faltantes) for k in np.array(data_cosecha['id_distribuidor'])]]"
   ]
  },
  {
   "cell_type": "code",
   "execution_count": 73,
   "id": "d4398991",
   "metadata": {
    "ExecuteTime": {
     "end_time": "2023-12-01T22:22:28.437545Z",
     "start_time": "2023-12-01T22:22:28.426656Z"
    },
    "colab": {
     "base_uri": "https://localhost:8080/"
    },
    "executionInfo": {
     "elapsed": 17,
     "status": "ok",
     "timestamp": 1705587117203,
     "user": {
      "displayName": "JAIRO ENRIQUE RAMIREZ SANCHEZ",
      "userId": "16718293965815976521"
     },
     "user_tz": 360
    },
    "id": "d4398991",
    "outputId": "9c4fe35a-0a74-4974-cd2b-ff9c76fd6344"
   },
   "outputs": [],
   "source": [
    "data_cosecha['perdida_cosecha'] = 1 - (data_cosecha['capital'] - data_cosecha['saldo_pendiente_capital']) /  data_cosecha['capital']"
   ]
  },
  {
   "cell_type": "code",
   "execution_count": 74,
   "id": "m68mvksQtg9j",
   "metadata": {
    "colab": {
     "base_uri": "https://localhost:8080/"
    },
    "executionInfo": {
     "elapsed": 16,
     "status": "ok",
     "timestamp": 1705587117203,
     "user": {
      "displayName": "JAIRO ENRIQUE RAMIREZ SANCHEZ",
      "userId": "16718293965815976521"
     },
     "user_tz": 360
    },
    "id": "m68mvksQtg9j",
    "outputId": "09fee2f8-bb19-413f-d75f-f513ae65440b"
   },
   "outputs": [],
   "source": [
    "data_cosecha.fecha_aut_linea = pd.to_datetime(data_cosecha.fecha_aut_linea)"
   ]
  },
  {
   "cell_type": "code",
   "execution_count": 75,
   "id": "24bb14a3",
   "metadata": {
    "ExecuteTime": {
     "end_time": "2023-12-01T22:22:28.653750Z",
     "start_time": "2023-12-01T22:22:28.630512Z"
    },
    "colab": {
     "base_uri": "https://localhost:8080/"
    },
    "executionInfo": {
     "elapsed": 12,
     "status": "ok",
     "timestamp": 1705587117203,
     "user": {
      "displayName": "JAIRO ENRIQUE RAMIREZ SANCHEZ",
      "userId": "16718293965815976521"
     },
     "user_tz": 360
    },
    "id": "24bb14a3",
    "outputId": "b6ba1e08-5603-4ff5-bdff-c039d059710b"
   },
   "outputs": [],
   "source": [
    "from datetime import datetime, timedelta\n",
    "\n",
    "def han_pasado_menos_de_cuatro_meses(fecha_dada):\n",
    "    # Obtener la fecha actual\n",
    "    fecha_actual = datetime.now()\n",
    "\n",
    "    # Calcular la diferencia en meses\n",
    "    diferencia_meses = (fecha_actual.year - fecha_dada.year) * 12 + fecha_actual.month - fecha_dada.month\n",
    "\n",
    "    # Verificar si han pasado menos de 4 meses\n",
    "    return diferencia_meses < 4\n",
    "\n",
    "data_cosecha['menos_cuatro_meses'] = data_cosecha.fecha_aut_linea.apply(han_pasado_menos_de_cuatro_meses)\n"
   ]
  },
  {
   "cell_type": "code",
   "execution_count": 76,
   "id": "1f138637",
   "metadata": {
    "ExecuteTime": {
     "end_time": "2023-12-01T22:22:29.669519Z",
     "start_time": "2023-12-01T22:22:29.657865Z"
    },
    "colab": {
     "base_uri": "https://localhost:8080/"
    },
    "executionInfo": {
     "elapsed": 10,
     "status": "ok",
     "timestamp": 1705587117203,
     "user": {
      "displayName": "JAIRO ENRIQUE RAMIREZ SANCHEZ",
      "userId": "16718293965815976521"
     },
     "user_tz": 360
    },
    "id": "1f138637",
    "outputId": "aa0497d2-9504-4064-ada7-d08e2e1dc0c9"
   },
   "outputs": [
    {
     "data": {
      "text/plain": [
       "0.6759474245800962"
      ]
     },
     "execution_count": 76,
     "metadata": {},
     "output_type": "execute_result"
    }
   ],
   "source": [
    "data_cosecha.perdida_cosecha.mean()"
   ]
  },
  {
   "cell_type": "code",
   "execution_count": 77,
   "id": "52fe9bbb",
   "metadata": {
    "ExecuteTime": {
     "end_time": "2023-12-01T22:22:30.045841Z",
     "start_time": "2023-12-01T22:22:30.023959Z"
    },
    "executionInfo": {
     "elapsed": 8,
     "status": "ok",
     "timestamp": 1705587117203,
     "user": {
      "displayName": "JAIRO ENRIQUE RAMIREZ SANCHEZ",
      "userId": "16718293965815976521"
     },
     "user_tz": 360
    },
    "id": "52fe9bbb"
   },
   "outputs": [],
   "source": [
    "data_cosecha = data_cosecha[['id_distribuidor', 'perdida_cosecha', 'menos_cuatro_meses']]"
   ]
  },
  {
   "cell_type": "code",
   "execution_count": 78,
   "id": "0c6adb50",
   "metadata": {
    "ExecuteTime": {
     "end_time": "2023-12-01T22:22:31.350681Z",
     "start_time": "2023-12-01T22:22:31.335826Z"
    },
    "executionInfo": {
     "elapsed": 8,
     "status": "ok",
     "timestamp": 1705587117203,
     "user": {
      "displayName": "JAIRO ENRIQUE RAMIREZ SANCHEZ",
      "userId": "16718293965815976521"
     },
     "user_tz": 360
    },
    "id": "0c6adb50"
   },
   "outputs": [],
   "source": [
    "def setcut(cosecha_):\n",
    "    #p = p*100\n",
    "    cosecha_ *= 100\n",
    "\n",
    "    grupo = 1\n",
    "    cuts = np.array(sorted([100, 81.09, 72.06, 63.19, 54.27, 45.11, 36.10, 27.47, 18.17, 9.05, 0.00]))\n",
    "    cosechas = np.array(sorted([0, 1.54, 3.4, 4.97, 7.38, 10.69, 11.87, 12.35, 12.68, 20.33, 22.69], reverse = True))\n",
    "\n",
    "    #cuts = np.array(sorted([1, 0.9919, 0.975, 0.953, 0.9196, 0.8717, 0.7832, 0.6737, 0.5072, .2738]))*100\n",
    "    #cosechas = np.array(sorted([2.31, 2.63, 3.1, 3.12, 3.94, 4.2, 4.33, 5.15, 5.71, 59.82], reverse = True))\n",
    "\n",
    "    enter_ = False\n",
    "    for cosecha in cosechas:\n",
    "        if cosecha <= cosecha_:\n",
    "\n",
    "            enter_ = True\n",
    "            break\n",
    "\n",
    "    if enter_:\n",
    "        grupo = np.where(cosechas == cosecha)[0][0]\n",
    "\n",
    "    return grupo, cuts[grupo], cosechas[grupo]"
   ]
  },
  {
   "cell_type": "code",
   "execution_count": 79,
   "id": "3eaa8280",
   "metadata": {
    "ExecuteTime": {
     "end_time": "2023-12-01T22:22:31.880655Z",
     "start_time": "2023-12-01T22:22:31.869430Z"
    },
    "executionInfo": {
     "elapsed": 9,
     "status": "ok",
     "timestamp": 1705587117204,
     "user": {
      "displayName": "JAIRO ENRIQUE RAMIREZ SANCHEZ",
      "userId": "16718293965815976521"
     },
     "user_tz": 360
    },
    "id": "3eaa8280"
   },
   "outputs": [],
   "source": [
    "def setcut_prob(p, grupo_ = True):\n",
    "    p = p*100\n",
    "    cuts = np.array(sorted([100, 81.09, 72.06, 63.19, 54.27, 45.11, 36.10, 27.47, 18.17, 9.05, 0.00], reverse = True))\n",
    "    cosechas = np.array(sorted([1.54, 3.4, 4.97, 7.38, 10.69, 11.87, 12.35, 12.68, 20.33, 22.69]))\n",
    "\n",
    "    #cuts = np.array(sorted([1, 0.9919, 0.975, 0.953, 0.9196, 0.8717, 0.7832, 0.6737, 0.5072, .2738]))*100\n",
    "    #cosechas = np.array(sorted([2.31, 2.63, 3.1, 3.12, 3.94, 4.2, 4.33, 5.15, 5.71, 59.82], reverse = True))\n",
    "\n",
    "    for cut in cuts:\n",
    "        if cut < p:\n",
    "            break\n",
    "    grupo = np.where(cuts == cut)[0][0]\n",
    "    if grupo_:\n",
    "        return grupo\n",
    "    else:\n",
    "        return cosechas[grupo - 1]"
   ]
  },
  {
   "cell_type": "code",
   "execution_count": 80,
   "id": "f84aa91b",
   "metadata": {
    "ExecuteTime": {
     "end_time": "2023-12-01T22:22:34.313079Z",
     "start_time": "2023-12-01T22:22:34.295195Z"
    },
    "executionInfo": {
     "elapsed": 9,
     "status": "ok",
     "timestamp": 1705587117204,
     "user": {
      "displayName": "JAIRO ENRIQUE RAMIREZ SANCHEZ",
      "userId": "16718293965815976521"
     },
     "user_tz": 360
    },
    "id": "f84aa91b"
   },
   "outputs": [],
   "source": [
    "_, data_cosecha['probs'], data_cosecha['cosecha_canasta'] = zip(*data_cosecha.perdida_cosecha.apply(setcut))"
   ]
  },
  {
   "cell_type": "code",
   "execution_count": 81,
   "id": "35f5aa99",
   "metadata": {
    "ExecuteTime": {
     "end_time": "2023-12-01T22:22:46.943922Z",
     "start_time": "2023-12-01T22:22:46.936083Z"
    },
    "executionInfo": {
     "elapsed": 11,
     "status": "ok",
     "timestamp": 1705587117206,
     "user": {
      "displayName": "JAIRO ENRIQUE RAMIREZ SANCHEZ",
      "userId": "16718293965815976521"
     },
     "user_tz": 360
    },
    "id": "35f5aa99"
   },
   "outputs": [],
   "source": [
    "def move_prob(val, menos_cuatro):\n",
    "    if menos_cuatro:\n",
    "      return np.random.randint(300, 850)/1000\n",
    "    val /= 100\n",
    "    if val == 0:\n",
    "        val += np.random.randint(0, 200)/1000\n",
    "    elif val == 1:\n",
    "        val -= np.random.randint(0, 200)/1000\n",
    "    else:\n",
    "        val += np.random.randint(-200, 200)/1000\n",
    "    return val"
   ]
  },
  {
   "cell_type": "code",
   "execution_count": 82,
   "id": "59a948e1",
   "metadata": {
    "executionInfo": {
     "elapsed": 12,
     "status": "ok",
     "timestamp": 1705587117207,
     "user": {
      "displayName": "JAIRO ENRIQUE RAMIREZ SANCHEZ",
      "userId": "16718293965815976521"
     },
     "user_tz": 360
    },
    "id": "59a948e1"
   },
   "outputs": [],
   "source": [
    "data_cosecha.probs = data_cosecha.apply(lambda row: move_prob(row['probs'], row['menos_cuatro_meses']), axis = 1)"
   ]
  },
  {
   "cell_type": "code",
   "execution_count": 83,
   "id": "eNLYeP-Guh7D",
   "metadata": {
    "colab": {
     "base_uri": "https://localhost:8080/",
     "height": 443
    },
    "executionInfo": {
     "elapsed": 12,
     "status": "ok",
     "timestamp": 1705587117208,
     "user": {
      "displayName": "JAIRO ENRIQUE RAMIREZ SANCHEZ",
      "userId": "16718293965815976521"
     },
     "user_tz": 360
    },
    "id": "eNLYeP-Guh7D",
    "outputId": "8b82620e-cd57-4856-f764-cc8cbd7f0e8e"
   },
   "outputs": [
    {
     "data": {
      "text/html": [
       "<div>\n",
       "<style scoped>\n",
       "    .dataframe tbody tr th:only-of-type {\n",
       "        vertical-align: middle;\n",
       "    }\n",
       "\n",
       "    .dataframe tbody tr th {\n",
       "        vertical-align: top;\n",
       "    }\n",
       "\n",
       "    .dataframe thead th {\n",
       "        text-align: right;\n",
       "    }\n",
       "</style>\n",
       "<table border=\"1\" class=\"dataframe\">\n",
       "  <thead>\n",
       "    <tr style=\"text-align: right;\">\n",
       "      <th></th>\n",
       "      <th>id_distribuidor</th>\n",
       "      <th>perdida_cosecha</th>\n",
       "      <th>menos_cuatro_meses</th>\n",
       "      <th>probs</th>\n",
       "      <th>cosecha_canasta</th>\n",
       "    </tr>\n",
       "  </thead>\n",
       "  <tbody>\n",
       "    <tr>\n",
       "      <th>7010</th>\n",
       "      <td>113640</td>\n",
       "      <td>1.0</td>\n",
       "      <td>False</td>\n",
       "      <td>0.064</td>\n",
       "      <td>22.69</td>\n",
       "    </tr>\n",
       "    <tr>\n",
       "      <th>8581</th>\n",
       "      <td>122691</td>\n",
       "      <td>1.0</td>\n",
       "      <td>False</td>\n",
       "      <td>0.112</td>\n",
       "      <td>22.69</td>\n",
       "    </tr>\n",
       "    <tr>\n",
       "      <th>8607</th>\n",
       "      <td>122811</td>\n",
       "      <td>1.0</td>\n",
       "      <td>False</td>\n",
       "      <td>0.167</td>\n",
       "      <td>22.69</td>\n",
       "    </tr>\n",
       "    <tr>\n",
       "      <th>9415</th>\n",
       "      <td>126589</td>\n",
       "      <td>1.0</td>\n",
       "      <td>False</td>\n",
       "      <td>0.174</td>\n",
       "      <td>22.69</td>\n",
       "    </tr>\n",
       "    <tr>\n",
       "      <th>15287</th>\n",
       "      <td>161191</td>\n",
       "      <td>NaN</td>\n",
       "      <td>True</td>\n",
       "      <td>0.836</td>\n",
       "      <td>20.33</td>\n",
       "    </tr>\n",
       "    <tr>\n",
       "      <th>...</th>\n",
       "      <td>...</td>\n",
       "      <td>...</td>\n",
       "      <td>...</td>\n",
       "      <td>...</td>\n",
       "      <td>...</td>\n",
       "    </tr>\n",
       "    <tr>\n",
       "      <th>19485</th>\n",
       "      <td>186813</td>\n",
       "      <td>1.0</td>\n",
       "      <td>True</td>\n",
       "      <td>0.563</td>\n",
       "      <td>22.69</td>\n",
       "    </tr>\n",
       "    <tr>\n",
       "      <th>19487</th>\n",
       "      <td>186834</td>\n",
       "      <td>1.0</td>\n",
       "      <td>True</td>\n",
       "      <td>0.755</td>\n",
       "      <td>22.69</td>\n",
       "    </tr>\n",
       "    <tr>\n",
       "      <th>19488</th>\n",
       "      <td>186840</td>\n",
       "      <td>NaN</td>\n",
       "      <td>True</td>\n",
       "      <td>0.726</td>\n",
       "      <td>20.33</td>\n",
       "    </tr>\n",
       "    <tr>\n",
       "      <th>19489</th>\n",
       "      <td>186842</td>\n",
       "      <td>1.0</td>\n",
       "      <td>True</td>\n",
       "      <td>0.461</td>\n",
       "      <td>22.69</td>\n",
       "    </tr>\n",
       "    <tr>\n",
       "      <th>19490</th>\n",
       "      <td>186862</td>\n",
       "      <td>1.0</td>\n",
       "      <td>True</td>\n",
       "      <td>0.657</td>\n",
       "      <td>22.69</td>\n",
       "    </tr>\n",
       "  </tbody>\n",
       "</table>\n",
       "<p>2206 rows × 5 columns</p>\n",
       "</div>"
      ],
      "text/plain": [
       "       id_distribuidor  perdida_cosecha  menos_cuatro_meses  probs  \\\n",
       "7010            113640              1.0               False  0.064   \n",
       "8581            122691              1.0               False  0.112   \n",
       "8607            122811              1.0               False  0.167   \n",
       "9415            126589              1.0               False  0.174   \n",
       "15287           161191              NaN                True  0.836   \n",
       "...                ...              ...                 ...    ...   \n",
       "19485           186813              1.0                True  0.563   \n",
       "19487           186834              1.0                True  0.755   \n",
       "19488           186840              NaN                True  0.726   \n",
       "19489           186842              1.0                True  0.461   \n",
       "19490           186862              1.0                True  0.657   \n",
       "\n",
       "       cosecha_canasta  \n",
       "7010             22.69  \n",
       "8581             22.69  \n",
       "8607             22.69  \n",
       "9415             22.69  \n",
       "15287            20.33  \n",
       "...                ...  \n",
       "19485            22.69  \n",
       "19487            22.69  \n",
       "19488            20.33  \n",
       "19489            22.69  \n",
       "19490            22.69  \n",
       "\n",
       "[2206 rows x 5 columns]"
      ]
     },
     "execution_count": 83,
     "metadata": {},
     "output_type": "execute_result"
    }
   ],
   "source": [
    "data_cosecha"
   ]
  },
  {
   "cell_type": "code",
   "execution_count": 84,
   "id": "c3f1f901",
   "metadata": {
    "ExecuteTime": {
     "end_time": "2023-12-01T22:22:50.098251Z",
     "start_time": "2023-12-01T22:22:50.079628Z"
    },
    "executionInfo": {
     "elapsed": 12,
     "status": "ok",
     "timestamp": 1705587117208,
     "user": {
      "displayName": "JAIRO ENRIQUE RAMIREZ SANCHEZ",
      "userId": "16718293965815976521"
     },
     "user_tz": 360
    },
    "id": "c3f1f901"
   },
   "outputs": [],
   "source": [
    "data_cosecha['grupo'] = data_cosecha.probs.apply(setcut_prob, grupo_ = True)"
   ]
  },
  {
   "cell_type": "code",
   "execution_count": 85,
   "id": "5ec21198",
   "metadata": {
    "ExecuteTime": {
     "end_time": "2023-12-01T22:22:50.396749Z",
     "start_time": "2023-12-01T22:22:50.370600Z"
    },
    "executionInfo": {
     "elapsed": 11,
     "status": "ok",
     "timestamp": 1705587117208,
     "user": {
      "displayName": "JAIRO ENRIQUE RAMIREZ SANCHEZ",
      "userId": "16718293965815976521"
     },
     "user_tz": 360
    },
    "id": "5ec21198"
   },
   "outputs": [],
   "source": [
    "data_cosecha['cosecha_canasta'] = data_cosecha.probs.apply(setcut_prob, grupo_ = False)"
   ]
  },
  {
   "cell_type": "code",
   "execution_count": 86,
   "id": "faa6dabf",
   "metadata": {
    "ExecuteTime": {
     "end_time": "2023-12-01T22:22:50.620712Z",
     "start_time": "2023-12-01T22:22:50.605932Z"
    },
    "executionInfo": {
     "elapsed": 12,
     "status": "ok",
     "timestamp": 1705587117669,
     "user": {
      "displayName": "JAIRO ENRIQUE RAMIREZ SANCHEZ",
      "userId": "16718293965815976521"
     },
     "user_tz": 360
    },
    "id": "faa6dabf"
   },
   "outputs": [],
   "source": [
    "data_cosecha.drop(\"perdida_cosecha\", axis = 1, inplace=True)\n",
    "data_cosecha.drop(\"menos_cuatro_meses\", axis = 1, inplace=True)"
   ]
  },
  {
   "cell_type": "code",
   "execution_count": 87,
   "id": "d0fd9e74",
   "metadata": {
    "ExecuteTime": {
     "end_time": "2023-12-01T22:22:51.245537Z",
     "start_time": "2023-12-01T22:22:51.231000Z"
    },
    "colab": {
     "base_uri": "https://localhost:8080/",
     "height": 423
    },
    "executionInfo": {
     "elapsed": 12,
     "status": "ok",
     "timestamp": 1705587117670,
     "user": {
      "displayName": "JAIRO ENRIQUE RAMIREZ SANCHEZ",
      "userId": "16718293965815976521"
     },
     "user_tz": 360
    },
    "id": "d0fd9e74",
    "outputId": "e25eba4c-dcd4-4154-9d31-4afc0c8c6669"
   },
   "outputs": [
    {
     "data": {
      "text/html": [
       "<div>\n",
       "<style scoped>\n",
       "    .dataframe tbody tr th:only-of-type {\n",
       "        vertical-align: middle;\n",
       "    }\n",
       "\n",
       "    .dataframe tbody tr th {\n",
       "        vertical-align: top;\n",
       "    }\n",
       "\n",
       "    .dataframe thead th {\n",
       "        text-align: right;\n",
       "    }\n",
       "</style>\n",
       "<table border=\"1\" class=\"dataframe\">\n",
       "  <thead>\n",
       "    <tr style=\"text-align: right;\">\n",
       "      <th></th>\n",
       "      <th>id_distribuidor</th>\n",
       "      <th>probs</th>\n",
       "      <th>cosecha_canasta</th>\n",
       "      <th>grupo</th>\n",
       "    </tr>\n",
       "  </thead>\n",
       "  <tbody>\n",
       "    <tr>\n",
       "      <th>7010</th>\n",
       "      <td>113640</td>\n",
       "      <td>0.064</td>\n",
       "      <td>22.69</td>\n",
       "      <td>10</td>\n",
       "    </tr>\n",
       "    <tr>\n",
       "      <th>8581</th>\n",
       "      <td>122691</td>\n",
       "      <td>0.112</td>\n",
       "      <td>20.33</td>\n",
       "      <td>9</td>\n",
       "    </tr>\n",
       "    <tr>\n",
       "      <th>8607</th>\n",
       "      <td>122811</td>\n",
       "      <td>0.167</td>\n",
       "      <td>20.33</td>\n",
       "      <td>9</td>\n",
       "    </tr>\n",
       "    <tr>\n",
       "      <th>9415</th>\n",
       "      <td>126589</td>\n",
       "      <td>0.174</td>\n",
       "      <td>20.33</td>\n",
       "      <td>9</td>\n",
       "    </tr>\n",
       "    <tr>\n",
       "      <th>15287</th>\n",
       "      <td>161191</td>\n",
       "      <td>0.836</td>\n",
       "      <td>1.54</td>\n",
       "      <td>1</td>\n",
       "    </tr>\n",
       "    <tr>\n",
       "      <th>...</th>\n",
       "      <td>...</td>\n",
       "      <td>...</td>\n",
       "      <td>...</td>\n",
       "      <td>...</td>\n",
       "    </tr>\n",
       "    <tr>\n",
       "      <th>19485</th>\n",
       "      <td>186813</td>\n",
       "      <td>0.563</td>\n",
       "      <td>7.38</td>\n",
       "      <td>4</td>\n",
       "    </tr>\n",
       "    <tr>\n",
       "      <th>19487</th>\n",
       "      <td>186834</td>\n",
       "      <td>0.755</td>\n",
       "      <td>3.40</td>\n",
       "      <td>2</td>\n",
       "    </tr>\n",
       "    <tr>\n",
       "      <th>19488</th>\n",
       "      <td>186840</td>\n",
       "      <td>0.726</td>\n",
       "      <td>3.40</td>\n",
       "      <td>2</td>\n",
       "    </tr>\n",
       "    <tr>\n",
       "      <th>19489</th>\n",
       "      <td>186842</td>\n",
       "      <td>0.461</td>\n",
       "      <td>10.69</td>\n",
       "      <td>5</td>\n",
       "    </tr>\n",
       "    <tr>\n",
       "      <th>19490</th>\n",
       "      <td>186862</td>\n",
       "      <td>0.657</td>\n",
       "      <td>4.97</td>\n",
       "      <td>3</td>\n",
       "    </tr>\n",
       "  </tbody>\n",
       "</table>\n",
       "<p>2206 rows × 4 columns</p>\n",
       "</div>"
      ],
      "text/plain": [
       "       id_distribuidor  probs  cosecha_canasta  grupo\n",
       "7010            113640  0.064            22.69     10\n",
       "8581            122691  0.112            20.33      9\n",
       "8607            122811  0.167            20.33      9\n",
       "9415            126589  0.174            20.33      9\n",
       "15287           161191  0.836             1.54      1\n",
       "...                ...    ...              ...    ...\n",
       "19485           186813  0.563             7.38      4\n",
       "19487           186834  0.755             3.40      2\n",
       "19488           186840  0.726             3.40      2\n",
       "19489           186842  0.461            10.69      5\n",
       "19490           186862  0.657             4.97      3\n",
       "\n",
       "[2206 rows x 4 columns]"
      ]
     },
     "execution_count": 87,
     "metadata": {},
     "output_type": "execute_result"
    }
   ],
   "source": [
    "data_cosecha"
   ]
  },
  {
   "cell_type": "code",
   "execution_count": 434,
   "id": "217b2625",
   "metadata": {
    "ExecuteTime": {
     "end_time": "2023-12-01T22:24:46.881716Z",
     "start_time": "2023-12-01T22:24:46.877186Z"
    },
    "executionInfo": {
     "elapsed": 10,
     "status": "ok",
     "timestamp": 1705587117670,
     "user": {
      "displayName": "JAIRO ENRIQUE RAMIREZ SANCHEZ",
      "userId": "16718293965815976521"
     },
     "user_tz": 360
    },
    "id": "217b2625"
   },
   "outputs": [],
   "source": [
    "#data_riesgo_ant.probs = data_riesgo_ant.probs / 100"
   ]
  },
  {
   "cell_type": "code",
   "execution_count": 88,
   "id": "c9fd5809",
   "metadata": {
    "ExecuteTime": {
     "end_time": "2023-12-01T22:24:47.615401Z",
     "start_time": "2023-12-01T22:24:47.481068Z"
    },
    "executionInfo": {
     "elapsed": 549,
     "status": "ok",
     "timestamp": 1705587118210,
     "user": {
      "displayName": "JAIRO ENRIQUE RAMIREZ SANCHEZ",
      "userId": "16718293965815976521"
     },
     "user_tz": 360
    },
    "id": "c9fd5809"
   },
   "outputs": [],
   "source": [
    "data_riesgo_ant['cosecha_canasta'] = data_riesgo_ant.probs.apply(setcut_prob, grupo_ = False)"
   ]
  },
  {
   "cell_type": "code",
   "execution_count": 89,
   "id": "738c2cd9",
   "metadata": {
    "ExecuteTime": {
     "end_time": "2023-12-01T22:25:47.641544Z",
     "start_time": "2023-12-01T22:25:47.632554Z"
    },
    "executionInfo": {
     "elapsed": 9,
     "status": "ok",
     "timestamp": 1705587118211,
     "user": {
      "displayName": "JAIRO ENRIQUE RAMIREZ SANCHEZ",
      "userId": "16718293965815976521"
     },
     "user_tz": 360
    },
    "id": "738c2cd9"
   },
   "outputs": [],
   "source": [
    "data_riesgo_ant.rename(columns={'ID DIST.': 'id_distribuidor'}, inplace = True)\n",
    "data_riesgo_ant = data_riesgo_ant[['id_distribuidor', 'probs', 'grupo', 'cosecha_canasta']];"
   ]
  },
  {
   "cell_type": "code",
   "execution_count": 90,
   "id": "fdb62e51",
   "metadata": {
    "ExecuteTime": {
     "end_time": "2023-12-01T22:25:48.232659Z",
     "start_time": "2023-12-01T22:25:48.217820Z"
    },
    "executionInfo": {
     "elapsed": 9,
     "status": "ok",
     "timestamp": 1705587118211,
     "user": {
      "displayName": "JAIRO ENRIQUE RAMIREZ SANCHEZ",
      "userId": "16718293965815976521"
     },
     "user_tz": 360
    },
    "id": "fdb62e51"
   },
   "outputs": [],
   "source": [
    "data_cosecha = data_cosecha[['id_distribuidor', 'probs', 'grupo', 'cosecha_canasta']]"
   ]
  },
  {
   "cell_type": "code",
   "execution_count": 91,
   "id": "fbb290f4",
   "metadata": {
    "ExecuteTime": {
     "end_time": "2023-12-01T22:25:48.649867Z",
     "start_time": "2023-12-01T22:25:48.620545Z"
    },
    "executionInfo": {
     "elapsed": 9,
     "status": "ok",
     "timestamp": 1705587118211,
     "user": {
      "displayName": "JAIRO ENRIQUE RAMIREZ SANCHEZ",
      "userId": "16718293965815976521"
     },
     "user_tz": 360
    },
    "id": "fbb290f4"
   },
   "outputs": [],
   "source": [
    "data_final = pd.concat([data_riesgo_ant, data_cosecha])"
   ]
  },
  {
   "cell_type": "code",
   "execution_count": 92,
   "id": "60782b8c",
   "metadata": {
    "ExecuteTime": {
     "end_time": "2023-12-01T22:25:49.085147Z",
     "start_time": "2023-12-01T22:25:49.060247Z"
    },
    "colab": {
     "base_uri": "https://localhost:8080/",
     "height": 423
    },
    "executionInfo": {
     "elapsed": 9,
     "status": "ok",
     "timestamp": 1705587118211,
     "user": {
      "displayName": "JAIRO ENRIQUE RAMIREZ SANCHEZ",
      "userId": "16718293965815976521"
     },
     "user_tz": 360
    },
    "id": "60782b8c",
    "outputId": "d10073b1-8e7e-455d-a08f-ae035acfbd5a"
   },
   "outputs": [
    {
     "data": {
      "text/html": [
       "<div>\n",
       "<style scoped>\n",
       "    .dataframe tbody tr th:only-of-type {\n",
       "        vertical-align: middle;\n",
       "    }\n",
       "\n",
       "    .dataframe tbody tr th {\n",
       "        vertical-align: top;\n",
       "    }\n",
       "\n",
       "    .dataframe thead th {\n",
       "        text-align: right;\n",
       "    }\n",
       "</style>\n",
       "<table border=\"1\" class=\"dataframe\">\n",
       "  <thead>\n",
       "    <tr style=\"text-align: right;\">\n",
       "      <th></th>\n",
       "      <th>id_distribuidor</th>\n",
       "      <th>probs</th>\n",
       "      <th>grupo</th>\n",
       "      <th>cosecha_canasta</th>\n",
       "    </tr>\n",
       "  </thead>\n",
       "  <tbody>\n",
       "    <tr>\n",
       "      <th>0</th>\n",
       "      <td>1</td>\n",
       "      <td>0.8019</td>\n",
       "      <td>2</td>\n",
       "      <td>3.40</td>\n",
       "    </tr>\n",
       "    <tr>\n",
       "      <th>1</th>\n",
       "      <td>19</td>\n",
       "      <td>0.0885</td>\n",
       "      <td>10</td>\n",
       "      <td>22.69</td>\n",
       "    </tr>\n",
       "    <tr>\n",
       "      <th>2</th>\n",
       "      <td>29</td>\n",
       "      <td>0.0795</td>\n",
       "      <td>10</td>\n",
       "      <td>22.69</td>\n",
       "    </tr>\n",
       "    <tr>\n",
       "      <th>3</th>\n",
       "      <td>38</td>\n",
       "      <td>0.1777</td>\n",
       "      <td>9</td>\n",
       "      <td>20.33</td>\n",
       "    </tr>\n",
       "    <tr>\n",
       "      <th>4</th>\n",
       "      <td>51</td>\n",
       "      <td>0.9870</td>\n",
       "      <td>1</td>\n",
       "      <td>1.54</td>\n",
       "    </tr>\n",
       "    <tr>\n",
       "      <th>...</th>\n",
       "      <td>...</td>\n",
       "      <td>...</td>\n",
       "      <td>...</td>\n",
       "      <td>...</td>\n",
       "    </tr>\n",
       "    <tr>\n",
       "      <th>19485</th>\n",
       "      <td>186813</td>\n",
       "      <td>0.5630</td>\n",
       "      <td>4</td>\n",
       "      <td>7.38</td>\n",
       "    </tr>\n",
       "    <tr>\n",
       "      <th>19487</th>\n",
       "      <td>186834</td>\n",
       "      <td>0.7550</td>\n",
       "      <td>2</td>\n",
       "      <td>3.40</td>\n",
       "    </tr>\n",
       "    <tr>\n",
       "      <th>19488</th>\n",
       "      <td>186840</td>\n",
       "      <td>0.7260</td>\n",
       "      <td>2</td>\n",
       "      <td>3.40</td>\n",
       "    </tr>\n",
       "    <tr>\n",
       "      <th>19489</th>\n",
       "      <td>186842</td>\n",
       "      <td>0.4610</td>\n",
       "      <td>5</td>\n",
       "      <td>10.69</td>\n",
       "    </tr>\n",
       "    <tr>\n",
       "      <th>19490</th>\n",
       "      <td>186862</td>\n",
       "      <td>0.6570</td>\n",
       "      <td>3</td>\n",
       "      <td>4.97</td>\n",
       "    </tr>\n",
       "  </tbody>\n",
       "</table>\n",
       "<p>19572 rows × 4 columns</p>\n",
       "</div>"
      ],
      "text/plain": [
       "       id_distribuidor   probs  grupo  cosecha_canasta\n",
       "0                    1  0.8019      2             3.40\n",
       "1                   19  0.0885     10            22.69\n",
       "2                   29  0.0795     10            22.69\n",
       "3                   38  0.1777      9            20.33\n",
       "4                   51  0.9870      1             1.54\n",
       "...                ...     ...    ...              ...\n",
       "19485           186813  0.5630      4             7.38\n",
       "19487           186834  0.7550      2             3.40\n",
       "19488           186840  0.7260      2             3.40\n",
       "19489           186842  0.4610      5            10.69\n",
       "19490           186862  0.6570      3             4.97\n",
       "\n",
       "[19572 rows x 4 columns]"
      ]
     },
     "execution_count": 92,
     "metadata": {},
     "output_type": "execute_result"
    }
   ],
   "source": [
    "data_final"
   ]
  },
  {
   "cell_type": "code",
   "execution_count": 93,
   "id": "fb6f058a",
   "metadata": {
    "ExecuteTime": {
     "end_time": "2023-12-01T22:26:07.079240Z",
     "start_time": "2023-12-01T22:26:07.005801Z"
    },
    "executionInfo": {
     "elapsed": 7,
     "status": "ok",
     "timestamp": 1705587118211,
     "user": {
      "displayName": "JAIRO ENRIQUE RAMIREZ SANCHEZ",
      "userId": "16718293965815976521"
     },
     "user_tz": 360
    },
    "id": "fb6f058a"
   },
   "outputs": [],
   "source": [
    "# Guardando para la próxima\n",
    "data_final.to_csv(\"./data/riesgo_cartera_2024_05_08.csv\")"
   ]
  },
  {
   "cell_type": "code",
   "execution_count": 97,
   "id": "172ff9f9",
   "metadata": {},
   "outputs": [
    {
     "data": {
      "text/html": [
       "<div>\n",
       "<style scoped>\n",
       "    .dataframe tbody tr th:only-of-type {\n",
       "        vertical-align: middle;\n",
       "    }\n",
       "\n",
       "    .dataframe tbody tr th {\n",
       "        vertical-align: top;\n",
       "    }\n",
       "\n",
       "    .dataframe thead th {\n",
       "        text-align: right;\n",
       "    }\n",
       "</style>\n",
       "<table border=\"1\" class=\"dataframe\">\n",
       "  <thead>\n",
       "    <tr style=\"text-align: right;\">\n",
       "      <th></th>\n",
       "      <th>id_distribuidor</th>\n",
       "      <th>probs</th>\n",
       "      <th>grupo</th>\n",
       "      <th>cosecha_canasta</th>\n",
       "    </tr>\n",
       "  </thead>\n",
       "  <tbody>\n",
       "    <tr>\n",
       "      <th>0</th>\n",
       "      <td>1</td>\n",
       "      <td>0.8019</td>\n",
       "      <td>2</td>\n",
       "      <td>3.40</td>\n",
       "    </tr>\n",
       "    <tr>\n",
       "      <th>1</th>\n",
       "      <td>19</td>\n",
       "      <td>0.0885</td>\n",
       "      <td>10</td>\n",
       "      <td>22.69</td>\n",
       "    </tr>\n",
       "    <tr>\n",
       "      <th>2</th>\n",
       "      <td>29</td>\n",
       "      <td>0.0795</td>\n",
       "      <td>10</td>\n",
       "      <td>22.69</td>\n",
       "    </tr>\n",
       "    <tr>\n",
       "      <th>3</th>\n",
       "      <td>38</td>\n",
       "      <td>0.1777</td>\n",
       "      <td>9</td>\n",
       "      <td>20.33</td>\n",
       "    </tr>\n",
       "    <tr>\n",
       "      <th>4</th>\n",
       "      <td>51</td>\n",
       "      <td>0.9870</td>\n",
       "      <td>1</td>\n",
       "      <td>1.54</td>\n",
       "    </tr>\n",
       "    <tr>\n",
       "      <th>...</th>\n",
       "      <td>...</td>\n",
       "      <td>...</td>\n",
       "      <td>...</td>\n",
       "      <td>...</td>\n",
       "    </tr>\n",
       "    <tr>\n",
       "      <th>19485</th>\n",
       "      <td>186813</td>\n",
       "      <td>0.5630</td>\n",
       "      <td>4</td>\n",
       "      <td>7.38</td>\n",
       "    </tr>\n",
       "    <tr>\n",
       "      <th>19487</th>\n",
       "      <td>186834</td>\n",
       "      <td>0.7550</td>\n",
       "      <td>2</td>\n",
       "      <td>3.40</td>\n",
       "    </tr>\n",
       "    <tr>\n",
       "      <th>19488</th>\n",
       "      <td>186840</td>\n",
       "      <td>0.7260</td>\n",
       "      <td>2</td>\n",
       "      <td>3.40</td>\n",
       "    </tr>\n",
       "    <tr>\n",
       "      <th>19489</th>\n",
       "      <td>186842</td>\n",
       "      <td>0.4610</td>\n",
       "      <td>5</td>\n",
       "      <td>10.69</td>\n",
       "    </tr>\n",
       "    <tr>\n",
       "      <th>19490</th>\n",
       "      <td>186862</td>\n",
       "      <td>0.6570</td>\n",
       "      <td>3</td>\n",
       "      <td>4.97</td>\n",
       "    </tr>\n",
       "  </tbody>\n",
       "</table>\n",
       "<p>19572 rows × 4 columns</p>\n",
       "</div>"
      ],
      "text/plain": [
       "       id_distribuidor   probs  grupo  cosecha_canasta\n",
       "0                    1  0.8019      2             3.40\n",
       "1                   19  0.0885     10            22.69\n",
       "2                   29  0.0795     10            22.69\n",
       "3                   38  0.1777      9            20.33\n",
       "4                   51  0.9870      1             1.54\n",
       "...                ...     ...    ...              ...\n",
       "19485           186813  0.5630      4             7.38\n",
       "19487           186834  0.7550      2             3.40\n",
       "19488           186840  0.7260      2             3.40\n",
       "19489           186842  0.4610      5            10.69\n",
       "19490           186862  0.6570      3             4.97\n",
       "\n",
       "[19572 rows x 4 columns]"
      ]
     },
     "execution_count": 97,
     "metadata": {},
     "output_type": "execute_result"
    }
   ],
   "source": [
    "data_final"
   ]
  },
  {
   "cell_type": "markdown",
   "id": "uVCHsYdI1b9T",
   "metadata": {
    "id": "uVCHsYdI1b9T"
   },
   "source": [
    "**Uniendo lso grupos al archivo**"
   ]
  },
  {
   "cell_type": "code",
   "execution_count": 94,
   "id": "936576f4",
   "metadata": {
    "ExecuteTime": {
     "end_time": "2023-12-01T22:26:07.563337Z",
     "start_time": "2023-12-01T22:26:07.535182Z"
    },
    "colab": {
     "base_uri": "https://localhost:8080/",
     "height": 423
    },
    "executionInfo": {
     "elapsed": 7,
     "status": "ok",
     "timestamp": 1705587118807,
     "user": {
      "displayName": "JAIRO ENRIQUE RAMIREZ SANCHEZ",
      "userId": "16718293965815976521"
     },
     "user_tz": 360
    },
    "id": "936576f4",
    "outputId": "62614a3d-179d-4b64-9f87-23d862b5c7db"
   },
   "outputs": [
    {
     "data": {
      "text/html": [
       "<div>\n",
       "<style scoped>\n",
       "    .dataframe tbody tr th:only-of-type {\n",
       "        vertical-align: middle;\n",
       "    }\n",
       "\n",
       "    .dataframe tbody tr th {\n",
       "        vertical-align: top;\n",
       "    }\n",
       "\n",
       "    .dataframe thead th {\n",
       "        text-align: right;\n",
       "    }\n",
       "</style>\n",
       "<table border=\"1\" class=\"dataframe\">\n",
       "  <thead>\n",
       "    <tr style=\"text-align: right;\">\n",
       "      <th></th>\n",
       "      <th>id_distribuidor</th>\n",
       "      <th>grupo</th>\n",
       "    </tr>\n",
       "  </thead>\n",
       "  <tbody>\n",
       "    <tr>\n",
       "      <th>7010</th>\n",
       "      <td>113640</td>\n",
       "      <td>10</td>\n",
       "    </tr>\n",
       "    <tr>\n",
       "      <th>8581</th>\n",
       "      <td>122691</td>\n",
       "      <td>9</td>\n",
       "    </tr>\n",
       "    <tr>\n",
       "      <th>8607</th>\n",
       "      <td>122811</td>\n",
       "      <td>9</td>\n",
       "    </tr>\n",
       "    <tr>\n",
       "      <th>9415</th>\n",
       "      <td>126589</td>\n",
       "      <td>9</td>\n",
       "    </tr>\n",
       "    <tr>\n",
       "      <th>15287</th>\n",
       "      <td>161191</td>\n",
       "      <td>1</td>\n",
       "    </tr>\n",
       "    <tr>\n",
       "      <th>...</th>\n",
       "      <td>...</td>\n",
       "      <td>...</td>\n",
       "    </tr>\n",
       "    <tr>\n",
       "      <th>19485</th>\n",
       "      <td>186813</td>\n",
       "      <td>4</td>\n",
       "    </tr>\n",
       "    <tr>\n",
       "      <th>19487</th>\n",
       "      <td>186834</td>\n",
       "      <td>2</td>\n",
       "    </tr>\n",
       "    <tr>\n",
       "      <th>19488</th>\n",
       "      <td>186840</td>\n",
       "      <td>2</td>\n",
       "    </tr>\n",
       "    <tr>\n",
       "      <th>19489</th>\n",
       "      <td>186842</td>\n",
       "      <td>5</td>\n",
       "    </tr>\n",
       "    <tr>\n",
       "      <th>19490</th>\n",
       "      <td>186862</td>\n",
       "      <td>3</td>\n",
       "    </tr>\n",
       "  </tbody>\n",
       "</table>\n",
       "<p>2206 rows × 2 columns</p>\n",
       "</div>"
      ],
      "text/plain": [
       "       id_distribuidor  grupo\n",
       "7010            113640     10\n",
       "8581            122691      9\n",
       "8607            122811      9\n",
       "9415            126589      9\n",
       "15287           161191      1\n",
       "...                ...    ...\n",
       "19485           186813      4\n",
       "19487           186834      2\n",
       "19488           186840      2\n",
       "19489           186842      5\n",
       "19490           186862      3\n",
       "\n",
       "[2206 rows x 2 columns]"
      ]
     },
     "execution_count": 94,
     "metadata": {},
     "output_type": "execute_result"
    }
   ],
   "source": [
    "data_cosecha[['id_distribuidor', 'grupo']]"
   ]
  },
  {
   "cell_type": "code",
   "execution_count": 95,
   "id": "dYO23tGB1kiB",
   "metadata": {
    "executionInfo": {
     "elapsed": 5,
     "status": "ok",
     "timestamp": 1705587120047,
     "user": {
      "displayName": "JAIRO ENRIQUE RAMIREZ SANCHEZ",
      "userId": "16718293965815976521"
     },
     "user_tz": 360
    },
    "id": "dYO23tGB1kiB"
   },
   "outputs": [],
   "source": [
    "for _, row in data_cosecha[['id_distribuidor', 'grupo']].iterrows():\n",
    "  data_enviada.loc[data_enviada['ID DIST.'] == row['id_distribuidor'], \"riesgo\"] = row['grupo']"
   ]
  },
  {
   "cell_type": "code",
   "execution_count": 96,
   "id": "kkrFuHEl2GwT",
   "metadata": {
    "colab": {
     "base_uri": "https://localhost:8080/",
     "height": 964
    },
    "executionInfo": {
     "elapsed": 5,
     "status": "ok",
     "timestamp": 1705587120616,
     "user": {
      "displayName": "JAIRO ENRIQUE RAMIREZ SANCHEZ",
      "userId": "16718293965815976521"
     },
     "user_tz": 360
    },
    "id": "kkrFuHEl2GwT",
    "outputId": "d1e78219-d7fb-4fad-811a-5146f2590706"
   },
   "outputs": [
    {
     "data": {
      "text/html": [
       "<div>\n",
       "<style scoped>\n",
       "    .dataframe tbody tr th:only-of-type {\n",
       "        vertical-align: middle;\n",
       "    }\n",
       "\n",
       "    .dataframe tbody tr th {\n",
       "        vertical-align: top;\n",
       "    }\n",
       "\n",
       "    .dataframe thead th {\n",
       "        text-align: right;\n",
       "    }\n",
       "</style>\n",
       "<table border=\"1\" class=\"dataframe\">\n",
       "  <thead>\n",
       "    <tr style=\"text-align: right;\">\n",
       "      <th></th>\n",
       "      <th>SUCURSAL</th>\n",
       "      <th>ID COORDINADOR</th>\n",
       "      <th>COORDINADOR</th>\n",
       "      <th>ID ASESOR</th>\n",
       "      <th>ASESOR</th>\n",
       "      <th>ID DIST.</th>\n",
       "      <th>DISTRIBUIDOR</th>\n",
       "      <th>F. AUT. LINEA</th>\n",
       "      <th>F. ULT. INCREMENTO</th>\n",
       "      <th>NO. INCREMENTOS</th>\n",
       "      <th>...</th>\n",
       "      <th>DIAS ATRASO (CIERRECOMERCIAL)</th>\n",
       "      <th>DIAS ATRASO (ABRIL)</th>\n",
       "      <th>DIAS ATRASO (MARZO)</th>\n",
       "      <th>BUCKET ABRIL</th>\n",
       "      <th>BUCKET MARZO</th>\n",
       "      <th>REGION</th>\n",
       "      <th>AJUSTE CONTABLE MARZO 24</th>\n",
       "      <th>x</th>\n",
       "      <th>x.1</th>\n",
       "      <th>riesgo</th>\n",
       "    </tr>\n",
       "  </thead>\n",
       "  <tbody>\n",
       "    <tr>\n",
       "      <th>354</th>\n",
       "      <td>COATZACOALCOS</td>\n",
       "      <td>35481</td>\n",
       "      <td>TEMPORAL-ISABEL MONSERRAT RAZO MENDEZ</td>\n",
       "      <td>14019</td>\n",
       "      <td>TEMPORAL-ISABEL MONSERRAT RAZO MENDEZ</td>\n",
       "      <td>113640</td>\n",
       "      <td>FELICITA BUSTAMANTE DE LA CRUZ</td>\n",
       "      <td>2023-02-15</td>\n",
       "      <td>NaT</td>\n",
       "      <td>0</td>\n",
       "      <td>...</td>\n",
       "      <td>179</td>\n",
       "      <td>181</td>\n",
       "      <td>NaN</td>\n",
       "      <td>NaN</td>\n",
       "      <td>NaN</td>\n",
       "      <td>REGIÓN F</td>\n",
       "      <td>NaN</td>\n",
       "      <td>NaN</td>\n",
       "      <td>NaN</td>\n",
       "      <td>10.0</td>\n",
       "    </tr>\n",
       "    <tr>\n",
       "      <th>384</th>\n",
       "      <td>COATZACOALCOS</td>\n",
       "      <td>35481</td>\n",
       "      <td>TEMPORAL-ISABEL MONSERRAT RAZO MENDEZ</td>\n",
       "      <td>14019</td>\n",
       "      <td>TEMPORAL-ISABEL MONSERRAT RAZO MENDEZ</td>\n",
       "      <td>122691</td>\n",
       "      <td>AURORA EPITACIO ROMAN</td>\n",
       "      <td>2022-11-09</td>\n",
       "      <td>NaT</td>\n",
       "      <td>0</td>\n",
       "      <td>...</td>\n",
       "      <td>179</td>\n",
       "      <td>181</td>\n",
       "      <td>NaN</td>\n",
       "      <td>NaN</td>\n",
       "      <td>NaN</td>\n",
       "      <td>REGIÓN F</td>\n",
       "      <td>NaN</td>\n",
       "      <td>NaN</td>\n",
       "      <td>NaN</td>\n",
       "      <td>9.0</td>\n",
       "    </tr>\n",
       "    <tr>\n",
       "      <th>386</th>\n",
       "      <td>COATZACOALCOS</td>\n",
       "      <td>35481</td>\n",
       "      <td>TEMPORAL-ISABEL MONSERRAT RAZO MENDEZ</td>\n",
       "      <td>33951</td>\n",
       "      <td>TEMPORAL-JULIO CESAR GONZALEZ ESPINOZA</td>\n",
       "      <td>122811</td>\n",
       "      <td>FABIOLA MENDEZ GUZMAN</td>\n",
       "      <td>2022-07-27</td>\n",
       "      <td>NaT</td>\n",
       "      <td>0</td>\n",
       "      <td>...</td>\n",
       "      <td>179</td>\n",
       "      <td>181</td>\n",
       "      <td>NaN</td>\n",
       "      <td>NaN</td>\n",
       "      <td>NaN</td>\n",
       "      <td>REGIÓN F</td>\n",
       "      <td>NaN</td>\n",
       "      <td>NaN</td>\n",
       "      <td>NaN</td>\n",
       "      <td>9.0</td>\n",
       "    </tr>\n",
       "    <tr>\n",
       "      <th>406</th>\n",
       "      <td>COATZACOALCOS</td>\n",
       "      <td>35481</td>\n",
       "      <td>TEMPORAL-ISABEL MONSERRAT RAZO MENDEZ</td>\n",
       "      <td>14019</td>\n",
       "      <td>TEMPORAL-ISABEL MONSERRAT RAZO MENDEZ</td>\n",
       "      <td>126589</td>\n",
       "      <td>FELICIANA VASQUEZ RAMIREZ</td>\n",
       "      <td>2022-08-31</td>\n",
       "      <td>NaT</td>\n",
       "      <td>0</td>\n",
       "      <td>...</td>\n",
       "      <td>179</td>\n",
       "      <td>181</td>\n",
       "      <td>NaN</td>\n",
       "      <td>NaN</td>\n",
       "      <td>NaN</td>\n",
       "      <td>REGIÓN F</td>\n",
       "      <td>NaN</td>\n",
       "      <td>NaN</td>\n",
       "      <td>NaN</td>\n",
       "      <td>9.0</td>\n",
       "    </tr>\n",
       "    <tr>\n",
       "      <th>955</th>\n",
       "      <td>TONALA</td>\n",
       "      <td>31406</td>\n",
       "      <td>TEMPORAL-MIGUEL AGUSTIN CHAVEZ HUITRON</td>\n",
       "      <td>38113</td>\n",
       "      <td>YENNI GUADALUPE CANO PEREZ</td>\n",
       "      <td>161191</td>\n",
       "      <td>JAZMIN NATALIA NARVAEZ GONZALEZ</td>\n",
       "      <td>2024-02-26</td>\n",
       "      <td>NaT</td>\n",
       "      <td>0</td>\n",
       "      <td>...</td>\n",
       "      <td>0</td>\n",
       "      <td>0</td>\n",
       "      <td>0.0</td>\n",
       "      <td>0 días</td>\n",
       "      <td>0 días</td>\n",
       "      <td>REGIÓN O</td>\n",
       "      <td>NaN</td>\n",
       "      <td>NaN</td>\n",
       "      <td>NaN</td>\n",
       "      <td>1.0</td>\n",
       "    </tr>\n",
       "    <tr>\n",
       "      <th>...</th>\n",
       "      <td>...</td>\n",
       "      <td>...</td>\n",
       "      <td>...</td>\n",
       "      <td>...</td>\n",
       "      <td>...</td>\n",
       "      <td>...</td>\n",
       "      <td>...</td>\n",
       "      <td>...</td>\n",
       "      <td>...</td>\n",
       "      <td>...</td>\n",
       "      <td>...</td>\n",
       "      <td>...</td>\n",
       "      <td>...</td>\n",
       "      <td>...</td>\n",
       "      <td>...</td>\n",
       "      <td>...</td>\n",
       "      <td>...</td>\n",
       "      <td>...</td>\n",
       "      <td>...</td>\n",
       "      <td>...</td>\n",
       "      <td>...</td>\n",
       "    </tr>\n",
       "    <tr>\n",
       "      <th>3404</th>\n",
       "      <td>CHIMALHUACAN 2</td>\n",
       "      <td>36217</td>\n",
       "      <td>MARIA ESTHER RAMIREZ CASTAÑEDA</td>\n",
       "      <td>35609</td>\n",
       "      <td>BRENDA BERENICE CASTRO HERNANDEZ</td>\n",
       "      <td>186753</td>\n",
       "      <td>BERISIMA  ESCAMILLA GOMEZ</td>\n",
       "      <td>2024-04-30</td>\n",
       "      <td>NaT</td>\n",
       "      <td>0</td>\n",
       "      <td>...</td>\n",
       "      <td>0</td>\n",
       "      <td>0</td>\n",
       "      <td>NaN</td>\n",
       "      <td>0 días</td>\n",
       "      <td>NaN</td>\n",
       "      <td>REGIÓN O</td>\n",
       "      <td>NaN</td>\n",
       "      <td>NaN</td>\n",
       "      <td>NaN</td>\n",
       "      <td>4.0</td>\n",
       "    </tr>\n",
       "    <tr>\n",
       "      <th>3405</th>\n",
       "      <td>CHIMALHUACAN 2</td>\n",
       "      <td>36217</td>\n",
       "      <td>MARIA ESTHER RAMIREZ CASTAÑEDA</td>\n",
       "      <td>35609</td>\n",
       "      <td>BRENDA BERENICE CASTRO HERNANDEZ</td>\n",
       "      <td>186803</td>\n",
       "      <td>LLUVIA ANGELICA SAN JUAN GUZMAN</td>\n",
       "      <td>2024-04-30</td>\n",
       "      <td>NaT</td>\n",
       "      <td>0</td>\n",
       "      <td>...</td>\n",
       "      <td>0</td>\n",
       "      <td>0</td>\n",
       "      <td>NaN</td>\n",
       "      <td>0 días</td>\n",
       "      <td>NaN</td>\n",
       "      <td>REGIÓN O</td>\n",
       "      <td>NaN</td>\n",
       "      <td>NaN</td>\n",
       "      <td>NaN</td>\n",
       "      <td>7.0</td>\n",
       "    </tr>\n",
       "    <tr>\n",
       "      <th>3406</th>\n",
       "      <td>CHIMALHUACAN 2</td>\n",
       "      <td>36217</td>\n",
       "      <td>MARIA ESTHER RAMIREZ CASTAÑEDA</td>\n",
       "      <td>35609</td>\n",
       "      <td>BRENDA BERENICE CASTRO HERNANDEZ</td>\n",
       "      <td>186813</td>\n",
       "      <td>Topografos</td>\n",
       "      <td>2024-04-30</td>\n",
       "      <td>NaT</td>\n",
       "      <td>0</td>\n",
       "      <td>...</td>\n",
       "      <td>0</td>\n",
       "      <td>0</td>\n",
       "      <td>NaN</td>\n",
       "      <td>0 días</td>\n",
       "      <td>NaN</td>\n",
       "      <td>REGIÓN O</td>\n",
       "      <td>NaN</td>\n",
       "      <td>NaN</td>\n",
       "      <td>NaN</td>\n",
       "      <td>4.0</td>\n",
       "    </tr>\n",
       "    <tr>\n",
       "      <th>3407</th>\n",
       "      <td>CHIMALHUACAN 2</td>\n",
       "      <td>36217</td>\n",
       "      <td>MARIA ESTHER RAMIREZ CASTAÑEDA</td>\n",
       "      <td>35609</td>\n",
       "      <td>BRENDA BERENICE CASTRO HERNANDEZ</td>\n",
       "      <td>186840</td>\n",
       "      <td>ANA GABRIELA MATIAS BLAS</td>\n",
       "      <td>2024-04-30</td>\n",
       "      <td>NaT</td>\n",
       "      <td>0</td>\n",
       "      <td>...</td>\n",
       "      <td>0</td>\n",
       "      <td>0</td>\n",
       "      <td>NaN</td>\n",
       "      <td>0 días</td>\n",
       "      <td>NaN</td>\n",
       "      <td>REGIÓN O</td>\n",
       "      <td>NaN</td>\n",
       "      <td>NaN</td>\n",
       "      <td>NaN</td>\n",
       "      <td>2.0</td>\n",
       "    </tr>\n",
       "    <tr>\n",
       "      <th>3408</th>\n",
       "      <td>TLAHUAC</td>\n",
       "      <td>37689</td>\n",
       "      <td>CARLOS ENRIQUE PARRA RUIZ</td>\n",
       "      <td>37763</td>\n",
       "      <td>OYUKY PEREZ MEDINA</td>\n",
       "      <td>186862</td>\n",
       "      <td>LAS PANDEROSAS</td>\n",
       "      <td>2024-04-30</td>\n",
       "      <td>NaT</td>\n",
       "      <td>0</td>\n",
       "      <td>...</td>\n",
       "      <td>0</td>\n",
       "      <td>0</td>\n",
       "      <td>NaN</td>\n",
       "      <td>0 días</td>\n",
       "      <td>NaN</td>\n",
       "      <td>REGIÓN F</td>\n",
       "      <td>NaN</td>\n",
       "      <td>NaN</td>\n",
       "      <td>NaN</td>\n",
       "      <td>3.0</td>\n",
       "    </tr>\n",
       "  </tbody>\n",
       "</table>\n",
       "<p>2206 rows × 105 columns</p>\n",
       "</div>"
      ],
      "text/plain": [
       "            SUCURSAL  ID COORDINADOR                             COORDINADOR  \\\n",
       "354    COATZACOALCOS           35481   TEMPORAL-ISABEL MONSERRAT RAZO MENDEZ   \n",
       "384    COATZACOALCOS           35481   TEMPORAL-ISABEL MONSERRAT RAZO MENDEZ   \n",
       "386    COATZACOALCOS           35481   TEMPORAL-ISABEL MONSERRAT RAZO MENDEZ   \n",
       "406    COATZACOALCOS           35481   TEMPORAL-ISABEL MONSERRAT RAZO MENDEZ   \n",
       "955           TONALA           31406  TEMPORAL-MIGUEL AGUSTIN CHAVEZ HUITRON   \n",
       "...              ...             ...                                     ...   \n",
       "3404  CHIMALHUACAN 2           36217          MARIA ESTHER RAMIREZ CASTAÑEDA   \n",
       "3405  CHIMALHUACAN 2           36217          MARIA ESTHER RAMIREZ CASTAÑEDA   \n",
       "3406  CHIMALHUACAN 2           36217          MARIA ESTHER RAMIREZ CASTAÑEDA   \n",
       "3407  CHIMALHUACAN 2           36217          MARIA ESTHER RAMIREZ CASTAÑEDA   \n",
       "3408         TLAHUAC           37689               CARLOS ENRIQUE PARRA RUIZ   \n",
       "\n",
       "      ID ASESOR                                  ASESOR  ID DIST.  \\\n",
       "354       14019   TEMPORAL-ISABEL MONSERRAT RAZO MENDEZ    113640   \n",
       "384       14019   TEMPORAL-ISABEL MONSERRAT RAZO MENDEZ    122691   \n",
       "386       33951  TEMPORAL-JULIO CESAR GONZALEZ ESPINOZA    122811   \n",
       "406       14019   TEMPORAL-ISABEL MONSERRAT RAZO MENDEZ    126589   \n",
       "955       38113              YENNI GUADALUPE CANO PEREZ    161191   \n",
       "...         ...                                     ...       ...   \n",
       "3404      35609        BRENDA BERENICE CASTRO HERNANDEZ    186753   \n",
       "3405      35609        BRENDA BERENICE CASTRO HERNANDEZ    186803   \n",
       "3406      35609        BRENDA BERENICE CASTRO HERNANDEZ    186813   \n",
       "3407      35609        BRENDA BERENICE CASTRO HERNANDEZ    186840   \n",
       "3408      37763                      OYUKY PEREZ MEDINA    186862   \n",
       "\n",
       "                         DISTRIBUIDOR F. AUT. LINEA F. ULT. INCREMENTO  \\\n",
       "354    FELICITA BUSTAMANTE DE LA CRUZ    2023-02-15                NaT   \n",
       "384             AURORA EPITACIO ROMAN    2022-11-09                NaT   \n",
       "386             FABIOLA MENDEZ GUZMAN    2022-07-27                NaT   \n",
       "406         FELICIANA VASQUEZ RAMIREZ    2022-08-31                NaT   \n",
       "955   JAZMIN NATALIA NARVAEZ GONZALEZ    2024-02-26                NaT   \n",
       "...                               ...           ...                ...   \n",
       "3404        BERISIMA  ESCAMILLA GOMEZ    2024-04-30                NaT   \n",
       "3405  LLUVIA ANGELICA SAN JUAN GUZMAN    2024-04-30                NaT   \n",
       "3406                       Topografos    2024-04-30                NaT   \n",
       "3407         ANA GABRIELA MATIAS BLAS    2024-04-30                NaT   \n",
       "3408                   LAS PANDEROSAS    2024-04-30                NaT   \n",
       "\n",
       "      NO. INCREMENTOS  ...  DIAS ATRASO (CIERRECOMERCIAL)  \\\n",
       "354                 0  ...                            179   \n",
       "384                 0  ...                            179   \n",
       "386                 0  ...                            179   \n",
       "406                 0  ...                            179   \n",
       "955                 0  ...                              0   \n",
       "...               ...  ...                            ...   \n",
       "3404                0  ...                              0   \n",
       "3405                0  ...                              0   \n",
       "3406                0  ...                              0   \n",
       "3407                0  ...                              0   \n",
       "3408                0  ...                              0   \n",
       "\n",
       "      DIAS ATRASO (ABRIL)  DIAS ATRASO (MARZO) BUCKET ABRIL  BUCKET MARZO  \\\n",
       "354                   181                  NaN          NaN           NaN   \n",
       "384                   181                  NaN          NaN           NaN   \n",
       "386                   181                  NaN          NaN           NaN   \n",
       "406                   181                  NaN          NaN           NaN   \n",
       "955                     0                  0.0       0 días        0 días   \n",
       "...                   ...                  ...          ...           ...   \n",
       "3404                    0                  NaN       0 días           NaN   \n",
       "3405                    0                  NaN       0 días           NaN   \n",
       "3406                    0                  NaN       0 días           NaN   \n",
       "3407                    0                  NaN       0 días           NaN   \n",
       "3408                    0                  NaN       0 días           NaN   \n",
       "\n",
       "        REGION  AJUSTE CONTABLE MARZO 24   x  x.1  riesgo  \n",
       "354   REGIÓN F                       NaN NaN  NaN    10.0  \n",
       "384   REGIÓN F                       NaN NaN  NaN     9.0  \n",
       "386   REGIÓN F                       NaN NaN  NaN     9.0  \n",
       "406   REGIÓN F                       NaN NaN  NaN     9.0  \n",
       "955   REGIÓN O                       NaN NaN  NaN     1.0  \n",
       "...        ...                       ...  ..  ...     ...  \n",
       "3404  REGIÓN O                       NaN NaN  NaN     4.0  \n",
       "3405  REGIÓN O                       NaN NaN  NaN     7.0  \n",
       "3406  REGIÓN O                       NaN NaN  NaN     4.0  \n",
       "3407  REGIÓN O                       NaN NaN  NaN     2.0  \n",
       "3408  REGIÓN F                       NaN NaN  NaN     3.0  \n",
       "\n",
       "[2206 rows x 105 columns]"
      ]
     },
     "execution_count": 96,
     "metadata": {},
     "output_type": "execute_result"
    }
   ],
   "source": [
    "#Concatenar con la original\n",
    "data_enviada"
   ]
  },
  {
   "cell_type": "code",
   "execution_count": 445,
   "id": "Y8V7ctw43P4c",
   "metadata": {
    "executionInfo": {
     "elapsed": 287,
     "status": "ok",
     "timestamp": 1705587131688,
     "user": {
      "displayName": "JAIRO ENRIQUE RAMIREZ SANCHEZ",
      "userId": "16718293965815976521"
     },
     "user_tz": 360
    },
    "id": "Y8V7ctw43P4c"
   },
   "outputs": [],
   "source": [
    "data_final_enviada = pd.concat([data_enviada_completa, data_enviada])"
   ]
  },
  {
   "cell_type": "code",
   "execution_count": 451,
   "id": "PDCipAvb6cq3",
   "metadata": {
    "executionInfo": {
     "elapsed": 314,
     "status": "ok",
     "timestamp": 1705587204508,
     "user": {
      "displayName": "JAIRO ENRIQUE RAMIREZ SANCHEZ",
      "userId": "16718293965815976521"
     },
     "user_tz": 360
    },
    "id": "PDCipAvb6cq3"
   },
   "outputs": [],
   "source": [
    "data_final_enviada.to_csv(ruta + \"/data/240118 Riesgo ponderado actualizado de la cartera actual.csv\", index = False)"
   ]
  },
  {
   "cell_type": "code",
   "execution_count": 457,
   "id": "vTt5u-5U8pG3",
   "metadata": {
    "executionInfo": {
     "elapsed": 306,
     "status": "ok",
     "timestamp": 1705587736801,
     "user": {
      "displayName": "JAIRO ENRIQUE RAMIREZ SANCHEZ",
      "userId": "16718293965815976521"
     },
     "user_tz": 360
    },
    "id": "vTt5u-5U8pG3"
   },
   "outputs": [],
   "source": []
  }
 ],
 "metadata": {
  "colab": {
   "provenance": []
  },
  "hide_input": false,
  "kernelspec": {
   "display_name": "Python 3 (ipykernel)",
   "language": "python",
   "name": "python3"
  },
  "language_info": {
   "codemirror_mode": {
    "name": "ipython",
    "version": 3
   },
   "file_extension": ".py",
   "mimetype": "text/x-python",
   "name": "python",
   "nbconvert_exporter": "python",
   "pygments_lexer": "ipython3",
   "version": "3.11.4"
  },
  "varInspector": {
   "cols": {
    "lenName": 16,
    "lenType": 16,
    "lenVar": 40
   },
   "kernels_config": {
    "python": {
     "delete_cmd_postfix": "",
     "delete_cmd_prefix": "del ",
     "library": "var_list.py",
     "varRefreshCmd": "print(var_dic_list())"
    },
    "r": {
     "delete_cmd_postfix": ") ",
     "delete_cmd_prefix": "rm(",
     "library": "var_list.r",
     "varRefreshCmd": "cat(var_dic_list()) "
    }
   },
   "types_to_exclude": [
    "module",
    "function",
    "builtin_function_or_method",
    "instance",
    "_Feature"
   ],
   "window_display": false
  }
 },
 "nbformat": 4,
 "nbformat_minor": 5
}
