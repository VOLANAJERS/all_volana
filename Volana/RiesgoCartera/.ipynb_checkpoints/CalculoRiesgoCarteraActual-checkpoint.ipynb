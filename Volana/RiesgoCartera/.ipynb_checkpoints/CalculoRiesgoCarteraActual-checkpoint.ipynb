{
 "cells": [
  {
   "cell_type": "code",
   "execution_count": 39,
   "id": "7caf3847",
   "metadata": {},
   "outputs": [],
   "source": [
    "import pandas as pd\n",
    "import numpy as np\n",
    "\n",
    "from datetime import datetime, timedelta\n",
    "\n",
    "def excel_a_fecha(valor_excel):\n",
    "    # Convertir a fecha\n",
    "    fecha_excel = datetime(1899, 12, 30) + timedelta(days=valor_excel)\n",
    "    \n",
    "    # Devolver la fecha\n",
    "    return fecha_excel"
   ]
  },
  {
   "cell_type": "code",
   "execution_count": 40,
   "id": "7cef6e9d",
   "metadata": {},
   "outputs": [],
   "source": [
    "data_cartera = pd.read_excel(\"./data/231110 DATOS PARA DESEMPEÑO.xlsb\", sheet_name=\"CARTERAS\")\n",
    "data_cartera['MES DE CORTE'] = data_cartera['MES DE CORTE'].apply(excel_a_fecha)"
   ]
  },
  {
   "cell_type": "code",
   "execution_count": 41,
   "id": "8b4d055b",
   "metadata": {},
   "outputs": [
    {
     "data": {
      "text/plain": [
       "9808"
      ]
     },
     "execution_count": 41,
     "metadata": {},
     "output_type": "execute_result"
    }
   ],
   "source": [
    "data_cartera['ID DIST.'].nunique()"
   ]
  },
  {
   "cell_type": "code",
   "execution_count": 42,
   "id": "cc2f03d0",
   "metadata": {},
   "outputs": [],
   "source": [
    "data_riesgo_ant = pd.read_csv(\"./data/riesgo_cartera_10_31_23.csv\")"
   ]
  },
  {
   "cell_type": "code",
   "execution_count": 43,
   "id": "ab0a87da",
   "metadata": {},
   "outputs": [
    {
     "data": {
      "text/plain": [
       "15761"
      ]
     },
     "execution_count": 43,
     "metadata": {},
     "output_type": "execute_result"
    }
   ],
   "source": [
    "data_riesgo_ant['ID DIST.'].nunique()"
   ]
  },
  {
   "cell_type": "code",
   "execution_count": 44,
   "id": "6613c5e8",
   "metadata": {},
   "outputs": [],
   "source": [
    "faltantes = np.setdiff1d(data_cartera['ID DIST.'].unique(), data_riesgo_ant['ID DIST.'].unique())"
   ]
  },
  {
   "cell_type": "code",
   "execution_count": 45,
   "id": "abdc6929",
   "metadata": {},
   "outputs": [],
   "source": [
    "data_cartera.columns = ['SUCURSAL', 'ID COORDINADOR', 'COORDINADOR', 'ID ASESOR', 'ASESOR',\n",
    "       'ID DIST.', 'DISTRIBUIDOR', 'F. AUT. LINEA', 'F. ULT. INCREMENTO',\n",
    "       'NO. INCREMENTOS', 'LINEA DE CREDITO', 'LINEA DISPUESTA $',\n",
    "       'DISPONIBLE', 'F. PRIMERA DISP.', 'ASOCIADOS ACTIVOS',\n",
    "       'ASOCIADOS TOTALES', 'CAPITAL', 'INTERES', 'IVA INTERES',\n",
    "       'SEGURO ASOCIADOS', 'SEGURO DISTRIBUIDOR', 'MULTAS', 'IVA MULTAS',\n",
    "       'TOTAL PAGADO', 'CAPITAL.1', 'INTERES.1', 'IVA INTERES.1',\n",
    "       'SEGURO ASOCIADOS.1', 'SEGURO DISTRIBUIDOR.1', 'MULTAS.1',\n",
    "       'IVA MULTAS.1', 'TOTAL PENDIENTE', 'F. ATRASO', 'DIAS ATRASO',\n",
    "       'CAPITAL ATRASO', 'SALDO ATRASADO', 'F. ULTIMO PAGO', 'F. PROX. PAGO',\n",
    "       'SALDO ATRASADO.1', 'IMPORTE PARTIDA', 'SEG. ASOC.', 'SEG. DIST.',\n",
    "       'CREDITO PERSONAL', 'TOTAL PAGO', 'PAGO ANTICIPADO', 'COMISION',\n",
    "       'MORATORIOS', 'MONTO DEPOSITAR', 'F. REACTIVACION', 'EMPLEADO ASESOR',\n",
    "       'EMPLEADO COORD.', 'CONVENIO', 'ESTATUS.', 'REESTRUCTURADO',\n",
    "       'TIPO DISTRIBUIDOR', 'ID RED', 'NOMBRE DE LA RED',\n",
    "       'ID PRESTAMO PERSONAL', 'RED', 'SALDO PRESTAMO PERSONAL',\n",
    "       'PAGOS ANTICIPADOS U4P', 'PAGOS EN TIEMPO U4P', 'PAGOS DESTIEMPO U4P',\n",
    "       'PAGOS PENDIENTES U4P', 'PAGOS ANTICIPADOS U6P', 'PAGOS EN TIEMPO U6P',\n",
    "       'PAGOS DESTIEMPO U6P', 'PAGOS PENDIENTES U6P', 'CAPITAL.2', 'INTERES.2',\n",
    "       'IVA', 'CAPITAL P.PERSONAL', 'INTERES P.PERSONAL', 'IVA P.PERSONAL',\n",
    "       'FRECUENCIA DE PAGO', 'DIA', 'HORA', 'GARANTIA APLICADA',\n",
    "       'FECHA ULTIMA DISPERSION', 'CICLO RED', 'CATEGORIA', 'CAPITAL VENCIDO',\n",
    "       'INTERESES VENCIDO', 'IVA VENCIDO', 'REDONDEO VENCIDO',\n",
    "       'MORATORIO VENCIDO', 'SEGURO DISTRIBUIDOR VENCIDO',\n",
    "       'SEGURO ASOCIADO VENCIDO', 'LINEA BLOQUEADA', 'ID CLIENTE',\n",
    "       'TIPO DISTRIBUIDOR ORIGEN', 'F. CAMBIO DE TIPO DISTRIBUIDOR',\n",
    "       'FECHA CONSULTA CC 1', 'FECHA CONSULTA CC 2', 'MES DE CORTE']"
   ]
  },
  {
   "cell_type": "code",
   "execution_count": 46,
   "id": "4f69cffe",
   "metadata": {},
   "outputs": [
    {
     "data": {
      "text/html": [
       "<div>\n",
       "<style scoped>\n",
       "    .dataframe tbody tr th:only-of-type {\n",
       "        vertical-align: middle;\n",
       "    }\n",
       "\n",
       "    .dataframe tbody tr th {\n",
       "        vertical-align: top;\n",
       "    }\n",
       "\n",
       "    .dataframe thead th {\n",
       "        text-align: right;\n",
       "    }\n",
       "</style>\n",
       "<table border=\"1\" class=\"dataframe\">\n",
       "  <thead>\n",
       "    <tr style=\"text-align: right;\">\n",
       "      <th></th>\n",
       "      <th>ID DIST.</th>\n",
       "      <th>probs</th>\n",
       "      <th>grupo</th>\n",
       "    </tr>\n",
       "  </thead>\n",
       "  <tbody>\n",
       "    <tr>\n",
       "      <th>0</th>\n",
       "      <td>1</td>\n",
       "      <td>80.19</td>\n",
       "      <td>2</td>\n",
       "    </tr>\n",
       "    <tr>\n",
       "      <th>1</th>\n",
       "      <td>19</td>\n",
       "      <td>8.85</td>\n",
       "      <td>10</td>\n",
       "    </tr>\n",
       "    <tr>\n",
       "      <th>2</th>\n",
       "      <td>29</td>\n",
       "      <td>7.95</td>\n",
       "      <td>10</td>\n",
       "    </tr>\n",
       "    <tr>\n",
       "      <th>3</th>\n",
       "      <td>38</td>\n",
       "      <td>17.77</td>\n",
       "      <td>9</td>\n",
       "    </tr>\n",
       "    <tr>\n",
       "      <th>4</th>\n",
       "      <td>51</td>\n",
       "      <td>98.70</td>\n",
       "      <td>1</td>\n",
       "    </tr>\n",
       "    <tr>\n",
       "      <th>...</th>\n",
       "      <td>...</td>\n",
       "      <td>...</td>\n",
       "      <td>...</td>\n",
       "    </tr>\n",
       "    <tr>\n",
       "      <th>15756</th>\n",
       "      <td>166935</td>\n",
       "      <td>53.96</td>\n",
       "      <td>5</td>\n",
       "    </tr>\n",
       "    <tr>\n",
       "      <th>15757</th>\n",
       "      <td>166945</td>\n",
       "      <td>26.13</td>\n",
       "      <td>8</td>\n",
       "    </tr>\n",
       "    <tr>\n",
       "      <th>15758</th>\n",
       "      <td>166991</td>\n",
       "      <td>51.45</td>\n",
       "      <td>5</td>\n",
       "    </tr>\n",
       "    <tr>\n",
       "      <th>15759</th>\n",
       "      <td>167004</td>\n",
       "      <td>79.69</td>\n",
       "      <td>2</td>\n",
       "    </tr>\n",
       "    <tr>\n",
       "      <th>15760</th>\n",
       "      <td>167010</td>\n",
       "      <td>64.89</td>\n",
       "      <td>3</td>\n",
       "    </tr>\n",
       "  </tbody>\n",
       "</table>\n",
       "<p>15761 rows × 3 columns</p>\n",
       "</div>"
      ],
      "text/plain": [
       "       ID DIST.  probs  grupo\n",
       "0             1  80.19      2\n",
       "1            19   8.85     10\n",
       "2            29   7.95     10\n",
       "3            38  17.77      9\n",
       "4            51  98.70      1\n",
       "...         ...    ...    ...\n",
       "15756    166935  53.96      5\n",
       "15757    166945  26.13      8\n",
       "15758    166991  51.45      5\n",
       "15759    167004  79.69      2\n",
       "15760    167010  64.89      3\n",
       "\n",
       "[15761 rows x 3 columns]"
      ]
     },
     "execution_count": 46,
     "metadata": {},
     "output_type": "execute_result"
    }
   ],
   "source": [
    "data_riesgo_ant"
   ]
  },
  {
   "cell_type": "code",
   "execution_count": 47,
   "id": "6f54878a",
   "metadata": {},
   "outputs": [],
   "source": [
    "data_cosecha = data_cartera.groupby('ID DIST.').agg({'CAPITAL.1':'sum', 'CAPITAL ATRASO':'sum'}).reset_index()\n",
    "data_cosecha = data_cosecha.loc[[k in faltantes for k in data_cosecha['ID DIST.']]]"
   ]
  },
  {
   "cell_type": "code",
   "execution_count": 48,
   "id": "d4398991",
   "metadata": {},
   "outputs": [],
   "source": [
    "data_cosecha['perdida_cosecha'] = 1 - (data_cosecha['CAPITAL.1'] - data_cosecha['CAPITAL ATRASO']) /  data_cosecha['CAPITAL.1']\n"
   ]
  },
  {
   "cell_type": "code",
   "execution_count": 49,
   "id": "1f138637",
   "metadata": {},
   "outputs": [
    {
     "data": {
      "text/plain": [
       "0.6050647826699085"
      ]
     },
     "execution_count": 49,
     "metadata": {},
     "output_type": "execute_result"
    }
   ],
   "source": [
    "data_cosecha.perdida_cosecha.mean()"
   ]
  },
  {
   "cell_type": "code",
   "execution_count": 50,
   "id": "52fe9bbb",
   "metadata": {},
   "outputs": [],
   "source": [
    "data_cosecha = data_cosecha[['ID DIST.', 'perdida_cosecha']]"
   ]
  },
  {
   "cell_type": "code",
   "execution_count": 51,
   "id": "a06da478",
   "metadata": {},
   "outputs": [],
   "source": [
    "#data_cartera.loc[data_cartera['ID DIST.'] ==  40991]"
   ]
  },
  {
   "cell_type": "code",
   "execution_count": 52,
   "id": "0c6adb50",
   "metadata": {},
   "outputs": [],
   "source": [
    "def setcut(cosecha_):\n",
    "    #p = p*100\n",
    "    cosecha_ *= 100\n",
    "\n",
    "    grupo = 1\n",
    "    cuts = np.array(sorted([100, 81.09, 72.06, 63.19, 54.27, 45.11, 36.10, 27.47, 18.17, 9.05, 0.00]))\n",
    "    cosechas = np.array(sorted([0, 1.54, 3.4, 4.97, 7.38, 10.69, 11.87, 12.35, 12.68, 20.33, 22.69], reverse = True))\n",
    "\n",
    "    #cuts = np.array(sorted([1, 0.9919, 0.975, 0.953, 0.9196, 0.8717, 0.7832, 0.6737, 0.5072, .2738]))*100\n",
    "    #cosechas = np.array(sorted([2.31, 2.63, 3.1, 3.12, 3.94, 4.2, 4.33, 5.15, 5.71, 59.82], reverse = True))\n",
    "\n",
    "    enter_ = False\n",
    "    for cosecha in cosechas:\n",
    "        if cosecha <= cosecha_:\n",
    "\n",
    "            enter_ = True\n",
    "            break\n",
    "\n",
    "    if enter_:\n",
    "        grupo = np.where(cosechas == cosecha)[0][0] \n",
    "\n",
    "    return grupo, cuts[grupo], cosechas[grupo]"
   ]
  },
  {
   "cell_type": "code",
   "execution_count": 53,
   "id": "3eaa8280",
   "metadata": {},
   "outputs": [],
   "source": [
    "def setcut_prob(p, grupo_ = True):\n",
    "    p = p*100\n",
    "    cuts = np.array(sorted([100, 81.09, 72.06, 63.19, 54.27, 45.11, 36.10, 27.47, 18.17, 9.05, 0.00]))\n",
    "    cosechas = np.array(sorted([1.54, 3.4, 4.97, 7.38, 10.69, 11.87, 12.35, 12.68, 20.33, 22.69], reverse = True))\n",
    "    \n",
    "    #cuts = np.array(sorted([1, 0.9919, 0.975, 0.953, 0.9196, 0.8717, 0.7832, 0.6737, 0.5072, .2738]))*100\n",
    "    #cosechas = np.array(sorted([2.31, 2.63, 3.1, 3.12, 3.94, 4.2, 4.33, 5.15, 5.71, 59.82], reverse = True))\n",
    "    \n",
    "    for cut in cuts:\n",
    "        if cut > p:\n",
    "            break\n",
    "            \n",
    "    grupo = np.where(cuts == cut)[0][0] \n",
    "    if grupo_:\n",
    "        return grupo\n",
    "    else:\n",
    "        return cosechas[grupo - 1]"
   ]
  },
  {
   "cell_type": "code",
   "execution_count": 54,
   "id": "1a75fa36",
   "metadata": {},
   "outputs": [
    {
     "data": {
      "text/plain": [
       "(0, 0.0, 22.69)"
      ]
     },
     "execution_count": 54,
     "metadata": {},
     "output_type": "execute_result"
    }
   ],
   "source": [
    "setcut(1.6)"
   ]
  },
  {
   "cell_type": "code",
   "execution_count": 55,
   "id": "f84aa91b",
   "metadata": {},
   "outputs": [],
   "source": [
    "_, data_cosecha['probs'], data_cosecha['cosecha_canasta'] = zip(*data_cosecha.perdida_cosecha.apply(setcut))"
   ]
  },
  {
   "cell_type": "code",
   "execution_count": 56,
   "id": "780321b3",
   "metadata": {},
   "outputs": [
    {
     "data": {
      "text/html": [
       "<div>\n",
       "<style scoped>\n",
       "    .dataframe tbody tr th:only-of-type {\n",
       "        vertical-align: middle;\n",
       "    }\n",
       "\n",
       "    .dataframe tbody tr th {\n",
       "        vertical-align: top;\n",
       "    }\n",
       "\n",
       "    .dataframe thead th {\n",
       "        text-align: right;\n",
       "    }\n",
       "</style>\n",
       "<table border=\"1\" class=\"dataframe\">\n",
       "  <thead>\n",
       "    <tr style=\"text-align: right;\">\n",
       "      <th></th>\n",
       "      <th>ID DIST.</th>\n",
       "      <th>perdida_cosecha</th>\n",
       "      <th>probs</th>\n",
       "      <th>cosecha_canasta</th>\n",
       "    </tr>\n",
       "  </thead>\n",
       "  <tbody>\n",
       "    <tr>\n",
       "      <th>324</th>\n",
       "      <td>9006</td>\n",
       "      <td>1.0</td>\n",
       "      <td>0.0</td>\n",
       "      <td>22.69</td>\n",
       "    </tr>\n",
       "    <tr>\n",
       "      <th>363</th>\n",
       "      <td>10033</td>\n",
       "      <td>1.0</td>\n",
       "      <td>0.0</td>\n",
       "      <td>22.69</td>\n",
       "    </tr>\n",
       "    <tr>\n",
       "      <th>364</th>\n",
       "      <td>10036</td>\n",
       "      <td>1.0</td>\n",
       "      <td>0.0</td>\n",
       "      <td>22.69</td>\n",
       "    </tr>\n",
       "    <tr>\n",
       "      <th>365</th>\n",
       "      <td>10091</td>\n",
       "      <td>1.0</td>\n",
       "      <td>0.0</td>\n",
       "      <td>22.69</td>\n",
       "    </tr>\n",
       "    <tr>\n",
       "      <th>376</th>\n",
       "      <td>10399</td>\n",
       "      <td>1.0</td>\n",
       "      <td>0.0</td>\n",
       "      <td>22.69</td>\n",
       "    </tr>\n",
       "    <tr>\n",
       "      <th>...</th>\n",
       "      <td>...</td>\n",
       "      <td>...</td>\n",
       "      <td>...</td>\n",
       "      <td>...</td>\n",
       "    </tr>\n",
       "    <tr>\n",
       "      <th>9803</th>\n",
       "      <td>168334</td>\n",
       "      <td>0.0</td>\n",
       "      <td>100.0</td>\n",
       "      <td>0.00</td>\n",
       "    </tr>\n",
       "    <tr>\n",
       "      <th>9804</th>\n",
       "      <td>168336</td>\n",
       "      <td>0.0</td>\n",
       "      <td>100.0</td>\n",
       "      <td>0.00</td>\n",
       "    </tr>\n",
       "    <tr>\n",
       "      <th>9805</th>\n",
       "      <td>168339</td>\n",
       "      <td>0.0</td>\n",
       "      <td>100.0</td>\n",
       "      <td>0.00</td>\n",
       "    </tr>\n",
       "    <tr>\n",
       "      <th>9806</th>\n",
       "      <td>168341</td>\n",
       "      <td>0.0</td>\n",
       "      <td>100.0</td>\n",
       "      <td>0.00</td>\n",
       "    </tr>\n",
       "    <tr>\n",
       "      <th>9807</th>\n",
       "      <td>168348</td>\n",
       "      <td>0.0</td>\n",
       "      <td>100.0</td>\n",
       "      <td>0.00</td>\n",
       "    </tr>\n",
       "  </tbody>\n",
       "</table>\n",
       "<p>425 rows × 4 columns</p>\n",
       "</div>"
      ],
      "text/plain": [
       "      ID DIST.  perdida_cosecha  probs  cosecha_canasta\n",
       "324       9006              1.0    0.0            22.69\n",
       "363      10033              1.0    0.0            22.69\n",
       "364      10036              1.0    0.0            22.69\n",
       "365      10091              1.0    0.0            22.69\n",
       "376      10399              1.0    0.0            22.69\n",
       "...        ...              ...    ...              ...\n",
       "9803    168334              0.0  100.0             0.00\n",
       "9804    168336              0.0  100.0             0.00\n",
       "9805    168339              0.0  100.0             0.00\n",
       "9806    168341              0.0  100.0             0.00\n",
       "9807    168348              0.0  100.0             0.00\n",
       "\n",
       "[425 rows x 4 columns]"
      ]
     },
     "execution_count": 56,
     "metadata": {},
     "output_type": "execute_result"
    }
   ],
   "source": [
    "data_cosecha"
   ]
  },
  {
   "cell_type": "code",
   "execution_count": 57,
   "id": "35f5aa99",
   "metadata": {},
   "outputs": [],
   "source": [
    "def move_prob(val):\n",
    "    val /= 100\n",
    "    if val == 0:\n",
    "        val += np.random.randint(0, 200)/1000\n",
    "    elif val == 1:\n",
    "        val -= np.random.randint(0, 200)/1000\n",
    "    else:\n",
    "        val += np.random.randint(-200, 200)/1000\n",
    "    return val"
   ]
  },
  {
   "cell_type": "code",
   "execution_count": 58,
   "id": "05faed6d",
   "metadata": {},
   "outputs": [],
   "source": [
    "data_cosecha.probs =data_cosecha.probs.apply(move_prob)"
   ]
  },
  {
   "cell_type": "code",
   "execution_count": 59,
   "id": "c3f1f901",
   "metadata": {},
   "outputs": [],
   "source": [
    "data_cosecha['grupo'] = data_cosecha.probs.apply(setcut_prob, grupo_ = True)"
   ]
  },
  {
   "cell_type": "code",
   "execution_count": 60,
   "id": "5ec21198",
   "metadata": {},
   "outputs": [],
   "source": [
    "data_cosecha['cosecha_canasta'] = data_cosecha.probs.apply(setcut_prob, grupo_ = False)"
   ]
  },
  {
   "cell_type": "code",
   "execution_count": 61,
   "id": "faa6dabf",
   "metadata": {},
   "outputs": [],
   "source": [
    "data_cosecha.drop(\"perdida_cosecha\", axis = 1, inplace=True)"
   ]
  },
  {
   "cell_type": "code",
   "execution_count": 62,
   "id": "d0fd9e74",
   "metadata": {},
   "outputs": [
    {
     "data": {
      "text/html": [
       "<div>\n",
       "<style scoped>\n",
       "    .dataframe tbody tr th:only-of-type {\n",
       "        vertical-align: middle;\n",
       "    }\n",
       "\n",
       "    .dataframe tbody tr th {\n",
       "        vertical-align: top;\n",
       "    }\n",
       "\n",
       "    .dataframe thead th {\n",
       "        text-align: right;\n",
       "    }\n",
       "</style>\n",
       "<table border=\"1\" class=\"dataframe\">\n",
       "  <thead>\n",
       "    <tr style=\"text-align: right;\">\n",
       "      <th></th>\n",
       "      <th>ID DIST.</th>\n",
       "      <th>probs</th>\n",
       "      <th>cosecha_canasta</th>\n",
       "      <th>grupo</th>\n",
       "    </tr>\n",
       "  </thead>\n",
       "  <tbody>\n",
       "    <tr>\n",
       "      <th>324</th>\n",
       "      <td>9006</td>\n",
       "      <td>0.027</td>\n",
       "      <td>22.69</td>\n",
       "      <td>1</td>\n",
       "    </tr>\n",
       "    <tr>\n",
       "      <th>363</th>\n",
       "      <td>10033</td>\n",
       "      <td>0.036</td>\n",
       "      <td>22.69</td>\n",
       "      <td>1</td>\n",
       "    </tr>\n",
       "    <tr>\n",
       "      <th>364</th>\n",
       "      <td>10036</td>\n",
       "      <td>0.114</td>\n",
       "      <td>20.33</td>\n",
       "      <td>2</td>\n",
       "    </tr>\n",
       "    <tr>\n",
       "      <th>365</th>\n",
       "      <td>10091</td>\n",
       "      <td>0.049</td>\n",
       "      <td>22.69</td>\n",
       "      <td>1</td>\n",
       "    </tr>\n",
       "    <tr>\n",
       "      <th>376</th>\n",
       "      <td>10399</td>\n",
       "      <td>0.153</td>\n",
       "      <td>20.33</td>\n",
       "      <td>2</td>\n",
       "    </tr>\n",
       "    <tr>\n",
       "      <th>...</th>\n",
       "      <td>...</td>\n",
       "      <td>...</td>\n",
       "      <td>...</td>\n",
       "      <td>...</td>\n",
       "    </tr>\n",
       "    <tr>\n",
       "      <th>9803</th>\n",
       "      <td>168334</td>\n",
       "      <td>0.972</td>\n",
       "      <td>1.54</td>\n",
       "      <td>10</td>\n",
       "    </tr>\n",
       "    <tr>\n",
       "      <th>9804</th>\n",
       "      <td>168336</td>\n",
       "      <td>0.881</td>\n",
       "      <td>1.54</td>\n",
       "      <td>10</td>\n",
       "    </tr>\n",
       "    <tr>\n",
       "      <th>9805</th>\n",
       "      <td>168339</td>\n",
       "      <td>0.879</td>\n",
       "      <td>1.54</td>\n",
       "      <td>10</td>\n",
       "    </tr>\n",
       "    <tr>\n",
       "      <th>9806</th>\n",
       "      <td>168341</td>\n",
       "      <td>0.832</td>\n",
       "      <td>1.54</td>\n",
       "      <td>10</td>\n",
       "    </tr>\n",
       "    <tr>\n",
       "      <th>9807</th>\n",
       "      <td>168348</td>\n",
       "      <td>0.981</td>\n",
       "      <td>1.54</td>\n",
       "      <td>10</td>\n",
       "    </tr>\n",
       "  </tbody>\n",
       "</table>\n",
       "<p>425 rows × 4 columns</p>\n",
       "</div>"
      ],
      "text/plain": [
       "      ID DIST.  probs  cosecha_canasta  grupo\n",
       "324       9006  0.027            22.69      1\n",
       "363      10033  0.036            22.69      1\n",
       "364      10036  0.114            20.33      2\n",
       "365      10091  0.049            22.69      1\n",
       "376      10399  0.153            20.33      2\n",
       "...        ...    ...              ...    ...\n",
       "9803    168334  0.972             1.54     10\n",
       "9804    168336  0.881             1.54     10\n",
       "9805    168339  0.879             1.54     10\n",
       "9806    168341  0.832             1.54     10\n",
       "9807    168348  0.981             1.54     10\n",
       "\n",
       "[425 rows x 4 columns]"
      ]
     },
     "execution_count": 62,
     "metadata": {},
     "output_type": "execute_result"
    }
   ],
   "source": [
    "data_cosecha"
   ]
  },
  {
   "cell_type": "code",
   "execution_count": 63,
   "id": "217b2625",
   "metadata": {},
   "outputs": [],
   "source": [
    "data_riesgo_ant.probs = data_riesgo_ant.probs / 100"
   ]
  },
  {
   "cell_type": "code",
   "execution_count": 64,
   "id": "c9fd5809",
   "metadata": {},
   "outputs": [],
   "source": [
    "data_riesgo_ant['cosecha_canasta'] = data_riesgo_ant.probs.apply(setcut_prob, grupo_ = False)"
   ]
  },
  {
   "cell_type": "code",
   "execution_count": 65,
   "id": "738c2cd9",
   "metadata": {},
   "outputs": [],
   "source": [
    "data_riesgo_ant = data_riesgo_ant[['ID DIST.', 'probs', 'grupo', 'cosecha_canasta']];"
   ]
  },
  {
   "cell_type": "code",
   "execution_count": 66,
   "id": "fdb62e51",
   "metadata": {},
   "outputs": [],
   "source": [
    "data_cosecha = data_cosecha[['ID DIST.', 'probs', 'grupo', 'cosecha_canasta']]"
   ]
  },
  {
   "cell_type": "code",
   "execution_count": 67,
   "id": "fbb290f4",
   "metadata": {},
   "outputs": [],
   "source": [
    "data_final = pd.concat([data_riesgo_ant, data_cosecha])"
   ]
  },
  {
   "cell_type": "code",
   "execution_count": 68,
   "id": "60782b8c",
   "metadata": {},
   "outputs": [
    {
     "data": {
      "text/plain": [
       "(16186, 4)"
      ]
     },
     "execution_count": 68,
     "metadata": {},
     "output_type": "execute_result"
    }
   ],
   "source": [
    "data_final.shape"
   ]
  },
  {
   "cell_type": "code",
   "execution_count": 71,
   "id": "fb6f058a",
   "metadata": {},
   "outputs": [],
   "source": [
    "data_final.to_csv(\"./data/riesgo_cartera_11_15_23.csv\")"
   ]
  },
  {
   "cell_type": "code",
   "execution_count": 74,
   "id": "936576f4",
   "metadata": {},
   "outputs": [
    {
     "data": {
      "text/html": [
       "<div>\n",
       "<style scoped>\n",
       "    .dataframe tbody tr th:only-of-type {\n",
       "        vertical-align: middle;\n",
       "    }\n",
       "\n",
       "    .dataframe tbody tr th {\n",
       "        vertical-align: top;\n",
       "    }\n",
       "\n",
       "    .dataframe thead th {\n",
       "        text-align: right;\n",
       "    }\n",
       "</style>\n",
       "<table border=\"1\" class=\"dataframe\">\n",
       "  <thead>\n",
       "    <tr style=\"text-align: right;\">\n",
       "      <th></th>\n",
       "      <th>ID DIST.</th>\n",
       "      <th>probs</th>\n",
       "      <th>grupo</th>\n",
       "      <th>cosecha_canasta</th>\n",
       "    </tr>\n",
       "  </thead>\n",
       "  <tbody>\n",
       "    <tr>\n",
       "      <th>ID DIST.</th>\n",
       "      <td>1.000000</td>\n",
       "      <td>-0.076985</td>\n",
       "      <td>0.101477</td>\n",
       "      <td>-0.008384</td>\n",
       "    </tr>\n",
       "    <tr>\n",
       "      <th>probs</th>\n",
       "      <td>-0.076985</td>\n",
       "      <td>1.000000</td>\n",
       "      <td>-0.869033</td>\n",
       "      <td>-0.944798</td>\n",
       "    </tr>\n",
       "    <tr>\n",
       "      <th>grupo</th>\n",
       "      <td>0.101477</td>\n",
       "      <td>-0.869033</td>\n",
       "      <td>1.000000</td>\n",
       "      <td>0.845600</td>\n",
       "    </tr>\n",
       "    <tr>\n",
       "      <th>cosecha_canasta</th>\n",
       "      <td>-0.008384</td>\n",
       "      <td>-0.944798</td>\n",
       "      <td>0.845600</td>\n",
       "      <td>1.000000</td>\n",
       "    </tr>\n",
       "  </tbody>\n",
       "</table>\n",
       "</div>"
      ],
      "text/plain": [
       "                 ID DIST.     probs     grupo  cosecha_canasta\n",
       "ID DIST.         1.000000 -0.076985  0.101477        -0.008384\n",
       "probs           -0.076985  1.000000 -0.869033        -0.944798\n",
       "grupo            0.101477 -0.869033  1.000000         0.845600\n",
       "cosecha_canasta -0.008384 -0.944798  0.845600         1.000000"
      ]
     },
     "execution_count": 74,
     "metadata": {},
     "output_type": "execute_result"
    }
   ],
   "source": [
    "data_final.corr()"
   ]
  }
 ],
 "metadata": {
  "kernelspec": {
   "display_name": "Python 3 (ipykernel)",
   "language": "python",
   "name": "python3"
  },
  "language_info": {
   "codemirror_mode": {
    "name": "ipython",
    "version": 3
   },
   "file_extension": ".py",
   "mimetype": "text/x-python",
   "name": "python",
   "nbconvert_exporter": "python",
   "pygments_lexer": "ipython3",
   "version": "3.11.4"
  }
 },
 "nbformat": 4,
 "nbformat_minor": 5
}
