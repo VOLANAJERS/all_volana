{
 "cells": [
  {
   "cell_type": "code",
   "execution_count": 1,
   "id": "7caf3847",
   "metadata": {
    "ExecuteTime": {
     "end_time": "2023-12-01T22:01:04.667327Z",
     "start_time": "2023-12-01T22:01:02.897935Z"
    }
   },
   "outputs": [],
   "source": [
    "import pandas as pd\n",
    "import numpy as np\n",
    "import pymysql\n",
    "\n",
    "from datetime import datetime, timedelta\n",
    "\n",
    "def excel_a_fecha(valor_excel):\n",
    "    # Convertir a fecha\n",
    "    fecha_excel = datetime(1899, 12, 30) + timedelta(days=valor_excel)\n",
    "    \n",
    "    # Devolver la fecha\n",
    "    return fecha_excel"
   ]
  },
  {
   "cell_type": "code",
   "execution_count": 5,
   "id": "5f4cc4e3",
   "metadata": {
    "ExecuteTime": {
     "end_time": "2023-12-01T22:06:44.193927Z",
     "start_time": "2023-12-01T22:06:43.671073Z"
    }
   },
   "outputs": [],
   "source": [
    "cnx = pymysql.connect(host='159.89.90.197', port=3306, user='antonio_diaz', passwd=\"4nT0ni_0.dZ\",\n",
    "                           charset='utf8',db = 'volana')"
   ]
  },
  {
   "cell_type": "code",
   "execution_count": 58,
   "id": "24cbca83",
   "metadata": {
    "ExecuteTime": {
     "end_time": "2023-12-01T22:22:24.982203Z",
     "start_time": "2023-12-01T22:22:13.899418Z"
    }
   },
   "outputs": [],
   "source": [
    "sql = \"\"\"\n",
    "select * from\n",
    "cartera_distribuidor\n",
    "where fecha = '2023-11-30'\n",
    "\"\"\"\n",
    "cursor = cnx.cursor()\n",
    "cursor.execute(sql)\n",
    "data_cartera = cursor.fetchall()\n",
    "data_cartera = pd.DataFrame(data_cartera, columns=[i[0] for i in cursor.description])"
   ]
  },
  {
   "cell_type": "code",
   "execution_count": 59,
   "id": "8617be99",
   "metadata": {
    "ExecuteTime": {
     "end_time": "2023-12-01T22:22:25.107886Z",
     "start_time": "2023-12-01T22:22:25.095569Z"
    }
   },
   "outputs": [
    {
     "data": {
      "text/plain": [
       "16836"
      ]
     },
     "execution_count": 59,
     "metadata": {},
     "output_type": "execute_result"
    }
   ],
   "source": [
    "data_cartera['id_distribuidor'].nunique()"
   ]
  },
  {
   "cell_type": "code",
   "execution_count": 60,
   "id": "cc2f03d0",
   "metadata": {
    "ExecuteTime": {
     "end_time": "2023-12-01T22:22:25.240576Z",
     "start_time": "2023-12-01T22:22:25.225524Z"
    }
   },
   "outputs": [],
   "source": [
    "data_riesgo_ant = pd.read_csv(\"./data/riesgo_cartera_10_31_23.csv\")"
   ]
  },
  {
   "cell_type": "code",
   "execution_count": 61,
   "id": "ab0a87da",
   "metadata": {
    "ExecuteTime": {
     "end_time": "2023-12-01T22:22:25.358621Z",
     "start_time": "2023-12-01T22:22:25.344161Z"
    }
   },
   "outputs": [
    {
     "data": {
      "text/plain": [
       "15761"
      ]
     },
     "execution_count": 61,
     "metadata": {},
     "output_type": "execute_result"
    }
   ],
   "source": [
    "data_riesgo_ant['ID DIST.'].nunique()"
   ]
  },
  {
   "cell_type": "code",
   "execution_count": 62,
   "id": "6613c5e8",
   "metadata": {
    "ExecuteTime": {
     "end_time": "2023-12-01T22:22:25.474528Z",
     "start_time": "2023-12-01T22:22:25.459503Z"
    }
   },
   "outputs": [],
   "source": [
    "faltantes = np.setdiff1d(data_cartera['id_distribuidor'].unique(), data_riesgo_ant['ID DIST.'].unique())"
   ]
  },
  {
   "cell_type": "code",
   "execution_count": 63,
   "id": "4f69cffe",
   "metadata": {
    "ExecuteTime": {
     "end_time": "2023-12-01T22:22:25.588759Z",
     "start_time": "2023-12-01T22:22:25.576497Z"
    }
   },
   "outputs": [
    {
     "data": {
      "text/html": [
       "<div>\n",
       "<style scoped>\n",
       "    .dataframe tbody tr th:only-of-type {\n",
       "        vertical-align: middle;\n",
       "    }\n",
       "\n",
       "    .dataframe tbody tr th {\n",
       "        vertical-align: top;\n",
       "    }\n",
       "\n",
       "    .dataframe thead th {\n",
       "        text-align: right;\n",
       "    }\n",
       "</style>\n",
       "<table border=\"1\" class=\"dataframe\">\n",
       "  <thead>\n",
       "    <tr style=\"text-align: right;\">\n",
       "      <th></th>\n",
       "      <th>ID DIST.</th>\n",
       "      <th>probs</th>\n",
       "      <th>grupo</th>\n",
       "    </tr>\n",
       "  </thead>\n",
       "  <tbody>\n",
       "    <tr>\n",
       "      <th>0</th>\n",
       "      <td>1</td>\n",
       "      <td>80.19</td>\n",
       "      <td>2</td>\n",
       "    </tr>\n",
       "    <tr>\n",
       "      <th>1</th>\n",
       "      <td>19</td>\n",
       "      <td>8.85</td>\n",
       "      <td>10</td>\n",
       "    </tr>\n",
       "    <tr>\n",
       "      <th>2</th>\n",
       "      <td>29</td>\n",
       "      <td>7.95</td>\n",
       "      <td>10</td>\n",
       "    </tr>\n",
       "    <tr>\n",
       "      <th>3</th>\n",
       "      <td>38</td>\n",
       "      <td>17.77</td>\n",
       "      <td>9</td>\n",
       "    </tr>\n",
       "    <tr>\n",
       "      <th>4</th>\n",
       "      <td>51</td>\n",
       "      <td>98.70</td>\n",
       "      <td>1</td>\n",
       "    </tr>\n",
       "    <tr>\n",
       "      <th>...</th>\n",
       "      <td>...</td>\n",
       "      <td>...</td>\n",
       "      <td>...</td>\n",
       "    </tr>\n",
       "    <tr>\n",
       "      <th>15756</th>\n",
       "      <td>166935</td>\n",
       "      <td>53.96</td>\n",
       "      <td>5</td>\n",
       "    </tr>\n",
       "    <tr>\n",
       "      <th>15757</th>\n",
       "      <td>166945</td>\n",
       "      <td>26.13</td>\n",
       "      <td>8</td>\n",
       "    </tr>\n",
       "    <tr>\n",
       "      <th>15758</th>\n",
       "      <td>166991</td>\n",
       "      <td>51.45</td>\n",
       "      <td>5</td>\n",
       "    </tr>\n",
       "    <tr>\n",
       "      <th>15759</th>\n",
       "      <td>167004</td>\n",
       "      <td>79.69</td>\n",
       "      <td>2</td>\n",
       "    </tr>\n",
       "    <tr>\n",
       "      <th>15760</th>\n",
       "      <td>167010</td>\n",
       "      <td>64.89</td>\n",
       "      <td>3</td>\n",
       "    </tr>\n",
       "  </tbody>\n",
       "</table>\n",
       "<p>15761 rows × 3 columns</p>\n",
       "</div>"
      ],
      "text/plain": [
       "       ID DIST.  probs  grupo\n",
       "0             1  80.19      2\n",
       "1            19   8.85     10\n",
       "2            29   7.95     10\n",
       "3            38  17.77      9\n",
       "4            51  98.70      1\n",
       "...         ...    ...    ...\n",
       "15756    166935  53.96      5\n",
       "15757    166945  26.13      8\n",
       "15758    166991  51.45      5\n",
       "15759    167004  79.69      2\n",
       "15760    167010  64.89      3\n",
       "\n",
       "[15761 rows x 3 columns]"
      ]
     },
     "execution_count": 63,
     "metadata": {},
     "output_type": "execute_result"
    }
   ],
   "source": [
    "data_riesgo_ant"
   ]
  },
  {
   "cell_type": "code",
   "execution_count": 64,
   "id": "3ba3cae7",
   "metadata": {
    "ExecuteTime": {
     "end_time": "2023-12-01T22:22:27.514809Z",
     "start_time": "2023-12-01T22:22:27.271842Z"
    }
   },
   "outputs": [],
   "source": [
    "data_cartera['capital'] = data_cartera.apply(lambda row: row['total_pagado_capital'] + row['saldo_pendiente_capital'],\n",
    "                                             axis = 1)"
   ]
  },
  {
   "cell_type": "code",
   "execution_count": 65,
   "id": "6f54878a",
   "metadata": {
    "ExecuteTime": {
     "end_time": "2023-12-01T22:22:27.711025Z",
     "start_time": "2023-12-01T22:22:27.625897Z"
    }
   },
   "outputs": [],
   "source": [
    "data_cosecha = data_cartera.groupby('id_distribuidor').agg({'capital':'sum', 'saldo_pendiente_capital':'sum'}).reset_index()\n",
    "data_cosecha = data_cosecha.loc[[k in faltantes for k in data_cosecha['id_distribuidor']]]"
   ]
  },
  {
   "cell_type": "code",
   "execution_count": 66,
   "id": "d4398991",
   "metadata": {
    "ExecuteTime": {
     "end_time": "2023-12-01T22:22:28.437545Z",
     "start_time": "2023-12-01T22:22:28.426656Z"
    }
   },
   "outputs": [],
   "source": [
    "data_cosecha['perdida_cosecha'] = 1 - (data_cosecha['capital'] - data_cosecha['saldo_pendiente_capital']) /  data_cosecha['capital']"
   ]
  },
  {
   "cell_type": "code",
   "execution_count": 67,
   "id": "24bb14a3",
   "metadata": {
    "ExecuteTime": {
     "end_time": "2023-12-01T22:22:28.653750Z",
     "start_time": "2023-12-01T22:22:28.630512Z"
    }
   },
   "outputs": [],
   "source": [
    "ids_sin_suficiente_info = data_cartera.loc[data_cartera.fecha_aut_linea > '2023-11-01'].id_distribuidor"
   ]
  },
  {
   "cell_type": "code",
   "execution_count": null,
   "id": "7da49f34",
   "metadata": {
    "ExecuteTime": {
     "end_time": "2023-12-01T22:24:05.452083Z",
     "start_time": "2023-12-01T22:24:05.442892Z"
    }
   },
   "outputs": [],
   "source": []
  },
  {
   "cell_type": "code",
   "execution_count": 68,
   "id": "1f138637",
   "metadata": {
    "ExecuteTime": {
     "end_time": "2023-12-01T22:22:29.669519Z",
     "start_time": "2023-12-01T22:22:29.657865Z"
    }
   },
   "outputs": [
    {
     "data": {
      "text/plain": [
       "0.5687556595999544"
      ]
     },
     "execution_count": 68,
     "metadata": {},
     "output_type": "execute_result"
    }
   ],
   "source": [
    "data_cosecha.perdida_cosecha.mean()"
   ]
  },
  {
   "cell_type": "code",
   "execution_count": 69,
   "id": "52fe9bbb",
   "metadata": {
    "ExecuteTime": {
     "end_time": "2023-12-01T22:22:30.045841Z",
     "start_time": "2023-12-01T22:22:30.023959Z"
    }
   },
   "outputs": [],
   "source": [
    "data_cosecha = data_cosecha[['id_distribuidor', 'perdida_cosecha']]"
   ]
  },
  {
   "cell_type": "code",
   "execution_count": 70,
   "id": "a06da478",
   "metadata": {
    "ExecuteTime": {
     "end_time": "2023-12-01T22:22:30.437931Z",
     "start_time": "2023-12-01T22:22:30.423262Z"
    }
   },
   "outputs": [],
   "source": [
    "#data_cartera.loc[data_cartera['ID DIST.'] ==  40991]"
   ]
  },
  {
   "cell_type": "code",
   "execution_count": 71,
   "id": "0c6adb50",
   "metadata": {
    "ExecuteTime": {
     "end_time": "2023-12-01T22:22:31.350681Z",
     "start_time": "2023-12-01T22:22:31.335826Z"
    }
   },
   "outputs": [],
   "source": [
    "def setcut(cosecha_):\n",
    "    #p = p*100\n",
    "    cosecha_ *= 100\n",
    "\n",
    "    grupo = 1\n",
    "    cuts = np.array(sorted([100, 81.09, 72.06, 63.19, 54.27, 45.11, 36.10, 27.47, 18.17, 9.05, 0.00]))\n",
    "    cosechas = np.array(sorted([0, 1.54, 3.4, 4.97, 7.38, 10.69, 11.87, 12.35, 12.68, 20.33, 22.69], reverse = True))\n",
    "\n",
    "    #cuts = np.array(sorted([1, 0.9919, 0.975, 0.953, 0.9196, 0.8717, 0.7832, 0.6737, 0.5072, .2738]))*100\n",
    "    #cosechas = np.array(sorted([2.31, 2.63, 3.1, 3.12, 3.94, 4.2, 4.33, 5.15, 5.71, 59.82], reverse = True))\n",
    "\n",
    "    enter_ = False\n",
    "    for cosecha in cosechas:\n",
    "        if cosecha <= cosecha_:\n",
    "\n",
    "            enter_ = True\n",
    "            break\n",
    "\n",
    "    if enter_:\n",
    "        grupo = np.where(cosechas == cosecha)[0][0] \n",
    "\n",
    "    return grupo, cuts[grupo], cosechas[grupo]"
   ]
  },
  {
   "cell_type": "code",
   "execution_count": 72,
   "id": "3eaa8280",
   "metadata": {
    "ExecuteTime": {
     "end_time": "2023-12-01T22:22:31.880655Z",
     "start_time": "2023-12-01T22:22:31.869430Z"
    }
   },
   "outputs": [],
   "source": [
    "def setcut_prob(p, grupo_ = True):\n",
    "    p = p*100\n",
    "    cuts = np.array(sorted([100, 81.09, 72.06, 63.19, 54.27, 45.11, 36.10, 27.47, 18.17, 9.05, 0.00]))\n",
    "    cosechas = np.array(sorted([1.54, 3.4, 4.97, 7.38, 10.69, 11.87, 12.35, 12.68, 20.33, 22.69], reverse = True))\n",
    "    \n",
    "    #cuts = np.array(sorted([1, 0.9919, 0.975, 0.953, 0.9196, 0.8717, 0.7832, 0.6737, 0.5072, .2738]))*100\n",
    "    #cosechas = np.array(sorted([2.31, 2.63, 3.1, 3.12, 3.94, 4.2, 4.33, 5.15, 5.71, 59.82], reverse = True))\n",
    "    \n",
    "    for cut in cuts:\n",
    "        if cut > p:\n",
    "            break\n",
    "            \n",
    "    grupo = np.where(cuts == cut)[0][0] \n",
    "    if grupo_:\n",
    "        return grupo\n",
    "    else:\n",
    "        return cosechas[grupo - 1]"
   ]
  },
  {
   "cell_type": "code",
   "execution_count": 73,
   "id": "1a75fa36",
   "metadata": {
    "ExecuteTime": {
     "end_time": "2023-12-01T22:22:32.799376Z",
     "start_time": "2023-12-01T22:22:32.789620Z"
    }
   },
   "outputs": [
    {
     "data": {
      "text/plain": [
       "(0, 0.0, 22.69)"
      ]
     },
     "execution_count": 73,
     "metadata": {},
     "output_type": "execute_result"
    }
   ],
   "source": [
    "setcut(1.6)"
   ]
  },
  {
   "cell_type": "code",
   "execution_count": 74,
   "id": "f84aa91b",
   "metadata": {
    "ExecuteTime": {
     "end_time": "2023-12-01T22:22:34.313079Z",
     "start_time": "2023-12-01T22:22:34.295195Z"
    }
   },
   "outputs": [],
   "source": [
    "_, data_cosecha['probs'], data_cosecha['cosecha_canasta'] = zip(*data_cosecha.perdida_cosecha.apply(setcut))"
   ]
  },
  {
   "cell_type": "code",
   "execution_count": 75,
   "id": "45a1a78e",
   "metadata": {
    "ExecuteTime": {
     "end_time": "2023-12-01T22:22:34.893252Z",
     "start_time": "2023-12-01T22:22:34.869300Z"
    }
   },
   "outputs": [
    {
     "data": {
      "text/html": [
       "<div>\n",
       "<style scoped>\n",
       "    .dataframe tbody tr th:only-of-type {\n",
       "        vertical-align: middle;\n",
       "    }\n",
       "\n",
       "    .dataframe tbody tr th {\n",
       "        vertical-align: top;\n",
       "    }\n",
       "\n",
       "    .dataframe thead th {\n",
       "        text-align: right;\n",
       "    }\n",
       "</style>\n",
       "<table border=\"1\" class=\"dataframe\">\n",
       "  <thead>\n",
       "    <tr style=\"text-align: right;\">\n",
       "      <th></th>\n",
       "      <th>sucursal</th>\n",
       "      <th>id_coordinador</th>\n",
       "      <th>coordinador</th>\n",
       "      <th>id_asesor</th>\n",
       "      <th>asesor</th>\n",
       "      <th>id_distribuidor</th>\n",
       "      <th>distribuidor</th>\n",
       "      <th>fecha_aut_linea</th>\n",
       "      <th>fecha_ult_incremento</th>\n",
       "      <th>no_incrementos</th>\n",
       "      <th>...</th>\n",
       "      <th>moratorio_vencido</th>\n",
       "      <th>seguro_distribuidor_vencido</th>\n",
       "      <th>seguro_asociado_vencido</th>\n",
       "      <th>linea_bloqueada</th>\n",
       "      <th>id_cliente</th>\n",
       "      <th>tipo_distribuidor_origen</th>\n",
       "      <th>fecha_cambio_tipo_distribuidor</th>\n",
       "      <th>fecha_consulta_cc_1</th>\n",
       "      <th>fecha_consulta_cc_2</th>\n",
       "      <th>capital</th>\n",
       "    </tr>\n",
       "  </thead>\n",
       "  <tbody>\n",
       "    <tr>\n",
       "      <th>16831</th>\n",
       "      <td>CHIMALHUACAN 2</td>\n",
       "      <td>33544</td>\n",
       "      <td>FERNANDO ORTIZ CORONEL</td>\n",
       "      <td>30967</td>\n",
       "      <td>LIZBETH GUADALUPE MUJICA HERNANDEZ</td>\n",
       "      <td>171193</td>\n",
       "      <td>LAS PRINCESAS 2 - REESTRUCTURA</td>\n",
       "      <td>2023-11-30</td>\n",
       "      <td>NaT</td>\n",
       "      <td>0</td>\n",
       "      <td>...</td>\n",
       "      <td>NaN</td>\n",
       "      <td>NaN</td>\n",
       "      <td>NaN</td>\n",
       "      <td>None</td>\n",
       "      <td>None</td>\n",
       "      <td>None</td>\n",
       "      <td>NaT</td>\n",
       "      <td>NaT</td>\n",
       "      <td>NaT</td>\n",
       "      <td>44721.73</td>\n",
       "    </tr>\n",
       "  </tbody>\n",
       "</table>\n",
       "<p>1 rows × 104 columns</p>\n",
       "</div>"
      ],
      "text/plain": [
       "             sucursal  id_coordinador             coordinador  id_asesor  \\\n",
       "16831  CHIMALHUACAN 2           33544  FERNANDO ORTIZ CORONEL      30967   \n",
       "\n",
       "                                   asesor  id_distribuidor  \\\n",
       "16831  LIZBETH GUADALUPE MUJICA HERNANDEZ           171193   \n",
       "\n",
       "                         distribuidor fecha_aut_linea fecha_ult_incremento  \\\n",
       "16831  LAS PRINCESAS 2 - REESTRUCTURA      2023-11-30                  NaT   \n",
       "\n",
       "       no_incrementos  ...  moratorio_vencido  seguro_distribuidor_vencido  \\\n",
       "16831               0  ...                NaN                          NaN   \n",
       "\n",
       "       seguro_asociado_vencido linea_bloqueada  id_cliente  \\\n",
       "16831                      NaN            None        None   \n",
       "\n",
       "       tipo_distribuidor_origen  fecha_cambio_tipo_distribuidor  \\\n",
       "16831                      None                             NaT   \n",
       "\n",
       "       fecha_consulta_cc_1  fecha_consulta_cc_2   capital  \n",
       "16831                  NaT                  NaT  44721.73  \n",
       "\n",
       "[1 rows x 104 columns]"
      ]
     },
     "execution_count": 75,
     "metadata": {},
     "output_type": "execute_result"
    }
   ],
   "source": [
    "data_cartera.query(\"id_distribuidor == 171193\")#[['capital', 'total_pagado_capital', 'saldo_pendiente_capital']]"
   ]
  },
  {
   "cell_type": "code",
   "execution_count": 83,
   "id": "780321b3",
   "metadata": {
    "ExecuteTime": {
     "end_time": "2023-12-01T22:23:10.303517Z",
     "start_time": "2023-12-01T22:23:10.289388Z"
    }
   },
   "outputs": [
    {
     "data": {
      "text/html": [
       "<div>\n",
       "<style scoped>\n",
       "    .dataframe tbody tr th:only-of-type {\n",
       "        vertical-align: middle;\n",
       "    }\n",
       "\n",
       "    .dataframe tbody tr th {\n",
       "        vertical-align: top;\n",
       "    }\n",
       "\n",
       "    .dataframe thead th {\n",
       "        text-align: right;\n",
       "    }\n",
       "</style>\n",
       "<table border=\"1\" class=\"dataframe\">\n",
       "  <thead>\n",
       "    <tr style=\"text-align: right;\">\n",
       "      <th></th>\n",
       "      <th>id_distribuidor</th>\n",
       "      <th>probs</th>\n",
       "      <th>cosecha_canasta</th>\n",
       "      <th>grupo</th>\n",
       "    </tr>\n",
       "  </thead>\n",
       "  <tbody>\n",
       "    <tr>\n",
       "      <th>677</th>\n",
       "      <td>13077</td>\n",
       "      <td>0.9130</td>\n",
       "      <td>1.54</td>\n",
       "      <td>10</td>\n",
       "    </tr>\n",
       "    <tr>\n",
       "      <th>683</th>\n",
       "      <td>13186</td>\n",
       "      <td>0.6357</td>\n",
       "      <td>4.97</td>\n",
       "      <td>8</td>\n",
       "    </tr>\n",
       "    <tr>\n",
       "      <th>846</th>\n",
       "      <td>16665</td>\n",
       "      <td>0.9146</td>\n",
       "      <td>1.54</td>\n",
       "      <td>10</td>\n",
       "    </tr>\n",
       "    <tr>\n",
       "      <th>855</th>\n",
       "      <td>16824</td>\n",
       "      <td>0.9400</td>\n",
       "      <td>1.54</td>\n",
       "      <td>10</td>\n",
       "    </tr>\n",
       "  </tbody>\n",
       "</table>\n",
       "</div>"
      ],
      "text/plain": [
       "     id_distribuidor   probs  cosecha_canasta  grupo\n",
       "677            13077  0.9130             1.54     10\n",
       "683            13186  0.6357             4.97      8\n",
       "846            16665  0.9146             1.54     10\n",
       "855            16824  0.9400             1.54     10"
      ]
     },
     "execution_count": 83,
     "metadata": {},
     "output_type": "execute_result"
    }
   ],
   "source": [
    "data_cosecha.loc[[k in ids_sin_suficiente_info for k in data_cosecha.id_distribuidor]]"
   ]
  },
  {
   "cell_type": "code",
   "execution_count": 77,
   "id": "35f5aa99",
   "metadata": {
    "ExecuteTime": {
     "end_time": "2023-12-01T22:22:46.943922Z",
     "start_time": "2023-12-01T22:22:46.936083Z"
    }
   },
   "outputs": [],
   "source": [
    "def move_prob(val):\n",
    "    val /= 100\n",
    "    if val == 0:\n",
    "        val += np.random.randint(0, 200)/1000\n",
    "    elif val == 1:\n",
    "        val -= np.random.randint(0, 200)/1000\n",
    "    else:\n",
    "        val += np.random.randint(-200, 200)/1000\n",
    "    return val"
   ]
  },
  {
   "cell_type": "code",
   "execution_count": 78,
   "id": "05faed6d",
   "metadata": {
    "ExecuteTime": {
     "end_time": "2023-12-01T22:22:48.225153Z",
     "start_time": "2023-12-01T22:22:48.208761Z"
    }
   },
   "outputs": [],
   "source": [
    "data_cosecha.probs = data_cosecha.probs.apply(move_prob)"
   ]
  },
  {
   "cell_type": "code",
   "execution_count": null,
   "id": "59a948e1",
   "metadata": {},
   "outputs": [],
   "source": []
  },
  {
   "cell_type": "code",
   "execution_count": 79,
   "id": "c3f1f901",
   "metadata": {
    "ExecuteTime": {
     "end_time": "2023-12-01T22:22:50.098251Z",
     "start_time": "2023-12-01T22:22:50.079628Z"
    }
   },
   "outputs": [],
   "source": [
    "data_cosecha['grupo'] = data_cosecha.probs.apply(setcut_prob, grupo_ = True)"
   ]
  },
  {
   "cell_type": "code",
   "execution_count": 80,
   "id": "5ec21198",
   "metadata": {
    "ExecuteTime": {
     "end_time": "2023-12-01T22:22:50.396749Z",
     "start_time": "2023-12-01T22:22:50.370600Z"
    }
   },
   "outputs": [],
   "source": [
    "data_cosecha['cosecha_canasta'] = data_cosecha.probs.apply(setcut_prob, grupo_ = False)"
   ]
  },
  {
   "cell_type": "code",
   "execution_count": 81,
   "id": "faa6dabf",
   "metadata": {
    "ExecuteTime": {
     "end_time": "2023-12-01T22:22:50.620712Z",
     "start_time": "2023-12-01T22:22:50.605932Z"
    }
   },
   "outputs": [],
   "source": [
    "data_cosecha.drop(\"perdida_cosecha\", axis = 1, inplace=True)"
   ]
  },
  {
   "cell_type": "code",
   "execution_count": 82,
   "id": "d0fd9e74",
   "metadata": {
    "ExecuteTime": {
     "end_time": "2023-12-01T22:22:51.245537Z",
     "start_time": "2023-12-01T22:22:51.231000Z"
    }
   },
   "outputs": [
    {
     "data": {
      "text/html": [
       "<div>\n",
       "<style scoped>\n",
       "    .dataframe tbody tr th:only-of-type {\n",
       "        vertical-align: middle;\n",
       "    }\n",
       "\n",
       "    .dataframe tbody tr th {\n",
       "        vertical-align: top;\n",
       "    }\n",
       "\n",
       "    .dataframe thead th {\n",
       "        text-align: right;\n",
       "    }\n",
       "</style>\n",
       "<table border=\"1\" class=\"dataframe\">\n",
       "  <thead>\n",
       "    <tr style=\"text-align: right;\">\n",
       "      <th></th>\n",
       "      <th>id_distribuidor</th>\n",
       "      <th>probs</th>\n",
       "      <th>cosecha_canasta</th>\n",
       "      <th>grupo</th>\n",
       "    </tr>\n",
       "  </thead>\n",
       "  <tbody>\n",
       "    <tr>\n",
       "      <th>489</th>\n",
       "      <td>9006</td>\n",
       "      <td>0.1930</td>\n",
       "      <td>12.68</td>\n",
       "      <td>3</td>\n",
       "    </tr>\n",
       "    <tr>\n",
       "      <th>539</th>\n",
       "      <td>10033</td>\n",
       "      <td>0.6009</td>\n",
       "      <td>7.38</td>\n",
       "      <td>7</td>\n",
       "    </tr>\n",
       "    <tr>\n",
       "      <th>540</th>\n",
       "      <td>10036</td>\n",
       "      <td>0.8036</td>\n",
       "      <td>3.40</td>\n",
       "      <td>9</td>\n",
       "    </tr>\n",
       "    <tr>\n",
       "      <th>542</th>\n",
       "      <td>10091</td>\n",
       "      <td>0.1677</td>\n",
       "      <td>20.33</td>\n",
       "      <td>2</td>\n",
       "    </tr>\n",
       "    <tr>\n",
       "      <th>558</th>\n",
       "      <td>10399</td>\n",
       "      <td>0.3751</td>\n",
       "      <td>11.87</td>\n",
       "      <td>5</td>\n",
       "    </tr>\n",
       "    <tr>\n",
       "      <th>...</th>\n",
       "      <td>...</td>\n",
       "      <td>...</td>\n",
       "      <td>...</td>\n",
       "      <td>...</td>\n",
       "    </tr>\n",
       "    <tr>\n",
       "      <th>16831</th>\n",
       "      <td>171193</td>\n",
       "      <td>0.0240</td>\n",
       "      <td>22.69</td>\n",
       "      <td>1</td>\n",
       "    </tr>\n",
       "    <tr>\n",
       "      <th>16832</th>\n",
       "      <td>171201</td>\n",
       "      <td>0.1570</td>\n",
       "      <td>20.33</td>\n",
       "      <td>2</td>\n",
       "    </tr>\n",
       "    <tr>\n",
       "      <th>16833</th>\n",
       "      <td>171203</td>\n",
       "      <td>0.0820</td>\n",
       "      <td>22.69</td>\n",
       "      <td>1</td>\n",
       "    </tr>\n",
       "    <tr>\n",
       "      <th>16834</th>\n",
       "      <td>171205</td>\n",
       "      <td>0.1510</td>\n",
       "      <td>20.33</td>\n",
       "      <td>2</td>\n",
       "    </tr>\n",
       "    <tr>\n",
       "      <th>16835</th>\n",
       "      <td>171207</td>\n",
       "      <td>0.1540</td>\n",
       "      <td>20.33</td>\n",
       "      <td>2</td>\n",
       "    </tr>\n",
       "  </tbody>\n",
       "</table>\n",
       "<p>1075 rows × 4 columns</p>\n",
       "</div>"
      ],
      "text/plain": [
       "       id_distribuidor   probs  cosecha_canasta  grupo\n",
       "489               9006  0.1930            12.68      3\n",
       "539              10033  0.6009             7.38      7\n",
       "540              10036  0.8036             3.40      9\n",
       "542              10091  0.1677            20.33      2\n",
       "558              10399  0.3751            11.87      5\n",
       "...                ...     ...              ...    ...\n",
       "16831           171193  0.0240            22.69      1\n",
       "16832           171201  0.1570            20.33      2\n",
       "16833           171203  0.0820            22.69      1\n",
       "16834           171205  0.1510            20.33      2\n",
       "16835           171207  0.1540            20.33      2\n",
       "\n",
       "[1075 rows x 4 columns]"
      ]
     },
     "execution_count": 82,
     "metadata": {},
     "output_type": "execute_result"
    }
   ],
   "source": [
    "data_cosecha"
   ]
  },
  {
   "cell_type": "code",
   "execution_count": 87,
   "id": "217b2625",
   "metadata": {
    "ExecuteTime": {
     "end_time": "2023-12-01T22:24:46.881716Z",
     "start_time": "2023-12-01T22:24:46.877186Z"
    }
   },
   "outputs": [],
   "source": [
    "data_riesgo_ant.probs = data_riesgo_ant.probs / 100"
   ]
  },
  {
   "cell_type": "code",
   "execution_count": 88,
   "id": "c9fd5809",
   "metadata": {
    "ExecuteTime": {
     "end_time": "2023-12-01T22:24:47.615401Z",
     "start_time": "2023-12-01T22:24:47.481068Z"
    }
   },
   "outputs": [],
   "source": [
    "data_riesgo_ant['cosecha_canasta'] = data_riesgo_ant.probs.apply(setcut_prob, grupo_ = False)"
   ]
  },
  {
   "cell_type": "code",
   "execution_count": 96,
   "id": "738c2cd9",
   "metadata": {
    "ExecuteTime": {
     "end_time": "2023-12-01T22:25:47.641544Z",
     "start_time": "2023-12-01T22:25:47.632554Z"
    }
   },
   "outputs": [],
   "source": [
    "data_riesgo_ant.rename(columns={'ID DIST.': 'id_distribuidor'}, inplace = True)\n",
    "data_riesgo_ant = data_riesgo_ant[['id_distribuidor', 'probs', 'grupo', 'cosecha_canasta']];"
   ]
  },
  {
   "cell_type": "code",
   "execution_count": 97,
   "id": "fdb62e51",
   "metadata": {
    "ExecuteTime": {
     "end_time": "2023-12-01T22:25:48.232659Z",
     "start_time": "2023-12-01T22:25:48.217820Z"
    }
   },
   "outputs": [],
   "source": [
    "data_cosecha = data_cosecha[['id_distribuidor', 'probs', 'grupo', 'cosecha_canasta']]"
   ]
  },
  {
   "cell_type": "code",
   "execution_count": 98,
   "id": "fbb290f4",
   "metadata": {
    "ExecuteTime": {
     "end_time": "2023-12-01T22:25:48.649867Z",
     "start_time": "2023-12-01T22:25:48.620545Z"
    }
   },
   "outputs": [],
   "source": [
    "data_final = pd.concat([data_riesgo_ant, data_cosecha])"
   ]
  },
  {
   "cell_type": "code",
   "execution_count": 99,
   "id": "60782b8c",
   "metadata": {
    "ExecuteTime": {
     "end_time": "2023-12-01T22:25:49.085147Z",
     "start_time": "2023-12-01T22:25:49.060247Z"
    }
   },
   "outputs": [
    {
     "data": {
      "text/html": [
       "<div>\n",
       "<style scoped>\n",
       "    .dataframe tbody tr th:only-of-type {\n",
       "        vertical-align: middle;\n",
       "    }\n",
       "\n",
       "    .dataframe tbody tr th {\n",
       "        vertical-align: top;\n",
       "    }\n",
       "\n",
       "    .dataframe thead th {\n",
       "        text-align: right;\n",
       "    }\n",
       "</style>\n",
       "<table border=\"1\" class=\"dataframe\">\n",
       "  <thead>\n",
       "    <tr style=\"text-align: right;\">\n",
       "      <th></th>\n",
       "      <th>id_distribuidor</th>\n",
       "      <th>probs</th>\n",
       "      <th>grupo</th>\n",
       "      <th>cosecha_canasta</th>\n",
       "    </tr>\n",
       "  </thead>\n",
       "  <tbody>\n",
       "    <tr>\n",
       "      <th>0</th>\n",
       "      <td>1</td>\n",
       "      <td>0.8019</td>\n",
       "      <td>2</td>\n",
       "      <td>3.40</td>\n",
       "    </tr>\n",
       "    <tr>\n",
       "      <th>1</th>\n",
       "      <td>19</td>\n",
       "      <td>0.0885</td>\n",
       "      <td>10</td>\n",
       "      <td>22.69</td>\n",
       "    </tr>\n",
       "    <tr>\n",
       "      <th>2</th>\n",
       "      <td>29</td>\n",
       "      <td>0.0795</td>\n",
       "      <td>10</td>\n",
       "      <td>22.69</td>\n",
       "    </tr>\n",
       "    <tr>\n",
       "      <th>3</th>\n",
       "      <td>38</td>\n",
       "      <td>0.1777</td>\n",
       "      <td>9</td>\n",
       "      <td>20.33</td>\n",
       "    </tr>\n",
       "    <tr>\n",
       "      <th>4</th>\n",
       "      <td>51</td>\n",
       "      <td>0.9870</td>\n",
       "      <td>1</td>\n",
       "      <td>1.54</td>\n",
       "    </tr>\n",
       "    <tr>\n",
       "      <th>...</th>\n",
       "      <td>...</td>\n",
       "      <td>...</td>\n",
       "      <td>...</td>\n",
       "      <td>...</td>\n",
       "    </tr>\n",
       "    <tr>\n",
       "      <th>16831</th>\n",
       "      <td>171193</td>\n",
       "      <td>0.0240</td>\n",
       "      <td>1</td>\n",
       "      <td>22.69</td>\n",
       "    </tr>\n",
       "    <tr>\n",
       "      <th>16832</th>\n",
       "      <td>171201</td>\n",
       "      <td>0.1570</td>\n",
       "      <td>2</td>\n",
       "      <td>20.33</td>\n",
       "    </tr>\n",
       "    <tr>\n",
       "      <th>16833</th>\n",
       "      <td>171203</td>\n",
       "      <td>0.0820</td>\n",
       "      <td>1</td>\n",
       "      <td>22.69</td>\n",
       "    </tr>\n",
       "    <tr>\n",
       "      <th>16834</th>\n",
       "      <td>171205</td>\n",
       "      <td>0.1510</td>\n",
       "      <td>2</td>\n",
       "      <td>20.33</td>\n",
       "    </tr>\n",
       "    <tr>\n",
       "      <th>16835</th>\n",
       "      <td>171207</td>\n",
       "      <td>0.1540</td>\n",
       "      <td>2</td>\n",
       "      <td>20.33</td>\n",
       "    </tr>\n",
       "  </tbody>\n",
       "</table>\n",
       "<p>16836 rows × 4 columns</p>\n",
       "</div>"
      ],
      "text/plain": [
       "       id_distribuidor   probs  grupo  cosecha_canasta\n",
       "0                    1  0.8019      2             3.40\n",
       "1                   19  0.0885     10            22.69\n",
       "2                   29  0.0795     10            22.69\n",
       "3                   38  0.1777      9            20.33\n",
       "4                   51  0.9870      1             1.54\n",
       "...                ...     ...    ...              ...\n",
       "16831           171193  0.0240      1            22.69\n",
       "16832           171201  0.1570      2            20.33\n",
       "16833           171203  0.0820      1            22.69\n",
       "16834           171205  0.1510      2            20.33\n",
       "16835           171207  0.1540      2            20.33\n",
       "\n",
       "[16836 rows x 4 columns]"
      ]
     },
     "execution_count": 99,
     "metadata": {},
     "output_type": "execute_result"
    }
   ],
   "source": [
    "data_final"
   ]
  },
  {
   "cell_type": "code",
   "execution_count": 100,
   "id": "fb6f058a",
   "metadata": {
    "ExecuteTime": {
     "end_time": "2023-12-01T22:26:07.079240Z",
     "start_time": "2023-12-01T22:26:07.005801Z"
    }
   },
   "outputs": [],
   "source": [
    "data_final.to_csv(\"./data/riesgo_cartera_11_30_23.csv\")"
   ]
  },
  {
   "cell_type": "code",
   "execution_count": 102,
   "id": "5e0bdf1b",
   "metadata": {
    "ExecuteTime": {
     "end_time": "2023-12-01T22:26:30.062111Z",
     "start_time": "2023-12-01T22:26:30.050969Z"
    }
   },
   "outputs": [
    {
     "data": {
      "text/html": [
       "<div>\n",
       "<style scoped>\n",
       "    .dataframe tbody tr th:only-of-type {\n",
       "        vertical-align: middle;\n",
       "    }\n",
       "\n",
       "    .dataframe tbody tr th {\n",
       "        vertical-align: top;\n",
       "    }\n",
       "\n",
       "    .dataframe thead th {\n",
       "        text-align: right;\n",
       "    }\n",
       "</style>\n",
       "<table border=\"1\" class=\"dataframe\">\n",
       "  <thead>\n",
       "    <tr style=\"text-align: right;\">\n",
       "      <th></th>\n",
       "      <th>id_distribuidor</th>\n",
       "      <th>probs</th>\n",
       "      <th>grupo</th>\n",
       "      <th>cosecha_canasta</th>\n",
       "    </tr>\n",
       "  </thead>\n",
       "  <tbody>\n",
       "    <tr>\n",
       "      <th>16831</th>\n",
       "      <td>171193</td>\n",
       "      <td>0.024</td>\n",
       "      <td>1</td>\n",
       "      <td>22.69</td>\n",
       "    </tr>\n",
       "  </tbody>\n",
       "</table>\n",
       "</div>"
      ],
      "text/plain": [
       "       id_distribuidor  probs  grupo  cosecha_canasta\n",
       "16831           171193  0.024      1            22.69"
      ]
     },
     "execution_count": 102,
     "metadata": {},
     "output_type": "execute_result"
    }
   ],
   "source": [
    "data_final.query('id_distribuidor==171193')"
   ]
  },
  {
   "cell_type": "code",
   "execution_count": 101,
   "id": "936576f4",
   "metadata": {
    "ExecuteTime": {
     "end_time": "2023-12-01T22:26:07.563337Z",
     "start_time": "2023-12-01T22:26:07.535182Z"
    }
   },
   "outputs": [
    {
     "data": {
      "text/html": [
       "<div>\n",
       "<style scoped>\n",
       "    .dataframe tbody tr th:only-of-type {\n",
       "        vertical-align: middle;\n",
       "    }\n",
       "\n",
       "    .dataframe tbody tr th {\n",
       "        vertical-align: top;\n",
       "    }\n",
       "\n",
       "    .dataframe thead th {\n",
       "        text-align: right;\n",
       "    }\n",
       "</style>\n",
       "<table border=\"1\" class=\"dataframe\">\n",
       "  <thead>\n",
       "    <tr style=\"text-align: right;\">\n",
       "      <th></th>\n",
       "      <th>id_distribuidor</th>\n",
       "      <th>probs</th>\n",
       "      <th>grupo</th>\n",
       "      <th>cosecha_canasta</th>\n",
       "    </tr>\n",
       "  </thead>\n",
       "  <tbody>\n",
       "    <tr>\n",
       "      <th>id_distribuidor</th>\n",
       "      <td>1.000000</td>\n",
       "      <td>-0.174859</td>\n",
       "      <td>0.001428</td>\n",
       "      <td>0.104476</td>\n",
       "    </tr>\n",
       "    <tr>\n",
       "      <th>probs</th>\n",
       "      <td>-0.174859</td>\n",
       "      <td>1.000000</td>\n",
       "      <td>-0.743561</td>\n",
       "      <td>-0.913958</td>\n",
       "    </tr>\n",
       "    <tr>\n",
       "      <th>grupo</th>\n",
       "      <td>0.001428</td>\n",
       "      <td>-0.743561</td>\n",
       "      <td>1.000000</td>\n",
       "      <td>0.724146</td>\n",
       "    </tr>\n",
       "    <tr>\n",
       "      <th>cosecha_canasta</th>\n",
       "      <td>0.104476</td>\n",
       "      <td>-0.913958</td>\n",
       "      <td>0.724146</td>\n",
       "      <td>1.000000</td>\n",
       "    </tr>\n",
       "  </tbody>\n",
       "</table>\n",
       "</div>"
      ],
      "text/plain": [
       "                 id_distribuidor     probs     grupo  cosecha_canasta\n",
       "id_distribuidor         1.000000 -0.174859  0.001428         0.104476\n",
       "probs                  -0.174859  1.000000 -0.743561        -0.913958\n",
       "grupo                   0.001428 -0.743561  1.000000         0.724146\n",
       "cosecha_canasta         0.104476 -0.913958  0.724146         1.000000"
      ]
     },
     "execution_count": 101,
     "metadata": {},
     "output_type": "execute_result"
    }
   ],
   "source": [
    "data_final.corr()"
   ]
  }
 ],
 "metadata": {
  "hide_input": false,
  "kernelspec": {
   "display_name": "Python 3 (ipykernel)",
   "language": "python",
   "name": "python3"
  },
  "language_info": {
   "codemirror_mode": {
    "name": "ipython",
    "version": 3
   },
   "file_extension": ".py",
   "mimetype": "text/x-python",
   "name": "python",
   "nbconvert_exporter": "python",
   "pygments_lexer": "ipython3",
   "version": "3.8.5"
  },
  "varInspector": {
   "cols": {
    "lenName": 16,
    "lenType": 16,
    "lenVar": 40
   },
   "kernels_config": {
    "python": {
     "delete_cmd_postfix": "",
     "delete_cmd_prefix": "del ",
     "library": "var_list.py",
     "varRefreshCmd": "print(var_dic_list())"
    },
    "r": {
     "delete_cmd_postfix": ") ",
     "delete_cmd_prefix": "rm(",
     "library": "var_list.r",
     "varRefreshCmd": "cat(var_dic_list()) "
    }
   },
   "types_to_exclude": [
    "module",
    "function",
    "builtin_function_or_method",
    "instance",
    "_Feature"
   ],
   "window_display": false
  }
 },
 "nbformat": 4,
 "nbformat_minor": 5
}
